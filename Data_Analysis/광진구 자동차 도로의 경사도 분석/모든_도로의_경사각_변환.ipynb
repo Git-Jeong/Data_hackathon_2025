{
 "cells": [
  {
   "cell_type": "markdown",
   "id": "b6194ab6-d848-48c2-b134-590c16ee7c7c",
   "metadata": {},
   "source": [
    "## 고도차이와 위치 데이터를 기반으로 경사'각' 계산"
   ]
  },
  {
   "cell_type": "code",
   "execution_count": 1,
   "id": "329de614-a78a-4932-9cd4-9e55efb841ee",
   "metadata": {},
   "outputs": [],
   "source": [
    "import pandas as pd"
   ]
  },
  {
   "cell_type": "code",
   "execution_count": 2,
   "id": "bcbdcb14-a7c6-4efd-820f-b7664697c619",
   "metadata": {},
   "outputs": [],
   "source": [
    "data_url = './make_file/자동차_도로_고도차이_포함_데이터.csv'"
   ]
  },
  {
   "cell_type": "code",
   "execution_count": 3,
   "id": "e9c5e31c-0ffa-4863-bc61-1186c9438e9e",
   "metadata": {},
   "outputs": [
    {
     "data": {
      "text/html": [
       "<div>\n",
       "<style scoped>\n",
       "    .dataframe tbody tr th:only-of-type {\n",
       "        vertical-align: middle;\n",
       "    }\n",
       "\n",
       "    .dataframe tbody tr th {\n",
       "        vertical-align: top;\n",
       "    }\n",
       "\n",
       "    .dataframe thead th {\n",
       "        text-align: right;\n",
       "    }\n",
       "</style>\n",
       "<table border=\"1\" class=\"dataframe\">\n",
       "  <thead>\n",
       "    <tr style=\"text-align: right;\">\n",
       "      <th></th>\n",
       "      <th>도로명</th>\n",
       "      <th>도로 종류</th>\n",
       "      <th>시작점_위도</th>\n",
       "      <th>시작점_경도</th>\n",
       "      <th>종료점_위도</th>\n",
       "      <th>종료점_경도</th>\n",
       "      <th>중앙점_위도</th>\n",
       "      <th>중앙점_경도</th>\n",
       "      <th>터널 여부</th>\n",
       "      <th>교량 여부</th>\n",
       "      <th>서비스 도로 여부</th>\n",
       "      <th>도로 ID</th>\n",
       "      <th>속도 제한</th>\n",
       "      <th>차선 수</th>\n",
       "      <th>일방통행 여부</th>\n",
       "      <th>교차로 여부</th>\n",
       "      <th>시작점_고도</th>\n",
       "      <th>종료점_고도</th>\n",
       "      <th>고도의_차이</th>\n",
       "    </tr>\n",
       "  </thead>\n",
       "  <tbody>\n",
       "    <tr>\n",
       "      <th>0</th>\n",
       "      <td>['광장앞지하차도', '광장로']</td>\n",
       "      <td>3차로</td>\n",
       "      <td>37.545509</td>\n",
       "      <td>127.097772</td>\n",
       "      <td>37.546747</td>\n",
       "      <td>127.102031</td>\n",
       "      <td>37.546128</td>\n",
       "      <td>127.099902</td>\n",
       "      <td>yes</td>\n",
       "      <td>NaN</td>\n",
       "      <td>NaN</td>\n",
       "      <td>[175320385, 175320419, 175320429]</td>\n",
       "      <td>NaN</td>\n",
       "      <td>NaN</td>\n",
       "      <td>NaN</td>\n",
       "      <td>NaN</td>\n",
       "      <td>39.830399</td>\n",
       "      <td>21.125259</td>\n",
       "      <td>18.705139</td>\n",
       "    </tr>\n",
       "  </tbody>\n",
       "</table>\n",
       "</div>"
      ],
      "text/plain": [
       "                  도로명 도로 종류     시작점_위도      시작점_경도     종료점_위도      종료점_경도  \\\n",
       "0  ['광장앞지하차도', '광장로']   3차로  37.545509  127.097772  37.546747  127.102031   \n",
       "\n",
       "      중앙점_위도      중앙점_경도 터널 여부 교량 여부  서비스 도로 여부  \\\n",
       "0  37.546128  127.099902   yes   NaN        NaN   \n",
       "\n",
       "                               도로 ID  속도 제한 차선 수 일방통행 여부  교차로 여부     시작점_고도  \\\n",
       "0  [175320385, 175320419, 175320429]    NaN  NaN     NaN     NaN  39.830399   \n",
       "\n",
       "      종료점_고도     고도의_차이  \n",
       "0  21.125259  18.705139  "
      ]
     },
     "execution_count": 3,
     "metadata": {},
     "output_type": "execute_result"
    }
   ],
   "source": [
    "data = pd.read_csv(data_url)\n",
    "data.head(1)"
   ]
  },
  {
   "cell_type": "code",
   "execution_count": 4,
   "id": "6a531bdd-8285-41a1-b642-d43b1204c083",
   "metadata": {},
   "outputs": [
    {
     "data": {
      "text/plain": [
       "Index(['도로명', '도로 종류', '시작점_위도', '시작점_경도', '종료점_위도', '종료점_경도', '중앙점_위도',\n",
       "       '중앙점_경도', '터널 여부', '교량 여부', '서비스 도로 여부', '도로 ID', '속도 제한', '차선 수',\n",
       "       '일방통행 여부', '교차로 여부', '시작점_고도', '종료점_고도', '고도의_차이'],\n",
       "      dtype='object')"
      ]
     },
     "execution_count": 4,
     "metadata": {},
     "output_type": "execute_result"
    }
   ],
   "source": [
    "data.columns"
   ]
  },
  {
   "cell_type": "code",
   "execution_count": 5,
   "id": "3cd30960-3b30-4d0f-b6f9-37abdc74711b",
   "metadata": {},
   "outputs": [],
   "source": [
    "# 예제 데이터 (배열)\n",
    "start_lat = data['시작점_위도'].to_list()\n",
    "start_lon = data['시작점_경도'].to_list()\n",
    "end_lat = data['종료점_위도'].to_list()\n",
    "end_lon = data['종료점_경도'].to_list()\n",
    "different_alt = data['고도의_차이'].to_list()"
   ]
  },
  {
   "cell_type": "code",
   "execution_count": 6,
   "id": "c8964556-23e2-40c8-b11a-fd94f60051c0",
   "metadata": {},
   "outputs": [
    {
     "name": "stdout",
     "output_type": "stream",
     "text": [
      "start_lat 길이 : 7216\n",
      "start_lon 길이 : 7216\n",
      "end_lat 길이 : 7216\n",
      "end_lon 길이 : 7216\n",
      "different_alt 길이 : 7216\n"
     ]
    }
   ],
   "source": [
    "print(f'start_lat 길이 : {len(start_lat)}')\n",
    "print(f'start_lon 길이 : {len(start_lon)}')\n",
    "print(f'end_lat 길이 : {len(end_lat)}')\n",
    "print(f'end_lon 길이 : {len(end_lon)}')\n",
    "print(f'different_alt 길이 : {len(different_alt)}')"
   ]
  },
  {
   "cell_type": "code",
   "execution_count": 7,
   "id": "c7f3a889-1480-4974-8df6-6a5eaa42e5fb",
   "metadata": {},
   "outputs": [],
   "source": [
    "import math\n",
    "\n",
    "# 지구 반지름 (미터)\n",
    "R = 6371000   "
   ]
  },
  {
   "cell_type": "code",
   "execution_count": 8,
   "id": "6e3ac8fd-b6a2-4c7b-af3d-3ee6c870d064",
   "metadata": {},
   "outputs": [],
   "source": [
    "# 결과 저장 리스트\n",
    "road_slope = []"
   ]
  },
  {
   "cell_type": "code",
   "execution_count": 9,
   "id": "8f3ade2b-e284-499e-9a31-27e229c40856",
   "metadata": {},
   "outputs": [
    {
     "name": "stdout",
     "output_type": "stream",
     "text": [
      "Point 1: d = 399.8650 m, h = 18.7051 m, θ = 2.6783°\n",
      "Point 2: d = 117.1956 m, h = 10.7009 m, θ = 5.2171°\n",
      "Point 3: d = 177.0293 m, h = 8.9262 m, θ = 2.8865°\n",
      "Point 4: d = 10.9304 m, h = 0.0540 m, θ = 0.2828°\n",
      "Point 5: d = 26.9216 m, h = 0.0700 m, θ = 0.1489°\n"
     ]
    }
   ],
   "source": [
    "for i in range(len(start_lat)):\n",
    "    # 위경도를 라디안으로 변환\n",
    "    lat1, lon1, lat2, lon2 = map(math.radians, [start_lat[i], start_lon[i], end_lat[i], end_lon[i]])\n",
    "\n",
    "    # 위도, 경도의 차이\n",
    "    dlat = lat2 - lat1\n",
    "    dlon = lon2 - lon1\n",
    "\n",
    "    # Haversine 공식으로 수평 거리(d) 계산\n",
    "    a = math.sin(dlat/2)**2 + math.cos(lat1) * math.cos(lat2) * math.sin(dlon/2)**2\n",
    "    c = 2 * math.atan2(math.sqrt(a), math.sqrt(1-a))\n",
    "    d = R * c  # 두 지점 간 수평 거리 (m)\n",
    "\n",
    "    # 고도 차이 (h)\n",
    "    h = different_alt[i]  \n",
    "\n",
    "    # 경사각(θ) 계산 (라디안 → 도 변환)\n",
    "    theta = math.degrees(math.atan2(h, d))\n",
    "\n",
    "    # 결과 저장\n",
    "    road_slope.append(theta)\n",
    "\n",
    "    if(i < 5) :\n",
    "        # 디버깅 출력\n",
    "        print(f\"Point {i + 1}: d = {d:.4f} m, h = {h:.4f} m, θ = {theta:.4f}°\")\n"
   ]
  },
  {
   "cell_type": "code",
   "execution_count": 10,
   "id": "41d9c405-300f-4ce9-aa55-f9e08b3cad8a",
   "metadata": {},
   "outputs": [
    {
     "name": "stdout",
     "output_type": "stream",
     "text": [
      "변환한 road_slope의 길이 : 7216\n"
     ]
    }
   ],
   "source": [
    "print(f'변환한 road_slope의 길이 : {len(road_slope)}')"
   ]
  },
  {
   "cell_type": "code",
   "execution_count": 11,
   "id": "be11b7d7-39f1-424f-9d90-96490b0cdb82",
   "metadata": {},
   "outputs": [],
   "source": [
    "new_add_df = pd.DataFrame({\n",
    "    '경사각' : road_slope\n",
    "})"
   ]
  },
  {
   "cell_type": "code",
   "execution_count": 12,
   "id": "b35031cc-ca59-418c-811c-9e9089ef39fd",
   "metadata": {},
   "outputs": [],
   "source": [
    "data['경사각'] = new_add_df"
   ]
  },
  {
   "cell_type": "code",
   "execution_count": 13,
   "id": "0c56ddc2-a61f-416e-af16-c93c48df555a",
   "metadata": {},
   "outputs": [
    {
     "data": {
      "text/plain": [
       "Index(['도로명', '도로 종류', '시작점_위도', '시작점_경도', '종료점_위도', '종료점_경도', '중앙점_위도',\n",
       "       '중앙점_경도', '터널 여부', '교량 여부', '서비스 도로 여부', '도로 ID', '속도 제한', '차선 수',\n",
       "       '일방통행 여부', '교차로 여부', '시작점_고도', '종료점_고도', '고도의_차이', '경사각'],\n",
       "      dtype='object')"
      ]
     },
     "execution_count": 13,
     "metadata": {},
     "output_type": "execute_result"
    }
   ],
   "source": [
    "data.columns"
   ]
  },
  {
   "cell_type": "code",
   "execution_count": 14,
   "id": "d6cd295b-e911-4204-b982-b1b371ecac9c",
   "metadata": {},
   "outputs": [],
   "source": [
    "new_order = [\n",
    "    '도로명', '도로 종류', '시작점_위도', '시작점_경도', '종료점_위도', '종료점_경도',\n",
    "    '중앙점_위도', '중앙점_경도', '시작점_고도', '종료점_고도', '고도의_차이', '경사각'\n",
    "] + [col for col in data.columns if col not in [\n",
    "    '도로명', '도로 종류', '시작점_위도', '시작점_경도', '종료점_위도', '종료점_경도',\n",
    "    '중앙점_위도', '중앙점_경도', '시작점_고도', '종료점_고도', '고도의_차이', '경사각'\n",
    "]]\n",
    "\n",
    "# 컬럼 순서 재배열\n",
    "data = data[new_order]\n"
   ]
  },
  {
   "cell_type": "code",
   "execution_count": 15,
   "id": "2cfd92e4-a825-464b-8a35-c479d86f7829",
   "metadata": {},
   "outputs": [
    {
     "data": {
      "text/plain": [
       "Index(['도로명', '도로 종류', '시작점_위도', '시작점_경도', '종료점_위도', '종료점_경도', '중앙점_위도',\n",
       "       '중앙점_경도', '시작점_고도', '종료점_고도', '고도의_차이', '경사각', '터널 여부', '교량 여부',\n",
       "       '서비스 도로 여부', '도로 ID', '속도 제한', '차선 수', '일방통행 여부', '교차로 여부'],\n",
       "      dtype='object')"
      ]
     },
     "execution_count": 15,
     "metadata": {},
     "output_type": "execute_result"
    }
   ],
   "source": [
    "data.columns"
   ]
  },
  {
   "cell_type": "code",
   "execution_count": 16,
   "id": "33438045-5027-48b7-84de-fd27589e6f29",
   "metadata": {},
   "outputs": [
    {
     "data": {
      "text/html": [
       "<div>\n",
       "<style scoped>\n",
       "    .dataframe tbody tr th:only-of-type {\n",
       "        vertical-align: middle;\n",
       "    }\n",
       "\n",
       "    .dataframe tbody tr th {\n",
       "        vertical-align: top;\n",
       "    }\n",
       "\n",
       "    .dataframe thead th {\n",
       "        text-align: right;\n",
       "    }\n",
       "</style>\n",
       "<table border=\"1\" class=\"dataframe\">\n",
       "  <thead>\n",
       "    <tr style=\"text-align: right;\">\n",
       "      <th></th>\n",
       "      <th>도로명</th>\n",
       "      <th>도로 종류</th>\n",
       "      <th>시작점_위도</th>\n",
       "      <th>시작점_경도</th>\n",
       "      <th>종료점_위도</th>\n",
       "      <th>종료점_경도</th>\n",
       "      <th>중앙점_위도</th>\n",
       "      <th>중앙점_경도</th>\n",
       "      <th>시작점_고도</th>\n",
       "      <th>종료점_고도</th>\n",
       "      <th>고도의_차이</th>\n",
       "      <th>경사각</th>\n",
       "      <th>터널 여부</th>\n",
       "      <th>교량 여부</th>\n",
       "      <th>서비스 도로 여부</th>\n",
       "      <th>도로 ID</th>\n",
       "      <th>속도 제한</th>\n",
       "      <th>차선 수</th>\n",
       "      <th>일방통행 여부</th>\n",
       "      <th>교차로 여부</th>\n",
       "    </tr>\n",
       "  </thead>\n",
       "  <tbody>\n",
       "    <tr>\n",
       "      <th>0</th>\n",
       "      <td>['광장앞지하차도', '광장로']</td>\n",
       "      <td>3차로</td>\n",
       "      <td>37.545509</td>\n",
       "      <td>127.097772</td>\n",
       "      <td>37.546747</td>\n",
       "      <td>127.102031</td>\n",
       "      <td>37.546128</td>\n",
       "      <td>127.099902</td>\n",
       "      <td>39.830399</td>\n",
       "      <td>21.125259</td>\n",
       "      <td>18.705139</td>\n",
       "      <td>2.678266</td>\n",
       "      <td>yes</td>\n",
       "      <td>NaN</td>\n",
       "      <td>NaN</td>\n",
       "      <td>[175320385, 175320419, 175320429]</td>\n",
       "      <td>NaN</td>\n",
       "      <td>NaN</td>\n",
       "      <td>NaN</td>\n",
       "      <td>NaN</td>\n",
       "    </tr>\n",
       "    <tr>\n",
       "      <th>1</th>\n",
       "      <td>워커힐로</td>\n",
       "      <td>주거지 도로</td>\n",
       "      <td>37.545509</td>\n",
       "      <td>127.097772</td>\n",
       "      <td>37.546539</td>\n",
       "      <td>127.098053</td>\n",
       "      <td>37.546024</td>\n",
       "      <td>127.097913</td>\n",
       "      <td>39.830399</td>\n",
       "      <td>50.531334</td>\n",
       "      <td>10.700935</td>\n",
       "      <td>5.217114</td>\n",
       "      <td>NaN</td>\n",
       "      <td>NaN</td>\n",
       "      <td>NaN</td>\n",
       "      <td>516647748</td>\n",
       "      <td>NaN</td>\n",
       "      <td>NaN</td>\n",
       "      <td>NaN</td>\n",
       "      <td>NaN</td>\n",
       "    </tr>\n",
       "    <tr>\n",
       "      <th>2</th>\n",
       "      <td>워커힐로</td>\n",
       "      <td>주거지 도로</td>\n",
       "      <td>37.545509</td>\n",
       "      <td>127.097772</td>\n",
       "      <td>37.543981</td>\n",
       "      <td>127.097208</td>\n",
       "      <td>37.544745</td>\n",
       "      <td>127.097490</td>\n",
       "      <td>39.830399</td>\n",
       "      <td>30.904158</td>\n",
       "      <td>8.926241</td>\n",
       "      <td>2.886546</td>\n",
       "      <td>NaN</td>\n",
       "      <td>NaN</td>\n",
       "      <td>NaN</td>\n",
       "      <td>516647752</td>\n",
       "      <td>NaN</td>\n",
       "      <td>NaN</td>\n",
       "      <td>NaN</td>\n",
       "      <td>NaN</td>\n",
       "    </tr>\n",
       "    <tr>\n",
       "      <th>3</th>\n",
       "      <td>아차산로</td>\n",
       "      <td>2차로</td>\n",
       "      <td>37.536546</td>\n",
       "      <td>127.083544</td>\n",
       "      <td>37.536555</td>\n",
       "      <td>127.083667</td>\n",
       "      <td>37.536550</td>\n",
       "      <td>127.083605</td>\n",
       "      <td>16.220312</td>\n",
       "      <td>16.274267</td>\n",
       "      <td>0.053955</td>\n",
       "      <td>0.282824</td>\n",
       "      <td>NaN</td>\n",
       "      <td>NaN</td>\n",
       "      <td>NaN</td>\n",
       "      <td>1199529109</td>\n",
       "      <td>50.0</td>\n",
       "      <td>3</td>\n",
       "      <td>True</td>\n",
       "      <td>NaN</td>\n",
       "    </tr>\n",
       "    <tr>\n",
       "      <th>4</th>\n",
       "      <td>자양로</td>\n",
       "      <td>주도로</td>\n",
       "      <td>37.536546</td>\n",
       "      <td>127.083544</td>\n",
       "      <td>37.536310</td>\n",
       "      <td>127.083613</td>\n",
       "      <td>37.536428</td>\n",
       "      <td>127.083579</td>\n",
       "      <td>16.220312</td>\n",
       "      <td>16.150337</td>\n",
       "      <td>0.069975</td>\n",
       "      <td>0.148924</td>\n",
       "      <td>NaN</td>\n",
       "      <td>NaN</td>\n",
       "      <td>NaN</td>\n",
       "      <td>1193259435</td>\n",
       "      <td>NaN</td>\n",
       "      <td>3</td>\n",
       "      <td>True</td>\n",
       "      <td>NaN</td>\n",
       "    </tr>\n",
       "  </tbody>\n",
       "</table>\n",
       "</div>"
      ],
      "text/plain": [
       "                  도로명   도로 종류     시작점_위도      시작점_경도     종료점_위도      종료점_경도  \\\n",
       "0  ['광장앞지하차도', '광장로']     3차로  37.545509  127.097772  37.546747  127.102031   \n",
       "1                워커힐로  주거지 도로  37.545509  127.097772  37.546539  127.098053   \n",
       "2                워커힐로  주거지 도로  37.545509  127.097772  37.543981  127.097208   \n",
       "3                아차산로     2차로  37.536546  127.083544  37.536555  127.083667   \n",
       "4                 자양로     주도로  37.536546  127.083544  37.536310  127.083613   \n",
       "\n",
       "      중앙점_위도      중앙점_경도     시작점_고도     종료점_고도     고도의_차이       경사각 터널 여부  \\\n",
       "0  37.546128  127.099902  39.830399  21.125259  18.705139  2.678266   yes   \n",
       "1  37.546024  127.097913  39.830399  50.531334  10.700935  5.217114   NaN   \n",
       "2  37.544745  127.097490  39.830399  30.904158   8.926241  2.886546   NaN   \n",
       "3  37.536550  127.083605  16.220312  16.274267   0.053955  0.282824   NaN   \n",
       "4  37.536428  127.083579  16.220312  16.150337   0.069975  0.148924   NaN   \n",
       "\n",
       "  교량 여부  서비스 도로 여부                              도로 ID  속도 제한 차선 수 일방통행 여부  \\\n",
       "0   NaN        NaN  [175320385, 175320419, 175320429]    NaN  NaN     NaN   \n",
       "1   NaN        NaN                          516647748    NaN  NaN     NaN   \n",
       "2   NaN        NaN                          516647752    NaN  NaN     NaN   \n",
       "3   NaN        NaN                         1199529109   50.0    3    True   \n",
       "4   NaN        NaN                         1193259435    NaN    3    True   \n",
       "\n",
       "   교차로 여부  \n",
       "0     NaN  \n",
       "1     NaN  \n",
       "2     NaN  \n",
       "3     NaN  \n",
       "4     NaN  "
      ]
     },
     "execution_count": 16,
     "metadata": {},
     "output_type": "execute_result"
    }
   ],
   "source": [
    "data.head(5)"
   ]
  },
  {
   "cell_type": "code",
   "execution_count": 17,
   "id": "16daaf5a-3588-421d-9880-7a5b60a010d2",
   "metadata": {},
   "outputs": [],
   "source": [
    "data.to_csv('./make_file/자동차_도로_고도차이(경사각)_포함_데이터.csv', encoding='euc-kr')"
   ]
  },
  {
   "cell_type": "code",
   "execution_count": null,
   "id": "70b623de-b474-424c-9a4f-17c125bfd421",
   "metadata": {},
   "outputs": [],
   "source": []
  },
  {
   "cell_type": "code",
   "execution_count": null,
   "id": "e699b509-5afa-4a3d-b5fd-d705441406e2",
   "metadata": {},
   "outputs": [],
   "source": []
  }
 ],
 "metadata": {
  "kernelspec": {
   "display_name": "Python 3 (ipykernel)",
   "language": "python",
   "name": "python3"
  },
  "language_info": {
   "codemirror_mode": {
    "name": "ipython",
    "version": 3
   },
   "file_extension": ".py",
   "mimetype": "text/x-python",
   "name": "python",
   "nbconvert_exporter": "python",
   "pygments_lexer": "ipython3",
   "version": "3.13.2"
  }
 },
 "nbformat": 4,
 "nbformat_minor": 5
}
