{
 "cells": [
  {
   "cell_type": "code",
   "execution_count": 2,
   "id": "2166c4c0-2d94-4a82-9bc4-a9dbdca166e9",
   "metadata": {},
   "outputs": [],
   "source": [
    "import os \n",
    "import subprocess"
   ]
  },
  {
   "cell_type": "code",
   "execution_count": 3,
   "id": "27fbe706-5e8b-4a19-b9f6-3945ad17c32f",
   "metadata": {},
   "outputs": [],
   "source": [
    "output_dir = './temp_nbconvert'"
   ]
  },
  {
   "cell_type": "code",
   "execution_count": 4,
   "id": "8b4cf149-07a0-47ce-bdd6-9845a78864e6",
   "metadata": {},
   "outputs": [
    {
     "name": "stdout",
     "output_type": "stream",
     "text": [
      "./temp_nbconvert 폴더가 있습니다.\n"
     ]
    }
   ],
   "source": [
    "is_dir = os.path.isdir(output_dir)\n",
    "if is_dir :\n",
    "    print(f'{output_dir} 폴더가 있습니다.')\n",
    "else :\n",
    "    try :\n",
    "        os.mkdir(output_dir)\n",
    "        print(f\"{output_dir} 파일 생성 완료\")\n",
    "    except :\n",
    "        print(f\"Err...\")"
   ]
  },
  {
   "cell_type": "code",
   "execution_count": 5,
   "id": "b4746273-80c4-4772-8f17-b9379f65db46",
   "metadata": {},
   "outputs": [
    {
     "name": "stderr",
     "output_type": "stream",
     "text": [
      "[NbConvertApp] Converting notebook 분할된_열선_데이터_통합.ipynb to notebook\n",
      "[NbConvertApp] Writing 16093 bytes to temp_nbconvert/분할된_열선_데이터_통합_nbconvert.ipynb\n",
      "[NbConvertApp] Converting notebook 서울시_열선_위경도_변환.ipynb to notebook\n",
      "[NbConvertApp] Writing 105134 bytes to temp_nbconvert/서울시_열선_위경도_변환_nbconvert.ipynb\n",
      "[NbConvertApp] Converting notebook 서울시_열선_경사각_분석.ipynb to notebook\n",
      "[NbConvertApp] Writing 33737 bytes to temp_nbconvert/서울시_열선_경사각_분석_nbconvert.ipynb\n",
      "[NbConvertApp] Converting notebook 서울시_열선_위치_검증.ipynb to notebook\n",
      "[NbConvertApp] Writing 1173628 bytes to temp_nbconvert/서울시_열선_위치_검증_nbconvert.ipynb\n",
      "[NbConvertApp] Converting notebook KDTree_기반_열선_취약시설_거리측정.ipynb to notebook\n"
     ]
    },
    {
     "name": "stdout",
     "output_type": "stream",
     "text": [
      "끝\n"
     ]
    },
    {
     "name": "stderr",
     "output_type": "stream",
     "text": [
      "[NbConvertApp] Writing 21483 bytes to temp_nbconvert/KDTree_기반_열선_취약시설_거리측정_nbconvert.ipynb\n"
     ]
    }
   ],
   "source": [
    "commands = [\n",
    "    f\"jupyter nbconvert --to notebook --execute --output {output_dir}/분할된_열선_데이터_통합_nbconvert.ipynb 분할된_열선_데이터_통합.ipynb\",\n",
    "    f\"jupyter nbconvert --to notebook --execute --output {output_dir}/서울시_열선_위경도_변환_nbconvert.ipynb 서울시_열선_위경도_변환.ipynb\",\n",
    "    f\"jupyter nbconvert --to notebook --execute --output {output_dir}/서울시_열선_경사각_분석_nbconvert.ipynb 서울시_열선_경사각_분석.ipynb\",\n",
    "    f\"jupyter nbconvert --to notebook --execute --output {output_dir}/서울시_열선_위치_검증_nbconvert.ipynb 서울시_열선_위치_검증.ipynb\",\n",
    "    f\"jupyter nbconvert --to notebook --execute --output {output_dir}/KDTree_기반_열선_취약시설_거리측정_nbconvert.ipynb KDTree_기반_열선_취약시설_거리측정.ipynb\",\n",
    "]\n",
    "\n",
    "try:\n",
    "    for cmd in commands:\n",
    "        subprocess.run(cmd, shell=True, check=True)\n",
    "    print(\"끝\")\n",
    "except subprocess.CalledProcessError as e:\n",
    "    print(f\"err: {e}\")\n"
   ]
  },
  {
   "cell_type": "code",
   "execution_count": null,
   "id": "a4a57fa9-3756-4d60-8786-0724d16187c8",
   "metadata": {},
   "outputs": [],
   "source": []
  }
 ],
 "metadata": {
  "kernelspec": {
   "display_name": "Python 3 (ipykernel)",
   "language": "python",
   "name": "python3"
  },
  "language_info": {
   "codemirror_mode": {
    "name": "ipython",
    "version": 3
   },
   "file_extension": ".py",
   "mimetype": "text/x-python",
   "name": "python",
   "nbconvert_exporter": "python",
   "pygments_lexer": "ipython3",
   "version": "3.13.2"
  }
 },
 "nbformat": 4,
 "nbformat_minor": 5
}
