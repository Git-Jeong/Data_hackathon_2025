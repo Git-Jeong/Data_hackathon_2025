{
 "cells": [
  {
   "cell_type": "markdown",
   "id": "a259dbc3-0294-403d-bec6-c31813945c2a",
   "metadata": {},
   "source": [
    "#### 입력 : ./data/서울시_열선_정리_(기점_종점)_{숫자}.csv\n",
    "#### 출력 : ./make_file/통합_서울시_열선_정리(기점_종점).csv"
   ]
  },
  {
   "cell_type": "code",
   "execution_count": 3,
   "id": "318f66d6-001e-4ae3-a464-07a95169b393",
   "metadata": {},
   "outputs": [],
   "source": [
    "import pandas as pd\n",
    "from tqdm import tqdm"
   ]
  },
  {
   "cell_type": "code",
   "execution_count": 26,
   "id": "ff7510b1-82ce-4cc6-be4c-b2bc7371b5a1",
   "metadata": {},
   "outputs": [],
   "source": [
    "url_0 = \"./data/서울시_열선_정리_(기점_종점)_0.csv\"\n",
    "url_1 = \"./data/서울시_열선_정리_(기점_종점)_1.csv\"\n",
    "url_2 = \"./data/서울시_열선_정리_(기점_종점)_2.csv\"\n",
    "url_3 = \"./data/서울시_열선_정리_(기점_종점)_3.csv\"\n",
    "url_4 = \"./data/서울시_열선_정리_(기점_종점)_4.xlsx\""
   ]
  },
  {
   "cell_type": "code",
   "execution_count": 27,
   "id": "a7944791-be44-434b-8b90-53ac72676211",
   "metadata": {},
   "outputs": [],
   "source": [
    "data_0 = pd.read_csv(url_0)\n",
    "data_1 = pd.read_csv(url_1)\n",
    "data_2 = pd.read_csv(url_2)\n",
    "data_3 = pd.read_csv(url_3)\n",
    "data_4 = pd.read_excel(url_4)"
   ]
  },
  {
   "cell_type": "code",
   "execution_count": 28,
   "id": "011a368e-c8db-46a6-9091-b378a2b396f4",
   "metadata": {},
   "outputs": [
    {
     "name": "stdout",
     "output_type": "stream",
     "text": [
      "Unnamed: 0    0\n",
      "도로명           0\n",
      "시작 지점         0\n",
      "끝 지점          0\n",
      "연장(m)         0\n",
      "dtype: int64\n",
      "---------------------\n",
      "Unnamed: 0    0\n",
      "설치구간          0\n",
      "연장(m)         0\n",
      "기점_주소         0\n",
      "종점_주소         0\n",
      "dtype: int64\n",
      "---------------------\n",
      "Unnamed: 0    0\n",
      "시작 지점         0\n",
      "끝 지점          0\n",
      "연장(m)         0\n",
      "dtype: int64\n",
      "---------------------\n",
      "설치구간     0\n",
      "연장(m)    0\n",
      "기점_주소    0\n",
      "종점_주소    0\n",
      "dtype: int64\n",
      "---------------------\n",
      "Unnamed: 0    0\n",
      "설치구간          0\n",
      "연장(m)         0\n",
      "기점 주소         0\n",
      "종점 주소         0\n",
      "dtype: int64\n"
     ]
    }
   ],
   "source": [
    "print(data_0.isnull().sum())\n",
    "print(\"---------------------\")\n",
    "print(data_1.isnull().sum())\n",
    "print(\"---------------------\")\n",
    "print(data_2.isnull().sum())\n",
    "print(\"---------------------\")\n",
    "print(data_3.isnull().sum())\n",
    "print(\"---------------------\")\n",
    "print(data_4.isnull().sum())"
   ]
  },
  {
   "cell_type": "code",
   "execution_count": 29,
   "id": "703af3df-7772-466c-a933-f11c828019eb",
   "metadata": {},
   "outputs": [
    {
     "name": "stdout",
     "output_type": "stream",
     "text": [
      "0번 파일의 길이 : 123\n",
      "1번 파일의 길이 : 43\n",
      "2번 파일의 길이 : 376\n",
      "3번 파일의 길이 : 41\n",
      "4번 파일의 길이 : 43\n"
     ]
    }
   ],
   "source": [
    "print(f\"0번 파일의 길이 : {len(data_0)}\")\n",
    "print(f\"1번 파일의 길이 : {len(data_1)}\")\n",
    "print(f\"2번 파일의 길이 : {len(data_2)}\")\n",
    "print(f\"3번 파일의 길이 : {len(data_3)}\")\n",
    "print(f\"4번 파일의 길이 : {len(data_4)}\")"
   ]
  },
  {
   "cell_type": "code",
   "execution_count": 30,
   "id": "04a3e329-037d-4476-935d-4e5387dbc490",
   "metadata": {},
   "outputs": [
    {
     "name": "stdout",
     "output_type": "stream",
     "text": [
      "Index(['Unnamed: 0', '도로명', '시작 지점', '끝 지점', '연장(m)'], dtype='object')\n",
      "Index(['Unnamed: 0', '설치구간', '연장(m)', '기점_주소', '종점_주소'], dtype='object')\n",
      "Index(['Unnamed: 0', '시작 지점', '끝 지점', '연장(m)'], dtype='object')\n",
      "Index(['설치구간', '연장(m)', '기점_주소', '종점_주소'], dtype='object')\n",
      "Index(['Unnamed: 0', '설치구간', '연장(m)', '기점 주소', '종점 주소'], dtype='object')\n"
     ]
    }
   ],
   "source": [
    "print(data_0.columns)\n",
    "print(data_1.columns)\n",
    "print(data_2.columns)\n",
    "print(data_3.columns)\n",
    "print(data_4.columns)"
   ]
  },
  {
   "cell_type": "code",
   "execution_count": 32,
   "id": "8bfcf29f-33eb-445b-907a-4d8987cdac28",
   "metadata": {},
   "outputs": [],
   "source": [
    "start_addr_0 = data_0['시작 지점'].to_list()\n",
    "start_addr_1 = data_1['기점_주소'].to_list()\n",
    "start_addr_2 = data_2['시작 지점'].to_list()\n",
    "start_addr_3 = data_3['기점_주소'].to_list()\n",
    "start_addr_4 = data_4['기점 주소'].to_list()"
   ]
  },
  {
   "cell_type": "code",
   "execution_count": 34,
   "id": "37f08d2c-8d56-4e82-90dc-134afba9827b",
   "metadata": {},
   "outputs": [],
   "source": [
    "end_addr_0 = data_0['끝 지점'].to_list()\n",
    "end_addr_1 = data_1['종점_주소'].to_list()\n",
    "end_addr_2 = data_2['끝 지점'].to_list()\n",
    "end_addr_3 = data_3['종점_주소'].to_list()\n",
    "end_addr_4 = data_4['종점 주소'].to_list()"
   ]
  },
  {
   "cell_type": "code",
   "execution_count": 35,
   "id": "28258ac4-e748-47a1-8696-fad5ae7fd235",
   "metadata": {},
   "outputs": [],
   "source": [
    "len_0 = data_0['연장(m)'].to_list()\n",
    "len_1 = data_1['연장(m)'].to_list()\n",
    "len_2 = data_2['연장(m)'].to_list()\n",
    "len_3 = data_3['연장(m)'].to_list()\n",
    "len_4 = data_4['연장(m)'].to_list()"
   ]
  },
  {
   "cell_type": "code",
   "execution_count": 36,
   "id": "04fc329b-d281-4394-8fc0-56599d5b020b",
   "metadata": {},
   "outputs": [],
   "source": [
    "total_start_address = []\n",
    "total_end_address = []\n",
    "total_len = []"
   ]
  },
  {
   "cell_type": "code",
   "execution_count": 37,
   "id": "87981a5b-32ad-473e-ba15-cac961e22788",
   "metadata": {},
   "outputs": [],
   "source": [
    "def total_file_add(start_list, end_list, len_list) :\n",
    "    global total_start_address, total_end_address, total_len\n",
    "    for i in tqdm(range(len(start_list))) :\n",
    "        total_start_address.append(start_list[i])\n",
    "        total_end_address.append(end_list[i])\n",
    "        total_len.append(len_list[i])"
   ]
  },
  {
   "cell_type": "code",
   "execution_count": 38,
   "id": "c25e9583-f7cc-4044-8abf-daa7b2ee518c",
   "metadata": {},
   "outputs": [
    {
     "name": "stderr",
     "output_type": "stream",
     "text": [
      "100%|█████████████████████████████████████| 123/123 [00:00<00:00, 561981.91it/s]\n",
      "100%|███████████████████████████████████████| 43/43 [00:00<00:00, 718546.10it/s]\n",
      "100%|████████████████████████████████████| 376/376 [00:00<00:00, 1708622.21it/s]\n",
      "100%|███████████████████████████████████████| 41/41 [00:00<00:00, 891017.95it/s]\n",
      "100%|███████████████████████████████████████| 43/43 [00:00<00:00, 754623.73it/s]\n"
     ]
    }
   ],
   "source": [
    "total_file_add(start_addr_0, end_addr_0, len_0)\n",
    "total_file_add(start_addr_1, end_addr_1, len_1)\n",
    "total_file_add(start_addr_2, end_addr_2, len_2)\n",
    "total_file_add(start_addr_3, end_addr_3, len_3)\n",
    "total_file_add(start_addr_4, end_addr_4, len_4)\n"
   ]
  },
  {
   "cell_type": "code",
   "execution_count": 39,
   "id": "377502c6-39e8-402d-b1a6-e6e09361aa62",
   "metadata": {},
   "outputs": [],
   "source": [
    "df = pd.DataFrame({\n",
    "    '기점_주소' : total_start_address,\n",
    "    '종점_주소' : total_end_address,\n",
    "    '연장(m)' : total_len\n",
    "})"
   ]
  },
  {
   "cell_type": "code",
   "execution_count": 40,
   "id": "1dec032f-74ab-44e1-bb04-66dc9f3525a2",
   "metadata": {},
   "outputs": [
    {
     "data": {
      "text/html": [
       "<div>\n",
       "<style scoped>\n",
       "    .dataframe tbody tr th:only-of-type {\n",
       "        vertical-align: middle;\n",
       "    }\n",
       "\n",
       "    .dataframe tbody tr th {\n",
       "        vertical-align: top;\n",
       "    }\n",
       "\n",
       "    .dataframe thead th {\n",
       "        text-align: right;\n",
       "    }\n",
       "</style>\n",
       "<table border=\"1\" class=\"dataframe\">\n",
       "  <thead>\n",
       "    <tr style=\"text-align: right;\">\n",
       "      <th></th>\n",
       "      <th>기점_주소</th>\n",
       "      <th>종점_주소</th>\n",
       "      <th>연장(m)</th>\n",
       "    </tr>\n",
       "  </thead>\n",
       "  <tbody>\n",
       "    <tr>\n",
       "      <th>0</th>\n",
       "      <td>명륜길 74</td>\n",
       "      <td>명륜9길 1</td>\n",
       "      <td>160</td>\n",
       "    </tr>\n",
       "    <tr>\n",
       "      <th>1</th>\n",
       "      <td>행촌동 174-5</td>\n",
       "      <td>행촌동171-35</td>\n",
       "      <td>75</td>\n",
       "    </tr>\n",
       "    <tr>\n",
       "      <th>2</th>\n",
       "      <td>행촌동 201-172</td>\n",
       "      <td>행촌동171-120</td>\n",
       "      <td>95</td>\n",
       "    </tr>\n",
       "    <tr>\n",
       "      <th>3</th>\n",
       "      <td>평창동 435-2</td>\n",
       "      <td>평창동 448</td>\n",
       "      <td>150</td>\n",
       "    </tr>\n",
       "    <tr>\n",
       "      <th>4</th>\n",
       "      <td>평창동 66-28</td>\n",
       "      <td>평창동464-14</td>\n",
       "      <td>210</td>\n",
       "    </tr>\n",
       "  </tbody>\n",
       "</table>\n",
       "</div>"
      ],
      "text/plain": [
       "         기점_주소       종점_주소  연장(m)\n",
       "0       명륜길 74      명륜9길 1    160\n",
       "1    행촌동 174-5   행촌동171-35     75\n",
       "2  행촌동 201-172  행촌동171-120     95\n",
       "3    평창동 435-2     평창동 448    150\n",
       "4    평창동 66-28   평창동464-14    210"
      ]
     },
     "execution_count": 40,
     "metadata": {},
     "output_type": "execute_result"
    }
   ],
   "source": [
    "df.head()"
   ]
  },
  {
   "cell_type": "code",
   "execution_count": 41,
   "id": "0c99db0f-d1e4-41b4-a590-0b0b47afebee",
   "metadata": {},
   "outputs": [
    {
     "data": {
      "text/plain": [
       "626"
      ]
     },
     "execution_count": 41,
     "metadata": {},
     "output_type": "execute_result"
    }
   ],
   "source": [
    "len(df)"
   ]
  },
  {
   "cell_type": "code",
   "execution_count": 42,
   "id": "a87fec05-867b-4332-bb0d-8b798369a0be",
   "metadata": {},
   "outputs": [
    {
     "data": {
      "text/plain": [
       "기점_주소    0\n",
       "종점_주소    0\n",
       "연장(m)    0\n",
       "dtype: int64"
      ]
     },
     "execution_count": 42,
     "metadata": {},
     "output_type": "execute_result"
    }
   ],
   "source": [
    "df.isnull().sum()"
   ]
  },
  {
   "cell_type": "code",
   "execution_count": 43,
   "id": "b3f68f61-8369-4076-bc59-5e315630e5d8",
   "metadata": {},
   "outputs": [
    {
     "name": "stdout",
     "output_type": "stream",
     "text": [
      "./make_file/통합_서울시_열선_정리(기점_종점).csv 파일 저장 완료\n"
     ]
    }
   ],
   "source": [
    "try :\n",
    "    save_url = \"./make_file/통합_서울시_열선_정리(기점_종점).csv\"\n",
    "    df.to_csv(save_url, encoding=\"UTF-8\", index=False)\n",
    "    print(f\"{save_url} 파일 저장 완료\")\n",
    "except OSError as e:\n",
    "    print(e)"
   ]
  },
  {
   "cell_type": "code",
   "execution_count": null,
   "id": "28a55406-27e9-4e4f-958f-779099bbcad9",
   "metadata": {},
   "outputs": [],
   "source": []
  }
 ],
 "metadata": {
  "kernelspec": {
   "display_name": "Python 3 (ipykernel)",
   "language": "python",
   "name": "python3"
  },
  "language_info": {
   "codemirror_mode": {
    "name": "ipython",
    "version": 3
   },
   "file_extension": ".py",
   "mimetype": "text/x-python",
   "name": "python",
   "nbconvert_exporter": "python",
   "pygments_lexer": "ipython3",
   "version": "3.13.2"
  }
 },
 "nbformat": 4,
 "nbformat_minor": 5
}
