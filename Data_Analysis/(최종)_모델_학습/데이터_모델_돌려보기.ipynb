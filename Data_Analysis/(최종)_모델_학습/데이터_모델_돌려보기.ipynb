{
 "cells": [
  {
   "cell_type": "code",
   "execution_count": 1,
   "id": "6f3bf25d-5b48-4b97-a324-f62f6bfea781",
   "metadata": {
    "execution": {
     "iopub.execute_input": "2025-03-26T00:04:12.753014Z",
     "iopub.status.busy": "2025-03-26T00:04:12.752604Z",
     "iopub.status.idle": "2025-03-26T00:04:12.758177Z",
     "shell.execute_reply": "2025-03-26T00:04:12.757693Z"
    }
   },
   "outputs": [],
   "source": [
    "# !pip install --break-system-packages xgboost\n",
    "\n",
    "# !pip install --break-system-packages seaborn\n",
    "\n"
   ]
  },
  {
   "cell_type": "code",
   "execution_count": 2,
   "id": "7a3e151e-22e3-4127-aa34-5cef8d47a94f",
   "metadata": {
    "execution": {
     "iopub.execute_input": "2025-03-26T00:04:12.761039Z",
     "iopub.status.busy": "2025-03-26T00:04:12.760513Z",
     "iopub.status.idle": "2025-03-26T00:04:13.143327Z",
     "shell.execute_reply": "2025-03-26T00:04:13.143039Z"
    }
   },
   "outputs": [],
   "source": [
    "import pandas as pd\n",
    "from sklearn.model_selection import train_test_split\n",
    "from sklearn.preprocessing import StandardScaler\n",
    "from sklearn.ensemble import RandomForestClassifier\n",
    "from sklearn.metrics import accuracy_score\n",
    "import numpy as np"
   ]
  },
  {
   "cell_type": "code",
   "execution_count": 3,
   "id": "49f7265a-9ec2-4433-b7c7-4d52af7c356b",
   "metadata": {
    "execution": {
     "iopub.execute_input": "2025-03-26T00:04:13.144491Z",
     "iopub.status.busy": "2025-03-26T00:04:13.144397Z",
     "iopub.status.idle": "2025-03-26T00:04:13.145848Z",
     "shell.execute_reply": "2025-03-26T00:04:13.145637Z"
    }
   },
   "outputs": [],
   "source": [
    "url = './make_file/증폭_종합_데이터.csv'"
   ]
  },
  {
   "cell_type": "code",
   "execution_count": 4,
   "id": "7f75f408-3723-4ff4-adf0-0a32529f4f2d",
   "metadata": {
    "execution": {
     "iopub.execute_input": "2025-03-26T00:04:13.146777Z",
     "iopub.status.busy": "2025-03-26T00:04:13.146713Z",
     "iopub.status.idle": "2025-03-26T00:04:13.152305Z",
     "shell.execute_reply": "2025-03-26T00:04:13.152092Z"
    }
   },
   "outputs": [],
   "source": [
    "data = pd.read_csv(url)"
   ]
  },
  {
   "cell_type": "code",
   "execution_count": 5,
   "id": "ae87d84f-d171-4b70-94d2-b56093f3ce07",
   "metadata": {
    "execution": {
     "iopub.execute_input": "2025-03-26T00:04:13.153216Z",
     "iopub.status.busy": "2025-03-26T00:04:13.153132Z",
     "iopub.status.idle": "2025-03-26T00:04:13.155439Z",
     "shell.execute_reply": "2025-03-26T00:04:13.155275Z"
    }
   },
   "outputs": [
    {
     "data": {
      "text/plain": [
       "Index(['위도', '경도', '경사각', '평균_거리차', '열선여부', '원본여부'], dtype='object')"
      ]
     },
     "execution_count": 5,
     "metadata": {},
     "output_type": "execute_result"
    }
   ],
   "source": [
    "data.columns"
   ]
  },
  {
   "cell_type": "code",
   "execution_count": 6,
   "id": "88c2b0f6-c6ff-4031-ac8e-f240183eddac",
   "metadata": {
    "execution": {
     "iopub.execute_input": "2025-03-26T00:04:13.156292Z",
     "iopub.status.busy": "2025-03-26T00:04:13.156234Z",
     "iopub.status.idle": "2025-03-26T00:04:13.158063Z",
     "shell.execute_reply": "2025-03-26T00:04:13.157817Z"
    }
   },
   "outputs": [],
   "source": [
    "X = data[['경사각', '평균_거리차']]  # 특징값\n",
    "y = data['열선여부']  # 라벨값 (1 or 0)"
   ]
  },
  {
   "cell_type": "code",
   "execution_count": null,
   "id": "4a21a216-cdd1-498c-95a2-6773b6bade34",
   "metadata": {},
   "outputs": [],
   "source": []
  },
  {
   "cell_type": "code",
   "execution_count": 7,
   "id": "8fa777a1-4260-4523-bc87-d6c9d657fb89",
   "metadata": {
    "execution": {
     "iopub.execute_input": "2025-03-26T00:04:13.158917Z",
     "iopub.status.busy": "2025-03-26T00:04:13.158857Z",
     "iopub.status.idle": "2025-03-26T00:04:13.160422Z",
     "shell.execute_reply": "2025-03-26T00:04:13.160261Z"
    }
   },
   "outputs": [
    {
     "data": {
      "text/plain": [
       "12423"
      ]
     },
     "execution_count": 7,
     "metadata": {},
     "output_type": "execute_result"
    }
   ],
   "source": [
    "len(data)"
   ]
  },
  {
   "cell_type": "code",
   "execution_count": 8,
   "id": "1c5daacd-b95c-4b7a-85d8-5a4988927947",
   "metadata": {
    "execution": {
     "iopub.execute_input": "2025-03-26T00:04:13.161240Z",
     "iopub.status.busy": "2025-03-26T00:04:13.161167Z",
     "iopub.status.idle": "2025-03-26T00:04:13.164555Z",
     "shell.execute_reply": "2025-03-26T00:04:13.164375Z"
    }
   },
   "outputs": [],
   "source": [
    "X_train, X_test, y_train, y_test = train_test_split(\n",
    "    X, y, train_size=0.7, random_state=42, stratify=y\n",
    ")"
   ]
  },
  {
   "cell_type": "code",
   "execution_count": 9,
   "id": "98fcea08-af48-4a8a-b991-f42a93701fa1",
   "metadata": {
    "execution": {
     "iopub.execute_input": "2025-03-26T00:04:13.165432Z",
     "iopub.status.busy": "2025-03-26T00:04:13.165369Z",
     "iopub.status.idle": "2025-03-26T00:04:13.167684Z",
     "shell.execute_reply": "2025-03-26T00:04:13.167515Z"
    }
   },
   "outputs": [],
   "source": [
    "# 스케일링 (표준화)\n",
    "scaler = StandardScaler()\n",
    "X_train = scaler.fit_transform(X_train)\n",
    "X_test = scaler.transform(X_test)"
   ]
  },
  {
   "cell_type": "code",
   "execution_count": 10,
   "id": "72ced035-7986-432b-a4be-8fea5860a81e",
   "metadata": {
    "execution": {
     "iopub.execute_input": "2025-03-26T00:04:13.168525Z",
     "iopub.status.busy": "2025-03-26T00:04:13.168471Z",
     "iopub.status.idle": "2025-03-26T00:04:13.169763Z",
     "shell.execute_reply": "2025-03-26T00:04:13.169599Z"
    }
   },
   "outputs": [],
   "source": [
    "# 랜덤 포레스트 학습\n",
    "rf_model = RandomForestClassifier(n_estimators=5, random_state=42)"
   ]
  },
  {
   "cell_type": "code",
   "execution_count": 11,
   "id": "301cd237-54aa-448c-886b-cc63f72af820",
   "metadata": {
    "execution": {
     "iopub.execute_input": "2025-03-26T00:04:13.170579Z",
     "iopub.status.busy": "2025-03-26T00:04:13.170526Z",
     "iopub.status.idle": "2025-03-26T00:04:13.196569Z",
     "shell.execute_reply": "2025-03-26T00:04:13.196400Z"
    }
   },
   "outputs": [
    {
     "data": {
      "text/html": [
       "<style>#sk-container-id-1 {\n",
       "  /* Definition of color scheme common for light and dark mode */\n",
       "  --sklearn-color-text: #000;\n",
       "  --sklearn-color-text-muted: #666;\n",
       "  --sklearn-color-line: gray;\n",
       "  /* Definition of color scheme for unfitted estimators */\n",
       "  --sklearn-color-unfitted-level-0: #fff5e6;\n",
       "  --sklearn-color-unfitted-level-1: #f6e4d2;\n",
       "  --sklearn-color-unfitted-level-2: #ffe0b3;\n",
       "  --sklearn-color-unfitted-level-3: chocolate;\n",
       "  /* Definition of color scheme for fitted estimators */\n",
       "  --sklearn-color-fitted-level-0: #f0f8ff;\n",
       "  --sklearn-color-fitted-level-1: #d4ebff;\n",
       "  --sklearn-color-fitted-level-2: #b3dbfd;\n",
       "  --sklearn-color-fitted-level-3: cornflowerblue;\n",
       "\n",
       "  /* Specific color for light theme */\n",
       "  --sklearn-color-text-on-default-background: var(--sg-text-color, var(--theme-code-foreground, var(--jp-content-font-color1, black)));\n",
       "  --sklearn-color-background: var(--sg-background-color, var(--theme-background, var(--jp-layout-color0, white)));\n",
       "  --sklearn-color-border-box: var(--sg-text-color, var(--theme-code-foreground, var(--jp-content-font-color1, black)));\n",
       "  --sklearn-color-icon: #696969;\n",
       "\n",
       "  @media (prefers-color-scheme: dark) {\n",
       "    /* Redefinition of color scheme for dark theme */\n",
       "    --sklearn-color-text-on-default-background: var(--sg-text-color, var(--theme-code-foreground, var(--jp-content-font-color1, white)));\n",
       "    --sklearn-color-background: var(--sg-background-color, var(--theme-background, var(--jp-layout-color0, #111)));\n",
       "    --sklearn-color-border-box: var(--sg-text-color, var(--theme-code-foreground, var(--jp-content-font-color1, white)));\n",
       "    --sklearn-color-icon: #878787;\n",
       "  }\n",
       "}\n",
       "\n",
       "#sk-container-id-1 {\n",
       "  color: var(--sklearn-color-text);\n",
       "}\n",
       "\n",
       "#sk-container-id-1 pre {\n",
       "  padding: 0;\n",
       "}\n",
       "\n",
       "#sk-container-id-1 input.sk-hidden--visually {\n",
       "  border: 0;\n",
       "  clip: rect(1px 1px 1px 1px);\n",
       "  clip: rect(1px, 1px, 1px, 1px);\n",
       "  height: 1px;\n",
       "  margin: -1px;\n",
       "  overflow: hidden;\n",
       "  padding: 0;\n",
       "  position: absolute;\n",
       "  width: 1px;\n",
       "}\n",
       "\n",
       "#sk-container-id-1 div.sk-dashed-wrapped {\n",
       "  border: 1px dashed var(--sklearn-color-line);\n",
       "  margin: 0 0.4em 0.5em 0.4em;\n",
       "  box-sizing: border-box;\n",
       "  padding-bottom: 0.4em;\n",
       "  background-color: var(--sklearn-color-background);\n",
       "}\n",
       "\n",
       "#sk-container-id-1 div.sk-container {\n",
       "  /* jupyter's `normalize.less` sets `[hidden] { display: none; }`\n",
       "     but bootstrap.min.css set `[hidden] { display: none !important; }`\n",
       "     so we also need the `!important` here to be able to override the\n",
       "     default hidden behavior on the sphinx rendered scikit-learn.org.\n",
       "     See: https://github.com/scikit-learn/scikit-learn/issues/21755 */\n",
       "  display: inline-block !important;\n",
       "  position: relative;\n",
       "}\n",
       "\n",
       "#sk-container-id-1 div.sk-text-repr-fallback {\n",
       "  display: none;\n",
       "}\n",
       "\n",
       "div.sk-parallel-item,\n",
       "div.sk-serial,\n",
       "div.sk-item {\n",
       "  /* draw centered vertical line to link estimators */\n",
       "  background-image: linear-gradient(var(--sklearn-color-text-on-default-background), var(--sklearn-color-text-on-default-background));\n",
       "  background-size: 2px 100%;\n",
       "  background-repeat: no-repeat;\n",
       "  background-position: center center;\n",
       "}\n",
       "\n",
       "/* Parallel-specific style estimator block */\n",
       "\n",
       "#sk-container-id-1 div.sk-parallel-item::after {\n",
       "  content: \"\";\n",
       "  width: 100%;\n",
       "  border-bottom: 2px solid var(--sklearn-color-text-on-default-background);\n",
       "  flex-grow: 1;\n",
       "}\n",
       "\n",
       "#sk-container-id-1 div.sk-parallel {\n",
       "  display: flex;\n",
       "  align-items: stretch;\n",
       "  justify-content: center;\n",
       "  background-color: var(--sklearn-color-background);\n",
       "  position: relative;\n",
       "}\n",
       "\n",
       "#sk-container-id-1 div.sk-parallel-item {\n",
       "  display: flex;\n",
       "  flex-direction: column;\n",
       "}\n",
       "\n",
       "#sk-container-id-1 div.sk-parallel-item:first-child::after {\n",
       "  align-self: flex-end;\n",
       "  width: 50%;\n",
       "}\n",
       "\n",
       "#sk-container-id-1 div.sk-parallel-item:last-child::after {\n",
       "  align-self: flex-start;\n",
       "  width: 50%;\n",
       "}\n",
       "\n",
       "#sk-container-id-1 div.sk-parallel-item:only-child::after {\n",
       "  width: 0;\n",
       "}\n",
       "\n",
       "/* Serial-specific style estimator block */\n",
       "\n",
       "#sk-container-id-1 div.sk-serial {\n",
       "  display: flex;\n",
       "  flex-direction: column;\n",
       "  align-items: center;\n",
       "  background-color: var(--sklearn-color-background);\n",
       "  padding-right: 1em;\n",
       "  padding-left: 1em;\n",
       "}\n",
       "\n",
       "\n",
       "/* Toggleable style: style used for estimator/Pipeline/ColumnTransformer box that is\n",
       "clickable and can be expanded/collapsed.\n",
       "- Pipeline and ColumnTransformer use this feature and define the default style\n",
       "- Estimators will overwrite some part of the style using the `sk-estimator` class\n",
       "*/\n",
       "\n",
       "/* Pipeline and ColumnTransformer style (default) */\n",
       "\n",
       "#sk-container-id-1 div.sk-toggleable {\n",
       "  /* Default theme specific background. It is overwritten whether we have a\n",
       "  specific estimator or a Pipeline/ColumnTransformer */\n",
       "  background-color: var(--sklearn-color-background);\n",
       "}\n",
       "\n",
       "/* Toggleable label */\n",
       "#sk-container-id-1 label.sk-toggleable__label {\n",
       "  cursor: pointer;\n",
       "  display: flex;\n",
       "  width: 100%;\n",
       "  margin-bottom: 0;\n",
       "  padding: 0.5em;\n",
       "  box-sizing: border-box;\n",
       "  text-align: center;\n",
       "  align-items: start;\n",
       "  justify-content: space-between;\n",
       "  gap: 0.5em;\n",
       "}\n",
       "\n",
       "#sk-container-id-1 label.sk-toggleable__label .caption {\n",
       "  font-size: 0.6rem;\n",
       "  font-weight: lighter;\n",
       "  color: var(--sklearn-color-text-muted);\n",
       "}\n",
       "\n",
       "#sk-container-id-1 label.sk-toggleable__label-arrow:before {\n",
       "  /* Arrow on the left of the label */\n",
       "  content: \"▸\";\n",
       "  float: left;\n",
       "  margin-right: 0.25em;\n",
       "  color: var(--sklearn-color-icon);\n",
       "}\n",
       "\n",
       "#sk-container-id-1 label.sk-toggleable__label-arrow:hover:before {\n",
       "  color: var(--sklearn-color-text);\n",
       "}\n",
       "\n",
       "/* Toggleable content - dropdown */\n",
       "\n",
       "#sk-container-id-1 div.sk-toggleable__content {\n",
       "  max-height: 0;\n",
       "  max-width: 0;\n",
       "  overflow: hidden;\n",
       "  text-align: left;\n",
       "  /* unfitted */\n",
       "  background-color: var(--sklearn-color-unfitted-level-0);\n",
       "}\n",
       "\n",
       "#sk-container-id-1 div.sk-toggleable__content.fitted {\n",
       "  /* fitted */\n",
       "  background-color: var(--sklearn-color-fitted-level-0);\n",
       "}\n",
       "\n",
       "#sk-container-id-1 div.sk-toggleable__content pre {\n",
       "  margin: 0.2em;\n",
       "  border-radius: 0.25em;\n",
       "  color: var(--sklearn-color-text);\n",
       "  /* unfitted */\n",
       "  background-color: var(--sklearn-color-unfitted-level-0);\n",
       "}\n",
       "\n",
       "#sk-container-id-1 div.sk-toggleable__content.fitted pre {\n",
       "  /* unfitted */\n",
       "  background-color: var(--sklearn-color-fitted-level-0);\n",
       "}\n",
       "\n",
       "#sk-container-id-1 input.sk-toggleable__control:checked~div.sk-toggleable__content {\n",
       "  /* Expand drop-down */\n",
       "  max-height: 200px;\n",
       "  max-width: 100%;\n",
       "  overflow: auto;\n",
       "}\n",
       "\n",
       "#sk-container-id-1 input.sk-toggleable__control:checked~label.sk-toggleable__label-arrow:before {\n",
       "  content: \"▾\";\n",
       "}\n",
       "\n",
       "/* Pipeline/ColumnTransformer-specific style */\n",
       "\n",
       "#sk-container-id-1 div.sk-label input.sk-toggleable__control:checked~label.sk-toggleable__label {\n",
       "  color: var(--sklearn-color-text);\n",
       "  background-color: var(--sklearn-color-unfitted-level-2);\n",
       "}\n",
       "\n",
       "#sk-container-id-1 div.sk-label.fitted input.sk-toggleable__control:checked~label.sk-toggleable__label {\n",
       "  background-color: var(--sklearn-color-fitted-level-2);\n",
       "}\n",
       "\n",
       "/* Estimator-specific style */\n",
       "\n",
       "/* Colorize estimator box */\n",
       "#sk-container-id-1 div.sk-estimator input.sk-toggleable__control:checked~label.sk-toggleable__label {\n",
       "  /* unfitted */\n",
       "  background-color: var(--sklearn-color-unfitted-level-2);\n",
       "}\n",
       "\n",
       "#sk-container-id-1 div.sk-estimator.fitted input.sk-toggleable__control:checked~label.sk-toggleable__label {\n",
       "  /* fitted */\n",
       "  background-color: var(--sklearn-color-fitted-level-2);\n",
       "}\n",
       "\n",
       "#sk-container-id-1 div.sk-label label.sk-toggleable__label,\n",
       "#sk-container-id-1 div.sk-label label {\n",
       "  /* The background is the default theme color */\n",
       "  color: var(--sklearn-color-text-on-default-background);\n",
       "}\n",
       "\n",
       "/* On hover, darken the color of the background */\n",
       "#sk-container-id-1 div.sk-label:hover label.sk-toggleable__label {\n",
       "  color: var(--sklearn-color-text);\n",
       "  background-color: var(--sklearn-color-unfitted-level-2);\n",
       "}\n",
       "\n",
       "/* Label box, darken color on hover, fitted */\n",
       "#sk-container-id-1 div.sk-label.fitted:hover label.sk-toggleable__label.fitted {\n",
       "  color: var(--sklearn-color-text);\n",
       "  background-color: var(--sklearn-color-fitted-level-2);\n",
       "}\n",
       "\n",
       "/* Estimator label */\n",
       "\n",
       "#sk-container-id-1 div.sk-label label {\n",
       "  font-family: monospace;\n",
       "  font-weight: bold;\n",
       "  display: inline-block;\n",
       "  line-height: 1.2em;\n",
       "}\n",
       "\n",
       "#sk-container-id-1 div.sk-label-container {\n",
       "  text-align: center;\n",
       "}\n",
       "\n",
       "/* Estimator-specific */\n",
       "#sk-container-id-1 div.sk-estimator {\n",
       "  font-family: monospace;\n",
       "  border: 1px dotted var(--sklearn-color-border-box);\n",
       "  border-radius: 0.25em;\n",
       "  box-sizing: border-box;\n",
       "  margin-bottom: 0.5em;\n",
       "  /* unfitted */\n",
       "  background-color: var(--sklearn-color-unfitted-level-0);\n",
       "}\n",
       "\n",
       "#sk-container-id-1 div.sk-estimator.fitted {\n",
       "  /* fitted */\n",
       "  background-color: var(--sklearn-color-fitted-level-0);\n",
       "}\n",
       "\n",
       "/* on hover */\n",
       "#sk-container-id-1 div.sk-estimator:hover {\n",
       "  /* unfitted */\n",
       "  background-color: var(--sklearn-color-unfitted-level-2);\n",
       "}\n",
       "\n",
       "#sk-container-id-1 div.sk-estimator.fitted:hover {\n",
       "  /* fitted */\n",
       "  background-color: var(--sklearn-color-fitted-level-2);\n",
       "}\n",
       "\n",
       "/* Specification for estimator info (e.g. \"i\" and \"?\") */\n",
       "\n",
       "/* Common style for \"i\" and \"?\" */\n",
       "\n",
       ".sk-estimator-doc-link,\n",
       "a:link.sk-estimator-doc-link,\n",
       "a:visited.sk-estimator-doc-link {\n",
       "  float: right;\n",
       "  font-size: smaller;\n",
       "  line-height: 1em;\n",
       "  font-family: monospace;\n",
       "  background-color: var(--sklearn-color-background);\n",
       "  border-radius: 1em;\n",
       "  height: 1em;\n",
       "  width: 1em;\n",
       "  text-decoration: none !important;\n",
       "  margin-left: 0.5em;\n",
       "  text-align: center;\n",
       "  /* unfitted */\n",
       "  border: var(--sklearn-color-unfitted-level-1) 1pt solid;\n",
       "  color: var(--sklearn-color-unfitted-level-1);\n",
       "}\n",
       "\n",
       ".sk-estimator-doc-link.fitted,\n",
       "a:link.sk-estimator-doc-link.fitted,\n",
       "a:visited.sk-estimator-doc-link.fitted {\n",
       "  /* fitted */\n",
       "  border: var(--sklearn-color-fitted-level-1) 1pt solid;\n",
       "  color: var(--sklearn-color-fitted-level-1);\n",
       "}\n",
       "\n",
       "/* On hover */\n",
       "div.sk-estimator:hover .sk-estimator-doc-link:hover,\n",
       ".sk-estimator-doc-link:hover,\n",
       "div.sk-label-container:hover .sk-estimator-doc-link:hover,\n",
       ".sk-estimator-doc-link:hover {\n",
       "  /* unfitted */\n",
       "  background-color: var(--sklearn-color-unfitted-level-3);\n",
       "  color: var(--sklearn-color-background);\n",
       "  text-decoration: none;\n",
       "}\n",
       "\n",
       "div.sk-estimator.fitted:hover .sk-estimator-doc-link.fitted:hover,\n",
       ".sk-estimator-doc-link.fitted:hover,\n",
       "div.sk-label-container:hover .sk-estimator-doc-link.fitted:hover,\n",
       ".sk-estimator-doc-link.fitted:hover {\n",
       "  /* fitted */\n",
       "  background-color: var(--sklearn-color-fitted-level-3);\n",
       "  color: var(--sklearn-color-background);\n",
       "  text-decoration: none;\n",
       "}\n",
       "\n",
       "/* Span, style for the box shown on hovering the info icon */\n",
       ".sk-estimator-doc-link span {\n",
       "  display: none;\n",
       "  z-index: 9999;\n",
       "  position: relative;\n",
       "  font-weight: normal;\n",
       "  right: .2ex;\n",
       "  padding: .5ex;\n",
       "  margin: .5ex;\n",
       "  width: min-content;\n",
       "  min-width: 20ex;\n",
       "  max-width: 50ex;\n",
       "  color: var(--sklearn-color-text);\n",
       "  box-shadow: 2pt 2pt 4pt #999;\n",
       "  /* unfitted */\n",
       "  background: var(--sklearn-color-unfitted-level-0);\n",
       "  border: .5pt solid var(--sklearn-color-unfitted-level-3);\n",
       "}\n",
       "\n",
       ".sk-estimator-doc-link.fitted span {\n",
       "  /* fitted */\n",
       "  background: var(--sklearn-color-fitted-level-0);\n",
       "  border: var(--sklearn-color-fitted-level-3);\n",
       "}\n",
       "\n",
       ".sk-estimator-doc-link:hover span {\n",
       "  display: block;\n",
       "}\n",
       "\n",
       "/* \"?\"-specific style due to the `<a>` HTML tag */\n",
       "\n",
       "#sk-container-id-1 a.estimator_doc_link {\n",
       "  float: right;\n",
       "  font-size: 1rem;\n",
       "  line-height: 1em;\n",
       "  font-family: monospace;\n",
       "  background-color: var(--sklearn-color-background);\n",
       "  border-radius: 1rem;\n",
       "  height: 1rem;\n",
       "  width: 1rem;\n",
       "  text-decoration: none;\n",
       "  /* unfitted */\n",
       "  color: var(--sklearn-color-unfitted-level-1);\n",
       "  border: var(--sklearn-color-unfitted-level-1) 1pt solid;\n",
       "}\n",
       "\n",
       "#sk-container-id-1 a.estimator_doc_link.fitted {\n",
       "  /* fitted */\n",
       "  border: var(--sklearn-color-fitted-level-1) 1pt solid;\n",
       "  color: var(--sklearn-color-fitted-level-1);\n",
       "}\n",
       "\n",
       "/* On hover */\n",
       "#sk-container-id-1 a.estimator_doc_link:hover {\n",
       "  /* unfitted */\n",
       "  background-color: var(--sklearn-color-unfitted-level-3);\n",
       "  color: var(--sklearn-color-background);\n",
       "  text-decoration: none;\n",
       "}\n",
       "\n",
       "#sk-container-id-1 a.estimator_doc_link.fitted:hover {\n",
       "  /* fitted */\n",
       "  background-color: var(--sklearn-color-fitted-level-3);\n",
       "}\n",
       "</style><div id=\"sk-container-id-1\" class=\"sk-top-container\"><div class=\"sk-text-repr-fallback\"><pre>RandomForestClassifier(n_estimators=5, random_state=42)</pre><b>In a Jupyter environment, please rerun this cell to show the HTML representation or trust the notebook. <br />On GitHub, the HTML representation is unable to render, please try loading this page with nbviewer.org.</b></div><div class=\"sk-container\" hidden><div class=\"sk-item\"><div class=\"sk-estimator fitted sk-toggleable\"><input class=\"sk-toggleable__control sk-hidden--visually\" id=\"sk-estimator-id-1\" type=\"checkbox\" checked><label for=\"sk-estimator-id-1\" class=\"sk-toggleable__label fitted sk-toggleable__label-arrow\"><div><div>RandomForestClassifier</div></div><div><a class=\"sk-estimator-doc-link fitted\" rel=\"noreferrer\" target=\"_blank\" href=\"https://scikit-learn.org/1.6/modules/generated/sklearn.ensemble.RandomForestClassifier.html\">?<span>Documentation for RandomForestClassifier</span></a><span class=\"sk-estimator-doc-link fitted\">i<span>Fitted</span></span></div></label><div class=\"sk-toggleable__content fitted\"><pre>RandomForestClassifier(n_estimators=5, random_state=42)</pre></div> </div></div></div></div>"
      ],
      "text/plain": [
       "RandomForestClassifier(n_estimators=5, random_state=42)"
      ]
     },
     "execution_count": 11,
     "metadata": {},
     "output_type": "execute_result"
    }
   ],
   "source": [
    "rf_model.fit(X_train, y_train)"
   ]
  },
  {
   "cell_type": "code",
   "execution_count": 12,
   "id": "38edc6da-86f0-43e7-ad96-5509efabef6b",
   "metadata": {
    "execution": {
     "iopub.execute_input": "2025-03-26T00:04:13.197417Z",
     "iopub.status.busy": "2025-03-26T00:04:13.197361Z",
     "iopub.status.idle": "2025-03-26T00:04:13.200277Z",
     "shell.execute_reply": "2025-03-26T00:04:13.200082Z"
    }
   },
   "outputs": [
    {
     "name": "stdout",
     "output_type": "stream",
     "text": [
      "랜덤 포레스트 정확도: 0.9211\n"
     ]
    }
   ],
   "source": [
    "# 예측 및 평가\n",
    "y_pred = rf_model.predict(X_test)\n",
    "y_pred_list = y_pred.tolist()\n",
    "print(f\"랜덤 포레스트 정확도: {accuracy_score(y_test, y_pred):.4f}\")"
   ]
  },
  {
   "cell_type": "code",
   "execution_count": 13,
   "id": "85f6da77-9b4a-4d9f-a8c0-95c540608377",
   "metadata": {
    "execution": {
     "iopub.execute_input": "2025-03-26T00:04:13.201132Z",
     "iopub.status.busy": "2025-03-26T00:04:13.201079Z",
     "iopub.status.idle": "2025-03-26T00:04:13.205193Z",
     "shell.execute_reply": "2025-03-26T00:04:13.205022Z"
    }
   },
   "outputs": [
    {
     "name": "stdout",
     "output_type": "stream",
     "text": [
      "Accuracy: 0.9211161792326268\n",
      "Precision: 0.9383062254627033\n",
      "Recall: 0.9009154550350027\n",
      "F1-Score: 0.9192307692307692\n"
     ]
    }
   ],
   "source": [
    "from sklearn.metrics import accuracy_score, precision_score, recall_score, f1_score, confusion_matrix\n",
    "\n",
    "# 정확도\n",
    "accuracy = accuracy_score(y_test, y_pred)\n",
    "print(f\"Accuracy: {accuracy}\")\n",
    "\n",
    "# 정밀도\n",
    "precision = precision_score(y_test, y_pred)\n",
    "print(f\"Precision: {precision}\")\n",
    "\n",
    "# 재현율\n",
    "recall = recall_score(y_test, y_pred)\n",
    "print(f\"Recall: {recall}\")\n",
    "\n",
    "# F1-Score\n",
    "f1 = f1_score(y_test, y_pred)\n",
    "print(f\"F1-Score: {f1}\")\n"
   ]
  },
  {
   "cell_type": "code",
   "execution_count": 14,
   "id": "9f349fcb-9d39-48eb-944d-78ad99a62ec4",
   "metadata": {
    "execution": {
     "iopub.execute_input": "2025-03-26T00:04:13.206055Z",
     "iopub.status.busy": "2025-03-26T00:04:13.205997Z",
     "iopub.status.idle": "2025-03-26T00:04:13.207883Z",
     "shell.execute_reply": "2025-03-26T00:04:13.207648Z"
    }
   },
   "outputs": [],
   "source": [
    "X_full = data[['경사각', '평균_거리차']]  # 특징값\n",
    "X_full_scaled = scaler.transform(X_full)  # 스케일링 적용"
   ]
  },
  {
   "cell_type": "code",
   "execution_count": 15,
   "id": "3222bb86-3b50-44e2-8fee-81fc15a3efd5",
   "metadata": {
    "execution": {
     "iopub.execute_input": "2025-03-26T00:04:13.208684Z",
     "iopub.status.busy": "2025-03-26T00:04:13.208632Z",
     "iopub.status.idle": "2025-03-26T00:04:13.212778Z",
     "shell.execute_reply": "2025-03-26T00:04:13.212559Z"
    }
   },
   "outputs": [],
   "source": [
    "# 전체 데이터 예측\n",
    "y_full_pred = rf_model.predict(X_full_scaled)"
   ]
  },
  {
   "cell_type": "code",
   "execution_count": 16,
   "id": "0c496679-781f-447d-a93a-919648bdf20a",
   "metadata": {
    "execution": {
     "iopub.execute_input": "2025-03-26T00:04:13.213612Z",
     "iopub.status.busy": "2025-03-26T00:04:13.213555Z",
     "iopub.status.idle": "2025-03-26T00:04:13.214944Z",
     "shell.execute_reply": "2025-03-26T00:04:13.214764Z"
    }
   },
   "outputs": [],
   "source": [
    "# 예측 결과를 원본 데이터에 추가\n",
    "data['예측_열선여부'] = y_full_pred"
   ]
  },
  {
   "cell_type": "code",
   "execution_count": 17,
   "id": "ee603fe1-b539-4104-ba10-fe9e1b1d283e",
   "metadata": {
    "execution": {
     "iopub.execute_input": "2025-03-26T00:04:13.215757Z",
     "iopub.status.busy": "2025-03-26T00:04:13.215704Z",
     "iopub.status.idle": "2025-03-26T00:04:13.218148Z",
     "shell.execute_reply": "2025-03-26T00:04:13.217964Z"
    }
   },
   "outputs": [
    {
     "name": "stdout",
     "output_type": "stream",
     "text": [
      "          위도          경도       경사각      평균_거리차  열선여부  예측_열선여부\n",
      "0  37.553039  127.097008  7.851888  184.137070   1.0      1.0\n",
      "1  37.553626  127.097029  5.862993  184.374022   1.0      1.0\n",
      "2  37.567109  127.088453  0.000000  129.476463   1.0      1.0\n",
      "3  37.570235  127.085884  5.678818  292.900094   1.0      1.0\n",
      "4  37.551073  127.110615  0.000000  748.250385   1.0      1.0\n"
     ]
    }
   ],
   "source": [
    "# 예측 결과 출력\n",
    "print(data[['위도', '경도', '경사각', '평균_거리차', '열선여부', '예측_열선여부']].head())  # 예시로 상위 5개만 출력"
   ]
  },
  {
   "cell_type": "code",
   "execution_count": 18,
   "id": "05c95357-c77f-48db-84a5-08b0bf7dbd55",
   "metadata": {
    "execution": {
     "iopub.execute_input": "2025-03-26T00:04:13.218985Z",
     "iopub.status.busy": "2025-03-26T00:04:13.218929Z",
     "iopub.status.idle": "2025-03-26T00:04:13.220729Z",
     "shell.execute_reply": "2025-03-26T00:04:13.220588Z"
    }
   },
   "outputs": [
    {
     "name": "stdout",
     "output_type": "stream",
     "text": [
      "전체 데이터에 대한 정확도: 0.9690\n"
     ]
    }
   ],
   "source": [
    "# 정확도 평가 (전체 데이터에 대한 예측)\n",
    "accuracy_full = accuracy_score(data['열선여부'], y_full_pred)\n",
    "print(f\"전체 데이터에 대한 정확도: {accuracy_full:.4f}\")"
   ]
  },
  {
   "cell_type": "code",
   "execution_count": 19,
   "id": "4f7dcbfa-7661-47b0-ab84-46a51fff5e0c",
   "metadata": {
    "execution": {
     "iopub.execute_input": "2025-03-26T00:04:13.221537Z",
     "iopub.status.busy": "2025-03-26T00:04:13.221465Z",
     "iopub.status.idle": "2025-03-26T00:04:13.224712Z",
     "shell.execute_reply": "2025-03-26T00:04:13.224534Z"
    }
   },
   "outputs": [
    {
     "name": "stdout",
     "output_type": "stream",
     "text": [
      "혼동 행렬:\n",
      "[[6087  145]\n",
      " [ 240 5951]]\n"
     ]
    }
   ],
   "source": [
    "# 예측된 열선여부와 실제 열선여부를 비교\n",
    "conf_matrix = confusion_matrix(data['열선여부'], y_full_pred)\n",
    "print(\"혼동 행렬:\")\n",
    "print(conf_matrix)\n"
   ]
  },
  {
   "cell_type": "code",
   "execution_count": 20,
   "id": "94ef6e29-339e-4aa7-9154-e1d48e800aaf",
   "metadata": {
    "execution": {
     "iopub.execute_input": "2025-03-26T00:04:13.225524Z",
     "iopub.status.busy": "2025-03-26T00:04:13.225455Z",
     "iopub.status.idle": "2025-03-26T00:04:13.229917Z",
     "shell.execute_reply": "2025-03-26T00:04:13.229759Z"
    }
   },
   "outputs": [
    {
     "name": "stdout",
     "output_type": "stream",
     "text": [
      "전체 데이터 정밀도: 0.9762139107611548\n",
      "전체 데이터 재현율: 0.961234049426587\n",
      "전체 데이터 F1-Score: 0.9686660698299016\n"
     ]
    }
   ],
   "source": [
    "# 기타 평가 지표\n",
    "precision_full = precision_score(data['열선여부'], y_full_pred)\n",
    "recall_full = recall_score(data['열선여부'], y_full_pred)\n",
    "f1_full = f1_score(data['열선여부'], y_full_pred)\n",
    "\n",
    "print(f\"전체 데이터 정밀도: {precision_full}\")\n",
    "print(f\"전체 데이터 재현율: {recall_full}\")\n",
    "print(f\"전체 데이터 F1-Score: {f1_full}\")"
   ]
  },
  {
   "cell_type": "code",
   "execution_count": 21,
   "id": "2582919f-07ba-4d2e-bc08-e50328e5b6ff",
   "metadata": {
    "execution": {
     "iopub.execute_input": "2025-03-26T00:04:13.230716Z",
     "iopub.status.busy": "2025-03-26T00:04:13.230664Z",
     "iopub.status.idle": "2025-03-26T00:04:13.232328Z",
     "shell.execute_reply": "2025-03-26T00:04:13.232122Z"
    }
   },
   "outputs": [],
   "source": [
    "filter_data = data[data['예측_열선여부'] == 1]"
   ]
  },
  {
   "cell_type": "code",
   "execution_count": 22,
   "id": "b18ee1bb-9e6a-4294-8668-9a743d65c3c6",
   "metadata": {
    "execution": {
     "iopub.execute_input": "2025-03-26T00:04:13.233128Z",
     "iopub.status.busy": "2025-03-26T00:04:13.233075Z",
     "iopub.status.idle": "2025-03-26T00:04:13.234448Z",
     "shell.execute_reply": "2025-03-26T00:04:13.234288Z"
    }
   },
   "outputs": [],
   "source": [
    "filter_data_result = filter_data[filter_data['열선여부'] == 0]"
   ]
  },
  {
   "cell_type": "code",
   "execution_count": 23,
   "id": "556186b2-4a5c-4b36-9fa1-da9a729d310c",
   "metadata": {
    "execution": {
     "iopub.execute_input": "2025-03-26T00:04:13.235218Z",
     "iopub.status.busy": "2025-03-26T00:04:13.235169Z",
     "iopub.status.idle": "2025-03-26T00:04:13.236705Z",
     "shell.execute_reply": "2025-03-26T00:04:13.236552Z"
    }
   },
   "outputs": [
    {
     "data": {
      "text/plain": [
       "145"
      ]
     },
     "execution_count": 23,
     "metadata": {},
     "output_type": "execute_result"
    }
   ],
   "source": [
    "len(filter_data_result)"
   ]
  },
  {
   "cell_type": "code",
   "execution_count": 24,
   "id": "a1d7fa15-77f8-49e0-90f0-8ed2d2f11e65",
   "metadata": {
    "execution": {
     "iopub.execute_input": "2025-03-26T00:04:13.237491Z",
     "iopub.status.busy": "2025-03-26T00:04:13.237427Z",
     "iopub.status.idle": "2025-03-26T00:04:13.239221Z",
     "shell.execute_reply": "2025-03-26T00:04:13.239059Z"
    }
   },
   "outputs": [],
   "source": [
    "filter_data_result.reset_index(drop=True, inplace=True)\n",
    "filter_data_result = filter_data_result.drop_duplicates(subset=['위도', '경도', '경사각', '평균_거리차', '열선여부', '원본여부', '예측_열선여부'])\n"
   ]
  },
  {
   "cell_type": "code",
   "execution_count": 25,
   "id": "f5c8e3e5-7c9b-42ba-affc-b0f37894e309",
   "metadata": {
    "execution": {
     "iopub.execute_input": "2025-03-26T00:04:13.240010Z",
     "iopub.status.busy": "2025-03-26T00:04:13.239960Z",
     "iopub.status.idle": "2025-03-26T00:04:13.241445Z",
     "shell.execute_reply": "2025-03-26T00:04:13.241277Z"
    }
   },
   "outputs": [
    {
     "data": {
      "text/plain": [
       "79"
      ]
     },
     "execution_count": 25,
     "metadata": {},
     "output_type": "execute_result"
    }
   ],
   "source": [
    "len(filter_data_result)"
   ]
  },
  {
   "cell_type": "code",
   "execution_count": 26,
   "id": "8ad111b2-447e-47d3-b20e-27b9a0aa2351",
   "metadata": {
    "execution": {
     "iopub.execute_input": "2025-03-26T00:04:13.242266Z",
     "iopub.status.busy": "2025-03-26T00:04:13.242213Z",
     "iopub.status.idle": "2025-03-26T00:04:13.245692Z",
     "shell.execute_reply": "2025-03-26T00:04:13.245537Z"
    }
   },
   "outputs": [
    {
     "data": {
      "text/html": [
       "<div>\n",
       "<style scoped>\n",
       "    .dataframe tbody tr th:only-of-type {\n",
       "        vertical-align: middle;\n",
       "    }\n",
       "\n",
       "    .dataframe tbody tr th {\n",
       "        vertical-align: top;\n",
       "    }\n",
       "\n",
       "    .dataframe thead th {\n",
       "        text-align: right;\n",
       "    }\n",
       "</style>\n",
       "<table border=\"1\" class=\"dataframe\">\n",
       "  <thead>\n",
       "    <tr style=\"text-align: right;\">\n",
       "      <th></th>\n",
       "      <th>위도</th>\n",
       "      <th>경도</th>\n",
       "      <th>경사각</th>\n",
       "      <th>평균_거리차</th>\n",
       "      <th>열선여부</th>\n",
       "      <th>원본여부</th>\n",
       "      <th>예측_열선여부</th>\n",
       "    </tr>\n",
       "  </thead>\n",
       "  <tbody>\n",
       "    <tr>\n",
       "      <th>0</th>\n",
       "      <td>37.567934</td>\n",
       "      <td>127.086574</td>\n",
       "      <td>5.365783</td>\n",
       "      <td>136.280776</td>\n",
       "      <td>0.0</td>\n",
       "      <td>1</td>\n",
       "      <td>1.0</td>\n",
       "    </tr>\n",
       "    <tr>\n",
       "      <th>1</th>\n",
       "      <td>37.530644</td>\n",
       "      <td>127.071412</td>\n",
       "      <td>3.749952</td>\n",
       "      <td>263.103820</td>\n",
       "      <td>0.0</td>\n",
       "      <td>1</td>\n",
       "      <td>1.0</td>\n",
       "    </tr>\n",
       "    <tr>\n",
       "      <th>2</th>\n",
       "      <td>37.532333</td>\n",
       "      <td>127.087017</td>\n",
       "      <td>2.659108</td>\n",
       "      <td>140.829665</td>\n",
       "      <td>0.0</td>\n",
       "      <td>1</td>\n",
       "      <td>1.0</td>\n",
       "    </tr>\n",
       "    <tr>\n",
       "      <th>3</th>\n",
       "      <td>37.528221</td>\n",
       "      <td>127.077782</td>\n",
       "      <td>1.921573</td>\n",
       "      <td>304.344724</td>\n",
       "      <td>0.0</td>\n",
       "      <td>1</td>\n",
       "      <td>1.0</td>\n",
       "    </tr>\n",
       "    <tr>\n",
       "      <th>4</th>\n",
       "      <td>37.530054</td>\n",
       "      <td>127.082367</td>\n",
       "      <td>1.336699</td>\n",
       "      <td>124.841825</td>\n",
       "      <td>0.0</td>\n",
       "      <td>1</td>\n",
       "      <td>1.0</td>\n",
       "    </tr>\n",
       "    <tr>\n",
       "      <th>...</th>\n",
       "      <td>...</td>\n",
       "      <td>...</td>\n",
       "      <td>...</td>\n",
       "      <td>...</td>\n",
       "      <td>...</td>\n",
       "      <td>...</td>\n",
       "      <td>...</td>\n",
       "    </tr>\n",
       "    <tr>\n",
       "      <th>74</th>\n",
       "      <td>37.547301</td>\n",
       "      <td>127.098215</td>\n",
       "      <td>8.949708</td>\n",
       "      <td>286.517075</td>\n",
       "      <td>0.0</td>\n",
       "      <td>1</td>\n",
       "      <td>1.0</td>\n",
       "    </tr>\n",
       "    <tr>\n",
       "      <th>75</th>\n",
       "      <td>37.543599</td>\n",
       "      <td>127.100992</td>\n",
       "      <td>1.513502</td>\n",
       "      <td>240.054844</td>\n",
       "      <td>0.0</td>\n",
       "      <td>1</td>\n",
       "      <td>1.0</td>\n",
       "    </tr>\n",
       "    <tr>\n",
       "      <th>76</th>\n",
       "      <td>37.531714</td>\n",
       "      <td>127.067009</td>\n",
       "      <td>2.444311</td>\n",
       "      <td>402.289850</td>\n",
       "      <td>0.0</td>\n",
       "      <td>1</td>\n",
       "      <td>1.0</td>\n",
       "    </tr>\n",
       "    <tr>\n",
       "      <th>77</th>\n",
       "      <td>37.559155</td>\n",
       "      <td>127.095137</td>\n",
       "      <td>8.837411</td>\n",
       "      <td>224.413364</td>\n",
       "      <td>0.0</td>\n",
       "      <td>1</td>\n",
       "      <td>1.0</td>\n",
       "    </tr>\n",
       "    <tr>\n",
       "      <th>78</th>\n",
       "      <td>37.539473</td>\n",
       "      <td>127.078860</td>\n",
       "      <td>1.585067</td>\n",
       "      <td>217.104240</td>\n",
       "      <td>0.0</td>\n",
       "      <td>1</td>\n",
       "      <td>1.0</td>\n",
       "    </tr>\n",
       "  </tbody>\n",
       "</table>\n",
       "<p>79 rows × 7 columns</p>\n",
       "</div>"
      ],
      "text/plain": [
       "           위도          경도       경사각      평균_거리차  열선여부  원본여부  예측_열선여부\n",
       "0   37.567934  127.086574  5.365783  136.280776   0.0     1      1.0\n",
       "1   37.530644  127.071412  3.749952  263.103820   0.0     1      1.0\n",
       "2   37.532333  127.087017  2.659108  140.829665   0.0     1      1.0\n",
       "3   37.528221  127.077782  1.921573  304.344724   0.0     1      1.0\n",
       "4   37.530054  127.082367  1.336699  124.841825   0.0     1      1.0\n",
       "..        ...         ...       ...         ...   ...   ...      ...\n",
       "74  37.547301  127.098215  8.949708  286.517075   0.0     1      1.0\n",
       "75  37.543599  127.100992  1.513502  240.054844   0.0     1      1.0\n",
       "76  37.531714  127.067009  2.444311  402.289850   0.0     1      1.0\n",
       "77  37.559155  127.095137  8.837411  224.413364   0.0     1      1.0\n",
       "78  37.539473  127.078860  1.585067  217.104240   0.0     1      1.0\n",
       "\n",
       "[79 rows x 7 columns]"
      ]
     },
     "execution_count": 26,
     "metadata": {},
     "output_type": "execute_result"
    }
   ],
   "source": [
    "filter_data_result.reset_index(drop = True)"
   ]
  },
  {
   "cell_type": "code",
   "execution_count": 27,
   "id": "2bd780b8-4383-4d64-831e-c264737de8bf",
   "metadata": {
    "execution": {
     "iopub.execute_input": "2025-03-26T00:04:13.246497Z",
     "iopub.status.busy": "2025-03-26T00:04:13.246446Z",
     "iopub.status.idle": "2025-03-26T00:04:13.247701Z",
     "shell.execute_reply": "2025-03-26T00:04:13.247526Z"
    }
   },
   "outputs": [],
   "source": [
    "save_file_url = './make_file/랜덤_포레스트로_분석을_해본_결과.scv'"
   ]
  },
  {
   "cell_type": "code",
   "execution_count": 28,
   "id": "c9db7a1f-f2fb-4c32-966e-152ef577bfce",
   "metadata": {
    "execution": {
     "iopub.execute_input": "2025-03-26T00:04:13.248482Z",
     "iopub.status.busy": "2025-03-26T00:04:13.248411Z",
     "iopub.status.idle": "2025-03-26T00:04:13.277178Z",
     "shell.execute_reply": "2025-03-26T00:04:13.277029Z"
    }
   },
   "outputs": [
    {
     "name": "stdout",
     "output_type": "stream",
     "text": [
      "./make_file/랜덤_포레스트로_분석을_해본_결과.scv 파일 저장 완료\n"
     ]
    }
   ],
   "source": [
    "try :\n",
    "    data.to_csv(save_file_url)\n",
    "    print(f\"{save_file_url} 파일 저장 완료\")\n",
    "except OSError as e :\n",
    "    print(e)"
   ]
  },
  {
   "cell_type": "code",
   "execution_count": 29,
   "id": "e40a01d4-e02b-45a5-bea0-c41e53dd7d4d",
   "metadata": {
    "execution": {
     "iopub.execute_input": "2025-03-26T00:04:13.278011Z",
     "iopub.status.busy": "2025-03-26T00:04:13.277964Z",
     "iopub.status.idle": "2025-03-26T00:04:13.279187Z",
     "shell.execute_reply": "2025-03-26T00:04:13.279019Z"
    }
   },
   "outputs": [],
   "source": [
    "filter_data_result_url = './make_file/(최종)_랜덤_포로스트_리스트.scv'"
   ]
  },
  {
   "cell_type": "code",
   "execution_count": 30,
   "id": "a44ea102-0b6b-45a1-9cdd-5caba69c8b81",
   "metadata": {
    "execution": {
     "iopub.execute_input": "2025-03-26T00:04:13.280034Z",
     "iopub.status.busy": "2025-03-26T00:04:13.279987Z",
     "iopub.status.idle": "2025-03-26T00:04:13.281842Z",
     "shell.execute_reply": "2025-03-26T00:04:13.281675Z"
    }
   },
   "outputs": [
    {
     "name": "stdout",
     "output_type": "stream",
     "text": [
      "./make_file/랜덤_포레스트로_분석을_해본_결과.scv 파일 저장 완료\n"
     ]
    }
   ],
   "source": [
    "try :\n",
    "    filter_data_result.to_csv(filter_data_result_url)\n",
    "    print(f\"{save_file_url} 파일 저장 완료\")\n",
    "except OSError as e :\n",
    "    print(e)"
   ]
  },
  {
   "cell_type": "code",
   "execution_count": null,
   "id": "ef06cbfc-e822-4b81-8a13-7efedfc7af56",
   "metadata": {},
   "outputs": [],
   "source": []
  }
 ],
 "metadata": {
  "kernelspec": {
   "display_name": "Python 3 (ipykernel)",
   "language": "python",
   "name": "python3"
  },
  "language_info": {
   "codemirror_mode": {
    "name": "ipython",
    "version": 3
   },
   "file_extension": ".py",
   "mimetype": "text/x-python",
   "name": "python",
   "nbconvert_exporter": "python",
   "pygments_lexer": "ipython3",
   "version": "3.13.2"
  }
 },
 "nbformat": 4,
 "nbformat_minor": 5
}
