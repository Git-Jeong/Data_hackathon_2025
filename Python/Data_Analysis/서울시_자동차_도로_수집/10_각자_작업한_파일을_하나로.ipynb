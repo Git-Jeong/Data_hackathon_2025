{
 "cells": [
  {
   "cell_type": "code",
   "execution_count": 21,
   "id": "458a6672-2ce4-47d4-b7f5-74676cad16f3",
   "metadata": {},
   "outputs": [],
   "source": [
    "# !pip install chardet"
   ]
  },
  {
   "cell_type": "code",
   "execution_count": 22,
   "id": "44dc9455-4819-4220-9b66-bd80f9ab78ae",
   "metadata": {},
   "outputs": [],
   "source": [
    "import pandas as pd\n",
    "import chardet\n",
    "import os\n",
    "from tqdm import tqdm"
   ]
  },
  {
   "cell_type": "code",
   "execution_count": 23,
   "id": "ffbb390f-1b15-424a-b0f8-2a67ae62fc42",
   "metadata": {},
   "outputs": [],
   "source": [
    "def detect_encoding(file_path):\n",
    "    with open(file_path, 'rb') as f:\n",
    "        result = chardet.detect(f.read(100000))  # 처음 100,000바이트를 사용해 인코딩 감지\n",
    "    return result['encoding']"
   ]
  },
  {
   "cell_type": "code",
   "execution_count": 24,
   "id": "1f75ee27-7d17-4e7c-ab37-d49c7a661e3e",
   "metadata": {},
   "outputs": [
    {
     "name": "stdout",
     "output_type": "stream",
     "text": [
      "      id      도로명  열선   도로 종류     시작점_위도      시작점_경도     종료점_위도      종료점_경도  \\\n",
      "729   67      일원로   1     3차로  37.491015  127.080765  37.490648  127.080938   \n",
      "730  159    자곡로5길   1  주거지 도로  37.472343  127.096176  37.472057  127.094614   \n",
      "731  252  삼성로112길   1  주거지 도로  37.514052  127.052859  37.514866  127.053307   \n",
      "732  316  삼성로149길   1  주거지 도로  37.523404  127.047378  37.523375  127.047124   \n",
      "733  469  압구정로71길   1  주거지 도로  37.528605  127.046188   37.52914  127.046384   \n",
      "\n",
      "        중앙점_위도      중앙점_경도       도로_길이  행정동      도로폭  도로규모 행정구역  \n",
      "729  37.490832  127.080852   43.557286  일원동  폭20-25m  중로1류  강남구  \n",
      "730  37.472200  127.095395  218.130971  자곡동  폭20-25m  중로1류  강남구  \n",
      "731  37.514459  127.053083   98.751984  삼성동    폭6-8m  소로3류  강남구  \n",
      "732  37.523389  127.047251   22.669102  청담동    폭6-8m  소로3류  강남구  \n",
      "733  37.528873  127.046286   61.909056  청담동    폭6-8m  소로3류  강남구  \n"
     ]
    }
   ],
   "source": [
    "import os\n",
    "import pandas as pd\n",
    "\n",
    "folder_path = \"./data/공동작업/\"\n",
    "csv_files = [f for f in os.listdir(folder_path) if f.endswith(\".csv\")]\n",
    "\n",
    "road_url = []\n",
    "road_encoding = None\n",
    "dataframes = []\n",
    "\n",
    "def detect_encoding(file_path):\n",
    "    import chardet\n",
    "    with open(file_path, \"rb\") as f:\n",
    "        result = chardet.detect(f.read())\n",
    "    return result[\"encoding\"]\n",
    "\n",
    "for file in csv_files:\n",
    "    file_path = os.path.join(folder_path, file)\n",
    "    return_encoding = detect_encoding(file_path)\n",
    "    df = pd.read_csv(file_path, encoding=return_encoding) \n",
    "\n",
    "    if '열선' in df.columns:\n",
    "        road_encoding = return_encoding\n",
    "        road_url.append(file_path)\n",
    "        \n",
    "        # '열선'이 1이거나 '행정구역'이 '광진구'인 데이터만 필터링\n",
    "        filtered_df = df[(df['열선'] == 1) | (df['행정구역'] == '광진구')]\n",
    "        dataframes.append(filtered_df)\n",
    "\n",
    "# 모든 필터링된 데이터프레임을 하나로 합치기\n",
    "filtered_merged_df = pd.concat(dataframes, ignore_index=True)\n",
    "\n",
    "# 정렬: 먼저 '열선'이 1인 것이 위로, 그다음 '광진구'가 위로 오도록\n",
    "sorted_df = filtered_merged_df.sort_values(by=['열선', '행정구역'], ascending=[False, True])\n",
    "\n",
    "# 결과 확인\n",
    "print(sorted_df.head())"
   ]
  },
  {
   "cell_type": "code",
   "execution_count": 25,
   "id": "c29b02a2-c10b-4a2a-98e1-c9e0ce5c5286",
   "metadata": {},
   "outputs": [
    {
     "data": {
      "text/plain": [
       "7193"
      ]
     },
     "execution_count": 25,
     "metadata": {},
     "output_type": "execute_result"
    }
   ],
   "source": [
    "len(sorted_df)"
   ]
  },
  {
   "cell_type": "code",
   "execution_count": 26,
   "id": "708a57d3-31a5-4316-86b2-4268e7495870",
   "metadata": {},
   "outputs": [
    {
     "name": "stdout",
     "output_type": "stream",
     "text": [
      "./make_file/공동작업/서울열선_광진구_필터링파일.csv 저장 완료.\n"
     ]
    }
   ],
   "source": [
    "save_url = \"./make_file/공동작업/서울열선_광진구_필터링파일.csv\"\n",
    "sorted_df.to_csv(save_url, index=False, encoding=\"utf-8\")\n",
    "print(f\"{save_url} 저장 완료.\")"
   ]
  },
  {
   "cell_type": "code",
   "execution_count": null,
   "id": "2d23971b-3f2c-4de8-adbd-32e40dad86c0",
   "metadata": {},
   "outputs": [],
   "source": []
  },
  {
   "cell_type": "code",
   "execution_count": null,
   "id": "5ba87f56-0811-4323-b9c5-94d97b8f1f70",
   "metadata": {},
   "outputs": [],
   "source": []
  },
  {
   "cell_type": "code",
   "execution_count": null,
   "id": "bb93d9b4-7eec-4ff1-8a5b-20e238096938",
   "metadata": {},
   "outputs": [],
   "source": []
  },
  {
   "cell_type": "code",
   "execution_count": null,
   "id": "c6bcfa5d-b308-4263-925c-62b6df76c024",
   "metadata": {},
   "outputs": [],
   "source": []
  },
  {
   "cell_type": "code",
   "execution_count": null,
   "id": "49e49dcb-598c-4b4a-a5a3-7f71e61bccf3",
   "metadata": {},
   "outputs": [],
   "source": []
  }
 ],
 "metadata": {
  "kernelspec": {
   "display_name": "Python 3 (ipykernel)",
   "language": "python",
   "name": "python3"
  },
  "language_info": {
   "codemirror_mode": {
    "name": "ipython",
    "version": 3
   },
   "file_extension": ".py",
   "mimetype": "text/x-python",
   "name": "python",
   "nbconvert_exporter": "python",
   "pygments_lexer": "ipython3",
   "version": "3.13.2"
  }
 },
 "nbformat": 4,
 "nbformat_minor": 5
}
