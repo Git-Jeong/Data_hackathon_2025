{
 "cells": [
  {
   "cell_type": "markdown",
   "id": "2c81304a-5596-4800-ae83-8467c3fc8713",
   "metadata": {},
   "source": [
    "#### 입력 : ./make_file/division/third_round/서울시_도로_{숫자}.csv\n",
    "#### 출력 : ./make_file/(통합)_서울시_도로_리스트.csv"
   ]
  },
  {
   "cell_type": "code",
   "execution_count": 1,
   "id": "a70208da-230f-48a6-96fd-0409fe72461b",
   "metadata": {},
   "outputs": [],
   "source": [
    "import pandas as pd \n",
    "import requests\n",
    "from tqdm import tqdm \n",
    "import os\n",
    "import time"
   ]
  },
  {
   "cell_type": "code",
   "execution_count": 2,
   "id": "701cba8d-b2f0-4578-9143-bf2ecf3c0735",
   "metadata": {},
   "outputs": [],
   "source": [
    "# 파일이 저장된 폴더 경로\n",
    "folder_path = \"./make_file/division/third_round/\" \n",
    "file_encoding = \"UTF-8\""
   ]
  },
  {
   "cell_type": "code",
   "execution_count": 3,
   "id": "7a6684af-458f-42c3-ae4a-d1471469e915",
   "metadata": {},
   "outputs": [
    {
     "name": "stdout",
     "output_type": "stream",
     "text": [
      ".DS Store\n"
     ]
    }
   ],
   "source": [
    "# 조건을 만족하는 파일 목록\n",
    "valid_files = []\n",
    "\n",
    "for temp_file_name in os.listdir(folder_path):\n",
    "    file_name = temp_file_name.replace(\"_\", \" \")\n",
    "    # file_name = temp_file_name\n",
    "    if (\"서울시 도로 \" in file_name and file_name.endswith(\".csv\")) or (\"서울시 도로 \" in file_name and file_name.endswith(\".csv\")):\n",
    "        file_path = os.path.join(folder_path, temp_file_name)  # 안전한 경로 조합\n",
    "\n",
    "        try:\n",
    "            # CSV 파일 전체 읽기\n",
    "            df = pd.read_csv(file_path, encoding=file_encoding, low_memory=False)\n",
    "\n",
    "            # 컬럼명 앞뒤 공백 제거\n",
    "            df.columns = df.columns.str.strip()\n",
    "\n",
    "            # 필요한 컬럼이 존재하는지 확인\n",
    "            if {\"중앙점_위도\", \"중앙점_경도\", \"행정동\"}.issubset(df.columns):\n",
    "                valid_files.append(file_path)\n",
    "        except Exception as e:\n",
    "            print(f\"파일 {file_name} 처리 중 오류 발생: {e}\")\n",
    "    else :\n",
    "        print(file_name)\n",
    "        "
   ]
  },
  {
   "cell_type": "code",
   "execution_count": 4,
   "id": "edf66435-d33d-4e6e-9ff8-0d8355fa62c1",
   "metadata": {},
   "outputs": [
    {
     "data": {
      "text/plain": [
       "['./make_file/division/third_round/보정_서울시_도로_01.csv',\n",
       " './make_file/division/third_round/보정_서울시_도로_15.csv',\n",
       " './make_file/division/third_round/보정_서울시_도로_14.csv',\n",
       " './make_file/division/third_round/보정_서울시_도로_16.csv',\n",
       " './make_file/division/third_round/보정_서울시_도로_02.csv',\n",
       " './make_file/division/third_round/보정_서울시_도로_03.csv',\n",
       " './make_file/division/third_round/보정_서울시_도로_17.csv',\n",
       " './make_file/division/third_round/보정_서울시_도로_13.csv',\n",
       " './make_file/division/third_round/보정_서울시_도로_07.csv',\n",
       " './make_file/division/third_round/보정_서울시_도로_06.csv',\n",
       " './make_file/division/third_round/보정_서울시_도로_12.csv',\n",
       " './make_file/division/third_round/보정_서울시_도로_04.csv',\n",
       " './make_file/division/third_round/보정_서울시_도로_10.csv',\n",
       " './make_file/division/third_round/보정_서울시_도로_11.csv',\n",
       " './make_file/division/third_round/보정_서울시_도로_05.csv',\n",
       " './make_file/division/third_round/보정_서울시_도로_08.csv',\n",
       " './make_file/division/third_round/보정_서울시_도로_09.csv']"
      ]
     },
     "execution_count": 4,
     "metadata": {},
     "output_type": "execute_result"
    }
   ],
   "source": [
    "valid_files"
   ]
  },
  {
   "cell_type": "code",
   "execution_count": 5,
   "id": "a83c72e4-0428-46ae-b0c9-ea8f1c54e034",
   "metadata": {},
   "outputs": [
    {
     "data": {
      "text/plain": [
       "17"
      ]
     },
     "execution_count": 5,
     "metadata": {},
     "output_type": "execute_result"
    }
   ],
   "source": [
    "len(valid_files)"
   ]
  },
  {
   "cell_type": "code",
   "execution_count": 6,
   "id": "de5a4caf-b5c0-4411-8cd3-70f157ca30ee",
   "metadata": {},
   "outputs": [],
   "source": [
    "# 합친 데이터를 저장할 빈 데이터프레임\n",
    "combined_df = pd.DataFrame()\n",
    "\n",
    "# valid_files에 있는 모든 파일을 하나의 데이터프레임으로 합침\n",
    "for file_path in valid_files:\n",
    "    try:\n",
    "        # CSV 파일 읽기\n",
    "        df = pd.read_csv(file_path, encoding=file_encoding, low_memory=False)\n",
    "\n",
    "        # 데이터를 하나로 합치기\n",
    "        combined_df = pd.concat([combined_df, df], ignore_index=True)\n",
    "        \n",
    "    except Exception as e:\n",
    "        print(f\"파일 {file_path} 처리 중 오류 발생: {e}\")"
   ]
  },
  {
   "cell_type": "code",
   "execution_count": 7,
   "id": "b284fe20-e0fd-4a32-b5df-978f573207b6",
   "metadata": {},
   "outputs": [],
   "source": [
    "# for i in tqdm(range(len(combined_df))):\n",
    "#     if pd.isna(combined_df['행정동'][i]) or combined_df['행정동'][i] == \"nan\":\n",
    "#         print(combined_df['도로명'][i], combined_df['중앙점_위도'][i], combined_df['중앙점_경도'][i])"
   ]
  },
  {
   "cell_type": "code",
   "execution_count": 8,
   "id": "164ece5c-be94-4b80-8735-9cd7dcd819a1",
   "metadata": {},
   "outputs": [
    {
     "name": "stdout",
     "output_type": "stream",
     "text": [
      "283\n"
     ]
    }
   ],
   "source": [
    "nan_count = combined_df['행정동'].isna().sum() + (combined_df['행정동'] == \"nan\").sum()\n",
    "print(nan_count)"
   ]
  },
  {
   "cell_type": "code",
   "execution_count": 9,
   "id": "06825216-9df5-463a-bf59-66ab2d4e8f85",
   "metadata": {},
   "outputs": [
    {
     "name": "stdout",
     "output_type": "stream",
     "text": [
      "0\n",
      "0\n"
     ]
    }
   ],
   "source": [
    "# 널 값 삭제 후 결과 확인\n",
    "combined_df = combined_df[~combined_df['행정동'].isna()]\n",
    "nan_count = combined_df['행정동'].isna().sum() + (combined_df['행정동'] == \"nan\").sum()\n",
    "print(nan_count)\n",
    "\n",
    "# 'nan' 값 삭제 후 결과 확인\n",
    "combined_df = combined_df[combined_df['행정동'] != \"nan\"]\n",
    "nan_count = combined_df['행정동'].isna().sum() + (combined_df['행정동'] == \"nan\").sum()\n",
    "print(nan_count)\n"
   ]
  },
  {
   "cell_type": "code",
   "execution_count": 10,
   "id": "a9e1ebf9-c94b-4ecb-913a-483459dce873",
   "metadata": {},
   "outputs": [
    {
     "data": {
      "text/plain": [
       "Index(['도로명', '도로 종류', '시작점_위도', '시작점_경도', '종료점_위도', '종료점_경도', '중앙점_위도',\n",
       "       '중앙점_경도', '도로_길이', '터널 여부', '교량 여부', '서비스 도로 여부', '도로 ID', '속도 제한',\n",
       "       '차선 수', '일방통행 여부', '교차로 여부', '행정동'],\n",
       "      dtype='object')"
      ]
     },
     "execution_count": 10,
     "metadata": {},
     "output_type": "execute_result"
    }
   ],
   "source": [
    "combined_df.columns"
   ]
  },
  {
   "cell_type": "code",
   "execution_count": 11,
   "id": "1fb7026b-bf35-4599-a729-82be5b537baf",
   "metadata": {},
   "outputs": [],
   "source": [
    "combined_df['열선'] = 0"
   ]
  },
  {
   "cell_type": "code",
   "execution_count": 12,
   "id": "49f968f0-1d95-43aa-bc46-20f378e143f5",
   "metadata": {},
   "outputs": [
    {
     "data": {
      "text/plain": [
       "Index(['도로명', '도로 종류', '시작점_위도', '시작점_경도', '종료점_위도', '종료점_경도', '중앙점_위도',\n",
       "       '중앙점_경도', '도로_길이', '터널 여부', '교량 여부', '서비스 도로 여부', '도로 ID', '속도 제한',\n",
       "       '차선 수', '일방통행 여부', '교차로 여부', '행정동', '열선'],\n",
       "      dtype='object')"
      ]
     },
     "execution_count": 12,
     "metadata": {},
     "output_type": "execute_result"
    }
   ],
   "source": [
    "combined_df.columns"
   ]
  },
  {
   "cell_type": "code",
   "execution_count": 13,
   "id": "81ef57d7-f891-43ac-9d8e-69bc392139ca",
   "metadata": {},
   "outputs": [],
   "source": [
    "new_combined_df = combined_df[['도로명', '열선', '도로 종류', '시작점_위도', '시작점_경도', \n",
    "                               '종료점_위도', '종료점_경도', '중앙점_위도', '중앙점_경도', \n",
    "                               '도로_길이', '행정동']].copy()\n"
   ]
  },
  {
   "cell_type": "code",
   "execution_count": 14,
   "id": "ee438146-f2b0-4ded-b4f5-1399c1146c8c",
   "metadata": {},
   "outputs": [
    {
     "name": "stdout",
     "output_type": "stream",
     "text": [
      "저장하는 도로의 수 : 161,362곳\n"
     ]
    }
   ],
   "source": [
    "print(f\"저장하는 도로의 수 : {len(new_combined_df):,}곳\")"
   ]
  },
  {
   "cell_type": "code",
   "execution_count": 15,
   "id": "e1a7f548-7194-4944-b618-b161806e8dc0",
   "metadata": {},
   "outputs": [
    {
     "name": "stdout",
     "output_type": "stream",
     "text": [
      "./make_file/(통합)_서울시_도로_리스트.csv 파일 저장 완료.\n"
     ]
    }
   ],
   "source": [
    "try :\n",
    "    save_url = \"./make_file/(통합)_서울시_도로_리스트.csv\"\n",
    "    new_combined_df.to_csv(save_url, index=False, encoding='UTF-8')\n",
    "    print(f\"{save_url} 파일 저장 완료.\")\n",
    "except OSError as e :\n",
    "    print(e)"
   ]
  },
  {
   "cell_type": "code",
   "execution_count": null,
   "id": "cc492384-90ee-4699-9395-cfbe06b41a1f",
   "metadata": {},
   "outputs": [],
   "source": []
  },
  {
   "cell_type": "code",
   "execution_count": null,
   "id": "809a2fa2-294b-4c36-a8b1-c5de278a4904",
   "metadata": {},
   "outputs": [],
   "source": []
  }
 ],
 "metadata": {
  "kernelspec": {
   "display_name": "Python 3 (ipykernel)",
   "language": "python",
   "name": "python3"
  },
  "language_info": {
   "codemirror_mode": {
    "name": "ipython",
    "version": 3
   },
   "file_extension": ".py",
   "mimetype": "text/x-python",
   "name": "python",
   "nbconvert_exporter": "python",
   "pygments_lexer": "ipython3",
   "version": "3.13.2"
  }
 },
 "nbformat": 4,
 "nbformat_minor": 5
}
