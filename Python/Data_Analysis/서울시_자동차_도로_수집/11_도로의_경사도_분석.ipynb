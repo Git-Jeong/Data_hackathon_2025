{
 "cells": [
  {
   "cell_type": "code",
   "execution_count": null,
   "id": "9c72d849-67b1-4ecf-b84e-1cec89ef86e5",
   "metadata": {},
   "outputs": [],
   "source": []
  },
  {
   "cell_type": "code",
   "execution_count": 82,
   "id": "a369c96f-1b53-4a37-9882-9a9bb7867146",
   "metadata": {},
   "outputs": [],
   "source": [
    "import pandas as pd\n",
    "import requests\n",
    "import time\n",
    "import math\n",
    "from tqdm import tqdm"
   ]
  },
  {
   "cell_type": "code",
   "execution_count": 83,
   "id": "8cc39739-8557-4eed-9ef1-63fbda66b86a",
   "metadata": {},
   "outputs": [],
   "source": [
    "file_url = \"./make_file/공동작업/서울열선_광진구_필터링파일.csv\"\n",
    "file_encoding = \"UTF-8\""
   ]
  },
  {
   "cell_type": "code",
   "execution_count": 84,
   "id": "66f3d47a-87e9-476c-ba86-890261e67fbc",
   "metadata": {},
   "outputs": [],
   "source": [
    "data = pd.read_csv(file_url, encoding=file_encoding, low_memory=False)"
   ]
  },
  {
   "cell_type": "code",
   "execution_count": 85,
   "id": "6e6520e0-3573-4f55-95c5-c475aa38c4f0",
   "metadata": {},
   "outputs": [
    {
     "name": "stdout",
     "output_type": "stream",
     "text": [
      "data.drop(columns=\"id\")  완료.\n"
     ]
    }
   ],
   "source": [
    "try :\n",
    "    data = data.drop(columns=\"id\")\n",
    "    print(f\"data.drop(columns=\\\"id\\\")  완료.\")\n",
    "except KeyError as e :\n",
    "    print(e)"
   ]
  },
  {
   "cell_type": "code",
   "execution_count": 86,
   "id": "c4fcbeca-744a-4e40-af80-3f36e5c2173c",
   "metadata": {},
   "outputs": [
    {
     "data": {
      "text/plain": [
       "Index(['도로명', '열선', '도로 종류', '시작점_위도', '시작점_경도', '종료점_위도', '종료점_경도', '중앙점_위도',\n",
       "       '중앙점_경도', '도로_길이', '행정동', '도로폭', '도로규모', '행정구역'],\n",
       "      dtype='object')"
      ]
     },
     "execution_count": 86,
     "metadata": {},
     "output_type": "execute_result"
    }
   ],
   "source": [
    "data.columns"
   ]
  },
  {
   "cell_type": "code",
   "execution_count": 87,
   "id": "cd097776-17b4-4c3d-bd31-cd47c8a302bb",
   "metadata": {},
   "outputs": [
    {
     "name": "stdout",
     "output_type": "stream",
     "text": [
      "도로명         0\n",
      "열선          0\n",
      "도로 종류       2\n",
      "시작점_위도      0\n",
      "시작점_경도      0\n",
      "종료점_위도      0\n",
      "종료점_경도      0\n",
      "중앙점_위도      0\n",
      "중앙점_경도      0\n",
      "도로_길이       0\n",
      "행정동         0\n",
      "도로폭       154\n",
      "도로규모      154\n",
      "행정구역        0\n",
      "dtype: int64\n"
     ]
    }
   ],
   "source": [
    "print(data.isnull().sum())"
   ]
  },
  {
   "cell_type": "code",
   "execution_count": 88,
   "id": "d8da61d2-94af-4f83-b9e4-1f0b2eeb079f",
   "metadata": {},
   "outputs": [],
   "source": [
    "start_latitude = data['시작점_위도'].to_list()\n",
    "start_longitude = data['시작점_경도'].to_list()\n",
    "\n",
    "end_latitude = data['종료점_위도'].to_list()\n",
    "end_longitude = data['종료점_경도'].to_list()"
   ]
  },
  {
   "cell_type": "code",
   "execution_count": 89,
   "id": "3703d95c-09ad-41a5-9838-de43d72da1a0",
   "metadata": {},
   "outputs": [
    {
     "name": "stdout",
     "output_type": "stream",
     "text": [
      "7193\n",
      "7193\n",
      "7193\n",
      "7193\n"
     ]
    }
   ],
   "source": [
    "print(len(start_latitude))\n",
    "print(len(start_longitude))\n",
    "print(len(end_latitude))\n",
    "print(len(end_longitude))"
   ]
  },
  {
   "cell_type": "markdown",
   "id": "074ea95c-7716-440f-9420-9ec73d36eab4",
   "metadata": {},
   "source": [
    "### 구글"
   ]
  },
  {
   "cell_type": "code",
   "execution_count": 90,
   "id": "7fb68d02-4e63-40bb-b72e-389cf1c4fd88",
   "metadata": {},
   "outputs": [
    {
     "name": "stdout",
     "output_type": "stream",
     "text": [
      "사이트\n",
      "공공데이터                     1\n",
      "kakao_api_key_REST        1\n",
      "kakao_api_key_REST_sub    1\n",
      "카카오 JS                    1\n",
      "국토부v-world                1\n",
      "GOOGLE_MAP                1\n",
      "행정안전부                     1\n",
      "Name: count, dtype: int64\n"
     ]
    }
   ],
   "source": [
    "api_key_url = '../API_KEY/API_KEYS.xlsx'\n",
    "open_api_key_file = pd.read_excel(api_key_url)\n",
    " \n",
    "print(open_api_key_file['사이트'].value_counts())\n",
    "GOOGLE_API_KEY = open_api_key_file[open_api_key_file['사이트'] == 'GOOGLE_MAP'].values[0][1]   "
   ]
  },
  {
   "cell_type": "code",
   "execution_count": 91,
   "id": "e959dd58-5c75-4da6-9b13-1985fcc81a83",
   "metadata": {},
   "outputs": [],
   "source": [
    "start_altitude = []\n",
    "end_altitude = []"
   ]
  },
  {
   "cell_type": "code",
   "execution_count": 92,
   "id": "a31dfe54-b37e-4343-8449-6027474b5936",
   "metadata": {},
   "outputs": [],
   "source": [
    "def google_api(latitudes, longitudes, mode):\n",
    "    global start_altitude, end_altitude\n",
    "    \n",
    "    url = f\"https://maps.googleapis.com/maps/api/elevation/json?key={GOOGLE_API_KEY}\"\n",
    "\n",
    "    locations = list(zip(latitudes, longitudes))  # (위도, 경도) 쌍 리스트\n",
    "    \n",
    "    for i in range(0, len(locations), 400):  # 최대 512개씩 요청\n",
    "        batch_locations = locations[i:i+400]  # 최대 512개씩 묶기\n",
    "        locations_param = '|'.join([f\"{lat},{lon}\" for lat, lon in batch_locations])\n",
    "        full_url = f\"{url}&locations={locations_param}\"\n",
    "        \n",
    "        response = requests.get(full_url)\n",
    "            \n",
    "        if response.status_code == 200:\n",
    "            data = response.json()\n",
    "            if data['status'] == 'OK':\n",
    "                elevations = [result['elevation'] for result in data['results']]   \n",
    "            \n",
    "                if mode == 'start':\n",
    "                    start_altitude.extend(elevations)\n",
    "                elif mode == 'end':\n",
    "                    end_altitude.extend(elevations)\n",
    "            else:\n",
    "                print(\"Error in response:\", data['status'])\n",
    "        else:\n",
    "            print(\"API 호출 실패:\", response.status_code)\n",
    "\n",
    "        time.sleep(0.1)\n"
   ]
  },
  {
   "cell_type": "code",
   "execution_count": 93,
   "id": "9fe02835-9f86-49af-9904-fab53fcd8978",
   "metadata": {},
   "outputs": [
    {
     "name": "stdout",
     "output_type": "stream",
     "text": [
      "전) 기점 고도 길이 : 0\n",
      "전) 종점 고도 길이 : 0\n"
     ]
    }
   ],
   "source": [
    "print(f'전) 기점 고도 길이 : {len(start_altitude)}') \n",
    "\n",
    "print(f'전) 종점 고도 길이 : {len(end_altitude)}') "
   ]
  },
  {
   "cell_type": "code",
   "execution_count": 94,
   "id": "4b89fed7-8636-4a58-8ecf-309447fbd0cf",
   "metadata": {},
   "outputs": [
    {
     "name": "stdout",
     "output_type": "stream",
     "text": [
      "기점의 고도값 불러오기\n",
      "시작\n",
      "종료\n"
     ]
    }
   ],
   "source": [
    "# API 호출 (start)\n",
    "print(f'기점의 고도값 불러오기')\n",
    "print(f'시작') \n",
    "google_api(start_latitude, start_longitude, 'start') \n",
    "print(f'종료')"
   ]
  },
  {
   "cell_type": "code",
   "execution_count": 95,
   "id": "5664d50a-69cd-4a87-9049-bf33a15373c2",
   "metadata": {},
   "outputs": [
    {
     "name": "stdout",
     "output_type": "stream",
     "text": [
      "종점의 고도값 불러오기\n",
      "시작\n",
      "API 호출 실패: 400\n",
      "종료\n"
     ]
    }
   ],
   "source": [
    "# API 호출 (end)\n",
    "print(f'종점의 고도값 불러오기')\n",
    "print(f'시작')\n",
    "google_api(end_latitude, end_longitude, 'end')\n",
    "print(f'종료')"
   ]
  },
  {
   "cell_type": "code",
   "execution_count": 96,
   "id": "de80233d-1d69-4afa-85b6-00ae2d3e0f8e",
   "metadata": {},
   "outputs": [
    {
     "name": "stdout",
     "output_type": "stream",
     "text": [
      "후) 기점 고도 길이 : 7193\n",
      "후) 종점 고도 길이 : 6793\n",
      "데이터 처리에 실패했습니다...\n"
     ]
    }
   ],
   "source": [
    "print(f'후) 기점 고도 길이 : {len(start_altitude)}') \n",
    "print(f'후) 종점 고도 길이 : {len(end_altitude)}') \n",
    "\n",
    "if (len(start_altitude) == len(end_altitude)) and (len(start_altitude) > 0) :\n",
    "    print(f'결과의 길이가 같습니다.')\n",
    "    print(f'성공적으로 처리되었습니다.')\n",
    "else :\n",
    "    print(f'데이터 처리에 실패했습니다...')"
   ]
  },
  {
   "cell_type": "code",
   "execution_count": 97,
   "id": "fe86574c-82b1-437d-94ee-d6def99fa63a",
   "metadata": {},
   "outputs": [
    {
     "ename": "IndexError",
     "evalue": "list index out of range",
     "output_type": "error",
     "traceback": [
      "\u001b[31m---------------------------------------------------------------------------\u001b[39m",
      "\u001b[31mIndexError\u001b[39m                                Traceback (most recent call last)",
      "\u001b[36mCell\u001b[39m\u001b[36m \u001b[39m\u001b[32mIn[97]\u001b[39m\u001b[32m, line 4\u001b[39m\n\u001b[32m      1\u001b[39m altitude_difference = []\n\u001b[32m      3\u001b[39m \u001b[38;5;28;01mfor\u001b[39;00m i \u001b[38;5;129;01min\u001b[39;00m \u001b[38;5;28mrange\u001b[39m(\u001b[38;5;28mlen\u001b[39m(start_altitude)) :\n\u001b[32m----> \u001b[39m\u001b[32m4\u001b[39m     result = \u001b[38;5;28mabs\u001b[39m(start_altitude[i] - \u001b[43mend_altitude\u001b[49m\u001b[43m[\u001b[49m\u001b[43mi\u001b[49m\u001b[43m]\u001b[49m) \n\u001b[32m      5\u001b[39m     altitude_difference.append(result)\n\u001b[32m      7\u001b[39m \u001b[38;5;28mprint\u001b[39m(\u001b[38;5;28mlen\u001b[39m(altitude_difference))\n",
      "\u001b[31mIndexError\u001b[39m: list index out of range"
     ]
    }
   ],
   "source": [
    "altitude_difference = []\n",
    "\n",
    "for i in range(len(start_altitude)) :\n",
    "    result = abs(start_altitude[i] - end_altitude[i]) \n",
    "    altitude_difference.append(result)\n",
    "\n",
    "print(len(altitude_difference))"
   ]
  },
  {
   "cell_type": "code",
   "execution_count": null,
   "id": "1bd2ab0c-a1a4-4951-b35f-fa20e3b72962",
   "metadata": {},
   "outputs": [],
   "source": [
    "# 결과 데이터 추가 및 저장\n",
    "data['시작점_고도'] = start_altitude\n",
    "data['종료점_고도'] = end_altitude\n",
    "data['고도의_차이'] = altitude_difference"
   ]
  },
  {
   "cell_type": "code",
   "execution_count": null,
   "id": "5369c57f-01ad-4e0d-8604-29f7e57f212c",
   "metadata": {},
   "outputs": [],
   "source": [
    "start_lat = data['시작점_위도'].to_list()\n",
    "start_lon = data['시작점_경도'].to_list()\n",
    "end_lat = data['종료점_위도'].to_list()\n",
    "end_lon = data['종료점_경도'].to_list()\n",
    "different_alt = data['고도의_차이'].to_list()"
   ]
  },
  {
   "cell_type": "code",
   "execution_count": null,
   "id": "09066ed8-09f5-4796-9cd9-acfd57d4280e",
   "metadata": {},
   "outputs": [],
   "source": [
    "print(f'start_lat 길이 : {len(start_lat)}')\n",
    "print(f'start_lon 길이 : {len(start_lon)}')\n",
    "print(f'end_lat 길이 : {len(end_lat)}')\n",
    "print(f'end_lon 길이 : {len(end_lon)}')\n",
    "print(f'different_alt 길이 : {len(different_alt)}')"
   ]
  },
  {
   "cell_type": "code",
   "execution_count": null,
   "id": "6bcd6288-e5c4-4f38-9e8a-18c8b1297f02",
   "metadata": {},
   "outputs": [],
   "source": [
    "# 지구 반지름 (미터)\n",
    "R = 6371000   "
   ]
  },
  {
   "cell_type": "code",
   "execution_count": null,
   "id": "3f115928-b4d2-4987-8b06-28fb11a3ae58",
   "metadata": {},
   "outputs": [],
   "source": [
    "# 결과 저장 리스트\n",
    "road_slope = []"
   ]
  },
  {
   "cell_type": "code",
   "execution_count": null,
   "id": "ba0bf5f3-a1b5-4cf8-9e4b-c1e962638666",
   "metadata": {},
   "outputs": [],
   "source": [
    "for i in range(len(start_lat)):\n",
    "    # 위경도를 라디안으로 변환\n",
    "    lat1, lon1, lat2, lon2 = map(math.radians, [start_lat[i], start_lon[i], end_lat[i], end_lon[i]])\n",
    "\n",
    "    # 위도, 경도의 차이\n",
    "    dlat = lat2 - lat1\n",
    "    dlon = lon2 - lon1\n",
    "\n",
    "    # Haversine 공식으로 수평 거리(d) 계산\n",
    "    a = math.sin(dlat/2)**2 + math.cos(lat1) * math.cos(lat2) * math.sin(dlon/2)**2\n",
    "    c = 2 * math.atan2(math.sqrt(a), math.sqrt(1-a))\n",
    "    d = R * c  # 두 지점 간 수평 거리 (m)\n",
    "\n",
    "    # 고도 차이 (h)\n",
    "    h = different_alt[i]  \n",
    "\n",
    "    # 경사각(θ) 계산 (라디안 → 도 변환)\n",
    "    theta = math.degrees(math.atan2(h, d))\n",
    "\n",
    "    # 결과 저장\n",
    "    road_slope.append(theta)\n",
    "\n",
    "    if(i < 5) :\n",
    "        # 디버깅 출력\n",
    "        print(f\"Point {i + 1}: d = {d:.4f} m, h = {h:.4f} m, θ = {theta:.4f}°\")\n"
   ]
  },
  {
   "cell_type": "code",
   "execution_count": null,
   "id": "9650fec2-0db8-4788-adb7-ea2fe6731038",
   "metadata": {},
   "outputs": [],
   "source": [
    "print(f'변환한 road_slope의 길이 : {len(road_slope)}')"
   ]
  },
  {
   "cell_type": "code",
   "execution_count": null,
   "id": "b9e11815-c800-482a-ae97-2c3c3798ede4",
   "metadata": {},
   "outputs": [],
   "source": [
    "new_add_df = pd.DataFrame({\n",
    "    '경사각' : road_slope\n",
    "})"
   ]
  },
  {
   "cell_type": "code",
   "execution_count": null,
   "id": "74e64cc3-0fd7-4c28-9a8f-157edd4951de",
   "metadata": {},
   "outputs": [],
   "source": [
    "data['경사각'] = new_add_df"
   ]
  },
  {
   "cell_type": "code",
   "execution_count": null,
   "id": "f66393d5-9eea-4b6c-88a7-650854352a47",
   "metadata": {},
   "outputs": [],
   "source": [
    "data['도로 종류'].unique()"
   ]
  },
  {
   "cell_type": "code",
   "execution_count": null,
   "id": "8ef55d1f-7f33-4033-9645-33d1578baf93",
   "metadata": {},
   "outputs": [],
   "source": [
    "data.isnull().sum()"
   ]
  },
  {
   "cell_type": "code",
   "execution_count": null,
   "id": "b0628f90-b4d3-4f79-824c-7755f5f5df52",
   "metadata": {},
   "outputs": [],
   "source": [
    "data.columns"
   ]
  },
  {
   "cell_type": "code",
   "execution_count": null,
   "id": "767183be-bffc-416b-914e-2af6102b8ea6",
   "metadata": {},
   "outputs": [],
   "source": [
    "print(f\"최대 경사도 : {data['경사각'].max()}\")\n",
    "print(f\"평균 경사도 : {data['경사각'].mean()}\")\n",
    "print(f\"최소 경사도 : {data['경사각'].min()}\")"
   ]
  },
  {
   "cell_type": "code",
   "execution_count": null,
   "id": "16391bb8-cbf2-48ed-a9cb-29a895b64f6e",
   "metadata": {},
   "outputs": [],
   "source": [
    "try :\n",
    "    save_data_url = './make_file/(경사도)_서울열선_광진도로.csv'\n",
    "    data.to_csv(save_data_url, encoding='UTF-8')\n",
    "    print(f\"{save_data_url} 저장 완료\")\n",
    "except :\n",
    "    print(\"err\") "
   ]
  },
  {
   "cell_type": "code",
   "execution_count": null,
   "id": "ef133c87-5202-4a8e-890a-04e6927da8e1",
   "metadata": {},
   "outputs": [],
   "source": [
    "data.columns"
   ]
  },
  {
   "cell_type": "code",
   "execution_count": null,
   "id": "7d9aeb97-f5dd-47ba-8b9f-4dce04013f5b",
   "metadata": {},
   "outputs": [],
   "source": []
  },
  {
   "cell_type": "code",
   "execution_count": null,
   "id": "1bc08b05-d3d2-4cde-a54a-6314b759d739",
   "metadata": {},
   "outputs": [],
   "source": []
  }
 ],
 "metadata": {
  "kernelspec": {
   "display_name": "Python 3 (ipykernel)",
   "language": "python",
   "name": "python3"
  },
  "language_info": {
   "codemirror_mode": {
    "name": "ipython",
    "version": 3
   },
   "file_extension": ".py",
   "mimetype": "text/x-python",
   "name": "python",
   "nbconvert_exporter": "python",
   "pygments_lexer": "ipython3",
   "version": "3.13.2"
  }
 },
 "nbformat": 4,
 "nbformat_minor": 5
}
