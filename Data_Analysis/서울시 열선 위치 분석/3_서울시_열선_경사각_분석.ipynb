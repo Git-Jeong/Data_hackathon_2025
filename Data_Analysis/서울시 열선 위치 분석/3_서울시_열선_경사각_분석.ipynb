{
 "cells": [
  {
   "cell_type": "code",
   "execution_count": 12,
   "id": "bf728c33-ee27-46e3-baaa-008a19519cf4",
   "metadata": {},
   "outputs": [],
   "source": [
    "import pandas as pd"
   ]
  },
  {
   "cell_type": "code",
   "execution_count": 21,
   "id": "387dd5b8-c907-4599-bcae-3ae319862bc0",
   "metadata": {},
   "outputs": [],
   "source": [
    "url = \"./make_file/(위_경도)_서울시_도로_정리(기점_종점).csv\""
   ]
  },
  {
   "cell_type": "code",
   "execution_count": 22,
   "id": "2cb2f7b4-e2b7-4c5c-b65a-a27603bc9512",
   "metadata": {},
   "outputs": [],
   "source": [
    "data = pd.read_csv(url, encoding = \"UTF-8\")"
   ]
  },
  {
   "cell_type": "code",
   "execution_count": 23,
   "id": "5dfa89e2-4b97-4b8e-8509-08507682dc88",
   "metadata": {},
   "outputs": [
    {
     "data": {
      "text/plain": [
       "Index(['시점_위도', '시점_경도', '종점_위도', '종점_경도', '길이'], dtype='object')"
      ]
     },
     "execution_count": 23,
     "metadata": {},
     "output_type": "execute_result"
    }
   ],
   "source": [
    "data.columns"
   ]
  },
  {
   "cell_type": "code",
   "execution_count": 24,
   "id": "c9e20a47-3a65-4c99-9b84-a9d531db3105",
   "metadata": {},
   "outputs": [
    {
     "name": "stdout",
     "output_type": "stream",
     "text": [
      "\"['Unnamed: 0'] not found in axis\"\n"
     ]
    }
   ],
   "source": [
    "try :\n",
    "    data = data.drop(columns='Unnamed: 0')\n",
    "except KeyError as e :\n",
    "    print(e)"
   ]
  },
  {
   "cell_type": "code",
   "execution_count": 25,
   "id": "ceee79c6-d80c-4a11-a97d-411cc0a38f02",
   "metadata": {},
   "outputs": [
    {
     "name": "stdout",
     "output_type": "stream",
     "text": [
      "569\n"
     ]
    }
   ],
   "source": [
    "print(len(data))"
   ]
  },
  {
   "cell_type": "code",
   "execution_count": 26,
   "id": "21f8e040-5f58-4a23-8550-e14f0dd83223",
   "metadata": {},
   "outputs": [
    {
     "data": {
      "text/plain": [
       "Index(['시점_위도', '시점_경도', '종점_위도', '종점_경도', '길이'], dtype='object')"
      ]
     },
     "execution_count": 26,
     "metadata": {},
     "output_type": "execute_result"
    }
   ],
   "source": [
    "data.columns"
   ]
  },
  {
   "cell_type": "code",
   "execution_count": 27,
   "id": "bf02ba4f-4522-40e5-8130-868f839ea1ae",
   "metadata": {},
   "outputs": [
    {
     "name": "stdout",
     "output_type": "stream",
     "text": [
      "시점_위도    0\n",
      "시점_경도    0\n",
      "종점_위도    0\n",
      "종점_경도    0\n",
      "길이       0\n",
      "dtype: int64\n"
     ]
    }
   ],
   "source": [
    "print(data.isnull().sum())"
   ]
  },
  {
   "cell_type": "code",
   "execution_count": 28,
   "id": "26d94698-061c-4b43-bc44-e1b7d4e9f786",
   "metadata": {},
   "outputs": [],
   "source": [
    "start_latitude = data['시점_위도'].to_list()\n",
    "start_longitude = data['시점_경도'].to_list()\n",
    "\n",
    "end_latitude = data['종점_위도'].to_list()\n",
    "end_longitude = data['종점_경도'].to_list()\n",
    "\n",
    "start_altitude = []\n",
    "end_altitude = []"
   ]
  },
  {
   "cell_type": "code",
   "execution_count": null,
   "id": "d383a695-6810-4879-a098-bf0a14081ecd",
   "metadata": {},
   "outputs": [],
   "source": []
  },
  {
   "cell_type": "code",
   "execution_count": 29,
   "id": "cb6f76fe-fa60-4f50-961c-1af737fa6026",
   "metadata": {},
   "outputs": [
    {
     "name": "stdout",
     "output_type": "stream",
     "text": [
      "569\n",
      "569\n",
      "569\n",
      "569\n"
     ]
    }
   ],
   "source": [
    "print(len(start_latitude))\n",
    "print(len(start_longitude))\n",
    "print(len(end_latitude))\n",
    "print(len(end_longitude))"
   ]
  },
  {
   "cell_type": "markdown",
   "id": "c0f6657a-dbbb-4798-91a6-d09fc6862ac3",
   "metadata": {},
   "source": [
    "## GOOGLE API"
   ]
  },
  {
   "cell_type": "code",
   "execution_count": 30,
   "id": "3c36e435-3d8b-4b64-bb7f-f06e16595147",
   "metadata": {},
   "outputs": [
    {
     "data": {
      "text/plain": [
       "사이트\n",
       "공공데이터                 1\n",
       "kakao_api_key_REST    1\n",
       "카카오 JS                1\n",
       "국토부v-world            1\n",
       "GOOGLE_MAP            1\n",
       "행정안전부                 1\n",
       "Name: count, dtype: int64"
      ]
     },
     "execution_count": 30,
     "metadata": {},
     "output_type": "execute_result"
    }
   ],
   "source": [
    "api_key_url = '../API_KEY/API_KEYS.xlsx'\n",
    "open_api_key_file = pd.read_excel(api_key_url)\n",
    " \n",
    "open_api_key_file['사이트'].value_counts()\n"
   ]
  },
  {
   "cell_type": "code",
   "execution_count": 31,
   "id": "c1aa9150-8abb-485f-8636-22007ff46efc",
   "metadata": {},
   "outputs": [],
   "source": [
    "GOOGLE_API_KEY = open_api_key_file[open_api_key_file['사이트'] == 'GOOGLE_MAP'].values[0][1]   "
   ]
  },
  {
   "cell_type": "code",
   "execution_count": 32,
   "id": "45f28a45-325f-465c-975f-edf4b5aee42b",
   "metadata": {},
   "outputs": [],
   "source": [
    "import requests\n",
    "import time\n",
    "import pandas as pd \n",
    "\n",
    "def google_api(latitudes, longitudes, mode):\n",
    "    global start_altitude, end_altitude\n",
    "    \n",
    "    url = f\"https://maps.googleapis.com/maps/api/elevation/json?key={GOOGLE_API_KEY}\"\n",
    "\n",
    "    locations = list(zip(latitudes, longitudes))  # (위도, 경도) 쌍 리스트\n",
    "    \n",
    "    for i in range(0, len(locations), 400):  # 최대 512개씩 요청\n",
    "        batch_locations = locations[i:i+400]  # 최대 512개씩 묶기\n",
    "        locations_param = '|'.join([f\"{lat},{lon}\" for lat, lon in batch_locations])\n",
    "        full_url = f\"{url}&locations={locations_param}\"\n",
    "        \n",
    "        response = requests.get(full_url)\n",
    "            \n",
    "        if response.status_code == 200:\n",
    "            data = response.json()\n",
    "            if data['status'] == 'OK':\n",
    "                elevations = [result['elevation'] for result in data['results']]   \n",
    "            \n",
    "                if mode == 'start':\n",
    "                    start_altitude.extend(elevations)\n",
    "                elif mode == 'end':\n",
    "                    end_altitude.extend(elevations)\n",
    "            else:\n",
    "                print(\"Error in response:\", data['status'])\n",
    "        else:\n",
    "            print(\"API 호출 실패:\", response.status_code)\n",
    "\n",
    "        time.sleep(0.1)\n"
   ]
  },
  {
   "cell_type": "code",
   "execution_count": 33,
   "id": "8a258b40-861a-425d-bc3d-13da0e575509",
   "metadata": {},
   "outputs": [
    {
     "name": "stdout",
     "output_type": "stream",
     "text": [
      "전) 기점 고도 길이 : 0\n",
      "전) 종점 고도 길이 : 0\n"
     ]
    }
   ],
   "source": [
    "print(f'전) 기점 고도 길이 : {len(start_altitude)}') \n",
    "\n",
    "print(f'전) 종점 고도 길이 : {len(end_altitude)}') "
   ]
  },
  {
   "cell_type": "code",
   "execution_count": 34,
   "id": "37902b8e-b3b6-4aab-8fab-f55550bcd5a9",
   "metadata": {},
   "outputs": [
    {
     "name": "stdout",
     "output_type": "stream",
     "text": [
      "기점의 고도값 불러오기\n",
      "시작\n",
      "종료\n"
     ]
    }
   ],
   "source": [
    "# API 호출 (start)\n",
    "print(f'기점의 고도값 불러오기')\n",
    "print(f'시작') \n",
    "google_api(start_latitude, start_longitude, 'start') \n",
    "print(f'종료')"
   ]
  },
  {
   "cell_type": "code",
   "execution_count": 35,
   "id": "7f17dbc4-330d-4555-a8ed-f135fc2a9980",
   "metadata": {},
   "outputs": [
    {
     "name": "stdout",
     "output_type": "stream",
     "text": [
      "종점의 고도값 불러오기\n",
      "시작\n",
      "종료\n"
     ]
    }
   ],
   "source": [
    "# API 호출 (end)\n",
    "print(f'종점의 고도값 불러오기')\n",
    "print(f'시작')\n",
    "google_api(end_latitude, end_longitude, 'end')\n",
    "print(f'종료')"
   ]
  },
  {
   "cell_type": "code",
   "execution_count": 36,
   "id": "3238e551-4b56-4f1f-a0c0-64e39332519e",
   "metadata": {},
   "outputs": [
    {
     "name": "stdout",
     "output_type": "stream",
     "text": [
      "후) 기점 고도 길이 : 569\n",
      "후) 종점 고도 길이 : 569\n",
      "결과의 길이가 같습니다.\n",
      "성공적으로 처리되었습니다.\n"
     ]
    }
   ],
   "source": [
    "print(f'후) 기점 고도 길이 : {len(start_altitude)}') \n",
    "print(f'후) 종점 고도 길이 : {len(end_altitude)}') \n",
    "\n",
    "if (len(start_altitude) == len(end_altitude)) and (len(start_altitude) > 0) :\n",
    "    print(f'결과의 길이가 같습니다.')\n",
    "    print(f'성공적으로 처리되었습니다.')\n",
    "else :\n",
    "    print(f'데이터 처리에 실패했습니다...')"
   ]
  },
  {
   "cell_type": "code",
   "execution_count": 37,
   "id": "5effab66-c18b-47e4-92ca-02e373205287",
   "metadata": {},
   "outputs": [
    {
     "name": "stdout",
     "output_type": "stream",
     "text": [
      "569\n"
     ]
    }
   ],
   "source": [
    "altitude_difference = []\n",
    "\n",
    "for i in range(len(start_altitude)) :\n",
    "    result = abs(start_altitude[i] - end_altitude[i]) \n",
    "    altitude_difference.append(result)\n",
    "\n",
    "print(len(altitude_difference))"
   ]
  },
  {
   "cell_type": "code",
   "execution_count": 38,
   "id": "744eaf49-e513-49d8-8fd0-d8fb1428446e",
   "metadata": {},
   "outputs": [],
   "source": [
    "# 결과 데이터 추가 및 저장\n",
    "data['시작점_고도'] = start_altitude\n",
    "data['종료점_고도'] = end_altitude\n",
    "data['고도의_차이'] = altitude_difference"
   ]
  },
  {
   "cell_type": "code",
   "execution_count": 39,
   "id": "5d2a201f-c780-40be-b57c-de61062a1d6d",
   "metadata": {},
   "outputs": [
    {
     "data": {
      "text/plain": [
       "Index(['시점_위도', '시점_경도', '종점_위도', '종점_경도', '길이', '시작점_고도', '종료점_고도', '고도의_차이'], dtype='object')"
      ]
     },
     "execution_count": 39,
     "metadata": {},
     "output_type": "execute_result"
    }
   ],
   "source": [
    "data.columns"
   ]
  },
  {
   "cell_type": "code",
   "execution_count": 40,
   "id": "d9749d9c-d1ae-452d-b475-da4f2b744b2c",
   "metadata": {},
   "outputs": [],
   "source": [
    "start_lat = data['시점_위도'].to_list()\n",
    "start_lon = data['시점_경도'].to_list()\n",
    "end_lat = data['종점_위도'].to_list()\n",
    "end_lon = data['종점_경도'].to_list()\n",
    "different_alt = data['고도의_차이'].to_list()"
   ]
  },
  {
   "cell_type": "code",
   "execution_count": 41,
   "id": "c7c5d515-9cf7-400f-9e8e-8f7e9f4b9bbe",
   "metadata": {},
   "outputs": [
    {
     "name": "stdout",
     "output_type": "stream",
     "text": [
      "start_lat 길이 : 569\n",
      "start_lon 길이 : 569\n",
      "end_lat 길이 : 569\n",
      "end_lon 길이 : 569\n",
      "different_alt 길이 : 569\n"
     ]
    }
   ],
   "source": [
    "print(f'start_lat 길이 : {len(start_lat)}')\n",
    "print(f'start_lon 길이 : {len(start_lon)}')\n",
    "print(f'end_lat 길이 : {len(end_lat)}')\n",
    "print(f'end_lon 길이 : {len(end_lon)}')\n",
    "print(f'different_alt 길이 : {len(different_alt)}')"
   ]
  },
  {
   "cell_type": "code",
   "execution_count": 42,
   "id": "53f5bd5c-092b-4614-95e8-37fb95e54a02",
   "metadata": {},
   "outputs": [],
   "source": [
    "import math\n",
    "\n",
    "# 지구 반지름 (미터)\n",
    "R = 6371000   "
   ]
  },
  {
   "cell_type": "code",
   "execution_count": 43,
   "id": "13eec67e-4ce0-4e9a-83d2-d5ef2e5e22aa",
   "metadata": {},
   "outputs": [],
   "source": [
    "# 결과 저장 리스트\n",
    "road_slope = []"
   ]
  },
  {
   "cell_type": "code",
   "execution_count": 44,
   "id": "bee89d32-487d-4465-bcd4-af80ea9ec232",
   "metadata": {},
   "outputs": [
    {
     "name": "stdout",
     "output_type": "stream",
     "text": [
      "Point 1: d = 153.0020 m, h = 31.7527 m, θ = 11.7242°\n",
      "Point 2: d = 434.7030 m, h = 38.3723 m, θ = 5.0446°\n",
      "Point 3: d = 289.7552 m, h = 39.9972 m, θ = 7.8593°\n",
      "Point 4: d = 198.7964 m, h = 35.2075 m, θ = 10.0431°\n",
      "Point 5: d = 307.6295 m, h = 6.5866 m, θ = 1.2266°\n"
     ]
    }
   ],
   "source": [
    "for i in range(len(start_lat)):\n",
    "    # 위경도를 라디안으로 변환\n",
    "    lat1, lon1, lat2, lon2 = map(math.radians, [start_lat[i], start_lon[i], end_lat[i], end_lon[i]])\n",
    "\n",
    "    # 위도, 경도의 차이\n",
    "    dlat = lat2 - lat1\n",
    "    dlon = lon2 - lon1\n",
    "\n",
    "    # Haversine 공식으로 수평 거리(d) 계산\n",
    "    a = math.sin(dlat/2)**2 + math.cos(lat1) * math.cos(lat2) * math.sin(dlon/2)**2\n",
    "    c = 2 * math.atan2(math.sqrt(a), math.sqrt(1-a))\n",
    "    d = R * c  # 두 지점 간 수평 거리 (m)\n",
    "\n",
    "    # 고도 차이 (h)\n",
    "    h = different_alt[i]  \n",
    "\n",
    "    # 경사각(θ) 계산 (라디안 → 도 변환)\n",
    "    theta = math.degrees(math.atan2(h, d))\n",
    "\n",
    "    # 결과 저장\n",
    "    road_slope.append(theta)\n",
    "\n",
    "    if(i < 5) :\n",
    "        # 디버깅 출력\n",
    "        print(f\"Point {i + 1}: d = {d:.4f} m, h = {h:.4f} m, θ = {theta:.4f}°\")\n"
   ]
  },
  {
   "cell_type": "code",
   "execution_count": 45,
   "id": "a1831030-a107-4778-9713-db0d983fb1a2",
   "metadata": {},
   "outputs": [
    {
     "name": "stdout",
     "output_type": "stream",
     "text": [
      "변환한 road_slope의 길이 : 569\n"
     ]
    }
   ],
   "source": [
    "print(f'변환한 road_slope의 길이 : {len(road_slope)}')"
   ]
  },
  {
   "cell_type": "code",
   "execution_count": 46,
   "id": "a9c9c6cc-888a-4989-9236-5f328a6e4624",
   "metadata": {},
   "outputs": [],
   "source": [
    "new_add_df = pd.DataFrame({\n",
    "    '경사각' : road_slope\n",
    "})"
   ]
  },
  {
   "cell_type": "code",
   "execution_count": 47,
   "id": "a79c8005-7b88-4eb0-830f-b080a5d2a1e9",
   "metadata": {},
   "outputs": [],
   "source": [
    "data['경사각'] = new_add_df"
   ]
  },
  {
   "cell_type": "code",
   "execution_count": 48,
   "id": "35d3c829-4a33-40c1-a8d3-6b40c19c2edc",
   "metadata": {},
   "outputs": [
    {
     "data": {
      "text/plain": [
       "Index(['시점_위도', '시점_경도', '종점_위도', '종점_경도', '길이', '시작점_고도', '종료점_고도', '고도의_차이',\n",
       "       '경사각'],\n",
       "      dtype='object')"
      ]
     },
     "execution_count": 48,
     "metadata": {},
     "output_type": "execute_result"
    }
   ],
   "source": [
    "data.columns"
   ]
  },
  {
   "cell_type": "code",
   "execution_count": 49,
   "id": "8f7ba36d-acbf-410d-94b0-c123a3f5debf",
   "metadata": {},
   "outputs": [
    {
     "data": {
      "text/plain": [
       "0      11.724227\n",
       "1       5.044559\n",
       "2       7.859327\n",
       "3      10.043141\n",
       "4       1.226563\n",
       "         ...    \n",
       "564     0.264654\n",
       "565     0.348516\n",
       "566     0.521437\n",
       "567     0.572816\n",
       "568     0.740789\n",
       "Name: 경사각, Length: 569, dtype: float64"
      ]
     },
     "execution_count": 49,
     "metadata": {},
     "output_type": "execute_result"
    }
   ],
   "source": [
    "data['경사각']"
   ]
  },
  {
   "cell_type": "code",
   "execution_count": 50,
   "id": "c42c4f69-6841-4280-bc22-b23e8967a57e",
   "metadata": {},
   "outputs": [],
   "source": [
    "# 중점 좌표 계산\n",
    "mid_lat = [(start + end) / 2 for start, end in zip(start_lat, end_lat)]\n",
    "mid_lon = [(start + end) / 2 for start, end in zip(start_lon, end_lon)]\n",
    "\n",
    "# 데이터프레임에 중점 좌표 추가\n",
    "data['중점_위도'] = mid_lat\n",
    "data['중점_경도'] = mid_lon"
   ]
  },
  {
   "cell_type": "code",
   "execution_count": 51,
   "id": "68aea316-6eae-4e4e-b423-efccbd19df12",
   "metadata": {},
   "outputs": [
    {
     "data": {
      "text/plain": [
       "Index(['시점_위도', '시점_경도', '종점_위도', '종점_경도', '길이', '시작점_고도', '종료점_고도', '고도의_차이',\n",
       "       '경사각', '중점_위도', '중점_경도'],\n",
       "      dtype='object')"
      ]
     },
     "execution_count": 51,
     "metadata": {},
     "output_type": "execute_result"
    }
   ],
   "source": [
    "data.columns"
   ]
  },
  {
   "cell_type": "code",
   "execution_count": 52,
   "id": "52ba7957-e4d1-42d5-8f58-c904bfb428a7",
   "metadata": {},
   "outputs": [
    {
     "data": {
      "text/html": [
       "<div>\n",
       "<style scoped>\n",
       "    .dataframe tbody tr th:only-of-type {\n",
       "        vertical-align: middle;\n",
       "    }\n",
       "\n",
       "    .dataframe tbody tr th {\n",
       "        vertical-align: top;\n",
       "    }\n",
       "\n",
       "    .dataframe thead th {\n",
       "        text-align: right;\n",
       "    }\n",
       "</style>\n",
       "<table border=\"1\" class=\"dataframe\">\n",
       "  <thead>\n",
       "    <tr style=\"text-align: right;\">\n",
       "      <th></th>\n",
       "      <th>시점_위도</th>\n",
       "      <th>시점_경도</th>\n",
       "      <th>종점_위도</th>\n",
       "      <th>종점_경도</th>\n",
       "      <th>길이</th>\n",
       "      <th>시작점_고도</th>\n",
       "      <th>종료점_고도</th>\n",
       "      <th>고도의_차이</th>\n",
       "      <th>경사각</th>\n",
       "      <th>중점_위도</th>\n",
       "      <th>중점_경도</th>\n",
       "    </tr>\n",
       "  </thead>\n",
       "  <tbody>\n",
       "    <tr>\n",
       "      <th>0</th>\n",
       "      <td>37.589926</td>\n",
       "      <td>126.993697</td>\n",
       "      <td>37.591160</td>\n",
       "      <td>126.992929</td>\n",
       "      <td>160</td>\n",
       "      <td>62.080006</td>\n",
       "      <td>93.832680</td>\n",
       "      <td>31.752674</td>\n",
       "      <td>11.724227</td>\n",
       "      <td>37.590543</td>\n",
       "      <td>126.993313</td>\n",
       "    </tr>\n",
       "    <tr>\n",
       "      <th>1</th>\n",
       "      <td>37.611574</td>\n",
       "      <td>126.978609</td>\n",
       "      <td>37.615247</td>\n",
       "      <td>126.976917</td>\n",
       "      <td>150</td>\n",
       "      <td>149.520370</td>\n",
       "      <td>187.892639</td>\n",
       "      <td>38.372269</td>\n",
       "      <td>5.044559</td>\n",
       "      <td>37.613411</td>\n",
       "      <td>126.977763</td>\n",
       "    </tr>\n",
       "    <tr>\n",
       "      <th>2</th>\n",
       "      <td>37.610064</td>\n",
       "      <td>126.975395</td>\n",
       "      <td>37.612667</td>\n",
       "      <td>126.975238</td>\n",
       "      <td>210</td>\n",
       "      <td>118.210579</td>\n",
       "      <td>158.207809</td>\n",
       "      <td>39.997231</td>\n",
       "      <td>7.859327</td>\n",
       "      <td>37.611366</td>\n",
       "      <td>126.975317</td>\n",
       "    </tr>\n",
       "    <tr>\n",
       "      <th>3</th>\n",
       "      <td>37.606240</td>\n",
       "      <td>126.957833</td>\n",
       "      <td>37.604560</td>\n",
       "      <td>126.957061</td>\n",
       "      <td>190</td>\n",
       "      <td>92.292526</td>\n",
       "      <td>127.500053</td>\n",
       "      <td>35.207527</td>\n",
       "      <td>10.043141</td>\n",
       "      <td>37.605400</td>\n",
       "      <td>126.957447</td>\n",
       "    </tr>\n",
       "    <tr>\n",
       "      <th>4</th>\n",
       "      <td>37.583442</td>\n",
       "      <td>126.985409</td>\n",
       "      <td>37.583186</td>\n",
       "      <td>126.988885</td>\n",
       "      <td>355</td>\n",
       "      <td>48.981506</td>\n",
       "      <td>42.394905</td>\n",
       "      <td>6.586601</td>\n",
       "      <td>1.226563</td>\n",
       "      <td>37.583314</td>\n",
       "      <td>126.987147</td>\n",
       "    </tr>\n",
       "    <tr>\n",
       "      <th>...</th>\n",
       "      <td>...</td>\n",
       "      <td>...</td>\n",
       "      <td>...</td>\n",
       "      <td>...</td>\n",
       "      <td>...</td>\n",
       "      <td>...</td>\n",
       "      <td>...</td>\n",
       "      <td>...</td>\n",
       "      <td>...</td>\n",
       "      <td>...</td>\n",
       "      <td>...</td>\n",
       "    </tr>\n",
       "    <tr>\n",
       "      <th>564</th>\n",
       "      <td>37.552091</td>\n",
       "      <td>127.143855</td>\n",
       "      <td>37.552047</td>\n",
       "      <td>127.142747</td>\n",
       "      <td>110</td>\n",
       "      <td>32.475735</td>\n",
       "      <td>32.927330</td>\n",
       "      <td>0.451595</td>\n",
       "      <td>0.264654</td>\n",
       "      <td>37.552069</td>\n",
       "      <td>127.143301</td>\n",
       "    </tr>\n",
       "    <tr>\n",
       "      <th>565</th>\n",
       "      <td>37.551713</td>\n",
       "      <td>127.143822</td>\n",
       "      <td>37.551680</td>\n",
       "      <td>127.142719</td>\n",
       "      <td>110</td>\n",
       "      <td>32.412693</td>\n",
       "      <td>33.004562</td>\n",
       "      <td>0.591869</td>\n",
       "      <td>0.348516</td>\n",
       "      <td>37.551697</td>\n",
       "      <td>127.143270</td>\n",
       "    </tr>\n",
       "    <tr>\n",
       "      <th>566</th>\n",
       "      <td>37.551245</td>\n",
       "      <td>127.143771</td>\n",
       "      <td>37.551306</td>\n",
       "      <td>127.142668</td>\n",
       "      <td>110</td>\n",
       "      <td>32.272240</td>\n",
       "      <td>33.159863</td>\n",
       "      <td>0.887623</td>\n",
       "      <td>0.521437</td>\n",
       "      <td>37.551275</td>\n",
       "      <td>127.143220</td>\n",
       "    </tr>\n",
       "    <tr>\n",
       "      <th>567</th>\n",
       "      <td>37.540927</td>\n",
       "      <td>127.149979</td>\n",
       "      <td>37.541814</td>\n",
       "      <td>127.149292</td>\n",
       "      <td>90</td>\n",
       "      <td>30.534058</td>\n",
       "      <td>29.376165</td>\n",
       "      <td>1.157892</td>\n",
       "      <td>0.572816</td>\n",
       "      <td>37.541371</td>\n",
       "      <td>127.149635</td>\n",
       "    </tr>\n",
       "    <tr>\n",
       "      <th>568</th>\n",
       "      <td>37.549133</td>\n",
       "      <td>127.141407</td>\n",
       "      <td>37.548913</td>\n",
       "      <td>127.142583</td>\n",
       "      <td>124</td>\n",
       "      <td>30.737801</td>\n",
       "      <td>29.361000</td>\n",
       "      <td>1.376801</td>\n",
       "      <td>0.740789</td>\n",
       "      <td>37.549023</td>\n",
       "      <td>127.141995</td>\n",
       "    </tr>\n",
       "  </tbody>\n",
       "</table>\n",
       "<p>569 rows × 11 columns</p>\n",
       "</div>"
      ],
      "text/plain": [
       "         시점_위도       시점_경도      종점_위도       종점_경도   길이      시작점_고도  \\\n",
       "0    37.589926  126.993697  37.591160  126.992929  160   62.080006   \n",
       "1    37.611574  126.978609  37.615247  126.976917  150  149.520370   \n",
       "2    37.610064  126.975395  37.612667  126.975238  210  118.210579   \n",
       "3    37.606240  126.957833  37.604560  126.957061  190   92.292526   \n",
       "4    37.583442  126.985409  37.583186  126.988885  355   48.981506   \n",
       "..         ...         ...        ...         ...  ...         ...   \n",
       "564  37.552091  127.143855  37.552047  127.142747  110   32.475735   \n",
       "565  37.551713  127.143822  37.551680  127.142719  110   32.412693   \n",
       "566  37.551245  127.143771  37.551306  127.142668  110   32.272240   \n",
       "567  37.540927  127.149979  37.541814  127.149292   90   30.534058   \n",
       "568  37.549133  127.141407  37.548913  127.142583  124   30.737801   \n",
       "\n",
       "         종료점_고도     고도의_차이        경사각      중점_위도       중점_경도  \n",
       "0     93.832680  31.752674  11.724227  37.590543  126.993313  \n",
       "1    187.892639  38.372269   5.044559  37.613411  126.977763  \n",
       "2    158.207809  39.997231   7.859327  37.611366  126.975317  \n",
       "3    127.500053  35.207527  10.043141  37.605400  126.957447  \n",
       "4     42.394905   6.586601   1.226563  37.583314  126.987147  \n",
       "..          ...        ...        ...        ...         ...  \n",
       "564   32.927330   0.451595   0.264654  37.552069  127.143301  \n",
       "565   33.004562   0.591869   0.348516  37.551697  127.143270  \n",
       "566   33.159863   0.887623   0.521437  37.551275  127.143220  \n",
       "567   29.376165   1.157892   0.572816  37.541371  127.149635  \n",
       "568   29.361000   1.376801   0.740789  37.549023  127.141995  \n",
       "\n",
       "[569 rows x 11 columns]"
      ]
     },
     "execution_count": 52,
     "metadata": {},
     "output_type": "execute_result"
    }
   ],
   "source": [
    "data"
   ]
  },
  {
   "cell_type": "code",
   "execution_count": 53,
   "id": "e8f02363-7db8-4b21-b30e-72057f2c4a34",
   "metadata": {},
   "outputs": [
    {
     "name": "stdout",
     "output_type": "stream",
     "text": [
      "./make_file/열선_위경도값(중앙값_열선_경사각_포함).csv 저장 완료\n"
     ]
    }
   ],
   "source": [
    "try :\n",
    "    save_data_url = './make_file/열선_위경도값(중앙값_열선_경사각_포함).csv'\n",
    "    data.to_csv(save_data_url, encoding='euc-kr')\n",
    "    print(f\"{save_data_url} 저장 완료\")\n",
    "except :\n",
    "    print(\"err\") "
   ]
  },
  {
   "cell_type": "code",
   "execution_count": null,
   "id": "c0291d68-c1b2-4f95-b59f-8cb9d70348cd",
   "metadata": {},
   "outputs": [],
   "source": []
  },
  {
   "cell_type": "code",
   "execution_count": null,
   "id": "56296d40-a1a2-4770-85a1-81bcab8ec8ba",
   "metadata": {},
   "outputs": [],
   "source": []
  }
 ],
 "metadata": {
  "kernelspec": {
   "display_name": "Python 3 (ipykernel)",
   "language": "python",
   "name": "python3"
  },
  "language_info": {
   "codemirror_mode": {
    "name": "ipython",
    "version": 3
   },
   "file_extension": ".py",
   "mimetype": "text/x-python",
   "name": "python",
   "nbconvert_exporter": "python",
   "pygments_lexer": "ipython3",
   "version": "3.13.2"
  }
 },
 "nbformat": 4,
 "nbformat_minor": 5
}
