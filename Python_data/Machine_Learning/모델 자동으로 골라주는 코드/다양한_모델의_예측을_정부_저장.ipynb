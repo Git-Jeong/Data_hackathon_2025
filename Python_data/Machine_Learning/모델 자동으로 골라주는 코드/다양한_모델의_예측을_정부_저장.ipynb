{
 "cells": [
  {
   "cell_type": "code",
   "execution_count": 23,
   "id": "a5e6b0f8-a73b-43a9-b5dc-f249bc1e0127",
   "metadata": {},
   "outputs": [],
   "source": [
    "# null_control\n",
    "# 1 : null값을 최빈값으로 변경, \n",
    "# 2 : null값을 삭제\n",
    "null_control = 1"
   ]
  },
  {
   "cell_type": "markdown",
   "id": "52e2938f-bb34-43c1-9860-93e9dcec9970",
   "metadata": {},
   "source": [
    "# 머신러닝 모델 설명\n",
    "\n",
    "아래는 다양한 머신러닝 모델들의 역할과 특징을 설명한 내용입니다.  \n",
    "각 모델은 데이터의 패턴을 학습하여 새로운 데이터를 예측하는 데 사용됩니다.\n",
    "\n",
    "## 1. 선형 모델 (Linear Models)\n",
    "\n",
    "### **로지스틱 회귀 (Logistic Regression)**\n",
    "- 분류 문제를 해결하기 위한 통계 모델\n",
    "- 시그모이드 함수를 이용하여 이진 분류 수행\n",
    "- 데이터가 선형적으로 분리될 때 효과적\n",
    "\n",
    "---\n",
    "\n",
    "## 2. 거리 기반 모델 (Distance-Based Models)\n",
    "\n",
    "### **K-최근접 이웃 (K-Nearest Neighbors, KNN)**\n",
    "- 데이터 포인트 간의 거리를 계산하여 가장 가까운 K개의 데이터를 참조해 분류\n",
    "- 데이터의 분포가 중요하며, 연산량이 많을 수 있음\n",
    "\n",
    "---\n",
    "\n",
    "## 3. 트리 기반 모델 (Tree-Based Models)\n",
    "\n",
    "### **의사결정 트리 (Decision Tree)**\n",
    "- 데이터를 트리 구조로 나누어 분류하는 모델\n",
    "- 해석이 쉽고 직관적이지만, 과적합될 가능성이 있음\n",
    "\n",
    "### **랜덤 포레스트 (Random Forest)**\n",
    "- 여러 개의 의사결정 트리를 결합하여 예측 성능을 향상시킨 모델\n",
    "- 과적합을 방지하면서 높은 성능을 발휘\n",
    "\n",
    "### **엑스트라 트리 (Extra Trees)**\n",
    "- 랜덤 포레스트와 유사하지만, 분할 기준을 더욱 무작위로 선택하여 학습 속도를 향상\n",
    "\n",
    "---\n",
    "\n",
    "## 4. 부스팅 기반 모델 (Boosting Models)\n",
    "\n",
    "### **그래디언트 부스팅 (Gradient Boosting)**\n",
    "- 이전 모델이 예측하지 못한 부분을 보완하면서 점진적으로 향상되는 모델\n",
    "- 정확도가 높지만, 학습 시간이 오래 걸릴 수 있음\n",
    "\n",
    "### **에이다부스트 (AdaBoost)**\n",
    "- 여러 개의 약한 학습기(의사결정 트리)를 조합하여 강력한 분류기를 만듦\n",
    "- 노이즈가 많은 데이터에서는 성능이 떨어질 수 있음\n",
    "\n",
    "### **XGBoost (eXtreme Gradient Boosting)**\n",
    "- 그래디언트 부스팅을 개선하여 빠르고 강력한 모델\n",
    "- 과적합을 방지하는 정규화 기능이 추가됨 \n",
    "\n",
    "---\n",
    "\n",
    "## 5. 확률 기반 모델 (Probability-Based Models)\n",
    "\n",
    "### **나이브 베이즈 (Naive Bayes)**\n",
    "- 베이즈 정리를 기반으로 한 확률 모델\n",
    "- 단어 출현 확률을 이용한 스팸 필터링 등에 자주 사용됨\n",
    "- 독립 가정이 성립할 때 강력한 성능을 보임\n",
    "\n",
    "---\n",
    "\n",
    "## 6. 커널 기반 모델 (Kernel-Based Models)\n",
    "\n",
    "### **서포트 벡터 머신 (Support Vector Machine, SVM)**\n",
    "- 초평면을 이용해 데이터를 분류하는 모델\n",
    "- 데이터가 선형적으로 분리되지 않는 경우에도 커널 트릭을 사용해 분류 가능\n",
    "- 계산량이 많아 대규모 데이터에는 적합하지 않을 수 있음\n"
   ]
  },
  {
   "cell_type": "code",
   "execution_count": 24,
   "id": "6fac9d89-a04a-498f-b1f2-bb71da85242d",
   "metadata": {},
   "outputs": [],
   "source": [
    "# !pip install xgboost"
   ]
  },
  {
   "cell_type": "code",
   "execution_count": 55,
   "id": "f9637814-07d3-4409-90aa-f87ad65f3740",
   "metadata": {},
   "outputs": [],
   "source": [
    "import pandas as pd\n",
    "import numpy as np\n",
    "from sklearn.model_selection import train_test_split \n",
    "from sklearn.svm import SVC\n",
    "from sklearn.neighbors import KNeighborsClassifier\n",
    "from sklearn.tree import DecisionTreeClassifier\n",
    "from sklearn.ensemble import GradientBoostingClassifier\n",
    "from sklearn.naive_bayes import GaussianNB\n",
    "from sklearn.metrics import accuracy_score\n",
    "from sklearn.ensemble import RandomForestClassifier, AdaBoostClassifier, ExtraTreesClassifier"
   ]
  },
  {
   "cell_type": "code",
   "execution_count": 56,
   "id": "245afbcd-418b-4cd0-aef1-c897352e8d5f",
   "metadata": {},
   "outputs": [],
   "source": [
    "url = \"../data/(최종)_서울열선_광진도로.csv\"\n",
    "# url = \"../data/(증폭)_서울열선_광진도로.csv\"\n",
    "file_encoding = \"UTF-8\""
   ]
  },
  {
   "cell_type": "code",
   "execution_count": 57,
   "id": "02164232-a21a-469a-88df-b8debe0507f9",
   "metadata": {},
   "outputs": [],
   "source": [
    "df = pd.read_csv(url, encoding = file_encoding)"
   ]
  },
  {
   "cell_type": "code",
   "execution_count": 58,
   "id": "cd669b97-25a5-46ed-8303-bfb83683592e",
   "metadata": {},
   "outputs": [
    {
     "data": {
      "text/plain": [
       "Index(['도로명', '열선', '도로 종류', '시작점_위도', '시작점_경도', '종료점_위도', '종료점_경도', '중앙점_위도',\n",
       "       '중앙점_경도', '도로_길이', '행정동', '도로폭', '도로규모', '행정구역', '고도의_차이', '경사각',\n",
       "       '최근접_시설들_거리', '최근접_시설의_평균거리', '2019_평균_온도', '2020_평균_온도', '2021_평균_온도',\n",
       "       '2022_평균_온도', '2023_평균_온도', '2024_평균_온도', '종합_평균_기온', '최근접_시설들_최소거리',\n",
       "       '최근접_시설들_최대거리'],\n",
       "      dtype='object')"
      ]
     },
     "execution_count": 58,
     "metadata": {},
     "output_type": "execute_result"
    }
   ],
   "source": [
    "df.columns"
   ]
  },
  {
   "cell_type": "code",
   "execution_count": 59,
   "id": "0040cee5-139a-44e8-af52-f86933eef725",
   "metadata": {},
   "outputs": [],
   "source": [
    "df['최근접_시설들_최소거리'] = df['최근접_시설들_거리'].apply(lambda x: np.min(list(map(float, x.split(',')))))\n",
    "df['최근접_시설들_최대거리'] = df['최근접_시설들_거리'].apply(lambda x: np.max(list(map(float, x.split(',')))))"
   ]
  },
  {
   "cell_type": "code",
   "execution_count": 60,
   "id": "01741d8d-20cf-47bc-8c87-114593bcd581",
   "metadata": {},
   "outputs": [],
   "source": [
    "road_width = {\n",
    "    '폭20-25m' : 22.5,\n",
    "    '폭15-20m' : 17.5,\n",
    "    '폭8-10m' : 9.0,\n",
    "    '폭10-12m' : 11.0,\n",
    "    '폭6-8m' : 7.0,\n",
    "    '6m미만' : 5.0\n",
    "}\n",
    "\n",
    "df['도로폭'] = df['도로폭'].map(road_width)"
   ]
  },
  {
   "cell_type": "code",
   "execution_count": 61,
   "id": "40a8f210-aaee-48eb-93e7-331f6ad45ccc",
   "metadata": {},
   "outputs": [],
   "source": [
    "road_scale = {\n",
    "    \"소로\" : 1,   \n",
    "    \"소로3류\" : 2,  \n",
    "    \"소로1류\" : 3,\n",
    "    \"소로2류\" : 4,\n",
    "    \"중로2류\" : 5,\n",
    "    \"중로1류\" : 6\n",
    "}\n",
    "\n",
    "df['도로규모'] = df['도로규모'].map(road_scale)"
   ]
  },
  {
   "cell_type": "code",
   "execution_count": 62,
   "id": "5212373a-251c-421e-ad31-ae53acb87e07",
   "metadata": {},
   "outputs": [],
   "source": [
    "road_title = {\n",
    "    '3차로' : 1,\n",
    "    '주거지 도로' : 2,\n",
    "    '생활도로' : 3\n",
    "}\n",
    "        \n",
    "df['도로 종류'] = df['도로 종류'].map(road_title)"
   ]
  },
  {
   "cell_type": "code",
   "execution_count": 63,
   "id": "e5b0a7f3-0cfb-4fba-9895-32e79f496f97",
   "metadata": {},
   "outputs": [
    {
     "name": "stdout",
     "output_type": "stream",
     "text": [
      "[22.5  7.   5.   9.  11.  17.5]\n",
      "[6 2 1 4 3 5]\n",
      "[1 2 3]\n"
     ]
    }
   ],
   "source": [
    "print(df['도로폭'].unique())\n",
    "print(df['도로규모'].unique())\n",
    "print(df['도로 종류'].unique())"
   ]
  },
  {
   "cell_type": "code",
   "execution_count": 64,
   "id": "5a01ccd6-bb7f-45b3-a6ac-1977ca95f4f3",
   "metadata": {},
   "outputs": [
    {
     "name": "stdout",
     "output_type": "stream",
     "text": [
      "널값이 있으면 해당 컬럼의 최빈값으로 값을 대체합니다.\n"
     ]
    }
   ],
   "source": [
    "if null_control == 1 :\n",
    "    # 최빈값을 대입\n",
    "    print(f\"널값이 있으면 해당 컬럼의 최빈값으로 값을 대체합니다.\")\n",
    "    for col in ['경사각', '최근접_시설의_평균거리', '도로규모', '도로 종류', '열선', '도로폭',\n",
    "          '2019_평균_온도', '2020_평균_온도', '2021_평균_온도',\n",
    "          '2022_평균_온도', '2023_평균_온도', '2024_평균_온도', '종합_평균_기온']:\n",
    "        df[col] = df[col].fillna(df[col].mode()[0])\n",
    "if null_control == 2 :\n",
    "    # 널값 삭제\n",
    "    print(f\"널값이 있으면 해당 데이터는 삭제합니다.\")\n",
    "    df = df.dropna(subset=['경사각', '최근접_시설의_평균거리', '도로규모', '도로 종류', '열선', '도로폭',\n",
    "          '2019_평균_온도', '2020_평균_온도', '2021_평균_온도',\n",
    "          '2022_평균_온도', '2023_평균_온도', '2024_평균_온도', '종합_평균_기온'])"
   ]
  },
  {
   "cell_type": "code",
   "execution_count": 65,
   "id": "786927c4-0714-4f32-8a2f-524ed5a09ce1",
   "metadata": {},
   "outputs": [
    {
     "data": {
      "text/plain": [
       "도로명             0\n",
       "열선              0\n",
       "도로 종류           0\n",
       "시작점_위도          0\n",
       "시작점_경도          0\n",
       "종료점_위도          0\n",
       "종료점_경도          0\n",
       "중앙점_위도          0\n",
       "중앙점_경도          0\n",
       "도로_길이           0\n",
       "행정동             0\n",
       "도로폭             0\n",
       "도로규모            0\n",
       "행정구역            0\n",
       "고도의_차이          0\n",
       "경사각             0\n",
       "최근접_시설들_거리      0\n",
       "최근접_시설의_평균거리    0\n",
       "2019_평균_온도      0\n",
       "2020_평균_온도      0\n",
       "2021_평균_온도      0\n",
       "2022_평균_온도      0\n",
       "2023_평균_온도      0\n",
       "2024_평균_온도      0\n",
       "종합_평균_기온        0\n",
       "최근접_시설들_최소거리    0\n",
       "최근접_시설들_최대거리    0\n",
       "dtype: int64"
      ]
     },
     "execution_count": 65,
     "metadata": {},
     "output_type": "execute_result"
    }
   ],
   "source": [
    "df.isnull().sum()"
   ]
  },
  {
   "cell_type": "code",
   "execution_count": 66,
   "id": "a25b696b-467d-4e38-ad6e-e5c94d150173",
   "metadata": {},
   "outputs": [],
   "source": [
    "# 특성과 타겟 변수 분리\n",
    "X = df[['경사각', '최근접_시설의_평균거리', '도로규모', '도로 종류', '도로폭', \n",
    "          '최근접_시설의_평균거리', '최근접_시설들_최소거리', '최근접_시설들_최대거리',\n",
    "          '2019_평균_온도', '2020_평균_온도', '2021_평균_온도',\n",
    "          '2022_평균_온도', '2023_평균_온도', '2024_평균_온도', '종합_평균_기온']]\n",
    "y = df['열선']"
   ]
  },
  {
   "cell_type": "code",
   "execution_count": 67,
   "id": "6712441d-7f6c-4315-bbb5-8028e87f2664",
   "metadata": {},
   "outputs": [],
   "source": [
    "# 모델 목록\n",
    "models = { \n",
    "    'SVM': SVC(random_state=42),\n",
    "    'KNN': KNeighborsClassifier(n_neighbors=3),\n",
    "    'Decision Tree': DecisionTreeClassifier(random_state=42),\n",
    "    'Random Forest': RandomForestClassifier(random_state=42),\n",
    "    'Gradient Boosting': GradientBoostingClassifier(random_state=42),\n",
    "    'AdaBoost': AdaBoostClassifier(random_state=42),\n",
    "    'Extra Trees': ExtraTreesClassifier(random_state=42),\n",
    "    'Naive Bayes': GaussianNB()\n",
    "}\n"
   ]
  },
  {
   "cell_type": "code",
   "execution_count": 68,
   "id": "c0b3cedb-dfc2-4801-ade1-f79cd04d8e89",
   "metadata": {},
   "outputs": [
    {
     "data": {
      "text/plain": [
       "['SVM',\n",
       " 'KNN',\n",
       " 'Decision Tree',\n",
       " 'Random Forest',\n",
       " 'Gradient Boosting',\n",
       " 'AdaBoost',\n",
       " 'Extra Trees',\n",
       " 'Naive Bayes']"
      ]
     },
     "execution_count": 68,
     "metadata": {},
     "output_type": "execute_result"
    }
   ],
   "source": [
    "temp_model_names = list(models.keys())\n",
    "temp_model_names"
   ]
  },
  {
   "cell_type": "code",
   "execution_count": 69,
   "id": "28e79b58-6cbe-47c3-b08d-ddab8937c8c1",
   "metadata": {},
   "outputs": [],
   "source": [
    "# 데이터 셔플 및 훈련, 테스트 분리\n",
    "X_train, X_test, y_train, y_test = train_test_split(X, y, test_size=0.3, random_state=42, shuffle = True)"
   ]
  },
  {
   "cell_type": "code",
   "execution_count": 70,
   "id": "bfa9ac0f-9672-498f-8183-a7f9f18dbbd8",
   "metadata": {},
   "outputs": [],
   "source": [
    "result_model_name = []\n",
    "result_model_score = []\n",
    "result_model_find = []"
   ]
  },
  {
   "cell_type": "code",
   "execution_count": 71,
   "id": "98fa6232-0276-4685-bca9-665c2a4bae60",
   "metadata": {},
   "outputs": [
    {
     "name": "stdout",
     "output_type": "stream",
     "text": [
      "./make_file/(원본)_SVM_분석한_결과.csv 저장 완료\n",
      "./make_file/(원본)_KNN_분석한_결과.csv 저장 완료\n",
      "./make_file/(원본)_Decision Tree_분석한_결과.csv 저장 완료\n",
      "./make_file/(원본)_Random Forest_분석한_결과.csv 저장 완료\n",
      "./make_file/(원본)_Gradient Boosting_분석한_결과.csv 저장 완료\n",
      "./make_file/(원본)_AdaBoost_분석한_결과.csv 저장 완료\n",
      "./make_file/(원본)_Extra Trees_분석한_결과.csv 저장 완료\n",
      "./make_file/(원본)_Naive Bayes_분석한_결과.csv 저장 완료\n"
     ]
    }
   ],
   "source": [
    "for model_name, model in models.items():\n",
    "    # 새로운 데이터 프레임 복사\n",
    "    new_df = df.copy()\n",
    "\n",
    "    # 모델 학습 및 예측\n",
    "    model.fit(X_train, y_train)\n",
    "    y_pred = model.predict(X_test)\n",
    "    score = accuracy_score(y_test, y_pred)\n",
    "\n",
    "    temp = round(score, 4)\n",
    "    result_model_name.append(model_name)\n",
    "    result_model_score.append(temp)\n",
    "\n",
    "    # 전체 데이터에 대해 최적 모델로 예측값 추가\n",
    "    result_variable = \"최적모델_예측값\"\n",
    "    new_df[result_variable] = model.predict(pd.DataFrame(X))  # 데이터프레임 변환\n",
    "\n",
    "    # 열선이 있어야 한다고 예측한 데이터만 분리\n",
    "    filter_df = new_df[new_df[result_variable] == 1]\n",
    "    temp_result_df = filter_df[filter_df[\"열선\"] == 0]\n",
    "\n",
    "    # 컬럼 존재 여부 확인\n",
    "    if not {\"중앙점_위도\", \"중앙점_경도\"}.issubset(temp_result_df.columns):\n",
    "        print(f\"오류: {model_name} 모델에서 '중앙점_위도' 또는 '중앙점_경도' 컬럼이 존재하지 않습니다.\")\n",
    "        continue\n",
    "\n",
    "    # 중복된 (중앙점_위도, 중앙점_경도) 값 찾기\n",
    "    duplicates = temp_result_df.duplicated(subset=['중앙점_위도', '중앙점_경도'], keep=False)\n",
    "\n",
    "    # 중복된 값 제거\n",
    "    result_df = temp_result_df[~duplicates]\n",
    "    result_model_find.append(len(result_df))\n",
    "\n",
    "    # 저장 경로 설정\n",
    "    save_url_1 = \"증폭\" if \"증폭\" in url else \"원본\"\n",
    "    full_save_url = f\"./make_file/({save_url_1})_{model_name}_분석한_결과.csv\"\n",
    "\n",
    "    # CSV 파일 저장\n",
    "    try:\n",
    "        result_df.to_csv(full_save_url, encoding=file_encoding, index=False)\n",
    "        print(f\"{full_save_url} 저장 완료\")\n",
    "    except OSError as e:\n",
    "        print(f\"파일 저장 오류: {e}\")\n"
   ]
  },
  {
   "cell_type": "code",
   "execution_count": 72,
   "id": "99b02d1f-2b08-47ad-a9dc-394c5a58eb4c",
   "metadata": {},
   "outputs": [
    {
     "name": "stdout",
     "output_type": "stream",
     "text": [
      "모델 명 : SVM                           ,  모델 성능 : 0.8484,  찾은 열선 : 0곳\n",
      "모델 명 : KNN                           ,  모델 성능 : 0.8466,  찾은 열선 : 29곳\n",
      "모델 명 : Decision Tree                 ,  모델 성능 : 0.9593,  찾은 열선 : 13곳\n",
      "모델 명 : Random Forest                 ,  모델 성능 : 0.9635,  찾은 열선 : 9곳\n",
      "모델 명 : Gradient Boosting             ,  모델 성능 : 0.9556,  찾은 열선 : 11곳\n",
      "모델 명 : AdaBoost                      ,  모델 성능 : 0.9339,  찾은 열선 : 22곳\n",
      "모델 명 : Extra Trees                   ,  모델 성능 : 0.9653,  찾은 열선 : 11곳\n",
      "모델 명 : Naive Bayes                   ,  모델 성능 : 0.8919,  찾은 열선 : 68곳\n"
     ]
    }
   ],
   "source": [
    "for i in range(len(result_model_find)) :\n",
    "    print(f\"모델 명 : {result_model_name[i]:30s}, \", end = \" \")\n",
    "    print(f\"모델 성능 : {result_model_score[i]:.04f}, \", end = \" \")\n",
    "    print(f\"찾은 열선 : {result_model_find[i]}곳\")"
   ]
  },
  {
   "cell_type": "code",
   "execution_count": null,
   "id": "dbd0a8db-99c2-4146-be84-90b83128481e",
   "metadata": {},
   "outputs": [],
   "source": []
  },
  {
   "cell_type": "code",
   "execution_count": null,
   "id": "4354e741-a632-4ae0-9ae7-0da2a64fc620",
   "metadata": {},
   "outputs": [],
   "source": []
  },
  {
   "cell_type": "code",
   "execution_count": null,
   "id": "03626800-3978-4320-b514-3af19d630e86",
   "metadata": {},
   "outputs": [],
   "source": []
  }
 ],
 "metadata": {
  "kernelspec": {
   "display_name": "Python 3 (ipykernel)",
   "language": "python",
   "name": "python3"
  },
  "language_info": {
   "codemirror_mode": {
    "name": "ipython",
    "version": 3
   },
   "file_extension": ".py",
   "mimetype": "text/x-python",
   "name": "python",
   "nbconvert_exporter": "python",
   "pygments_lexer": "ipython3",
   "version": "3.13.2"
  }
 },
 "nbformat": 4,
 "nbformat_minor": 5
}
