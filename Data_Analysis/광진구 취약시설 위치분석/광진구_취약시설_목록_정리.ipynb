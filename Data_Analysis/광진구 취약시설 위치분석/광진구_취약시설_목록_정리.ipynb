{
 "cells": [
  {
   "cell_type": "markdown",
   "id": "4e72ac22-0b72-4af4-98c1-0cc23df1b421",
   "metadata": {},
   "source": [
    "### 필요한 라이브러리 import"
   ]
  },
  {
   "cell_type": "code",
   "execution_count": 1,
   "id": "b430a7a5-981b-45d2-9317-87a6af9f08fd",
   "metadata": {},
   "outputs": [],
   "source": [
    "import pandas as pd\n",
    "import os\n",
    "import requests\n",
    "import sys"
   ]
  },
  {
   "cell_type": "markdown",
   "id": "91127a65-ed75-4123-9db3-29faf46adf1c",
   "metadata": {},
   "source": [
    "### KAKAO API KEY 값 관리"
   ]
  },
  {
   "cell_type": "code",
   "execution_count": 2,
   "id": "af5b43c0",
   "metadata": {},
   "outputs": [],
   "source": [
    "api_key_url = '../API KEY/API_KEYS.xlsx'\n",
    "open_api_key_file = pd.read_excel(api_key_url)\n",
    " \n",
    "open_api_key_file['사이트'].value_counts()\n",
    "\n",
    "get_api_key = open_api_key_file[open_api_key_file['사이트'] == '카카오 REST'].values[0][1]  "
   ]
  },
  {
   "cell_type": "code",
   "execution_count": 3,
   "id": "e72f0c44-beb4-43e6-bae9-a4337e8edaa1",
   "metadata": {},
   "outputs": [],
   "source": [
    "# KAKAO API KEY 값 \n",
    "KAKAO_API_KEY = get_api_key  "
   ]
  },
  {
   "cell_type": "markdown",
   "id": "2803d267-4a06-4e8c-92ff-c1825a99d14e",
   "metadata": {},
   "source": [
    "### 파일을 불러올 폴더의 위치, 저장할 폴더의 위치 설정"
   ]
  },
  {
   "cell_type": "code",
   "execution_count": 4,
   "id": "3aba891e-45e7-49a5-9022-dc191f6cf840",
   "metadata": {},
   "outputs": [],
   "source": [
    "folder_name_1 = './data'\n",
    "folder_name_2 = './make_file'\n",
    "\n",
    "save_file_folder = f'{folder_name_2}/'\n",
    "sava_file_encoding = 'utf-8'"
   ]
  },
  {
   "cell_type": "markdown",
   "id": "9a16fd8f-cef4-4a3c-98c6-80566365f222",
   "metadata": {},
   "source": [
    "### 파일을 저장할 위치 확인"
   ]
  },
  {
   "cell_type": "code",
   "execution_count": 5,
   "id": "9c7fa6a2-dbce-4a09-987a-c2b593903501",
   "metadata": {},
   "outputs": [
    {
     "name": "stdout",
     "output_type": "stream",
     "text": [
      "'./make_file/' 폴더가 생성되었습니다.\n"
     ]
    }
   ],
   "source": [
    "folder_1_check = os.path.isdir(folder_name_1)\n",
    "\n",
    "if not folder_1_check:\n",
    "    os.makedirs(folder_name_1)  # folder_name_1이 없으면 생성\n",
    "    print(f\"'{folder_name_1}' 폴더가 생성되었습니다.\")\n",
    "\n",
    "folder_2_check = os.path.isdir(save_file_folder)\n",
    "if not folder_2_check:\n",
    "    os.makedirs(save_file_folder)  # folder_name_2가 없으면 생성\n",
    "    print(f\"'{save_file_folder}' 폴더가 생성되었습니다.\")\n"
   ]
  },
  {
   "cell_type": "markdown",
   "id": "7bd984f5-3677-4cd7-b58a-63d2b749b865",
   "metadata": {},
   "source": [
    "### 불러올 파일들의 폴더 위치 지정"
   ]
  },
  {
   "cell_type": "code",
   "execution_count": 6,
   "id": "221ad409-9c58-4c70-9091-b4683ff663cb",
   "metadata": {},
   "outputs": [
    {
     "name": "stdout",
     "output_type": "stream",
     "text": [
      "필요한 파일이 모두 있습니다.\n"
     ]
    }
   ],
   "source": [
    "temp_school_url = f'{folder_name_1}/서울시_광진구_학교_기본정보.csv'\n",
    "temp_children_file_url =  f'{folder_name_1}/서울시_광진구_지역아동센터_기본정보.csv'\n",
    "temp_childcare_file_url = f'{folder_name_1}/서울시_광진구_어린이집_정보표준_데이터.csv'\n",
    "temp_welfare_file_url = f'{folder_name_1}/서울시_광진구_복지센터_정보표준_데이터.csv'\n",
    "\n",
    "school_file_check = os.path.isfile(temp_school_url)\n",
    "children_file_check = os.path.isfile(temp_children_file_url) \n",
    "childcare_file_check = os.path.isfile(temp_childcare_file_url)\n",
    "welfare_care_file_check = os.path.isfile(temp_welfare_file_url)\n",
    "\n",
    "def sys_exit(err_file) :\n",
    "    print(f'{err_file} 파일이 없습니다....')\n",
    "    print(f'파일이 없으므로 시스템을 종료합니다.')\n",
    "    sys.exit()\n",
    "\n",
    "if school_file_check is False :\n",
    "    sys_exit(temp_school_url)\n",
    "    \n",
    "if children_file_check is False :\n",
    "    sys_exit(temp_children_file_url)\n",
    "\n",
    "if childcare_file_check is False :\n",
    "    sys_exit(temp_childcare_file_url)\n",
    "\n",
    "if welfare_care_file_check is False :\n",
    "    sys_exit(temp_seniorcare_file_url)\n",
    "    \n",
    "if (school_file_check and school_file_check and childcare_file_check and welfare_care_file_check) :\n",
    "    print(f'필요한 파일이 모두 있습니다.')\n",
    "    \n",
    "school_url = temp_school_url\n",
    "children_file_url = temp_children_file_url\n",
    "childcare_file_url = temp_childcare_file_url\n",
    "welfare_file_url = temp_welfare_file_url"
   ]
  },
  {
   "cell_type": "markdown",
   "id": "b15c8fb5-c84c-4585-b0e8-83758efac31e",
   "metadata": {},
   "source": [
    "### 통합 파일로 저장하기 위한 배열"
   ]
  },
  {
   "cell_type": "code",
   "execution_count": 7,
   "id": "3c02217c-0c26-4cc9-8b79-53d351e372dc",
   "metadata": {},
   "outputs": [],
   "source": [
    "# 통합 파일로 저장할 배열\n",
    "all_list_classification = []\n",
    "all_list_name = []\n",
    "all_list_location_x_y = []\n",
    "all_list_location_x = []\n",
    "all_list_location_y = [] "
   ]
  },
  {
   "cell_type": "markdown",
   "id": "ec1c24e3-1c2e-479e-a15d-b512c2e2cf5b",
   "metadata": {},
   "source": [
    "### 학교 목록 공공데이터를 불러와서 처리 시작"
   ]
  },
  {
   "cell_type": "code",
   "execution_count": 8,
   "id": "fa21f291-f128-48d1-9eec-08edc21aea24",
   "metadata": {},
   "outputs": [],
   "source": [
    "school_data = pd.read_csv(school_url, encoding = 'euc-kr')"
   ]
  },
  {
   "cell_type": "code",
   "execution_count": 9,
   "id": "a4ae289f-2c34-400f-927c-52f2c919a5c6",
   "metadata": {
    "scrolled": true
   },
   "outputs": [],
   "source": [
    "# school_data.head(5)"
   ]
  },
  {
   "cell_type": "code",
   "execution_count": 10,
   "id": "f08e0793-b552-4f7f-98c6-a428fb669bdc",
   "metadata": {
    "scrolled": true
   },
   "outputs": [],
   "source": [
    "# school_data.info()"
   ]
  },
  {
   "cell_type": "code",
   "execution_count": 11,
   "id": "c490b5c7-f165-4656-b458-72712fd98eff",
   "metadata": {
    "scrolled": true
   },
   "outputs": [],
   "source": [
    "# school_data.isnull().sum()"
   ]
  },
  {
   "cell_type": "code",
   "execution_count": 12,
   "id": "ad9a77d5-297b-4499-9e8c-d62685c42e0f",
   "metadata": {},
   "outputs": [],
   "source": [
    "school_data = school_data.drop_duplicates(subset='학교명')\n",
    "# school_data"
   ]
  },
  {
   "cell_type": "code",
   "execution_count": 13,
   "id": "59386785-5dab-48c8-9568-68cb24f78936",
   "metadata": {},
   "outputs": [
    {
     "data": {
      "text/plain": [
       "array(['각종학교(중)', '중학교', '초등학교', '외국인학교', '고등학교', '특수학교'], dtype=object)"
      ]
     },
     "execution_count": 13,
     "metadata": {},
     "output_type": "execute_result"
    }
   ],
   "source": [
    "school_data['학교종류명'].unique()"
   ]
  },
  {
   "cell_type": "code",
   "execution_count": 14,
   "id": "4d46c0a2-726d-418e-b379-57a2118dc8a1",
   "metadata": {},
   "outputs": [],
   "source": [
    "change_school_classification = {\n",
    "    '초등학교' : 1,\n",
    "    '각종학교(중)' : 2,\n",
    "    '중학교' : 2,\n",
    "    '고등학교' : 3,\n",
    "    '외국인학교' : 4, # 외국인학교\n",
    "    '특수학교' : 5 # 특수학교\n",
    "}"
   ]
  },
  {
   "cell_type": "code",
   "execution_count": 15,
   "id": "3ea7b46a-26f5-4c50-b007-872cfc9ef892",
   "metadata": {},
   "outputs": [],
   "source": [
    "school_data['학교종류명'] = school_data['학교종류명'].map(change_school_classification)"
   ]
  },
  {
   "cell_type": "code",
   "execution_count": 16,
   "id": "6fb636ca-c1b0-465d-bfa5-b4851b013149",
   "metadata": {
    "scrolled": true
   },
   "outputs": [],
   "source": [
    "# print(f'학교 종류 : {school_data['학교종류명'].unique()}')\n",
    "# print(f'학 학교별 수 : {school_data['학교종류명'].value_counts()}')"
   ]
  },
  {
   "cell_type": "code",
   "execution_count": 17,
   "id": "f5a76b72-8b29-4f61-96b4-87705b145558",
   "metadata": {
    "jupyter": {
     "source_hidden": true
    }
   },
   "outputs": [],
   "source": [
    "# 초 중 고 여부. ['학교종류명']\n",
    "#     '초등학교' : 1,\n",
    "#     '각종학교(중)' : 2,\n",
    "#     '중학교' : 2,\n",
    "#     '고등학교' : 3,\n",
    "#     '외국인학교' : 4,\n",
    "#     '특수학교' : 5 \n",
    "# school_classification = []\n",
    "\n",
    "# # 학교 이름\n",
    "# school_name = [] "
   ]
  },
  {
   "cell_type": "code",
   "execution_count": null,
   "id": "1dd404dc-15a2-4f3a-8af3-b07a252bad8d",
   "metadata": {},
   "outputs": [],
   "source": []
  },
  {
   "cell_type": "code",
   "execution_count": 18,
   "id": "cb6c7751-d4ae-420d-b546-955c2d90c31b",
   "metadata": {},
   "outputs": [],
   "source": [
    "school_name = school_data['학교명']\n",
    "school_classification = school_data['학교종류명']"
   ]
  },
  {
   "cell_type": "code",
   "execution_count": null,
   "id": "c10ea59d-77de-4a3f-93ca-584216f9bafe",
   "metadata": {},
   "outputs": [],
   "source": []
  },
  {
   "cell_type": "markdown",
   "id": "de30bd01-2deb-4ca0-a5d3-dd846097f9a5",
   "metadata": {},
   "source": [
    "### 학교 정보 저장을 위한 배열"
   ]
  },
  {
   "cell_type": "code",
   "execution_count": 19,
   "id": "973f7e04-31da-4dc5-8a22-197585b24ad2",
   "metadata": {},
   "outputs": [],
   "source": [
    "get_school_name = []\n",
    "get_school_classification = []\n",
    "get_school_location_x_y = []\n",
    "get_school_location_x = []\n",
    "get_school_location_y = []"
   ]
  },
  {
   "cell_type": "markdown",
   "id": "49a50800-a79f-4072-b3ba-efe884eaa1e5",
   "metadata": {},
   "source": [
    "### kakao api를 활용하여 시설명 -> 위도, 경도 값으로 변환"
   ]
  },
  {
   "cell_type": "code",
   "execution_count": null,
   "id": "c932edae-3bd7-45d1-918c-5b79d7644c94",
   "metadata": {},
   "outputs": [],
   "source": [
    "def kakao_api(facilities, district=\"광진구\"):\n",
    "    query = f\"{district} {facilities}\"\n",
    "    url = \"https://dapi.kakao.com/v2/local/search/keyword.json\"\n",
    "    headers = {\"Authorization\": f\"KakaoAK {KAKAO_API_KEY}\"}\n",
    "    params = {\"query\": query}\n",
    "    \n",
    "    response = requests.get(url, headers=headers, params=params)\n",
    "    result = response.json()  \n",
    "    \n",
    "    for item in result.get(\"documents\", []):\n",
    "        # 주소에서 district(광진구)가 포함된 데이터만 필터링\n",
    "        if district in item[\"address_name\"]:  \n",
    "            lat = float(item[\"y\"])  # 위도\n",
    "            lon = float(item[\"x\"])  # 경도\n",
    "            return lat, lon  \n",
    "         \n",
    "    return None, None  "
   ]
  },
  {
   "cell_type": "markdown",
   "id": "5ea7df7e-6767-4ff7-a002-f6d458d57166",
   "metadata": {},
   "source": [
    "### 학교 수 만큼 반복문을 돌려서 위도,경도값 변환"
   ]
  },
  {
   "cell_type": "code",
   "execution_count": 21,
   "id": "672b791e-c189-4b59-95ba-386b6d0fa0a9",
   "metadata": {},
   "outputs": [],
   "source": [
    "\n",
    "for i in range(len(school_name)):\n",
    "    search_school_name = school_name.iloc[i]  \n",
    "    search_school_classification = school_classification.iloc[i] \n",
    "    \n",
    "    latitude, longitude = kakao_api(search_school_name)\n",
    "\n",
    "    search_school_location_x_y = f'{latitude}, {longitude}' \n",
    "\n",
    "    get_school_name.append(search_school_name)\n",
    "    get_school_classification.append(search_school_classification)\n",
    "    get_school_location_x_y.append(search_school_location_x_y)\n",
    "    get_school_location_x.append(latitude)\n",
    "    get_school_location_y.append(longitude)\n",
    "    \n"
   ]
  },
  {
   "cell_type": "markdown",
   "id": "4652f13a-4bbc-424e-8731-a103fd0d407a",
   "metadata": {},
   "source": [
    "### 학교 위치정보 저장을 위한 데이터프레임화"
   ]
  },
  {
   "cell_type": "code",
   "execution_count": 22,
   "id": "b501363d-6477-47c2-a03f-c42bbe6c9f08",
   "metadata": {},
   "outputs": [],
   "source": [
    "school_df = pd.DataFrame({\n",
    "    '학교구분' : get_school_classification, \n",
    "    '학교명' : get_school_name, \n",
    "    '학교_위치' : get_school_location_x_y,\n",
    "    '위도' : get_school_location_x,\n",
    "    '경도' : get_school_location_y\n",
    "})"
   ]
  },
  {
   "cell_type": "code",
   "execution_count": null,
   "id": "7dd55d81-78e5-4ac1-8b33-7086cd9e2ed9",
   "metadata": {},
   "outputs": [],
   "source": []
  },
  {
   "cell_type": "markdown",
   "id": "1b2f12f7-9287-42c7-9eb3-885c6b9a2f44",
   "metadata": {},
   "source": [
    "### 아동센터 파일 처리"
   ]
  },
  {
   "cell_type": "code",
   "execution_count": 23,
   "id": "eb0c5c8c-a98a-4e4c-b5b7-4d1fb1124cbc",
   "metadata": {},
   "outputs": [],
   "source": [
    "children_data = pd.read_csv(children_file_url, encoding = 'euc-kr')\n",
    "# children_data.head(2)"
   ]
  },
  {
   "cell_type": "code",
   "execution_count": null,
   "id": "9e4c06ce-dcc1-4c82-b249-70d72eb4bd88",
   "metadata": {},
   "outputs": [],
   "source": [
    " "
   ]
  },
  {
   "cell_type": "code",
   "execution_count": 24,
   "id": "6c8b0fb0-8db2-40e5-b43b-2e858da0ae04",
   "metadata": {},
   "outputs": [],
   "source": [
    "children_center_name = children_data['센터명']\n",
    "children_center_x_y_location = []\n",
    "children_center_x = []\n",
    "children_center_y = []\n",
    "children_center_classification = []\n",
    "\n",
    "temp_x = children_data['위도']\n",
    "temp_y = children_data['경도']\n",
    "\n",
    "for i in range(len(children_center_name)) :\n",
    "    temp_x_y = f'{temp_x[i]}, {temp_y[i]}'\n",
    "    children_center_x_y_location.append(temp_x_y)\n",
    "    children_center_x.append(temp_x[i])\n",
    "    children_center_y.append(temp_y[i])\n",
    "    children_center_classification.append('아동센터') "
   ]
  },
  {
   "cell_type": "markdown",
   "id": "9d647994-fbd5-47a8-9a4b-dd4e26d0f17e",
   "metadata": {},
   "source": [
    "### 아동센터 위치정보 저장을 위한 데이터프레임화"
   ]
  },
  {
   "cell_type": "code",
   "execution_count": 25,
   "id": "1d913518-3941-44da-ac7e-35d2071e80bc",
   "metadata": {},
   "outputs": [],
   "source": [
    "#개별 데이터 저장\n",
    "children_df = pd.DataFrame({\n",
    "    '구분' : children_center_classification, \n",
    "    '시설명' : children_center_name, \n",
    "    '시설_위치' : children_center_x_y_location\n",
    "})\n"
   ]
  },
  {
   "cell_type": "code",
   "execution_count": null,
   "id": "187df353-f31c-491e-9ad4-04d73b30f32e",
   "metadata": {},
   "outputs": [],
   "source": []
  },
  {
   "cell_type": "markdown",
   "id": "4afd77c7-999c-4b3c-ace6-85cc65ca8fd8",
   "metadata": {},
   "source": [
    "### 어린이집 파일 처리"
   ]
  },
  {
   "cell_type": "code",
   "execution_count": 26,
   "id": "6108fd2f-f530-45d1-889f-e62a6433d555",
   "metadata": {},
   "outputs": [],
   "source": [
    "# children_care_data = pd.read_csv(childcare_file_url, encoding = 'euc-kr')\n",
    "temp_children_care_data = pd.read_csv(childcare_file_url, encoding='euc-kr', on_bad_lines='skip', \n",
    "                            na_values=['', 'NaN', 'null', 'NULL', 'None', 'none', '0'])\n",
    "\n",
    "# children_care_data.head(2)"
   ]
  },
  {
   "cell_type": "code",
   "execution_count": 27,
   "id": "71be4d96-efc5-4924-a48d-088e55363648",
   "metadata": {},
   "outputs": [],
   "source": [
    "get_children_care_name = []\n",
    "get_children_care_classification = []\n",
    "get_children_care_location_x_y = []\n",
    "get_children_care_location_x = []\n",
    "get_children_care_location_y = []"
   ]
  },
  {
   "cell_type": "code",
   "execution_count": 28,
   "id": "a4a74312-883d-4516-a525-42fc49d67ced",
   "metadata": {},
   "outputs": [
    {
     "data": {
      "text/plain": [
       "array(['정상', '폐지', '재개', '휴지'], dtype=object)"
      ]
     },
     "execution_count": 28,
     "metadata": {},
     "output_type": "execute_result"
    }
   ],
   "source": [
    "temp_children_care_data['운영현황'].unique()"
   ]
  },
  {
   "cell_type": "code",
   "execution_count": 29,
   "id": "4c7921c1-eb3d-4adc-a2db-7491e64580c0",
   "metadata": {},
   "outputs": [],
   "source": [
    "children_care_data = temp_children_care_data[temp_children_care_data['운영현황'].isin(['재개', '정상'])]\n",
    "children_care_data = children_care_data.reset_index(drop=True)\n",
    "children_care_data.index = children_care_data.index + 1"
   ]
  },
  {
   "cell_type": "code",
   "execution_count": 30,
   "id": "24d40ea8-1a70-4762-affa-0bfef715d6c6",
   "metadata": {},
   "outputs": [
    {
     "data": {
      "text/plain": [
       "array(['정상', '재개'], dtype=object)"
      ]
     },
     "execution_count": 30,
     "metadata": {},
     "output_type": "execute_result"
    }
   ],
   "source": [
    "children_care_data['운영현황'].unique()"
   ]
  },
  {
   "cell_type": "code",
   "execution_count": 31,
   "id": "0e65d676-8ef1-48e4-a4ab-183f9c29a399",
   "metadata": {},
   "outputs": [],
   "source": [
    "children_care_data['어린이집명'] = children_care_data['어린이집명'].str.replace('구립 ', '', regex=True)\n",
    "children_care_data['어린이집명'] = children_care_data['어린이집명'].str.replace('구립', '', regex=True)"
   ]
  },
  {
   "cell_type": "code",
   "execution_count": 32,
   "id": "1c2104d0-14c4-45df-bf26-0405221bc3da",
   "metadata": {},
   "outputs": [],
   "source": [
    "children_care_name = children_care_data['어린이집명']\n",
    "\n",
    "for i in range(len(children_care_name)):\n",
    "    search_children_care_name = children_care_name.iloc[i] \n",
    "    search_children_care_classification = '어린이집'\n",
    "\n",
    "    temp_latitude, temp_longitude = kakao_api(search_children_care_name)\n",
    "\n",
    "    search_children_care_location_x_y = f'{temp_latitude}, {temp_longitude}' \n",
    "\n",
    "    if((temp_latitude is not None) and (temp_longitude is not None)) :\n",
    "        get_children_care_name.append(search_children_care_name)\n",
    "        get_children_care_classification.append(search_children_care_classification)\n",
    "        get_children_care_location_x_y.append(search_children_care_location_x_y)\n",
    "        get_children_care_location_x.append(temp_latitude)\n",
    "        get_children_care_location_y.append(temp_longitude)     \n"
   ]
  },
  {
   "cell_type": "markdown",
   "id": "7412ce39-6408-405d-88fa-d64d9379f705",
   "metadata": {},
   "source": [
    "### 어린이집을 파일로 저장하기 위한 프레임워크화"
   ]
  },
  {
   "cell_type": "code",
   "execution_count": 33,
   "id": "b2b03027-90ef-41d8-a21a-e1f62f752caa",
   "metadata": {},
   "outputs": [],
   "source": [
    "children_care_df = pd.DataFrame({\n",
    "    '구분' : get_children_care_classification, \n",
    "    '시설명' : get_children_care_name, \n",
    "    '위치' : get_children_care_location_x_y,\n",
    "    '위도' : get_children_care_location_x,\n",
    "    '경도' : get_children_care_location_y\n",
    "})"
   ]
  },
  {
   "cell_type": "code",
   "execution_count": null,
   "id": "d240b1b2-378b-4bfb-bd6f-345b8d0ff937",
   "metadata": {},
   "outputs": [],
   "source": []
  },
  {
   "cell_type": "code",
   "execution_count": null,
   "id": "eacf1609-7257-42c2-a5ef-fcc81ad2ac6e",
   "metadata": {},
   "outputs": [],
   "source": []
  },
  {
   "cell_type": "markdown",
   "id": "54805a44-e3ae-4e1d-b9bf-893a55468def",
   "metadata": {},
   "source": [
    "### 복지센터 파일을 처리"
   ]
  },
  {
   "cell_type": "code",
   "execution_count": 34,
   "id": "6db33972-d69b-4599-ab07-69098378e79e",
   "metadata": {},
   "outputs": [],
   "source": [
    "temp_welfare_care_file = pd.read_csv(welfare_file_url, encoding='utf-8')\n",
    "\n",
    "# welfare_care_file.head(2)"
   ]
  },
  {
   "cell_type": "code",
   "execution_count": 35,
   "id": "23f26919-63e4-4a04-a5d9-c822d2e34140",
   "metadata": {},
   "outputs": [
    {
     "data": {
      "text/plain": [
       "108"
      ]
     },
     "execution_count": 35,
     "metadata": {},
     "output_type": "execute_result"
    }
   ],
   "source": [
    "len(temp_welfare_care_file['시설명'])"
   ]
  },
  {
   "cell_type": "code",
   "execution_count": 36,
   "id": "eaaa2d22-eaf4-4923-ac58-e2ae05f99989",
   "metadata": {},
   "outputs": [],
   "source": [
    "welfare_care_file = temp_welfare_care_file.drop_duplicates(subset='시설명') "
   ]
  },
  {
   "cell_type": "code",
   "execution_count": 37,
   "id": "42946c0c-b5dd-4939-b27e-e9da8156ba3c",
   "metadata": {},
   "outputs": [
    {
     "data": {
      "text/plain": [
       "99"
      ]
     },
     "execution_count": 37,
     "metadata": {},
     "output_type": "execute_result"
    }
   ],
   "source": [
    "len(welfare_care_file['시설명'])"
   ]
  },
  {
   "cell_type": "code",
   "execution_count": 38,
   "id": "ee5626da-9c45-40ac-92fb-9f904e06d02c",
   "metadata": {},
   "outputs": [],
   "source": [
    "get_welfare_center_name = []\n",
    "get_welfare_center_x_y_location = []\n",
    "get_welfare_center_x = []\n",
    "get_welfare_center_y = []\n",
    "get_welfare_center_classification = []"
   ]
  },
  {
   "cell_type": "code",
   "execution_count": 39,
   "id": "8bcbeb71-c943-40c9-a41b-396593451c4e",
   "metadata": {},
   "outputs": [],
   "source": [
    "welfare_center_name = welfare_care_file['시설명']\n",
    "\n",
    "for i in range(len(welfare_center_name)):\n",
    "    search_welfare_center_name = welfare_center_name.iloc[i] \n",
    "    search_welfare_center_classification = '복지센터'\n",
    "\n",
    "    temp_latitude, temp_longitude = kakao_api(search_welfare_center_name)\n",
    "\n",
    "    search_welfare_center_location_x_y = f'{temp_latitude}, {temp_longitude}' \n",
    "\n",
    "    if((temp_latitude is not None) and (temp_longitude is not None)) :\n",
    "        get_welfare_center_name.append(search_welfare_center_name)\n",
    "        get_welfare_center_classification.append(search_welfare_center_classification)\n",
    "        get_welfare_center_x_y_location.append(search_welfare_center_location_x_y)\n",
    "        get_welfare_center_x.append(temp_latitude)\n",
    "        get_welfare_center_y.append(temp_longitude)      "
   ]
  },
  {
   "cell_type": "markdown",
   "id": "4ff9dd6a-fed4-42a9-8356-22f6ff970ea9",
   "metadata": {},
   "source": [
    "### 복지센터 파일로 저장하기 위한 프레임워크화"
   ]
  },
  {
   "cell_type": "code",
   "execution_count": 40,
   "id": "0c00e274-bca8-4b0d-9b69-e57c94e68cc7",
   "metadata": {},
   "outputs": [],
   "source": [
    "welfare_center_df = pd.DataFrame({\n",
    "    '구분' : get_welfare_center_classification, \n",
    "    '시설명' : get_welfare_center_name, \n",
    "    '위치' : get_welfare_center_x_y_location,\n",
    "    '위도' : get_welfare_center_x,\n",
    "    '경도' : get_welfare_center_y\n",
    "})"
   ]
  },
  {
   "cell_type": "markdown",
   "id": "2fd658ee-8e79-4502-8b1a-402b88969eef",
   "metadata": {},
   "source": [
    "### 학교 위치를 csv 파일로 저장"
   ]
  },
  {
   "cell_type": "code",
   "execution_count": 41,
   "id": "56180309-9f0f-4aeb-86ff-aa80589fde0f",
   "metadata": {},
   "outputs": [],
   "source": [
    "school_df.to_csv(f'{save_file_folder}/광진구_학교_위치.csv', encoding = sava_file_encoding)"
   ]
  },
  {
   "cell_type": "markdown",
   "id": "7ee9ef81-acbd-4130-b9a0-b2dc4cb646e3",
   "metadata": {},
   "source": [
    "### 아동센터 위치를 csv 파일로 저장"
   ]
  },
  {
   "cell_type": "code",
   "execution_count": 42,
   "id": "5b3eafd5-c8a1-4419-aa26-9a64227756d7",
   "metadata": {},
   "outputs": [],
   "source": [
    "children_df.to_csv(f'{save_file_folder}/광진구_아동센터_위치.csv', encoding = sava_file_encoding)"
   ]
  },
  {
   "cell_type": "markdown",
   "id": "1fe525f0-8b2c-4258-8bbf-a4c06dcefaf3",
   "metadata": {},
   "source": [
    "### 어린이집 위치를 csv 파일로 저장"
   ]
  },
  {
   "cell_type": "code",
   "execution_count": 43,
   "id": "386b4209-d71f-48d7-b269-2a84810d5f6f",
   "metadata": {},
   "outputs": [],
   "source": [
    "children_care_df.to_csv(f'{save_file_folder}/광진구_어린이집_위치.csv', encoding = sava_file_encoding)"
   ]
  },
  {
   "cell_type": "markdown",
   "id": "4b5e8a1c-156b-41e6-bd91-5327405c7f3c",
   "metadata": {},
   "source": [
    "### 복지센터 위치를 csv 파일로 저장"
   ]
  },
  {
   "cell_type": "code",
   "execution_count": 44,
   "id": "61990a47-6a18-41f9-9a64-58173a414c95",
   "metadata": {},
   "outputs": [],
   "source": [
    "welfare_center_df.to_csv(f'{save_file_folder}/광진구_복지센터_위치.csv', encoding = sava_file_encoding)"
   ]
  },
  {
   "cell_type": "markdown",
   "id": "82c96f8f-42fa-4932-9bbf-6923acbda8f5",
   "metadata": {},
   "source": [
    "### 통합 파일로 저장하기 위한 데이터값 저장"
   ]
  },
  {
   "cell_type": "code",
   "execution_count": 45,
   "id": "69b42dae-d807-4f5b-8009-5f48c8278fe2",
   "metadata": {},
   "outputs": [],
   "source": [
    "# 통합 파일에 학교 정보를 저장\n",
    "for i in range(len(get_school_name)) :\n",
    "    all_list_classification.append('학교')\n",
    "    all_list_location_x_y.append(get_school_location_x_y[i])\n",
    "    all_list_name.append(get_school_name[i])\n",
    "    all_list_location_x.append(get_school_location_x[i])\n",
    "    all_list_location_y.append(get_school_location_y[i])"
   ]
  },
  {
   "cell_type": "code",
   "execution_count": 46,
   "id": "f5f1194f-3a56-42bf-aac1-08ef329b7cc4",
   "metadata": {},
   "outputs": [],
   "source": [
    "# 통합 파일에 아동센터 정보를 저장\n",
    "for i in range(len(children_center_name)) :\n",
    "    all_list_classification.append('아동센터')\n",
    "    all_list_name.append(children_center_name[i])\n",
    "    all_list_location_x_y.append(children_center_x_y_location[i])\n",
    "    all_list_location_x.append(children_center_x[i]) \n",
    "    all_list_location_y.append(children_center_y[i]) \n",
    "    "
   ]
  },
  {
   "cell_type": "code",
   "execution_count": 47,
   "id": "a0344cd4-cf9f-4674-81cd-8fdaecf0f493",
   "metadata": {},
   "outputs": [],
   "source": [
    "# 통합 파일에 어린이집 정보를 저장\n",
    "for i in range(len(get_children_care_name)) :\n",
    "    all_list_classification.append('어린이집')\n",
    "    all_list_name.append(get_children_care_name[i])\n",
    "    all_list_location_x_y.append(get_children_care_location_x_y[i])\n",
    "    all_list_location_x.append(get_children_care_location_x[i]) \n",
    "    all_list_location_y.append(get_children_care_location_y[i]) \n",
    "    "
   ]
  },
  {
   "cell_type": "code",
   "execution_count": 48,
   "id": "2249be60-a1d0-4844-8b67-31bb4c8252b3",
   "metadata": {},
   "outputs": [],
   "source": [
    "# 통합 파일에 복지센터 정보를 저장\n",
    "for i in range(len(get_welfare_center_name)) :\n",
    "    all_list_classification.append('복지센터')\n",
    "    all_list_name.append(get_welfare_center_name[i])\n",
    "    all_list_location_x_y.append(get_welfare_center_x_y_location[i])\n",
    "    all_list_location_x.append(get_welfare_center_x[i]) \n",
    "    all_list_location_y.append(get_welfare_center_y[i]) "
   ]
  },
  {
   "cell_type": "markdown",
   "id": "85de57b1-53ff-4a21-9d0e-5618ee1f8810",
   "metadata": {},
   "source": [
    "### 통합 데이터 파일을 csv 파일로 저장"
   ]
  },
  {
   "cell_type": "code",
   "execution_count": 49,
   "id": "ce1b36d0-b809-44f7-850f-1aa6a8663c7b",
   "metadata": {},
   "outputs": [],
   "source": [
    "# 통합 데이터 저장\n",
    "\n",
    "all_list_df = pd.DataFrame({\n",
    "    '시설_구분' : all_list_classification,\n",
    "    '시설_이름' : all_list_name,\n",
    "    '시설_위치' : all_list_location_x_y,\n",
    "    '위도' : all_list_location_x,\n",
    "    '경도' : all_list_location_y\n",
    "})\n",
    "\n",
    "all_list_df.to_csv(f'{folder_name_2}/광진구_모든_시설의_위치.csv', encoding = sava_file_encoding)"
   ]
  },
  {
   "cell_type": "code",
   "execution_count": 50,
   "id": "92fa43a2-d5c4-48b4-af90-0ef1d71c286e",
   "metadata": {},
   "outputs": [
    {
     "name": "stdout",
     "output_type": "stream",
     "text": [
      "시스템 종료\n"
     ]
    }
   ],
   "source": [
    "print(f'시스템 종료')"
   ]
  },
  {
   "cell_type": "code",
   "execution_count": null,
   "id": "1a00e5eb-eda6-4691-9654-764a1b582a77",
   "metadata": {},
   "outputs": [],
   "source": []
  },
  {
   "cell_type": "code",
   "execution_count": null,
   "id": "06c15934-e5dd-4442-b370-8cdc16f5b720",
   "metadata": {},
   "outputs": [],
   "source": []
  },
  {
   "cell_type": "code",
   "execution_count": null,
   "id": "89d45f28-c6fc-4271-a3be-b5fb7d6027a4",
   "metadata": {},
   "outputs": [],
   "source": []
  }
 ],
 "metadata": {
  "kernelspec": {
   "display_name": "Python 3",
   "language": "python",
   "name": "python3"
  },
  "language_info": {
   "codemirror_mode": {
    "name": "ipython",
    "version": 3
   },
   "file_extension": ".py",
   "mimetype": "text/x-python",
   "name": "python",
   "nbconvert_exporter": "python",
   "pygments_lexer": "ipython3",
   "version": "3.7.9"
  }
 },
 "nbformat": 4,
 "nbformat_minor": 5
}
