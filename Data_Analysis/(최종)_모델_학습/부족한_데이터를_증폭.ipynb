{
 "cells": [
  {
   "cell_type": "markdown",
   "id": "7b0a9724-d243-44e7-871e-a7b992d80e05",
   "metadata": {},
   "source": [
    "# 데이터 증폭을 배열로 설정할 것. "
   ]
  },
  {
   "cell_type": "code",
   "execution_count": 102,
   "id": "70254428-4172-4211-aa2e-a7c911f456ea",
   "metadata": {},
   "outputs": [],
   "source": [
    "# 데이터 증강 배수 설정 \n",
    "heat_road_multiple = 15"
   ]
  },
  {
   "cell_type": "code",
   "execution_count": 103,
   "id": "966bdac1-e610-45e6-859c-08e1f52b1685",
   "metadata": {},
   "outputs": [],
   "source": [
    "import pandas as pd \n",
    "import numpy as np"
   ]
  },
  {
   "cell_type": "code",
   "execution_count": 104,
   "id": "eb41fb99-5223-492e-8c1e-e84801c07ac8",
   "metadata": {},
   "outputs": [],
   "source": [
    "url = '../서울시 열선 위치 분석/make_file/(최종)_열선_취약시설_거리.csv'\n",
    "encoding = \"EUC-KR\""
   ]
  },
  {
   "cell_type": "code",
   "execution_count": 105,
   "id": "df5151eb-f318-48c4-86e5-c6167bcabea5",
   "metadata": {},
   "outputs": [],
   "source": [
    "data = pd.read_csv(url, encoding = encoding)"
   ]
  },
  {
   "cell_type": "code",
   "execution_count": 106,
   "id": "6bd6afda-600a-4383-8bec-3679407b811d",
   "metadata": {},
   "outputs": [
    {
     "data": {
      "text/html": [
       "<div>\n",
       "<style scoped>\n",
       "    .dataframe tbody tr th:only-of-type {\n",
       "        vertical-align: middle;\n",
       "    }\n",
       "\n",
       "    .dataframe tbody tr th {\n",
       "        vertical-align: top;\n",
       "    }\n",
       "\n",
       "    .dataframe thead th {\n",
       "        text-align: right;\n",
       "    }\n",
       "</style>\n",
       "<table border=\"1\" class=\"dataframe\">\n",
       "  <thead>\n",
       "    <tr style=\"text-align: right;\">\n",
       "      <th></th>\n",
       "      <th>중점_위도</th>\n",
       "      <th>중점_경도</th>\n",
       "      <th>경사각</th>\n",
       "      <th>최근접_시설의_평균거리</th>\n",
       "      <th>열선여부</th>\n",
       "    </tr>\n",
       "  </thead>\n",
       "  <tbody>\n",
       "    <tr>\n",
       "      <th>0</th>\n",
       "      <td>37.590543</td>\n",
       "      <td>126.993313</td>\n",
       "      <td>11.724227</td>\n",
       "      <td>219.445340</td>\n",
       "      <td>1</td>\n",
       "    </tr>\n",
       "    <tr>\n",
       "      <th>1</th>\n",
       "      <td>37.613411</td>\n",
       "      <td>126.977763</td>\n",
       "      <td>5.044559</td>\n",
       "      <td>642.349704</td>\n",
       "      <td>1</td>\n",
       "    </tr>\n",
       "    <tr>\n",
       "      <th>2</th>\n",
       "      <td>37.611366</td>\n",
       "      <td>126.975317</td>\n",
       "      <td>7.859327</td>\n",
       "      <td>420.360320</td>\n",
       "      <td>1</td>\n",
       "    </tr>\n",
       "    <tr>\n",
       "      <th>3</th>\n",
       "      <td>37.605400</td>\n",
       "      <td>126.957447</td>\n",
       "      <td>10.043141</td>\n",
       "      <td>207.818466</td>\n",
       "      <td>1</td>\n",
       "    </tr>\n",
       "    <tr>\n",
       "      <th>4</th>\n",
       "      <td>37.583314</td>\n",
       "      <td>126.987147</td>\n",
       "      <td>1.226563</td>\n",
       "      <td>250.589899</td>\n",
       "      <td>1</td>\n",
       "    </tr>\n",
       "  </tbody>\n",
       "</table>\n",
       "</div>"
      ],
      "text/plain": [
       "       중점_위도       중점_경도        경사각  최근접_시설의_평균거리  열선여부\n",
       "0  37.590543  126.993313  11.724227    219.445340     1\n",
       "1  37.613411  126.977763   5.044559    642.349704     1\n",
       "2  37.611366  126.975317   7.859327    420.360320     1\n",
       "3  37.605400  126.957447  10.043141    207.818466     1\n",
       "4  37.583314  126.987147   1.226563    250.589899     1"
      ]
     },
     "execution_count": 106,
     "metadata": {},
     "output_type": "execute_result"
    }
   ],
   "source": [
    "data.head()"
   ]
  },
  {
   "cell_type": "code",
   "execution_count": 107,
   "id": "cb10c64f-eeea-4ce6-8400-4d1c969c1877",
   "metadata": {},
   "outputs": [
    {
     "data": {
      "text/plain": [
       "485"
      ]
     },
     "execution_count": 107,
     "metadata": {},
     "output_type": "execute_result"
    }
   ],
   "source": [
    "len(data)"
   ]
  },
  {
   "cell_type": "code",
   "execution_count": 108,
   "id": "d464bae3-6068-47eb-905c-4ba38af6ec6a",
   "metadata": {},
   "outputs": [
    {
     "data": {
      "text/plain": [
       "Index(['중점_위도', '중점_경도', '경사각', '최근접_시설의_평균거리', '열선여부'], dtype='object')"
      ]
     },
     "execution_count": 108,
     "metadata": {},
     "output_type": "execute_result"
    }
   ],
   "source": [
    "data.columns"
   ]
  },
  {
   "cell_type": "code",
   "execution_count": 109,
   "id": "6ec07da6-e4db-49e1-8e23-c18fae587805",
   "metadata": {},
   "outputs": [
    {
     "name": "stdout",
     "output_type": "stream",
     "text": [
      "\"['Unnamed: 0'] not found in axis\"\n"
     ]
    }
   ],
   "source": [
    "try :\n",
    "    delete_columns = 'Unnamed: 0'\n",
    "    data = data.drop(columns = delete_columns)\n",
    "    print(f\"{delete_columns} 삭제 완료\")\n",
    "except KeyError as e :\n",
    "    print(e)"
   ]
  },
  {
   "cell_type": "code",
   "execution_count": 110,
   "id": "be011f18-0e4a-495a-9040-469b109700ea",
   "metadata": {},
   "outputs": [],
   "source": [
    "data['원본여부'] = 1"
   ]
  },
  {
   "cell_type": "code",
   "execution_count": 111,
   "id": "b00b1752-b1f5-400f-87e9-90dacc28a98a",
   "metadata": {},
   "outputs": [
    {
     "data": {
      "text/plain": [
       "Index(['중점_위도', '중점_경도', '경사각', '최근접_시설의_평균거리', '열선여부', '원본여부'], dtype='object')"
      ]
     },
     "execution_count": 111,
     "metadata": {},
     "output_type": "execute_result"
    }
   ],
   "source": [
    "data.columns"
   ]
  },
  {
   "cell_type": "code",
   "execution_count": 112,
   "id": "3f2d97d5-ae8d-461d-ad56-76328ff5eab0",
   "metadata": {},
   "outputs": [],
   "source": [
    "answer = data[data['열선여부'] == 1]"
   ]
  },
  {
   "cell_type": "code",
   "execution_count": 113,
   "id": "3d32f3f2-1abe-4fbd-9ea5-75761ae9f4bc",
   "metadata": {},
   "outputs": [
    {
     "data": {
      "text/html": [
       "<div>\n",
       "<style scoped>\n",
       "    .dataframe tbody tr th:only-of-type {\n",
       "        vertical-align: middle;\n",
       "    }\n",
       "\n",
       "    .dataframe tbody tr th {\n",
       "        vertical-align: top;\n",
       "    }\n",
       "\n",
       "    .dataframe thead th {\n",
       "        text-align: right;\n",
       "    }\n",
       "</style>\n",
       "<table border=\"1\" class=\"dataframe\">\n",
       "  <thead>\n",
       "    <tr style=\"text-align: right;\">\n",
       "      <th></th>\n",
       "      <th>중점_위도</th>\n",
       "      <th>중점_경도</th>\n",
       "      <th>경사각</th>\n",
       "      <th>최근접_시설의_평균거리</th>\n",
       "      <th>열선여부</th>\n",
       "      <th>원본여부</th>\n",
       "    </tr>\n",
       "  </thead>\n",
       "  <tbody>\n",
       "    <tr>\n",
       "      <th>0</th>\n",
       "      <td>37.590543</td>\n",
       "      <td>126.993313</td>\n",
       "      <td>11.724227</td>\n",
       "      <td>219.445340</td>\n",
       "      <td>1</td>\n",
       "      <td>1</td>\n",
       "    </tr>\n",
       "    <tr>\n",
       "      <th>1</th>\n",
       "      <td>37.613411</td>\n",
       "      <td>126.977763</td>\n",
       "      <td>5.044559</td>\n",
       "      <td>642.349704</td>\n",
       "      <td>1</td>\n",
       "      <td>1</td>\n",
       "    </tr>\n",
       "    <tr>\n",
       "      <th>2</th>\n",
       "      <td>37.611366</td>\n",
       "      <td>126.975317</td>\n",
       "      <td>7.859327</td>\n",
       "      <td>420.360320</td>\n",
       "      <td>1</td>\n",
       "      <td>1</td>\n",
       "    </tr>\n",
       "    <tr>\n",
       "      <th>3</th>\n",
       "      <td>37.605400</td>\n",
       "      <td>126.957447</td>\n",
       "      <td>10.043141</td>\n",
       "      <td>207.818466</td>\n",
       "      <td>1</td>\n",
       "      <td>1</td>\n",
       "    </tr>\n",
       "    <tr>\n",
       "      <th>4</th>\n",
       "      <td>37.583314</td>\n",
       "      <td>126.987147</td>\n",
       "      <td>1.226563</td>\n",
       "      <td>250.589899</td>\n",
       "      <td>1</td>\n",
       "      <td>1</td>\n",
       "    </tr>\n",
       "  </tbody>\n",
       "</table>\n",
       "</div>"
      ],
      "text/plain": [
       "       중점_위도       중점_경도        경사각  최근접_시설의_평균거리  열선여부  원본여부\n",
       "0  37.590543  126.993313  11.724227    219.445340     1     1\n",
       "1  37.613411  126.977763   5.044559    642.349704     1     1\n",
       "2  37.611366  126.975317   7.859327    420.360320     1     1\n",
       "3  37.605400  126.957447  10.043141    207.818466     1     1\n",
       "4  37.583314  126.987147   1.226563    250.589899     1     1"
      ]
     },
     "execution_count": 113,
     "metadata": {},
     "output_type": "execute_result"
    }
   ],
   "source": [
    "answer.head()"
   ]
  },
  {
   "cell_type": "markdown",
   "id": "d504cb00-cb54-4ad0-9210-6a2b17ed034e",
   "metadata": {},
   "source": [
    "## 열선 데이터를 늘리기 시작"
   ]
  },
  {
   "cell_type": "code",
   "execution_count": 114,
   "id": "69c02f04-a9b7-4ace-80fd-ed65d05582d6",
   "metadata": {},
   "outputs": [],
   "source": [
    "# 빈 리스트 준비\n",
    "augmented_data = []"
   ]
  },
  {
   "cell_type": "code",
   "execution_count": 115,
   "id": "7e8669b0-12d6-4971-ae75-7a43070e61a3",
   "metadata": {},
   "outputs": [],
   "source": [
    "for _ in range(heat_road_multiple):\n",
    "    for _, row in answer.iterrows():\n",
    "        new_lat = row['중점_위도'] + np.random.uniform(0, 0.007)  # 위도 변형\n",
    "        new_lon = row['중점_경도'] + np.random.uniform(0, 0.007)  # 경도 변형\n",
    "        new_angle = abs(row['경사각'] + np.random.uniform(0, 7))  # 경사각 변형\n",
    "        new_avg_different = row['최근접_시설의_평균거리'] + np.random.uniform(-100, 100)  # 거리 변형\n",
    "\n",
    "        # 열선 여부\n",
    "        new_heatmap = row['열선여부']\n",
    "\n",
    "        # 오리지널 데이터 여부\n",
    "        new_origin = 0\n",
    "\n",
    "        # 늘린 데이터 셋\n",
    "        augmented_data.append([new_lat, new_lon, new_angle, new_avg_different, new_heatmap, new_origin])"
   ]
  },
  {
   "cell_type": "code",
   "execution_count": 116,
   "id": "e6119a54-15f0-47fb-a6dd-0c6c92f756ad",
   "metadata": {},
   "outputs": [],
   "source": [
    "# 증강된 데이터프레임 생성\n",
    "augmented_df = pd.DataFrame(augmented_data, columns=['중점_위도', '중점_경도', '경사각', '최근접_시설의_평균거리', '열선여부', '원본여부'])"
   ]
  },
  {
   "cell_type": "code",
   "execution_count": 117,
   "id": "cebcad43-e76f-428a-ae84-c8d764f71f1d",
   "metadata": {},
   "outputs": [],
   "source": [
    "# 원본 + 증강 데이터를 합치기\n",
    "increase_heat_df = pd.concat([answer, augmented_df], ignore_index=True)"
   ]
  },
  {
   "cell_type": "code",
   "execution_count": 118,
   "id": "51bce1f3-f2c9-4537-85af-733714795efe",
   "metadata": {},
   "outputs": [
    {
     "name": "stdout",
     "output_type": "stream",
     "text": [
      "       중점_위도       중점_경도        경사각  최근접_시설의_평균거리  열선여부  원본여부\n",
      "0  37.590543  126.993313  11.724227    219.445340   1.0     1\n",
      "1  37.613411  126.977763   5.044559    642.349704   1.0     1\n",
      "2  37.611366  126.975317   7.859327    420.360320   1.0     1\n",
      "3  37.605400  126.957447  10.043141    207.818466   1.0     1\n",
      "4  37.583314  126.987147   1.226563    250.589899   1.0     1\n"
     ]
    }
   ],
   "source": [
    "# 결과 확인\n",
    "print(increase_heat_df.head())"
   ]
  },
  {
   "cell_type": "code",
   "execution_count": 97,
   "id": "8715e732-7093-4ab7-974d-fd6b87cb8f87",
   "metadata": {},
   "outputs": [
    {
     "name": "stdout",
     "output_type": "stream",
     "text": [
      "늘린 데이터의 수. 7275\n"
     ]
    }
   ],
   "source": [
    "print(f\"늘린 데이터의 수. {len(increase_heat_df[increase_heat_df['원본여부'] == 0])}\")"
   ]
  },
  {
   "cell_type": "code",
   "execution_count": 98,
   "id": "fbb5095c-a1ce-4666-ba82-00df3f1aed2f",
   "metadata": {},
   "outputs": [
    {
     "name": "stdout",
     "output_type": "stream",
     "text": [
      "총 데이터 개수: 7760\n"
     ]
    }
   ],
   "source": [
    "print(\"총 데이터 개수:\", len(increase_heat_df))"
   ]
  },
  {
   "cell_type": "code",
   "execution_count": 99,
   "id": "369e1c8b-522c-4bca-858a-31581df12363",
   "metadata": {},
   "outputs": [],
   "source": [
    "save_file_url = './make_file/증폭_열선_데이터.csv'"
   ]
  },
  {
   "cell_type": "code",
   "execution_count": 100,
   "id": "dee517f4-4bbe-42c3-bc2b-53c3ed9b6a1a",
   "metadata": {},
   "outputs": [
    {
     "name": "stdout",
     "output_type": "stream",
     "text": [
      "./make_file/증폭_열선_데이터.csv 파일 저장 성공\n"
     ]
    }
   ],
   "source": [
    "try :\n",
    "    increase_heat_df.to_csv(save_file_url, index=False)\n",
    "    print(f\"{save_file_url} 파일 저장 성공\")\n",
    "except OSError as e:\n",
    "    print(e)"
   ]
  }
 ],
 "metadata": {
  "kernelspec": {
   "display_name": "Python 3 (ipykernel)",
   "language": "python",
   "name": "python3"
  },
  "language_info": {
   "codemirror_mode": {
    "name": "ipython",
    "version": 3
   },
   "file_extension": ".py",
   "mimetype": "text/x-python",
   "name": "python",
   "nbconvert_exporter": "python",
   "pygments_lexer": "ipython3",
   "version": "3.13.2"
  }
 },
 "nbformat": 4,
 "nbformat_minor": 5
}
