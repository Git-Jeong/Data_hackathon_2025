{
 "cells": [
  {
   "cell_type": "code",
   "execution_count": 1,
   "id": "aed203bc-02b4-4582-a3df-abecfa2512ac",
   "metadata": {
    "execution": {
     "iopub.execute_input": "2025-03-25T06:42:18.167292Z",
     "iopub.status.busy": "2025-03-25T06:42:18.167043Z",
     "iopub.status.idle": "2025-03-25T06:42:18.172552Z",
     "shell.execute_reply": "2025-03-25T06:42:18.171935Z"
    }
   },
   "outputs": [],
   "source": [
    "# 조회? 하는 최근접 취약시설의 수\n",
    "n_neighbors = 5"
   ]
  },
  {
   "cell_type": "code",
   "execution_count": 2,
   "id": "01d8a9e3-c750-4bf2-aeda-cab8b5e73791",
   "metadata": {
    "execution": {
     "iopub.execute_input": "2025-03-25T06:42:18.175529Z",
     "iopub.status.busy": "2025-03-25T06:42:18.175233Z",
     "iopub.status.idle": "2025-03-25T06:42:18.177889Z",
     "shell.execute_reply": "2025-03-25T06:42:18.177420Z"
    }
   },
   "outputs": [],
   "source": [
    "# !pip install --break-system-packages scikit-learn\n",
    "# !pip install --break-system-packages math\n",
    "\n",
    "# !pip install scikit-learn\n",
    "# !pip install math\n",
    "# 필요한 라이브러리 임포트"
   ]
  },
  {
   "cell_type": "code",
   "execution_count": 3,
   "id": "5eeec6c8-ff25-4a63-aa09-61dfb7bb9f2f",
   "metadata": {
    "execution": {
     "iopub.execute_input": "2025-03-25T06:42:18.180351Z",
     "iopub.status.busy": "2025-03-25T06:42:18.180141Z",
     "iopub.status.idle": "2025-03-25T06:42:18.542805Z",
     "shell.execute_reply": "2025-03-25T06:42:18.542511Z"
    }
   },
   "outputs": [],
   "source": [
    "import numpy as np\n",
    "from sklearn.neighbors import KDTree\n",
    "from math import radians, sin, cos, sqrt, atan2\n",
    "import pandas as pd"
   ]
  },
  {
   "cell_type": "code",
   "execution_count": 4,
   "id": "e4c08a2d-013c-4ea1-848b-4f8d41a127d8",
   "metadata": {
    "execution": {
     "iopub.execute_input": "2025-03-25T06:42:18.544042Z",
     "iopub.status.busy": "2025-03-25T06:42:18.543939Z",
     "iopub.status.idle": "2025-03-25T06:42:18.545462Z",
     "shell.execute_reply": "2025-03-25T06:42:18.545266Z"
    }
   },
   "outputs": [],
   "source": [
    "# 데이터 불러오기\n",
    "road_url = '../광진구 열선 위치 분석/make_file/(최종)열선_위경도값(중앙값_고도_경사각_포함).csv'\n",
    "facility_url = '../광진구 취약시설 위치분석/make_file/광진구_모든_시설의_위치.csv'"
   ]
  },
  {
   "cell_type": "code",
   "execution_count": 5,
   "id": "2e8de621-1d5d-49aa-83db-1bae1b54ee75",
   "metadata": {
    "execution": {
     "iopub.execute_input": "2025-03-25T06:42:18.546360Z",
     "iopub.status.busy": "2025-03-25T06:42:18.546290Z",
     "iopub.status.idle": "2025-03-25T06:42:18.550717Z",
     "shell.execute_reply": "2025-03-25T06:42:18.550525Z"
    }
   },
   "outputs": [],
   "source": [
    "facility_data = pd.read_csv(facility_url)\n",
    "road_data = pd.read_csv(road_url, encoding = \"EUC_KR\")"
   ]
  },
  {
   "cell_type": "code",
   "execution_count": 6,
   "id": "88db2d3e-3b2c-49d7-9f32-d0fb5dc9d557",
   "metadata": {
    "execution": {
     "iopub.execute_input": "2025-03-25T06:42:18.551660Z",
     "iopub.status.busy": "2025-03-25T06:42:18.551599Z",
     "iopub.status.idle": "2025-03-25T06:42:18.553843Z",
     "shell.execute_reply": "2025-03-25T06:42:18.553683Z"
    }
   },
   "outputs": [
    {
     "data": {
      "text/plain": [
       "Index(['Unnamed: 0', '시설_구분', '시설_이름', '시설_위치', '위도', '경도'], dtype='object')"
      ]
     },
     "execution_count": 6,
     "metadata": {},
     "output_type": "execute_result"
    }
   ],
   "source": [
    "facility_data.columns"
   ]
  },
  {
   "cell_type": "code",
   "execution_count": 7,
   "id": "c974e009-31c2-44ec-88b1-1809ee877457",
   "metadata": {
    "execution": {
     "iopub.execute_input": "2025-03-25T06:42:18.554705Z",
     "iopub.status.busy": "2025-03-25T06:42:18.554648Z",
     "iopub.status.idle": "2025-03-25T06:42:18.556303Z",
     "shell.execute_reply": "2025-03-25T06:42:18.556129Z"
    }
   },
   "outputs": [
    {
     "data": {
      "text/plain": [
       "Index(['Unnamed: 0.1', '행정동', '노선명', '기점', '종점', '기점_좌표_위도', '기점_좌표_경도',\n",
       "       '종점_좌표_위도', '종점_좌표_경도', '열선_중앙_위도', '열선_중앙_경도', '시작점_고도', '종료점_고도',\n",
       "       '고도의_차이', '경사각', 'Unnamed: 0', '열선연장(m) (1차로 기준)', '차로수'],\n",
       "      dtype='object')"
      ]
     },
     "execution_count": 7,
     "metadata": {},
     "output_type": "execute_result"
    }
   ],
   "source": [
    "road_data.columns"
   ]
  },
  {
   "cell_type": "code",
   "execution_count": 8,
   "id": "1a6e8a8d-c44d-4d5b-95f6-0a4b8636f11b",
   "metadata": {
    "execution": {
     "iopub.execute_input": "2025-03-25T06:42:18.557129Z",
     "iopub.status.busy": "2025-03-25T06:42:18.557076Z",
     "iopub.status.idle": "2025-03-25T06:42:18.558545Z",
     "shell.execute_reply": "2025-03-25T06:42:18.558401Z"
    }
   },
   "outputs": [],
   "source": [
    "\n",
    "# 도로 중앙값 데이터 (위경도)\n",
    "road_lat_list = road_data['종점_좌표_위도'].to_list()\n",
    "road_lon_list = road_data['종점_좌표_경도'].to_list()\n",
    "\n",
    "# 취약시설 데이터 (시설명, 위경도) \n",
    "facility_lat_list = facility_data[\"위도\"].to_list()\n",
    "facility_lon_list = facility_data[\"경도\"].to_list()\n"
   ]
  },
  {
   "cell_type": "code",
   "execution_count": 9,
   "id": "9536091d-c99d-4426-a9ac-54da9ff5770d",
   "metadata": {
    "execution": {
     "iopub.execute_input": "2025-03-25T06:42:18.559452Z",
     "iopub.status.busy": "2025-03-25T06:42:18.559360Z",
     "iopub.status.idle": "2025-03-25T06:42:18.560948Z",
     "shell.execute_reply": "2025-03-25T06:42:18.560777Z"
    }
   },
   "outputs": [
    {
     "name": "stdout",
     "output_type": "stream",
     "text": [
      "road_lat_list 길이 : 41\n",
      "road_lon_list 길이 : 41\n",
      "facility_lat_list 길이 : 190\n",
      "facility_lon_list 길이 : 190\n"
     ]
    }
   ],
   "source": [
    "print(f\"road_lat_list 길이 : {len(road_lat_list)}\")\n",
    "print(f\"road_lon_list 길이 : {len(road_lon_list)}\")\n",
    " \n",
    "print(f\"facility_lat_list 길이 : {len(facility_lat_list)}\")\n",
    "print(f\"facility_lon_list 길이 : {len(facility_lon_list)}\")"
   ]
  },
  {
   "cell_type": "code",
   "execution_count": 10,
   "id": "95a451a6-c8e3-4821-bae1-22b8829dd131",
   "metadata": {
    "execution": {
     "iopub.execute_input": "2025-03-25T06:42:18.561768Z",
     "iopub.status.busy": "2025-03-25T06:42:18.561714Z",
     "iopub.status.idle": "2025-03-25T06:42:18.563296Z",
     "shell.execute_reply": "2025-03-25T06:42:18.563125Z"
    }
   },
   "outputs": [],
   "source": [
    "# 거리를 구하기\n",
    "def haversine(lat1, lon1, lat2, lon2): \n",
    "    R = 6371  # 지구 반경 (km)\n",
    "    lat1, lon1, lat2, lon2 = map(radians, [lat1, lon1, lat2, lon2])\n",
    "\n",
    "    dlat = lat2 - lat1\n",
    "    dlon = lon2 - lon1\n",
    "    a = sin(dlat / 2)**2 + cos(lat1) * cos(lat2) * sin(dlon / 2)**2\n",
    "    c = 2 * atan2(sqrt(a), sqrt(1 - a))\n",
    "    result = R * c * 1000 \n",
    "    return result # 미터 단위로 반환"
   ]
  },
  {
   "cell_type": "code",
   "execution_count": 11,
   "id": "63b14e61-5c91-4f32-983b-1c48302b5f87",
   "metadata": {
    "execution": {
     "iopub.execute_input": "2025-03-25T06:42:18.564158Z",
     "iopub.status.busy": "2025-03-25T06:42:18.564102Z",
     "iopub.status.idle": "2025-03-25T06:42:18.565913Z",
     "shell.execute_reply": "2025-03-25T06:42:18.565761Z"
    }
   },
   "outputs": [],
   "source": [
    "def find_nearest_facilities_with_haversine(road_lats, road_lons, facility_lats, facility_lons):\n",
    "    global n_neighbors\n",
    "    # KDTree로 시설 좌표 인덱스를 트리 구조로 저장\n",
    "    facilities = np.array(list(zip(facility_lats, facility_lons)))\n",
    "    tree = KDTree(facilities)\n",
    "\n",
    "    # 각 도로에 대해 최근접 n개의 시설 찾기\n",
    "    distance_matrix = []\n",
    "    avg_distances = []\n",
    "    \n",
    "    for r_lat, r_lon in zip(road_lats, road_lons):\n",
    "        road_coords = np.array([[r_lat, r_lon]])\n",
    "        \n",
    "        # 최근접 n개 시설의 인덱스 및 거리 계산\n",
    "        dist, indices = tree.query(road_coords, k=n_neighbors)\n",
    "        \n",
    "        # 거리 계산하여 2차원 배열에 저장\n",
    "        distances = []\n",
    "        for i in range(n_neighbors):\n",
    "            dist_val = haversine(r_lat, r_lon, facility_lats[indices[0][i]], facility_lons[indices[0][i]])  # Haversine 거리 계산\n",
    "            distances.append(dist_val)\n",
    "        \n",
    "        distance_matrix.append(distances)\n",
    "        \n",
    "        # 평균 거리 계산하여 저장\n",
    "        avg_distance = np.mean(distances)\n",
    "        avg_distances.append(avg_distance)\n",
    "    \n",
    "    return np.array(distance_matrix), np.array(avg_distances)"
   ]
  },
  {
   "cell_type": "code",
   "execution_count": 12,
   "id": "ec7b9495-688d-4071-911e-445f59b98590",
   "metadata": {
    "execution": {
     "iopub.execute_input": "2025-03-25T06:42:18.566694Z",
     "iopub.status.busy": "2025-03-25T06:42:18.566626Z",
     "iopub.status.idle": "2025-03-25T06:42:18.568957Z",
     "shell.execute_reply": "2025-03-25T06:42:18.568799Z"
    }
   },
   "outputs": [],
   "source": [
    "# 거리 계산\n",
    "distance_matrix, avg_distances = find_nearest_facilities_with_haversine(road_lat_list, road_lon_list, facility_lat_list, facility_lon_list)"
   ]
  },
  {
   "cell_type": "code",
   "execution_count": 13,
   "id": "197c70d6-0cbc-47c5-90d6-a3da9dc4b16f",
   "metadata": {
    "execution": {
     "iopub.execute_input": "2025-03-25T06:42:18.569803Z",
     "iopub.status.busy": "2025-03-25T06:42:18.569738Z",
     "iopub.status.idle": "2025-03-25T06:42:18.571132Z",
     "shell.execute_reply": "2025-03-25T06:42:18.570962Z"
    }
   },
   "outputs": [
    {
     "name": "stdout",
     "output_type": "stream",
     "text": [
      "수집한 도로_취약시설 거리의 수 : 41\n",
      "수집한 도로_취약시설 거리의 평균 수 : 41\n"
     ]
    }
   ],
   "source": [
    "print(f\"수집한 도로_취약시설 거리의 수 : {len(distance_matrix)}\")\n",
    "print(f\"수집한 도로_취약시설 거리의 평균 수 : {len(avg_distances)}\")"
   ]
  },
  {
   "cell_type": "code",
   "execution_count": 14,
   "id": "b6887544-075f-4d5c-bb37-66bd16394b18",
   "metadata": {
    "execution": {
     "iopub.execute_input": "2025-03-25T06:42:18.571913Z",
     "iopub.status.busy": "2025-03-25T06:42:18.571861Z",
     "iopub.status.idle": "2025-03-25T06:42:18.573211Z",
     "shell.execute_reply": "2025-03-25T06:42:18.573033Z"
    }
   },
   "outputs": [
    {
     "name": "stdout",
     "output_type": "stream",
     "text": [
      "[ 77.3951541  117.20156943 194.4967099  235.8183382  296.9583392 ]\n"
     ]
    }
   ],
   "source": [
    "print(distance_matrix[1])"
   ]
  },
  {
   "cell_type": "code",
   "execution_count": 15,
   "id": "80e299bd-1f2d-43f2-8cc3-99fe8fbc84b5",
   "metadata": {
    "execution": {
     "iopub.execute_input": "2025-03-25T06:42:18.573985Z",
     "iopub.status.busy": "2025-03-25T06:42:18.573930Z",
     "iopub.status.idle": "2025-03-25T06:42:18.575164Z",
     "shell.execute_reply": "2025-03-25T06:42:18.575011Z"
    }
   },
   "outputs": [],
   "source": [
    "distance_matrix = distance_matrix.tolist()"
   ]
  },
  {
   "cell_type": "code",
   "execution_count": 16,
   "id": "ae6bf529-5bbc-49fe-8aef-c6e696ae782e",
   "metadata": {
    "execution": {
     "iopub.execute_input": "2025-03-25T06:42:18.575934Z",
     "iopub.status.busy": "2025-03-25T06:42:18.575885Z",
     "iopub.status.idle": "2025-03-25T06:42:18.577568Z",
     "shell.execute_reply": "2025-03-25T06:42:18.577412Z"
    }
   },
   "outputs": [
    {
     "data": {
      "text/plain": [
       "'77.39515409637183 ,117.20156943020137 ,194.49670989697435 ,235.81833820454924 ,296.9583391993342'"
      ]
     },
     "execution_count": 16,
     "metadata": {},
     "output_type": "execute_result"
    }
   ],
   "source": [
    "new_distance_matrix = [\" ,\".join(map(str, row)) for row in distance_matrix]\n",
    "new_distance_matrix[1]"
   ]
  },
  {
   "cell_type": "code",
   "execution_count": 17,
   "id": "f1ca5219-74a1-407d-b2c5-3f4ef2d4b27d",
   "metadata": {
    "execution": {
     "iopub.execute_input": "2025-03-25T06:42:18.578402Z",
     "iopub.status.busy": "2025-03-25T06:42:18.578347Z",
     "iopub.status.idle": "2025-03-25T06:42:18.579887Z",
     "shell.execute_reply": "2025-03-25T06:42:18.579716Z"
    }
   },
   "outputs": [],
   "source": [
    "road_data['최근접_시설들_거리'] = new_distance_matrix\n",
    "road_data['최근접_시설의_평균거리'] = avg_distances"
   ]
  },
  {
   "cell_type": "code",
   "execution_count": 18,
   "id": "1b7abac8-aded-4e26-8688-564c8cdeab75",
   "metadata": {
    "execution": {
     "iopub.execute_input": "2025-03-25T06:42:18.580677Z",
     "iopub.status.busy": "2025-03-25T06:42:18.580624Z",
     "iopub.status.idle": "2025-03-25T06:42:18.582035Z",
     "shell.execute_reply": "2025-03-25T06:42:18.581868Z"
    }
   },
   "outputs": [
    {
     "name": "stdout",
     "output_type": "stream",
     "text": [
      "276.3241670104214\n"
     ]
    }
   ],
   "source": [
    "print(road_data['최근접_시설의_평균거리'].mean())"
   ]
  },
  {
   "cell_type": "code",
   "execution_count": 19,
   "id": "0b8b3718-7f43-41c5-8ec5-e211eb60d375",
   "metadata": {
    "execution": {
     "iopub.execute_input": "2025-03-25T06:42:18.582869Z",
     "iopub.status.busy": "2025-03-25T06:42:18.582795Z",
     "iopub.status.idle": "2025-03-25T06:42:18.584078Z",
     "shell.execute_reply": "2025-03-25T06:42:18.583907Z"
    }
   },
   "outputs": [],
   "source": [
    "# road_data['최근접_시설들_거리'] "
   ]
  },
  {
   "cell_type": "code",
   "execution_count": 20,
   "id": "eb27bd58-8889-4ec4-a12c-48dd539a402c",
   "metadata": {
    "execution": {
     "iopub.execute_input": "2025-03-25T06:42:18.584863Z",
     "iopub.status.busy": "2025-03-25T06:42:18.584811Z",
     "iopub.status.idle": "2025-03-25T06:42:18.586451Z",
     "shell.execute_reply": "2025-03-25T06:42:18.586264Z"
    }
   },
   "outputs": [
    {
     "data": {
      "text/plain": [
       "Index(['Unnamed: 0.1', '행정동', '노선명', '기점', '종점', '기점_좌표_위도', '기점_좌표_경도',\n",
       "       '종점_좌표_위도', '종점_좌표_경도', '열선_중앙_위도', '열선_중앙_경도', '시작점_고도', '종료점_고도',\n",
       "       '고도의_차이', '경사각', 'Unnamed: 0', '열선연장(m) (1차로 기준)', '차로수', '최근접_시설들_거리',\n",
       "       '최근접_시설의_평균거리'],\n",
       "      dtype='object')"
      ]
     },
     "execution_count": 20,
     "metadata": {},
     "output_type": "execute_result"
    }
   ],
   "source": [
    "road_data.columns\n"
   ]
  },
  {
   "cell_type": "code",
   "execution_count": 21,
   "id": "7e1d64a4-31c7-46e6-9f25-590dfefa3119",
   "metadata": {
    "execution": {
     "iopub.execute_input": "2025-03-25T06:42:18.587393Z",
     "iopub.status.busy": "2025-03-25T06:42:18.587340Z",
     "iopub.status.idle": "2025-03-25T06:42:18.588617Z",
     "shell.execute_reply": "2025-03-25T06:42:18.588464Z"
    }
   },
   "outputs": [],
   "source": [
    "save_file_url = './make_file/열선_취약시설_거리.csv'\n",
    "save_file_encoding = 'EUC-KR'\n",
    "# save_file_encoding = 'UTF-8'"
   ]
  },
  {
   "cell_type": "code",
   "execution_count": 22,
   "id": "6fe5827f-b92d-4e96-baf3-70e736a3b582",
   "metadata": {
    "execution": {
     "iopub.execute_input": "2025-03-25T06:42:18.589432Z",
     "iopub.status.busy": "2025-03-25T06:42:18.589365Z",
     "iopub.status.idle": "2025-03-25T06:42:18.610815Z",
     "shell.execute_reply": "2025-03-25T06:42:18.607219Z"
    }
   },
   "outputs": [
    {
     "name": "stdout",
     "output_type": "stream",
     "text": [
      "./make_file/열선_취약시설_거리.csv 파일 저장을 성공했습니다.\n"
     ]
    }
   ],
   "source": [
    "try :\n",
    "    road_data.to_csv(save_file_url, encoding=save_file_encoding)\n",
    "    print(f\"{save_file_url} 파일 저장을 성공했습니다.\")\n",
    "except OSError as e:\n",
    "    print(e)"
   ]
  },
  {
   "cell_type": "code",
   "execution_count": null,
   "id": "5d49b548-f77f-44ee-b399-e2929b53fbcd",
   "metadata": {},
   "outputs": [],
   "source": []
  }
 ],
 "metadata": {
  "kernelspec": {
   "display_name": "Python 3 (ipykernel)",
   "language": "python",
   "name": "python3"
  },
  "language_info": {
   "codemirror_mode": {
    "name": "ipython",
    "version": 3
   },
   "file_extension": ".py",
   "mimetype": "text/x-python",
   "name": "python",
   "nbconvert_exporter": "python",
   "pygments_lexer": "ipython3",
   "version": "3.13.2"
  }
 },
 "nbformat": 4,
 "nbformat_minor": 5
}
