{
 "cells": [
  {
   "cell_type": "code",
   "execution_count": 5,
   "id": "0538e541-fac5-4afb-9218-1faedca56768",
   "metadata": {},
   "outputs": [],
   "source": [
    "import pandas as pd\n",
    "import os\n",
    "from tqdm import tqdm\n",
    "import folium\n",
    "from folium import PolyLine"
   ]
  },
  {
   "cell_type": "code",
   "execution_count": 6,
   "id": "753b5b00-19cf-4da9-970c-3a550aa88f23",
   "metadata": {},
   "outputs": [],
   "source": [
    "folder_path = \"./make_file/gu_division/\"\n",
    "file_encoding = \"UTF-8\""
   ]
  },
  {
   "cell_type": "code",
   "execution_count": 3,
   "id": "66de4406-1587-4f8b-a631-0514953a6969",
   "metadata": {},
   "outputs": [],
   "source": [
    "# 조건을 만족하는 파일 목록\n",
    "road_files = []\n",
    "\n",
    "for file_name in os.listdir(folder_path):\n",
    "    if file_name.endswith(\".csv\"):\n",
    "        file_path = os.path.join(folder_path, file_name)  # 안전한 경로 조합\n",
    "\n",
    "        try:\n",
    "            # CSV 파일 전체 읽기\n",
    "            df = pd.read_csv(file_path, encoding=file_encoding)\n",
    "\n",
    "            # 컬럼명 앞뒤 공백 제거\n",
    "            df.columns = df.columns.str.strip()\n",
    "\n",
    "            # 필요한 컬럼이 존재하는지 확인\n",
    "            if {\"중앙점_위도\", \"중앙점_경도\"}.issubset(df.columns):\n",
    "                road_files.append(file_path)\n",
    "        except Exception as e:\n",
    "            print(f\"파일 {file_name} 처리 중 오류 발생: {e}\")\n"
   ]
  },
  {
   "cell_type": "code",
   "execution_count": 7,
   "id": "2877cf65-65e3-4275-bfec-f8a01347f55a",
   "metadata": {},
   "outputs": [
    {
     "data": {
      "text/plain": [
       "25"
      ]
     },
     "execution_count": 7,
     "metadata": {},
     "output_type": "execute_result"
    }
   ],
   "source": [
    "len(road_files)"
   ]
  },
  {
   "cell_type": "code",
   "execution_count": 9,
   "id": "eb156215-3b2d-4363-8b2f-23705c49b154",
   "metadata": {},
   "outputs": [
    {
     "name": "stdout",
     "output_type": "stream",
     "text": [
      "./make_file/gu_division/강동구_7818_도로_데이터.html 저장 완료.\n",
      "./make_file/gu_division/종로구_4525_도로_데이터.html 저장 완료.\n",
      "./make_file/gu_division/동대문구_8515_도로_데이터.html 저장 완료.\n",
      "./make_file/gu_division/강북구_11411_도로_데이터.html 저장 완료.\n",
      "./make_file/gu_division/관악구_5063_도로_데이터.html 저장 완료.\n",
      "./make_file/gu_division/용산구_5996_도로_데이터.html 저장 완료.\n",
      "./make_file/gu_division/성동구_5362_도로_데이터.html 저장 완료.\n",
      "./make_file/gu_division/강서구_6496_도로_데이터.html 저장 완료.\n",
      "./make_file/gu_division/금천구_3498_도로_데이터.html 저장 완료.\n",
      "./make_file/gu_division/성북구_10640_도로_데이터.html 저장 완료.\n",
      "./make_file/gu_division/서초구_7100_도로_데이터.html 저장 완료.\n",
      "./make_file/gu_division/동작구_2288_도로_데이터.html 저장 완료.\n",
      "./make_file/gu_division/도봉구_5746_도로_데이터.html 저장 완료.\n",
      "./make_file/gu_division/마포구_5104_도로_데이터.html 저장 완료.\n",
      "./make_file/gu_division/서대문구_8276_도로_데이터.html 저장 완료.\n",
      "./make_file/gu_division/영등포구_5233_도로_데이터.html 저장 완료.\n",
      "./make_file/gu_division/송파구_7704_도로_데이터.html 저장 완료.\n",
      "./make_file/gu_division/양천구_4164_도로_데이터.html 저장 완료.\n",
      "./make_file/gu_division/강남구_8337_도로_데이터.html 저장 완료.\n",
      "./make_file/gu_division/구로구_5876_도로_데이터.html 저장 완료.\n",
      "./make_file/gu_division/노원구_5949_도로_데이터.html 저장 완료.\n",
      "./make_file/gu_division/중구_4121_도로_데이터.html 저장 완료.\n",
      "./make_file/gu_division/중랑구_6843_도로_데이터.html 저장 완료.\n",
      "./make_file/gu_division/광진구_6223_도로_데이터.html 저장 완료.\n",
      "./make_file/gu_division/은평구_9056_도로_데이터.html 저장 완료.\n"
     ]
    }
   ],
   "source": [
    "for file_path in road_files:  \n",
    "    data = pd.read_csv(file_path, encoding=file_encoding) \n",
    "\n",
    "    if len(data) > 0:\n",
    "        # 기본 지도 생성 (초기 위치 설정)\n",
    "        map_center = [data['중앙점_위도'].mean(), data['중앙점_경도'].mean()]\n",
    "        m_map = folium.Map(location=map_center, zoom_start=12)\n",
    "        \n",
    "        # 데이터의 각 행에 대해 선 추가 및 중점에 마커 추가\n",
    "        for index, row in data.iterrows():\n",
    "            # 선 추가 (시점 -> 종점)\n",
    "            PolyLine(\n",
    "                [[row['시작점_위도'], row['시작점_경도']], [row['종료점_위도'], row['종료점_경도']]],\n",
    "                color=\"blue\",\n",
    "                weight=3,\n",
    "                opacity=0.7\n",
    "            ).add_to(m_map)\n",
    "            \n",
    "            # 중점에 마커 추가 (클릭 시 index 표시)\n",
    "            folium.Marker(\n",
    "                [row['중앙점_위도'], row['중앙점_경도']], \n",
    "                popup=f\"{row['id']}\",\n",
    "                icon=folium.Icon(color='green')\n",
    "            ).add_to(m_map)\n",
    "\n",
    "        try :\n",
    "            temp_file_path = file_path.replace(\".csv\", \"\")\n",
    "            # 저장할 파일 이름 생성\n",
    "            save_path = f'{temp_file_path}.html'\n",
    "            m_map.save(save_path) \n",
    "            print(f\"{save_path} 저장 완료.\")\n",
    "        except OSError as e :\n",
    "            print(e)\n"
   ]
  },
  {
   "cell_type": "code",
   "execution_count": null,
   "id": "2e433737-cbdf-4f3a-9d52-261ac26fb3f1",
   "metadata": {},
   "outputs": [],
   "source": []
  },
  {
   "cell_type": "code",
   "execution_count": null,
   "id": "444a00cd-46b7-4bab-b15c-5b4971fe00fe",
   "metadata": {},
   "outputs": [],
   "source": []
  },
  {
   "cell_type": "code",
   "execution_count": null,
   "id": "0166ab50-fc2f-43bf-8255-8dcbd7555e90",
   "metadata": {},
   "outputs": [],
   "source": []
  },
  {
   "cell_type": "code",
   "execution_count": null,
   "id": "5375118c-0b4e-4ac4-afb8-10b11c4d5e5f",
   "metadata": {},
   "outputs": [],
   "source": []
  },
  {
   "cell_type": "code",
   "execution_count": null,
   "id": "a5609bda-93a0-4b85-b2c0-e2912f867b79",
   "metadata": {},
   "outputs": [],
   "source": []
  },
  {
   "cell_type": "code",
   "execution_count": null,
   "id": "a31eb7ad-459c-4495-9308-82ff62c07f64",
   "metadata": {},
   "outputs": [],
   "source": []
  },
  {
   "cell_type": "code",
   "execution_count": null,
   "id": "ec86e8ec-e909-48c0-acdf-ddc04c9f446a",
   "metadata": {},
   "outputs": [],
   "source": []
  },
  {
   "cell_type": "code",
   "execution_count": null,
   "id": "30069e6d-f875-41f4-9cdd-a5d8a70853f0",
   "metadata": {},
   "outputs": [],
   "source": []
  }
 ],
 "metadata": {
  "kernelspec": {
   "display_name": "Python 3 (ipykernel)",
   "language": "python",
   "name": "python3"
  },
  "language_info": {
   "codemirror_mode": {
    "name": "ipython",
    "version": 3
   },
   "file_extension": ".py",
   "mimetype": "text/x-python",
   "name": "python",
   "nbconvert_exporter": "python",
   "pygments_lexer": "ipython3",
   "version": "3.13.2"
  }
 },
 "nbformat": 4,
 "nbformat_minor": 5
}
