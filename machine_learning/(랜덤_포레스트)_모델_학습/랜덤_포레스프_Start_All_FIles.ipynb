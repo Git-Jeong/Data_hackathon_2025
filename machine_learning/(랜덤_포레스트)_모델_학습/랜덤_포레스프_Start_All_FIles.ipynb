{
 "cells": [
  {
   "cell_type": "code",
   "execution_count": 1,
   "id": "a53f5d92-b08c-4c33-8aaf-fcb743c22866",
   "metadata": {},
   "outputs": [],
   "source": [
    "import os \n",
    "from tqdm import tqdm\n",
    "import subprocess"
   ]
  },
  {
   "cell_type": "code",
   "execution_count": 2,
   "id": "65dd9ff5-dc23-4130-8501-4f82ef9806ea",
   "metadata": {},
   "outputs": [],
   "source": [
    "output_dir = './temp_nbconvert'"
   ]
  },
  {
   "cell_type": "code",
   "execution_count": 3,
   "id": "bde697aa-e2bd-402b-9995-983c1b9d6a1a",
   "metadata": {},
   "outputs": [
    {
     "name": "stdout",
     "output_type": "stream",
     "text": [
      "./temp_nbconvert 폴더가 있습니다.\n"
     ]
    }
   ],
   "source": [
    "is_dir = os.path.isdir(output_dir)\n",
    "if is_dir :\n",
    "    print(f'{output_dir} 폴더가 있습니다.')\n",
    "else :\n",
    "    try :\n",
    "        os.mkdir(output_dir)\n",
    "        print(f\"{output_dir} 파일 생성 완료\")\n",
    "    except :\n",
    "        print(f\"Err...\")"
   ]
  },
  {
   "cell_type": "code",
   "execution_count": 4,
   "id": "e4f462b1-2015-4c33-b88b-dfa57583ebcf",
   "metadata": {},
   "outputs": [],
   "source": [
    "commands = [\n",
    "    f\"jupyter nbconvert --to notebook --execute --output {output_dir}/부족한_열선_데이터_증폭.ipynb 부족한_열선_데이터_증폭.ipynb\",\n",
    "    f\"jupyter nbconvert --to notebook --execute --output {output_dir}/데이터_합치기.ipynb 데이터_합치기.ipynb\",\n",
    "    f\"jupyter nbconvert --to notebook --execute --output {output_dir}/랜덤_포레스트_돌려보기.ipynb 랜덤_포레스트_돌려보기.ipynb\",\n",
    "    f\"jupyter nbconvert --to notebook --execute --output {output_dir}/열선_후보지_시각화.ipynb 열선_후보지_시각화.ipynb\"\n",
    "]"
   ]
  },
  {
   "cell_type": "code",
   "execution_count": 5,
   "id": "9796d5fa-4ef3-45af-9440-5934cc6affc0",
   "metadata": {},
   "outputs": [],
   "source": [
    "def run_all_code() :\n",
    "    try:\n",
    "        for cmd in tqdm(commands, desc=\"실행 중\"):\n",
    "            subprocess.run(cmd, shell=True, check=True) \n",
    "        return True\n",
    "    except subprocess.CalledProcessError as e:\n",
    "        print(e)\n",
    "        return False"
   ]
  },
  {
   "cell_type": "code",
   "execution_count": 6,
   "id": "4f709223-7aee-4f8e-889d-b0e2e1bae225",
   "metadata": {},
   "outputs": [
    {
     "name": "stderr",
     "output_type": "stream",
     "text": [
      "[NbConvertApp] Converting notebook 부족한_열선_데이터_증폭.ipynb to notebook0<?, ?it/s]\n",
      "Traceback (most recent call last):\n",
      "  File \u001b[35m\"/Users/jeongjin/myenv/bin/jupyter-nbconvert\"\u001b[0m, line \u001b[35m8\u001b[0m, in \u001b[35m<module>\u001b[0m\n",
      "    sys.exit(\u001b[31mmain\u001b[0m\u001b[1;31m()\u001b[0m)\n",
      "             \u001b[31m~~~~\u001b[0m\u001b[1;31m^^\u001b[0m\n",
      "  File \u001b[35m\"/Users/jeongjin/myenv/lib/python3.13/site-packages/jupyter_core/application.py\"\u001b[0m, line \u001b[35m283\u001b[0m, in \u001b[35mlaunch_instance\u001b[0m\n",
      "    \u001b[31msuper().launch_instance\u001b[0m\u001b[1;31m(argv=argv, **kwargs)\u001b[0m\n",
      "    \u001b[31m~~~~~~~~~~~~~~~~~~~~~~~\u001b[0m\u001b[1;31m^^^^^^^^^^^^^^^^^^^^^\u001b[0m\n",
      "  File \u001b[35m\"/Users/jeongjin/myenv/lib/python3.13/site-packages/traitlets/config/application.py\"\u001b[0m, line \u001b[35m1075\u001b[0m, in \u001b[35mlaunch_instance\u001b[0m\n",
      "    \u001b[31mapp.start\u001b[0m\u001b[1;31m()\u001b[0m\n",
      "    \u001b[31m~~~~~~~~~\u001b[0m\u001b[1;31m^^\u001b[0m\n",
      "  File \u001b[35m\"/Users/jeongjin/myenv/lib/python3.13/site-packages/nbconvert/nbconvertapp.py\"\u001b[0m, line \u001b[35m420\u001b[0m, in \u001b[35mstart\u001b[0m\n",
      "    \u001b[31mself.convert_notebooks\u001b[0m\u001b[1;31m()\u001b[0m\n",
      "    \u001b[31m~~~~~~~~~~~~~~~~~~~~~~\u001b[0m\u001b[1;31m^^\u001b[0m\n",
      "  File \u001b[35m\"/Users/jeongjin/myenv/lib/python3.13/site-packages/nbconvert/nbconvertapp.py\"\u001b[0m, line \u001b[35m597\u001b[0m, in \u001b[35mconvert_notebooks\u001b[0m\n",
      "    \u001b[31mself.convert_single_notebook\u001b[0m\u001b[1;31m(notebook_filename)\u001b[0m\n",
      "    \u001b[31m~~~~~~~~~~~~~~~~~~~~~~~~~~~~\u001b[0m\u001b[1;31m^^^^^^^^^^^^^^^^^^^\u001b[0m\n",
      "  File \u001b[35m\"/Users/jeongjin/myenv/lib/python3.13/site-packages/nbconvert/nbconvertapp.py\"\u001b[0m, line \u001b[35m563\u001b[0m, in \u001b[35mconvert_single_notebook\u001b[0m\n",
      "    output, resources = \u001b[31mself.export_single_notebook\u001b[0m\u001b[1;31m(\u001b[0m\n",
      "                        \u001b[31m~~~~~~~~~~~~~~~~~~~~~~~~~~~\u001b[0m\u001b[1;31m^\u001b[0m\n",
      "        \u001b[1;31mnotebook_filename, resources, input_buffer=input_buffer\u001b[0m\n",
      "        \u001b[1;31m^^^^^^^^^^^^^^^^^^^^^^^^^^^^^^^^^^^^^^^^^^^^^^^^^^^^^^^\u001b[0m\n",
      "    \u001b[1;31m)\u001b[0m\n",
      "    \u001b[1;31m^\u001b[0m\n",
      "  File \u001b[35m\"/Users/jeongjin/myenv/lib/python3.13/site-packages/nbconvert/nbconvertapp.py\"\u001b[0m, line \u001b[35m487\u001b[0m, in \u001b[35mexport_single_notebook\u001b[0m\n",
      "    output, resources = \u001b[31mself.exporter.from_filename\u001b[0m\u001b[1;31m(\u001b[0m\n",
      "                        \u001b[31m~~~~~~~~~~~~~~~~~~~~~~~~~~~\u001b[0m\u001b[1;31m^\u001b[0m\n",
      "        \u001b[1;31mnotebook_filename, resources=resources\u001b[0m\n",
      "        \u001b[1;31m^^^^^^^^^^^^^^^^^^^^^^^^^^^^^^^^^^^^^^\u001b[0m\n",
      "    \u001b[1;31m)\u001b[0m\n",
      "    \u001b[1;31m^\u001b[0m\n",
      "  File \u001b[35m\"/Users/jeongjin/myenv/lib/python3.13/site-packages/nbconvert/exporters/exporter.py\"\u001b[0m, line \u001b[35m201\u001b[0m, in \u001b[35mfrom_filename\u001b[0m\n",
      "    return \u001b[31mself.from_file\u001b[0m\u001b[1;31m(f, resources=resources, **kw)\u001b[0m\n",
      "           \u001b[31m~~~~~~~~~~~~~~\u001b[0m\u001b[1;31m^^^^^^^^^^^^^^^^^^^^^^^^^^^^^^\u001b[0m\n",
      "  File \u001b[35m\"/Users/jeongjin/myenv/lib/python3.13/site-packages/nbconvert/exporters/exporter.py\"\u001b[0m, line \u001b[35m220\u001b[0m, in \u001b[35mfrom_file\u001b[0m\n",
      "    return \u001b[31mself.from_notebook_node\u001b[0m\u001b[1;31m(\u001b[0m\n",
      "           \u001b[31m~~~~~~~~~~~~~~~~~~~~~~~\u001b[0m\u001b[1;31m^\u001b[0m\n",
      "        \u001b[1;31mnbformat.read(file_stream, as_version=4), resources=resources, **kw\u001b[0m\n",
      "        \u001b[1;31m^^^^^^^^^^^^^^^^^^^^^^^^^^^^^^^^^^^^^^^^^^^^^^^^^^^^^^^^^^^^^^^^^^^\u001b[0m\n",
      "    \u001b[1;31m)\u001b[0m\n",
      "    \u001b[1;31m^\u001b[0m\n",
      "  File \u001b[35m\"/Users/jeongjin/myenv/lib/python3.13/site-packages/nbconvert/exporters/notebook.py\"\u001b[0m, line \u001b[35m36\u001b[0m, in \u001b[35mfrom_notebook_node\u001b[0m\n",
      "    nb_copy, resources = \u001b[31msuper().from_notebook_node\u001b[0m\u001b[1;31m(nb, resources, **kw)\u001b[0m\n",
      "                         \u001b[31m~~~~~~~~~~~~~~~~~~~~~~~~~~\u001b[0m\u001b[1;31m^^^^^^^^^^^^^^^^^^^^^\u001b[0m\n",
      "  File \u001b[35m\"/Users/jeongjin/myenv/lib/python3.13/site-packages/nbconvert/exporters/exporter.py\"\u001b[0m, line \u001b[35m154\u001b[0m, in \u001b[35mfrom_notebook_node\u001b[0m\n",
      "    nb_copy, resources = \u001b[31mself._preprocess\u001b[0m\u001b[1;31m(nb_copy, resources)\u001b[0m\n",
      "                         \u001b[31m~~~~~~~~~~~~~~~~\u001b[0m\u001b[1;31m^^^^^^^^^^^^^^^^^^^^\u001b[0m\n",
      "  File \u001b[35m\"/Users/jeongjin/myenv/lib/python3.13/site-packages/nbconvert/exporters/exporter.py\"\u001b[0m, line \u001b[35m353\u001b[0m, in \u001b[35m_preprocess\u001b[0m\n",
      "    nbc, resc = \u001b[31mpreprocessor\u001b[0m\u001b[1;31m(nbc, resc)\u001b[0m\n",
      "                \u001b[31m~~~~~~~~~~~~\u001b[0m\u001b[1;31m^^^^^^^^^^^\u001b[0m\n",
      "  File \u001b[35m\"/Users/jeongjin/myenv/lib/python3.13/site-packages/nbconvert/preprocessors/base.py\"\u001b[0m, line \u001b[35m48\u001b[0m, in \u001b[35m__call__\u001b[0m\n",
      "    return \u001b[31mself.preprocess\u001b[0m\u001b[1;31m(nb, resources)\u001b[0m\n",
      "           \u001b[31m~~~~~~~~~~~~~~~\u001b[0m\u001b[1;31m^^^^^^^^^^^^^^^\u001b[0m\n",
      "  File \u001b[35m\"/Users/jeongjin/myenv/lib/python3.13/site-packages/nbconvert/preprocessors/execute.py\"\u001b[0m, line \u001b[35m103\u001b[0m, in \u001b[35mpreprocess\u001b[0m\n",
      "    \u001b[31mself.preprocess_cell\u001b[0m\u001b[1;31m(cell, resources, index)\u001b[0m\n",
      "    \u001b[31m~~~~~~~~~~~~~~~~~~~~\u001b[0m\u001b[1;31m^^^^^^^^^^^^^^^^^^^^^^^^\u001b[0m\n",
      "  File \u001b[35m\"/Users/jeongjin/myenv/lib/python3.13/site-packages/nbconvert/preprocessors/execute.py\"\u001b[0m, line \u001b[35m124\u001b[0m, in \u001b[35mpreprocess_cell\u001b[0m\n",
      "    cell = self.execute_cell(cell, index, store_history=True)\n",
      "  File \u001b[35m\"/Users/jeongjin/myenv/lib/python3.13/site-packages/jupyter_core/utils/__init__.py\"\u001b[0m, line \u001b[35m165\u001b[0m, in \u001b[35mwrapped\u001b[0m\n",
      "    return \u001b[31mloop.run_until_complete\u001b[0m\u001b[1;31m(inner)\u001b[0m\n",
      "           \u001b[31m~~~~~~~~~~~~~~~~~~~~~~~\u001b[0m\u001b[1;31m^^^^^^^\u001b[0m\n",
      "  File \u001b[35m\"/opt/homebrew/Cellar/python@3.13/3.13.2/Frameworks/Python.framework/Versions/3.13/lib/python3.13/asyncio/base_events.py\"\u001b[0m, line \u001b[35m725\u001b[0m, in \u001b[35mrun_until_complete\u001b[0m\n",
      "    return \u001b[31mfuture.result\u001b[0m\u001b[1;31m()\u001b[0m\n",
      "           \u001b[31m~~~~~~~~~~~~~\u001b[0m\u001b[1;31m^^\u001b[0m\n",
      "  File \u001b[35m\"/Users/jeongjin/myenv/lib/python3.13/site-packages/nbclient/client.py\"\u001b[0m, line \u001b[35m1062\u001b[0m, in \u001b[35masync_execute_cell\u001b[0m\n",
      "    await self._check_raise_for_error(cell, cell_index, exec_reply)\n",
      "  File \u001b[35m\"/Users/jeongjin/myenv/lib/python3.13/site-packages/nbclient/client.py\"\u001b[0m, line \u001b[35m918\u001b[0m, in \u001b[35m_check_raise_for_error\u001b[0m\n",
      "    raise CellExecutionError.from_cell_and_msg(cell, exec_reply_content)\n",
      "\u001b[1;35mnbclient.exceptions.CellExecutionError\u001b[0m: \u001b[35mAn error occurred while executing the following cell:\n",
      "------------------\n",
      "import pandas as pd \n",
      "import numpy as np\n",
      "------------------\n",
      "\n",
      "\n",
      "\u001b[31m---------------------------------------------------------------------------\u001b[39m\n",
      "\u001b[31mModuleNotFoundError\u001b[39m                       Traceback (most recent call last)\n",
      "\u001b[36mCell\u001b[39m\u001b[36m \u001b[39m\u001b[32mIn[2]\u001b[39m\u001b[32m, line 1\u001b[39m\n",
      "\u001b[32m----> \u001b[39m\u001b[32m1\u001b[39m \u001b[38;5;28;01mimport\u001b[39;00m\u001b[38;5;250m \u001b[39m\u001b[34;01mpandas\u001b[39;00m\u001b[38;5;250m \u001b[39m\u001b[38;5;28;01mas\u001b[39;00m\u001b[38;5;250m \u001b[39m\u001b[34;01mpd\u001b[39;00m \n",
      "\u001b[32m      2\u001b[39m \u001b[38;5;28;01mimport\u001b[39;00m\u001b[38;5;250m \u001b[39m\u001b[34;01mnumpy\u001b[39;00m\u001b[38;5;250m \u001b[39m\u001b[38;5;28;01mas\u001b[39;00m\u001b[38;5;250m \u001b[39m\u001b[34;01mnp\u001b[39;00m\n",
      "\n",
      "\u001b[31mModuleNotFoundError\u001b[39m: No module named 'pandas'\n",
      "\u001b[0m\n",
      "실행 중:   0%|                                            | 0/4 [00:03<?, ?it/s]"
     ]
    },
    {
     "name": "stdout",
     "output_type": "stream",
     "text": [
      "Command 'jupyter nbconvert --to notebook --execute --output ./temp_nbconvert/부족한_열선_데이터_증폭.ipynb 부족한_열선_데이터_증폭.ipynb' returned non-zero exit status 1.\n",
      "err...\n"
     ]
    },
    {
     "name": "stderr",
     "output_type": "stream",
     "text": [
      "\n"
     ]
    }
   ],
   "source": [
    "result = run_all_code()\n",
    "if result is True :\n",
    "    print(f\"코드가 성공적으로 마무리 되었습니다\")\n",
    "else :\n",
    "    print(\"err...\")"
   ]
  },
  {
   "cell_type": "code",
   "execution_count": null,
   "id": "fdf882d9-46ad-4fd1-be78-237517efa140",
   "metadata": {},
   "outputs": [],
   "source": []
  }
 ],
 "metadata": {
  "kernelspec": {
   "display_name": "Python 3 (ipykernel)",
   "language": "python",
   "name": "python3"
  },
  "language_info": {
   "codemirror_mode": {
    "name": "ipython",
    "version": 3
   },
   "file_extension": ".py",
   "mimetype": "text/x-python",
   "name": "python",
   "nbconvert_exporter": "python",
   "pygments_lexer": "ipython3",
   "version": "3.13.2"
  }
 },
 "nbformat": 4,
 "nbformat_minor": 5
}
