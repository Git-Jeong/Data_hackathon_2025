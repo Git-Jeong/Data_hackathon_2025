{
 "cells": [
  {
   "cell_type": "code",
   "execution_count": 11,
   "id": "a53f5d92-b08c-4c33-8aaf-fcb743c22866",
   "metadata": {},
   "outputs": [],
   "source": [
    "import os "
   ]
  },
  {
   "cell_type": "code",
   "execution_count": 12,
   "id": "65dd9ff5-dc23-4130-8501-4f82ef9806ea",
   "metadata": {},
   "outputs": [],
   "source": [
    "output_dir = './temp_nbconvert'"
   ]
  },
  {
   "cell_type": "code",
   "execution_count": 13,
   "id": "bde697aa-e2bd-402b-9995-983c1b9d6a1a",
   "metadata": {},
   "outputs": [
    {
     "name": "stdout",
     "output_type": "stream",
     "text": [
      "./temp_nbconvert 폴더가 있습니다.\n"
     ]
    }
   ],
   "source": [
    "is_dir = os.path.isdir(output_dir)\n",
    "if is_dir :\n",
    "    print(f'{output_dir} 폴더가 있습니다.')\n",
    "else :\n",
    "    try :\n",
    "        os.mkdir(output_dir)\n",
    "        print(f\"{output_dir} 파일 생성 완료\")\n",
    "    except :\n",
    "        print(f\"Err...\")"
   ]
  },
  {
   "cell_type": "code",
   "execution_count": 14,
   "id": "e4f462b1-2015-4c33-b88b-dfa57583ebcf",
   "metadata": {},
   "outputs": [
    {
     "name": "stdout",
     "output_type": "stream",
     "text": [
      "[NbConvertApp] Converting notebook 부족한_데이터를_증폭.ipynb to notebook\n",
      "[NbConvertApp] Writing 19025 bytes to temp_nbconvert/부족한_데이터를_증폭.ipynb\n",
      "[NbConvertApp] Converting notebook 데이터_합치기.ipynb to notebook\n",
      "[NbConvertApp] Writing 9207 bytes to temp_nbconvert/데이터_합치기.ipynb\n",
      "[NbConvertApp] Converting notebook 데이터_모델_돌려보기.ipynb to notebook\n",
      "[NbConvertApp] Writing 54986 bytes to temp_nbconvert/데이터_모델_돌려보기.ipynb\n",
      "[NbConvertApp] Converting notebook 열선_후보지_시각화.ipynb to notebook\n",
      "[NbConvertApp] Writing 21074 bytes to temp_nbconvert/열선_후보지_시각화.ipynb\n",
      "끝\n"
     ]
    }
   ],
   "source": [
    "try :\n",
    "    !jupyter nbconvert --to notebook --execute --output {output_dir}/부족한_데이터를_증폭.ipynb 부족한_데이터를_증폭.ipynb\n",
    "    !jupyter nbconvert --to notebook --execute --output {output_dir}/데이터_합치기.ipynb 데이터_합치기.ipynb\n",
    "    !jupyter nbconvert --to notebook --execute --output {output_dir}/데이터_모델_돌려보기.ipynb 데이터_모델_돌려보기.ipynb\n",
    "    !jupyter nbconvert --to notebook --execute --output {output_dir}/열선_후보지_시각화.ipynb 열선_후보지_시각화.ipynb\n",
    "    print(f'끝')\n",
    "except :\n",
    "    print('err')"
   ]
  },
  {
   "cell_type": "code",
   "execution_count": null,
   "id": "9796d5fa-4ef3-45af-9440-5934cc6affc0",
   "metadata": {},
   "outputs": [],
   "source": []
  },
  {
   "cell_type": "code",
   "execution_count": null,
   "id": "4f709223-7aee-4f8e-889d-b0e2e1bae225",
   "metadata": {},
   "outputs": [],
   "source": []
  }
 ],
 "metadata": {
  "kernelspec": {
   "display_name": "Python 3 (ipykernel)",
   "language": "python",
   "name": "python3"
  },
  "language_info": {
   "codemirror_mode": {
    "name": "ipython",
    "version": 3
   },
   "file_extension": ".py",
   "mimetype": "text/x-python",
   "name": "python",
   "nbconvert_exporter": "python",
   "pygments_lexer": "ipython3",
   "version": "3.13.2"
  }
 },
 "nbformat": 4,
 "nbformat_minor": 5
}
