{
 "cells": [
  {
   "cell_type": "markdown",
   "id": "1598eaa2-caf2-467e-9cd0-6d08d09d3d89",
   "metadata": {},
   "source": [
    "## 순차적으로 실행이 될 것"
   ]
  },
  {
   "cell_type": "code",
   "execution_count": 7,
   "id": "8162eb7a-dec2-41a7-b82e-cf83fad7c81b",
   "metadata": {},
   "outputs": [
    {
     "name": "stdout",
     "output_type": "stream",
     "text": [
      "[NbConvertApp] Converting notebook 광진구_도로데이터_수집.ipynb to notebook\n",
      "[NbConvertApp] Writing 18196 bytes to 광진구_도로데이터_수집.ipynb\n",
      "[NbConvertApp] Converting notebook 도로데이터_검증.ipynb to notebook\n",
      "[NbConvertApp] Writing 15127309 bytes to 도로데이터_검증.ipynb\n",
      "[NbConvertApp] Converting notebook 위치기반_고도차이_분석.ipynb to notebook\n",
      "[NbConvertApp] Writing 20601 bytes to 위치기반_고도차이_분석.ipynb\n",
      "[NbConvertApp] Converting notebook 모든_도로의_경사각_변환.ipynb to notebook\n",
      "[NbConvertApp] Writing 22397 bytes to 모든_도로의_경사각_변환.ipynb\n"
     ]
    }
   ],
   "source": [
    "!jupyter nbconvert --to notebook --execute --output 광진구_도로데이터_수집.ipynb 광진구_도로데이터_수집.ipynb\n",
    "!jupyter nbconvert --to notebook --execute --output 도로데이터_검증.ipynb 도로데이터_검증.ipynb\n",
    "!jupyter nbconvert --to notebook --execute --output 위치기반_고도차이_분석.ipynb 위치기반_고도차이_분석.ipynb\n",
    "!jupyter nbconvert --to notebook --execute --output 모든_도로의_경사각_변환.ipynb 모든_도로의_경사각_변환.ipynb\n"
   ]
  },
  {
   "cell_type": "code",
   "execution_count": null,
   "id": "4a6e356d-e2b7-43f5-a72d-523dafa9f611",
   "metadata": {},
   "outputs": [],
   "source": []
  },
  {
   "cell_type": "code",
   "execution_count": null,
   "id": "f69b030a-3bdb-4db6-9c6b-6a37a02f70ae",
   "metadata": {},
   "outputs": [],
   "source": []
  }
 ],
 "metadata": {
  "kernelspec": {
   "display_name": "Python 3 (ipykernel)",
   "language": "python",
   "name": "python3"
  },
  "language_info": {
   "codemirror_mode": {
    "name": "ipython",
    "version": 3
   },
   "file_extension": ".py",
   "mimetype": "text/x-python",
   "name": "python",
   "nbconvert_exporter": "python",
   "pygments_lexer": "ipython3",
   "version": "3.13.2"
  }
 },
 "nbformat": 4,
 "nbformat_minor": 5
}
