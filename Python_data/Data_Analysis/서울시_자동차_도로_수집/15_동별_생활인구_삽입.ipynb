{
 "cells": [
  {
   "cell_type": "code",
   "execution_count": 1,
   "id": "362be8b4-bea1-4231-ac24-82fbb7d6074b",
   "metadata": {},
   "outputs": [],
   "source": [
    "import pandas as pd\n",
    "from tqdm import tqdm"
   ]
  },
  {
   "cell_type": "code",
   "execution_count": 17,
   "id": "18b215e5-5a19-4527-bb71-331ddfd8c48e",
   "metadata": {},
   "outputs": [],
   "source": [
    "people_data = pd.read_csv(\"./data/서울시_동별_하루평균_유동인구.csv\")\n",
    "road_data = pd.read_csv(\"./make_file/(표면)_서울열선_광진도로.csv\") "
   ]
  },
  {
   "cell_type": "code",
   "execution_count": 18,
   "id": "e5cae33f-f1ec-4950-b787-78b25579519e",
   "metadata": {},
   "outputs": [
    {
     "data": {
      "text/plain": [
       "0       일원1동\n",
       "1        세곡동\n",
       "2       삼성1동\n",
       "3        청담동\n",
       "4        청담동\n",
       "        ... \n",
       "7207    중곡2동\n",
       "7208    중곡2동\n",
       "7209    중곡2동\n",
       "7210    중곡2동\n",
       "7211    중곡2동\n",
       "Name: 행정동, Length: 7212, dtype: object"
      ]
     },
     "execution_count": 18,
     "metadata": {},
     "output_type": "execute_result"
    }
   ],
   "source": [
    "road_data['행정동']"
   ]
  },
  {
   "cell_type": "code",
   "execution_count": 19,
   "id": "b126318b-9a23-45d5-9bd4-23fbaa70bfe6",
   "metadata": {},
   "outputs": [
    {
     "data": {
      "text/html": [
       "<div>\n",
       "<style scoped>\n",
       "    .dataframe tbody tr th:only-of-type {\n",
       "        vertical-align: middle;\n",
       "    }\n",
       "\n",
       "    .dataframe tbody tr th {\n",
       "        vertical-align: top;\n",
       "    }\n",
       "\n",
       "    .dataframe thead th {\n",
       "        text-align: right;\n",
       "    }\n",
       "</style>\n",
       "<table border=\"1\" class=\"dataframe\">\n",
       "  <thead>\n",
       "    <tr style=\"text-align: right;\">\n",
       "      <th></th>\n",
       "      <th>행정구</th>\n",
       "      <th>행정동</th>\n",
       "      <th>총생활인구수</th>\n",
       "    </tr>\n",
       "  </thead>\n",
       "  <tbody>\n",
       "    <tr>\n",
       "      <th>93</th>\n",
       "      <td>광진구</td>\n",
       "      <td>광장동</td>\n",
       "      <td>845003.636200</td>\n",
       "    </tr>\n",
       "    <tr>\n",
       "      <th>94</th>\n",
       "      <td>광진구</td>\n",
       "      <td>구의1동</td>\n",
       "      <td>525582.687753</td>\n",
       "    </tr>\n",
       "    <tr>\n",
       "      <th>95</th>\n",
       "      <td>광진구</td>\n",
       "      <td>구의2동</td>\n",
       "      <td>457624.683629</td>\n",
       "    </tr>\n",
       "    <tr>\n",
       "      <th>96</th>\n",
       "      <td>광진구</td>\n",
       "      <td>구의3동</td>\n",
       "      <td>668180.463593</td>\n",
       "    </tr>\n",
       "    <tr>\n",
       "      <th>97</th>\n",
       "      <td>광진구</td>\n",
       "      <td>군자동</td>\n",
       "      <td>582292.517720</td>\n",
       "    </tr>\n",
       "    <tr>\n",
       "      <th>98</th>\n",
       "      <td>광진구</td>\n",
       "      <td>능동</td>\n",
       "      <td>371402.674435</td>\n",
       "    </tr>\n",
       "    <tr>\n",
       "      <th>99</th>\n",
       "      <td>광진구</td>\n",
       "      <td>자양1동</td>\n",
       "      <td>598211.941075</td>\n",
       "    </tr>\n",
       "    <tr>\n",
       "      <th>100</th>\n",
       "      <td>광진구</td>\n",
       "      <td>자양2동</td>\n",
       "      <td>504804.480558</td>\n",
       "    </tr>\n",
       "    <tr>\n",
       "      <th>101</th>\n",
       "      <td>광진구</td>\n",
       "      <td>자양3동</td>\n",
       "      <td>619954.473071</td>\n",
       "    </tr>\n",
       "    <tr>\n",
       "      <th>102</th>\n",
       "      <td>광진구</td>\n",
       "      <td>자양4동</td>\n",
       "      <td>627107.215238</td>\n",
       "    </tr>\n",
       "    <tr>\n",
       "      <th>103</th>\n",
       "      <td>광진구</td>\n",
       "      <td>중곡1동</td>\n",
       "      <td>356386.006547</td>\n",
       "    </tr>\n",
       "    <tr>\n",
       "      <th>104</th>\n",
       "      <td>광진구</td>\n",
       "      <td>중곡2동</td>\n",
       "      <td>427294.937844</td>\n",
       "    </tr>\n",
       "    <tr>\n",
       "      <th>105</th>\n",
       "      <td>광진구</td>\n",
       "      <td>중곡3동</td>\n",
       "      <td>353811.963469</td>\n",
       "    </tr>\n",
       "    <tr>\n",
       "      <th>106</th>\n",
       "      <td>광진구</td>\n",
       "      <td>중곡4동</td>\n",
       "      <td>571703.539756</td>\n",
       "    </tr>\n",
       "    <tr>\n",
       "      <th>107</th>\n",
       "      <td>광진구</td>\n",
       "      <td>화양동</td>\n",
       "      <td>933033.098567</td>\n",
       "    </tr>\n",
       "  </tbody>\n",
       "</table>\n",
       "</div>"
      ],
      "text/plain": [
       "     행정구   행정동         총생활인구수\n",
       "93   광진구   광장동  845003.636200\n",
       "94   광진구  구의1동  525582.687753\n",
       "95   광진구  구의2동  457624.683629\n",
       "96   광진구  구의3동  668180.463593\n",
       "97   광진구   군자동  582292.517720\n",
       "98   광진구    능동  371402.674435\n",
       "99   광진구  자양1동  598211.941075\n",
       "100  광진구  자양2동  504804.480558\n",
       "101  광진구  자양3동  619954.473071\n",
       "102  광진구  자양4동  627107.215238\n",
       "103  광진구  중곡1동  356386.006547\n",
       "104  광진구  중곡2동  427294.937844\n",
       "105  광진구  중곡3동  353811.963469\n",
       "106  광진구  중곡4동  571703.539756\n",
       "107  광진구   화양동  933033.098567"
      ]
     },
     "execution_count": 19,
     "metadata": {},
     "output_type": "execute_result"
    }
   ],
   "source": [
    "people_data[people_data['행정구'] == '광진구']"
   ]
  },
  {
   "cell_type": "code",
   "execution_count": null,
   "id": "664f2efc-d32e-4122-b882-5c7546a4aecd",
   "metadata": {},
   "outputs": [],
   "source": []
  },
  {
   "cell_type": "code",
   "execution_count": 20,
   "id": "130b22f1-8875-4a65-801f-e25bd6b5bb3c",
   "metadata": {},
   "outputs": [
    {
     "name": "stderr",
     "output_type": "stream",
     "text": [
      "100%|█████████████████████████████████████| 7212/7212 [00:06<00:00, 1077.62it/s]\n"
     ]
    }
   ],
   "source": [
    "for i in tqdm(range(len(road_data))) :\n",
    "    dong_name = road_data.loc[i, '행정동']\n",
    "    dong_name = dong_name.replace(\"·\", \".\")\n",
    "    for n in range(len(people_data)) :\n",
    "        people_dong = people_data.loc[n, '행정동']\n",
    "        if people_dong == dong_name :\n",
    "            road_data.loc[i, '생활인구'] = people_data.loc[n, '총생활인구수']\n"
   ]
  },
  {
   "cell_type": "code",
   "execution_count": 21,
   "id": "77d0d9a6-280d-419b-984d-7e6df80d44ee",
   "metadata": {},
   "outputs": [
    {
     "data": {
      "text/plain": [
       "np.int64(0)"
      ]
     },
     "execution_count": 21,
     "metadata": {},
     "output_type": "execute_result"
    }
   ],
   "source": [
    "road_data['생활인구'].isnull().sum()"
   ]
  },
  {
   "cell_type": "code",
   "execution_count": 22,
   "id": "0c41d3c6-e618-4925-ac1d-da2fc77ec1d4",
   "metadata": {},
   "outputs": [
    {
     "data": {
      "text/html": [
       "<div>\n",
       "<style scoped>\n",
       "    .dataframe tbody tr th:only-of-type {\n",
       "        vertical-align: middle;\n",
       "    }\n",
       "\n",
       "    .dataframe tbody tr th {\n",
       "        vertical-align: top;\n",
       "    }\n",
       "\n",
       "    .dataframe thead th {\n",
       "        text-align: right;\n",
       "    }\n",
       "</style>\n",
       "<table border=\"1\" class=\"dataframe\">\n",
       "  <thead>\n",
       "    <tr style=\"text-align: right;\">\n",
       "      <th></th>\n",
       "      <th>도로명</th>\n",
       "      <th>열선</th>\n",
       "      <th>도로 종류</th>\n",
       "      <th>시작점_위도</th>\n",
       "      <th>시작점_경도</th>\n",
       "      <th>종료점_위도</th>\n",
       "      <th>종료점_경도</th>\n",
       "      <th>중앙점_위도</th>\n",
       "      <th>중앙점_경도</th>\n",
       "      <th>도로_길이</th>\n",
       "      <th>...</th>\n",
       "      <th>최근접_시설의_평균거리</th>\n",
       "      <th>2019_평균_온도</th>\n",
       "      <th>2020_평균_온도</th>\n",
       "      <th>2021_평균_온도</th>\n",
       "      <th>2022_평균_온도</th>\n",
       "      <th>2023_평균_온도</th>\n",
       "      <th>2024_평균_온도</th>\n",
       "      <th>종합_평균_기온</th>\n",
       "      <th>행정동</th>\n",
       "      <th>생활인구</th>\n",
       "    </tr>\n",
       "  </thead>\n",
       "  <tbody>\n",
       "  </tbody>\n",
       "</table>\n",
       "<p>0 rows × 26 columns</p>\n",
       "</div>"
      ],
      "text/plain": [
       "Empty DataFrame\n",
       "Columns: [도로명, 열선, 도로 종류, 시작점_위도, 시작점_경도, 종료점_위도, 종료점_경도, 중앙점_위도, 중앙점_경도, 도로_길이, 도로폭, 도로규모, 행정구역, 고도의_차이, 경사각, 최근접_시설들_거리, 최근접_시설의_평균거리, 2019_평균_온도, 2020_평균_온도, 2021_평균_온도, 2022_평균_온도, 2023_평균_온도, 2024_평균_온도, 종합_평균_기온, 행정동, 생활인구]\n",
       "Index: []\n",
       "\n",
       "[0 rows x 26 columns]"
      ]
     },
     "execution_count": 22,
     "metadata": {},
     "output_type": "execute_result"
    }
   ],
   "source": [
    "road_data[road_data['생활인구'].isnull()]"
   ]
  },
  {
   "cell_type": "code",
   "execution_count": 23,
   "id": "3bb54bd4-f47b-42ea-a0ac-c1f6ffca3a26",
   "metadata": {},
   "outputs": [
    {
     "data": {
      "text/html": [
       "<div>\n",
       "<style scoped>\n",
       "    .dataframe tbody tr th:only-of-type {\n",
       "        vertical-align: middle;\n",
       "    }\n",
       "\n",
       "    .dataframe tbody tr th {\n",
       "        vertical-align: top;\n",
       "    }\n",
       "\n",
       "    .dataframe thead th {\n",
       "        text-align: right;\n",
       "    }\n",
       "</style>\n",
       "<table border=\"1\" class=\"dataframe\">\n",
       "  <thead>\n",
       "    <tr style=\"text-align: right;\">\n",
       "      <th></th>\n",
       "      <th>행정구</th>\n",
       "      <th>행정동</th>\n",
       "      <th>총생활인구수</th>\n",
       "    </tr>\n",
       "  </thead>\n",
       "  <tbody>\n",
       "    <tr>\n",
       "      <th>138</th>\n",
       "      <td>노원구</td>\n",
       "      <td>상계3.4동</td>\n",
       "      <td>489152.683631</td>\n",
       "    </tr>\n",
       "  </tbody>\n",
       "</table>\n",
       "</div>"
      ],
      "text/plain": [
       "     행정구     행정동         총생활인구수\n",
       "138  노원구  상계3.4동  489152.683631"
      ]
     },
     "execution_count": 23,
     "metadata": {},
     "output_type": "execute_result"
    }
   ],
   "source": [
    "people_data[people_data['행정동'] == '상계3.4동']"
   ]
  },
  {
   "cell_type": "code",
   "execution_count": 24,
   "id": "98ab9cac-9142-4b7a-8af6-3633fc248ba7",
   "metadata": {},
   "outputs": [
    {
     "data": {
      "text/html": [
       "<div>\n",
       "<style scoped>\n",
       "    .dataframe tbody tr th:only-of-type {\n",
       "        vertical-align: middle;\n",
       "    }\n",
       "\n",
       "    .dataframe tbody tr th {\n",
       "        vertical-align: top;\n",
       "    }\n",
       "\n",
       "    .dataframe thead th {\n",
       "        text-align: right;\n",
       "    }\n",
       "</style>\n",
       "<table border=\"1\" class=\"dataframe\">\n",
       "  <thead>\n",
       "    <tr style=\"text-align: right;\">\n",
       "      <th></th>\n",
       "      <th>행정구</th>\n",
       "      <th>행정동</th>\n",
       "      <th>총생활인구수</th>\n",
       "    </tr>\n",
       "  </thead>\n",
       "  <tbody>\n",
       "    <tr>\n",
       "      <th>135</th>\n",
       "      <td>노원구</td>\n",
       "      <td>상계10동</td>\n",
       "      <td>3.023063e+05</td>\n",
       "    </tr>\n",
       "    <tr>\n",
       "      <th>136</th>\n",
       "      <td>노원구</td>\n",
       "      <td>상계1동</td>\n",
       "      <td>7.959057e+05</td>\n",
       "    </tr>\n",
       "    <tr>\n",
       "      <th>137</th>\n",
       "      <td>노원구</td>\n",
       "      <td>상계2동</td>\n",
       "      <td>6.662329e+05</td>\n",
       "    </tr>\n",
       "    <tr>\n",
       "      <th>138</th>\n",
       "      <td>노원구</td>\n",
       "      <td>상계3.4동</td>\n",
       "      <td>4.891527e+05</td>\n",
       "    </tr>\n",
       "    <tr>\n",
       "      <th>139</th>\n",
       "      <td>노원구</td>\n",
       "      <td>상계5동</td>\n",
       "      <td>3.735046e+05</td>\n",
       "    </tr>\n",
       "    <tr>\n",
       "      <th>140</th>\n",
       "      <td>노원구</td>\n",
       "      <td>상계6.7동</td>\n",
       "      <td>1.079875e+06</td>\n",
       "    </tr>\n",
       "    <tr>\n",
       "      <th>141</th>\n",
       "      <td>노원구</td>\n",
       "      <td>상계8동</td>\n",
       "      <td>4.320031e+05</td>\n",
       "    </tr>\n",
       "    <tr>\n",
       "      <th>142</th>\n",
       "      <td>노원구</td>\n",
       "      <td>상계9동</td>\n",
       "      <td>3.916620e+05</td>\n",
       "    </tr>\n",
       "  </tbody>\n",
       "</table>\n",
       "</div>"
      ],
      "text/plain": [
       "     행정구     행정동        총생활인구수\n",
       "135  노원구   상계10동  3.023063e+05\n",
       "136  노원구    상계1동  7.959057e+05\n",
       "137  노원구    상계2동  6.662329e+05\n",
       "138  노원구  상계3.4동  4.891527e+05\n",
       "139  노원구    상계5동  3.735046e+05\n",
       "140  노원구  상계6.7동  1.079875e+06\n",
       "141  노원구    상계8동  4.320031e+05\n",
       "142  노원구    상계9동  3.916620e+05"
      ]
     },
     "execution_count": 24,
     "metadata": {},
     "output_type": "execute_result"
    }
   ],
   "source": [
    "people_data[people_data['행정동'].str.startswith('상계')]\n"
   ]
  },
  {
   "cell_type": "code",
   "execution_count": 25,
   "id": "77dddbd2-8812-49ec-9dc8-9badf93ed334",
   "metadata": {},
   "outputs": [
    {
     "name": "stdout",
     "output_type": "stream",
     "text": [
      "./make_file/(최종)_서울열선_광진도로.csv 저장 완료\n"
     ]
    }
   ],
   "source": [
    "try : \n",
    "    save_url = \"./make_file/(최종)_서울열선_광진도로.csv\"\n",
    "    road_data.to_csv(save_url, encoding=\"UTF-8\", index=False)\n",
    "    print(f\"{save_url} 저장 완료\")\n",
    "except OSError as e:\n",
    "    print(e)"
   ]
  },
  {
   "cell_type": "code",
   "execution_count": null,
   "id": "33d78165-af98-4986-bfc5-c45307e5bea6",
   "metadata": {},
   "outputs": [],
   "source": []
  }
 ],
 "metadata": {
  "kernelspec": {
   "display_name": "Python 3 (ipykernel)",
   "language": "python",
   "name": "python3"
  },
  "language_info": {
   "codemirror_mode": {
    "name": "ipython",
    "version": 3
   },
   "file_extension": ".py",
   "mimetype": "text/x-python",
   "name": "python",
   "nbconvert_exporter": "python",
   "pygments_lexer": "ipython3",
   "version": "3.13.2"
  }
 },
 "nbformat": 4,
 "nbformat_minor": 5
}
