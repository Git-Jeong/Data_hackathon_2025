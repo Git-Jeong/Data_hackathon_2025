{
 "cells": [
  {
   "cell_type": "code",
   "execution_count": 1,
   "id": "57d51fe3-60e7-4e2c-9d60-ae87044dbebe",
   "metadata": {
    "execution": {
     "iopub.execute_input": "2025-03-23T09:20:08.487964Z",
     "iopub.status.busy": "2025-03-23T09:20:08.487582Z",
     "iopub.status.idle": "2025-03-23T09:20:08.876094Z",
     "shell.execute_reply": "2025-03-23T09:20:08.875827Z"
    }
   },
   "outputs": [],
   "source": [
    "try:\n",
    "    import osmnx as ox\n",
    "except :\n",
    "    # !pip install --break-system-packages osmnx\n",
    "    !pip install osmnx\n",
    "    import osmnx as ox "
   ]
  },
  {
   "cell_type": "code",
   "execution_count": 2,
   "id": "a26c4164-1400-4071-aca9-7d14f6ebb052",
   "metadata": {
    "execution": {
     "iopub.execute_input": "2025-03-23T09:20:08.877399Z",
     "iopub.status.busy": "2025-03-23T09:20:08.877275Z",
     "iopub.status.idle": "2025-03-23T09:20:10.465103Z",
     "shell.execute_reply": "2025-03-23T09:20:10.464803Z"
    }
   },
   "outputs": [],
   "source": [
    "# 광진구의 골목길 포함 도로 네트워크 가져오기 (residential, service, tertiary 도로 포함)\n",
    "place_name = \"광진구, 서울, 대한민국\"\n",
    "# graph = ox.graph_from_place(place_name, network_type='drive')\n",
    "graph = ox.graph_from_place(place_name, network_type='bike')\n",
    "\n",
    "# 모든 데이터를 수집하는 경우\n",
    "graph_all = ox.graph_from_place(place_name, network_type='all')\n"
   ]
  },
  {
   "cell_type": "code",
   "execution_count": 3,
   "id": "647bf04b-00f0-4c9b-8665-301b33e28eff",
   "metadata": {
    "execution": {
     "iopub.execute_input": "2025-03-23T09:20:10.466328Z",
     "iopub.status.busy": "2025-03-23T09:20:10.466263Z",
     "iopub.status.idle": "2025-03-23T09:20:10.569935Z",
     "shell.execute_reply": "2025-03-23T09:20:10.569633Z"
    }
   },
   "outputs": [],
   "source": [
    "# 모든 도로의 시작점과 종료점 노드 정보\n",
    "nodes, edges = ox.graph_to_gdfs(graph)\n",
    "\n",
    "# 모든 데이터 수집\n",
    "nodes_all, edges_all = ox.graph_to_gdfs(graph_all)\n"
   ]
  },
  {
   "cell_type": "code",
   "execution_count": 4,
   "id": "5eaec446-ba7f-45f1-827a-557d46925cff",
   "metadata": {
    "execution": {
     "iopub.execute_input": "2025-03-23T09:20:10.571168Z",
     "iopub.status.busy": "2025-03-23T09:20:10.571107Z",
     "iopub.status.idle": "2025-03-23T09:20:10.572779Z",
     "shell.execute_reply": "2025-03-23T09:20:10.572585Z"
    }
   },
   "outputs": [
    {
     "name": "stdout",
     "output_type": "stream",
     "text": [
      "불러온 nodes : 3751\n",
      "불러온 edges : 9639\n",
      "불러온 nodes_all : 5227\n",
      "불러온 edges_all : 14461\n"
     ]
    }
   ],
   "source": [
    "print(f'불러온 nodes : {len(nodes)}')\n",
    "print(f'불러온 edges : {len(edges)}')\n",
    "\n",
    "print(f'불러온 nodes_all : {len(nodes_all)}')\n",
    "print(f'불러온 edges_all : {len(edges_all)}')"
   ]
  },
  {
   "cell_type": "code",
   "execution_count": 5,
   "id": "ba0e1c19-585a-4fba-8fda-7954f76efc57",
   "metadata": {
    "execution": {
     "iopub.execute_input": "2025-03-23T09:20:10.573648Z",
     "iopub.status.busy": "2025-03-23T09:20:10.573598Z",
     "iopub.status.idle": "2025-03-23T09:20:10.581023Z",
     "shell.execute_reply": "2025-03-23T09:20:10.580841Z"
    }
   },
   "outputs": [
    {
     "name": "stdout",
     "output_type": "stream",
     "text": [
      "                                                       osmid      highway  \\\n",
      "u         v           key                                                   \n",
      "368702043 4104262755  0    [175320385, 175320419, 175320429]     tertiary   \n",
      "          8963165265  0                            516647748  residential   \n",
      "          436866074   0                            516647752  residential   \n",
      "414683232 11125576999 0                           1199529109    secondary   \n",
      "          11125576997 0                           1193259435      primary   \n",
      "\n",
      "                                     name  oneway reversed      length tunnel  \\\n",
      "u         v           key                                                       \n",
      "368702043 4104262755  0    [광장앞지하차도, 광장로]   False    False  430.542185    yes   \n",
      "          8963165265  0              워커힐로   False    False  107.043667    NaN   \n",
      "          436866074   0              워커힐로   False     True  177.203342    NaN   \n",
      "414683232 11125576999 0              아차산로    True    False   10.930404    NaN   \n",
      "          11125576997 0               자양로    True    False   26.921615    NaN   \n",
      "\n",
      "                                                                    geometry  \\\n",
      "u         v           key                                                      \n",
      "368702043 4104262755  0    LINESTRING (127.09777 37.54551, 127.09832 37.5...   \n",
      "          8963165265  0    LINESTRING (127.09777 37.54551, 127.09802 37.5...   \n",
      "          436866074   0    LINESTRING (127.09777 37.54551, 127.09752 37.5...   \n",
      "414683232 11125576999 0    LINESTRING (127.08354 37.53655, 127.08367 37.5...   \n",
      "          11125576997 0    LINESTRING (127.08354 37.53655, 127.08359 37.5...   \n",
      "\n",
      "                          lanes maxspeed   ref service bridge width access  \n",
      "u         v           key                                                   \n",
      "368702043 4104262755  0     NaN      NaN   NaN     NaN    NaN   NaN    NaN  \n",
      "          8963165265  0     NaN      NaN   NaN     NaN    NaN   NaN    NaN  \n",
      "          436866074   0     NaN      NaN   NaN     NaN    NaN   NaN    NaN  \n",
      "414683232 11125576999 0       3       50   NaN     NaN    NaN   NaN    NaN  \n",
      "          11125576997 0       3      NaN  3;71     NaN    NaN   NaN    NaN  \n",
      "<class 'geopandas.geodataframe.GeoDataFrame'>\n",
      "MultiIndex: 9639 entries, (np.int64(368702043), np.int64(4104262755), np.int64(0)) to (np.int64(12686684619), np.int64(3846107101), np.int64(0))\n",
      "Data columns (total 15 columns):\n",
      " #   Column    Non-Null Count  Dtype   \n",
      "---  ------    --------------  -----   \n",
      " 0   osmid     9639 non-null   object  \n",
      " 1   highway   9639 non-null   object  \n",
      " 2   name      7526 non-null   object  \n",
      " 3   oneway    9639 non-null   bool    \n",
      " 4   reversed  9639 non-null   object  \n",
      " 5   length    9639 non-null   float64 \n",
      " 6   tunnel    58 non-null     object  \n",
      " 7   geometry  9639 non-null   geometry\n",
      " 8   lanes     631 non-null    object  \n",
      " 9   maxspeed  497 non-null    object  \n",
      " 10  ref       282 non-null    object  \n",
      " 11  service   326 non-null    object  \n",
      " 12  bridge    36 non-null     object  \n",
      " 13  width     102 non-null    object  \n",
      " 14  access    24 non-null     object  \n",
      "dtypes: bool(1), float64(1), geometry(1), object(12)\n",
      "memory usage: 1.4+ MB\n",
      "None\n",
      "                   y           x  street_count junction highway  ref  \\\n",
      "osmid                                                                  \n",
      "368702043  37.545509  127.097772             3      NaN     NaN  NaN   \n",
      "414683232  37.536546  127.083544             3      yes     NaN  NaN   \n",
      "414683263  37.545022  127.085259             3      NaN     NaN  NaN   \n",
      "414683265  37.544993  127.104261             5      yes     NaN  NaN   \n",
      "414683275  37.548276  127.067505             4      NaN     NaN  NaN   \n",
      "\n",
      "                             geometry  \n",
      "osmid                                  \n",
      "368702043  POINT (127.09777 37.54551)  \n",
      "414683232  POINT (127.08354 37.53655)  \n",
      "414683263  POINT (127.08526 37.54502)  \n",
      "414683265  POINT (127.10426 37.54499)  \n",
      "414683275  POINT (127.06751 37.54828)  \n",
      "<class 'geopandas.geodataframe.GeoDataFrame'>\n",
      "Index: 3751 entries, 368702043 to 12686684619\n",
      "Data columns (total 7 columns):\n",
      " #   Column        Non-Null Count  Dtype   \n",
      "---  ------        --------------  -----   \n",
      " 0   y             3751 non-null   float64 \n",
      " 1   x             3751 non-null   float64 \n",
      " 2   street_count  3751 non-null   int64   \n",
      " 3   junction      8 non-null      object  \n",
      " 4   highway       63 non-null     object  \n",
      " 5   ref           7 non-null      object  \n",
      " 6   geometry      3751 non-null   geometry\n",
      "dtypes: float64(2), geometry(1), int64(1), object(3)\n",
      "memory usage: 234.4+ KB\n",
      "None\n"
     ]
    }
   ],
   "source": [
    "# edges 데이터프레임의 구조와 첫 몇 개의 행을 확인\n",
    "print(edges.head())\n",
    "print(edges.info())\n",
    "\n",
    "# nodes 데이터프레임의 구조와 첫 몇 개의 행을 확인\n",
    "print(nodes.head())\n",
    "print(nodes.info())\n"
   ]
  },
  {
   "cell_type": "code",
   "execution_count": 6,
   "id": "163d3700-fabb-4254-a615-7cf52d6940dc",
   "metadata": {
    "execution": {
     "iopub.execute_input": "2025-03-23T09:20:10.581934Z",
     "iopub.status.busy": "2025-03-23T09:20:10.581879Z",
     "iopub.status.idle": "2025-03-23T09:20:10.586736Z",
     "shell.execute_reply": "2025-03-23T09:20:10.586528Z"
    }
   },
   "outputs": [],
   "source": [
    "try :\n",
    "    from tqdm import tqdm\n",
    "except :\n",
    "    !pip install tqdm\n",
    "    from tqdm import tqdm"
   ]
  },
  {
   "cell_type": "code",
   "execution_count": 7,
   "id": "8a764f17-cba2-4d11-a8eb-8df3a4ef0503",
   "metadata": {
    "execution": {
     "iopub.execute_input": "2025-03-23T09:20:10.587655Z",
     "iopub.status.busy": "2025-03-23T09:20:10.587601Z",
     "iopub.status.idle": "2025-03-23T09:20:12.071256Z",
     "shell.execute_reply": "2025-03-23T09:20:12.071022Z"
    }
   },
   "outputs": [
    {
     "name": "stderr",
     "output_type": "stream",
     "text": [
      "\r",
      "  0%|                                                  | 0/9639 [00:00<?, ?it/s]"
     ]
    },
    {
     "name": "stderr",
     "output_type": "stream",
     "text": [
      "\r",
      "  6%|██▍                                   | 621/9639 [00:00<00:01, 6208.90it/s]"
     ]
    },
    {
     "name": "stderr",
     "output_type": "stream",
     "text": [
      "\r",
      " 13%|████▉                                | 1285/9639 [00:00<00:01, 6457.48it/s]"
     ]
    },
    {
     "name": "stderr",
     "output_type": "stream",
     "text": [
      "\r",
      " 20%|███████▍                             | 1941/9639 [00:00<00:01, 6503.42it/s]"
     ]
    },
    {
     "name": "stderr",
     "output_type": "stream",
     "text": [
      "\r",
      " 27%|██████████                           | 2614/9639 [00:00<00:01, 6591.92it/s]"
     ]
    },
    {
     "name": "stderr",
     "output_type": "stream",
     "text": [
      "\r",
      " 34%|████████████▌                        | 3274/9639 [00:00<00:00, 6548.80it/s]"
     ]
    },
    {
     "name": "stderr",
     "output_type": "stream",
     "text": [
      "\r",
      " 41%|███████████████                      | 3929/9639 [00:00<00:00, 6518.37it/s]"
     ]
    },
    {
     "name": "stderr",
     "output_type": "stream",
     "text": [
      "\r",
      " 48%|█████████████████▌                   | 4589/9639 [00:00<00:00, 6543.91it/s]"
     ]
    },
    {
     "name": "stderr",
     "output_type": "stream",
     "text": [
      "\r",
      " 54%|████████████████████▏                | 5248/9639 [00:00<00:00, 6556.89it/s]"
     ]
    },
    {
     "name": "stderr",
     "output_type": "stream",
     "text": [
      "\r",
      " 61%|██████████████████████▋              | 5917/9639 [00:00<00:00, 6597.06it/s]"
     ]
    },
    {
     "name": "stderr",
     "output_type": "stream",
     "text": [
      "\r",
      " 68%|█████████████████████████▏           | 6577/9639 [00:01<00:00, 6596.50it/s]"
     ]
    },
    {
     "name": "stderr",
     "output_type": "stream",
     "text": [
      "\r",
      " 75%|███████████████████████████▊         | 7237/9639 [00:01<00:00, 6547.23it/s]"
     ]
    },
    {
     "name": "stderr",
     "output_type": "stream",
     "text": [
      "\r",
      " 82%|██████████████████████████████▎      | 7907/9639 [00:01<00:00, 6590.53it/s]"
     ]
    },
    {
     "name": "stderr",
     "output_type": "stream",
     "text": [
      "\r",
      " 89%|████████████████████████████████▉    | 8573/9639 [00:01<00:00, 6609.88it/s]"
     ]
    },
    {
     "name": "stderr",
     "output_type": "stream",
     "text": [
      "\r",
      " 96%|███████████████████████████████████▍ | 9235/9639 [00:01<00:00, 6581.29it/s]"
     ]
    },
    {
     "name": "stderr",
     "output_type": "stream",
     "text": [
      "\r",
      "100%|█████████████████████████████████████| 9639/9639 [00:01<00:00, 6545.39it/s]"
     ]
    },
    {
     "name": "stderr",
     "output_type": "stream",
     "text": [
      "\n"
     ]
    }
   ],
   "source": [
    "# 전역 배열 초기화\n",
    "road_names = []\n",
    "highway_types = []\n",
    "start_lats = []\n",
    "start_lons = []\n",
    "end_lats = []\n",
    "end_lons = []\n",
    "road_len = []\n",
    "tunnel_status = []  \n",
    "bridge_status = [] \n",
    "service_status = []   \n",
    "road_ids = []\n",
    "max_speeds = []\n",
    "lane_counts = []\n",
    "one_way = []\n",
    "junction_status = []\n",
    "\n",
    "# 도로 종류 한글 매핑 딕셔너리\n",
    "road_type_map = {\n",
    "    'motorway': '고속도로',\n",
    "    'trunk': '간선도로',\n",
    "    'primary': '주도로',\n",
    "    'secondary': '2차로',\n",
    "    'tertiary': '3차로',\n",
    "    'unclassified': '비분류 도로',\n",
    "    'residential': '주거지 도로',\n",
    "    'service': '서비스 도로',\n",
    "    'living_street': '생활도로'\n",
    "}\n",
    "\n",
    "# 'edges' 데이터프레임에서 각 도로에 대해 정보 추출\n",
    "\n",
    "for index, row in tqdm(edges.iterrows(), total=len(edges)): \n",
    "    # MultiIndex에서 u와 v 값 추출\n",
    "    start_node = index[0]  # 시작 노드 (u)\n",
    "    end_node = index[1]    # 종료 노드 (v)\n",
    "\n",
    "    # 노드 정보를 기반으로 위도와 경도 가져오기\n",
    "    try:\n",
    "        start_lat, start_lon = nodes.loc[start_node, ['y', 'x']]\n",
    "        end_lat, end_lon = nodes.loc[end_node, ['y', 'x']]\n",
    "    except KeyError:\n",
    "        # 노드 정보가 없을 경우 건너뛰기\n",
    "        continue\n",
    "\n",
    "    # 도로명(속성 name)과 도로 특성 확인\n",
    "    road_name = row.get('name', None)  # 도로명이 없는 경우 None 처리\n",
    "    highway_type = row.get('highway', None)  \n",
    "    # if highway_type not in ['unclassified', 'motorway', 'trunk', 'primary', 'secondary', 'residential', 'tertiary',\n",
    "    #                        'living_street', 'primary_link', 'trunk_link', 'secondary_link', 'road'] :\n",
    "    #     print(highway_type)                                \n",
    "    tunnel_status_val = row.get('tunnel', None)   \n",
    "    bridge_status_val = row.get('bridge', None)  # 교량 여부\n",
    "    service_status_val = row.get('service', None)  # 서비스 도로 여부\n",
    "    maxspeed = row.get('maxspeed', None)  # 속도 제한\n",
    "    lanes = row.get('lanes', None)  # 차선 수\n",
    "    oneway = row.get('oneway', None)  # 일방통행 여부\n",
    "    junction = row.get('junction', None)  # 교차로 여부\n",
    "    length = row.get('length', None) \n",
    "\n",
    "    # primary_link의 경우 대부분의 도로를 차지 중 -> 문제는 큰도로쪽도 이게 일부 있음\n",
    "    \n",
    "    if isinstance(highway_type, list): \n",
    "        continue \n",
    "        \n",
    "    if not highway_type:   \n",
    "        continue\n",
    "\n",
    "    if highway_type == 'unclassified' :\n",
    "        continue \n",
    "        \n",
    "    # 국도나 고속도로 등을 제외\n",
    "    # path를 날려야 등산로가 사라짐\n",
    "    if highway_type in ['motorway', 'path', 'cycleway', 'road',\n",
    "                        'trunk', 'trunk_link',\n",
    "                        'primary', 'primary_link', \n",
    "                        'secondary', 'secondary_link']:    \n",
    "        continue  # 해당 도로는 건너뛰기 \n",
    "        \n",
    "        \n",
    "    # 전역 배열에 데이터 추가\n",
    "    road_names.append(road_name if road_name else None)  # 값이 없으면 None로 처리\n",
    "    # 도로 종류를 한글로 매핑\n",
    "    road_type_in_korean = road_type_map.get(highway_type, None)\n",
    "    highway_types.append(road_type_in_korean)  # 값이 없으면 None로 처리\n",
    "    start_lats.append(start_lat if start_lat else None)  # 값이 없으면 None로 처리\n",
    "    start_lons.append(start_lon if start_lon else None)  # 값이 없으면 None로 처리\n",
    "    end_lats.append(end_lat if end_lat else None)  # 값이 없으면 None로 처리\n",
    "    end_lons.append(end_lon if end_lon else None)  # 값이 없으면 None로 처리\n",
    "    road_len.append(length if length else None)\n",
    "    tunnel_status.append(tunnel_status_val if tunnel_status_val else None)  # 값이 없으면 None로 처리\n",
    "    bridge_status.append(bridge_status_val if bridge_status_val else None)  # 값이 없으면 None로 처리\n",
    "    service_status.append(service_status_val if service_status_val else None)  # 값이 없으면 None로 처리\n",
    "    road_ids.append(row['osmid'] if row['osmid'] else None)  # 값이 없으면 None로 처리\n",
    "    max_speeds.append(maxspeed if maxspeed else None)  # 값이 없으면 None로 처리\n",
    "    lane_counts.append(lanes if lanes else None)  # 값이 없으면 None로 처리\n",
    "    one_way.append(oneway if oneway else None)  # 값이 없으면 None로 처리\n",
    "    junction_status.append(junction if junction else None)  # 값이 없으면 None로 처리\n"
   ]
  },
  {
   "cell_type": "code",
   "execution_count": 8,
   "id": "6ed1f0f2-3edb-432f-be4a-86b6c9b961ac",
   "metadata": {
    "execution": {
     "iopub.execute_input": "2025-03-23T09:20:12.072342Z",
     "iopub.status.busy": "2025-03-23T09:20:12.072269Z",
     "iopub.status.idle": "2025-03-23T09:20:12.074060Z",
     "shell.execute_reply": "2025-03-23T09:20:12.073886Z"
    }
   },
   "outputs": [
    {
     "name": "stdout",
     "output_type": "stream",
     "text": [
      "8318 8318\n",
      "8318 8318\n",
      "8318 8318\n",
      "8318\n"
     ]
    }
   ],
   "source": [
    "# 각 배열의 길이 확인\n",
    "print(len(road_names), len(highway_types))\n",
    "print(len(start_lats), len(start_lons))\n",
    "print(len(end_lats), len(end_lons))\n",
    "\n",
    "print(f'{len(road_len)}')\n"
   ]
  },
  {
   "cell_type": "markdown",
   "id": "74183f60-6523-4528-a0f4-1aa9be00982e",
   "metadata": {},
   "source": [
    "\n",
    "  "
   ]
  },
  {
   "cell_type": "code",
   "execution_count": 9,
   "id": "acb1430d-0118-4be0-944f-194e9741ccd3",
   "metadata": {
    "execution": {
     "iopub.execute_input": "2025-03-23T09:20:12.074945Z",
     "iopub.status.busy": "2025-03-23T09:20:12.074888Z",
     "iopub.status.idle": "2025-03-23T09:20:12.079767Z",
     "shell.execute_reply": "2025-03-23T09:20:12.079608Z"
    }
   },
   "outputs": [],
   "source": [
    "average_lat = []\n",
    "average_lon = []\n",
    "\n",
    "for i in range(max(len(start_lats), len(end_lats))):\n",
    "    start_lat = start_lats[i] if i < len(start_lats) else start_lats[-1]\n",
    "    end_lat = end_lats[i] if i < len(end_lats) else end_lats[-1]\n",
    "    average_lat.append((start_lat + end_lat) / 2)\n",
    "\n",
    "for i in range(max(len(start_lons), len(end_lons))):\n",
    "    start_lon = start_lons[i] if i < len(start_lons) else start_lons[-1]\n",
    "    end_lon = end_lons[i] if i < len(end_lons) else end_lons[-1]\n",
    "    average_lon.append((start_lon + end_lon) / 2)\n"
   ]
  },
  {
   "cell_type": "code",
   "execution_count": 10,
   "id": "3cdaab37-ed2b-4676-a0da-6a590c066074",
   "metadata": {
    "execution": {
     "iopub.execute_input": "2025-03-23T09:20:12.080625Z",
     "iopub.status.busy": "2025-03-23T09:20:12.080563Z",
     "iopub.status.idle": "2025-03-23T09:20:12.082155Z",
     "shell.execute_reply": "2025-03-23T09:20:12.081967Z"
    }
   },
   "outputs": [],
   "source": [
    "# 데이터프레임 생성\n",
    "data = {\n",
    "    '도로명': road_names,\n",
    "    '도로 종류': highway_types,\n",
    "    '시작점_위도': start_lats,\n",
    "    '시작점_경도': start_lons,\n",
    "    '종료점_위도': end_lats,\n",
    "    '종료점_경도': end_lons,\n",
    "    '중앙점_위도' : average_lat,\n",
    "    '중앙점_경도' : average_lon,\n",
    "    '도로_길이' : road_len,\n",
    "    '터널 여부': tunnel_status,\n",
    "    '교량 여부': bridge_status,\n",
    "    '서비스 도로 여부': service_status,\n",
    "    '도로 ID': road_ids,\n",
    "    '속도 제한': max_speeds,\n",
    "    '차선 수': lane_counts,\n",
    "    '일방통행 여부': one_way,\n",
    "    '교차로 여부': junction_status\n",
    "}\n"
   ]
  },
  {
   "cell_type": "code",
   "execution_count": 11,
   "id": "10fa54da-aa5a-4108-8385-22a7611717e4",
   "metadata": {
    "execution": {
     "iopub.execute_input": "2025-03-23T09:20:12.083015Z",
     "iopub.status.busy": "2025-03-23T09:20:12.082960Z",
     "iopub.status.idle": "2025-03-23T09:20:12.090356Z",
     "shell.execute_reply": "2025-03-23T09:20:12.090157Z"
    }
   },
   "outputs": [],
   "source": [
    "import pandas as pd\n",
    "\n",
    "df = pd.DataFrame(data)\n"
   ]
  },
  {
   "cell_type": "code",
   "execution_count": 12,
   "id": "a783d090-e160-46bc-9664-88602ea6832d",
   "metadata": {
    "execution": {
     "iopub.execute_input": "2025-03-23T09:20:12.091318Z",
     "iopub.status.busy": "2025-03-23T09:20:12.091262Z",
     "iopub.status.idle": "2025-03-23T09:20:12.122010Z",
     "shell.execute_reply": "2025-03-23T09:20:12.121841Z"
    }
   },
   "outputs": [
    {
     "name": "stdout",
     "output_type": "stream",
     "text": [
      "광진구의 도로 정보가 CSV 파일로 저장되었습니다.\n"
     ]
    }
   ],
   "source": [
    "try :\n",
    "    df.to_csv('./make_file/광진구_자동차도로_전체.csv', index=False)\n",
    "    print(\"광진구의 도로 정보가 CSV 파일로 저장되었습니다.\")\n",
    "except OSError as e:\n",
    "    print(e) "
   ]
  },
  {
   "cell_type": "markdown",
   "id": "ffe75bb1-221c-47ce-8870-e7529a96064f",
   "metadata": {},
   "source": [
    "## 비교군으로 '전체' 도로 데이터를 불러와 보기"
   ]
  },
  {
   "cell_type": "code",
   "execution_count": 13,
   "id": "bef55bb6-63fe-4323-a1a1-535e4b5e81c4",
   "metadata": {
    "execution": {
     "iopub.execute_input": "2025-03-23T09:20:12.123008Z",
     "iopub.status.busy": "2025-03-23T09:20:12.122925Z",
     "iopub.status.idle": "2025-03-23T09:20:14.342415Z",
     "shell.execute_reply": "2025-03-23T09:20:14.342230Z"
    }
   },
   "outputs": [
    {
     "name": "stderr",
     "output_type": "stream",
     "text": [
      "\r",
      "  0%|                                                 | 0/14461 [00:00<?, ?it/s]"
     ]
    },
    {
     "name": "stderr",
     "output_type": "stream",
     "text": [
      "\r",
      "  4%|█▌                                   | 634/14461 [00:00<00:02, 6337.01it/s]"
     ]
    },
    {
     "name": "stderr",
     "output_type": "stream",
     "text": [
      "\r",
      "  9%|███▏                                | 1302/14461 [00:00<00:02, 6532.97it/s]"
     ]
    },
    {
     "name": "stderr",
     "output_type": "stream",
     "text": [
      "\r",
      " 14%|████▉                               | 1964/14461 [00:00<00:01, 6571.33it/s]"
     ]
    },
    {
     "name": "stderr",
     "output_type": "stream",
     "text": [
      "\r",
      " 18%|██████▌                             | 2622/14461 [00:00<00:01, 6508.40it/s]"
     ]
    },
    {
     "name": "stderr",
     "output_type": "stream",
     "text": [
      "\r",
      " 23%|████████▏                           | 3273/14461 [00:00<00:01, 6476.63it/s]"
     ]
    },
    {
     "name": "stderr",
     "output_type": "stream",
     "text": [
      "\r",
      " 27%|█████████▊                          | 3921/14461 [00:00<00:01, 6452.20it/s]"
     ]
    },
    {
     "name": "stderr",
     "output_type": "stream",
     "text": [
      "\r",
      " 32%|███████████▍                        | 4578/14461 [00:00<00:01, 6487.27it/s]"
     ]
    },
    {
     "name": "stderr",
     "output_type": "stream",
     "text": [
      "\r",
      " 36%|█████████████                       | 5227/14461 [00:00<00:01, 6465.15it/s]"
     ]
    },
    {
     "name": "stderr",
     "output_type": "stream",
     "text": [
      "\r",
      " 41%|██████████████▋                     | 5899/14461 [00:00<00:01, 6543.58it/s]"
     ]
    },
    {
     "name": "stderr",
     "output_type": "stream",
     "text": [
      "\r",
      " 45%|████████████████▎                   | 6569/14461 [00:01<00:01, 6589.81it/s]"
     ]
    },
    {
     "name": "stderr",
     "output_type": "stream",
     "text": [
      "\r",
      " 50%|█████████████████▉                  | 7229/14461 [00:01<00:01, 6586.71it/s]"
     ]
    },
    {
     "name": "stderr",
     "output_type": "stream",
     "text": [
      "\r",
      " 55%|███████████████████▋                | 7893/14461 [00:01<00:00, 6600.71it/s]"
     ]
    },
    {
     "name": "stderr",
     "output_type": "stream",
     "text": [
      "\r",
      " 59%|█████████████████████▎              | 8558/14461 [00:01<00:00, 6613.97it/s]"
     ]
    },
    {
     "name": "stderr",
     "output_type": "stream",
     "text": [
      "\r",
      " 64%|██████████████████████▉             | 9226/14461 [00:01<00:00, 6633.42it/s]"
     ]
    },
    {
     "name": "stderr",
     "output_type": "stream",
     "text": [
      "\r",
      " 68%|████████████████████████▌           | 9890/14461 [00:01<00:00, 6565.24it/s]"
     ]
    },
    {
     "name": "stderr",
     "output_type": "stream",
     "text": [
      "\r",
      " 73%|█████████████████████████▌         | 10547/14461 [00:01<00:00, 6492.34it/s]"
     ]
    },
    {
     "name": "stderr",
     "output_type": "stream",
     "text": [
      "\r",
      " 78%|███████████████████████████▏       | 11209/14461 [00:01<00:00, 6528.75it/s]"
     ]
    },
    {
     "name": "stderr",
     "output_type": "stream",
     "text": [
      "\r",
      " 82%|████████████████████████████▋      | 11863/14461 [00:01<00:00, 6481.80it/s]"
     ]
    },
    {
     "name": "stderr",
     "output_type": "stream",
     "text": [
      "\r",
      " 87%|██████████████████████████████▎    | 12528/14461 [00:01<00:00, 6531.21it/s]"
     ]
    },
    {
     "name": "stderr",
     "output_type": "stream",
     "text": [
      "\r",
      " 91%|███████████████████████████████▉   | 13189/14461 [00:02<00:00, 6553.57it/s]"
     ]
    },
    {
     "name": "stderr",
     "output_type": "stream",
     "text": [
      "\r",
      " 96%|█████████████████████████████████▌ | 13845/14461 [00:02<00:00, 6518.91it/s]"
     ]
    },
    {
     "name": "stderr",
     "output_type": "stream",
     "text": [
      "\r",
      "100%|███████████████████████████████████| 14461/14461 [00:02<00:00, 6526.91it/s]"
     ]
    },
    {
     "name": "stderr",
     "output_type": "stream",
     "text": [
      "\n"
     ]
    }
   ],
   "source": [
    "# 전역 배열 초기화\n",
    "compare_road_names = []\n",
    "compare_highway_types = []\n",
    "compare_start_lats = []\n",
    "compare_start_lons = []\n",
    "compare_end_lats = []\n",
    "compare_end_lons = []\n",
    "compare_road_len = []\n",
    "compare_tunnel_status = []  \n",
    "compare_bridge_status = [] \n",
    "compare_service_status = []   \n",
    "compare_road_ids = []\n",
    "compare_max_speeds = []\n",
    "compare_lane_counts = []\n",
    "compare_one_way = []\n",
    "compare_junction_status = []\n",
    "\n",
    "# 도로 종류 한글 매핑 딕셔너리\n",
    "road_type_map = {\n",
    "    'motorway': '고속도로',\n",
    "    'trunk': '간선도로',\n",
    "    'primary': '주도로',\n",
    "    'secondary': '2차로',\n",
    "    'tertiary': '3차로',\n",
    "    'unclassified': '비분류 도로',\n",
    "    'residential': '주거지 도로',\n",
    "    'service': '서비스 도로',\n",
    "    'living_street': '생활도로'\n",
    "}\n",
    "\n",
    "# 'edges_all' 데이터프레임에서 각 도로에 대해 정보 추출 \n",
    "for index, row in tqdm(edges_all.iterrows(), total=len(edges_all)): \n",
    "    # MultiIndex에서 u와 v 값 추출\n",
    "    start_node = index[0]  # 시작 노드 (u)\n",
    "    end_node = index[1]    # 종료 노드 (v)\n",
    "\n",
    "    # 노드 정보를 기반으로 위도와 경도 가져오기\n",
    "    try:\n",
    "        start_lat, start_lon = nodes_all.loc[start_node, ['y', 'x']]\n",
    "        end_lat, end_lon = nodes_all.loc[end_node, ['y', 'x']]\n",
    "    except KeyError:\n",
    "        # 노드 정보가 없을 경우 건너뛰기\n",
    "        continue\n",
    "\n",
    "    # 도로명(속성 name)과 도로 특성 확인\n",
    "    road_name = row.get('name', None)  # 도로명이 없는 경우 None 처리\n",
    "    highway_type = row.get('highway', None)  \n",
    "    # if highway_type not in ['unclassified', 'motorway', 'trunk', 'primary', 'secondary', 'residential', 'tertiary',\n",
    "    #                        'living_street', 'primary_link', 'trunk_link', 'secondary_link', 'road',\n",
    "    #                        'path', 'service', 'cycleway'] :\n",
    "    #     print(highway_type)                                \n",
    "    tunnel_status_val = row.get('tunnel', None)   \n",
    "    bridge_status_val = row.get('bridge', None)  # 교량 여부\n",
    "    service_status_val = row.get('service', None)  # 서비스 도로 여부\n",
    "    maxspeed = row.get('maxspeed', None)  # 속도 제한\n",
    "    lanes = row.get('lanes', None)  # 차선 수\n",
    "    oneway = row.get('oneway', None)  # 일방통행 여부\n",
    "    junction = row.get('junction', None)  # 교차로 여부\n",
    "    length = row.get('length', None)   \n",
    "        \n",
    "    # primary_link의 경우 대부분의 도로를 차지 중 -> 문제는 큰도로쪽도 이게 일부 있음\n",
    "\n",
    "    # pass 없이 진행\n",
    "    if isinstance(highway_type, list):  \n",
    "        highway_type = highway_type[0]\n",
    "        \n",
    "    # if not highway_type:   \n",
    "    #     continue\n",
    "\n",
    "    # if highway_type == 'unclassified' :\n",
    "    #     continue \n",
    "        \n",
    "    # # 국도나 고속도로 등을 제외\n",
    "    # # path를 날려야 등산로가 사라짐\n",
    "    # if highway_type in ['motorway', 'path', 'cycleway', 'road',\n",
    "    #                     'trunk', 'trunk_link',\n",
    "    #                     'primary', 'primary_link', \n",
    "    #                     'secondary', 'secondary_link']:   \n",
    "    #     continue  # 해당 도로는 건너뛰기 \n",
    "        \n",
    "    # 전역 배열에 데이터 추가\n",
    "    compare_road_names.append(road_name if road_name else None)  # 값이 없으면 None로 처리\n",
    "    # 도로 종류를 한글로 매핑\n",
    "    compare_road_type_in_korean = road_type_map.get(highway_type, None)\n",
    "    compare_highway_types.append(road_type_in_korean)  # 값이 없으면 None로 처리\n",
    "    compare_start_lats.append(start_lat if start_lat else None)  # 값이 없으면 None로 처리\n",
    "    compare_start_lons.append(start_lon if start_lon else None)  # 값이 없으면 None로 처리\n",
    "    compare_end_lats.append(end_lat if end_lat else None)  # 값이 없으면 None로 처리\n",
    "    compare_end_lons.append(end_lon if end_lon else None)  # 값이 없으면 None로 처리\n",
    "    compare_road_len.append(length if length else None)\n",
    "    compare_tunnel_status.append(tunnel_status_val if tunnel_status_val else None)  # 값이 없으면 None로 처리\n",
    "    compare_bridge_status.append(bridge_status_val if bridge_status_val else None)  # 값이 없으면 None로 처리\n",
    "    compare_service_status.append(service_status_val if service_status_val else None)  # 값이 없으면 None로 처리\n",
    "    compare_road_ids.append(row['osmid'] if row['osmid'] else None)  # 값이 없으면 None로 처리\n",
    "    compare_max_speeds.append(maxspeed if maxspeed else None)  # 값이 없으면 None로 처리\n",
    "    compare_lane_counts.append(lanes if lanes else None)  # 값이 없으면 None로 처리\n",
    "    compare_one_way.append(oneway if oneway else None)  # 값이 없으면 None로 처리\n",
    "    compare_junction_status.append(junction if junction else None)  # 값이 없으면 None로 처리\n"
   ]
  },
  {
   "cell_type": "code",
   "execution_count": 14,
   "id": "07584a36-4670-485c-87a2-ed1632d49dc5",
   "metadata": {
    "execution": {
     "iopub.execute_input": "2025-03-23T09:20:14.343442Z",
     "iopub.status.busy": "2025-03-23T09:20:14.343378Z",
     "iopub.status.idle": "2025-03-23T09:20:14.344994Z",
     "shell.execute_reply": "2025-03-23T09:20:14.344813Z"
    }
   },
   "outputs": [
    {
     "name": "stdout",
     "output_type": "stream",
     "text": [
      "14461 14461\n",
      "14461 14461\n",
      "14461 14461\n",
      "8318\n"
     ]
    }
   ],
   "source": [
    "# 각 배열의 길이 확인\n",
    "print(len(compare_road_names), len(compare_highway_types))\n",
    "print(len(compare_start_lats), len(compare_start_lons))\n",
    "print(len(compare_end_lats), len(compare_end_lons))\n",
    "\n",
    "print(f'{len(road_len)}')\n"
   ]
  },
  {
   "cell_type": "code",
   "execution_count": 15,
   "id": "94667e2e-694e-47a2-9785-bfbef16b9456",
   "metadata": {
    "execution": {
     "iopub.execute_input": "2025-03-23T09:20:14.345869Z",
     "iopub.status.busy": "2025-03-23T09:20:14.345806Z",
     "iopub.status.idle": "2025-03-23T09:20:14.347362Z",
     "shell.execute_reply": "2025-03-23T09:20:14.347200Z"
    }
   },
   "outputs": [],
   "source": [
    "# 데이터프레임 생성\n",
    "compare_data = {\n",
    "    '도로명': compare_road_names,\n",
    "    '도로 종류': compare_highway_types,\n",
    "    '시작점_위도': compare_start_lats,\n",
    "    '시작점_경도': compare_start_lons,\n",
    "    '종료점_위도': compare_end_lats,\n",
    "    '종료점_경도': compare_end_lons, \n",
    "    '도로_길이' : compare_road_len,\n",
    "    '터널 여부': compare_tunnel_status,\n",
    "    '교량 여부': compare_bridge_status,\n",
    "    '서비스 도로 여부': compare_service_status,\n",
    "    '도로 ID': compare_road_ids,\n",
    "    '속도 제한': compare_max_speeds,\n",
    "    '차선 수': compare_lane_counts,\n",
    "    '일방통행 여부': compare_one_way,\n",
    "    '교차로 여부': compare_junction_status\n",
    "}\n"
   ]
  },
  {
   "cell_type": "code",
   "execution_count": 16,
   "id": "83a3aa61-f077-4678-9435-377025741a8a",
   "metadata": {
    "execution": {
     "iopub.execute_input": "2025-03-23T09:20:14.348251Z",
     "iopub.status.busy": "2025-03-23T09:20:14.348180Z",
     "iopub.status.idle": "2025-03-23T09:20:14.357392Z",
     "shell.execute_reply": "2025-03-23T09:20:14.357206Z"
    }
   },
   "outputs": [],
   "source": [
    "import pandas as pd\n",
    "\n",
    "compare_df = pd.DataFrame(compare_data)\n"
   ]
  },
  {
   "cell_type": "code",
   "execution_count": 17,
   "id": "bc4ecb0b-190b-41b2-860c-2d9020422b0c",
   "metadata": {
    "execution": {
     "iopub.execute_input": "2025-03-23T09:20:14.358241Z",
     "iopub.status.busy": "2025-03-23T09:20:14.358175Z",
     "iopub.status.idle": "2025-03-23T09:20:14.395525Z",
     "shell.execute_reply": "2025-03-23T09:20:14.395346Z"
    }
   },
   "outputs": [
    {
     "name": "stdout",
     "output_type": "stream",
     "text": [
      "광진구의 도로 정보가 CSV 파일로 저장되었습니다.\n"
     ]
    }
   ],
   "source": [
    "try :\n",
    "    compare_df.to_csv('./make_file/(비교군)광진구_도로_전체.csv', index=False)\n",
    "    print(\"광진구의 도로 정보가 CSV 파일로 저장되었습니다.\")\n",
    "except OSError as e:\n",
    "    print(e) "
   ]
  },
  {
   "cell_type": "code",
   "execution_count": null,
   "id": "c98d9f7e-863b-4afd-8f4c-1c116737f5ce",
   "metadata": {},
   "outputs": [],
   "source": []
  },
  {
   "cell_type": "code",
   "execution_count": null,
   "id": "e9a861e4-8c1e-4124-917b-73856f784721",
   "metadata": {},
   "outputs": [],
   "source": []
  },
  {
   "cell_type": "code",
   "execution_count": null,
   "id": "8e24249b-cd67-4341-a25b-91851dcb54e1",
   "metadata": {},
   "outputs": [],
   "source": []
  },
  {
   "cell_type": "code",
   "execution_count": null,
   "id": "5eaac85c-4e5d-4fd0-8b19-abb74896c289",
   "metadata": {},
   "outputs": [],
   "source": []
  },
  {
   "cell_type": "code",
   "execution_count": null,
   "id": "c5b42fe1-dd00-4788-a01b-50e689e798d4",
   "metadata": {},
   "outputs": [],
   "source": []
  }
 ],
 "metadata": {
  "kernelspec": {
   "display_name": "Python 3 (ipykernel)",
   "language": "python",
   "name": "python3"
  },
  "language_info": {
   "codemirror_mode": {
    "name": "ipython",
    "version": 3
   },
   "file_extension": ".py",
   "mimetype": "text/x-python",
   "name": "python",
   "nbconvert_exporter": "python",
   "pygments_lexer": "ipython3",
   "version": "3.13.2"
  }
 },
 "nbformat": 4,
 "nbformat_minor": 5
}
