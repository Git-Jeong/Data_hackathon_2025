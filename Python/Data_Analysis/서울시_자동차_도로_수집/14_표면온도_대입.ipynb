{
 "cells": [
  {
   "cell_type": "code",
   "execution_count": 51,
   "id": "29fd275d-0b9c-4633-97ba-b47c17cccebb",
   "metadata": {},
   "outputs": [],
   "source": [
    "# !pip install earthengine-api"
   ]
  },
  {
   "cell_type": "code",
   "execution_count": 52,
   "id": "794397a3-32b0-4eca-a551-c0f3927c85ed",
   "metadata": {},
   "outputs": [
    {
     "data": {
      "text/plain": [
       "True"
      ]
     },
     "execution_count": 52,
     "metadata": {},
     "output_type": "execute_result"
    }
   ],
   "source": [
    "import ee\n",
    "\n",
    "# Google Earth Engine API 인증 (최초 1회 실행)\n",
    "ee.Authenticate()"
   ]
  },
  {
   "cell_type": "code",
   "execution_count": 53,
   "id": "4dde003b-d784-4863-952b-239394159e99",
   "metadata": {},
   "outputs": [],
   "source": [
    "import pandas as pd\n",
    "import numpy as np\n",
    "from tqdm import tqdm"
   ]
  },
  {
   "cell_type": "code",
   "execution_count": 54,
   "id": "8650b4de-9743-4061-af2e-ab86b9522785",
   "metadata": {},
   "outputs": [],
   "source": [
    "# data = pd.read_csv(\"./make_file/(보정)_서울열선_광진도로.csv\")\n",
    "data = pd.read_csv(\"./make_file/(최종)_서울열선_광진도로.csv\")"
   ]
  },
  {
   "cell_type": "code",
   "execution_count": 55,
   "id": "893caca8-1dca-4ffd-a344-3425354d206c",
   "metadata": {},
   "outputs": [],
   "source": [
    "# Google Earth Engine 초기화\n",
    "ee.Initialize()"
   ]
  },
  {
   "cell_type": "code",
   "execution_count": 56,
   "id": "c4e38915-9849-4247-b269-4d3876104fd8",
   "metadata": {},
   "outputs": [],
   "source": [
    "SET_START_YEAR = 2019 # 2019인 경우, 2019년 12월 1일부터임.\n",
    "SET_END_YEAR = 2025 # 2025인 경우, 2025년 2월 28일 까지임."
   ]
  },
  {
   "cell_type": "code",
   "execution_count": 57,
   "id": "d144d16a-1af9-414c-a954-ce05d1a64093",
   "metadata": {},
   "outputs": [],
   "source": [
    "def get_temperature(lon, lat, year) :\n",
    "    point = ee.Geometry.Point([lon, lat])\n",
    "    \n",
    "    # 특정 겨울 기간 (2023년 12월 ~ 2024년 2월)\n",
    "    start_date = f'{year}-12-01'\n",
    "    end_date = f'{year+1}-02-28'\n",
    "    \n",
    "    # Landsat 8 데이터 가져오기\n",
    "    landsat = ee.ImageCollection('LANDSAT/LC08/C02/T1_L2') \\\n",
    "        .filterBounds(point) \\\n",
    "        .filterDate(start_date, end_date) \\\n",
    "        .select('ST_B10')  # 지표면 온도 밴드\n",
    "    \n",
    "    # 🛠️ 올바른 변환 적용\n",
    "    def convert_lst(image):\n",
    "        lst_radiance = image.select('ST_B10').multiply(0.00341802).add(149.0)  # 방사밝기 변환\n",
    "        lst_kelvin = lst_radiance  # 이미 켈빈 단위\n",
    "        lst_celsius = lst_kelvin.subtract(273.15)  # 켈빈 → 섭씨 변환\n",
    "        return lst_celsius.rename('surface_temperature')\n",
    "    \n",
    "    # 변환 적용\n",
    "    lst_collection = landsat.map(convert_lst)\n",
    "    \n",
    "    # 🔍 평균 온도 계산\n",
    "    mean_temp = lst_collection.mean()\n",
    "    \n",
    "    # 🔹 좌표에서 값을 추출\n",
    "    temp_value = mean_temp.reduceRegion(\n",
    "        reducer=ee.Reducer.mean(),\n",
    "        geometry=point,\n",
    "        scale=30,\n",
    "        bestEffort=True\n",
    "    )\n",
    "    \n",
    "    avg_temp = temp_value.get('surface_temperature').getInfo()\n",
    "    return avg_temp\n",
    "\n"
   ]
  },
  {
   "cell_type": "code",
   "execution_count": null,
   "id": "0a96e48c-bc24-4eca-a701-823f6083574a",
   "metadata": {},
   "outputs": [],
   "source": []
  },
  {
   "cell_type": "code",
   "execution_count": 58,
   "id": "e73bc56f-379c-40e0-9025-b0873f03e760",
   "metadata": {},
   "outputs": [
    {
     "data": {
      "text/plain": [
       "Index(['도로명', '열선', '도로 종류', '시작점_위도', '시작점_경도', '종료점_위도', '종료점_경도', '중앙점_위도',\n",
       "       '중앙점_경도', '도로_길이', '행정동', '도로폭', '도로규모', '행정구역', '고도의_차이', '경사각',\n",
       "       '최근접_시설들_거리', '최근접_시설의_평균거리', '2019_평균_온도', '2020_평균_온도', '2021_평균_온도',\n",
       "       '2022_평균_온도', '2023_평균_온도', '2024_평균_온도', '종합_평균_기온'],\n",
       "      dtype='object')"
      ]
     },
     "execution_count": 58,
     "metadata": {},
     "output_type": "execute_result"
    }
   ],
   "source": [
    "data.columns"
   ]
  },
  {
   "cell_type": "code",
   "execution_count": 59,
   "id": "c073e49d-2d02-489b-b727-138e49f2db06",
   "metadata": {},
   "outputs": [
    {
     "name": "stdout",
     "output_type": "stream",
     "text": [
      "2019_평균_온도 <- 이미 있습니다. \n",
      "2020_평균_온도 <- 이미 있습니다. \n",
      "2021_평균_온도 <- 이미 있습니다. \n",
      "2022_평균_온도 <- 이미 있습니다. \n",
      "2023_평균_온도 <- 이미 있습니다. \n",
      "2024_평균_온도 <- 이미 있습니다. \n"
     ]
    }
   ],
   "source": [
    "for year in range(SET_START_YEAR, SET_END_YEAR, 1):\n",
    "    column_name = f\"{year}_평균_온도\"\n",
    "    \n",
    "    if column_name in data.columns:\n",
    "        print(f\"{column_name} <- 이미 있습니다. \")\n",
    "        continue  \n",
    "    \n",
    "    result = []\n",
    "    for i in tqdm(range(len(data))): \n",
    "        lat = data.iloc[i][\"중앙점_위도\"]\n",
    "        lon = data.iloc[i][\"중앙점_경도\"]\n",
    "        temp = get_temperature(lon, lat, year)\n",
    "        result.append(temp)\n",
    "\n",
    "    data[column_name] = result\n",
    "    print(len(result))\n"
   ]
  },
  {
   "cell_type": "code",
   "execution_count": 62,
   "id": "72c558fe-8609-4b87-8024-839eb2454d93",
   "metadata": {},
   "outputs": [
    {
     "data": {
      "text/html": [
       "<div>\n",
       "<style scoped>\n",
       "    .dataframe tbody tr th:only-of-type {\n",
       "        vertical-align: middle;\n",
       "    }\n",
       "\n",
       "    .dataframe tbody tr th {\n",
       "        vertical-align: top;\n",
       "    }\n",
       "\n",
       "    .dataframe thead th {\n",
       "        text-align: right;\n",
       "    }\n",
       "</style>\n",
       "<table border=\"1\" class=\"dataframe\">\n",
       "  <thead>\n",
       "    <tr style=\"text-align: right;\">\n",
       "      <th></th>\n",
       "      <th>도로명</th>\n",
       "      <th>열선</th>\n",
       "      <th>도로 종류</th>\n",
       "      <th>시작점_위도</th>\n",
       "      <th>시작점_경도</th>\n",
       "      <th>종료점_위도</th>\n",
       "      <th>종료점_경도</th>\n",
       "      <th>중앙점_위도</th>\n",
       "      <th>중앙점_경도</th>\n",
       "      <th>도로_길이</th>\n",
       "      <th>...</th>\n",
       "      <th>경사각</th>\n",
       "      <th>최근접_시설들_거리</th>\n",
       "      <th>최근접_시설의_평균거리</th>\n",
       "      <th>2019_평균_온도</th>\n",
       "      <th>2020_평균_온도</th>\n",
       "      <th>2021_평균_온도</th>\n",
       "      <th>2022_평균_온도</th>\n",
       "      <th>2023_평균_온도</th>\n",
       "      <th>2024_평균_온도</th>\n",
       "      <th>종합_평균_기온</th>\n",
       "    </tr>\n",
       "  </thead>\n",
       "  <tbody>\n",
       "    <tr>\n",
       "      <th>0</th>\n",
       "      <td>일원로</td>\n",
       "      <td>1</td>\n",
       "      <td>3차로</td>\n",
       "      <td>37.491015</td>\n",
       "      <td>127.080765</td>\n",
       "      <td>37.490648</td>\n",
       "      <td>127.080938</td>\n",
       "      <td>37.490832</td>\n",
       "      <td>127.080852</td>\n",
       "      <td>43.557286</td>\n",
       "      <td>...</td>\n",
       "      <td>0.298094</td>\n",
       "      <td>165.17299640951381 ,141.88730282955694 ,165.97...</td>\n",
       "      <td>194.979965</td>\n",
       "      <td>3.083744</td>\n",
       "      <td>0.881741</td>\n",
       "      <td>-2.871131</td>\n",
       "      <td>-1.719942</td>\n",
       "      <td>-4.994405</td>\n",
       "      <td>-0.762408</td>\n",
       "      <td>-1.063733</td>\n",
       "    </tr>\n",
       "    <tr>\n",
       "      <th>1</th>\n",
       "      <td>자곡로5길</td>\n",
       "      <td>1</td>\n",
       "      <td>주거지 도로</td>\n",
       "      <td>37.472343</td>\n",
       "      <td>127.096176</td>\n",
       "      <td>37.472057</td>\n",
       "      <td>127.094614</td>\n",
       "      <td>37.472200</td>\n",
       "      <td>127.095395</td>\n",
       "      <td>218.130971</td>\n",
       "      <td>...</td>\n",
       "      <td>3.326804</td>\n",
       "      <td>62.36827510450082 ,84.24249385836922 ,84.24249...</td>\n",
       "      <td>90.747029</td>\n",
       "      <td>2.331096</td>\n",
       "      <td>0.151180</td>\n",
       "      <td>-5.008077</td>\n",
       "      <td>-2.071998</td>\n",
       "      <td>-4.362071</td>\n",
       "      <td>-1.637150</td>\n",
       "      <td>-1.766170</td>\n",
       "    </tr>\n",
       "  </tbody>\n",
       "</table>\n",
       "<p>2 rows × 25 columns</p>\n",
       "</div>"
      ],
      "text/plain": [
       "     도로명  열선   도로 종류     시작점_위도      시작점_경도     종료점_위도      종료점_경도     중앙점_위도  \\\n",
       "0    일원로   1     3차로  37.491015  127.080765  37.490648  127.080938  37.490832   \n",
       "1  자곡로5길   1  주거지 도로  37.472343  127.096176  37.472057  127.094614  37.472200   \n",
       "\n",
       "       중앙점_경도       도로_길이  ...       경사각  \\\n",
       "0  127.080852   43.557286  ...  0.298094   \n",
       "1  127.095395  218.130971  ...  3.326804   \n",
       "\n",
       "                                          최근접_시설들_거리 최근접_시설의_평균거리 2019_평균_온도  \\\n",
       "0  165.17299640951381 ,141.88730282955694 ,165.97...   194.979965   3.083744   \n",
       "1  62.36827510450082 ,84.24249385836922 ,84.24249...    90.747029   2.331096   \n",
       "\n",
       "   2020_평균_온도  2021_평균_온도 2022_평균_온도  2023_평균_온도  2024_평균_온도  종합_평균_기온  \n",
       "0    0.881741   -2.871131  -1.719942   -4.994405   -0.762408 -1.063733  \n",
       "1    0.151180   -5.008077  -2.071998   -4.362071   -1.637150 -1.766170  \n",
       "\n",
       "[2 rows x 25 columns]"
      ]
     },
     "execution_count": 62,
     "metadata": {},
     "output_type": "execute_result"
    }
   ],
   "source": [
    "data.head(2)"
   ]
  },
  {
   "cell_type": "code",
   "execution_count": 61,
   "id": "8628dca4-1a53-4f9f-b992-1d1dbdbcaf97",
   "metadata": {},
   "outputs": [
    {
     "name": "stderr",
     "output_type": "stream",
     "text": [
      "100%|████████████████████████████████████| 7212/7212 [00:00<00:00, 13147.68it/s]\n"
     ]
    }
   ],
   "source": [
    "avg_values_list = []\n",
    "\n",
    "for i in tqdm(range(len(data))): \n",
    "    get_temp_colums = []\n",
    "    \n",
    "    temp_columns = data.columns\n",
    "    for n in range(len(temp_columns)) :\n",
    "        temp = temp_columns[n].replace(\"_\", \" \")\n",
    "        if \" 평균 온도\" in temp :\n",
    "            get_temp_colums.append(temp_columns[n])\n",
    "\n",
    "    # print(get_temp_colums)\n",
    "    temp_sum = 0\n",
    "    for n in range(len(get_temp_colums)) :\n",
    "        temp_sum += data.iloc[i][get_temp_colums[n]] \n",
    "\n",
    "    \n",
    "    temp_avg = round(temp_sum / len(get_temp_colums), 6)\n",
    "    avg_values_list.append(temp_avg)\n",
    "        \n",
    "data['종합_평균_기온'] = avg_values_list"
   ]
  },
  {
   "cell_type": "code",
   "execution_count": 48,
   "id": "04107b70-2d20-4b34-a445-9cded593e29c",
   "metadata": {},
   "outputs": [
    {
     "data": {
      "text/plain": [
       "도로명              0\n",
       "열선               0\n",
       "도로 종류            0\n",
       "시작점_위도           0\n",
       "시작점_경도           0\n",
       "종료점_위도           0\n",
       "종료점_경도           0\n",
       "중앙점_위도           0\n",
       "중앙점_경도           0\n",
       "도로_길이            0\n",
       "행정동              0\n",
       "도로폭             74\n",
       "도로규모            74\n",
       "행정구역             0\n",
       "고도의_차이           0\n",
       "경사각              0\n",
       "최근접_시설들_거리       0\n",
       "최근접_시설의_평균거리     0\n",
       "2019_평균_온도       0\n",
       "2020_평균_온도       0\n",
       "2021_평균_온도       0\n",
       "2022_평균_온도       0\n",
       "2023_평균_온도       0\n",
       "2024_평균_온도       0\n",
       "종합_평균_기온         0\n",
       "dtype: int64"
      ]
     },
     "execution_count": 48,
     "metadata": {},
     "output_type": "execute_result"
    }
   ],
   "source": [
    "data.isnull().sum()"
   ]
  },
  {
   "cell_type": "code",
   "execution_count": 65,
   "id": "dd8dffb5-9088-4787-9583-90be3cf2e0d4",
   "metadata": {},
   "outputs": [
    {
     "data": {
      "text/plain": [
       "0   -1.063733\n",
       "1   -1.766170\n",
       "2   -0.948210\n",
       "3   -0.569161\n",
       "4   -2.914910\n",
       "Name: 종합_평균_기온, dtype: float64"
      ]
     },
     "execution_count": 65,
     "metadata": {},
     "output_type": "execute_result"
    }
   ],
   "source": [
    "data['종합_평균_기온'].head()"
   ]
  },
  {
   "cell_type": "code",
   "execution_count": 63,
   "id": "e958b11a-5261-4ff6-9eba-45a755bc9205",
   "metadata": {},
   "outputs": [
    {
     "name": "stdout",
     "output_type": "stream",
     "text": [
      "./make_file/(최종)_서울열선_광진도로.csv 저장 완료.\n"
     ]
    }
   ],
   "source": [
    "try :\n",
    "    save_url = \"./make_file/(표면)_서울열선_광진도로.csv\"\n",
    "    data.to_csv(save_url, encoding=\"UTF-8\", index=False)\n",
    "    print(f\"{save_url} 저장 완료.\")\n",
    "except OSError as e :\n",
    "    print(e)"
   ]
  },
  {
   "cell_type": "code",
   "execution_count": null,
   "id": "fc453f72-9065-4166-88e9-b83ddb523bd8",
   "metadata": {},
   "outputs": [],
   "source": []
  }
 ],
 "metadata": {
  "kernelspec": {
   "display_name": "Python 3 (ipykernel)",
   "language": "python",
   "name": "python3"
  },
  "language_info": {
   "codemirror_mode": {
    "name": "ipython",
    "version": 3
   },
   "file_extension": ".py",
   "mimetype": "text/x-python",
   "name": "python",
   "nbconvert_exporter": "python",
   "pygments_lexer": "ipython3",
   "version": "3.13.2"
  }
 },
 "nbformat": 4,
 "nbformat_minor": 5
}
