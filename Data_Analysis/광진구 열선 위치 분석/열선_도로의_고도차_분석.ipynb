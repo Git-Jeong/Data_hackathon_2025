{
 "cells": [
  {
   "cell_type": "code",
   "execution_count": 2,
   "id": "a35436a4-78c2-449d-aaef-f2b5df3e9560",
   "metadata": {},
   "outputs": [],
   "source": [
    "import pandas as pd"
   ]
  },
  {
   "cell_type": "code",
   "execution_count": 8,
   "id": "feb82a3b-b981-4272-8bbb-f8234bd632c3",
   "metadata": {},
   "outputs": [],
   "source": [
    "url = './make_file/열선_위경도값(중앙값_포함).csv'"
   ]
  },
  {
   "cell_type": "code",
   "execution_count": 11,
   "id": "2844bf1a-7d8f-4aa6-af24-d15f020f8d2e",
   "metadata": {},
   "outputs": [
    {
     "data": {
      "text/html": [
       "<div>\n",
       "<style scoped>\n",
       "    .dataframe tbody tr th:only-of-type {\n",
       "        vertical-align: middle;\n",
       "    }\n",
       "\n",
       "    .dataframe tbody tr th {\n",
       "        vertical-align: top;\n",
       "    }\n",
       "\n",
       "    .dataframe thead th {\n",
       "        text-align: right;\n",
       "    }\n",
       "</style>\n",
       "<table border=\"1\" class=\"dataframe\">\n",
       "  <thead>\n",
       "    <tr style=\"text-align: right;\">\n",
       "      <th></th>\n",
       "      <th>Unnamed: 0</th>\n",
       "      <th>행정동</th>\n",
       "      <th>노선명</th>\n",
       "      <th>기점</th>\n",
       "      <th>종점</th>\n",
       "      <th>열선연장(m) (1차로 기준)</th>\n",
       "      <th>차로수</th>\n",
       "      <th>기점_좌표_위도</th>\n",
       "      <th>기점_좌표_경도</th>\n",
       "      <th>종점_좌표_위도</th>\n",
       "      <th>종점_좌표_경도</th>\n",
       "      <th>열선_중앙_위도</th>\n",
       "      <th>열선_중앙_경도</th>\n",
       "    </tr>\n",
       "  </thead>\n",
       "  <tbody>\n",
       "    <tr>\n",
       "      <th>0</th>\n",
       "      <td>0</td>\n",
       "      <td>구의2동</td>\n",
       "      <td>동의초 통학로</td>\n",
       "      <td>구의2동 34-8</td>\n",
       "      <td>구의2동 81-3</td>\n",
       "      <td>278</td>\n",
       "      <td>2</td>\n",
       "      <td>37.552512</td>\n",
       "      <td>127.095553</td>\n",
       "      <td>37.553039</td>\n",
       "      <td>127.097008</td>\n",
       "      <td>37.552775</td>\n",
       "      <td>127.096280</td>\n",
       "    </tr>\n",
       "    <tr>\n",
       "      <th>1</th>\n",
       "      <td>1</td>\n",
       "      <td>구의2동</td>\n",
       "      <td>동의초 통학로</td>\n",
       "      <td>구의2동 23-26</td>\n",
       "      <td>구의2동 23-30</td>\n",
       "      <td>76</td>\n",
       "      <td>2</td>\n",
       "      <td>37.552750</td>\n",
       "      <td>127.095643</td>\n",
       "      <td>37.553626</td>\n",
       "      <td>127.097029</td>\n",
       "      <td>37.553188</td>\n",
       "      <td>127.096336</td>\n",
       "    </tr>\n",
       "  </tbody>\n",
       "</table>\n",
       "</div>"
      ],
      "text/plain": [
       "   Unnamed: 0   행정동      노선명          기점          종점  열선연장(m) (1차로 기준) 차로수  \\\n",
       "0           0  구의2동  동의초 통학로   구의2동 34-8   구의2동 81-3               278   2   \n",
       "1           1  구의2동  동의초 통학로  구의2동 23-26  구의2동 23-30                76   2   \n",
       "\n",
       "    기점_좌표_위도    기점_좌표_경도   종점_좌표_위도    종점_좌표_경도   열선_중앙_위도    열선_중앙_경도  \n",
       "0  37.552512  127.095553  37.553039  127.097008  37.552775  127.096280  \n",
       "1  37.552750  127.095643  37.553626  127.097029  37.553188  127.096336  "
      ]
     },
     "execution_count": 11,
     "metadata": {},
     "output_type": "execute_result"
    }
   ],
   "source": [
    "data = pd.read_csv(url, encoding='euc-kr')\n",
    "data.head(2)"
   ]
  },
  {
   "cell_type": "code",
   "execution_count": 12,
   "id": "70724c07-006a-4dbc-88ee-0cfbb0b8d849",
   "metadata": {},
   "outputs": [],
   "source": [
    "start_latitude = data['기점_좌표_위도'].to_list()\n",
    "start_longitude = data['기점_좌표_경도'].to_list()\n",
    "\n",
    "end_latitude = data['종점_좌표_위도'].to_list()\n",
    "end_longitude = data['종점_좌표_경도'].to_list()\n",
    "\n",
    "start_altitude = []\n",
    "end_altitude = []"
   ]
  },
  {
   "cell_type": "code",
   "execution_count": 13,
   "id": "396d7018-911d-499a-a8e1-f5427fdc4703",
   "metadata": {},
   "outputs": [
    {
     "name": "stdout",
     "output_type": "stream",
     "text": [
      "41\n",
      "41\n",
      "41\n",
      "41\n"
     ]
    }
   ],
   "source": [
    "print(len(start_latitude))\n",
    "print(len(start_longitude))\n",
    "print(len(end_latitude))\n",
    "print(len(end_longitude))"
   ]
  },
  {
   "cell_type": "markdown",
   "id": "3df7e577-19c9-4782-9238-0383c36626a9",
   "metadata": {},
   "source": [
    "### 구글 API"
   ]
  },
  {
   "cell_type": "code",
   "execution_count": 14,
   "id": "23ac3e0b-aa13-4ca5-af55-069a631ac201",
   "metadata": {},
   "outputs": [
    {
     "data": {
      "text/plain": [
       "사이트\n",
       "공공데이터                 1\n",
       "kakao_api_key_REST    1\n",
       "카카오 JS                1\n",
       "국토부v-world            1\n",
       "GOOGLE_MAP            1\n",
       "Name: count, dtype: int64"
      ]
     },
     "execution_count": 14,
     "metadata": {},
     "output_type": "execute_result"
    }
   ],
   "source": [
    "api_key_url = '../API_KEY/API_KEYS.xlsx'\n",
    "open_api_key_file = pd.read_excel(api_key_url)\n",
    " \n",
    "open_api_key_file['사이트'].value_counts()\n"
   ]
  },
  {
   "cell_type": "code",
   "execution_count": 15,
   "id": "8be32371-be44-4207-ade9-d79b1bce2eb1",
   "metadata": {},
   "outputs": [],
   "source": [
    "GOOGLE_API_KEY = open_api_key_file[open_api_key_file['사이트'] == 'GOOGLE_MAP'].values[0][1]  "
   ]
  },
  {
   "cell_type": "code",
   "execution_count": 16,
   "id": "6b13e28b-e8c6-4cbe-b6cf-3259cbbcbdef",
   "metadata": {},
   "outputs": [],
   "source": [
    "import requests\n",
    "import time\n",
    "import pandas as pd \n",
    "\n",
    "# Google Elevation API 호출 함수\n",
    "def google_api(latitudes, longitudes, mode):\n",
    "    global start_altitude, end_altitude\n",
    "    \n",
    "    url = f\"https://maps.googleapis.com/maps/api/elevation/json?key={GOOGLE_API_KEY}\"\n",
    "\n",
    "    locations = list(zip(latitudes, longitudes))  # (위도, 경도) 쌍 리스트\n",
    "    \n",
    "    for i in range(0, len(locations), 512):  # 최대 512개씩 요청\n",
    "        batch_locations = locations[i:i+512]\n",
    "        locations_param = '|'.join([f\"{lat},{lon}\" for lat, lon in batch_locations])\n",
    "        full_url = f\"{url}&locations={locations_param}\"\n",
    "        \n",
    "        response = requests.get(full_url)\n",
    "            \n",
    "        if response.status_code == 200:\n",
    "            data = response.json()\n",
    "            if data['status'] == 'OK':\n",
    "                elevations = [result['elevation'] for result in data['results']]   \n",
    "            \n",
    "                if mode == 'start':\n",
    "                    start_altitude.extend(elevations)\n",
    "                elif mode == 'end':\n",
    "                    end_altitude.extend(elevations)\n",
    "            else:\n",
    "                print(\"Error in response:\", data['status'])\n",
    "        else:\n",
    "            print(\"API 호출 실패:\", response.status_code)\n",
    "\n",
    "        time.sleep(0.1)  # API 호출 간 지연 시간"
   ]
  },
  {
   "cell_type": "code",
   "execution_count": 17,
   "id": "0eb34d48-8487-41f8-b8c6-69a85d4ae7e9",
   "metadata": {},
   "outputs": [
    {
     "name": "stdout",
     "output_type": "stream",
     "text": [
      "전) 기점 고도 길이 : 0\n",
      "전) 종점 고도 길이 : 0\n"
     ]
    }
   ],
   "source": [
    "print(f'전) 기점 고도 길이 : {len(start_altitude)}') \n",
    "\n",
    "print(f'전) 종점 고도 길이 : {len(end_altitude)}') "
   ]
  },
  {
   "cell_type": "code",
   "execution_count": 18,
   "id": "baf99acb-c65d-43fb-950b-5276d4564a5e",
   "metadata": {},
   "outputs": [
    {
     "name": "stdout",
     "output_type": "stream",
     "text": [
      "기점의 고도값 불러오기\n",
      "시작\n",
      "종료\n"
     ]
    }
   ],
   "source": [
    "# API 호출 (start)\n",
    "print(f'기점의 고도값 불러오기')\n",
    "print(f'시작')\n",
    "google_api(start_latitude, start_longitude, 'start') \n",
    "print(f'종료')"
   ]
  },
  {
   "cell_type": "code",
   "execution_count": 19,
   "id": "a006faf0-0b12-4a80-91f0-e2e6f0ea8040",
   "metadata": {},
   "outputs": [
    {
     "name": "stdout",
     "output_type": "stream",
     "text": [
      "종점의 고도값 불러오기\n",
      "시작\n",
      "종료\n"
     ]
    }
   ],
   "source": [
    "# API 호출 (end)\n",
    "print(f'종점의 고도값 불러오기')\n",
    "print(f'시작')\n",
    "google_api(end_latitude, end_longitude, 'end')\n",
    "print(f'종료')"
   ]
  },
  {
   "cell_type": "code",
   "execution_count": 20,
   "id": "c4d15122-6383-46f9-8b9f-f73ee0d91ab1",
   "metadata": {},
   "outputs": [
    {
     "name": "stdout",
     "output_type": "stream",
     "text": [
      "후) 기점 고도 길이 : 41\n",
      "후) 종점 고도 길이 : 41\n",
      "결과의 길이가 같습니다.\n",
      "성공적으로 처리되었습니다.\n"
     ]
    }
   ],
   "source": [
    "print(f'후) 기점 고도 길이 : {len(start_altitude)}') \n",
    "print(f'후) 종점 고도 길이 : {len(end_altitude)}') \n",
    "\n",
    "if (len(start_altitude) == len(end_altitude)) and (len(start_altitude) > 0) :\n",
    "    print(f'결과의 길이가 같습니다.')\n",
    "    print(f'성공적으로 처리되었습니다.')\n",
    "else :\n",
    "    print(f'데이터 처리에 실패했습니다...')"
   ]
  },
  {
   "cell_type": "code",
   "execution_count": 21,
   "id": "122b436f-032d-4c7b-bfba-7c9901ee8c74",
   "metadata": {},
   "outputs": [
    {
     "name": "stdout",
     "output_type": "stream",
     "text": [
      "41\n"
     ]
    }
   ],
   "source": [
    "altitude_difference = []\n",
    "\n",
    "for i in range(len(start_altitude)) :\n",
    "    result = abs(start_altitude[i] - end_altitude[i]) \n",
    "    altitude_difference.append(result)\n",
    "\n",
    "print(len(altitude_difference))"
   ]
  },
  {
   "cell_type": "code",
   "execution_count": 22,
   "id": "7c7c5bf6-189f-4c62-8a6f-27b9455fe4d5",
   "metadata": {},
   "outputs": [
    {
     "name": "stdout",
     "output_type": "stream",
     "text": [
      "./make_file/열선_위경도값(중앙값_고도_포함).csv 파일이 저장되었습니다.\n"
     ]
    }
   ],
   "source": [
    "# 결과 데이터 추가 및 저장\n",
    "data['시작점_고도'] = start_altitude\n",
    "data['종료점_고도'] = end_altitude\n",
    "data['고도의_차이'] = altitude_difference\n",
    "\n",
    "output_file = './make_file/열선_위경도값(중앙값_고도_포함).csv'\n",
    "\n",
    "try :\n",
    "    data.to_csv(output_file, index=False)\n",
    "    print(f'{output_file} 파일이 저장되었습니다.')\n",
    "except :\n",
    "    print(f'{output_file} 파일 저장에 실패했습니다.')"
   ]
  },
  {
   "cell_type": "code",
   "execution_count": null,
   "id": "5db03d9a-5f40-4446-be13-c355074d1643",
   "metadata": {},
   "outputs": [],
   "source": []
  }
 ],
 "metadata": {
  "kernelspec": {
   "display_name": "Python 3 (ipykernel)",
   "language": "python",
   "name": "python3"
  },
  "language_info": {
   "codemirror_mode": {
    "name": "ipython",
    "version": 3
   },
   "file_extension": ".py",
   "mimetype": "text/x-python",
   "name": "python",
   "nbconvert_exporter": "python",
   "pygments_lexer": "ipython3",
   "version": "3.13.2"
  }
 },
 "nbformat": 4,
 "nbformat_minor": 5
}
