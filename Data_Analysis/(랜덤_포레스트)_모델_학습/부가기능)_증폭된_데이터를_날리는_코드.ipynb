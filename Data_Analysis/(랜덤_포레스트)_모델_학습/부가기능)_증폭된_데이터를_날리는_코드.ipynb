{
 "cells": [
  {
   "cell_type": "code",
   "execution_count": 1,
   "id": "22e0a9d1-aedf-4133-a035-d0b8483fe3d6",
   "metadata": {},
   "outputs": [],
   "source": [
    "import pandas as pd"
   ]
  },
  {
   "cell_type": "code",
   "execution_count": 2,
   "id": "bd28d710-9041-48ed-a9f6-d4b5e1bf37f8",
   "metadata": {},
   "outputs": [],
   "source": [
    "url = \"./make_file/증폭_통합_데이터.csv\"\n",
    "file_encoding = \"UTF-8\""
   ]
  },
  {
   "cell_type": "code",
   "execution_count": 3,
   "id": "2c1c0f86-038f-410a-9ef1-7d3ff3e9f819",
   "metadata": {},
   "outputs": [],
   "source": [
    "data = pd.read_csv(url, encoding = file_encoding)"
   ]
  },
  {
   "cell_type": "code",
   "execution_count": 4,
   "id": "6765be09-833b-456a-a840-77f5936c0e03",
   "metadata": {},
   "outputs": [
    {
     "data": {
      "text/html": [
       "<div>\n",
       "<style scoped>\n",
       "    .dataframe tbody tr th:only-of-type {\n",
       "        vertical-align: middle;\n",
       "    }\n",
       "\n",
       "    .dataframe tbody tr th {\n",
       "        vertical-align: top;\n",
       "    }\n",
       "\n",
       "    .dataframe thead th {\n",
       "        text-align: right;\n",
       "    }\n",
       "</style>\n",
       "<table border=\"1\" class=\"dataframe\">\n",
       "  <thead>\n",
       "    <tr style=\"text-align: right;\">\n",
       "      <th></th>\n",
       "      <th>중점_위도</th>\n",
       "      <th>중점_경도</th>\n",
       "      <th>경사각</th>\n",
       "      <th>최근접_시설의_평균거리</th>\n",
       "      <th>열선여부</th>\n",
       "      <th>원본여부</th>\n",
       "    </tr>\n",
       "  </thead>\n",
       "  <tbody>\n",
       "    <tr>\n",
       "      <th>0</th>\n",
       "      <td>37.590543</td>\n",
       "      <td>126.993313</td>\n",
       "      <td>11.724227</td>\n",
       "      <td>198.965659</td>\n",
       "      <td>1.0</td>\n",
       "      <td>1</td>\n",
       "    </tr>\n",
       "    <tr>\n",
       "      <th>1</th>\n",
       "      <td>37.613411</td>\n",
       "      <td>126.977763</td>\n",
       "      <td>5.044559</td>\n",
       "      <td>437.546937</td>\n",
       "      <td>1.0</td>\n",
       "      <td>1</td>\n",
       "    </tr>\n",
       "    <tr>\n",
       "      <th>2</th>\n",
       "      <td>37.611366</td>\n",
       "      <td>126.975317</td>\n",
       "      <td>7.859327</td>\n",
       "      <td>254.701279</td>\n",
       "      <td>1.0</td>\n",
       "      <td>1</td>\n",
       "    </tr>\n",
       "    <tr>\n",
       "      <th>3</th>\n",
       "      <td>37.605400</td>\n",
       "      <td>126.957447</td>\n",
       "      <td>10.043141</td>\n",
       "      <td>165.036979</td>\n",
       "      <td>1.0</td>\n",
       "      <td>1</td>\n",
       "    </tr>\n",
       "    <tr>\n",
       "      <th>4</th>\n",
       "      <td>37.583314</td>\n",
       "      <td>126.987147</td>\n",
       "      <td>1.226563</td>\n",
       "      <td>159.658474</td>\n",
       "      <td>1.0</td>\n",
       "      <td>1</td>\n",
       "    </tr>\n",
       "  </tbody>\n",
       "</table>\n",
       "</div>"
      ],
      "text/plain": [
       "       중점_위도       중점_경도        경사각  최근접_시설의_평균거리  열선여부  원본여부\n",
       "0  37.590543  126.993313  11.724227    198.965659   1.0     1\n",
       "1  37.613411  126.977763   5.044559    437.546937   1.0     1\n",
       "2  37.611366  126.975317   7.859327    254.701279   1.0     1\n",
       "3  37.605400  126.957447  10.043141    165.036979   1.0     1\n",
       "4  37.583314  126.987147   1.226563    159.658474   1.0     1"
      ]
     },
     "execution_count": 4,
     "metadata": {},
     "output_type": "execute_result"
    }
   ],
   "source": [
    "data.head()"
   ]
  },
  {
   "cell_type": "code",
   "execution_count": 5,
   "id": "aa928fde-ce28-4761-809b-415dbd4705cc",
   "metadata": {},
   "outputs": [
    {
     "name": "stdout",
     "output_type": "stream",
     "text": [
      "불러온 데이터의 수 : 9142\n"
     ]
    }
   ],
   "source": [
    "print(f\"불러온 데이터의 수 : {len(data)}\")"
   ]
  },
  {
   "cell_type": "code",
   "execution_count": 6,
   "id": "ae7a8cc0-f480-4f09-b8ca-8041e0995241",
   "metadata": {},
   "outputs": [],
   "source": [
    "filter_data = data[data[\"원본여부\"] == 1]"
   ]
  },
  {
   "cell_type": "code",
   "execution_count": 7,
   "id": "2dfdc1e3-3970-42db-97ed-e66b98321e82",
   "metadata": {},
   "outputs": [
    {
     "name": "stdout",
     "output_type": "stream",
     "text": [
      "원본 데이터의 수 : 6717\n"
     ]
    }
   ],
   "source": [
    "print(f\"원본 데이터의 수 : {len(filter_data)}\")"
   ]
  },
  {
   "cell_type": "code",
   "execution_count": 8,
   "id": "634c22fe-c5bc-4919-aa74-09077a713335",
   "metadata": {},
   "outputs": [
    {
     "name": "stdout",
     "output_type": "stream",
     "text": [
      "./make_file/원본_통합_데이터.csv 파일 저장 완료.\n"
     ]
    }
   ],
   "source": [
    "try :\n",
    "    sava_url = \"./make_file/원본_통합_데이터.csv\"\n",
    "    filter_data.to_csv(sava_url, encoding=file_encoding, index=False)\n",
    "    print(f\"{sava_url} 파일 저장 완료.\")\n",
    "except OSError as e:\n",
    "    print(e)"
   ]
  },
  {
   "cell_type": "code",
   "execution_count": null,
   "id": "2385f4c3-135d-4c1d-bb94-590b52d3c342",
   "metadata": {},
   "outputs": [],
   "source": []
  }
 ],
 "metadata": {
  "kernelspec": {
   "display_name": "Python 3 (ipykernel)",
   "language": "python",
   "name": "python3"
  },
  "language_info": {
   "codemirror_mode": {
    "name": "ipython",
    "version": 3
   },
   "file_extension": ".py",
   "mimetype": "text/x-python",
   "name": "python",
   "nbconvert_exporter": "python",
   "pygments_lexer": "ipython3",
   "version": "3.13.2"
  }
 },
 "nbformat": 4,
 "nbformat_minor": 5
}
