{
 "cells": [
  {
   "cell_type": "markdown",
   "id": "7b0a9724-d243-44e7-871e-a7b992d80e05",
   "metadata": {},
   "source": [
    "# 데이터 증폭을 배열로 설정할 것. "
   ]
  },
  {
   "cell_type": "code",
   "execution_count": 6,
   "id": "70254428-4172-4211-aa2e-a7c911f456ea",
   "metadata": {},
   "outputs": [],
   "source": [
    "# 데이터 증강 배수 설정 \n",
    "heat_road_multiple = 5"
   ]
  },
  {
   "cell_type": "code",
   "execution_count": 7,
   "id": "966bdac1-e610-45e6-859c-08e1f52b1685",
   "metadata": {},
   "outputs": [],
   "source": [
    "import pandas as pd \n",
    "import numpy as np\n",
    "from tqdm import tqdm"
   ]
  },
  {
   "cell_type": "code",
   "execution_count": 8,
   "id": "eb41fb99-5223-492e-8c1e-e84801c07ac8",
   "metadata": {},
   "outputs": [],
   "source": [
    "url = './data/(최종)_서울열선_광진도로.csv'\n",
    "encoding = \"UTF-8\""
   ]
  },
  {
   "cell_type": "code",
   "execution_count": 9,
   "id": "df5151eb-f318-48c4-86e5-c6167bcabea5",
   "metadata": {},
   "outputs": [],
   "source": [
    "df = pd.read_csv(url, encoding = encoding)"
   ]
  },
  {
   "cell_type": "code",
   "execution_count": 10,
   "id": "cb10c64f-eeea-4ce6-8400-4d1c969c1877",
   "metadata": {},
   "outputs": [
    {
     "data": {
      "text/plain": [
       "7212"
      ]
     },
     "execution_count": 10,
     "metadata": {},
     "output_type": "execute_result"
    }
   ],
   "source": [
    "len(df)"
   ]
  },
  {
   "cell_type": "code",
   "execution_count": 11,
   "id": "e9a29bc8-332f-4daf-9c10-141d64bf222d",
   "metadata": {},
   "outputs": [],
   "source": [
    "df['원본여부'] = 1"
   ]
  },
  {
   "cell_type": "code",
   "execution_count": 12,
   "id": "d464bae3-6068-47eb-905c-4ba38af6ec6a",
   "metadata": {},
   "outputs": [
    {
     "data": {
      "text/plain": [
       "Index(['도로명', '열선', '도로 종류', '시작점_위도', '시작점_경도', '종료점_위도', '종료점_경도', '중앙점_위도',\n",
       "       '중앙점_경도', '도로_길이', '행정동', '도로폭', '도로규모', '행정구역', '고도의_차이', '경사각',\n",
       "       '최근접_시설들_거리', '최근접_시설의_평균거리', '원본여부'],\n",
       "      dtype='object')"
      ]
     },
     "execution_count": 12,
     "metadata": {},
     "output_type": "execute_result"
    }
   ],
   "source": [
    "df.columns"
   ]
  },
  {
   "cell_type": "code",
   "execution_count": 13,
   "id": "6ec07da6-e4db-49e1-8e23-c18fae587805",
   "metadata": {},
   "outputs": [
    {
     "name": "stdout",
     "output_type": "stream",
     "text": [
      "\"['Unnamed: 0'] not found in axis\"\n"
     ]
    }
   ],
   "source": [
    "try :\n",
    "    delete_columns = 'Unnamed: 0'\n",
    "    df = df.drop(columns = delete_columns)\n",
    "    print(f\"{delete_columns} 삭제 완료\")\n",
    "except KeyError as e :\n",
    "    print(e)"
   ]
  },
  {
   "cell_type": "code",
   "execution_count": 14,
   "id": "abe7dd91-7bdc-48d9-871b-8177c9a61da8",
   "metadata": {},
   "outputs": [
    {
     "data": {
      "text/plain": [
       "7212"
      ]
     },
     "execution_count": 14,
     "metadata": {},
     "output_type": "execute_result"
    }
   ],
   "source": [
    "len(df)"
   ]
  },
  {
   "cell_type": "code",
   "execution_count": 15,
   "id": "8d05787e-0215-4874-ae7e-68d6c0c63ce7",
   "metadata": {},
   "outputs": [],
   "source": [
    "const_heat_data = df[df['열선'] == 1]\n",
    "heat_data = df[df['열선'] == 1]\n",
    "road_data = df[df['열선'] == 0]"
   ]
  },
  {
   "cell_type": "code",
   "execution_count": 16,
   "id": "1e68a899-de99-43c2-a4dc-ee8aa5b56e99",
   "metadata": {},
   "outputs": [
    {
     "name": "stdout",
     "output_type": "stream",
     "text": [
      "1051\n",
      "6161\n"
     ]
    }
   ],
   "source": [
    "print(len(heat_data))\n",
    "print(len(road_data))"
   ]
  },
  {
   "cell_type": "code",
   "execution_count": 17,
   "id": "5a227dfb-905f-4017-9b3e-0d1269e63fcf",
   "metadata": {},
   "outputs": [
    {
     "data": {
      "text/plain": [
       "Index(['도로명', '열선', '도로 종류', '시작점_위도', '시작점_경도', '종료점_위도', '종료점_경도', '중앙점_위도',\n",
       "       '중앙점_경도', '도로_길이', '행정동', '도로폭', '도로규모', '행정구역', '고도의_차이', '경사각',\n",
       "       '최근접_시설들_거리', '최근접_시설의_평균거리', '원본여부'],\n",
       "      dtype='object')"
      ]
     },
     "execution_count": 17,
     "metadata": {},
     "output_type": "execute_result"
    }
   ],
   "source": [
    "heat_data.columns"
   ]
  },
  {
   "cell_type": "markdown",
   "id": "d504cb00-cb54-4ad0-9210-6a2b17ed034e",
   "metadata": {},
   "source": [
    "## 열선 데이터를 늘리기 시작"
   ]
  },
  {
   "cell_type": "code",
   "execution_count": 18,
   "id": "d28b35e5-f8b3-46c5-aaf0-709227385c6e",
   "metadata": {
    "scrolled": true
   },
   "outputs": [
    {
     "name": "stderr",
     "output_type": "stream",
     "text": [
      "100%|█████████████████████████████████████| 1051/1051 [00:00<00:00, 4904.84it/s]\n",
      "100%|█████████████████████████████████████| 1051/1051 [00:00<00:00, 5322.97it/s]\n",
      "100%|█████████████████████████████████████| 1051/1051 [00:00<00:00, 5522.74it/s]\n",
      "100%|█████████████████████████████████████| 1051/1051 [00:00<00:00, 5314.30it/s]\n",
      "100%|█████████████████████████████████████| 1051/1051 [00:00<00:00, 5520.42it/s]\n"
     ]
    }
   ],
   "source": [
    "for road_idx in range(heat_road_multiple):\n",
    "    temp_data = const_heat_data.copy()\n",
    "\n",
    "    for data_idx in tqdm(range(len(temp_data))):\n",
    "        temp_data.loc[data_idx, '원본여부'] = 0  \n",
    "        \n",
    "        if \",\" in temp_data.loc[data_idx, '도로명']:  \n",
    "            temp_1 = temp_data.loc[data_idx, '도로명']\n",
    "            temp_2 = temp_1.split(',')[0]   \n",
    "            temp_3 = temp_2.replace(\"[\\'\", \"\")\n",
    "            temp_4 = temp_3.replace(\"\\'\", '')\n",
    "            temp_data.loc[data_idx, '도로명'] = temp_4\n",
    "\n",
    "        temp_data.loc[data_idx, '경사각'] = abs(temp_data.loc[data_idx, '경사각'] + np.random.uniform(-7, 7))\n",
    "\n",
    "        if temp_data.loc[data_idx, '최근접_시설들_거리']:\n",
    "            distances = temp_data.loc[data_idx, '최근접_시설들_거리'].split(\",\")  \n",
    "            distances = [float(d.strip()) + np.random.uniform(-5, 5) for d in distances]\n",
    "            temp_data.loc[data_idx, '최근접_시설들_거리'] = \", \".join(map(str, distances))\n",
    "            temp_data.loc[data_idx, '최근접_시설의_평균거리'] = np.mean(distances)\n",
    "\n",
    "    heat_data = pd.concat([heat_data, temp_data], axis=0, ignore_index=True)"
   ]
  },
  {
   "cell_type": "code",
   "execution_count": 19,
   "id": "6d15eb61-4489-4d91-9433-7d655f67bf59",
   "metadata": {},
   "outputs": [
    {
     "data": {
      "text/plain": [
       "6306"
      ]
     },
     "execution_count": 19,
     "metadata": {},
     "output_type": "execute_result"
    }
   ],
   "source": [
    "len(heat_data)"
   ]
  },
  {
   "cell_type": "code",
   "execution_count": 20,
   "id": "93446c60-9be6-4256-be90-408708a5dbc3",
   "metadata": {},
   "outputs": [],
   "source": [
    "total_data = pd.concat([heat_data, road_data], axis=0, ignore_index=True)"
   ]
  },
  {
   "cell_type": "code",
   "execution_count": 21,
   "id": "af53988e-32dc-47ea-931a-5c62325a8680",
   "metadata": {},
   "outputs": [
    {
     "name": "stdout",
     "output_type": "stream",
     "text": [
      "열선\n",
      "1    6306\n",
      "0    6161\n",
      "Name: count, dtype: int64\n",
      "------------------------\n",
      "원본여부\n",
      "1    7212\n",
      "0    5255\n",
      "Name: count, dtype: int64\n"
     ]
    }
   ],
   "source": [
    "print(total_data['열선'].value_counts())\n",
    "print(\"------------------------\")\n",
    "print(total_data['원본여부'].value_counts())"
   ]
  },
  {
   "cell_type": "code",
   "execution_count": 22,
   "id": "d6607d62-1fd9-4af6-b8ff-1e3e6cdfbfb2",
   "metadata": {},
   "outputs": [
    {
     "data": {
      "text/plain": [
       "도로명              0\n",
       "열선               0\n",
       "도로 종류            0\n",
       "시작점_위도           0\n",
       "시작점_경도           0\n",
       "종료점_위도           0\n",
       "종료점_경도           0\n",
       "중앙점_위도           0\n",
       "중앙점_경도           0\n",
       "도로_길이            0\n",
       "행정동              0\n",
       "도로폭             79\n",
       "도로규모            79\n",
       "행정구역             0\n",
       "고도의_차이           0\n",
       "경사각              0\n",
       "최근접_시설들_거리       0\n",
       "최근접_시설의_평균거리     0\n",
       "원본여부             0\n",
       "dtype: int64"
      ]
     },
     "execution_count": 22,
     "metadata": {},
     "output_type": "execute_result"
    }
   ],
   "source": [
    "total_data.isnull().sum()"
   ]
  },
  {
   "cell_type": "code",
   "execution_count": 23,
   "id": "8963ffd5-c002-4089-9db5-67651fcfd528",
   "metadata": {},
   "outputs": [
    {
     "name": "stdout",
     "output_type": "stream",
     "text": [
      "./data/(증폭)_서울열선_광진도로.csv 저장 완료.\n"
     ]
    }
   ],
   "source": [
    "try :\n",
    "    save_url = \"./data/(증폭)_서울열선_광진도로.csv\"\n",
    "    total_data.to_csv(save_url, encoding=\"UTF-8\", index=False)\n",
    "    print(f\"{save_url} 저장 완료.\")\n",
    "except OSError as e :\n",
    "    print(e)"
   ]
  },
  {
   "cell_type": "code",
   "execution_count": null,
   "id": "fc4b25be-7f84-45d7-8a92-92e7adb9a9c8",
   "metadata": {},
   "outputs": [],
   "source": []
  }
 ],
 "metadata": {
  "kernelspec": {
   "display_name": "Python 3 (ipykernel)",
   "language": "python",
   "name": "python3"
  },
  "language_info": {
   "codemirror_mode": {
    "name": "ipython",
    "version": 3
   },
   "file_extension": ".py",
   "mimetype": "text/x-python",
   "name": "python",
   "nbconvert_exporter": "python",
   "pygments_lexer": "ipython3",
   "version": "3.13.2"
  }
 },
 "nbformat": 4,
 "nbformat_minor": 5
}
