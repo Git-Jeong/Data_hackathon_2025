{
 "cells": [
  {
   "cell_type": "code",
   "execution_count": 1,
   "id": "d3906198-87a8-4c40-a1e2-6cbed1219a87",
   "metadata": {},
   "outputs": [],
   "source": [
    "import pandas as pd\n",
    "import os\n",
    "from tqdm import tqdm\n",
    "import folium\n",
    "from folium import PolyLine"
   ]
  },
  {
   "cell_type": "code",
   "execution_count": 2,
   "id": "4a423e43-47b7-44bb-95cc-3082dc1fe722",
   "metadata": {},
   "outputs": [],
   "source": [
    "folder_path = \"./make_file/gu_division/\"\n",
    "file_encoding = \"UTF-8\""
   ]
  },
  {
   "cell_type": "code",
   "execution_count": 3,
   "id": "5b535252-f4b3-48c3-a2a4-2950692ecd1b",
   "metadata": {},
   "outputs": [],
   "source": [
    "# 조건을 만족하는 파일 목록\n",
    "heat_files = []\n",
    "\n",
    "for file_name in os.listdir(folder_path):\n",
    "    if file_name.endswith(\".csv\"):\n",
    "        file_path = os.path.join(folder_path, file_name)  # 안전한 경로 조합\n",
    "\n",
    "        try:\n",
    "            # CSV 파일 전체 읽기\n",
    "            df = pd.read_csv(file_path, encoding=file_encoding)\n",
    "\n",
    "            # 컬럼명 앞뒤 공백 제거\n",
    "            df.columns = df.columns.str.strip()\n",
    "\n",
    "            # 필요한 컬럼이 존재하는지 확인\n",
    "            if {\"중점_위도\", \"중점_경도\"}.issubset(df.columns):\n",
    "                heat_files.append(file_path)\n",
    "        except Exception as e:\n",
    "            print(f\"파일 {file_name} 처리 중 오류 발생: {e}\")\n"
   ]
  },
  {
   "cell_type": "code",
   "execution_count": 5,
   "id": "2c51d7f1-24cb-42e5-bf27-71e7709e8f7f",
   "metadata": {},
   "outputs": [
    {
     "data": {
      "text/plain": [
       "25"
      ]
     },
     "execution_count": 5,
     "metadata": {},
     "output_type": "execute_result"
    }
   ],
   "source": [
    "len(heat_files)"
   ]
  },
  {
   "cell_type": "code",
   "execution_count": null,
   "id": "95d24305-fa47-4dd8-9b51-498db7065177",
   "metadata": {},
   "outputs": [],
   "source": []
  },
  {
   "cell_type": "code",
   "execution_count": 6,
   "id": "02352a96-d1ac-4cf4-b0fe-b91e21ed8100",
   "metadata": {},
   "outputs": [
    {
     "name": "stdout",
     "output_type": "stream",
     "text": [
      "./make_file/gu_division/종로구_14_열선_데이터.html 저장 완료.\n",
      "./make_file/gu_division/금천구_15_열선_데이터.html 저장 완료.\n",
      "./make_file/gu_division/강북구_14_열선_데이터.html 저장 완료.\n",
      "./make_file/gu_division/성동구_48_열선_데이터.html 저장 완료.\n",
      "./make_file/gu_division/노원구_8_열선_데이터.html 저장 완료.\n",
      "./make_file/gu_division/강동구_5_열선_데이터.html 저장 완료.\n",
      "./make_file/gu_division/구로구_11_열선_데이터.html 저장 완료.\n",
      "./make_file/gu_division/강서구_13_열선_데이터.html 저장 완료.\n",
      "./make_file/gu_division/도봉구_36_열선_데이터.html 저장 완료.\n",
      "./make_file/gu_division/은평구_6_열선_데이터.html 저장 완료.\n",
      "./make_file/gu_division/동대문구_13_열선_데이터.html 저장 완료.\n",
      "./make_file/gu_division/중랑구_26_열선_데이터.html 저장 완료.\n",
      "./make_file/gu_division/송파구_2_열선_데이터.html 저장 완료.\n",
      "./make_file/gu_division/영등포구_8_열선_데이터.html 저장 완료.\n",
      "./make_file/gu_division/서대문구_26_열선_데이터.html 저장 완료.\n",
      "./make_file/gu_division/용산구_20_열선_데이터.html 저장 완료.\n",
      "./make_file/gu_division/마포구_21_열선_데이터.html 저장 완료.\n",
      "./make_file/gu_division/양천구_17_열선_데이터.html 저장 완료.\n",
      "./make_file/gu_division/성북구_53_열선_데이터.html 저장 완료.\n",
      "./make_file/gu_division/동작구_45_열선_데이터.html 저장 완료.\n",
      "./make_file/gu_division/광진구_33_열선_데이터.html 저장 완료.\n",
      "./make_file/gu_division/중구_31_열선_데이터.html 저장 완료.\n",
      "./make_file/gu_division/관악구_26_열선_데이터.html 저장 완료.\n",
      "./make_file/gu_division/강남구_59_열선_데이터.html 저장 완료.\n",
      "./make_file/gu_division/서초구_19_열선_데이터.html 저장 완료.\n"
     ]
    }
   ],
   "source": [
    "for file_path in heat_files:  \n",
    "    data = pd.read_csv(file_path, encoding=file_encoding) \n",
    "\n",
    "    if len(data) > 0:\n",
    "        # 기본 지도 생성 (초기 위치 설정)\n",
    "        map_center = [data['중점_위도'].mean(), data['중점_경도'].mean()]\n",
    "        m_map = folium.Map(location=map_center, zoom_start=12)\n",
    "        \n",
    "        # 데이터의 각 행에 대해 선 추가 및 중점에 마커 추가\n",
    "        for index, row in data.iterrows():\n",
    "            # 선 추가 (시점 -> 종점)\n",
    "            PolyLine(\n",
    "                [[row['시점_위도'], row['시점_경도']], [row['종점_위도'], row['종점_경도']]],\n",
    "                color=\"blue\",\n",
    "                weight=3,\n",
    "                opacity=0.7\n",
    "            ).add_to(m_map)\n",
    "            \n",
    "            # 중점에 마커 추가 (클릭 시 index 표시)\n",
    "            folium.Marker(\n",
    "                [row['중점_위도'], row['중점_경도']], \n",
    "                popup=f\"열선_{row['열선의_id']}\",\n",
    "                icon=folium.Icon(color='green')\n",
    "            ).add_to(m_map)\n",
    "\n",
    "        try :\n",
    "            temp_file_path = file_path.replace(\".csv\", \"\")\n",
    "            # 저장할 파일 이름 생성\n",
    "            save_path = f'{temp_file_path}.html'\n",
    "            m_map.save(save_path) \n",
    "            print(f\"{save_path} 저장 완료.\")\n",
    "        except OSError as e :\n",
    "            print(e)\n"
   ]
  },
  {
   "cell_type": "code",
   "execution_count": null,
   "id": "ab5d6f21-92ae-46a2-8ea3-d1cd5d94c154",
   "metadata": {},
   "outputs": [],
   "source": []
  },
  {
   "cell_type": "code",
   "execution_count": null,
   "id": "e1eede9e-e92f-4973-ba72-45db8dc8880b",
   "metadata": {},
   "outputs": [],
   "source": []
  },
  {
   "cell_type": "code",
   "execution_count": null,
   "id": "36ab4c99-64b8-4c91-bf41-8f7911f1582c",
   "metadata": {},
   "outputs": [],
   "source": []
  },
  {
   "cell_type": "code",
   "execution_count": null,
   "id": "3819c65a-0d46-46b8-bd04-d0358a23aa01",
   "metadata": {},
   "outputs": [],
   "source": []
  },
  {
   "cell_type": "code",
   "execution_count": null,
   "id": "111257ca-96f6-4c27-a910-8fec4fa4dd0e",
   "metadata": {},
   "outputs": [],
   "source": []
  },
  {
   "cell_type": "code",
   "execution_count": null,
   "id": "d1cdf430-da92-4afb-afd1-5c2f37fa1950",
   "metadata": {},
   "outputs": [],
   "source": []
  },
  {
   "cell_type": "code",
   "execution_count": null,
   "id": "9ba5713b-a6e7-454b-b4d7-bdac333b676f",
   "metadata": {},
   "outputs": [],
   "source": []
  }
 ],
 "metadata": {
  "kernelspec": {
   "display_name": "Python 3 (ipykernel)",
   "language": "python",
   "name": "python3"
  },
  "language_info": {
   "codemirror_mode": {
    "name": "ipython",
    "version": 3
   },
   "file_extension": ".py",
   "mimetype": "text/x-python",
   "name": "python",
   "nbconvert_exporter": "python",
   "pygments_lexer": "ipython3",
   "version": "3.13.2"
  }
 },
 "nbformat": 4,
 "nbformat_minor": 5
}
