{
 "cells": [
  {
   "cell_type": "markdown",
   "id": "4e72ac22-0b72-4af4-98c1-0cc23df1b421",
   "metadata": {},
   "source": [
    "### 필요한 라이브러리 import"
   ]
  },
  {
   "cell_type": "code",
   "execution_count": 1,
   "id": "b430a7a5-981b-45d2-9317-87a6af9f08fd",
   "metadata": {},
   "outputs": [],
   "source": [
    "import pandas as pd\n",
    "import os\n",
    "import requests\n",
    "import sys\n",
    "import re\n",
    "from tqdm import tqdm"
   ]
  },
  {
   "cell_type": "markdown",
   "id": "91127a65-ed75-4123-9db3-29faf46adf1c",
   "metadata": {},
   "source": [
    "### KAKAO API KEY 값 관리"
   ]
  },
  {
   "cell_type": "code",
   "execution_count": 2,
   "id": "af5b43c0",
   "metadata": {},
   "outputs": [],
   "source": [
    "api_key_url = '../API_KEY/API_KEYS.xlsx'\n",
    "open_api_key_file = pd.read_excel(api_key_url)\n",
    " \n",
    "open_api_key_file['사이트'].value_counts()\n",
    "\n",
    "get_api_key = open_api_key_file[open_api_key_file['사이트'] == 'kakao_api_key_REST'].values[0][1]  "
   ]
  },
  {
   "cell_type": "code",
   "execution_count": 3,
   "id": "e72f0c44-beb4-43e6-bae9-a4337e8edaa1",
   "metadata": {},
   "outputs": [],
   "source": [
    "# KAKAO API KEY 값 \n",
    "KAKAO_API_KEY = get_api_key  "
   ]
  },
  {
   "cell_type": "markdown",
   "id": "2803d267-4a06-4e8c-92ff-c1825a99d14e",
   "metadata": {},
   "source": [
    "### 파일을 불러올 폴더의 위치, 저장할 폴더의 위치 설정"
   ]
  },
  {
   "cell_type": "code",
   "execution_count": 4,
   "id": "3aba891e-45e7-49a5-9022-dc191f6cf840",
   "metadata": {},
   "outputs": [],
   "source": [
    "folder_name_1 = './data'\n",
    "folder_name_2 = './make_file'\n",
    "\n",
    "save_file_folder = f'{folder_name_2}/'\n",
    "sava_file_encoding = 'utf-8'"
   ]
  },
  {
   "cell_type": "markdown",
   "id": "9a16fd8f-cef4-4a3c-98c6-80566365f222",
   "metadata": {},
   "source": [
    "### 파일을 저장할 위치 확인"
   ]
  },
  {
   "cell_type": "code",
   "execution_count": 5,
   "id": "9c7fa6a2-dbce-4a09-987a-c2b593903501",
   "metadata": {},
   "outputs": [],
   "source": [
    "folder_1_check = os.path.isdir(folder_name_1)\n",
    "\n",
    "if not folder_1_check:\n",
    "    os.makedirs(folder_name_1)  # folder_name_1이 없으면 생성\n",
    "    print(f\"'{folder_name_1}' 폴더가 생성되었습니다.\")\n",
    "\n",
    "folder_2_check = os.path.isdir(save_file_folder)\n",
    "if not folder_2_check:\n",
    "    os.makedirs(save_file_folder)  # folder_name_2가 없으면 생성\n",
    "    print(f\"'{save_file_folder}' 폴더가 생성되었습니다.\")\n"
   ]
  },
  {
   "cell_type": "markdown",
   "id": "7bd984f5-3677-4cd7-b58a-63d2b749b865",
   "metadata": {},
   "source": [
    "### 불러올 파일들의 폴더 위치 지정"
   ]
  },
  {
   "cell_type": "code",
   "execution_count": 6,
   "id": "221ad409-9c58-4c70-9091-b4683ff663cb",
   "metadata": {},
   "outputs": [
    {
     "name": "stdout",
     "output_type": "stream",
     "text": [
      "필요한 파일이 모두 있습니다.\n"
     ]
    }
   ],
   "source": [
    "temp_school_url = f'{folder_name_1}/서울시 학교 기본정보.csv'\n",
    "temp_children_file_url =  f'{folder_name_1}/서울시 지역아동센터 시설현황정보.csv'\n",
    "temp_childcare_file_url = f'{folder_name_1}/서울시 어린이집 정보(표준 데이터).csv'\n",
    "temp_welfare_file_url = f'{folder_name_1}/서울시 사회복지시설 목록.csv'\n",
    "\n",
    "school_file_check = os.path.isfile(temp_school_url)\n",
    "children_file_check = os.path.isfile(temp_children_file_url) \n",
    "childcare_file_check = os.path.isfile(temp_childcare_file_url)\n",
    "welfare_care_file_check = os.path.isfile(temp_welfare_file_url)\n",
    "\n",
    "def sys_exit(err_file) :\n",
    "    print(f'{err_file} 파일이 없습니다....')\n",
    "    print(f'파일이 없으므로 시스템을 종료합니다.')\n",
    "    sys.exit()\n",
    "\n",
    "if school_file_check is False :\n",
    "    sys_exit(temp_school_url)\n",
    "    \n",
    "if children_file_check is False :\n",
    "    sys_exit(temp_children_file_url)\n",
    "\n",
    "if childcare_file_check is False :\n",
    "    sys_exit(temp_childcare_file_url)\n",
    "\n",
    "if welfare_care_file_check is False :\n",
    "    sys_exit(temp_seniorcare_file_url)\n",
    "    \n",
    "if (school_file_check and school_file_check and childcare_file_check and welfare_care_file_check) :\n",
    "    print(f'필요한 파일이 모두 있습니다.')\n",
    "    \n",
    "school_url = temp_school_url\n",
    "children_file_url = temp_children_file_url\n",
    "childcare_file_url = temp_childcare_file_url\n",
    "welfare_file_url = temp_welfare_file_url"
   ]
  },
  {
   "cell_type": "markdown",
   "id": "b15c8fb5-c84c-4585-b0e8-83758efac31e",
   "metadata": {},
   "source": [
    "### 통합 파일로 저장하기 위한 배열"
   ]
  },
  {
   "cell_type": "code",
   "execution_count": 7,
   "id": "3c02217c-0c26-4cc9-8b79-53d351e372dc",
   "metadata": {},
   "outputs": [],
   "source": [
    "# 통합 파일로 저장할 배열\n",
    "all_list_classification = []\n",
    "all_list_name = []\n",
    "all_list_location_x_y = []\n",
    "all_list_location_x = []\n",
    "all_list_location_y = [] "
   ]
  },
  {
   "cell_type": "markdown",
   "id": "49a50800-a79f-4072-b3ba-efe884eaa1e5",
   "metadata": {},
   "source": [
    "### kakao api를 활용하여 도로명 -> 위도, 경도 값으로 변환"
   ]
  },
  {
   "cell_type": "code",
   "execution_count": 8,
   "id": "3e2138f4-b1d4-457d-b55a-1618fa8e066e",
   "metadata": {},
   "outputs": [],
   "source": [
    "def get_lat_lon_from_address(address): \n",
    "    \"\"\"\n",
    "    카카오맵 API를 사용하여 주소를 위도, 경도로 변환하는 함수\n",
    "    \n",
    "    :param address: 변환할 주소 (예: \"서울 광진구 능동 25\")\n",
    "    :param api_key: 카카오 REST API 키\n",
    "    :return: (위도, 경도) 튜플 반환, 변환 실패 시 None 반환\n",
    "    \"\"\"\n",
    "    url = \"https://dapi.kakao.com/v2/local/search/address.json\"\n",
    "    headers = {\"Authorization\": f\"KakaoAK {KAKAO_API_KEY}\"}\n",
    "    params = {\"query\": address}\n",
    "    \n",
    "    response = requests.get(url, headers=headers, params=params)\n",
    "    \n",
    "    if response.status_code == 200:\n",
    "        result = response.json()\n",
    "        if result[\"documents\"]:\n",
    "            x = result[\"documents\"][0][\"x\"]  # 경도 (Longitude)\n",
    "            y = result[\"documents\"][0][\"y\"]  # 위도 (Latitude)\n",
    "            return y, x \n",
    "    return None, None\n"
   ]
  },
  {
   "cell_type": "markdown",
   "id": "ec1c24e3-1c2e-479e-a15d-b512c2e2cf5b",
   "metadata": {},
   "source": [
    "### 학교 목록 공공데이터를 불러와서 처리 시작"
   ]
  },
  {
   "cell_type": "code",
   "execution_count": 9,
   "id": "fa21f291-f128-48d1-9eec-08edc21aea24",
   "metadata": {},
   "outputs": [],
   "source": [
    "school_data = pd.read_csv(school_url, encoding = 'euc-kr')"
   ]
  },
  {
   "cell_type": "code",
   "execution_count": 10,
   "id": "a4ae289f-2c34-400f-927c-52f2c919a5c6",
   "metadata": {
    "scrolled": true
   },
   "outputs": [],
   "source": [
    "# school_data.head(5)"
   ]
  },
  {
   "cell_type": "code",
   "execution_count": 11,
   "id": "f08e0793-b552-4f7f-98c6-a428fb669bdc",
   "metadata": {
    "scrolled": true
   },
   "outputs": [],
   "source": [
    "# school_data.info()"
   ]
  },
  {
   "cell_type": "code",
   "execution_count": 12,
   "id": "c490b5c7-f165-4656-b458-72712fd98eff",
   "metadata": {
    "scrolled": true
   },
   "outputs": [],
   "source": [
    "# school_data.isnull().sum()"
   ]
  },
  {
   "cell_type": "code",
   "execution_count": 13,
   "id": "49fdcbd5-25bd-4b30-88d0-e2e35d10c389",
   "metadata": {},
   "outputs": [
    {
     "data": {
      "text/plain": [
       "Index(['학교종류명', '설립구분', '표준학교코드', '학교명', '영문학교명', '관할조직명', '도로명우편번호', '도로명주소',\n",
       "       '도로명상세주소', '전화번호', '홈페이지주소', '팩스번호', '남녀공학구분명', '고등학교구분명',\n",
       "       '산업체특별학급존재여부', '고등학교일반실업구분명', '특수목적고등학교계열명', '입시전후기구분명', '주야구분명',\n",
       "       '설립일자', '개교기념일', '시도교육청코드', '시도교육청명', '소재지명', '주야과정', '계열명', '학과명',\n",
       "       '적재일시'],\n",
       "      dtype='object')"
      ]
     },
     "execution_count": 13,
     "metadata": {},
     "output_type": "execute_result"
    }
   ],
   "source": [
    "school_data.columns"
   ]
  },
  {
   "cell_type": "code",
   "execution_count": 14,
   "id": "cf65323a-b67d-45d5-9c03-4f4851bed348",
   "metadata": {},
   "outputs": [
    {
     "data": {
      "text/plain": [
       "0          서울특별시 광진구 천호대로 664\n",
       "1           서울특별시 성동구 마장로 161\n",
       "2          서울특별시 성동구 왕십리로 189\n",
       "3            서울특별시 성동구 마조로 42\n",
       "4         서울특별시 광진구 뚝섬로41길 33\n",
       "                ...          \n",
       "3888      서울특별시 강남구 개포로22길 65\n",
       "3889    서울특별시 마포구 월드컵북로38길 21\n",
       "3890       서울특별시 종로구 필운대로 103\n",
       "3891        서울특별시 종로구 필운대로 97\n",
       "3892        서울특별시 노원구 공릉로 264\n",
       "Name: 도로명주소, Length: 3893, dtype: object"
      ]
     },
     "execution_count": 14,
     "metadata": {},
     "output_type": "execute_result"
    }
   ],
   "source": [
    "school_data['도로명주소']"
   ]
  },
  {
   "cell_type": "code",
   "execution_count": 15,
   "id": "f21acea6-5b17-43a1-ae76-2f2a9ee2885b",
   "metadata": {},
   "outputs": [
    {
     "name": "stdout",
     "output_type": "stream",
     "text": [
      "0\n"
     ]
    }
   ],
   "source": [
    "print(school_data['도로명주소'].isnull().sum())"
   ]
  },
  {
   "cell_type": "code",
   "execution_count": 16,
   "id": "ad9a77d5-297b-4499-9e8c-d62685c42e0f",
   "metadata": {},
   "outputs": [],
   "source": [
    "school_data = school_data.drop_duplicates(subset='학교명')\n",
    "# school_data"
   ]
  },
  {
   "cell_type": "code",
   "execution_count": 17,
   "id": "59386785-5dab-48c8-9568-68cb24f78936",
   "metadata": {},
   "outputs": [
    {
     "data": {
      "text/plain": [
       "array(['각종학교(중)', '초등학교', '중학교', '각종학교(고)', '평생학교(초)-3년6학기', '각종학교(초)',\n",
       "       '방송통신중학교', '고등학교', '특수학교', '외국인학교', '평생학교(고)-2년6학기',\n",
       "       '평생학교(고)-3년6학기', '평생학교(중)-2년6학기', '고등기술학교', '방송통신고등학교', '공동실습소'],\n",
       "      dtype=object)"
      ]
     },
     "execution_count": 17,
     "metadata": {},
     "output_type": "execute_result"
    }
   ],
   "source": [
    "school_data['학교종류명'].unique()"
   ]
  },
  {
   "cell_type": "code",
   "execution_count": 18,
   "id": "6fb636ca-c1b0-465d-bfa5-b4851b013149",
   "metadata": {
    "scrolled": true
   },
   "outputs": [],
   "source": [
    "# print(f'학교 종류 : {school_data['학교종류명'].unique()}')\n",
    "# print(f'학 학교별 수 : {school_data['학교종류명'].value_counts()}')"
   ]
  },
  {
   "cell_type": "code",
   "execution_count": 19,
   "id": "f5a76b72-8b29-4f61-96b4-87705b145558",
   "metadata": {
    "jupyter": {
     "source_hidden": true
    }
   },
   "outputs": [],
   "source": [
    "# 초 중 고 여부. ['학교종류명']\n",
    "#     '초등학교' : 1,\n",
    "#     '각종학교(중)' : 2,\n",
    "#     '중학교' : 2,\n",
    "#     '고등학교' : 3,\n",
    "#     '외국인학교' : 4,\n",
    "#     '특수학교' : 5 \n",
    "# school_classification = []\n",
    "\n",
    "# # 학교 이름\n",
    "# school_name = [] "
   ]
  },
  {
   "cell_type": "code",
   "execution_count": null,
   "id": "1dd404dc-15a2-4f3a-8af3-b07a252bad8d",
   "metadata": {},
   "outputs": [],
   "source": []
  },
  {
   "cell_type": "code",
   "execution_count": 20,
   "id": "cb6c7751-d4ae-420d-b546-955c2d90c31b",
   "metadata": {},
   "outputs": [],
   "source": [
    "school_address = school_data['도로명주소']\n",
    "school_name = school_data['학교명']\n",
    "school_classification = school_data['학교종류명']"
   ]
  },
  {
   "cell_type": "code",
   "execution_count": null,
   "id": "c10ea59d-77de-4a3f-93ca-584216f9bafe",
   "metadata": {},
   "outputs": [],
   "source": []
  },
  {
   "cell_type": "markdown",
   "id": "de30bd01-2deb-4ca0-a5d3-dd846097f9a5",
   "metadata": {},
   "source": [
    "### 학교 정보 저장을 위한 배열"
   ]
  },
  {
   "cell_type": "code",
   "execution_count": 21,
   "id": "973f7e04-31da-4dc5-8a22-197585b24ad2",
   "metadata": {},
   "outputs": [],
   "source": [
    "get_school_name = []\n",
    "get_school_classification = []\n",
    "get_school_location_x_y = []\n",
    "get_school_location_x = []\n",
    "get_school_location_y = []"
   ]
  },
  {
   "cell_type": "markdown",
   "id": "5ea7df7e-6767-4ff7-a002-f6d458d57166",
   "metadata": {},
   "source": [
    "### 학교 수 만큼 반복문을 돌려서 위도,경도값 변환"
   ]
  },
  {
   "cell_type": "code",
   "execution_count": 22,
   "id": "672b791e-c189-4b59-95ba-386b6d0fa0a9",
   "metadata": {},
   "outputs": [
    {
     "name": "stderr",
     "output_type": "stream",
     "text": [
      "  0%|                                                  | 0/1414 [00:00<?, ?it/s]\n"
     ]
    },
    {
     "ename": "NameError",
     "evalue": "name 'search_school_name' is not defined",
     "output_type": "error",
     "traceback": [
      "\u001b[0;31m---------------------------------------------------------------------------\u001b[0m",
      "\u001b[0;31mNameError\u001b[0m                                 Traceback (most recent call last)",
      "Cell \u001b[0;32mIn[22], line 11\u001b[0m\n\u001b[1;32m      8\u001b[0m search_school_location_x_y \u001b[38;5;241m=\u001b[39m \u001b[38;5;124mf\u001b[39m\u001b[38;5;124m'\u001b[39m\u001b[38;5;132;01m{\u001b[39;00mlatitude\u001b[38;5;132;01m}\u001b[39;00m\u001b[38;5;124m, \u001b[39m\u001b[38;5;132;01m{\u001b[39;00mlongitude\u001b[38;5;132;01m}\u001b[39;00m\u001b[38;5;124m'\u001b[39m  \n\u001b[1;32m     10\u001b[0m \u001b[38;5;66;03m# print(search_school_location_x_y)\u001b[39;00m\n\u001b[0;32m---> 11\u001b[0m get_school_name\u001b[38;5;241m.\u001b[39mappend(\u001b[43msearch_school_name\u001b[49m)\n\u001b[1;32m     12\u001b[0m get_school_classification\u001b[38;5;241m.\u001b[39mappend(search_school_classification)\n\u001b[1;32m     13\u001b[0m get_school_location_x_y\u001b[38;5;241m.\u001b[39mappend(search_school_location_x_y)\n",
      "\u001b[0;31mNameError\u001b[0m: name 'search_school_name' is not defined"
     ]
    }
   ],
   "source": [
    "\n",
    "for i in tqdm(range(len(school_address))):\n",
    "# for i in tqdm(range(10)):\n",
    "    search_school_address = school_address.iloc[i]   \n",
    "    search_school_classification = school_classification.iloc[i] \n",
    "    \n",
    "    latitude, longitude = get_lat_lon_from_address(search_school_address)\n",
    "    \n",
    "    search_school_location_x_y = f'{latitude}, {longitude}'  \n",
    "\n",
    "    # print(search_school_location_x_y)\n",
    "    get_school_name.append(search_school_name)\n",
    "    get_school_classification.append(search_school_classification)\n",
    "    get_school_location_x_y.append(search_school_location_x_y)\n",
    "    get_school_location_x.append(latitude)\n",
    "    get_school_location_y.append(longitude)\n",
    "    \n"
   ]
  },
  {
   "cell_type": "markdown",
   "id": "4652f13a-4bbc-424e-8731-a103fd0d407a",
   "metadata": {},
   "source": [
    "### 학교 위치정보 저장을 위한 데이터프레임화"
   ]
  },
  {
   "cell_type": "code",
   "execution_count": null,
   "id": "b501363d-6477-47c2-a03f-c42bbe6c9f08",
   "metadata": {},
   "outputs": [],
   "source": [
    "school_df = pd.DataFrame({\n",
    "    '학교구분' : get_school_classification, \n",
    "    '학교명' : get_school_name, \n",
    "    '학교_위치' : get_school_location_x_y,\n",
    "    '위도' : get_school_location_x,\n",
    "    '경도' : get_school_location_y\n",
    "})"
   ]
  },
  {
   "cell_type": "code",
   "execution_count": null,
   "id": "7dd55d81-78e5-4ac1-8b33-7086cd9e2ed9",
   "metadata": {},
   "outputs": [],
   "source": [
    "school_df.head()"
   ]
  },
  {
   "cell_type": "markdown",
   "id": "1b2f12f7-9287-42c7-9eb3-885c6b9a2f44",
   "metadata": {},
   "source": [
    "### 아동센터 파일 처리"
   ]
  },
  {
   "cell_type": "code",
   "execution_count": null,
   "id": "eb0c5c8c-a98a-4e4c-b5b7-4d1fb1124cbc",
   "metadata": {},
   "outputs": [],
   "source": [
    "children_data = pd.read_csv(children_file_url, encoding = 'euc-kr')"
   ]
  },
  {
   "cell_type": "code",
   "execution_count": null,
   "id": "40bd2468-73df-4453-96b1-dd5755a0e0a1",
   "metadata": {
    "scrolled": true
   },
   "outputs": [],
   "source": [
    "children_data.head(2)"
   ]
  },
  {
   "cell_type": "code",
   "execution_count": null,
   "id": "9e4c06ce-dcc1-4c82-b249-70d72eb4bd88",
   "metadata": {},
   "outputs": [],
   "source": [
    "children_data.columns"
   ]
  },
  {
   "cell_type": "code",
   "execution_count": null,
   "id": "781705e3-d0ba-45bf-82e0-9d3e61ba7b3d",
   "metadata": {},
   "outputs": [],
   "source": [
    "print(children_data['X좌표값'].isnull().sum())\n",
    "print(children_data['Y좌표값'].isnull().sum())"
   ]
  },
  {
   "cell_type": "code",
   "execution_count": null,
   "id": "ef954acb-c3bf-43fd-93ee-d3267e4f4289",
   "metadata": {},
   "outputs": [],
   "source": [
    "children_data = children_data.dropna(subset=['y좌표값'])\n",
    "children_data = children_data.dropna(subset=['x좌표값']) "
   ]
  },
  {
   "cell_type": "code",
   "execution_count": null,
   "id": "a59f63d8-7e13-456b-821b-901732bd598a",
   "metadata": {},
   "outputs": [],
   "source": [
    "print(children_data['X좌표값'].isnull().sum())\n",
    "print(children_data['Y좌표값'].isnull().sum())\n",
    "print(children_data['시설명'].isnull().sum())\n",
    "print(children_data['Y좌표값'].isnull().sum())\n",
    "print(children_data['Y좌표값'].isnull().sum())"
   ]
  },
  {
   "cell_type": "code",
   "execution_count": null,
   "id": "32583783-cdfc-4ca8-a4f2-44b0b61db2a0",
   "metadata": {},
   "outputs": [],
   "source": [
    "children_data.columns"
   ]
  },
  {
   "cell_type": "code",
   "execution_count": null,
   "id": "a07038ad-9c18-46a6-a4b6-752bb99e2474",
   "metadata": {},
   "outputs": [],
   "source": [
    "children_data['서비스분류'].isna().sum()"
   ]
  },
  {
   "cell_type": "code",
   "execution_count": null,
   "id": "9f57ec13-f89c-4a4d-b8ff-68e26c8f099a",
   "metadata": {},
   "outputs": [],
   "source": [
    "temp_get_children_center_x = children_data['Y좌표값'].to_list()\n",
    "temp_get_children_center_y = children_data['X좌표값'].to_list()"
   ]
  },
  {
   "cell_type": "code",
   "execution_count": null,
   "id": "27e452d1-9a39-4431-bc6b-8c025f847a3a",
   "metadata": {},
   "outputs": [],
   "source": [
    "print(len(temp_get_children_center_x))\n",
    "print(len(temp_get_children_center_y))"
   ]
  },
  {
   "cell_type": "code",
   "execution_count": null,
   "id": "2c9e1833-7e5c-4037-948b-789feef21569",
   "metadata": {},
   "outputs": [],
   "source": [
    "total_children_center_x_y = []"
   ]
  },
  {
   "cell_type": "code",
   "execution_count": null,
   "id": "be4d5c45-23aa-45c4-ae87-a4daf0cc333a",
   "metadata": {},
   "outputs": [],
   "source": [
    "for i in tqdm(range(len(temp_get_children_center_x))) :\n",
    "    temp = str(temp_get_children_center_x[i]) + ', ' + str(temp_get_children_center_y[i])\n",
    "    total_children_center_x_y.append(temp)"
   ]
  },
  {
   "cell_type": "code",
   "execution_count": null,
   "id": "abce6d90-b800-4f59-ad8d-1bcaf89d14f4",
   "metadata": {},
   "outputs": [],
   "source": [
    "get_children_center_name = children_data['시설명'].to_list()\n",
    "get_children_center_x_y_location = total_children_center_x_y\n",
    "get_children_center_x = children_data['Y좌표값'].to_list()\n",
    "get_children_center_y = children_data['X좌표값'].to_list()\n",
    "get_children_center_classification = children_data['서비스분류'].to_list()"
   ]
  },
  {
   "cell_type": "markdown",
   "id": "9d647994-fbd5-47a8-9a4b-dd4e26d0f17e",
   "metadata": {},
   "source": [
    "### 아동센터 위치정보 저장을 위한 데이터프레임화"
   ]
  },
  {
   "cell_type": "code",
   "execution_count": null,
   "id": "1d913518-3941-44da-ac7e-35d2071e80bc",
   "metadata": {},
   "outputs": [],
   "source": [
    "#개별 데이터 저장\n",
    "children_df = pd.DataFrame({\n",
    "    '구분' : get_children_center_classification, \n",
    "    '시설명' : get_children_center_name, \n",
    "    '시설_위치' : get_children_center_x_y_location,\n",
    "    '위도' : get_children_center_x, \n",
    "    '경도' : get_children_center_y\n",
    "})\n"
   ]
  },
  {
   "cell_type": "code",
   "execution_count": null,
   "id": "187df353-f31c-491e-9ad4-04d73b30f32e",
   "metadata": {},
   "outputs": [],
   "source": [
    "children_df"
   ]
  },
  {
   "cell_type": "markdown",
   "id": "4afd77c7-999c-4b3c-ace6-85cc65ca8fd8",
   "metadata": {},
   "source": [
    "### 어린이집 파일 처리"
   ]
  },
  {
   "cell_type": "code",
   "execution_count": null,
   "id": "2ef18f87-b931-460b-9e51-ace7fe696cb2",
   "metadata": {},
   "outputs": [],
   "source": [
    "import chardet\n",
    "\n",
    "with open(childcare_file_url, \"rb\") as f:\n",
    "    result = chardet.detect(f.read())\n",
    "    print(result['encoding'])\n"
   ]
  },
  {
   "cell_type": "code",
   "execution_count": null,
   "id": "6108fd2f-f530-45d1-889f-e62a6433d555",
   "metadata": {},
   "outputs": [],
   "source": [
    "# children_care_data = pd.read_csv(childcare_file_url, encoding = 'euc-kr')\n",
    "temp_children_care_data = pd.read_csv(childcare_file_url, encoding='CP949')"
   ]
  },
  {
   "cell_type": "code",
   "execution_count": null,
   "id": "78d37392-23e3-4263-971a-498ed45406cb",
   "metadata": {},
   "outputs": [],
   "source": [
    "children_care_data.head(2)"
   ]
  },
  {
   "cell_type": "code",
   "execution_count": null,
   "id": "a4a74312-883d-4516-a525-42fc49d67ced",
   "metadata": {},
   "outputs": [],
   "source": [
    "temp_children_care_data['운영현황'].unique()"
   ]
  },
  {
   "cell_type": "code",
   "execution_count": null,
   "id": "4c7921c1-eb3d-4adc-a2db-7491e64580c0",
   "metadata": {},
   "outputs": [],
   "source": [
    "children_care_data = temp_children_care_data[temp_children_care_data['운영현황'].isin(['재개', '정상'])]\n",
    "children_care_data = children_care_data.reset_index(drop=True)\n",
    "children_care_data.index = children_care_data.index + 1"
   ]
  },
  {
   "cell_type": "code",
   "execution_count": null,
   "id": "24d40ea8-1a70-4762-affa-0bfef715d6c6",
   "metadata": {},
   "outputs": [],
   "source": [
    "children_care_data['운영현황'].unique()"
   ]
  },
  {
   "cell_type": "code",
   "execution_count": null,
   "id": "d116824d-a3f6-4dbb-a01c-8b103b764885",
   "metadata": {},
   "outputs": [],
   "source": [
    "print(f\"경도 널값 : {children_care_data['시설 경도(좌표값)'].isnull().sum()}\")\n",
    "print(f\"위도 널값 : {children_care_data['시설 위도(좌표값)'].isnull().sum()}\")"
   ]
  },
  {
   "cell_type": "code",
   "execution_count": null,
   "id": "8678214f-4b58-4920-ba61-e1b4f5800859",
   "metadata": {},
   "outputs": [],
   "source": [
    "print(f\"길이 : {len(children_care_data)}\")"
   ]
  },
  {
   "cell_type": "code",
   "execution_count": null,
   "id": "7acda9c2-97ed-41ad-8446-a1b500c2dc1d",
   "metadata": {},
   "outputs": [],
   "source": [
    "children_care_data = children_care_data.dropna(subset=['시설 위도(좌표값)'])\n",
    "children_care_data = children_care_data.dropna(subset=['시설 경도(좌표값)'])\n",
    "children_care_data = children_care_data.dropna(subset=['어린이집명'])"
   ]
  },
  {
   "cell_type": "code",
   "execution_count": null,
   "id": "369c940d-e76e-4a8e-abb8-5becaef3b32f",
   "metadata": {},
   "outputs": [],
   "source": [
    "print(f\"길이 : {len(children_care_data)}\")"
   ]
  },
  {
   "cell_type": "code",
   "execution_count": null,
   "id": "ef6dbba8-7253-44e6-82b9-e6710684a499",
   "metadata": {},
   "outputs": [],
   "source": [
    "print(f\"경도 널값 : {children_care_data['시설 경도(좌표값)'].isnull().sum()}\")\n",
    "print(f\"위도 널값 : {children_care_data['시설 위도(좌표값)'].isnull().sum()}\")"
   ]
  },
  {
   "cell_type": "code",
   "execution_count": null,
   "id": "e404a9c0-ca36-4fe0-b4da-9d970675a1b7",
   "metadata": {},
   "outputs": [],
   "source": [
    "children_care_data['어린이집유형']"
   ]
  },
  {
   "cell_type": "code",
   "execution_count": null,
   "id": "cc66eded-c12f-4320-ac2c-2dc79ed3f86e",
   "metadata": {},
   "outputs": [],
   "source": [
    "children_care_data.columns"
   ]
  },
  {
   "cell_type": "code",
   "execution_count": null,
   "id": "e6729cb5-dd39-43e0-b6cf-b13104f8c280",
   "metadata": {},
   "outputs": [],
   "source": [
    "temp_get_children_center_x_y = []\n",
    "temp_get_children_center_x = children_care_data['시설 위도(좌표값)'].to_list()\n",
    "temp_get_children_center_y = children_care_data['시설 경도(좌표값)'].to_list()"
   ]
  },
  {
   "cell_type": "code",
   "execution_count": null,
   "id": "4acb08a5-e0c0-4867-9463-52bd93ccf082",
   "metadata": {},
   "outputs": [],
   "source": [
    "for i in tqdm(range(len(temp_get_children_center_x))) : \n",
    "    temp_str = str(temp_get_children_center_x[i]) + ', ' + str(temp_get_children_center_y[i])\n",
    "    temp_get_children_center_x_y.append(temp)"
   ]
  },
  {
   "cell_type": "code",
   "execution_count": null,
   "id": "7b0c8125-3be1-401b-b308-83cc69a54b63",
   "metadata": {},
   "outputs": [],
   "source": []
  },
  {
   "cell_type": "code",
   "execution_count": null,
   "id": "1c2104d0-14c4-45df-bf26-0405221bc3da",
   "metadata": {},
   "outputs": [],
   "source": [
    "get_children_care_name = children_care_data['어린이집명'].to_list()\n",
    "get_children_care_location_x_y = temp_get_children_center_x_y\n",
    "get_children_care_location_x =  temp_get_children_center_x\n",
    "get_children_care_location_y = temp_get_children_center_y\n",
    "\n",
    "get_children_care_classification = []\n",
    "\n",
    "for i in tqdm(range(len(get_children_care_name))) :\n",
    "    get_children_care_classification.append('어린이집')"
   ]
  },
  {
   "cell_type": "markdown",
   "id": "7412ce39-6408-405d-88fa-d64d9379f705",
   "metadata": {},
   "source": [
    "### 어린이집을 파일로 저장하기 위한 프레임워크화"
   ]
  },
  {
   "cell_type": "code",
   "execution_count": null,
   "id": "b2b03027-90ef-41d8-a21a-e1f62f752caa",
   "metadata": {},
   "outputs": [],
   "source": [
    "children_care_df = pd.DataFrame({\n",
    "    '구분' : get_children_care_classification, \n",
    "    '시설명' : get_children_care_name, \n",
    "    '위치' : get_children_care_location_x_y,\n",
    "    '위도' : get_children_care_location_x,\n",
    "    '경도' : get_children_care_location_y\n",
    "})"
   ]
  },
  {
   "cell_type": "code",
   "execution_count": null,
   "id": "d240b1b2-378b-4bfb-bd6f-345b8d0ff937",
   "metadata": {},
   "outputs": [],
   "source": [
    "children_care_df"
   ]
  },
  {
   "cell_type": "code",
   "execution_count": null,
   "id": "eacf1609-7257-42c2-a5ef-fcc81ad2ac6e",
   "metadata": {},
   "outputs": [],
   "source": []
  },
  {
   "cell_type": "markdown",
   "id": "54805a44-e3ae-4e1d-b9bf-893a55468def",
   "metadata": {},
   "source": [
    "### 복지센터 파일을 처리"
   ]
  },
  {
   "cell_type": "code",
   "execution_count": null,
   "id": "1744d69b-0182-490f-9692-befc80e45987",
   "metadata": {},
   "outputs": [],
   "source": [
    "import chardet\n",
    "\n",
    "with open(welfare_file_url, \"rb\") as f:\n",
    "    result = chardet.detect(f.read())\n",
    "    print(result['encoding']) "
   ]
  },
  {
   "cell_type": "code",
   "execution_count": null,
   "id": "6db33972-d69b-4599-ab07-69098378e79e",
   "metadata": {},
   "outputs": [],
   "source": [
    "welfare_care_file = pd.read_csv(welfare_file_url, encoding='EUC-KR')"
   ]
  },
  {
   "cell_type": "code",
   "execution_count": null,
   "id": "ba6e918f-d293-40f3-ab04-7eb6558affbd",
   "metadata": {},
   "outputs": [],
   "source": [
    "welfare_care_file.head(2)"
   ]
  },
  {
   "cell_type": "code",
   "execution_count": null,
   "id": "0823a78f-3997-49e0-a347-08828539e2e1",
   "metadata": {},
   "outputs": [],
   "source": [
    "welfare_care_file.columns"
   ]
  },
  {
   "cell_type": "code",
   "execution_count": null,
   "id": "23f26919-63e4-4a04-a5d9-c822d2e34140",
   "metadata": {},
   "outputs": [],
   "source": [
    "len(welfare_care_file)"
   ]
  },
  {
   "cell_type": "code",
   "execution_count": null,
   "id": "eaaa2d22-eaf4-4923-ac58-e2ae05f99989",
   "metadata": {},
   "outputs": [],
   "source": [
    "welfare_care_file = welfare_care_file.drop_duplicates(subset='시설명') "
   ]
  },
  {
   "cell_type": "code",
   "execution_count": null,
   "id": "42946c0c-b5dd-4939-b27e-e9da8156ba3c",
   "metadata": {},
   "outputs": [],
   "source": [
    "len(welfare_care_file)"
   ]
  },
  {
   "cell_type": "code",
   "execution_count": null,
   "id": "c6b9f380-21f8-4cf2-9ec1-1caed8735ced",
   "metadata": {},
   "outputs": [],
   "source": [
    "welfare_care_file = welfare_care_file.dropna(subset=['시설주소'])\n",
    "welfare_care_file = welfare_care_file[~welfare_care_file['시설주소'].str.startswith('경기도')]\n",
    "welfare_care_file = welfare_care_file[~welfare_care_file['시설주소'].str.startswith('강원도')]"
   ]
  },
  {
   "cell_type": "code",
   "execution_count": null,
   "id": "8dea924b-2f33-40e6-9184-4d2caad2aa04",
   "metadata": {},
   "outputs": [],
   "source": [
    "len(welfare_care_file)"
   ]
  },
  {
   "cell_type": "code",
   "execution_count": null,
   "id": "ee5626da-9c45-40ac-92fb-9f904e06d02c",
   "metadata": {},
   "outputs": [],
   "source": [
    "get_welfare_center_name = []\n",
    "get_welfare_center_x_y_location = []\n",
    "get_welfare_center_x = []\n",
    "get_welfare_center_y = []\n",
    "get_welfare_center_classification = []"
   ]
  },
  {
   "cell_type": "code",
   "execution_count": null,
   "id": "1542ae17-4f71-4ad1-8e1a-d0e9cdfe77e0",
   "metadata": {},
   "outputs": [],
   "source": [
    "welfare_center_address = welfare_care_file['시설주소'].to_list()"
   ]
  },
  {
   "cell_type": "code",
   "execution_count": null,
   "id": "e71f3682-d670-4f24-9987-d7c963a35dfd",
   "metadata": {},
   "outputs": [],
   "source": [
    "# 첫 번째 처리를 통해 괄호와 쉼표 뒤의 내용 삭제하고 공백도 제거\n",
    "cleaned_addresses_first = [re.sub(r'\\s?\\(.*\\)|\\s?,.*', '', address).strip() for address in welfare_center_address]\n",
    "\n",
    "# 두 번째 처리를 통해 괄호와 쉼표 뒤의 내용이 있는 경우 다시 삭제하고 공백도 제거\n",
    "cleaned_addresses_second = [re.sub(r'\\s?\\(.*\\)|\\s?,.*', '', address).strip() for address in cleaned_addresses_first]\n"
   ]
  },
  {
   "cell_type": "code",
   "execution_count": null,
   "id": "8bcbeb71-c943-40c9-a41b-396593451c4e",
   "metadata": {},
   "outputs": [],
   "source": [
    "temp_welfare_care_name = welfare_care_file['시설명'].to_list()\n",
    "\n",
    "for i in tqdm(range(len(cleaned_addresses_second))):\n",
    "# for i in tqdm(range(10)):\n",
    "    search_welfare_center_address = cleaned_addresses_second[i]\n",
    "    search_welfare_center_classification = '복지센터'\n",
    "    \n",
    "    temp_latitude, temp_longitude = get_lat_lon_from_address(search_welfare_center_address) \n",
    "    \n",
    "    # NoneType이 아닐 경우에만 언팩 후 처리\n",
    "    if temp_latitude is not None and temp_longitude is not None:\n",
    "        search_welfare_center_location_x_y = f'{temp_latitude}, {temp_longitude}'\n",
    "    \n",
    "        get_welfare_center_name.append(temp_welfare_care_name[i])\n",
    "        get_welfare_center_classification.append(search_welfare_center_classification)\n",
    "        get_welfare_center_x_y_location.append(search_welfare_center_location_x_y)\n",
    "        get_welfare_center_x.append(temp_latitude)\n",
    "        get_welfare_center_y.append(temp_longitude) \n"
   ]
  },
  {
   "cell_type": "code",
   "execution_count": null,
   "id": "9910da4a-d016-4331-a569-20c0cbd6ae59",
   "metadata": {},
   "outputs": [],
   "source": [
    "print(f\"찾은 시설의 수 : {len(get_welfare_center_name)}\")"
   ]
  },
  {
   "attachments": {
    "0523f7a0-be69-493b-bc97-8a638dd48695.png": {
     "image/png": "[encoded data removed]"
    }
   },
   "cell_type": "markdown",
   "id": "7ddae91e-8f84-4957-b54d-0f7a7e0053b5",
   "metadata": {},
   "source": [
    "- 필터링 없을 시 :\n",
    "  ![스크린샷 2025-03-26 오후 12.24.06.png](attachment:0523f7a0-be69-493b-bc97-8a638dd48695.png)"
   ]
  },
  {
   "cell_type": "markdown",
   "id": "4ff9dd6a-fed4-42a9-8356-22f6ff970ea9",
   "metadata": {},
   "source": [
    "### 복지센터 파일로 저장하기 위한 프레임워크화"
   ]
  },
  {
   "cell_type": "code",
   "execution_count": null,
   "id": "0c00e274-bca8-4b0d-9b69-e57c94e68cc7",
   "metadata": {},
   "outputs": [],
   "source": [
    "welfare_center_df = pd.DataFrame({\n",
    "    '구분' : get_welfare_center_classification, \n",
    "    '시설명' : get_welfare_center_name, \n",
    "    '위치' : get_welfare_center_x_y_location,\n",
    "    '위도' : get_welfare_center_x,\n",
    "    '경도' : get_welfare_center_y\n",
    "})"
   ]
  },
  {
   "cell_type": "code",
   "execution_count": null,
   "id": "44f89222-9c0a-4fc5-a1bc-285875e0d95d",
   "metadata": {},
   "outputs": [],
   "source": [
    "welfare_center_df.head()"
   ]
  },
  {
   "cell_type": "markdown",
   "id": "2fd658ee-8e79-4502-8b1a-402b88969eef",
   "metadata": {},
   "source": [
    "### 학교 위치를 csv 파일로 저장"
   ]
  },
  {
   "cell_type": "code",
   "execution_count": null,
   "id": "56180309-9f0f-4aeb-86ff-aa80589fde0f",
   "metadata": {},
   "outputs": [],
   "source": [
    "school_df.to_csv(f'{save_file_folder}/서울시_학교_위치.csv', encoding = sava_file_encoding)"
   ]
  },
  {
   "cell_type": "markdown",
   "id": "7ee9ef81-acbd-4130-b9a0-b2dc4cb646e3",
   "metadata": {},
   "source": [
    "### 아동센터 위치를 csv 파일로 저장"
   ]
  },
  {
   "cell_type": "code",
   "execution_count": null,
   "id": "5b3eafd5-c8a1-4419-aa26-9a64227756d7",
   "metadata": {},
   "outputs": [],
   "source": [
    "children_df.to_csv(f'{save_file_folder}/서울시_아동센터_위치.csv', encoding = sava_file_encoding)"
   ]
  },
  {
   "cell_type": "markdown",
   "id": "1fe525f0-8b2c-4258-8bbf-a4c06dcefaf3",
   "metadata": {},
   "source": [
    "### 어린이집 위치를 csv 파일로 저장"
   ]
  },
  {
   "cell_type": "code",
   "execution_count": null,
   "id": "386b4209-d71f-48d7-b269-2a84810d5f6f",
   "metadata": {},
   "outputs": [],
   "source": [
    "children_care_df.to_csv(f'{save_file_folder}/서울시_어린이집_위치.csv', encoding = sava_file_encoding)"
   ]
  },
  {
   "cell_type": "markdown",
   "id": "4b5e8a1c-156b-41e6-bd91-5327405c7f3c",
   "metadata": {},
   "source": [
    "### 복지센터 위치를 csv 파일로 저장"
   ]
  },
  {
   "cell_type": "code",
   "execution_count": null,
   "id": "61990a47-6a18-41f9-9a64-58173a414c95",
   "metadata": {},
   "outputs": [],
   "source": [
    "welfare_center_df.to_csv(f'{save_file_folder}/서울시_복지센터_위치.csv', encoding = sava_file_encoding)"
   ]
  },
  {
   "cell_type": "markdown",
   "id": "82c96f8f-42fa-4932-9bbf-6923acbda8f5",
   "metadata": {},
   "source": [
    "### 통합 파일로 저장하기 위한 데이터값 저장"
   ]
  },
  {
   "cell_type": "code",
   "execution_count": null,
   "id": "c0846612-a0bb-41be-9b8d-373d5bf4cfbd",
   "metadata": {},
   "outputs": [],
   "source": [
    "print(f\"통합구분 길이 : {len(all_list_classification)}\")\n",
    "print(f\"통합좌표 길이 : {len(all_list_location_x_y)}\")\n",
    "print(f\"위도좌표 길이 : {len(all_list_location_x)}\")\n",
    "print(f\"경도좌표 길이 : {len(all_list_location_y)}\")\n",
    "print(f\"통합이름 길이 : {len(all_list_name)}\")"
   ]
  },
  {
   "cell_type": "code",
   "execution_count": null,
   "id": "69b42dae-d807-4f5b-8009-5f48c8278fe2",
   "metadata": {},
   "outputs": [],
   "source": [
    "# 통합 파일에 학교 정보를 저장\n",
    "for i in range(len(get_school_name)) :\n",
    "    all_list_classification.append('학교')\n",
    "    all_list_location_x_y.append(get_school_location_x_y[i])\n",
    "    all_list_name.append(get_school_name[i])\n",
    "    all_list_location_x.append(get_school_location_x[i])\n",
    "    all_list_location_y.append(get_school_location_y[i])"
   ]
  },
  {
   "cell_type": "code",
   "execution_count": null,
   "id": "434c886f-1057-4949-a16a-653607778819",
   "metadata": {},
   "outputs": [],
   "source": [
    "print(f\"통합구분 길이 : {len(all_list_classification)}\")\n",
    "print(f\"통합좌표 길이 : {len(all_list_location_x_y)}\")\n",
    "print(f\"위도좌표 길이 : {len(all_list_location_x)}\")\n",
    "print(f\"경도좌표 길이 : {len(all_list_location_y)}\")\n",
    "print(f\"통합이름 길이 : {len(all_list_name)}\")"
   ]
  },
  {
   "cell_type": "code",
   "execution_count": null,
   "id": "f5f1194f-3a56-42bf-aac1-08ef329b7cc4",
   "metadata": {},
   "outputs": [],
   "source": [
    "# 통합 파일에 아동센터 정보를 저장\n",
    "for i in range(len(get_children_center_name)) :\n",
    "    all_list_classification.append('아동센터')\n",
    "    all_list_name.append(get_children_center_name[i])\n",
    "    all_list_location_x_y.append(get_children_center_x_y_location[i])\n",
    "    all_list_location_x.append(get_children_center_x[i]) \n",
    "    all_list_location_y.append(get_children_center_y[i]) \n",
    "    "
   ]
  },
  {
   "cell_type": "code",
   "execution_count": null,
   "id": "ef285093-e2a9-4ace-8ee9-8f85ef4f2be6",
   "metadata": {},
   "outputs": [],
   "source": [
    "print(f\"통합구분 길이 : {len(all_list_classification)}\")\n",
    "print(f\"통합좌표 길이 : {len(all_list_location_x_y)}\")\n",
    "print(f\"위도좌표 길이 : {len(all_list_location_x)}\")\n",
    "print(f\"경도좌표 길이 : {len(all_list_location_y)}\")\n",
    "print(f\"통합이름 길이 : {len(all_list_name)}\")"
   ]
  },
  {
   "cell_type": "code",
   "execution_count": null,
   "id": "a0344cd4-cf9f-4674-81cd-8fdaecf0f493",
   "metadata": {},
   "outputs": [],
   "source": [
    "# 통합 파일에 어린이집 정보를 저장\n",
    "for i in range(len(get_children_care_name)) :\n",
    "    all_list_classification.append('어린이집')\n",
    "    all_list_name.append(get_children_care_name[i])\n",
    "    all_list_location_x_y.append(get_children_care_location_x_y[i])\n",
    "    all_list_location_x.append(get_children_care_location_x[i]) \n",
    "    all_list_location_y.append(get_children_care_location_y[i]) \n",
    "    "
   ]
  },
  {
   "cell_type": "code",
   "execution_count": null,
   "id": "4cccd267-2022-4d7a-b2be-aae0bc8b5117",
   "metadata": {},
   "outputs": [],
   "source": [
    "print(f\"통합구분 길이 : {len(all_list_classification)}\")\n",
    "print(f\"통합좌표 길이 : {len(all_list_location_x_y)}\")\n",
    "print(f\"위도좌표 길이 : {len(all_list_location_x)}\")\n",
    "print(f\"경도좌표 길이 : {len(all_list_location_y)}\")\n",
    "print(f\"통합이름 길이 : {len(all_list_name)}\")"
   ]
  },
  {
   "cell_type": "code",
   "execution_count": null,
   "id": "2249be60-a1d0-4844-8b67-31bb4c8252b3",
   "metadata": {},
   "outputs": [],
   "source": [
    "# 통합 파일에 복지센터 정보를 저장\n",
    "for i in range(len(get_welfare_center_name)) :\n",
    "    all_list_classification.append('복지센터')\n",
    "    all_list_name.append(get_welfare_center_name[i])\n",
    "    all_list_location_x_y.append(get_welfare_center_x_y_location[i])\n",
    "    all_list_location_x.append(get_welfare_center_x[i]) \n",
    "    all_list_location_y.append(get_welfare_center_y[i]) "
   ]
  },
  {
   "cell_type": "code",
   "execution_count": null,
   "id": "a29cf2a8-2728-4437-ba49-0a575805ac43",
   "metadata": {},
   "outputs": [],
   "source": [
    "print(f\"통합구분 길이 : {len(all_list_classification)}\")\n",
    "print(f\"통합좌표 길이 : {len(all_list_location_x_y)}\")\n",
    "print(f\"위도좌표 길이 : {len(all_list_location_x)}\")\n",
    "print(f\"경도좌표 길이 : {len(all_list_location_y)}\")\n",
    "print(f\"통합이름 길이 : {len(all_list_name)}\")"
   ]
  },
  {
   "cell_type": "markdown",
   "id": "85de57b1-53ff-4a21-9d0e-5618ee1f8810",
   "metadata": {},
   "source": [
    "### 통합 데이터 파일을 csv 파일로 저장"
   ]
  },
  {
   "cell_type": "code",
   "execution_count": null,
   "id": "ce1b36d0-b809-44f7-850f-1aa6a8663c7b",
   "metadata": {},
   "outputs": [],
   "source": [
    "# 통합 데이터 저장\n",
    "\n",
    "all_list_df = pd.DataFrame({\n",
    "    '시설_구분' : all_list_classification,\n",
    "    '시설_이름' : all_list_name,\n",
    "    '시설_위치' : all_list_location_x_y,\n",
    "    '위도' : all_list_location_x,\n",
    "    '경도' : all_list_location_y\n",
    "})\n",
    "\n",
    "all_list_df.to_csv(f'{folder_name_2}/서울시_모든_시설의_위치.csv', encoding = sava_file_encoding)"
   ]
  },
  {
   "cell_type": "code",
   "execution_count": null,
   "id": "92fa43a2-d5c4-48b4-af90-0ef1d71c286e",
   "metadata": {},
   "outputs": [],
   "source": [
    "print(f'시스템 종료')"
   ]
  },
  {
   "cell_type": "code",
   "execution_count": null,
   "id": "1a00e5eb-eda6-4691-9654-764a1b582a77",
   "metadata": {},
   "outputs": [],
   "source": []
  },
  {
   "cell_type": "code",
   "execution_count": null,
   "id": "06c15934-e5dd-4442-b370-8cdc16f5b720",
   "metadata": {},
   "outputs": [],
   "source": []
  },
  {
   "cell_type": "code",
   "execution_count": null,
   "id": "89d45f28-c6fc-4271-a3be-b5fb7d6027a4",
   "metadata": {},
   "outputs": [],
   "source": []
  }
 ],
 "metadata": {
  "kernelspec": {
   "display_name": "Python 3 (ipykernel)",
   "language": "python",
   "name": "python3"
  },
  "language_info": {
   "codemirror_mode": {
    "name": "ipython",
    "version": 3
   },
   "file_extension": ".py",
   "mimetype": "text/x-python",
   "name": "python",
   "nbconvert_exporter": "python",
   "pygments_lexer": "ipython3",
   "version": "3.13.2"
  }
 },
 "nbformat": 4,
 "nbformat_minor": 5
}
