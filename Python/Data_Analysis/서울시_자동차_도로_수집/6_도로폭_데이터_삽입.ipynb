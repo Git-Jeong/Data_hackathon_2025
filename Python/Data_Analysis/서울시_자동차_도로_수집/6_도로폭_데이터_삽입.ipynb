{
 "cells": [
  {
   "cell_type": "code",
   "execution_count": 1,
   "id": "a00d0e90-69e6-4868-8f1c-b197a51db949",
   "metadata": {},
   "outputs": [],
   "source": [
    "import pandas as pd\n",
    "from sklearn.model_selection import train_test_split\n",
    "from sklearn.preprocessing import LabelEncoder \n",
    "from sklearn.metrics import mean_squared_error\n",
    "from sklearn.linear_model import LinearRegression\n",
    "from sklearn.model_selection import train_test_split\n",
    "from sklearn.preprocessing import LabelEncoder\n",
    "import numpy as np"
   ]
  },
  {
   "cell_type": "code",
   "execution_count": 2,
   "id": "5f591c64-4aa4-4891-a012-24c128de54d7",
   "metadata": {},
   "outputs": [],
   "source": [
    "file_url = \"./make_file/(통합)_서울시_도로_리스트.csv\"\n",
    "road_url = \"./data/서울시 도로노선 정보.csv\"\n"
   ]
  },
  {
   "cell_type": "code",
   "execution_count": 4,
   "id": "d041053a-9baa-43a1-b572-6ad7e5ed5725",
   "metadata": {},
   "outputs": [],
   "source": [
    "# data = pd.read_csv(file_url, encoding=\"UTF-8\", low_memory=False)\n",
    "road_data = pd.read_csv(road_url, encoding=\"EUC-KR\", low_memory=False)"
   ]
  },
  {
   "cell_type": "code",
   "execution_count": 4,
   "id": "47a03274-f269-402b-bf66-d3658e09fb49",
   "metadata": {},
   "outputs": [
    {
     "data": {
      "text/html": [
       "<div>\n",
       "<style scoped>\n",
       "    .dataframe tbody tr th:only-of-type {\n",
       "        vertical-align: middle;\n",
       "    }\n",
       "\n",
       "    .dataframe tbody tr th {\n",
       "        vertical-align: top;\n",
       "    }\n",
       "\n",
       "    .dataframe thead th {\n",
       "        text-align: right;\n",
       "    }\n",
       "</style>\n",
       "<table border=\"1\" class=\"dataframe\">\n",
       "  <thead>\n",
       "    <tr style=\"text-align: right;\">\n",
       "      <th></th>\n",
       "      <th>도로명</th>\n",
       "      <th>열선</th>\n",
       "      <th>도로 종류</th>\n",
       "      <th>시작점_위도</th>\n",
       "      <th>시작점_경도</th>\n",
       "      <th>종료점_위도</th>\n",
       "      <th>종료점_경도</th>\n",
       "      <th>중앙점_위도</th>\n",
       "      <th>중앙점_경도</th>\n",
       "      <th>도로_길이</th>\n",
       "      <th>행정동</th>\n",
       "    </tr>\n",
       "  </thead>\n",
       "  <tbody>\n",
       "    <tr>\n",
       "      <th>0</th>\n",
       "      <td>보광로12길</td>\n",
       "      <td>0</td>\n",
       "      <td>주거지 도로</td>\n",
       "      <td>37.526615</td>\n",
       "      <td>127.000794</td>\n",
       "      <td>37.526707</td>\n",
       "      <td>127.001085</td>\n",
       "      <td>37.526661</td>\n",
       "      <td>127.000940</td>\n",
       "      <td>27.605333</td>\n",
       "      <td>보광동</td>\n",
       "    </tr>\n",
       "    <tr>\n",
       "      <th>1</th>\n",
       "      <td>보광로12길</td>\n",
       "      <td>0</td>\n",
       "      <td>주거지 도로</td>\n",
       "      <td>37.526615</td>\n",
       "      <td>127.000794</td>\n",
       "      <td>37.526500</td>\n",
       "      <td>127.000620</td>\n",
       "      <td>37.526558</td>\n",
       "      <td>127.000707</td>\n",
       "      <td>20.002271</td>\n",
       "      <td>보광동</td>\n",
       "    </tr>\n",
       "  </tbody>\n",
       "</table>\n",
       "</div>"
      ],
      "text/plain": [
       "      도로명  열선   도로 종류     시작점_위도      시작점_경도     종료점_위도      종료점_경도  \\\n",
       "0  보광로12길   0  주거지 도로  37.526615  127.000794  37.526707  127.001085   \n",
       "1  보광로12길   0  주거지 도로  37.526615  127.000794  37.526500  127.000620   \n",
       "\n",
       "      중앙점_위도      중앙점_경도      도로_길이  행정동  \n",
       "0  37.526661  127.000940  27.605333  보광동  \n",
       "1  37.526558  127.000707  20.002271  보광동  "
      ]
     },
     "execution_count": 4,
     "metadata": {},
     "output_type": "execute_result"
    }
   ],
   "source": [
    "data.head(2)"
   ]
  },
  {
   "cell_type": "code",
   "execution_count": 5,
   "id": "14aa9a98-1f57-4234-982c-39da647ceb4e",
   "metadata": {},
   "outputs": [
    {
     "data": {
      "text/plain": [
       "도로명\n",
       "한천로                         234\n",
       "통일로                         233\n",
       "통일로 중앙버스전용차로                213\n",
       "남부순환로                       204\n",
       "오패산로                        200\n",
       "                           ... \n",
       "['선유로43나길', '선유로43가길']        1\n",
       "['갈현로43길', '갈현로41길']          1\n",
       "['선유로43길', '양평로21길']          1\n",
       "['성내천로33가길', '성내천로29다길']      1\n",
       "['독산로29길', '독산로25길']          1\n",
       "Name: count, Length: 12513, dtype: int64"
      ]
     },
     "execution_count": 5,
     "metadata": {},
     "output_type": "execute_result"
    }
   ],
   "source": [
    "data['도로명'].value_counts()"
   ]
  },
  {
   "cell_type": "code",
   "execution_count": 7,
   "id": "ecaa8743-9792-45d4-82c9-b82bf382c6b7",
   "metadata": {},
   "outputs": [
    {
     "data": {
      "text/html": [
       "<div>\n",
       "<style scoped>\n",
       "    .dataframe tbody tr th:only-of-type {\n",
       "        vertical-align: middle;\n",
       "    }\n",
       "\n",
       "    .dataframe tbody tr th {\n",
       "        vertical-align: top;\n",
       "    }\n",
       "\n",
       "    .dataframe thead th {\n",
       "        text-align: right;\n",
       "    }\n",
       "</style>\n",
       "<table border=\"1\" class=\"dataframe\">\n",
       "  <thead>\n",
       "    <tr style=\"text-align: right;\">\n",
       "      <th></th>\n",
       "      <th>순번</th>\n",
       "      <th>노선명(도로명)</th>\n",
       "      <th>도로종류</th>\n",
       "      <th>도로기능</th>\n",
       "      <th>도로규모</th>\n",
       "      <th>도로폭</th>\n",
       "    </tr>\n",
       "  </thead>\n",
       "  <tbody>\n",
       "    <tr>\n",
       "      <th>0</th>\n",
       "      <td>1</td>\n",
       "      <td>가락로</td>\n",
       "      <td>일반도로</td>\n",
       "      <td>국지도로</td>\n",
       "      <td>소로3류</td>\n",
       "      <td>폭6-8m</td>\n",
       "    </tr>\n",
       "    <tr>\n",
       "      <th>1</th>\n",
       "      <td>2</td>\n",
       "      <td>가락로11길</td>\n",
       "      <td>일반도로</td>\n",
       "      <td>국지도로</td>\n",
       "      <td>소로</td>\n",
       "      <td>6m미만</td>\n",
       "    </tr>\n",
       "    <tr>\n",
       "      <th>2</th>\n",
       "      <td>3</td>\n",
       "      <td>가락로12길</td>\n",
       "      <td>일반도로</td>\n",
       "      <td>국지도로</td>\n",
       "      <td>소로2류</td>\n",
       "      <td>폭8-10m</td>\n",
       "    </tr>\n",
       "    <tr>\n",
       "      <th>3</th>\n",
       "      <td>4</td>\n",
       "      <td>가락로13길</td>\n",
       "      <td>일반도로</td>\n",
       "      <td>국지도로</td>\n",
       "      <td>소로</td>\n",
       "      <td>6m미만</td>\n",
       "    </tr>\n",
       "    <tr>\n",
       "      <th>4</th>\n",
       "      <td>5</td>\n",
       "      <td>가락로15길</td>\n",
       "      <td>일반도로</td>\n",
       "      <td>국지도로</td>\n",
       "      <td>소로</td>\n",
       "      <td>6m미만</td>\n",
       "    </tr>\n",
       "  </tbody>\n",
       "</table>\n",
       "</div>"
      ],
      "text/plain": [
       "   순번 노선명(도로명)  도로종류  도로기능  도로규모     도로폭\n",
       "0   1      가락로  일반도로  국지도로  소로3류   폭6-8m\n",
       "1   2   가락로11길  일반도로  국지도로    소로    6m미만\n",
       "2   3   가락로12길  일반도로  국지도로  소로2류  폭8-10m\n",
       "3   4   가락로13길  일반도로  국지도로    소로    6m미만\n",
       "4   5   가락로15길  일반도로  국지도로    소로    6m미만"
      ]
     },
     "execution_count": 7,
     "metadata": {},
     "output_type": "execute_result"
    }
   ],
   "source": [
    "road_data.head()"
   ]
  },
  {
   "cell_type": "code",
   "execution_count": 13,
   "id": "3a017a07-c9a0-42de-81f3-e4b65421bb02",
   "metadata": {},
   "outputs": [
    {
     "data": {
      "text/plain": [
       "도로폭\n",
       "6m미만       21454\n",
       "폭6-8m       3222\n",
       "폭8-10m      1223\n",
       "폭20-25m      599\n",
       "폭10-12m      598\n",
       "폭15-20m      479\n",
       "폭25-30m      108\n",
       "폭30-35m       49\n",
       "폭35-40m       22\n",
       "폭40-50m       14\n",
       "폭50-70m        4\n",
       "폭12-15m        3\n",
       "Name: count, dtype: int64"
      ]
     },
     "execution_count": 13,
     "metadata": {},
     "output_type": "execute_result"
    }
   ],
   "source": [
    "road_data['도로폭'].value_counts()"
   ]
  },
  {
   "cell_type": "code",
   "execution_count": 7,
   "id": "0e848116-aff8-4aa5-a778-cc7056a45f6f",
   "metadata": {},
   "outputs": [],
   "source": [
    "road_data.rename(columns={'노선명(도로명)': '도로명'}, inplace=True)"
   ]
  },
  {
   "cell_type": "code",
   "execution_count": 8,
   "id": "652035b0-1302-438e-a46e-6c79ae1ff31c",
   "metadata": {},
   "outputs": [],
   "source": [
    "# '도로기능'이 \"도시고속도로\"이거나 '도로종류'가 \"자동차전용도로\"인 행 삭제\n",
    "road_data = road_data[~((road_data['도로기능'] == '도시고속도로') | (road_data['도로종류'] == '자동차전용도로'))]"
   ]
  },
  {
   "cell_type": "code",
   "execution_count": 9,
   "id": "16b45fc7-469e-418d-b1e9-5fc6283e5755",
   "metadata": {},
   "outputs": [
    {
     "data": {
      "text/plain": [
       "도로폭\n",
       "6m미만       21454\n",
       "폭6-8m       3222\n",
       "폭8-10m      1221\n",
       "폭10-12m      598\n",
       "폭20-25m      598\n",
       "폭15-20m      478\n",
       "폭25-30m      104\n",
       "폭30-35m       49\n",
       "폭35-40m       22\n",
       "폭40-50m       12\n",
       "폭50-70m        4\n",
       "폭12-15m        3\n",
       "Name: count, dtype: int64"
      ]
     },
     "execution_count": 9,
     "metadata": {},
     "output_type": "execute_result"
    }
   ],
   "source": [
    "road_data['도로폭'].value_counts()"
   ]
  },
  {
   "cell_type": "code",
   "execution_count": 10,
   "id": "a0bd88d8-ed3b-4db6-adb0-6ba40c39e6d1",
   "metadata": {},
   "outputs": [
    {
     "data": {
      "text/plain": [
       "도로규모\n",
       "소로      21454\n",
       "소로3류     3222\n",
       "소로2류     1221\n",
       "소로1류      598\n",
       "중로1류      598\n",
       "중로2류      478\n",
       "확인불가      379\n",
       "대로3류      104\n",
       "대로2류       49\n",
       "대로1류       22\n",
       "광로3류       12\n",
       "광로2류        4\n",
       "중로3류        3\n",
       "Name: count, dtype: int64"
      ]
     },
     "execution_count": 10,
     "metadata": {},
     "output_type": "execute_result"
    }
   ],
   "source": [
    "road_data['도로규모'].value_counts()"
   ]
  },
  {
   "cell_type": "code",
   "execution_count": 11,
   "id": "35b03891-9c0a-4de3-b1de-4d77f38b9636",
   "metadata": {},
   "outputs": [],
   "source": [
    "# 도로폭 구간과 평균값 매핑\n",
    "mapping = {\n",
    "    '6m미만': 3,\n",
    "    '폭6-8m': 7,\n",
    "    '폭8-10m': 9,\n",
    "    '폭10-12m': 11,\n",
    "    '폭12-15m': 13.5,\n",
    "    '폭15-20m': 17.5,\n",
    "    '폭20-25m': 22.5,\n",
    "    '폭25-30m': 27.5,\n",
    "    '폭30-35m': 32.5,\n",
    "    '폭35-40m': 37.5,\n",
    "    '폭40-50m': 45,\n",
    "    '폭50-70m': 60\n",
    "}\n",
    "\n",
    "# 도로폭 컬럼을 평균값으로 치환\n",
    "# road_data['도로폭'] = road_data['도로폭'].map(mapping)"
   ]
  },
  {
   "cell_type": "code",
   "execution_count": 12,
   "id": "069118a9-e304-445a-bf2d-5fafe97c99b9",
   "metadata": {},
   "outputs": [],
   "source": [
    "# 도로규모 매핑 딕셔너리 정의\n",
    "도로규모_mapping = {\n",
    "    '소로': 1,\n",
    "    '소로3류': 2,\n",
    "    '소로2류': 3,\n",
    "    '중로1류': 4,\n",
    "    '소로1류': 5,\n",
    "    '중로2류': 6,\n",
    "    '대로3류': 7,\n",
    "    '대로2류': 8,\n",
    "    '대로1류': 9,\n",
    "    '광로3류': 10,\n",
    "    '광로2류': 11,\n",
    "    '중로3류': 12,\n",
    "    '확인불가': None  # '확인불가'는 None으로 처리\n",
    "}\n",
    "\n",
    "# 도로규모 컬럼을 매핑 적용\n",
    "# road_data['도로규모'] = road_data['도로규모'].map(도로규모_mapping)\n",
    "road_data['도로규모'] = road_data['도로규모'].replace('확인불가', None)"
   ]
  },
  {
   "cell_type": "code",
   "execution_count": 13,
   "id": "fa9b263d-7534-4f89-a460-fa13462af26f",
   "metadata": {},
   "outputs": [
    {
     "data": {
      "text/plain": [
       "Index(['순번', '도로명', '도로종류', '도로기능', '도로규모', '도로폭'], dtype='object')"
      ]
     },
     "execution_count": 13,
     "metadata": {},
     "output_type": "execute_result"
    }
   ],
   "source": [
    "road_data.columns"
   ]
  },
  {
   "cell_type": "code",
   "execution_count": 14,
   "id": "3905d277-4d75-4994-a203-8627aec01ca7",
   "metadata": {},
   "outputs": [
    {
     "name": "stdout",
     "output_type": "stream",
     "text": [
      "0\n",
      "379\n",
      "379\n",
      "0\n",
      "0\n",
      "0\n"
     ]
    }
   ],
   "source": [
    "print(f\"{road_data['도로명'].isnull().sum()}\")\n",
    "print(f\"{road_data['도로규모'].isnull().sum()}\")\n",
    "print(f\"{road_data['도로폭'].isnull().sum()}\") \n",
    "\n",
    "road_data = road_data.dropna(subset=['도로규모', '도로폭'], how='all')\n",
    "\n",
    "print(f\"{road_data['도로명'].isnull().sum()}\")\n",
    "print(f\"{road_data['도로규모'].isnull().sum()}\")\n",
    "print(f\"{road_data['도로폭'].isnull().sum()}\") "
   ]
  },
  {
   "cell_type": "code",
   "execution_count": 15,
   "id": "001941b6-653e-4dac-b14c-5fb747f316d2",
   "metadata": {},
   "outputs": [],
   "source": [
    "# 기존의 road_data를 복사하여 처리\n",
    "new_rows = []\n",
    "\n",
    "# road_data의 모든 행에 대해 반복\n",
    "for _, row in road_data.iterrows():\n",
    "    # '도로명'을 '~'로 분리하여 앞과 뒤로 나눈 후 새로운 행을 추가\n",
    "    if '~' in row['도로명']:  # '~'가 있는 경우만 처리\n",
    "        도로명_앞, 도로명_뒤 = row['도로명'].split('~')\n",
    "        \n",
    "        # 앞 도로명 추가\n",
    "        new_rows.append({\n",
    "            '순번': row['순번'],\n",
    "            '도로명': 도로명_앞,\n",
    "            '도로종류': row['도로종류'],\n",
    "            '도로기능': row['도로기능'],\n",
    "            '도로규모': row['도로규모'],\n",
    "            '도로폭': row['도로폭']\n",
    "        })\n",
    "        \n",
    "        # 뒤 도로명 추가\n",
    "        new_rows.append({\n",
    "            '순번': row['순번'],\n",
    "            '도로명': 도로명_뒤,\n",
    "            '도로종류': row['도로종류'],\n",
    "            '도로기능': row['도로기능'],\n",
    "            '도로규모': row['도로규모'],\n",
    "            '도로폭': row['도로폭']\n",
    "        })\n",
    "    else:\n",
    "        # '~'가 없는 경우 기존 데이터를 그대로 추가\n",
    "        new_rows.append({\n",
    "            '순번': row['순번'],\n",
    "            '도로명': row['도로명'],\n",
    "            '도로종류': row['도로종류'],\n",
    "            '도로기능': row['도로기능'],\n",
    "            '도로규모': row['도로규모'],\n",
    "            '도로폭': row['도로폭']\n",
    "        })\n",
    "\n",
    "# 새로운 데이터프레임으로 변환하여 기존 road_data에 덮어쓰기\n",
    "road_data = pd.DataFrame(new_rows)\n"
   ]
  },
  {
   "cell_type": "code",
   "execution_count": 16,
   "id": "0ad7c9f7-170b-4738-b99c-2d9e92055297",
   "metadata": {},
   "outputs": [],
   "source": [
    "road_data = road_data.drop_duplicates(subset='도로명', keep='first')\n",
    "\n",
    "# 중복된 '도로명' 출력\n",
    "duplicates = road_data[road_data.duplicated(subset='도로명', keep=False)]\n",
    "\n",
    "# 중복된 '도로명' 출력\n",
    "for idx, row in duplicates.iterrows():\n",
    "    print(f\"{row}\")"
   ]
  },
  {
   "cell_type": "code",
   "execution_count": 17,
   "id": "3e484b6f-50e0-4853-9bbe-44b6bf0694b8",
   "metadata": {},
   "outputs": [],
   "source": [
    "# '도로폭'과 '도로규모' 데이터를 '도로명'을 기준으로 매핑\n",
    "data['도로폭'] = data['도로명'].map(road_data.set_index('도로명')['도로폭'])\n",
    "data['도로규모'] = data['도로명'].map(road_data.set_index('도로명')['도로규모'])"
   ]
  },
  {
   "cell_type": "code",
   "execution_count": 18,
   "id": "e0a1f804-fdf7-4e36-a721-471d151f2525",
   "metadata": {},
   "outputs": [
    {
     "data": {
      "text/plain": [
       "도로폭\n",
       "6m미만       112049\n",
       "폭6-8m       28136\n",
       "폭8-10m       9170\n",
       "폭10-12m      3754\n",
       "폭20-25m      3076\n",
       "폭15-20m      2709\n",
       "폭25-30m       390\n",
       "폭30-35m        93\n",
       "폭35-40m         2\n",
       "Name: count, dtype: int64"
      ]
     },
     "execution_count": 18,
     "metadata": {},
     "output_type": "execute_result"
    }
   ],
   "source": [
    "data['도로폭'].value_counts()"
   ]
  },
  {
   "cell_type": "code",
   "execution_count": 19,
   "id": "57c1f8c5-248f-4ea0-9707-c14c9b3f2511",
   "metadata": {},
   "outputs": [
    {
     "data": {
      "text/plain": [
       "도로규모\n",
       "소로      112049\n",
       "소로3류     28136\n",
       "소로2류      9170\n",
       "소로1류      3754\n",
       "중로1류      3076\n",
       "중로2류      2709\n",
       "대로3류       390\n",
       "대로2류        93\n",
       "대로1류         2\n",
       "Name: count, dtype: int64"
      ]
     },
     "execution_count": 19,
     "metadata": {},
     "output_type": "execute_result"
    }
   ],
   "source": [
    "data['도로규모'].value_counts()"
   ]
  },
  {
   "cell_type": "code",
   "execution_count": 20,
   "id": "d767e0d6-1dce-4b4b-aaa8-717004046357",
   "metadata": {},
   "outputs": [
    {
     "data": {
      "text/plain": [
       "도로명          0\n",
       "열선           0\n",
       "도로 종류     1310\n",
       "시작점_위도       0\n",
       "시작점_경도       0\n",
       "종료점_위도       0\n",
       "종료점_경도       0\n",
       "중앙점_위도       0\n",
       "중앙점_경도       0\n",
       "도로_길이        0\n",
       "행정동          0\n",
       "도로폭       1983\n",
       "도로규모      1983\n",
       "dtype: int64"
      ]
     },
     "execution_count": 20,
     "metadata": {},
     "output_type": "execute_result"
    }
   ],
   "source": [
    "data.isnull().sum()"
   ]
  },
  {
   "cell_type": "code",
   "execution_count": 21,
   "id": "affde836-4949-45f1-b40b-addce4a5e835",
   "metadata": {},
   "outputs": [
    {
     "data": {
      "text/plain": [
       "행정동\n",
       "미아동       4942\n",
       "수유동       4679\n",
       "신림동       3845\n",
       "화곡동       3148\n",
       "상계동       2762\n",
       "          ... \n",
       "남대문로3가       1\n",
       "장암동          1\n",
       "향동동          1\n",
       "회현동          1\n",
       "훈정동          1\n",
       "Name: count, Length: 463, dtype: int64"
      ]
     },
     "execution_count": 21,
     "metadata": {},
     "output_type": "execute_result"
    }
   ],
   "source": [
    "data['행정동'].value_counts()"
   ]
  },
  {
   "cell_type": "code",
   "execution_count": 22,
   "id": "5f6a0978-c415-4f9b-8bf1-8ea81628aef2",
   "metadata": {},
   "outputs": [
    {
     "data": {
      "text/html": [
       "<div>\n",
       "<style scoped>\n",
       "    .dataframe tbody tr th:only-of-type {\n",
       "        vertical-align: middle;\n",
       "    }\n",
       "\n",
       "    .dataframe tbody tr th {\n",
       "        vertical-align: top;\n",
       "    }\n",
       "\n",
       "    .dataframe thead th {\n",
       "        text-align: right;\n",
       "    }\n",
       "</style>\n",
       "<table border=\"1\" class=\"dataframe\">\n",
       "  <thead>\n",
       "    <tr style=\"text-align: right;\">\n",
       "      <th></th>\n",
       "      <th>도로명</th>\n",
       "      <th>열선</th>\n",
       "      <th>도로 종류</th>\n",
       "      <th>시작점_위도</th>\n",
       "      <th>시작점_경도</th>\n",
       "      <th>종료점_위도</th>\n",
       "      <th>종료점_경도</th>\n",
       "      <th>중앙점_위도</th>\n",
       "      <th>중앙점_경도</th>\n",
       "      <th>도로_길이</th>\n",
       "      <th>행정동</th>\n",
       "      <th>도로폭</th>\n",
       "      <th>도로규모</th>\n",
       "    </tr>\n",
       "  </thead>\n",
       "  <tbody>\n",
       "    <tr>\n",
       "      <th>0</th>\n",
       "      <td>보광로12길</td>\n",
       "      <td>0</td>\n",
       "      <td>주거지 도로</td>\n",
       "      <td>37.526615</td>\n",
       "      <td>127.000794</td>\n",
       "      <td>37.526707</td>\n",
       "      <td>127.001085</td>\n",
       "      <td>37.526661</td>\n",
       "      <td>127.000940</td>\n",
       "      <td>27.605333</td>\n",
       "      <td>보광동</td>\n",
       "      <td>6m미만</td>\n",
       "      <td>소로</td>\n",
       "    </tr>\n",
       "    <tr>\n",
       "      <th>1</th>\n",
       "      <td>보광로12길</td>\n",
       "      <td>0</td>\n",
       "      <td>주거지 도로</td>\n",
       "      <td>37.526615</td>\n",
       "      <td>127.000794</td>\n",
       "      <td>37.526500</td>\n",
       "      <td>127.000620</td>\n",
       "      <td>37.526558</td>\n",
       "      <td>127.000707</td>\n",
       "      <td>20.002271</td>\n",
       "      <td>보광동</td>\n",
       "      <td>6m미만</td>\n",
       "      <td>소로</td>\n",
       "    </tr>\n",
       "    <tr>\n",
       "      <th>2</th>\n",
       "      <td>보광로14길</td>\n",
       "      <td>0</td>\n",
       "      <td>주거지 도로</td>\n",
       "      <td>37.526615</td>\n",
       "      <td>127.000794</td>\n",
       "      <td>37.527184</td>\n",
       "      <td>127.000468</td>\n",
       "      <td>37.526900</td>\n",
       "      <td>127.000631</td>\n",
       "      <td>69.877541</td>\n",
       "      <td>보광동</td>\n",
       "      <td>6m미만</td>\n",
       "      <td>소로</td>\n",
       "    </tr>\n",
       "    <tr>\n",
       "      <th>3</th>\n",
       "      <td>보광로7길</td>\n",
       "      <td>0</td>\n",
       "      <td>주거지 도로</td>\n",
       "      <td>37.525964</td>\n",
       "      <td>126.997422</td>\n",
       "      <td>37.525748</td>\n",
       "      <td>126.998131</td>\n",
       "      <td>37.525856</td>\n",
       "      <td>126.997777</td>\n",
       "      <td>66.892380</td>\n",
       "      <td>보광동</td>\n",
       "      <td>6m미만</td>\n",
       "      <td>소로</td>\n",
       "    </tr>\n",
       "    <tr>\n",
       "      <th>4</th>\n",
       "      <td>장문로</td>\n",
       "      <td>0</td>\n",
       "      <td>3차로</td>\n",
       "      <td>37.525964</td>\n",
       "      <td>126.997422</td>\n",
       "      <td>37.525966</td>\n",
       "      <td>126.997165</td>\n",
       "      <td>37.525965</td>\n",
       "      <td>126.997294</td>\n",
       "      <td>22.682960</td>\n",
       "      <td>보광동</td>\n",
       "      <td>6m미만</td>\n",
       "      <td>소로</td>\n",
       "    </tr>\n",
       "    <tr>\n",
       "      <th>...</th>\n",
       "      <td>...</td>\n",
       "      <td>...</td>\n",
       "      <td>...</td>\n",
       "      <td>...</td>\n",
       "      <td>...</td>\n",
       "      <td>...</td>\n",
       "      <td>...</td>\n",
       "      <td>...</td>\n",
       "      <td>...</td>\n",
       "      <td>...</td>\n",
       "      <td>...</td>\n",
       "      <td>...</td>\n",
       "      <td>...</td>\n",
       "    </tr>\n",
       "    <tr>\n",
       "      <th>161357</th>\n",
       "      <td>천호대로125길</td>\n",
       "      <td>0</td>\n",
       "      <td>주거지 도로</td>\n",
       "      <td>37.554907</td>\n",
       "      <td>127.087447</td>\n",
       "      <td>37.554335</td>\n",
       "      <td>127.087071</td>\n",
       "      <td>37.554621</td>\n",
       "      <td>127.087259</td>\n",
       "      <td>71.710310</td>\n",
       "      <td>중곡동</td>\n",
       "      <td>6m미만</td>\n",
       "      <td>소로</td>\n",
       "    </tr>\n",
       "    <tr>\n",
       "      <th>161358</th>\n",
       "      <td>천호대로119길</td>\n",
       "      <td>0</td>\n",
       "      <td>주거지 도로</td>\n",
       "      <td>37.556081</td>\n",
       "      <td>127.086125</td>\n",
       "      <td>37.556026</td>\n",
       "      <td>127.086131</td>\n",
       "      <td>37.556054</td>\n",
       "      <td>127.086128</td>\n",
       "      <td>6.118745</td>\n",
       "      <td>중곡동</td>\n",
       "      <td>6m미만</td>\n",
       "      <td>소로</td>\n",
       "    </tr>\n",
       "    <tr>\n",
       "      <th>161359</th>\n",
       "      <td>용마산로3길</td>\n",
       "      <td>0</td>\n",
       "      <td>주거지 도로</td>\n",
       "      <td>37.556081</td>\n",
       "      <td>127.086125</td>\n",
       "      <td>37.556115</td>\n",
       "      <td>127.086474</td>\n",
       "      <td>37.556098</td>\n",
       "      <td>127.086299</td>\n",
       "      <td>31.035093</td>\n",
       "      <td>중곡동</td>\n",
       "      <td>6m미만</td>\n",
       "      <td>소로</td>\n",
       "    </tr>\n",
       "    <tr>\n",
       "      <th>161360</th>\n",
       "      <td>천호대로119길</td>\n",
       "      <td>0</td>\n",
       "      <td>주거지 도로</td>\n",
       "      <td>37.556081</td>\n",
       "      <td>127.086125</td>\n",
       "      <td>37.557508</td>\n",
       "      <td>127.085895</td>\n",
       "      <td>37.556795</td>\n",
       "      <td>127.086010</td>\n",
       "      <td>159.957599</td>\n",
       "      <td>중곡동</td>\n",
       "      <td>6m미만</td>\n",
       "      <td>소로</td>\n",
       "    </tr>\n",
       "    <tr>\n",
       "      <th>161361</th>\n",
       "      <td>천호대로123길</td>\n",
       "      <td>0</td>\n",
       "      <td>주거지 도로</td>\n",
       "      <td>37.556148</td>\n",
       "      <td>127.086811</td>\n",
       "      <td>37.556818</td>\n",
       "      <td>127.086692</td>\n",
       "      <td>37.556483</td>\n",
       "      <td>127.086752</td>\n",
       "      <td>75.200092</td>\n",
       "      <td>중곡동</td>\n",
       "      <td>6m미만</td>\n",
       "      <td>소로</td>\n",
       "    </tr>\n",
       "  </tbody>\n",
       "</table>\n",
       "<p>161362 rows × 13 columns</p>\n",
       "</div>"
      ],
      "text/plain": [
       "             도로명  열선   도로 종류     시작점_위도      시작점_경도     종료점_위도      종료점_경도  \\\n",
       "0         보광로12길   0  주거지 도로  37.526615  127.000794  37.526707  127.001085   \n",
       "1         보광로12길   0  주거지 도로  37.526615  127.000794  37.526500  127.000620   \n",
       "2         보광로14길   0  주거지 도로  37.526615  127.000794  37.527184  127.000468   \n",
       "3          보광로7길   0  주거지 도로  37.525964  126.997422  37.525748  126.998131   \n",
       "4            장문로   0     3차로  37.525964  126.997422  37.525966  126.997165   \n",
       "...          ...  ..     ...        ...         ...        ...         ...   \n",
       "161357  천호대로125길   0  주거지 도로  37.554907  127.087447  37.554335  127.087071   \n",
       "161358  천호대로119길   0  주거지 도로  37.556081  127.086125  37.556026  127.086131   \n",
       "161359    용마산로3길   0  주거지 도로  37.556081  127.086125  37.556115  127.086474   \n",
       "161360  천호대로119길   0  주거지 도로  37.556081  127.086125  37.557508  127.085895   \n",
       "161361  천호대로123길   0  주거지 도로  37.556148  127.086811  37.556818  127.086692   \n",
       "\n",
       "           중앙점_위도      중앙점_경도       도로_길이  행정동   도로폭 도로규모  \n",
       "0       37.526661  127.000940   27.605333  보광동  6m미만   소로  \n",
       "1       37.526558  127.000707   20.002271  보광동  6m미만   소로  \n",
       "2       37.526900  127.000631   69.877541  보광동  6m미만   소로  \n",
       "3       37.525856  126.997777   66.892380  보광동  6m미만   소로  \n",
       "4       37.525965  126.997294   22.682960  보광동  6m미만   소로  \n",
       "...           ...         ...         ...  ...   ...  ...  \n",
       "161357  37.554621  127.087259   71.710310  중곡동  6m미만   소로  \n",
       "161358  37.556054  127.086128    6.118745  중곡동  6m미만   소로  \n",
       "161359  37.556098  127.086299   31.035093  중곡동  6m미만   소로  \n",
       "161360  37.556795  127.086010  159.957599  중곡동  6m미만   소로  \n",
       "161361  37.556483  127.086752   75.200092  중곡동  6m미만   소로  \n",
       "\n",
       "[161362 rows x 13 columns]"
      ]
     },
     "execution_count": 22,
     "metadata": {},
     "output_type": "execute_result"
    }
   ],
   "source": [
    "data"
   ]
  },
  {
   "cell_type": "code",
   "execution_count": 23,
   "id": "9ff98e7d-3d54-48fb-8e51-1b3e78252bc1",
   "metadata": {},
   "outputs": [
    {
     "name": "stdout",
     "output_type": "stream",
     "text": [
      "저장하는 도로의 수 : 161,362\n"
     ]
    }
   ],
   "source": [
    "print(f\"저장하는 도로의 수 : {len(data):,}\")"
   ]
  },
  {
   "cell_type": "code",
   "execution_count": 24,
   "id": "b338c7f6-14f5-4eda-84fc-672c506242ab",
   "metadata": {},
   "outputs": [
    {
     "name": "stdout",
     "output_type": "stream",
     "text": [
      "./make_file/(도로폭)_서울시_도로_목록.csv 파일 저장 완료.\n"
     ]
    }
   ],
   "source": [
    "try :\n",
    "    save_url = \"./make_file/(도로폭)_서울시_도로_목록.csv\"\n",
    "    data.to_csv(save_url, encoding=\"UTF-8\", index=False)\n",
    "    print(f\"{save_url} 파일 저장 완료.\")\n",
    "except OSError as e:\n",
    "    print(e)"
   ]
  },
  {
   "cell_type": "code",
   "execution_count": null,
   "id": "a0de9974-f91e-46ab-bddd-8f29c730bc28",
   "metadata": {},
   "outputs": [],
   "source": []
  },
  {
   "cell_type": "code",
   "execution_count": null,
   "id": "89d0571e-d2d5-4c37-b237-cf7f4ce7bb43",
   "metadata": {},
   "outputs": [],
   "source": []
  }
 ],
 "metadata": {
  "kernelspec": {
   "display_name": "Python 3 (ipykernel)",
   "language": "python",
   "name": "python3"
  },
  "language_info": {
   "codemirror_mode": {
    "name": "ipython",
    "version": 3
   },
   "file_extension": ".py",
   "mimetype": "text/x-python",
   "name": "python",
   "nbconvert_exporter": "python",
   "pygments_lexer": "ipython3",
   "version": "3.13.2"
  }
 },
 "nbformat": 4,
 "nbformat_minor": 5
}
