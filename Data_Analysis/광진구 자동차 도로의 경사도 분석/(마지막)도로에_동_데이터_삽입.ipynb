{
 "cells": [
  {
   "cell_type": "code",
   "execution_count": 193,
   "id": "71a49b9c-24f8-48af-85a4-2332663d798a",
   "metadata": {},
   "outputs": [],
   "source": [
    "import pandas as pd\n",
    "import requests\n",
    "from tqdm import tqdm"
   ]
  },
  {
   "cell_type": "code",
   "execution_count": 194,
   "id": "70157f0d-6b01-429f-bcee-4e0ba95a823a",
   "metadata": {},
   "outputs": [],
   "source": [
    "data_url = './make_file/(경사각)자동차_도로_고도차이(경사각)_포함_데이터.csv'"
   ]
  },
  {
   "cell_type": "code",
   "execution_count": 195,
   "id": "45ed84a4-b840-42b0-b7a4-3cfee7f4e70b",
   "metadata": {},
   "outputs": [
    {
     "data": {
      "text/html": [
       "<div>\n",
       "<style scoped>\n",
       "    .dataframe tbody tr th:only-of-type {\n",
       "        vertical-align: middle;\n",
       "    }\n",
       "\n",
       "    .dataframe tbody tr th {\n",
       "        vertical-align: top;\n",
       "    }\n",
       "\n",
       "    .dataframe thead th {\n",
       "        text-align: right;\n",
       "    }\n",
       "</style>\n",
       "<table border=\"1\" class=\"dataframe\">\n",
       "  <thead>\n",
       "    <tr style=\"text-align: right;\">\n",
       "      <th></th>\n",
       "      <th>Unnamed: 0</th>\n",
       "      <th>도로명</th>\n",
       "      <th>도로 종류</th>\n",
       "      <th>시작점_위도</th>\n",
       "      <th>시작점_경도</th>\n",
       "      <th>종료점_위도</th>\n",
       "      <th>종료점_경도</th>\n",
       "      <th>중앙점_위도</th>\n",
       "      <th>중앙점_경도</th>\n",
       "      <th>시작점_고도</th>\n",
       "      <th>...</th>\n",
       "      <th>경사각</th>\n",
       "      <th>도로_길이</th>\n",
       "      <th>터널 여부</th>\n",
       "      <th>교량 여부</th>\n",
       "      <th>서비스 도로 여부</th>\n",
       "      <th>도로 ID</th>\n",
       "      <th>속도 제한</th>\n",
       "      <th>차선 수</th>\n",
       "      <th>일방통행 여부</th>\n",
       "      <th>교차로 여부</th>\n",
       "    </tr>\n",
       "  </thead>\n",
       "  <tbody>\n",
       "    <tr>\n",
       "      <th>0</th>\n",
       "      <td>0</td>\n",
       "      <td>['광장앞지하차도', '광장로']</td>\n",
       "      <td>3차로</td>\n",
       "      <td>37.545509</td>\n",
       "      <td>127.097772</td>\n",
       "      <td>37.546747</td>\n",
       "      <td>127.102031</td>\n",
       "      <td>37.546128</td>\n",
       "      <td>127.099902</td>\n",
       "      <td>39.830399</td>\n",
       "      <td>...</td>\n",
       "      <td>2.487682</td>\n",
       "      <td>430.542185</td>\n",
       "      <td>yes</td>\n",
       "      <td>NaN</td>\n",
       "      <td>NaN</td>\n",
       "      <td>[175320385, 175320419, 175320429]</td>\n",
       "      <td>NaN</td>\n",
       "      <td>NaN</td>\n",
       "      <td>NaN</td>\n",
       "      <td>NaN</td>\n",
       "    </tr>\n",
       "  </tbody>\n",
       "</table>\n",
       "<p>1 rows × 22 columns</p>\n",
       "</div>"
      ],
      "text/plain": [
       "   Unnamed: 0                 도로명 도로 종류     시작점_위도      시작점_경도     종료점_위도  \\\n",
       "0           0  ['광장앞지하차도', '광장로']   3차로  37.545509  127.097772  37.546747   \n",
       "\n",
       "       종료점_경도     중앙점_위도      중앙점_경도     시작점_고도  ...       경사각       도로_길이  \\\n",
       "0  127.102031  37.546128  127.099902  39.830399  ...  2.487682  430.542185   \n",
       "\n",
       "   터널 여부  교량 여부 서비스 도로 여부                              도로 ID  속도 제한 차선 수  \\\n",
       "0    yes    NaN       NaN  [175320385, 175320419, 175320429]    NaN  NaN   \n",
       "\n",
       "   일방통행 여부  교차로 여부  \n",
       "0      NaN     NaN  \n",
       "\n",
       "[1 rows x 22 columns]"
      ]
     },
     "execution_count": 195,
     "metadata": {},
     "output_type": "execute_result"
    }
   ],
   "source": [
    "data = pd.read_csv(data_url, encoding=\"EUC-KR\")\n",
    "data.head(1)"
   ]
  },
  {
   "cell_type": "code",
   "execution_count": 196,
   "id": "6450de16-ad04-46b0-9b59-c3b485907d2b",
   "metadata": {},
   "outputs": [],
   "source": [
    "try :\n",
    "    data = data.drop(columns=\"Unnamed: 0\")\n",
    "except :\n",
    "    print('컬럼 없음')"
   ]
  },
  {
   "cell_type": "code",
   "execution_count": 197,
   "id": "4d293ee8-4daf-41fa-9395-54054d2a8b8d",
   "metadata": {},
   "outputs": [
    {
     "data": {
      "text/plain": [
       "0       [175320385, 175320419, 175320429]\n",
       "1                               516647748\n",
       "2                               516647752\n",
       "3                                37401581\n",
       "4                               516723466\n",
       "                      ...                \n",
       "6227                            381409375\n",
       "6228                           1369902935\n",
       "6229                           1369902935\n",
       "6230                           1369902935\n",
       "6231                           1369902936\n",
       "Name: 도로 ID, Length: 6232, dtype: object"
      ]
     },
     "execution_count": 197,
     "metadata": {},
     "output_type": "execute_result"
    }
   ],
   "source": [
    "data[\"도로 ID\"]"
   ]
  },
  {
   "cell_type": "code",
   "execution_count": 198,
   "id": "c314fa61-7088-406a-8fcb-0885d5e4fa11",
   "metadata": {},
   "outputs": [
    {
     "data": {
      "text/plain": [
       "Index(['도로명', '도로 종류', '시작점_위도', '시작점_경도', '종료점_위도', '종료점_경도', '중앙점_위도',\n",
       "       '중앙점_경도', '시작점_고도', '종료점_고도', '고도의_차이', '경사각', '도로_길이', '터널 여부',\n",
       "       '교량 여부', '서비스 도로 여부', '도로 ID', '속도 제한', '차선 수', '일방통행 여부', '교차로 여부'],\n",
       "      dtype='object')"
      ]
     },
     "execution_count": 198,
     "metadata": {},
     "output_type": "execute_result"
    }
   ],
   "source": [
    "data.columns"
   ]
  },
  {
   "cell_type": "markdown",
   "id": "afbab786-c21b-4988-96a0-faf0d921c0ff",
   "metadata": {},
   "source": [
    "## 행정안정부 API"
   ]
  },
  {
   "cell_type": "code",
   "execution_count": 224,
   "id": "c192f6d3-3ccb-4e40-a23c-e551277160cb",
   "metadata": {},
   "outputs": [],
   "source": [
    "api_key_url = '../API_KEY/API_KEYS.xlsx'\n",
    "open_api_key_file = pd.read_excel(api_key_url)\n",
    " \n",
    "open_api_key_file['사이트'].value_counts()\n",
    "\n",
    "get_gov_api_key = open_api_key_file[open_api_key_file['사이트'] == '행정안전부'].values[0][1]  "
   ]
  },
  {
   "cell_type": "code",
   "execution_count": 230,
   "id": "feff2adc-9ea9-472c-a528-c59138fc514d",
   "metadata": {},
   "outputs": [],
   "source": [
    "# 변환할 지번 주소 입력\n",
    "# old_address = \"서울특별시 종로구 세종로 1-1\"\n",
    "\n",
    "def old_address_to_road_address(old_address) : \n",
    "    url = f\"https://www.juso.go.kr/addrlink/addrLinkApi.do?confmKey={get_gov_api_key}&keyword={old_address}&resultType=json\"\n",
    "    \n",
    "    # API 요청\n",
    "    response = requests.get(url)\n",
    "    \n",
    "    if response.status_code == 200:\n",
    "        data = response.json()\n",
    "        # print(data)\n",
    "        if \"results\" in data and \"juso\" in data[\"results\"] and data[\"results\"][\"juso\"]:\n",
    "            road_addresses = [juso['roadAddr'] for juso in data['results']['juso']]\n",
    "            return road_addresses[0]\n",
    "        else:\n",
    "            return None\n",
    "    else:\n",
    "        return None"
   ]
  },
  {
   "cell_type": "code",
   "execution_count": 231,
   "id": "cccdcd81-e0d5-4d68-a285-2a9832be7a99",
   "metadata": {},
   "outputs": [],
   "source": [
    "# print(old_address_to_road_address(\"서울시 구의동 604\"))"
   ]
  },
  {
   "cell_type": "markdown",
   "id": "4f632142-948a-4e64-aeed-72d04bb4feb9",
   "metadata": {},
   "source": [
    "## KAKAO"
   ]
  },
  {
   "cell_type": "code",
   "execution_count": 232,
   "id": "6f5a0897-11df-4d87-85a8-e00f2b5c6a1c",
   "metadata": {},
   "outputs": [],
   "source": [
    "api_key_url = '../API_KEY/API_KEYS.xlsx'\n",
    "open_api_key_file = pd.read_excel(api_key_url)\n",
    " \n",
    "open_api_key_file['사이트'].value_counts()\n",
    "\n",
    "get_api_key = open_api_key_file[open_api_key_file['사이트'] == 'kakao_api_key_REST'].values[0][1]  "
   ]
  },
  {
   "cell_type": "code",
   "execution_count": 233,
   "id": "15a7bba9-f68b-4cb1-a28c-1b3eb4b0e3d5",
   "metadata": {},
   "outputs": [],
   "source": [
    "# KAKAO API KEY 값 \n",
    "KAKAO_API_KEY = get_api_key  "
   ]
  },
  {
   "cell_type": "code",
   "execution_count": null,
   "id": "aca3976d-db55-4ae5-9b63-b8c3438480aa",
   "metadata": {},
   "outputs": [],
   "source": []
  },
  {
   "cell_type": "code",
   "execution_count": 234,
   "id": "773ceb99-d11b-4d64-a13c-c46585f82f37",
   "metadata": {},
   "outputs": [],
   "source": [
    "# 서울시 광진구 위도, 경도\n",
    "\n",
    "def kakao_map_api(lat, lon) :\n",
    "    latitude = lat\n",
    "    longitude = lon\n",
    "    \n",
    "    # 카카오 맵 API URL\n",
    "    url = f\"https://dapi.kakao.com/v2/local/geo/coord2address.json?x={longitude}&y={latitude}\"\n",
    "    \n",
    "    # API 요청 헤더\n",
    "    headers = {\n",
    "        \"Authorization\": f\"KakaoAK {KAKAO_API_KEY}\"\n",
    "    }\n",
    "    \n",
    "    # API 호출\n",
    "    response = requests.get(url, headers=headers)\n",
    "    data = response.json()\n",
    "    # print(data)\n",
    "    region_3depth_name = data['documents'][0]['address']['region_3depth_name']\n",
    "    temp_address_name = data['documents'][0]['address']['address_name']\n",
    "    address_name = data['documents'][0]['road_address'] \n",
    "    \n",
    "    if address_name is None :\n",
    "        temp = old_address_to_road_address(temp_address_name)\n",
    "        if temp is None :\n",
    "            address_name = temp_address_name\n",
    "            is_road_address = 0 #False\n",
    "        else : \n",
    "            address_name = temp\n",
    "            is_road_address = 1\n",
    "    else :\n",
    "        is_road_address = 1 #True\n",
    "         \n",
    "    if isinstance(address_name, dict):\n",
    "        # print(address_name)\n",
    "        address_name = address_name.get(\"address_name\", \"\")  # 기본값을 빈 문자열로 설정\n",
    "    \n",
    "    # 문자열에서 특정 단어 제거\n",
    "    address_name = address_name.replace(\"서울특별시 \", \"\")\n",
    "    address_name = address_name.replace(\"서울 \", \"\")\n",
    "    address_name = address_name.replace(\"광진구 \", \"\")\n",
    "\n",
    "     \n",
    "    return region_3depth_name, address_name, is_road_address"
   ]
  },
  {
   "cell_type": "code",
   "execution_count": 235,
   "id": "94c30a2c-0451-48e7-bc5f-aac19de2a1b4",
   "metadata": {},
   "outputs": [
    {
     "name": "stdout",
     "output_type": "stream",
     "text": [
      "6232\n",
      "6232\n"
     ]
    }
   ],
   "source": [
    "lat_list = data[\"중앙점_위도\"].to_list()\n",
    "lon_list = data[\"중앙점_경도\"].to_list()\n",
    "\n",
    "print(len(lat_list))\n",
    "print(len(lon_list))"
   ]
  },
  {
   "cell_type": "code",
   "execution_count": 236,
   "id": "47f9e811-d791-42e5-b16a-90afb0c5c74b",
   "metadata": {},
   "outputs": [
    {
     "name": "stderr",
     "output_type": "stream",
     "text": [
      "100%|███████████████████████████████████████| 6232/6232 [23:33<00:00,  4.41it/s]\n"
     ]
    }
   ],
   "source": [
    "dong_list = []\n",
    "road_address_list = []\n",
    "is_road_address_list = []\n",
    "\n",
    "for i in tqdm(range(len(lat_list))) :\n",
    "# for i in tqdm(range(60)) :\n",
    "    lat = lat_list[i]\n",
    "    lon = lon_list[i]\n",
    "    dong, road_address, is_road_address = kakao_map_api(lat, lon)\n",
    "    \n",
    "    # print(dong, road_address, is_road_address)\n",
    "    \n",
    "    dong_list.append(dong)\n",
    "    road_address_list.append(road_address)\n",
    "    is_road_address_list.append(is_road_address)"
   ]
  },
  {
   "cell_type": "code",
   "execution_count": 238,
   "id": "54a60717-4248-47e9-bf4a-69466a73c6af",
   "metadata": {},
   "outputs": [],
   "source": [
    "# road_address_list"
   ]
  },
  {
   "cell_type": "code",
   "execution_count": 239,
   "id": "d8e447a5-936d-423c-ab5a-3d4c16634936",
   "metadata": {},
   "outputs": [
    {
     "name": "stdout",
     "output_type": "stream",
     "text": [
      "6232\n",
      "6232\n",
      "6232\n"
     ]
    }
   ],
   "source": [
    "print(len(dong_list))\n",
    "print(len(road_address_list))\n",
    "print(len(is_road_address_list))"
   ]
  },
  {
   "cell_type": "code",
   "execution_count": 244,
   "id": "f0a53b58-5cc7-49a9-a7e4-9be5b2dd7181",
   "metadata": {},
   "outputs": [],
   "source": [
    "data['행정동'] = dong_list\n",
    "data['주소'] = road_address_list\n",
    "data['도로명_여부'] = is_road_address_list"
   ]
  },
  {
   "cell_type": "code",
   "execution_count": 249,
   "id": "d9f4d64d-e174-47cd-a943-7fbd4d07761c",
   "metadata": {},
   "outputs": [
    {
     "data": {
      "text/plain": [
       "도로명_여부\n",
       "0    4338\n",
       "1    1894\n",
       "Name: count, dtype: int64"
      ]
     },
     "execution_count": 249,
     "metadata": {},
     "output_type": "execute_result"
    }
   ],
   "source": [
    "data[\"도로명_여부\"].value_counts()"
   ]
  },
  {
   "cell_type": "code",
   "execution_count": 250,
   "id": "6860c38e-24f8-499a-a8ed-3ae5ae656d45",
   "metadata": {},
   "outputs": [
    {
     "data": {
      "text/plain": [
       "주소\n",
       "능동로 120           168\n",
       "구의동 15-1           64\n",
       "자양동 740            51\n",
       "구의동 241-12         50\n",
       "자양동 719            38\n",
       "                 ... \n",
       "자양동 553-597         1\n",
       "자양동 756-1           1\n",
       "뚝섬로58길 44           1\n",
       "화양동 12-64           1\n",
       "자양로26길 8 (구의동)      1\n",
       "Name: count, Length: 1528, dtype: int64"
      ]
     },
     "execution_count": 250,
     "metadata": {},
     "output_type": "execute_result"
    }
   ],
   "source": [
    "data[\"주소\"].value_counts()"
   ]
  },
  {
   "cell_type": "code",
   "execution_count": 253,
   "id": "6a15b808-9431-4bbd-991b-33627ba1037e",
   "metadata": {},
   "outputs": [
    {
     "name": "stdout",
     "output_type": "stream",
     "text": [
      "성공~\n"
     ]
    }
   ],
   "source": [
    "try :\n",
    "    save_url = './make_file/(최종)자동차_도로_고도차이(경사각)_포함_데이터.csv'\n",
    "    data.to_csv(save_url, index=False)\n",
    "    print(\"성공~\")\n",
    "except OSError as e :\n",
    "    print(e)"
   ]
  },
  {
   "cell_type": "code",
   "execution_count": null,
   "id": "8b23fef3-4473-4485-8d0f-ea41bc09127d",
   "metadata": {},
   "outputs": [],
   "source": []
  }
 ],
 "metadata": {
  "kernelspec": {
   "display_name": "Python 3 (ipykernel)",
   "language": "python",
   "name": "python3"
  },
  "language_info": {
   "codemirror_mode": {
    "name": "ipython",
    "version": 3
   },
   "file_extension": ".py",
   "mimetype": "text/x-python",
   "name": "python",
   "nbconvert_exporter": "python",
   "pygments_lexer": "ipython3",
   "version": "3.13.2"
  }
 },
 "nbformat": 4,
 "nbformat_minor": 5
}
