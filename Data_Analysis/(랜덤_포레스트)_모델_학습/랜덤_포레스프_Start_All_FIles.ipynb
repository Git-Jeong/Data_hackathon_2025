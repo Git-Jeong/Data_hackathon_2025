{
 "cells": [
  {
   "cell_type": "code",
   "execution_count": 20,
   "id": "a53f5d92-b08c-4c33-8aaf-fcb743c22866",
   "metadata": {},
   "outputs": [],
   "source": [
    "import os \n",
    "from tqdm import tqdm\n",
    "import subprocess"
   ]
  },
  {
   "cell_type": "code",
   "execution_count": 21,
   "id": "65dd9ff5-dc23-4130-8501-4f82ef9806ea",
   "metadata": {},
   "outputs": [],
   "source": [
    "output_dir = './temp_nbconvert'"
   ]
  },
  {
   "cell_type": "code",
   "execution_count": 22,
   "id": "bde697aa-e2bd-402b-9995-983c1b9d6a1a",
   "metadata": {},
   "outputs": [
    {
     "name": "stdout",
     "output_type": "stream",
     "text": [
      "./temp_nbconvert 폴더가 있습니다.\n"
     ]
    }
   ],
   "source": [
    "is_dir = os.path.isdir(output_dir)\n",
    "if is_dir :\n",
    "    print(f'{output_dir} 폴더가 있습니다.')\n",
    "else :\n",
    "    try :\n",
    "        os.mkdir(output_dir)\n",
    "        print(f\"{output_dir} 파일 생성 완료\")\n",
    "    except :\n",
    "        print(f\"Err...\")"
   ]
  },
  {
   "cell_type": "code",
   "execution_count": 36,
   "id": "e4f462b1-2015-4c33-b88b-dfa57583ebcf",
   "metadata": {},
   "outputs": [],
   "source": [
    "commands = [\n",
    "    f\"jupyter nbconvert --to notebook --execute --output {output_dir}/부족한_열선_데이터_증폭.ipynb 부족한_열선_데이터_증폭.ipynb\",\n",
    "    f\"jupyter nbconvert --to notebook --execute --output {output_dir}/데이터_합치기.ipynb 데이터_합치기.ipynb\",\n",
    "    f\"jupyter nbconvert --to notebook --execute --output {output_dir}/랜덤_포레스트_돌려보기.ipynb 랜덤_포레스트_돌려보기.ipynb\",\n",
    "    f\"jupyter nbconvert --to notebook --execute --output {output_dir}/열선_후보지_시각화.ipynb 열선_후보지_시각화.ipynb\"\n",
    "]"
   ]
  },
  {
   "cell_type": "code",
   "execution_count": 37,
   "id": "9796d5fa-4ef3-45af-9440-5934cc6affc0",
   "metadata": {},
   "outputs": [],
   "source": [
    "def run_all_code() :\n",
    "    try:\n",
    "        for cmd in tqdm(commands, desc=\"실행 중\"):\n",
    "            subprocess.run(cmd, shell=True, check=True) \n",
    "        return True\n",
    "    except subprocess.CalledProcessError as e:\n",
    "        print(e)\n",
    "        return False"
   ]
  },
  {
   "cell_type": "code",
   "execution_count": 38,
   "id": "4f709223-7aee-4f8e-889d-b0e2e1bae225",
   "metadata": {},
   "outputs": [
    {
     "name": "stderr",
     "output_type": "stream",
     "text": [
      "[NbConvertApp] Converting notebook 부족한_열선_데이터_증폭.ipynb to notebook0<?, ?it/s]\n",
      "[NbConvertApp] Writing 19026 bytes to temp_nbconvert/부족한_열선_데이터_증폭.ipynb\n",
      "[NbConvertApp] Converting notebook 데이터_합치기.ipynb to notebook00:04,  1.59s/it]\n",
      "[NbConvertApp] Writing 9207 bytes to temp_nbconvert/데이터_합치기.ipynb\n",
      "[NbConvertApp] Converting notebook 랜덤_포레스트_돌려보기.ipynb to notebook,  1.50s/it]\n",
      "[NbConvertApp] Writing 55453 bytes to temp_nbconvert/랜덤_포레스트_돌려보기.ipynb\n",
      "[NbConvertApp] Converting notebook 열선_후보지_시각화.ipynb to notebook01,  1.95s/it]\n",
      "[NbConvertApp] Writing 21059 bytes to temp_nbconvert/열선_후보지_시각화.ipynb\n",
      "실행 중: 100%|████████████████████████████████████| 4/4 [00:07<00:00,  1.75s/it]"
     ]
    },
    {
     "name": "stdout",
     "output_type": "stream",
     "text": [
      "코드가 성공적으로 마루리 되었습니다\n"
     ]
    },
    {
     "name": "stderr",
     "output_type": "stream",
     "text": [
      "\n"
     ]
    }
   ],
   "source": [
    "result = run_all_code()\n",
    "if result is True :\n",
    "    print(f\"코드가 성공적으로 마무리 되었습니다\")\n",
    "else :\n",
    "    print(\"err...\")"
   ]
  },
  {
   "cell_type": "code",
   "execution_count": null,
   "id": "fdf882d9-46ad-4fd1-be78-237517efa140",
   "metadata": {},
   "outputs": [],
   "source": []
  }
 ],
 "metadata": {
  "kernelspec": {
   "display_name": "Python 3 (ipykernel)",
   "language": "python",
   "name": "python3"
  },
  "language_info": {
   "codemirror_mode": {
    "name": "ipython",
    "version": 3
   },
   "file_extension": ".py",
   "mimetype": "text/x-python",
   "name": "python",
   "nbconvert_exporter": "python",
   "pygments_lexer": "ipython3",
   "version": "3.13.2"
  }
 },
 "nbformat": 4,
 "nbformat_minor": 5
}
