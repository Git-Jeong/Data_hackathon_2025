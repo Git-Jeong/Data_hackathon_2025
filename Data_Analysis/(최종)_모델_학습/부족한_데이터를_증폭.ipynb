{
 "cells": [
  {
   "cell_type": "markdown",
   "id": "7b0a9724-d243-44e7-871e-a7b992d80e05",
   "metadata": {},
   "source": [
    "# 데이터 증폭을 배열로 설정할 것. "
   ]
  },
  {
   "cell_type": "code",
   "execution_count": 1,
   "id": "70254428-4172-4211-aa2e-a7c911f456ea",
   "metadata": {
    "execution": {
     "iopub.execute_input": "2025-03-26T00:04:11.175638Z",
     "iopub.status.busy": "2025-03-26T00:04:11.175237Z",
     "iopub.status.idle": "2025-03-26T00:04:11.180755Z",
     "shell.execute_reply": "2025-03-26T00:04:11.180307Z"
    }
   },
   "outputs": [],
   "source": [
    "# 데이터 증강 배수 설정 \n",
    "augmentation_factor = 150"
   ]
  },
  {
   "cell_type": "code",
   "execution_count": 2,
   "id": "966bdac1-e610-45e6-859c-08e1f52b1685",
   "metadata": {
    "execution": {
     "iopub.execute_input": "2025-03-26T00:04:11.184102Z",
     "iopub.status.busy": "2025-03-26T00:04:11.183548Z",
     "iopub.status.idle": "2025-03-26T00:04:11.310391Z",
     "shell.execute_reply": "2025-03-26T00:04:11.310100Z"
    }
   },
   "outputs": [],
   "source": [
    "import pandas as pd \n",
    "import numpy as np"
   ]
  },
  {
   "cell_type": "code",
   "execution_count": 3,
   "id": "eb41fb99-5223-492e-8c1e-e84801c07ac8",
   "metadata": {
    "execution": {
     "iopub.execute_input": "2025-03-26T00:04:11.311499Z",
     "iopub.status.busy": "2025-03-26T00:04:11.311420Z",
     "iopub.status.idle": "2025-03-26T00:04:11.312921Z",
     "shell.execute_reply": "2025-03-26T00:04:11.312732Z"
    }
   },
   "outputs": [],
   "source": [
    "url = '../광진구 취약시설 사이의 거리 측정/make_file/(최종)_통합_데이터_파일.csv'\n",
    "encoding = \"EUC-KR\""
   ]
  },
  {
   "cell_type": "code",
   "execution_count": 4,
   "id": "df5151eb-f318-48c4-86e5-c6167bcabea5",
   "metadata": {
    "execution": {
     "iopub.execute_input": "2025-03-26T00:04:11.313780Z",
     "iopub.status.busy": "2025-03-26T00:04:11.313703Z",
     "iopub.status.idle": "2025-03-26T00:04:11.319513Z",
     "shell.execute_reply": "2025-03-26T00:04:11.319279Z"
    }
   },
   "outputs": [],
   "source": [
    "data = pd.read_csv(url, encoding = encoding)"
   ]
  },
  {
   "cell_type": "code",
   "execution_count": 5,
   "id": "6bd6afda-600a-4383-8bec-3679407b811d",
   "metadata": {
    "execution": {
     "iopub.execute_input": "2025-03-26T00:04:11.320483Z",
     "iopub.status.busy": "2025-03-26T00:04:11.320425Z",
     "iopub.status.idle": "2025-03-26T00:04:11.324346Z",
     "shell.execute_reply": "2025-03-26T00:04:11.324157Z"
    }
   },
   "outputs": [
    {
     "data": {
      "text/html": [
       "<div>\n",
       "<style scoped>\n",
       "    .dataframe tbody tr th:only-of-type {\n",
       "        vertical-align: middle;\n",
       "    }\n",
       "\n",
       "    .dataframe tbody tr th {\n",
       "        vertical-align: top;\n",
       "    }\n",
       "\n",
       "    .dataframe thead th {\n",
       "        text-align: right;\n",
       "    }\n",
       "</style>\n",
       "<table border=\"1\" class=\"dataframe\">\n",
       "  <thead>\n",
       "    <tr style=\"text-align: right;\">\n",
       "      <th></th>\n",
       "      <th>Unnamed: 0</th>\n",
       "      <th>위도</th>\n",
       "      <th>경도</th>\n",
       "      <th>경사각</th>\n",
       "      <th>평균_거리차</th>\n",
       "      <th>열선여부</th>\n",
       "    </tr>\n",
       "  </thead>\n",
       "  <tbody>\n",
       "    <tr>\n",
       "      <th>0</th>\n",
       "      <td>0</td>\n",
       "      <td>37.546128</td>\n",
       "      <td>127.099902</td>\n",
       "      <td>2.487682</td>\n",
       "      <td>223.024085</td>\n",
       "      <td>0</td>\n",
       "    </tr>\n",
       "    <tr>\n",
       "      <th>1</th>\n",
       "      <td>1</td>\n",
       "      <td>37.546024</td>\n",
       "      <td>127.097913</td>\n",
       "      <td>5.209767</td>\n",
       "      <td>227.938028</td>\n",
       "      <td>0</td>\n",
       "    </tr>\n",
       "    <tr>\n",
       "      <th>2</th>\n",
       "      <td>2</td>\n",
       "      <td>37.544745</td>\n",
       "      <td>127.097490</td>\n",
       "      <td>2.883715</td>\n",
       "      <td>242.674837</td>\n",
       "      <td>0</td>\n",
       "    </tr>\n",
       "    <tr>\n",
       "      <th>3</th>\n",
       "      <td>3</td>\n",
       "      <td>37.533508</td>\n",
       "      <td>127.075772</td>\n",
       "      <td>0.507954</td>\n",
       "      <td>260.282317</td>\n",
       "      <td>0</td>\n",
       "    </tr>\n",
       "    <tr>\n",
       "      <th>4</th>\n",
       "      <td>4</td>\n",
       "      <td>37.532898</td>\n",
       "      <td>127.075599</td>\n",
       "      <td>0.321100</td>\n",
       "      <td>230.108658</td>\n",
       "      <td>0</td>\n",
       "    </tr>\n",
       "  </tbody>\n",
       "</table>\n",
       "</div>"
      ],
      "text/plain": [
       "   Unnamed: 0         위도          경도       경사각      평균_거리차  열선여부\n",
       "0           0  37.546128  127.099902  2.487682  223.024085     0\n",
       "1           1  37.546024  127.097913  5.209767  227.938028     0\n",
       "2           2  37.544745  127.097490  2.883715  242.674837     0\n",
       "3           3  37.533508  127.075772  0.507954  260.282317     0\n",
       "4           4  37.532898  127.075599  0.321100  230.108658     0"
      ]
     },
     "execution_count": 5,
     "metadata": {},
     "output_type": "execute_result"
    }
   ],
   "source": [
    "data.head()"
   ]
  },
  {
   "cell_type": "code",
   "execution_count": 6,
   "id": "cb10c64f-eeea-4ce6-8400-4d1c969c1877",
   "metadata": {
    "execution": {
     "iopub.execute_input": "2025-03-26T00:04:11.325182Z",
     "iopub.status.busy": "2025-03-26T00:04:11.325124Z",
     "iopub.status.idle": "2025-03-26T00:04:11.326713Z",
     "shell.execute_reply": "2025-03-26T00:04:11.326515Z"
    }
   },
   "outputs": [
    {
     "data": {
      "text/plain": [
       "6273"
      ]
     },
     "execution_count": 6,
     "metadata": {},
     "output_type": "execute_result"
    }
   ],
   "source": [
    "len(data)"
   ]
  },
  {
   "cell_type": "code",
   "execution_count": 7,
   "id": "d464bae3-6068-47eb-905c-4ba38af6ec6a",
   "metadata": {
    "execution": {
     "iopub.execute_input": "2025-03-26T00:04:11.327487Z",
     "iopub.status.busy": "2025-03-26T00:04:11.327431Z",
     "iopub.status.idle": "2025-03-26T00:04:11.329078Z",
     "shell.execute_reply": "2025-03-26T00:04:11.328893Z"
    }
   },
   "outputs": [
    {
     "data": {
      "text/plain": [
       "Index(['Unnamed: 0', '위도', '경도', '경사각', '평균_거리차', '열선여부'], dtype='object')"
      ]
     },
     "execution_count": 7,
     "metadata": {},
     "output_type": "execute_result"
    }
   ],
   "source": [
    "data.columns"
   ]
  },
  {
   "cell_type": "code",
   "execution_count": 8,
   "id": "6ec07da6-e4db-49e1-8e23-c18fae587805",
   "metadata": {
    "execution": {
     "iopub.execute_input": "2025-03-26T00:04:11.329934Z",
     "iopub.status.busy": "2025-03-26T00:04:11.329866Z",
     "iopub.status.idle": "2025-03-26T00:04:11.331408Z",
     "shell.execute_reply": "2025-03-26T00:04:11.331237Z"
    }
   },
   "outputs": [],
   "source": [
    "data = data.drop('Unnamed: 0', axis=1)"
   ]
  },
  {
   "cell_type": "code",
   "execution_count": 9,
   "id": "be011f18-0e4a-495a-9040-469b109700ea",
   "metadata": {
    "execution": {
     "iopub.execute_input": "2025-03-26T00:04:11.332212Z",
     "iopub.status.busy": "2025-03-26T00:04:11.332158Z",
     "iopub.status.idle": "2025-03-26T00:04:11.333674Z",
     "shell.execute_reply": "2025-03-26T00:04:11.333496Z"
    }
   },
   "outputs": [],
   "source": [
    "data['원본여부'] = 1"
   ]
  },
  {
   "cell_type": "code",
   "execution_count": 10,
   "id": "b00b1752-b1f5-400f-87e9-90dacc28a98a",
   "metadata": {
    "execution": {
     "iopub.execute_input": "2025-03-26T00:04:11.334571Z",
     "iopub.status.busy": "2025-03-26T00:04:11.334511Z",
     "iopub.status.idle": "2025-03-26T00:04:11.336089Z",
     "shell.execute_reply": "2025-03-26T00:04:11.335941Z"
    }
   },
   "outputs": [
    {
     "data": {
      "text/plain": [
       "Index(['위도', '경도', '경사각', '평균_거리차', '열선여부', '원본여부'], dtype='object')"
      ]
     },
     "execution_count": 10,
     "metadata": {},
     "output_type": "execute_result"
    }
   ],
   "source": [
    "data.columns"
   ]
  },
  {
   "cell_type": "code",
   "execution_count": 11,
   "id": "0f70e52b-ab63-4478-a24b-7225fdf3c45c",
   "metadata": {
    "execution": {
     "iopub.execute_input": "2025-03-26T00:04:11.336940Z",
     "iopub.status.busy": "2025-03-26T00:04:11.336872Z",
     "iopub.status.idle": "2025-03-26T00:04:11.338104Z",
     "shell.execute_reply": "2025-03-26T00:04:11.337951Z"
    }
   },
   "outputs": [],
   "source": [
    "# lat_list = data['위도'].to_list()\n",
    "# lon_list = data['경도'].to_list()\n",
    "# angle_list = data['경사각'].to_list()\n",
    "# avg_different_list = data['평균_거리차'].to_list()\n",
    "\n",
    "# anwer_list = data['열선여부'].to_list()"
   ]
  },
  {
   "cell_type": "code",
   "execution_count": 12,
   "id": "3f2d97d5-ae8d-461d-ad56-76328ff5eab0",
   "metadata": {
    "execution": {
     "iopub.execute_input": "2025-03-26T00:04:11.338933Z",
     "iopub.status.busy": "2025-03-26T00:04:11.338883Z",
     "iopub.status.idle": "2025-03-26T00:04:11.340731Z",
     "shell.execute_reply": "2025-03-26T00:04:11.340508Z"
    }
   },
   "outputs": [],
   "source": [
    "road = data[data['열선여부'] == 0]\n",
    "answer = data[data['열선여부'] == 1]"
   ]
  },
  {
   "cell_type": "code",
   "execution_count": 13,
   "id": "9d2647b6-58a5-4ccd-bbb6-fce99abe598d",
   "metadata": {
    "execution": {
     "iopub.execute_input": "2025-03-26T00:04:11.341527Z",
     "iopub.status.busy": "2025-03-26T00:04:11.341477Z",
     "iopub.status.idle": "2025-03-26T00:04:11.343927Z",
     "shell.execute_reply": "2025-03-26T00:04:11.343755Z"
    }
   },
   "outputs": [
    {
     "data": {
      "text/html": [
       "<div>\n",
       "<style scoped>\n",
       "    .dataframe tbody tr th:only-of-type {\n",
       "        vertical-align: middle;\n",
       "    }\n",
       "\n",
       "    .dataframe tbody tr th {\n",
       "        vertical-align: top;\n",
       "    }\n",
       "\n",
       "    .dataframe thead th {\n",
       "        text-align: right;\n",
       "    }\n",
       "</style>\n",
       "<table border=\"1\" class=\"dataframe\">\n",
       "  <thead>\n",
       "    <tr style=\"text-align: right;\">\n",
       "      <th></th>\n",
       "      <th>위도</th>\n",
       "      <th>경도</th>\n",
       "      <th>경사각</th>\n",
       "      <th>평균_거리차</th>\n",
       "      <th>열선여부</th>\n",
       "      <th>원본여부</th>\n",
       "    </tr>\n",
       "  </thead>\n",
       "  <tbody>\n",
       "    <tr>\n",
       "      <th>0</th>\n",
       "      <td>37.546128</td>\n",
       "      <td>127.099902</td>\n",
       "      <td>2.487682</td>\n",
       "      <td>223.024085</td>\n",
       "      <td>0</td>\n",
       "      <td>1</td>\n",
       "    </tr>\n",
       "    <tr>\n",
       "      <th>1</th>\n",
       "      <td>37.546024</td>\n",
       "      <td>127.097913</td>\n",
       "      <td>5.209767</td>\n",
       "      <td>227.938028</td>\n",
       "      <td>0</td>\n",
       "      <td>1</td>\n",
       "    </tr>\n",
       "    <tr>\n",
       "      <th>2</th>\n",
       "      <td>37.544745</td>\n",
       "      <td>127.097490</td>\n",
       "      <td>2.883715</td>\n",
       "      <td>242.674837</td>\n",
       "      <td>0</td>\n",
       "      <td>1</td>\n",
       "    </tr>\n",
       "    <tr>\n",
       "      <th>3</th>\n",
       "      <td>37.533508</td>\n",
       "      <td>127.075772</td>\n",
       "      <td>0.507954</td>\n",
       "      <td>260.282317</td>\n",
       "      <td>0</td>\n",
       "      <td>1</td>\n",
       "    </tr>\n",
       "    <tr>\n",
       "      <th>4</th>\n",
       "      <td>37.532898</td>\n",
       "      <td>127.075599</td>\n",
       "      <td>0.321100</td>\n",
       "      <td>230.108658</td>\n",
       "      <td>0</td>\n",
       "      <td>1</td>\n",
       "    </tr>\n",
       "  </tbody>\n",
       "</table>\n",
       "</div>"
      ],
      "text/plain": [
       "          위도          경도       경사각      평균_거리차  열선여부  원본여부\n",
       "0  37.546128  127.099902  2.487682  223.024085     0     1\n",
       "1  37.546024  127.097913  5.209767  227.938028     0     1\n",
       "2  37.544745  127.097490  2.883715  242.674837     0     1\n",
       "3  37.533508  127.075772  0.507954  260.282317     0     1\n",
       "4  37.532898  127.075599  0.321100  230.108658     0     1"
      ]
     },
     "execution_count": 13,
     "metadata": {},
     "output_type": "execute_result"
    }
   ],
   "source": [
    "road.head()"
   ]
  },
  {
   "cell_type": "code",
   "execution_count": 14,
   "id": "3d32f3f2-1abe-4fbd-9ea5-75761ae9f4bc",
   "metadata": {
    "execution": {
     "iopub.execute_input": "2025-03-26T00:04:11.344755Z",
     "iopub.status.busy": "2025-03-26T00:04:11.344702Z",
     "iopub.status.idle": "2025-03-26T00:04:11.347069Z",
     "shell.execute_reply": "2025-03-26T00:04:11.346919Z"
    }
   },
   "outputs": [
    {
     "data": {
      "text/html": [
       "<div>\n",
       "<style scoped>\n",
       "    .dataframe tbody tr th:only-of-type {\n",
       "        vertical-align: middle;\n",
       "    }\n",
       "\n",
       "    .dataframe tbody tr th {\n",
       "        vertical-align: top;\n",
       "    }\n",
       "\n",
       "    .dataframe thead th {\n",
       "        text-align: right;\n",
       "    }\n",
       "</style>\n",
       "<table border=\"1\" class=\"dataframe\">\n",
       "  <thead>\n",
       "    <tr style=\"text-align: right;\">\n",
       "      <th></th>\n",
       "      <th>위도</th>\n",
       "      <th>경도</th>\n",
       "      <th>경사각</th>\n",
       "      <th>평균_거리차</th>\n",
       "      <th>열선여부</th>\n",
       "      <th>원본여부</th>\n",
       "    </tr>\n",
       "  </thead>\n",
       "  <tbody>\n",
       "    <tr>\n",
       "      <th>6232</th>\n",
       "      <td>37.553039</td>\n",
       "      <td>127.097008</td>\n",
       "      <td>7.851888</td>\n",
       "      <td>184.137070</td>\n",
       "      <td>1</td>\n",
       "      <td>1</td>\n",
       "    </tr>\n",
       "    <tr>\n",
       "      <th>6233</th>\n",
       "      <td>37.553626</td>\n",
       "      <td>127.097029</td>\n",
       "      <td>5.862993</td>\n",
       "      <td>184.374022</td>\n",
       "      <td>1</td>\n",
       "      <td>1</td>\n",
       "    </tr>\n",
       "    <tr>\n",
       "      <th>6234</th>\n",
       "      <td>37.567109</td>\n",
       "      <td>127.088453</td>\n",
       "      <td>0.000000</td>\n",
       "      <td>129.476463</td>\n",
       "      <td>1</td>\n",
       "      <td>1</td>\n",
       "    </tr>\n",
       "    <tr>\n",
       "      <th>6235</th>\n",
       "      <td>37.570235</td>\n",
       "      <td>127.085884</td>\n",
       "      <td>5.678818</td>\n",
       "      <td>292.900094</td>\n",
       "      <td>1</td>\n",
       "      <td>1</td>\n",
       "    </tr>\n",
       "    <tr>\n",
       "      <th>6236</th>\n",
       "      <td>37.551073</td>\n",
       "      <td>127.110615</td>\n",
       "      <td>0.000000</td>\n",
       "      <td>748.250385</td>\n",
       "      <td>1</td>\n",
       "      <td>1</td>\n",
       "    </tr>\n",
       "  </tbody>\n",
       "</table>\n",
       "</div>"
      ],
      "text/plain": [
       "             위도          경도       경사각      평균_거리차  열선여부  원본여부\n",
       "6232  37.553039  127.097008  7.851888  184.137070     1     1\n",
       "6233  37.553626  127.097029  5.862993  184.374022     1     1\n",
       "6234  37.567109  127.088453  0.000000  129.476463     1     1\n",
       "6235  37.570235  127.085884  5.678818  292.900094     1     1\n",
       "6236  37.551073  127.110615  0.000000  748.250385     1     1"
      ]
     },
     "execution_count": 14,
     "metadata": {},
     "output_type": "execute_result"
    }
   ],
   "source": [
    "answer.head()"
   ]
  },
  {
   "cell_type": "markdown",
   "id": "d504cb00-cb54-4ad0-9210-6a2b17ed034e",
   "metadata": {},
   "source": [
    "## 열선 데이터를 늘리기 시작"
   ]
  },
  {
   "cell_type": "code",
   "execution_count": 15,
   "id": "69c02f04-a9b7-4ace-80fd-ed65d05582d6",
   "metadata": {
    "execution": {
     "iopub.execute_input": "2025-03-26T00:04:11.347932Z",
     "iopub.status.busy": "2025-03-26T00:04:11.347877Z",
     "iopub.status.idle": "2025-03-26T00:04:11.349152Z",
     "shell.execute_reply": "2025-03-26T00:04:11.349001Z"
    }
   },
   "outputs": [],
   "source": [
    "# 빈 리스트 준비\n",
    "augmented_data = []"
   ]
  },
  {
   "cell_type": "code",
   "execution_count": 16,
   "id": "7e8669b0-12d6-4971-ae75-7a43070e61a3",
   "metadata": {
    "execution": {
     "iopub.execute_input": "2025-03-26T00:04:11.349934Z",
     "iopub.status.busy": "2025-03-26T00:04:11.349883Z",
     "iopub.status.idle": "2025-03-26T00:04:11.423287Z",
     "shell.execute_reply": "2025-03-26T00:04:11.423109Z"
    }
   },
   "outputs": [],
   "source": [
    "for _ in range(augmentation_factor):\n",
    "    for _, row in answer.iterrows():\n",
    "        new_lat = row['위도'] + np.random.uniform(0, 0.005)  # 위도 변형\n",
    "        new_lon = row['경도'] + np.random.uniform(0, 0.005)  # 경도 변형\n",
    "        new_angle = abs(row['경사각'] + np.random.uniform(0, 7))  # 경사각 변형\n",
    "        new_avg_different = row['평균_거리차'] + np.random.uniform(-50, 50)  # 거리 변형\n",
    "\n",
    "        # 열선 여부\n",
    "        new_heatmap = row['열선여부']\n",
    "\n",
    "        # 오리지널 데이터 여부\n",
    "        new_origin = 0\n",
    "\n",
    "        # 늘린 데이터 셋\n",
    "        augmented_data.append([new_lat, new_lon, new_angle, new_avg_different, new_heatmap, new_origin])"
   ]
  },
  {
   "cell_type": "code",
   "execution_count": 17,
   "id": "e6119a54-15f0-47fb-a6dd-0c6c92f756ad",
   "metadata": {
    "execution": {
     "iopub.execute_input": "2025-03-26T00:04:11.424174Z",
     "iopub.status.busy": "2025-03-26T00:04:11.424125Z",
     "iopub.status.idle": "2025-03-26T00:04:11.427488Z",
     "shell.execute_reply": "2025-03-26T00:04:11.427317Z"
    }
   },
   "outputs": [],
   "source": [
    "# 증강된 데이터프레임 생성\n",
    "augmented_df = pd.DataFrame(augmented_data, columns=['위도', '경도', '경사각', '평균_거리차', '열선여부', '원본여부'])"
   ]
  },
  {
   "cell_type": "code",
   "execution_count": 18,
   "id": "cebcad43-e76f-428a-ae84-c8d764f71f1d",
   "metadata": {
    "execution": {
     "iopub.execute_input": "2025-03-26T00:04:11.428306Z",
     "iopub.status.busy": "2025-03-26T00:04:11.428260Z",
     "iopub.status.idle": "2025-03-26T00:04:11.429782Z",
     "shell.execute_reply": "2025-03-26T00:04:11.429591Z"
    }
   },
   "outputs": [],
   "source": [
    "# 원본 + 증강 데이터를 합치기\n",
    "final_df = pd.concat([answer, augmented_df], ignore_index=True)"
   ]
  },
  {
   "cell_type": "code",
   "execution_count": 19,
   "id": "51bce1f3-f2c9-4537-85af-733714795efe",
   "metadata": {
    "execution": {
     "iopub.execute_input": "2025-03-26T00:04:11.430607Z",
     "iopub.status.busy": "2025-03-26T00:04:11.430559Z",
     "iopub.status.idle": "2025-03-26T00:04:11.432353Z",
     "shell.execute_reply": "2025-03-26T00:04:11.432199Z"
    }
   },
   "outputs": [
    {
     "name": "stdout",
     "output_type": "stream",
     "text": [
      "          위도          경도       경사각      평균_거리차  열선여부  원본여부\n",
      "0  37.553039  127.097008  7.851888  184.137070   1.0     1\n",
      "1  37.553626  127.097029  5.862993  184.374022   1.0     1\n",
      "2  37.567109  127.088453  0.000000  129.476463   1.0     1\n",
      "3  37.570235  127.085884  5.678818  292.900094   1.0     1\n",
      "4  37.551073  127.110615  0.000000  748.250385   1.0     1\n"
     ]
    }
   ],
   "source": [
    "# 결과 확인\n",
    "print(final_df.head())"
   ]
  },
  {
   "cell_type": "code",
   "execution_count": 20,
   "id": "fbb5095c-a1ce-4666-ba82-00df3f1aed2f",
   "metadata": {
    "execution": {
     "iopub.execute_input": "2025-03-26T00:04:11.433181Z",
     "iopub.status.busy": "2025-03-26T00:04:11.433112Z",
     "iopub.status.idle": "2025-03-26T00:04:11.434509Z",
     "shell.execute_reply": "2025-03-26T00:04:11.434333Z"
    }
   },
   "outputs": [
    {
     "name": "stdout",
     "output_type": "stream",
     "text": [
      "총 데이터 개수: 6191\n"
     ]
    }
   ],
   "source": [
    "print(\"총 데이터 개수:\", len(final_df))"
   ]
  },
  {
   "cell_type": "code",
   "execution_count": 21,
   "id": "369e1c8b-522c-4bca-858a-31581df12363",
   "metadata": {
    "execution": {
     "iopub.execute_input": "2025-03-26T00:04:11.435324Z",
     "iopub.status.busy": "2025-03-26T00:04:11.435278Z",
     "iopub.status.idle": "2025-03-26T00:04:11.436510Z",
     "shell.execute_reply": "2025-03-26T00:04:11.436328Z"
    }
   },
   "outputs": [],
   "source": [
    "save_file_url = './make_file/증폭_열선_데이터.csv'"
   ]
  },
  {
   "cell_type": "code",
   "execution_count": 22,
   "id": "dee517f4-4bbe-42c3-bc2b-53c3ed9b6a1a",
   "metadata": {
    "execution": {
     "iopub.execute_input": "2025-03-26T00:04:11.437305Z",
     "iopub.status.busy": "2025-03-26T00:04:11.437259Z",
     "iopub.status.idle": "2025-03-26T00:04:11.451327Z",
     "shell.execute_reply": "2025-03-26T00:04:11.451154Z"
    }
   },
   "outputs": [
    {
     "name": "stdout",
     "output_type": "stream",
     "text": [
      "./make_file/증폭_열선_데이터.csv 파일 저장 성공\n"
     ]
    }
   ],
   "source": [
    "try :\n",
    "    final_df.to_csv(save_file_url, index=False)\n",
    "    print(f\"{save_file_url} 파일 저장 성공\")\n",
    "except OSError as e:\n",
    "    print(e)"
   ]
  },
  {
   "cell_type": "markdown",
   "id": "ef5079de-7d49-4d6b-a033-fc79db9c0134",
   "metadata": {},
   "source": [
    "## 데이터 합치기"
   ]
  },
  {
   "cell_type": "code",
   "execution_count": 23,
   "id": "bd6d2f24-2dcb-4186-bfed-109705e5d06e",
   "metadata": {
    "execution": {
     "iopub.execute_input": "2025-03-26T00:04:11.452182Z",
     "iopub.status.busy": "2025-03-26T00:04:11.452136Z",
     "iopub.status.idle": "2025-03-26T00:04:11.453794Z",
     "shell.execute_reply": "2025-03-26T00:04:11.453552Z"
    }
   },
   "outputs": [],
   "source": [
    "# 원본 + 증강 데이터를 합치기\n",
    "total_df = pd.concat([final_df, road], ignore_index=True)"
   ]
  },
  {
   "cell_type": "code",
   "execution_count": 24,
   "id": "54fe8c9c-17eb-4720-a522-a62e8d834ad2",
   "metadata": {
    "execution": {
     "iopub.execute_input": "2025-03-26T00:04:11.454601Z",
     "iopub.status.busy": "2025-03-26T00:04:11.454554Z",
     "iopub.status.idle": "2025-03-26T00:04:11.456125Z",
     "shell.execute_reply": "2025-03-26T00:04:11.455954Z"
    }
   },
   "outputs": [
    {
     "data": {
      "text/plain": [
       "12423"
      ]
     },
     "execution_count": 24,
     "metadata": {},
     "output_type": "execute_result"
    }
   ],
   "source": [
    "len(total_df)"
   ]
  },
  {
   "cell_type": "code",
   "execution_count": 25,
   "id": "ddcc409f-5f04-43b4-bccf-3d364db68884",
   "metadata": {
    "execution": {
     "iopub.execute_input": "2025-03-26T00:04:11.456904Z",
     "iopub.status.busy": "2025-03-26T00:04:11.456840Z",
     "iopub.status.idle": "2025-03-26T00:04:11.458058Z",
     "shell.execute_reply": "2025-03-26T00:04:11.457907Z"
    }
   },
   "outputs": [],
   "source": [
    "save_total_file_url = './make_file/증폭_종합_데이터.csv'"
   ]
  },
  {
   "cell_type": "code",
   "execution_count": 26,
   "id": "5635e65c-20f0-4b40-9167-dea24bd883fb",
   "metadata": {
    "execution": {
     "iopub.execute_input": "2025-03-26T00:04:11.458836Z",
     "iopub.status.busy": "2025-03-26T00:04:11.458788Z",
     "iopub.status.idle": "2025-03-26T00:04:11.483055Z",
     "shell.execute_reply": "2025-03-26T00:04:11.482881Z"
    }
   },
   "outputs": [
    {
     "name": "stdout",
     "output_type": "stream",
     "text": [
      "./make_file/증폭_열선_데이터.csv 파일 저장 성공\n"
     ]
    }
   ],
   "source": [
    "try :\n",
    "    total_df.to_csv(save_total_file_url, index=False)\n",
    "    print(f\"{save_file_url} 파일 저장 성공\")\n",
    "except OSError as e:\n",
    "    print(e)"
   ]
  },
  {
   "cell_type": "code",
   "execution_count": null,
   "id": "63b77b5e-e2f0-46de-911d-c7da2b5bf743",
   "metadata": {},
   "outputs": [],
   "source": [
    "\n"
   ]
  }
 ],
 "metadata": {
  "kernelspec": {
   "display_name": "Python 3 (ipykernel)",
   "language": "python",
   "name": "python3"
  },
  "language_info": {
   "codemirror_mode": {
    "name": "ipython",
    "version": 3
   },
   "file_extension": ".py",
   "mimetype": "text/x-python",
   "name": "python",
   "nbconvert_exporter": "python",
   "pygments_lexer": "ipython3",
   "version": "3.13.2"
  }
 },
 "nbformat": 4,
 "nbformat_minor": 5
}
