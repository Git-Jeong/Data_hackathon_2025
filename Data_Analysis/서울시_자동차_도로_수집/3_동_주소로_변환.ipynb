{
 "cells": [
  {
   "cell_type": "markdown",
   "id": "cbd7ee0d-c0cd-4d25-a0ed-a234ec053c61",
   "metadata": {},
   "source": [
    "#### 입력 : ./make_file/division/first_round/서울시_자동차도로_분할_{숫자}.csv \n",
    "#### 출력 : ./make_file/division/second_round/서울시_도로_{숫자}.csv"
   ]
  },
  {
   "cell_type": "markdown",
   "id": "ff87fee7-a617-4be9-821c-526b4d9b6d1d",
   "metadata": {},
   "source": [
    "## 서울시 각 동별로 도로 수가 몇 개 인지 파악하기 위한 것"
   ]
  },
  {
   "cell_type": "code",
   "execution_count": 160,
   "id": "beca1472-9b92-4599-8e3f-dce28f3627b9",
   "metadata": {},
   "outputs": [],
   "source": [
    "import pandas as pd \n",
    "import requests\n",
    "from tqdm import tqdm \n",
    "import os"
   ]
  },
  {
   "cell_type": "code",
   "execution_count": null,
   "id": "e4b9ab25-ae42-40cd-b9a9-fbbc20261ed4",
   "metadata": {},
   "outputs": [],
   "source": []
  },
  {
   "cell_type": "code",
   "execution_count": 161,
   "id": "b0cbfa82-8561-4865-8f1d-61fee1486b15",
   "metadata": {},
   "outputs": [],
   "source": [
    "# 파일이 저장된 폴더 경로\n",
    "folder_path = \"./make_file/division/first_round/\" \n",
    "file_encoding = \"UTF-8\"\n",
    "\n",
    "output_file_url = \"./make_file/division/second_round/서울시_도로\""
   ]
  },
  {
   "cell_type": "code",
   "execution_count": 162,
   "id": "d5468efb-4951-482e-9ae7-715e37298d78",
   "metadata": {},
   "outputs": [],
   "source": [
    "# 조건을 만족하는 파일 목록\n",
    "valid_files = [] "
   ]
  },
  {
   "cell_type": "code",
   "execution_count": 163,
   "id": "934a73c0-1042-4184-a852-e86c154815ad",
   "metadata": {},
   "outputs": [
    {
     "name": "stdout",
     "output_type": "stream",
     "text": [
      "./make_file/division/second_round/서울시_도로_03.csv 파일이 이미 있습니다.\n",
      "./make_file/division/second_round/서울시_도로_02.csv 파일이 이미 있습니다.\n",
      "./make_file/division/second_round/서울시_도로_16.csv 파일이 이미 있습니다.\n",
      "./make_file/division/second_round/서울시_도로_14.csv 파일이 이미 있습니다.\n",
      "./make_file/division/second_round/서울시_도로_15.csv 파일이 이미 있습니다.\n",
      "./make_file/division/second_round/서울시_도로_01.csv 파일이 이미 있습니다.\n",
      "./make_file/division/second_round/서울시_도로_05.csv 파일이 이미 있습니다.\n",
      "./make_file/division/second_round/서울시_도로_11.csv 파일이 이미 있습니다.\n",
      "./make_file/division/second_round/서울시_도로_04.csv 파일이 이미 있습니다.\n",
      "./make_file/division/second_round/서울시_도로_12.csv 파일이 이미 있습니다.\n",
      "./make_file/division/second_round/서울시_도로_06.csv 파일이 이미 있습니다.\n",
      "./make_file/division/second_round/서울시_도로_07.csv 파일이 이미 있습니다.\n",
      "./make_file/division/second_round/서울시_도로_13.csv 파일이 이미 있습니다.\n",
      "./make_file/division/second_round/서울시_도로_09.csv 파일이 이미 있습니다.\n",
      "./make_file/division/second_round/서울시_도로_08.csv 파일이 이미 있습니다.\n"
     ]
    }
   ],
   "source": [
    "for temp_file_name in os.listdir(folder_path):\n",
    "    file_name = temp_file_name.replace(\"_\", \" \") \n",
    "    if \"서울시 자동차도로 분할\" in file_name and file_name.endswith(\".csv\"):\n",
    "        file_path = os.path.join(folder_path, temp_file_name)  # 안전한 경로 조합\n",
    "\n",
    "        try:\n",
    "            # CSV 파일 전체 읽기\n",
    "            df = pd.read_csv(file_path, encoding=file_encoding, low_memory=False)\n",
    "\n",
    "            # 컬럼명 앞뒤 공백 제거\n",
    "            df.columns = df.columns.str.strip()\n",
    "\n",
    "            # 필요한 컬럼이 존재하는지 확인\n",
    "            if {\"중앙점_위도\", \"중앙점_경도\"}.issubset(df.columns):\n",
    "                check = file_name.replace(\"서울시 자동차도로 분할 \" , \"\") \n",
    "                temp_check_file_url = output_file_url + \"_\" + check\n",
    "                \n",
    "                output_check = os.path.isfile(temp_check_file_url) \n",
    "                \n",
    "                if output_check is False :\n",
    "                    valid_files.append(file_path)\n",
    "                else :\n",
    "                    print(f\"{temp_check_file_url} 파일이 이미 있습니다.\")\n",
    "        except Exception as e:\n",
    "            print(f\"파일 {file_name} 처리 중 오류 발생: {e}\")\n"
   ]
  },
  {
   "cell_type": "code",
   "execution_count": 164,
   "id": "23d93c32-81e7-4cef-a64e-44401e2acf37",
   "metadata": {},
   "outputs": [
    {
     "data": {
      "text/plain": [
       "1"
      ]
     },
     "execution_count": 164,
     "metadata": {},
     "output_type": "execute_result"
    }
   ],
   "source": [
    "len(valid_files)"
   ]
  },
  {
   "cell_type": "markdown",
   "id": "936a9d36-65da-4ecf-8767-e029efcce536",
   "metadata": {},
   "source": [
    "### kakao"
   ]
  },
  {
   "cell_type": "code",
   "execution_count": 165,
   "id": "c9e95b37-b3f7-4db0-8128-a82c2b9cb881",
   "metadata": {},
   "outputs": [
    {
     "name": "stdout",
     "output_type": "stream",
     "text": [
      "사이트\n",
      "공공데이터                 1\n",
      "kakao_api_key_REST    1\n",
      "카카오 JS                1\n",
      "국토부v-world            1\n",
      "GOOGLE_MAP            1\n",
      "행정안전부                 1\n",
      "Name: count, dtype: int64\n"
     ]
    }
   ],
   "source": [
    "api_key_url = '../API_KEY/API_KEYS.xlsx'\n",
    "open_api_key_file = pd.read_excel(api_key_url)\n",
    " \n",
    "print(open_api_key_file['사이트'].value_counts())\n",
    "\n",
    "get_api_key = open_api_key_file[open_api_key_file['사이트'] == 'kakao_api_key_REST'].values[0][1]  \n",
    "\n",
    "# KAKAO API KEY 값 \n",
    "KAKAO_API_KEY = get_api_key  "
   ]
  },
  {
   "cell_type": "code",
   "execution_count": 166,
   "id": "ee60a742-a05f-4f04-8583-86ab37362494",
   "metadata": {},
   "outputs": [],
   "source": [
    "def kakao_map_api(lat, lon):\n",
    "    latitude = lat\n",
    "    longitude = lon\n",
    "    \n",
    "    # 카카오 맵 API URL\n",
    "    url = f\"https://dapi.kakao.com/v2/local/geo/coord2address.json?x={longitude}&y={latitude}\"\n",
    "    \n",
    "    # API 요청 헤더\n",
    "    headers = {\n",
    "        \"Authorization\": f\"KakaoAK {KAKAO_API_KEY}\"\n",
    "    }\n",
    "    \n",
    "    # API 호출\n",
    "    response = requests.get(url, headers=headers)\n",
    "    data = response.json()\n",
    "\n",
    "    # 응답이 유효한지 확인\n",
    "    if 'documents' in data and len(data['documents']) > 0:\n",
    "        region_3depth_name = data['documents'][0]['address']['region_3depth_name'] \n",
    "        \n",
    "    else:\n",
    "        # 데이터가 없을 경우 기본값 처리 \n",
    "        return None\n",
    "    \n",
    "    return region_3depth_name"
   ]
  },
  {
   "cell_type": "code",
   "execution_count": null,
   "id": "b61bfc2e-ec89-4051-bde9-b35ba07c159c",
   "metadata": {},
   "outputs": [
    {
     "name": "stdout",
     "output_type": "stream",
     "text": [
      "작업 중 : ./make_file/division/first_round/서울시_자동차도로_분할_10.csv\n"
     ]
    },
    {
     "name": "stderr",
     "output_type": "stream",
     "text": [
      "  0%|▏                                       | 38/10000 [00:03<14:56, 11.11it/s]"
     ]
    }
   ],
   "source": [
    "for file_path in valid_files:  \n",
    "    data = pd.read_csv(file_path, encoding=file_encoding, low_memory=False)\n",
    "\n",
    "    lat_list = data[\"중앙점_위도\"].to_list()\n",
    "    lon_list = data[\"중앙점_경도\"].to_list() \n",
    "\n",
    "    is_none = 0\n",
    "    \n",
    "    dong_list = [] \n",
    "    print(f\"작업 중 : {file_path}\")\n",
    "    for i in tqdm(range(len(lat_list))):\n",
    "        lat = lat_list[i]\n",
    "        lon = lon_list[i]\n",
    "        dong = kakao_map_api(lat, lon)\n",
    "        dong_list.append(dong)   \n",
    "        if dong is None :\n",
    "            is_none += 1\n",
    "            \n",
    "    print(f\"불러온 행정동의 수 : {len(dong_list)}\")\n",
    "    print(f\"None의 수 : {is_none}\")\n",
    "\n",
    "    data[\"행정동\"] = dong_list\n",
    "    \n",
    "    try :\n",
    "        temp_out_url = file_path.replace(\"./make_file/division/first_round/서울시_자동차도로_분할_\" , \"\") \n",
    "        save_file_url = output_file_url + \"_\" + temp_out_url \n",
    "        data.to_csv(save_file_url, index=False)\n",
    "        print(f\"{save_file_url} 파일 저장 완료.\", end =\"\\n\\n\")\n",
    "    except OSError as e :\n",
    "        print(e)"
   ]
  },
  {
   "cell_type": "code",
   "execution_count": null,
   "id": "24ebe283-4f9c-4697-a2d8-d3f2aaabfa66",
   "metadata": {},
   "outputs": [],
   "source": []
  }
 ],
 "metadata": {
  "kernelspec": {
   "display_name": "Python 3 (ipykernel)",
   "language": "python",
   "name": "python3"
  },
  "language_info": {
   "codemirror_mode": {
    "name": "ipython",
    "version": 3
   },
   "file_extension": ".py",
   "mimetype": "text/x-python",
   "name": "python",
   "nbconvert_exporter": "python",
   "pygments_lexer": "ipython3",
   "version": "3.13.2"
  }
 },
 "nbformat": 4,
 "nbformat_minor": 5
}
