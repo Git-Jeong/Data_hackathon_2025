{
 "cells": [
  {
   "cell_type": "code",
   "execution_count": 17,
   "id": "dbc3b6ff-e6d0-4e4a-80b8-24864ecf8834",
   "metadata": {},
   "outputs": [],
   "source": [
    "from tqdm import tqdm\n",
    "import pandas as pd"
   ]
  },
  {
   "cell_type": "code",
   "execution_count": 18,
   "id": "4a778362-ec08-4983-84e4-04c7167ed983",
   "metadata": {},
   "outputs": [],
   "source": [
    "data_url = './make_file/(거리측정)_서울열선_광진도로.csv'\n",
    "road_url = \"./data/서울시 도로노선 정보.csv\""
   ]
  },
  {
   "cell_type": "code",
   "execution_count": 19,
   "id": "59ab4431-8143-44ac-8681-170d5e2b4930",
   "metadata": {},
   "outputs": [],
   "source": [
    "data = pd.read_csv(data_url, encoding=\"utf-8\", low_memory=False)\n",
    "road_data = pd.read_csv(road_url, encoding=\"EUC-KR\", low_memory=False)"
   ]
  },
  {
   "cell_type": "code",
   "execution_count": 20,
   "id": "6d7653fc-b93c-4bfd-97cd-463b6f1d30af",
   "metadata": {},
   "outputs": [],
   "source": [
    "road_data.rename(columns={'노선명(도로명)': '도로명'}, inplace=True)"
   ]
  },
  {
   "cell_type": "code",
   "execution_count": 21,
   "id": "15b95756-ec73-4443-8c57-9472f5b44065",
   "metadata": {},
   "outputs": [
    {
     "data": {
      "text/plain": [
       "Index(['도로명', '열선', '도로 종류', '시작점_위도', '시작점_경도', '종료점_위도', '종료점_경도', '중앙점_위도',\n",
       "       '중앙점_경도', '도로_길이', '행정동', '도로폭', '도로규모', '행정구역', '고도의_차이', '경사각',\n",
       "       '최근접_시설들_거리', '최근접_시설의_평균거리'],\n",
       "      dtype='object')"
      ]
     },
     "execution_count": 21,
     "metadata": {},
     "output_type": "execute_result"
    }
   ],
   "source": [
    "data.columns"
   ]
  },
  {
   "cell_type": "code",
   "execution_count": 22,
   "id": "db1fee15-5b19-4d11-a357-3d5c53380740",
   "metadata": {},
   "outputs": [
    {
     "data": {
      "text/plain": [
       "Index(['순번', '도로명', '도로종류', '도로기능', '도로규모', '도로폭'], dtype='object')"
      ]
     },
     "execution_count": 22,
     "metadata": {},
     "output_type": "execute_result"
    }
   ],
   "source": [
    "road_data.columns"
   ]
  },
  {
   "cell_type": "code",
   "execution_count": 23,
   "id": "7e298c79-d100-45eb-a562-8adbdad61cca",
   "metadata": {},
   "outputs": [
    {
     "data": {
      "text/plain": [
       "도로명               0\n",
       "열선                0\n",
       "도로 종류             2\n",
       "시작점_위도            0\n",
       "시작점_경도            0\n",
       "종료점_위도            0\n",
       "종료점_경도            0\n",
       "중앙점_위도            0\n",
       "중앙점_경도            0\n",
       "도로_길이             0\n",
       "행정동               0\n",
       "도로폭             154\n",
       "도로규모            154\n",
       "행정구역              0\n",
       "고도의_차이            0\n",
       "경사각               0\n",
       "최근접_시설들_거리        0\n",
       "최근접_시설의_평균거리      0\n",
       "dtype: int64"
      ]
     },
     "execution_count": 23,
     "metadata": {},
     "output_type": "execute_result"
    }
   ],
   "source": [
    "data.isnull().sum()"
   ]
  },
  {
   "cell_type": "code",
   "execution_count": 24,
   "id": "2ca5de34-ea50-453a-946f-b0bf911a3c3a",
   "metadata": {},
   "outputs": [
    {
     "name": "stderr",
     "output_type": "stream",
     "text": [
      "100%|████████████████████████████████████| 7212/7212 [00:00<00:00, 41197.58it/s]\n"
     ]
    }
   ],
   "source": [
    "for i in tqdm(range(len(data))) :\n",
    "    if ',' in data.loc[i, '도로명'] :\n",
    "        temp = data.loc[i, '도로명']\n",
    "        temp = temp.split(',')[0]  \n",
    "        temp = temp.replace(\"[\\'\", \"\")\n",
    "        temp = temp.replace(\"\\'\", '')\n",
    "        data.loc[i, '도로명'] = temp \n",
    "        \n",
    "        if not road_data[road_data['도로명'] == temp].empty:\n",
    "            matching_indices = road_data[road_data['도로명'] == temp].index\n",
    "            road_type = road_data.loc[matching_indices[0], \"도로종류\"]\n",
    "            road_scale = road_data.loc[matching_indices[0], \"도로규모\"]\n",
    "            road_width = road_data.loc[matching_indices[0], \"도로폭\"]\n",
    "            \n",
    "            data.loc[i, '도로 종류'] = road_type\n",
    "            data.loc[i, '도로규모'] = road_scale\n",
    "            data.loc[i, '도로폭'] = road_width "
   ]
  },
  {
   "cell_type": "code",
   "execution_count": 25,
   "id": "d7fd7425-972f-4dc0-b235-3c8feb154f61",
   "metadata": {},
   "outputs": [
    {
     "data": {
      "text/plain": [
       "도로명              0\n",
       "열선               0\n",
       "도로 종류            1\n",
       "시작점_위도           0\n",
       "시작점_경도           0\n",
       "종료점_위도           0\n",
       "종료점_경도           0\n",
       "중앙점_위도           0\n",
       "중앙점_경도           0\n",
       "도로_길이            0\n",
       "행정동              0\n",
       "도로폭             74\n",
       "도로규모            74\n",
       "행정구역             0\n",
       "고도의_차이           0\n",
       "경사각              0\n",
       "최근접_시설들_거리       0\n",
       "최근접_시설의_평균거리     0\n",
       "dtype: int64"
      ]
     },
     "execution_count": 25,
     "metadata": {},
     "output_type": "execute_result"
    }
   ],
   "source": [
    "data.isnull().sum()"
   ]
  },
  {
   "cell_type": "code",
   "execution_count": 26,
   "id": "9e06affc-14dd-4d73-8fb0-312d54e94627",
   "metadata": {},
   "outputs": [
    {
     "data": {
      "text/plain": [
       "array(['3차로', '주거지 도로', '생활도로', '일반도로', nan], dtype=object)"
      ]
     },
     "execution_count": 26,
     "metadata": {},
     "output_type": "execute_result"
    }
   ],
   "source": [
    "data['도로 종류'].unique()"
   ]
  },
  {
   "cell_type": "code",
   "execution_count": 27,
   "id": "27c032eb-5648-4a4b-a2aa-525c49f58791",
   "metadata": {},
   "outputs": [
    {
     "data": {
      "text/html": [
       "<div>\n",
       "<style scoped>\n",
       "    .dataframe tbody tr th:only-of-type {\n",
       "        vertical-align: middle;\n",
       "    }\n",
       "\n",
       "    .dataframe tbody tr th {\n",
       "        vertical-align: top;\n",
       "    }\n",
       "\n",
       "    .dataframe thead th {\n",
       "        text-align: right;\n",
       "    }\n",
       "</style>\n",
       "<table border=\"1\" class=\"dataframe\">\n",
       "  <thead>\n",
       "    <tr style=\"text-align: right;\">\n",
       "      <th></th>\n",
       "      <th>도로명</th>\n",
       "      <th>열선</th>\n",
       "      <th>도로 종류</th>\n",
       "      <th>시작점_위도</th>\n",
       "      <th>시작점_경도</th>\n",
       "      <th>종료점_위도</th>\n",
       "      <th>종료점_경도</th>\n",
       "      <th>중앙점_위도</th>\n",
       "      <th>중앙점_경도</th>\n",
       "      <th>도로_길이</th>\n",
       "      <th>행정동</th>\n",
       "      <th>도로폭</th>\n",
       "      <th>도로규모</th>\n",
       "      <th>행정구역</th>\n",
       "      <th>고도의_차이</th>\n",
       "      <th>경사각</th>\n",
       "      <th>최근접_시설들_거리</th>\n",
       "      <th>최근접_시설의_평균거리</th>\n",
       "    </tr>\n",
       "  </thead>\n",
       "  <tbody>\n",
       "    <tr>\n",
       "      <th>748</th>\n",
       "      <td>동소문로26라길</td>\n",
       "      <td>1</td>\n",
       "      <td>NaN</td>\n",
       "      <td>37.595837</td>\n",
       "      <td>127.020854</td>\n",
       "      <td>37.596564</td>\n",
       "      <td>127.021472</td>\n",
       "      <td>37.5962</td>\n",
       "      <td>127.021163</td>\n",
       "      <td>97.629895</td>\n",
       "      <td>동선동3가</td>\n",
       "      <td>6m미만</td>\n",
       "      <td>소로</td>\n",
       "      <td>성북구</td>\n",
       "      <td>5.388813</td>\n",
       "      <td>3.165797</td>\n",
       "      <td>106.1745548205196 ,106.1745548205196 ,106.1745...</td>\n",
       "      <td>143.996097</td>\n",
       "    </tr>\n",
       "  </tbody>\n",
       "</table>\n",
       "</div>"
      ],
      "text/plain": [
       "          도로명  열선 도로 종류     시작점_위도      시작점_경도     종료점_위도      종료점_경도  \\\n",
       "748  동소문로26라길   1   NaN  37.595837  127.020854  37.596564  127.021472   \n",
       "\n",
       "      중앙점_위도      중앙점_경도      도로_길이    행정동   도로폭 도로규모 행정구역    고도의_차이  \\\n",
       "748  37.5962  127.021163  97.629895  동선동3가  6m미만   소로  성북구  5.388813   \n",
       "\n",
       "          경사각                                         최근접_시설들_거리  최근접_시설의_평균거리  \n",
       "748  3.165797  106.1745548205196 ,106.1745548205196 ,106.1745...    143.996097  "
      ]
     },
     "execution_count": 27,
     "metadata": {},
     "output_type": "execute_result"
    }
   ],
   "source": [
    "data[data['도로 종류'].isna()]"
   ]
  },
  {
   "cell_type": "code",
   "execution_count": 28,
   "id": "339243f9-1567-4dbe-95da-62507992126c",
   "metadata": {},
   "outputs": [
    {
     "name": "stderr",
     "output_type": "stream",
     "text": [
      "Processing Data: 100%|██████████████████| 7212/7212 [00:00<00:00, 183571.75it/s]\n"
     ]
    }
   ],
   "source": [
    "for i in tqdm(range(len(data)), desc=\"Processing Data\"):\n",
    "    if pd.isna(data.loc[i, '도로 종류']):\n",
    "        if data.loc[i, '도로명'] == \"동소문로26라길\" :\n",
    "            data.loc[i, '도로 종류'] = \"주거지 도로\""
   ]
  },
  {
   "cell_type": "code",
   "execution_count": 29,
   "id": "a5a1da0b-460a-49f4-a6aa-4b0caff3291f",
   "metadata": {},
   "outputs": [
    {
     "data": {
      "text/plain": [
       "도로명              0\n",
       "열선               0\n",
       "도로 종류            0\n",
       "시작점_위도           0\n",
       "시작점_경도           0\n",
       "종료점_위도           0\n",
       "종료점_경도           0\n",
       "중앙점_위도           0\n",
       "중앙점_경도           0\n",
       "도로_길이            0\n",
       "행정동              0\n",
       "도로폭             74\n",
       "도로규모            74\n",
       "행정구역             0\n",
       "고도의_차이           0\n",
       "경사각              0\n",
       "최근접_시설들_거리       0\n",
       "최근접_시설의_평균거리     0\n",
       "dtype: int64"
      ]
     },
     "execution_count": 29,
     "metadata": {},
     "output_type": "execute_result"
    }
   ],
   "source": [
    "data.isnull().sum()"
   ]
  },
  {
   "cell_type": "code",
   "execution_count": 30,
   "id": "6c2e6fa6-cf7e-4550-9640-eb1ed8b692cf",
   "metadata": {},
   "outputs": [
    {
     "data": {
      "text/plain": [
       "7212"
      ]
     },
     "execution_count": 30,
     "metadata": {},
     "output_type": "execute_result"
    }
   ],
   "source": [
    "len(data)"
   ]
  },
  {
   "cell_type": "code",
   "execution_count": 31,
   "id": "18e13919-0106-4a12-b008-748687ac98e4",
   "metadata": {},
   "outputs": [
    {
     "name": "stdout",
     "output_type": "stream",
     "text": [
      "./make_file/(최종)_서울열선_광진도로.csv 파일 저장 완료\n"
     ]
    }
   ],
   "source": [
    "try : \n",
    "    data_url = './make_file/(보정)_서울열선_광진도로.csv'\n",
    "    data.to_csv(data_url, encoding=\"utf-8\", index=False)\n",
    "    print(f\"{data_url} 파일 저장 완료\")\n",
    "except OSError as e :\n",
    "    print(e)"
   ]
  },
  {
   "cell_type": "code",
   "execution_count": null,
   "id": "30f3e2d7-6acd-49eb-a82c-01b31f928bae",
   "metadata": {},
   "outputs": [],
   "source": []
  },
  {
   "cell_type": "code",
   "execution_count": null,
   "id": "31aa93a8-b6ec-411e-a92c-ebc9c194f4ba",
   "metadata": {},
   "outputs": [],
   "source": []
  },
  {
   "cell_type": "code",
   "execution_count": null,
   "id": "95da6757-aa62-452e-a4d4-3f5c53a5c86d",
   "metadata": {},
   "outputs": [],
   "source": []
  },
  {
   "cell_type": "code",
   "execution_count": null,
   "id": "f88efe4a-7d58-4a7a-8eb6-c491d1bb1763",
   "metadata": {},
   "outputs": [],
   "source": []
  }
 ],
 "metadata": {
  "kernelspec": {
   "display_name": "Python 3 (ipykernel)",
   "language": "python",
   "name": "python3"
  },
  "language_info": {
   "codemirror_mode": {
    "name": "ipython",
    "version": 3
   },
   "file_extension": ".py",
   "mimetype": "text/x-python",
   "name": "python",
   "nbconvert_exporter": "python",
   "pygments_lexer": "ipython3",
   "version": "3.13.2"
  }
 },
 "nbformat": 4,
 "nbformat_minor": 5
}
