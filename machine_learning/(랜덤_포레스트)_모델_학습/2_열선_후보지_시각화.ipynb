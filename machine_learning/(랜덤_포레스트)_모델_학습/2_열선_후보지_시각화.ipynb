{
 "cells": [
  {
   "cell_type": "code",
   "execution_count": 30,
   "id": "cd6ec28e-6e69-46f1-803b-1c21db68f2ae",
   "metadata": {},
   "outputs": [],
   "source": [
    "import pandas as pd\n",
    "import folium\n",
    "from folium import plugins"
   ]
  },
  {
   "cell_type": "code",
   "execution_count": 31,
   "id": "c2999ffc-d3ff-44b9-a825-5c3302bfe4e0",
   "metadata": {},
   "outputs": [],
   "source": [
    "url = './make_file/(최종)_랜덤_포로스트_리스트.csv' "
   ]
  },
  {
   "cell_type": "code",
   "execution_count": 32,
   "id": "72bc0270-28b0-49bc-9a71-716d6453f61a",
   "metadata": {},
   "outputs": [],
   "source": [
    "df = pd.read_csv(url)"
   ]
  },
  {
   "cell_type": "code",
   "execution_count": 33,
   "id": "815dd3e7-c3de-4707-bf92-5034f979d57d",
   "metadata": {},
   "outputs": [
    {
     "data": {
      "text/plain": [
       "Index(['도로명', '열선', '도로 종류', '시작점_위도', '시작점_경도', '종료점_위도', '종료점_경도', '중앙점_위도',\n",
       "       '중앙점_경도', '도로_길이', '행정동', '도로폭', '도로규모', '행정구역', '고도의_차이', '경사각',\n",
       "       '최근접_시설들_거리', '최근접_시설의_평균거리', '최근접_시설들_최소거리', '최근접_시설들_최대거리',\n",
       "       '예측_열선여부'],\n",
       "      dtype='object')"
      ]
     },
     "execution_count": 33,
     "metadata": {},
     "output_type": "execute_result"
    }
   ],
   "source": [
    "df.columns"
   ]
  },
  {
   "cell_type": "code",
   "execution_count": 34,
   "id": "cc201a68-8a48-40e5-8904-9b6ac6b67c12",
   "metadata": {},
   "outputs": [
    {
     "data": {
      "text/plain": [
       "28"
      ]
     },
     "execution_count": 34,
     "metadata": {},
     "output_type": "execute_result"
    }
   ],
   "source": [
    "len(df)"
   ]
  },
  {
   "cell_type": "code",
   "execution_count": 35,
   "id": "1588c51a-da2a-46c7-aeea-927aaa60c734",
   "metadata": {},
   "outputs": [
    {
     "name": "stdout",
     "output_type": "stream",
     "text": [
      "./make_file/html/랜덤포레스트_결과.html 파일 저장 완료. \n"
     ]
    }
   ],
   "source": [
    "if len(df) > 0 :\n",
    "    \n",
    "    # 시작점과 종료점의 위도, 경도를 기반으로 지도에 직선을 그립니다.\n",
    "    m = folium.Map(location=[df['중앙점_위도'].mean(), df['중앙점_경도'].mean()], zoom_start=12)\n",
    "    \n",
    "    # 데이터프레임의 각 도로에 대해 직선과 마커를 추가합니다.\n",
    "    for idx, row in df.iterrows():\n",
    "        # 시작점과 종료점 좌표\n",
    "        start_point = [row['시작점_위도'], row['시작점_경도']]\n",
    "        end_point = [row['종료점_위도'], row['종료점_경도']]\n",
    "        \n",
    "        # 직선을 그리기\n",
    "        folium.PolyLine([start_point, end_point], color=\"blue\", weight=2.5, opacity=1).add_to(m)\n",
    "    \n",
    "        folium.Marker(\n",
    "            location=end_point,\n",
    "            popup=f\"Index: {idx}<br>도로명: {row['도로명']}\",\n",
    "            icon=folium.Icon(color='green')\n",
    "        ).add_to(m)\n",
    "    \n",
    "    # 지도 출력\n",
    "    try :\n",
    "        save_url = './make_file/html/랜덤포레스트_결과.html'\n",
    "        m.save(save_url)\n",
    "        print(f\"{save_url} 파일 저장 완료. \")\n",
    "    except OSError as e :\n",
    "        print(e)\n",
    "\n",
    "else :\n",
    "    print(f\"파일 길이가 {len(df)}라 지도 제작이 불가능합니다.\")\n"
   ]
  },
  {
   "cell_type": "code",
   "execution_count": null,
   "id": "d7303c44-97e2-4c12-9dd7-6ef591b20428",
   "metadata": {},
   "outputs": [],
   "source": []
  },
  {
   "cell_type": "code",
   "execution_count": null,
   "id": "b2f5baa4-a268-4f67-9edf-e3dd73455220",
   "metadata": {},
   "outputs": [],
   "source": []
  },
  {
   "cell_type": "code",
   "execution_count": null,
   "id": "a9af5f9d-f31f-4551-81c1-ad7b7ee716c1",
   "metadata": {},
   "outputs": [],
   "source": []
  },
  {
   "cell_type": "code",
   "execution_count": null,
   "id": "27b45f15-6679-4789-8183-631c66b8aa93",
   "metadata": {},
   "outputs": [],
   "source": []
  },
  {
   "cell_type": "code",
   "execution_count": null,
   "id": "478d7c43-afeb-4f6d-8fad-1cf404515c75",
   "metadata": {},
   "outputs": [],
   "source": []
  },
  {
   "cell_type": "code",
   "execution_count": null,
   "id": "11d60758-41e4-4c16-91ee-e43acc569a47",
   "metadata": {},
   "outputs": [],
   "source": []
  },
  {
   "cell_type": "code",
   "execution_count": null,
   "id": "1140aecf-33b7-434b-a509-ca1b19747cb0",
   "metadata": {},
   "outputs": [],
   "source": []
  }
 ],
 "metadata": {
  "kernelspec": {
   "display_name": "Python [conda env:base] *",
   "language": "python",
   "name": "conda-base-py"
  },
  "language_info": {
   "codemirror_mode": {
    "name": "ipython",
    "version": 3
   },
   "file_extension": ".py",
   "mimetype": "text/x-python",
   "name": "python",
   "nbconvert_exporter": "python",
   "pygments_lexer": "ipython3",
   "version": "3.12.7"
  }
 },
 "nbformat": 4,
 "nbformat_minor": 5
}
