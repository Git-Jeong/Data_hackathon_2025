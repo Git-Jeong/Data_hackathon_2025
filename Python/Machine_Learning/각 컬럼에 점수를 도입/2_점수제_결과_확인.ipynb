{
 "cells": [
  {
   "cell_type": "code",
   "execution_count": 7,
   "id": "d9b7e8a0-2ab0-4b22-a76b-bc035700d913",
   "metadata": {},
   "outputs": [],
   "source": [
    "import pandas as pd\n",
    "import folium\n",
    "from folium import plugins"
   ]
  },
  {
   "cell_type": "code",
   "execution_count": 8,
   "id": "678bff5b-cf55-4aba-b726-0fef9a0b6957",
   "metadata": {},
   "outputs": [],
   "source": [
    "file_url = './make_file/점수제_결과.csv'\n",
    "file_encoding = 'UTF-8'"
   ]
  },
  {
   "cell_type": "code",
   "execution_count": 9,
   "id": "8bf81f4e-eded-4367-aa7a-796fcf1bfcff",
   "metadata": {},
   "outputs": [],
   "source": [
    "df = pd.read_csv(file_url, encoding=file_encoding, low_memory=False)"
   ]
  },
  {
   "cell_type": "code",
   "execution_count": 10,
   "id": "db17f247-c545-4801-969a-52ffc175c3ce",
   "metadata": {},
   "outputs": [],
   "source": [
    "set_max_count = 30\n",
    "set_start_index = 0"
   ]
  },
  {
   "cell_type": "code",
   "execution_count": 11,
   "id": "ef90a9c4-0d1f-48c3-8cb5-11bb7f3b4f0c",
   "metadata": {},
   "outputs": [],
   "source": [
    "max_count = set_start_index + set_max_count"
   ]
  },
  {
   "cell_type": "code",
   "execution_count": 12,
   "id": "b3b0d029-8d19-429d-a8bc-19803902bea4",
   "metadata": {},
   "outputs": [
    {
     "name": "stdout",
     "output_type": "stream",
     "text": [
      "./make_file/점수제_파일_결과_30.html 파일 저장 완료. \n"
     ]
    }
   ],
   "source": [
    "if len(df) > 0:\n",
    "    # 시작점과 종료점의 위도, 경도를 기반으로 지도에 직선을 그립니다.\n",
    "    m = folium.Map(location=[df['중앙점_위도'].mean(), df['중앙점_경도'].mean()], zoom_start=12)\n",
    "\n",
    "    # 데이터프레임의 각 도로에 대해 직선과 마커를 추가합니다.\n",
    "    for idx, row in df.iloc[set_start_index:max_count].iterrows():  # 최대 max_count개의 데이터만 사용\n",
    "        # 시작점과 종료점 좌표\n",
    "        start_point = [row['시작점_위도'], row['시작점_경도']]\n",
    "        center_point = [row['중앙점_위도'], row['중앙점_경도']]\n",
    "        end_point = [row['종료점_위도'], row['종료점_경도']]\n",
    "\n",
    "        # 직선을 그리기\n",
    "        folium.PolyLine([start_point, end_point], color=\"blue\", weight=2.5, opacity=1).add_to(m)\n",
    "\n",
    "        folium.Marker(\n",
    "            location=center_point,\n",
    "            popup=f\"Index: {idx}<br>도로명: {row['도로명']}\",\n",
    "            icon=folium.Icon(color='green')\n",
    "        ).add_to(m)\n",
    "\n",
    "    # 지도 출력\n",
    "    try:\n",
    "        len_size = 0\n",
    "        if set_max_count > len(df) :\n",
    "            len_size = len(df)\n",
    "        else :\n",
    "            len_size = set_max_count\n",
    "        save_url = f'./make_file/점수제_파일_결과_{len_size}.html'\n",
    "        m.save(save_url)\n",
    "        print(f\"{save_url} 파일 저장 완료. \")\n",
    "    except OSError as e:\n",
    "        print(e)\n",
    "\n",
    "else:\n",
    "    print(f\"파일 길이가 {len(df)}라 지도 제작이 불가능합니다.\")\n"
   ]
  },
  {
   "cell_type": "code",
   "execution_count": null,
   "id": "ad2180e3-dabf-48c7-957d-ebda66b7cbd3",
   "metadata": {},
   "outputs": [],
   "source": []
  },
  {
   "cell_type": "code",
   "execution_count": null,
   "id": "ed61c105-276c-4b58-8b04-a1a979d63ca0",
   "metadata": {},
   "outputs": [],
   "source": []
  },
  {
   "cell_type": "code",
   "execution_count": null,
   "id": "86d5da67-6068-4d8c-a3e8-895859f2e1f2",
   "metadata": {},
   "outputs": [],
   "source": []
  },
  {
   "cell_type": "code",
   "execution_count": null,
   "id": "715ba7af-2467-4280-a65c-c9856188930a",
   "metadata": {},
   "outputs": [],
   "source": []
  },
  {
   "cell_type": "code",
   "execution_count": null,
   "id": "e8b5b4a6-a65a-4427-a50b-01b903df1638",
   "metadata": {},
   "outputs": [],
   "source": []
  }
 ],
 "metadata": {
  "kernelspec": {
   "display_name": "Python 3 (ipykernel)",
   "language": "python",
   "name": "python3"
  },
  "language_info": {
   "codemirror_mode": {
    "name": "ipython",
    "version": 3
   },
   "file_extension": ".py",
   "mimetype": "text/x-python",
   "name": "python",
   "nbconvert_exporter": "python",
   "pygments_lexer": "ipython3",
   "version": "3.13.2"
  }
 },
 "nbformat": 4,
 "nbformat_minor": 5
}
