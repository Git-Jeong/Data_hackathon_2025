{
 "cells": [
  {
   "cell_type": "code",
   "execution_count": null,
   "id": "966bdac1-e610-45e6-859c-08e1f52b1685",
   "metadata": {},
   "outputs": [],
   "source": []
  }
 ],
 "metadata": {
  "kernelspec": {
   "display_name": "",
   "name": ""
  },
  "language_info": {
   "name": ""
  }
 },
 "nbformat": 4,
 "nbformat_minor": 5
}
