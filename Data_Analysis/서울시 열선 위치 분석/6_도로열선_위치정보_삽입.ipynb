{
 "cells": [
  {
   "cell_type": "code",
   "execution_count": 19,
   "id": "53199b8a-22bb-4fbe-be62-bb39724e4ad6",
   "metadata": {},
   "outputs": [],
   "source": [
    "import pandas as pd\n",
    "import requests\n",
    "from tqdm import tqdm"
   ]
  },
  {
   "cell_type": "code",
   "execution_count": 2,
   "id": "1a2cce70-74a3-47dc-977c-1488dbc9310a",
   "metadata": {},
   "outputs": [],
   "source": [
    "url = './make_file/(KDT)_열선_취약시설_거리.csv'\n",
    "file_encoding = 'EUC-KR'"
   ]
  },
  {
   "cell_type": "code",
   "execution_count": 3,
   "id": "6e4f881f-619b-4db3-a09f-b04e9c913363",
   "metadata": {},
   "outputs": [],
   "source": [
    "data = pd.read_csv(url, encoding=file_encoding)"
   ]
  },
  {
   "cell_type": "code",
   "execution_count": 4,
   "id": "1ba55d08-c8fa-496e-9433-73d03e5ef7db",
   "metadata": {},
   "outputs": [
    {
     "data": {
      "text/plain": [
       "569"
      ]
     },
     "execution_count": 4,
     "metadata": {},
     "output_type": "execute_result"
    }
   ],
   "source": [
    "len(data)"
   ]
  },
  {
   "cell_type": "code",
   "execution_count": 5,
   "id": "abf4b636-0a87-4086-a7b1-f3c3854a3bbf",
   "metadata": {},
   "outputs": [
    {
     "data": {
      "text/plain": [
       "Index(['중점_위도', '중점_경도', '경사각', '최근접_시설의_평균거리', '열선여부'], dtype='object')"
      ]
     },
     "execution_count": 5,
     "metadata": {},
     "output_type": "execute_result"
    }
   ],
   "source": [
    "data.columns"
   ]
  },
  {
   "cell_type": "code",
   "execution_count": 7,
   "id": "117a1724-207a-4aa1-81f4-8bc24b2275f0",
   "metadata": {},
   "outputs": [
    {
     "name": "stdout",
     "output_type": "stream",
     "text": [
      "컬럼 없음\n"
     ]
    }
   ],
   "source": [
    "try :\n",
    "    data = data.drop(columns=\"Unnamed: 0\")\n",
    "except :\n",
    "    print('컬럼 없음')"
   ]
  },
  {
   "cell_type": "markdown",
   "id": "475cda5d-5ba6-4619-b97e-f4401884a766",
   "metadata": {},
   "source": [
    "## 행안부 API"
   ]
  },
  {
   "cell_type": "code",
   "execution_count": 9,
   "id": "fcb6a59a-7c03-4ac2-9aa1-9d592d96b5e6",
   "metadata": {},
   "outputs": [],
   "source": [
    "api_key_url = '../API_KEY/API_KEYS.xlsx'\n",
    "open_api_key_file = pd.read_excel(api_key_url)\n",
    " \n",
    "open_api_key_file['사이트'].value_counts()\n",
    "\n",
    "get_gov_api_key = open_api_key_file[open_api_key_file['사이트'] == '행정안전부'].values[0][1]  "
   ]
  },
  {
   "cell_type": "code",
   "execution_count": 11,
   "id": "829e767d-9471-43cb-95e3-1456f403c83a",
   "metadata": {},
   "outputs": [],
   "source": [
    "# 변환할 지번 주소 입력 \n",
    "\n",
    "def old_address_to_road_address(old_address) : \n",
    "    url = f\"https://www.juso.go.kr/addrlink/addrLinkApi.do?confmKey={get_gov_api_key}&keyword={old_address}&resultType=json\"\n",
    "    \n",
    "    # API 요청\n",
    "    response = requests.get(url)\n",
    "    \n",
    "    if response.status_code == 200:\n",
    "        data = response.json()\n",
    "        # print(data)\n",
    "        if \"results\" in data and \"juso\" in data[\"results\"] and data[\"results\"][\"juso\"]:\n",
    "            road_addresses = [juso['roadAddr'] for juso in data['results']['juso']]\n",
    "            return road_addresses[0]\n",
    "        else:\n",
    "            return None\n",
    "    else:\n",
    "        return None"
   ]
  },
  {
   "cell_type": "markdown",
   "id": "1bdbd84e-77af-4962-813e-1ce130e99793",
   "metadata": {},
   "source": [
    "## KAKAO API"
   ]
  },
  {
   "cell_type": "code",
   "execution_count": 12,
   "id": "518260ea-31dc-4eeb-b8d3-13757f616075",
   "metadata": {},
   "outputs": [],
   "source": [
    "api_key_url = '../API_KEY/API_KEYS.xlsx'\n",
    "open_api_key_file = pd.read_excel(api_key_url)\n",
    " \n",
    "open_api_key_file['사이트'].value_counts()\n",
    "\n",
    "get_api_key = open_api_key_file[open_api_key_file['사이트'] == 'kakao_api_key_REST'].values[0][1]  "
   ]
  },
  {
   "cell_type": "code",
   "execution_count": 13,
   "id": "66601278-5965-44b3-bf75-3fefd7a8653f",
   "metadata": {},
   "outputs": [],
   "source": [
    "# KAKAO API KEY 값 \n",
    "KAKAO_API_KEY = get_api_key  "
   ]
  },
  {
   "cell_type": "code",
   "execution_count": 21,
   "id": "b9e41abe-218e-4503-a30d-5a68e550ebc0",
   "metadata": {},
   "outputs": [],
   "source": [
    "# 서울시 광진구 위도, 경도 \n",
    "def kakao_map_api(lat, lon):\n",
    "    latitude = lat\n",
    "    longitude = lon\n",
    "    \n",
    "    # 카카오 맵 API URL\n",
    "    url = f\"https://dapi.kakao.com/v2/local/geo/coord2address.json?x={longitude}&y={latitude}\"\n",
    "    \n",
    "    # API 요청 헤더\n",
    "    headers = {\n",
    "        \"Authorization\": f\"KakaoAK {KAKAO_API_KEY}\"\n",
    "    }\n",
    "    \n",
    "    # API 호출\n",
    "    response = requests.get(url, headers=headers)\n",
    "    \n",
    "    if response.status_code == 200:\n",
    "        data = response.json()\n",
    "        \n",
    "        # 데이터가 비어 있지 않으면 처리\n",
    "        if data.get('documents'):\n",
    "            region_3depth_name = data['documents'][0]['address'].get('region_3depth_name', '')\n",
    "            temp_address_name = data['documents'][0]['address'].get('address_name', '')\n",
    "            address_name = data['documents'][0].get('road_address', None)\n",
    "            \n",
    "            if address_name is None:\n",
    "                temp = old_address_to_road_address(temp_address_name)\n",
    "                if temp is None:\n",
    "                    address_name = temp_address_name\n",
    "                    is_road_address = 0  # False\n",
    "                else:\n",
    "                    address_name = temp\n",
    "                    is_road_address = 1  # True\n",
    "            else:\n",
    "                is_road_address = 1  # True\n",
    "                \n",
    "            if isinstance(address_name, dict):\n",
    "                address_name = address_name.get(\"address_name\", \"\")  # 기본값을 빈 문자열로 설정\n",
    "            \n",
    "            # 문자열에서 특정 단어 제거\n",
    "            address_name = address_name.replace(\"서울특별시 \", \"\")\n",
    "            address_name = address_name.replace(\"서울 \", \"\") \n",
    "            \n",
    "            return region_3depth_name, address_name, is_road_address\n",
    "        else:\n",
    "            return None, None, False  # 결과가 없을 경우 처리\n",
    "    else:\n",
    "        return None, None, False  # API 호출 실패 시 처리\n"
   ]
  },
  {
   "cell_type": "code",
   "execution_count": 22,
   "id": "7b018489-8172-45d2-aa01-b84aaf7ecdee",
   "metadata": {},
   "outputs": [
    {
     "name": "stdout",
     "output_type": "stream",
     "text": [
      "569\n",
      "569\n"
     ]
    }
   ],
   "source": [
    "lat_list = data[\"중점_위도\"].to_list()\n",
    "lon_list = data[\"중점_경도\"].to_list()\n",
    "\n",
    "print(len(lat_list))\n",
    "print(len(lon_list))"
   ]
  },
  {
   "cell_type": "code",
   "execution_count": 23,
   "id": "a7c11e80-551d-4e80-8d97-60bcc52d4fb8",
   "metadata": {},
   "outputs": [
    {
     "name": "stderr",
     "output_type": "stream",
     "text": [
      "100%|█████████████████████████████████████████| 569/569 [01:38<00:00,  5.78it/s]\n"
     ]
    }
   ],
   "source": [
    "dong_list = []\n",
    "road_address_list = []\n",
    "is_road_address_list = []\n",
    "\n",
    "for i in tqdm(range(len(lat_list))) :\n",
    "# for i in tqdm(range(60)) :\n",
    "    lat = lat_list[i]\n",
    "    lon = lon_list[i]\n",
    "    dong, road_address, is_road_address = kakao_map_api(lat, lon)\n",
    "    \n",
    "    # print(dong, road_address, is_road_address)\n",
    "    \n",
    "    dong_list.append(dong)\n",
    "    road_address_list.append(road_address)\n",
    "    is_road_address_list.append(is_road_address)"
   ]
  },
  {
   "cell_type": "code",
   "execution_count": 24,
   "id": "71676e6a-802c-4207-9a05-1f1248ba62e9",
   "metadata": {},
   "outputs": [
    {
     "name": "stdout",
     "output_type": "stream",
     "text": [
      "569\n",
      "569\n",
      "569\n"
     ]
    }
   ],
   "source": [
    "print(len(dong_list))\n",
    "print(len(road_address_list))\n",
    "print(len(is_road_address_list))"
   ]
  },
  {
   "cell_type": "code",
   "execution_count": 25,
   "id": "5f2f5240-4864-4fbb-93c0-cebbae5ae163",
   "metadata": {},
   "outputs": [],
   "source": [
    "data['행정동'] = dong_list\n",
    "data['주소'] = road_address_list\n",
    "data['도로명_여부'] = is_road_address_list"
   ]
  },
  {
   "cell_type": "code",
   "execution_count": 26,
   "id": "d29e0d85-d7a6-4115-802c-b641251da82e",
   "metadata": {},
   "outputs": [
    {
     "data": {
      "text/plain": [
       "도로명_여부\n",
       "1    418\n",
       "0    151\n",
       "Name: count, dtype: int64"
      ]
     },
     "execution_count": 26,
     "metadata": {},
     "output_type": "execute_result"
    }
   ],
   "source": [
    "data[\"도로명_여부\"].value_counts()"
   ]
  },
  {
   "cell_type": "code",
   "execution_count": 33,
   "id": "5cc6cbaf-5379-4a3a-839e-fc7c1b45af6b",
   "metadata": {},
   "outputs": [],
   "source": [
    "data = data.sort_values('도로명_여부')\n",
    "data = data.reset_index(drop=True)"
   ]
  },
  {
   "cell_type": "code",
   "execution_count": 34,
   "id": "267d10bb-80fc-4059-b01c-d48fbf36dda3",
   "metadata": {},
   "outputs": [
    {
     "name": "stdout",
     "output_type": "stream",
     "text": [
      "./make_file/(최종)_열선_취약시설_거리.csv 저장 완료.\n"
     ]
    }
   ],
   "source": [
    "try :\n",
    "    save_file_url = './make_file/(최종)_열선_취약시설_거리.csv'\n",
    "    save_file_encoding = 'EUC-KR'\n",
    "    data.to_csv(save_file_url, encoding=save_file_encoding, index=False)\n",
    "    print(f\"{save_file_url} 저장 완료.\")\n",
    "except OSError as e :\n",
    "    print(e)"
   ]
  },
  {
   "cell_type": "code",
   "execution_count": null,
   "id": "2ee2f2bc-a459-41c6-9480-c31b4e6d4732",
   "metadata": {},
   "outputs": [],
   "source": []
  }
 ],
 "metadata": {
  "kernelspec": {
   "display_name": "Python 3 (ipykernel)",
   "language": "python",
   "name": "python3"
  },
  "language_info": {
   "codemirror_mode": {
    "name": "ipython",
    "version": 3
   },
   "file_extension": ".py",
   "mimetype": "text/x-python",
   "name": "python",
   "nbconvert_exporter": "python",
   "pygments_lexer": "ipython3",
   "version": "3.13.2"
  }
 },
 "nbformat": 4,
 "nbformat_minor": 5
}
