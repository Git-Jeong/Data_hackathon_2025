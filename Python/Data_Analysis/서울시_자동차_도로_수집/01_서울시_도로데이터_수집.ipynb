{
 "cells": [
  {
   "cell_type": "markdown",
   "id": "623a9a53-b908-4c4c-b8f3-665b16afe247",
   "metadata": {},
   "source": [
    "#### input : osmnx 라이르러리\n",
    "#### output : ./make_file/division/before/서울시_자동차도로_분할_{숫자}.csv"
   ]
  },
  {
   "cell_type": "code",
   "execution_count": 1,
   "id": "57d51fe3-60e7-4e2c-9d60-ae87044dbebe",
   "metadata": {},
   "outputs": [],
   "source": [
    "import osmnx as ox \n",
    "import numpy as np"
   ]
  },
  {
   "cell_type": "code",
   "execution_count": 2,
   "id": "a26c4164-1400-4071-aca9-7d14f6ebb052",
   "metadata": {},
   "outputs": [],
   "source": [
    "# 광진구의 골목길 포함 도로 네트워크 가져오기 (residential, service, tertiary 도로 포함)\n",
    "place_name = \"서울, 대한민국\"\n",
    "graph = ox.graph_from_place(place_name, network_type='drive') \n"
   ]
  },
  {
   "cell_type": "code",
   "execution_count": 3,
   "id": "647bf04b-00f0-4c9b-8665-301b33e28eff",
   "metadata": {},
   "outputs": [],
   "source": [
    "# 모든 도로의 시작점과 종료점 노드 정보\n",
    "nodes, edges = ox.graph_to_gdfs(graph) \n"
   ]
  },
  {
   "cell_type": "code",
   "execution_count": 4,
   "id": "5eaec446-ba7f-45f1-827a-557d46925cff",
   "metadata": {},
   "outputs": [
    {
     "name": "stdout",
     "output_type": "stream",
     "text": [
      "불러온 nodes : 68194\n",
      "불러온 edges : 189829\n"
     ]
    }
   ],
   "source": [
    "print(f'불러온 nodes : {len(nodes)}')\n",
    "print(f'불러온 edges : {len(edges)}') "
   ]
  },
  {
   "cell_type": "code",
   "execution_count": 5,
   "id": "ba0e1c19-585a-4fba-8fda-7954f76efc57",
   "metadata": {},
   "outputs": [
    {
     "name": "stdout",
     "output_type": "stream",
     "text": [
      "                              osmid      highway    name  oneway reversed  \\\n",
      "u         v          key                                                    \n",
      "266813237 3771909762 0    373776969  residential  보광로12길   False    False   \n",
      "          436847094  0    373776969  residential  보광로12길   False     True   \n",
      "          3771899749 0    373776966  residential  보광로14길   False    False   \n",
      "278159482 1378780898 0     25524218  residential   보광로7길   False    False   \n",
      "          1378780857 0     97836950     tertiary     장문로   False    False   \n",
      "\n",
      "                             length  \\\n",
      "u         v          key              \n",
      "266813237 3771909762 0    27.605333   \n",
      "          436847094  0    20.002271   \n",
      "          3771899749 0    69.877541   \n",
      "278159482 1378780898 0    66.892380   \n",
      "          1378780857 0    22.682960   \n",
      "\n",
      "                                                                   geometry  \\\n",
      "u         v          key                                                      \n",
      "266813237 3771909762 0    LINESTRING (127.00079 37.52662, 127.00109 37.5...   \n",
      "          436847094  0    LINESTRING (127.00079 37.52662, 127.00062 37.5...   \n",
      "          3771899749 0    LINESTRING (127.00079 37.52662, 127.00059 37.5...   \n",
      "278159482 1378780898 0    LINESTRING (126.99742 37.52596, 126.99813 37.5...   \n",
      "          1378780857 0    LINESTRING (126.99742 37.52596, 126.99717 37.5...   \n",
      "\n",
      "                         lanes maxspeed  ref bridge tunnel junction access  \\\n",
      "u         v          key                                                     \n",
      "266813237 3771909762 0     NaN      NaN  NaN    NaN    NaN      NaN    NaN   \n",
      "          436847094  0     NaN      NaN  NaN    NaN    NaN      NaN    NaN   \n",
      "          3771899749 0     NaN      NaN  NaN    NaN    NaN      NaN    NaN   \n",
      "278159482 1378780898 0     NaN      NaN  NaN    NaN    NaN      NaN    NaN   \n",
      "          1378780857 0     NaN      NaN  NaN    NaN    NaN      NaN    NaN   \n",
      "\n",
      "                         width service  \n",
      "u         v          key                \n",
      "266813237 3771909762 0     NaN     NaN  \n",
      "          436847094  0     NaN     NaN  \n",
      "          3771899749 0     NaN     NaN  \n",
      "278159482 1378780898 0     NaN     NaN  \n",
      "          1378780857 0     NaN     NaN  \n",
      "<class 'geopandas.geodataframe.GeoDataFrame'>\n",
      "MultiIndex: 189829 entries, (np.int64(266813237), np.int64(3771909762), np.int64(0)) to (np.int64(12707859731), np.int64(3742366049), np.int64(0))\n",
      "Data columns (total 16 columns):\n",
      " #   Column    Non-Null Count   Dtype   \n",
      "---  ------    --------------   -----   \n",
      " 0   osmid     189829 non-null  object  \n",
      " 1   highway   189829 non-null  object  \n",
      " 2   name      173132 non-null  object  \n",
      " 3   oneway    189829 non-null  bool    \n",
      " 4   reversed  189829 non-null  object  \n",
      " 5   length    189829 non-null  float64 \n",
      " 6   geometry  189829 non-null  geometry\n",
      " 7   lanes     14345 non-null   object  \n",
      " 8   maxspeed  5248 non-null    object  \n",
      " 9   ref       6638 non-null    object  \n",
      " 10  bridge    1588 non-null    object  \n",
      " 11  tunnel    639 non-null     object  \n",
      " 12  junction  146 non-null     object  \n",
      " 13  access    585 non-null     object  \n",
      " 14  width     290 non-null     object  \n",
      " 15  service   2 non-null       object  \n",
      "dtypes: bool(1), float64(1), geometry(1), object(13)\n",
      "memory usage: 28.6+ MB\n",
      "None\n",
      "                   y           x  street_count junction highway  ref railway  \\\n",
      "osmid                                                                          \n",
      "266813237  37.526615  127.000794             3      NaN     NaN  NaN     NaN   \n",
      "278159482  37.525964  126.997422             3      NaN     NaN  NaN     NaN   \n",
      "278159676  37.527696  127.002375             3      NaN     NaN  NaN     NaN   \n",
      "282723724  37.588055  127.023541             3      NaN     NaN  NaN     NaN   \n",
      "282723780  37.586624  127.025199             3      NaN     NaN  NaN     NaN   \n",
      "\n",
      "                             geometry  \n",
      "osmid                                  \n",
      "266813237  POINT (127.00079 37.52662)  \n",
      "278159482  POINT (126.99742 37.52596)  \n",
      "278159676   POINT (127.00238 37.5277)  \n",
      "282723724  POINT (127.02354 37.58805)  \n",
      "282723780   POINT (127.0252 37.58662)  \n",
      "<class 'geopandas.geodataframe.GeoDataFrame'>\n",
      "Index: 68194 entries, 266813237 to 12707859731\n",
      "Data columns (total 8 columns):\n",
      " #   Column        Non-Null Count  Dtype   \n",
      "---  ------        --------------  -----   \n",
      " 0   y             68194 non-null  float64 \n",
      " 1   x             68194 non-null  float64 \n",
      " 2   street_count  68194 non-null  int64   \n",
      " 3   junction      561 non-null    object  \n",
      " 4   highway       927 non-null    object  \n",
      " 5   ref           67 non-null     object  \n",
      " 6   railway       2 non-null      object  \n",
      " 7   geometry      68194 non-null  geometry\n",
      "dtypes: float64(2), geometry(1), int64(1), object(4)\n",
      "memory usage: 4.7+ MB\n",
      "None\n"
     ]
    }
   ],
   "source": [
    "# edges 데이터프레임의 구조와 첫 몇 개의 행을 확인\n",
    "print(edges.head())\n",
    "print(edges.info())\n",
    "\n",
    "# nodes 데이터프레임의 구조와 첫 몇 개의 행을 확인\n",
    "print(nodes.head())\n",
    "print(nodes.info())\n"
   ]
  },
  {
   "cell_type": "code",
   "execution_count": 6,
   "id": "163d3700-fabb-4254-a615-7cf52d6940dc",
   "metadata": {},
   "outputs": [],
   "source": [
    "try :\n",
    "    from tqdm import tqdm\n",
    "except :\n",
    "    !pip install tqdm\n",
    "    from tqdm import tqdm"
   ]
  },
  {
   "cell_type": "code",
   "execution_count": 7,
   "id": "09512a61-5627-45e3-abe5-80101b025f01",
   "metadata": {},
   "outputs": [],
   "source": [
    "# 삭제할 도로들의 리스트\n",
    "delete_road_type = ['motorway', 'path', 'cycleway', 'road', \n",
    "                    'trunk', 'trunk_link',\n",
    "                    'primary', 'primary_link',\n",
    "                    'secondary', 'secondary_link',\n",
    "                    'pedestrian', 'track']"
   ]
  },
  {
   "cell_type": "code",
   "execution_count": 8,
   "id": "8a764f17-cba2-4d11-a8eb-8df3a4ef0503",
   "metadata": {},
   "outputs": [
    {
     "name": "stderr",
     "output_type": "stream",
     "text": [
      "100%|█████████████████████████████████| 189829/189829 [00:30<00:00, 6313.76it/s]\n"
     ]
    },
    {
     "name": "stderr",
     "output_type": "stream",
     "text": [
      "\r",
      "  9%|███▍                                  | 658/7216 [00:00<00:00, 6576.06it/s]"
     ]
    },
    {
     "name": "stderr",
     "output_type": "stream",
     "text": [
      "\r",
      " 18%|██████▋                              | 1316/7216 [00:00<00:00, 6578.11it/s]"
     ]
    },
    {
     "name": "stderr",
     "output_type": "stream",
     "text": [
      "\r",
      " 28%|██████████▏                          | 1993/7216 [00:00<00:00, 6662.19it/s]"
     ]
    },
    {
     "name": "stderr",
     "output_type": "stream",
     "text": [
      "\r",
      " 37%|█████████████▋                       | 2660/7216 [00:00<00:00, 6606.69it/s]"
     ]
    },
    {
     "name": "stderr",
     "output_type": "stream",
     "text": [
      "\r",
      " 46%|█████████████████                    | 3321/7216 [00:00<00:00, 6546.98it/s]"
     ]
    },
    {
     "name": "stderr",
     "output_type": "stream",
     "text": [
      "\r",
      " 55%|████████████████████▍                | 3976/7216 [00:00<00:00, 6494.15it/s]"
     ]
    },
    {
     "name": "stderr",
     "output_type": "stream",
     "text": [
      "\r",
      " 64%|███████████████████████▋             | 4626/7216 [00:00<00:00, 6449.81it/s]"
     ]
    },
    {
     "name": "stderr",
     "output_type": "stream",
     "text": [
      "\r",
      " 73%|███████████████████████████          | 5287/7216 [00:00<00:00, 6498.00it/s]"
     ]
    },
    {
     "name": "stderr",
     "output_type": "stream",
     "text": [
      "\r",
      " 83%|██████████████████████████████▌      | 5965/7216 [00:00<00:00, 6581.95it/s]"
     ]
    },
    {
     "name": "stderr",
     "output_type": "stream",
     "text": [
      "\r",
      " 92%|██████████████████████████████████   | 6638/7216 [00:01<00:00, 6624.64it/s]"
     ]
    },
    {
     "name": "stderr",
     "output_type": "stream",
     "text": [
      "\r",
      "100%|█████████████████████████████████████| 7216/7216 [00:01<00:00, 6572.27it/s]"
     ]
    },
    {
     "name": "stderr",
     "output_type": "stream",
     "text": [
      "\n"
     ]
    }
   ],
   "source": [
    "# 전역 배열 초기화\n",
    "road_names = []\n",
    "highway_types = []\n",
    "start_lats = []\n",
    "start_lons = []\n",
    "end_lats = []\n",
    "end_lons = []\n",
    "road_len = []\n",
    "tunnel_status = []  \n",
    "bridge_status = [] \n",
    "service_status = []   \n",
    "road_ids = []\n",
    "max_speeds = []\n",
    "lane_counts = []\n",
    "one_way = []\n",
    "junction_status = []\n",
    "\n",
    "# 도로 종류 한글 매핑 딕셔너리\n",
    "road_type_map = {\n",
    "    'motorway': '고속도로',\n",
    "    'trunk': '간선도로',\n",
    "    'primary': '주도로',\n",
    "    'secondary': '2차로',\n",
    "    'tertiary': '3차로',\n",
    "    'unclassified': '비분류 도로',\n",
    "    'residential': '주거지 도로',\n",
    "    'service': '서비스 도로',\n",
    "    'living_street': '생활도로'\n",
    "}\n",
    "\n",
    "# 'edges' 데이터프레임에서 각 도로에 대해 정보 추출\n",
    "for index, row in tqdm(edges.iterrows(), total=len(edges)): \n",
    "    # MultiIndex에서 u와 v 값 추출\n",
    "    start_node = index[0]  # 시작 노드 (u)\n",
    "    end_node = index[1]    # 종료 노드 (v)\n",
    "\n",
    "    # 노드 정보를 기반으로 위도와 경도 가져오기\n",
    "    try:\n",
    "        start_lat, start_lon = nodes.loc[start_node, ['y', 'x']]\n",
    "        end_lat, end_lon = nodes.loc[end_node, ['y', 'x']]\n",
    "    except KeyError:\n",
    "        # 노드 정보가 없을 경우 건너뛰기\n",
    "        continue\n",
    "\n",
    "    # 도로명(속성 name)과 도로 특성 확인\n",
    "    road_name = row.get('name', None)  # 도로명이 없는 경우 None 처리\n",
    "    highway_type = row.get('highway', None)  \n",
    "    # if highway_type not in ['unclassified', 'motorway', \n",
    "    #                         'trunk', 'trunk_link', 'primary', 'primary_link', \n",
    "    #                         'secondary', 'secondary_link', 'residential', 'tertiary', \n",
    "    #                         'living_street', 'road', 'pedestrian',\n",
    "    #                         'path', 'service', 'cycleway'] :\n",
    "    #     print(highway_type)                              \n",
    "    tunnel_status_val = row.get('tunnel', None)   \n",
    "    bridge_status_val = row.get('bridge', None)  # 교량 여부\n",
    "    service_status_val = row.get('service', None)  # 서비스 도로 여부\n",
    "    maxspeed = row.get('maxspeed', None)  # 속도 제한\n",
    "    lanes = row.get('lanes', None)  # 차선 수\n",
    "    oneway = row.get('oneway', None)  # 일방통행 여부\n",
    "    junction = row.get('junction', None)  # 교차로 여부\n",
    "    length = row.get('length', None)  \n",
    "    \n",
    "    if isinstance(highway_type, list): \n",
    "        continue \n",
    "        \n",
    "    if not highway_type:  # None, 빈 문자열, 빈 리스트 등을 모두 포함\n",
    "        continue\n",
    "\n",
    "    if highway_type == 'unclassified' :\n",
    "        continue\n",
    "        \n",
    "    # 규모가 큰 도로나, 등산로, 산책로 등은 제거\n",
    "    if highway_type in delete_road_type :\n",
    "        continue  # 해당 도로는 건너뛰기 \n",
    "        \n",
    "    # 전역 배열에 데이터 추가\n",
    "    road_names.append(road_name if road_name else None)  # 값이 없으면 None로 처리\n",
    "    # 도로 종류를 한글로 매핑\n",
    "    road_type_in_korean = road_type_map.get(highway_type, None)\n",
    "    highway_types.append(road_type_in_korean)  # 값이 없으면 None로 처리\n",
    "    start_lats.append(start_lat if start_lat else None)  # 값이 없으면 None로 처리\n",
    "    start_lons.append(start_lon if start_lon else None)  # 값이 없으면 None로 처리\n",
    "    end_lats.append(end_lat if end_lat else None)  # 값이 없으면 None로 처리\n",
    "    end_lons.append(end_lon if end_lon else None)  # 값이 없으면 None로 처리\n",
    "    road_len.append(length if length else None)\n",
    "    tunnel_status.append(tunnel_status_val if tunnel_status_val else None)  # 값이 없으면 None로 처리\n",
    "    bridge_status.append(bridge_status_val if bridge_status_val else None)  # 값이 없으면 None로 처리\n",
    "    service_status.append(service_status_val if service_status_val else None)  # 값이 없으면 None로 처리\n",
    "    road_ids.append(row['osmid'] if row['osmid'] else None)  # 값이 없으면 None로 처리\n",
    "    max_speeds.append(maxspeed if maxspeed else None)  # 값이 없으면 None로 처리\n",
    "    lane_counts.append(lanes if lanes else None)  # 값이 없으면 None로 처리\n",
    "    one_way.append(oneway if oneway else None)  # 값이 없으면 None로 처리\n",
    "    junction_status.append(junction if junction else None)  # 값이 없으면 None로 처리\n"
   ]
  },
  {
   "cell_type": "code",
   "execution_count": 9,
   "id": "6ed1f0f2-3edb-432f-be4a-86b6c9b961ac",
   "metadata": {},
   "outputs": [
    {
     "name": "stdout",
     "output_type": "stream",
     "text": [
      "161645 161645\n",
      "161645 161645\n",
      "161645 161645\n",
      "161645\n"
     ]
    }
   ],
   "source": [
    "# 각 배열의 길이 확인\n",
    "print(len(road_names), len(highway_types))\n",
    "print(len(start_lats), len(start_lons))\n",
    "print(len(end_lats), len(end_lons))\n",
    "\n",
    "print(f'{len(road_len)}')\n"
   ]
  },
  {
   "cell_type": "markdown",
   "id": "74183f60-6523-4528-a0f4-1aa9be00982e",
   "metadata": {},
   "source": [
    "\n",
    "  "
   ]
  },
  {
   "cell_type": "code",
   "execution_count": 10,
   "id": "acb1430d-0118-4be0-944f-194e9741ccd3",
   "metadata": {},
   "outputs": [],
   "source": [
    "average_lat = []\n",
    "average_lon = []\n",
    "\n",
    "for i in range(max(len(start_lats), len(end_lats))):\n",
    "    start_lat = start_lats[i] if i < len(start_lats) else start_lats[-1]\n",
    "    end_lat = end_lats[i] if i < len(end_lats) else end_lats[-1]\n",
    "    average_lat.append((start_lat + end_lat) / 2)\n",
    "\n",
    "for i in range(max(len(start_lons), len(end_lons))):\n",
    "    start_lon = start_lons[i] if i < len(start_lons) else start_lons[-1]\n",
    "    end_lon = end_lons[i] if i < len(end_lons) else end_lons[-1]\n",
    "    average_lon.append((start_lon + end_lon) / 2)\n"
   ]
  },
  {
   "cell_type": "code",
   "execution_count": 17,
   "id": "3cdaab37-ed2b-4676-a0da-6a590c066074",
   "metadata": {},
   "outputs": [],
   "source": [
    "# 데이터프레임 생성\n",
    "data = {\n",
    "    '도로명': road_names,\n",
    "    '도로 종류': highway_types,\n",
    "    '시작점_위도': start_lats,\n",
    "    '시작점_경도': start_lons,\n",
    "    '종료점_위도': end_lats,\n",
    "    '종료점_경도': end_lons,\n",
    "    '중앙점_위도' : average_lat,\n",
    "    '중앙점_경도' : average_lon,\n",
    "    '도로_길이' : road_len\n",
    "}\n"
   ]
  },
  {
   "cell_type": "code",
   "execution_count": 18,
   "id": "10fa54da-aa5a-4108-8385-22a7611717e4",
   "metadata": {},
   "outputs": [],
   "source": [
    "import pandas as pd\n",
    "\n",
    "df = pd.DataFrame(data)\n"
   ]
  },
  {
   "cell_type": "code",
   "execution_count": 19,
   "id": "b8cbcae8-116e-4ef8-9313-cb4d92f0efa4",
   "metadata": {},
   "outputs": [
    {
     "data": {
      "text/plain": [
       "도로명       12745\n",
       "도로 종류      1310\n",
       "시작점_위도        0\n",
       "시작점_경도        0\n",
       "종료점_위도        0\n",
       "종료점_경도        0\n",
       "중앙점_위도        0\n",
       "중앙점_경도        0\n",
       "도로_길이         0\n",
       "dtype: int64"
      ]
     },
     "execution_count": 19,
     "metadata": {},
     "output_type": "execute_result"
    }
   ],
   "source": [
    "df.isnull().sum()"
   ]
  },
  {
   "cell_type": "code",
   "execution_count": 20,
   "id": "3320b7d2-d29a-462a-91f4-7b3a246d9f72",
   "metadata": {},
   "outputs": [
    {
     "data": {
      "text/plain": [
       "Index(['도로명', '도로 종류', '시작점_위도', '시작점_경도', '종료점_위도', '종료점_경도', '중앙점_위도',\n",
       "       '중앙점_경도', '도로_길이'],\n",
       "      dtype='object')"
      ]
     },
     "execution_count": 20,
     "metadata": {},
     "output_type": "execute_result"
    }
   ],
   "source": [
    "df.columns"
   ]
  },
  {
   "cell_type": "code",
   "execution_count": 24,
   "id": "172222d5-e273-4695-bab9-10deaa46a694",
   "metadata": {},
   "outputs": [],
   "source": [
    "len_df = len(df)\n",
    "chunk_size = 10000  # 1만 개씩 나누기\n",
    "num_chunks = np.ceil(len_df / chunk_size).astype(int)"
   ]
  },
  {
   "cell_type": "code",
   "execution_count": 34,
   "id": "eb5d1e0b-e1ff-4be6-834b-1f8982ba01eb",
   "metadata": {},
   "outputs": [],
   "source": [
    "df['도로명'] = df['도로명'].ffill()"
   ]
  },
  {
   "cell_type": "code",
   "execution_count": 35,
   "id": "5a957c1e-3703-4eb6-ae86-3388edf815cb",
   "metadata": {},
   "outputs": [
    {
     "data": {
      "text/plain": [
       "np.int64(0)"
      ]
     },
     "execution_count": 35,
     "metadata": {},
     "output_type": "execute_result"
    }
   ],
   "source": [
    "df['도로명'].isnull().sum()"
   ]
  },
  {
   "cell_type": "code",
   "execution_count": 47,
   "id": "4e81e05b-8eb4-4483-a634-a04ce18dcddd",
   "metadata": {},
   "outputs": [
    {
     "data": {
      "text/plain": [
       "도로명\n",
       "통일로                    227\n",
       "한천로                    227\n",
       "통일로 중앙버스전용차로           217\n",
       "남부순환로                  204\n",
       "오패산로                   195\n",
       "                      ... \n",
       "[월드컵북로, 월드컵로36길]         1\n",
       "[도봉로114길, 노해로62길]        1\n",
       "헌릉IC3교                   1\n",
       "[새터산14길, 새터산16길]         1\n",
       "[덕릉로131길, 덕릉로131가길]      1\n",
       "Name: count, Length: 12905, dtype: int64"
      ]
     },
     "execution_count": 47,
     "metadata": {},
     "output_type": "execute_result"
    }
   ],
   "source": [
    "df['도로명'].value_counts()"
   ]
  },
  {
   "cell_type": "code",
   "execution_count": 48,
   "id": "a783d090-e160-46bc-9664-88602ea6832d",
   "metadata": {},
   "outputs": [
    {
     "name": "stdout",
     "output_type": "stream",
     "text": [
      "./make_file/division/before/서울시_자동차도로_분할_01.csv 데이터 저장 완료.\n",
      "./make_file/division/before/서울시_자동차도로_분할_02.csv 데이터 저장 완료.\n",
      "./make_file/division/before/서울시_자동차도로_분할_03.csv 데이터 저장 완료.\n",
      "./make_file/division/before/서울시_자동차도로_분할_04.csv 데이터 저장 완료.\n",
      "./make_file/division/before/서울시_자동차도로_분할_05.csv 데이터 저장 완료.\n",
      "./make_file/division/before/서울시_자동차도로_분할_06.csv 데이터 저장 완료.\n",
      "./make_file/division/before/서울시_자동차도로_분할_07.csv 데이터 저장 완료.\n",
      "./make_file/division/before/서울시_자동차도로_분할_08.csv 데이터 저장 완료.\n",
      "./make_file/division/before/서울시_자동차도로_분할_09.csv 데이터 저장 완료.\n",
      "./make_file/division/before/서울시_자동차도로_분할_10.csv 데이터 저장 완료.\n",
      "./make_file/division/before/서울시_자동차도로_분할_11.csv 데이터 저장 완료.\n",
      "./make_file/division/before/서울시_자동차도로_분할_12.csv 데이터 저장 완료.\n",
      "./make_file/division/before/서울시_자동차도로_분할_13.csv 데이터 저장 완료.\n",
      "./make_file/division/before/서울시_자동차도로_분할_14.csv 데이터 저장 완료.\n",
      "./make_file/division/before/서울시_자동차도로_분할_15.csv 데이터 저장 완료.\n",
      "./make_file/division/before/서울시_자동차도로_분할_16.csv 데이터 저장 완료.\n",
      "./make_file/division/before/서울시_자동차도로_분할_17.csv 데이터 저장 완료.\n"
     ]
    }
   ],
   "source": [
    "try:\n",
    "    for i in range(num_chunks):\n",
    "        start_idx = i * chunk_size\n",
    "        end_idx = min((i + 1) * chunk_size, len_df)\n",
    "        chunk = df.iloc[start_idx:end_idx]\n",
    "        \n",
    "        save_url = f'./make_file/division/before/서울시_자동차도로_분할_{i+1:02d}.csv'\n",
    "        chunk.to_csv(save_url, encoding=\"UTF-8\", index=False)\n",
    "        print(f\"{save_url} 데이터 저장 완료.\")\n",
    "except OSError as e:\n",
    "    print(e)\n"
   ]
  },
  {
   "cell_type": "code",
   "execution_count": null,
   "id": "7080170f-5103-4a00-b6a5-b405d57bcba0",
   "metadata": {},
   "outputs": [],
   "source": []
  }
 ],
 "metadata": {
  "kernelspec": {
   "display_name": "Python 3 (ipykernel)",
   "language": "python",
   "name": "python3"
  },
  "language_info": {
   "codemirror_mode": {
    "name": "ipython",
    "version": 3
   },
   "file_extension": ".py",
   "mimetype": "text/x-python",
   "name": "python",
   "nbconvert_exporter": "python",
   "pygments_lexer": "ipython3",
   "version": "3.13.2"
  }
 },
 "nbformat": 4,
 "nbformat_minor": 5
}
