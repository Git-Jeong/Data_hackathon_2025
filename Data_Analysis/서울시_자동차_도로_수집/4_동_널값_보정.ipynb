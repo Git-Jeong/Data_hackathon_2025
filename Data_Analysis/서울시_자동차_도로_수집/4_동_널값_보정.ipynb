{
 "cells": [
  {
   "cell_type": "markdown",
   "id": "719031bc-9cbe-4bfc-95ba-fbee288ca112",
   "metadata": {},
   "source": [
    "#### 입력 : ./make_file/division/second_round/서울시_도로_{숫자}.csv\n",
    "#### 출력 : ./make_file/division/third_round/보정_서울시_도로_{숫자}.csv "
   ]
  },
  {
   "cell_type": "code",
   "execution_count": 1,
   "id": "95da3fa0-996d-4573-bc36-0ceba33635a1",
   "metadata": {},
   "outputs": [],
   "source": [
    "import pandas as pd \n",
    "import requests\n",
    "from tqdm import tqdm \n",
    "import os\n",
    "import time"
   ]
  },
  {
   "cell_type": "code",
   "execution_count": 2,
   "id": "e0638c20-430c-44ff-9faf-f6629150a65d",
   "metadata": {},
   "outputs": [],
   "source": [
    "# 파일이 저장된 폴더 경로\n",
    "folder_path = \"./make_file/division/second_round/\" \n",
    "file_encoding = \"UTF-8\" \n",
    "\n",
    "output_file_url = \"./make_file/division/third_round/보정_서울시_도로_\""
   ]
  },
  {
   "cell_type": "code",
   "execution_count": null,
   "id": "8d255cd9-0960-4357-941d-52c05626a33f",
   "metadata": {},
   "outputs": [],
   "source": []
  },
  {
   "cell_type": "code",
   "execution_count": 3,
   "id": "07d9faf3-470c-4ca1-91f4-55659ea20657",
   "metadata": {},
   "outputs": [
    {
     "name": "stdout",
     "output_type": "stream",
     "text": [
      ".DS Store\n"
     ]
    }
   ],
   "source": [
    "# 조건을 만족하는 파일 목록\n",
    "valid_files = [] \n",
    "\n",
    "# api 사용량을 체크하는 변수\n",
    "gukto_bu_api_count = 0 # 국토부 api\n",
    "haengjeong_anjeonbu_api_count = 0 # 행안부 api\n",
    "\n",
    "for temp_file_name in os.listdir(folder_path):\n",
    "    file_name = temp_file_name.replace(\"_\", \" \")\n",
    "    if (\"서울시 도로 \" in file_name and file_name.endswith(\".csv\")) or (\"서울시 도로 \" in file_name and file_name.endswith(\".csv\")):\n",
    "        file_path = os.path.join(folder_path, temp_file_name)  # 안전한 경로 조합\n",
    "\n",
    "        try:\n",
    "            # CSV 파일 전체 읽기\n",
    "            df = pd.read_csv(file_path, encoding=file_encoding, low_memory=False)\n",
    "\n",
    "            # 컬럼명 앞뒤 공백 제거\n",
    "            df.columns = df.columns.str.strip()\n",
    "\n",
    "            # 필요한 컬럼이 존재하는지 확인\n",
    "            if {\"중앙점_위도\", \"중앙점_경도\", \"행정동\"}.issubset(df.columns):\n",
    "                temp_1 = file_name.replace(\" \", \"_\") \n",
    "                temp_2 = temp_1.replace(\"서울시_도로_\", \"\")\n",
    "                temp_3 = temp_2.replace(\"서울시_도로_\", \"\")\n",
    "                # print(temp_3)\n",
    "                temp_4 = output_file_url + temp_3 \n",
    "                \n",
    "                output_check = os.path.isfile(temp_4) \n",
    "                # print(temp_4)\n",
    "                \n",
    "                if output_check is False :\n",
    "                    valid_files.append(file_path)\n",
    "                else :\n",
    "                    valid_files.append(temp_4) \n",
    "        except Exception as e:\n",
    "            print(f\"파일 {file_name} 처리 중 오류 발생: {e}\")\n",
    "    else :\n",
    "        print(file_name)\n",
    "        "
   ]
  },
  {
   "cell_type": "code",
   "execution_count": 4,
   "id": "28734112-91a3-41cb-81e0-2b9602641b7e",
   "metadata": {},
   "outputs": [
    {
     "data": {
      "text/plain": [
       "['./make_file/division/third_round/보정_서울시_도로_11.csv',\n",
       " './make_file/division/third_round/보정_서울시_도로_05.csv',\n",
       " './make_file/division/third_round/보정_서울시_도로_04.csv',\n",
       " './make_file/division/third_round/보정_서울시_도로_10.csv',\n",
       " './make_file/division/third_round/보정_서울시_도로_06.csv',\n",
       " './make_file/division/third_round/보정_서울시_도로_12.csv',\n",
       " './make_file/division/third_round/보정_서울시_도로_13.csv',\n",
       " './make_file/division/third_round/보정_서울시_도로_07.csv',\n",
       " './make_file/division/third_round/보정_서울시_도로_03.csv',\n",
       " './make_file/division/third_round/보정_서울시_도로_17.csv',\n",
       " './make_file/division/third_round/보정_서울시_도로_16.csv',\n",
       " './make_file/division/third_round/보정_서울시_도로_02.csv',\n",
       " './make_file/division/third_round/보정_서울시_도로_14.csv',\n",
       " './make_file/division/third_round/보정_서울시_도로_01.csv',\n",
       " './make_file/division/third_round/보정_서울시_도로_15.csv',\n",
       " './make_file/division/third_round/보정_서울시_도로_09.csv',\n",
       " './make_file/division/third_round/보정_서울시_도로_08.csv']"
      ]
     },
     "execution_count": 4,
     "metadata": {},
     "output_type": "execute_result"
    }
   ],
   "source": [
    "valid_files"
   ]
  },
  {
   "cell_type": "code",
   "execution_count": 5,
   "id": "e6f6f1b0-ba39-4660-ae4f-a8ec16d3e582",
   "metadata": {},
   "outputs": [
    {
     "data": {
      "text/plain": [
       "17"
      ]
     },
     "execution_count": 5,
     "metadata": {},
     "output_type": "execute_result"
    }
   ],
   "source": [
    "len(valid_files) "
   ]
  },
  {
   "cell_type": "markdown",
   "id": "593a52fd-e71a-4a26-9276-7f4b79ac4cc6",
   "metadata": {},
   "source": [
    "### 에러처리"
   ]
  },
  {
   "cell_type": "code",
   "execution_count": 6,
   "id": "6185b6be-a48b-4c29-8a97-07ab9db543c5",
   "metadata": {},
   "outputs": [],
   "source": [
    "err_url = \"./make_file/에러지역.csv\"\n",
    "err_data = pd.read_csv(err_url)"
   ]
  },
  {
   "cell_type": "code",
   "execution_count": 7,
   "id": "f7bc2319-06d5-47df-a918-976c71af31d8",
   "metadata": {},
   "outputs": [],
   "source": [
    "err_data['행정동'] = err_data['도로명']"
   ]
  },
  {
   "cell_type": "code",
   "execution_count": 8,
   "id": "71a1af64-6232-4357-8650-05d15eb40c53",
   "metadata": {
    "jupyter": {
     "source_hidden": true
    }
   },
   "outputs": [],
   "source": [
    "road_to_district = {\n",
    "    '구천면로21길' : \"강동구\",\n",
    "    '구천면로23길' : \"강동구\",\n",
    "    '구천면로25길' : \"강동구\",\n",
    "    '자곡로5길' : \"자곡동\",\n",
    "    '목동남로4가길' : \"고척동\",\n",
    "    '구로중앙로37길' : \"구로동\", \n",
    "    '경인로3가길' : \"온수동\",\n",
    "    '경인로68길' : \"신도림동\",\n",
    "    '경인로70길' : \"문래동\",\n",
    "    '월드컵북로42길' : \"상암동\",\n",
    "    '도곡로61길' : \"잠실동\",\n",
    "    '효령로69길' : \"서초동\",\n",
    "    '개포로53길' : \"개포동\",\n",
    "    '서초대로72길' : \"서초동\",\n",
    "    '선릉로189길' : \"압구정동\",\n",
    "    '목동동로4길' : \"신정동\",\n",
    "    '영등포로26길' : \"문래동\",\n",
    "    '양산로29길' : \"영등포동\",\n",
    "    '영중로길' : \"영등포동\",\n",
    "    '영신로61길' : \"당산동\",\n",
    "    '당산지하차도' : \"당산동\",\n",
    "    '선유로39길' : \"양평동\",\n",
    "    '도림로144길' : \"문래동\",\n",
    "    '여의대방로3길' : \"신길동\",\n",
    "    '신길로29가길' : \"신길동\",\n",
    "    '가마산로80가길' : \"구로동\",\n",
    "    '상도로53가길' : \"상도동\",\n",
    "    '동일로168길' : \"묵동\",\n",
    "    '용답7길' : \"용답동\",\n",
    "    '서초대로66길' : \"서초동\",\n",
    "    '임정로29길' : \"효창동\",\n",
    "    '백련산로6길' : \"응암동\", \n",
    "    '거북골로12라길' : \"홍은동\",\n",
    "    '은평로16가길' : \"신사동\",\n",
    "    '소공로7길' : \"회현동\",\n",
    "    '토정로28길' : \"용강동\",\n",
    "    \"가좌로4가길\" : \"홍은동\",\n",
    "    \"불빛다리\" : \"동소문동\",\n",
    "    \"희망의다리\" : \"동소문동\",\n",
    "    \"시흥대로17길\" : \"시흥동\",\n",
    "    \"국회대로76나길\" : \"여의도동\",\n",
    "    \"삼성산2터널\": \"시흥동\",\n",
    "    \"미가로\": \"구의동\",\n",
    "    \"봉화산로47길\": \"신내동\",\n",
    "    \"위례광장로2길\": \"장지동\",\n",
    "    \"상봄중앙로9길\": \"상봉동\",\n",
    "    \"성촌3길\": \"우면동\",\n",
    "    \"효령로14라길\": \"방배동\",\n",
    "    \"광장앞지하차도\": \"광장동\",\n",
    "    \"효령로14길\": \"방배동\",\n",
    "    \"효령로20마길\": \"방배동\",\n",
    "    \"효령로20라길\": \"방배동\",\n",
    "    \"효령로14다길\": \"방배동\",\n",
    "    \"학동로98길\": \"삼성동\",\n",
    "    \"노원로24길\": \"중계동\",\n",
    "    \"한글비석로21길\": \"중계동\",\n",
    "    \"한천로96길\": \"월계동\",\n",
    "    \"동부지하차도\": \"이문동\",\n",
    "    \"오현로36길\": \"번동\",\n",
    "    \"삼양로60가길\": \"길음동\",\n",
    "    \"삼양로62길\": \"길음동\",\n",
    "    \"삼양로60길\": \"길음동\",\n",
    "    \"늘벗다리\": \"삼선동\",\n",
    "    \"이촌로51길\": \"이촌동\",\n",
    "    \"용답중앙1길\": \"용답동\",\n",
    "    \"용답중앙3가길\": \"용답동\",\n",
    "    \"동일로6길\": \"자양동\",\n",
    "    \"뚝섬로21길\": \"옥수동\",\n",
    "    \"동일로8길\": \"옥수동\",\n",
    "    \"팔당별미울\": \"신사동\",\n",
    "    \"언주로66길\": \"역삼동\",\n",
    "    \"도곡로38길\": \"도곡동\",\n",
    "    \"도곡로94길\": \"대치동\",\n",
    "    \"효령로37길\": \"서초동\",\n",
    "    \"효령로19길\": \"방배동\",\n",
    "    \"방배중앙로5길\": \"방배동\",\n",
    "    \"효령로14가길\": \"방배동\",\n",
    "    \"효령로20가길\": \"방배동\",\n",
    "    \"효령로20다길\": \"방배동\",\n",
    "    \"효령로20나길\": \"방배동\",\n",
    "    \"중대로15길\": \"가락동\",\n",
    "    \"동남로22길\": \"오금동\",\n",
    "    \"아리수로13길\": \"암사동\",\n",
    "    \"동작대로45가길\": \"사당동\",\n",
    "    \"서소문로8길\": \"중림동\",\n",
    "    \"만리재로31길\": \"신공덕동\",\n",
    "    \"옥방아다리\": \"진관동\",\n",
    "    \"금하로527번길\": \"소하동\",\n",
    "    \"상암로83길\": \"상일동\",\n",
    "    \"청룡마을2길\": \"신원동\",\n",
    "    \"성림길\": \"신림동\",\n",
    "    \"성림3길\": \"신림동\",\n",
    "    \"성림2길\": \"신림동\",\n",
    "    \"성림1길\": \"신림동\",\n",
    "    \"동마길\": \"신림동\",\n",
    "    \"원신10길\": \"신림동\",\n",
    "    \"수색로4나길\": \"남가좌동\",\n",
    "    \"영동대로81길\": \"대치동\",\n",
    "    \"역삼로97길\": \"대치동\",\n",
    "    \"수색로18나길\": \"수색동\",\n",
    "    \"향기1로\": \"수색동\",\n",
    "    \"신반포로40길\": \"반포동\",\n",
    "    \"강남대로130길\": \"논현동\",\n",
    "    \"도곡로101길\": \"대치동\",\n",
    "    \"영동대로66길\": \"대치동\",\n",
    "    \"약령시로12길\": \"제기동\",\n",
    "    \"위례대로\": \"거여동\",\n",
    "    \"위례학암로14번길\": \"학암동\",\n",
    "    \"건영캐스빌아파트길\": \"창동\",\n",
    "    \"오패산로46길\": \"하월곡동\",\n",
    "    \"장위로46길\": \"장위동\",\n",
    "    \"삼양로32길\": \"미아동\",\n",
    "    \"동일로220길\": \"상계동\",\n",
    "    \"답십리로35길\": \"전농동\",\n",
    "    \"왕산로34길\": \"용두동\",\n",
    "    \"답십리로11길\": \"전농동\",\n",
    "    \"돌곶이로8아길\": \"석관동\",\n",
    "    \"석관지하보차도\": \"석관동\",\n",
    "    \"돌곶이로38길\": \"석관동\",\n",
    "    \"천장산로13길\": \"이문동\",\n",
    "    \"독구말지하보차도\": \"이문동\",\n",
    "    \"신이문지하보·차도\": \"이문동\",\n",
    "    \"외대역동로3길\": \"휘경동\",\n",
    "    \"한천로11나길\": \"장안동\",\n",
    "    \"마장로35가길\": \"마장동\",\n",
    "    \"고산자로2다길\": \"행당동\",\n",
    "    \"난계로10길\": \"신당동\"\n",
    "}"
   ]
  },
  {
   "cell_type": "code",
   "execution_count": null,
   "id": "8ed7bfa9-9a92-41d5-b3f7-ec9eeeab2c8a",
   "metadata": {},
   "outputs": [],
   "source": []
  },
  {
   "cell_type": "code",
   "execution_count": 9,
   "id": "d9837853-f6de-4445-8c48-ec8eaa99c9c2",
   "metadata": {},
   "outputs": [],
   "source": [
    "err_data['행정동'] = err_data['행정동'].map(road_to_district)"
   ]
  },
  {
   "cell_type": "code",
   "execution_count": 10,
   "id": "6ab5f90d-46d5-4507-88e8-16ee90dcd684",
   "metadata": {},
   "outputs": [
    {
     "name": "stdout",
     "output_type": "stream",
     "text": [
      "정의되지 않은 지역 : 0\n"
     ]
    }
   ],
   "source": [
    "print(f\"정의되지 않은 지역 : {err_data['행정동'].isnull().sum()}\")"
   ]
  },
  {
   "cell_type": "code",
   "execution_count": 11,
   "id": "5878d421-c54c-4b83-8d4f-0f8a92b1097a",
   "metadata": {},
   "outputs": [
    {
     "data": {
      "text/html": [
       "<div>\n",
       "<style scoped>\n",
       "    .dataframe tbody tr th:only-of-type {\n",
       "        vertical-align: middle;\n",
       "    }\n",
       "\n",
       "    .dataframe tbody tr th {\n",
       "        vertical-align: top;\n",
       "    }\n",
       "\n",
       "    .dataframe thead th {\n",
       "        text-align: right;\n",
       "    }\n",
       "</style>\n",
       "<table border=\"1\" class=\"dataframe\">\n",
       "  <thead>\n",
       "    <tr style=\"text-align: right;\">\n",
       "      <th></th>\n",
       "      <th>도로명</th>\n",
       "      <th>행정동</th>\n",
       "    </tr>\n",
       "  </thead>\n",
       "  <tbody>\n",
       "  </tbody>\n",
       "</table>\n",
       "</div>"
      ],
      "text/plain": [
       "Empty DataFrame\n",
       "Columns: [도로명, 행정동]\n",
       "Index: []"
      ]
     },
     "execution_count": 11,
     "metadata": {},
     "output_type": "execute_result"
    }
   ],
   "source": [
    "err_data"
   ]
  },
  {
   "cell_type": "markdown",
   "id": "3cd31c96-a99d-4fb4-b5f5-eadba4723cad",
   "metadata": {},
   "source": [
    "### 국토부 api"
   ]
  },
  {
   "cell_type": "code",
   "execution_count": 12,
   "id": "8b0d3f20-37ad-417b-95d0-dfbee6269fda",
   "metadata": {},
   "outputs": [
    {
     "name": "stdout",
     "output_type": "stream",
     "text": [
      "사이트\n",
      "공공데이터                     1\n",
      "kakao_api_key_REST        1\n",
      "kakao_api_key_REST_sub    1\n",
      "카카오 JS                    1\n",
      "국토부v-world                1\n",
      "GOOGLE_MAP                1\n",
      "행정안전부                     1\n",
      "Name: count, dtype: int64\n"
     ]
    }
   ],
   "source": [
    "api_key_url = '../API_KEY/API_KEYS.xlsx'\n",
    "open_api_key_file = pd.read_excel(api_key_url)\n",
    " \n",
    "print(open_api_key_file['사이트'].value_counts())\n",
    "\n",
    "get_gov_word_api_key = open_api_key_file[open_api_key_file['사이트'] == '국토부v-world'].values[0][1]  "
   ]
  },
  {
   "cell_type": "code",
   "execution_count": 13,
   "id": "325e10f3-d11b-4584-9b90-ef8a5ff7d084",
   "metadata": {},
   "outputs": [],
   "source": [
    "# 위경도를 입력받아 행정동 정보를 반환하는 함수\n",
    "def gukto_bu_dong_from_coords(latitude, longitude):\n",
    "    global gukto_bu_api_count\n",
    "    \n",
    "    api_key = get_gov_word_api_key\n",
    "    \n",
    "    # 'point' 파라미터로 위경도를 하나의 문자열로 결합 (경도,위도 순으로)\n",
    "    point = f\"{longitude},{latitude}\"\n",
    "    \n",
    "    # API URL에 'point' 파라미터 추가\n",
    "    url = f\"https://api.vworld.kr/req/address?service=address&version=2.0&request=GetAddress&point={point}&crs=EPSG:4326&type=ROAD&key={api_key}\"\n",
    "    \n",
    "    # API 호출\n",
    "    response = requests.get(url)\n",
    "    gukto_bu_api_count += 1\n",
    "    \n",
    "    # 요청이 성공했는지 확인\n",
    "    if response.status_code == 200:\n",
    "        data = response.json()\n",
    "        # print(data)\n",
    "        try:\n",
    "            # 행정동 정보 추출 (응답 형식에 따라 수정 필요)\n",
    "            address = data['response']['result'][0]['structure']['level3']\n",
    "            # print(address)\n",
    "            return address\n",
    "        except (KeyError, IndexError):\n",
    "            return None \n",
    "    else:\n",
    "        return None"
   ]
  },
  {
   "cell_type": "markdown",
   "id": "d1359fc7-07e6-426f-b1d9-f24b8ef77154",
   "metadata": {},
   "source": [
    "### 행안부 api"
   ]
  },
  {
   "cell_type": "code",
   "execution_count": 30,
   "id": "8733ee23-df10-42fc-bd2d-08e42e067dd7",
   "metadata": {},
   "outputs": [],
   "source": [
    "api_key_url = '../API_KEY/API_KEYS.xlsx'\n",
    "open_api_key_file = pd.read_excel(api_key_url)\n",
    " \n",
    "open_api_key_file['사이트'].value_counts()\n",
    "\n",
    "get_gov_api_key = open_api_key_file[open_api_key_file['사이트'] == '행정안전부'].values[0][1]  "
   ]
  },
  {
   "cell_type": "code",
   "execution_count": 15,
   "id": "daff92b5-7758-43ff-81d3-73901a88c0bb",
   "metadata": {},
   "outputs": [],
   "source": [
    "# 변환할 지번 주소 입력 \n",
    "\n",
    "def haengjeong_anjeon_bu_dong_from_address(old_address): \n",
    "    old_address = \"서울시 \" + old_address\n",
    "    global haengjeong_anjeonbu_api_count\n",
    "    url = f\"https://www.juso.go.kr/addrlink/addrLinkApi.do?confmKey={get_gov_api_key}&keyword={old_address}&resultType=json\"\n",
    "    \n",
    "    # API 요청\n",
    "    response = requests.get(url)\n",
    "    haengjeong_anjeonbu_api_count += 1\n",
    "    \n",
    "    if response.status_code == 200:\n",
    "        data = response.json()\n",
    "        try :\n",
    "            dong_names = {item['emdNm'] for item in data['results']['juso']}\n",
    "            return next(iter(dong_names), None)  # 첫 번째 요소 반환, 없으면 빈 문자열\n",
    "        except :\n",
    "            return None\n",
    "    return None"
   ]
  },
  {
   "cell_type": "code",
   "execution_count": 16,
   "id": "4d8cb9a5-34f8-4f86-a8c9-5ec4ff935039",
   "metadata": {},
   "outputs": [],
   "source": [
    "# 저장이름 확인 장치\n",
    "# for file_path in valid_files:  \n",
    "\n",
    "#     try :\n",
    "#         temp_out_url_1 = file_path.replace(\"./make_file/division/second_round/서울시_도로_\" , \"\")  \n",
    "#         temp_out_url_2 = temp_out_url_1.replace(\"./make_file/division/third_round/보정_서울시_도로_서울시_도로_\" , \"\")  \n",
    "#         temp_out_url_3 = temp_out_url_2.replace(\"./make_file/division/third_round/보정_서울시_도로_\", \"\")\n",
    "#         save_file_url = output_file_url + temp_out_url_3\n",
    "#         print(f\"{save_file_url} 파일 저장 완료.\", end =\"\\n\\n\")\n",
    "#     except OSError as e :\n",
    "#         print(e)"
   ]
  },
  {
   "cell_type": "code",
   "execution_count": 23,
   "id": "0d30a731-bd4e-460f-9bee-63a51c898e9f",
   "metadata": {},
   "outputs": [
    {
     "name": "stderr",
     "output_type": "stream",
     "text": [
      "100%|█████████████████████████████████| 10000/10000 [00:00<00:00, 263797.68it/s]\n"
     ]
    },
    {
     "name": "stdout",
     "output_type": "stream",
     "text": [
      "./make_file/division/third_round/보정_서울시_도로_11 파일 저장 완료.\n",
      "\n"
     ]
    },
    {
     "name": "stderr",
     "output_type": "stream",
     "text": [
      "100%|█████████████████████████████████| 10000/10000 [00:00<00:00, 377284.00it/s]\n"
     ]
    },
    {
     "name": "stdout",
     "output_type": "stream",
     "text": [
      "./make_file/division/third_round/보정_서울시_도로_05 파일 저장 완료.\n",
      "\n"
     ]
    },
    {
     "name": "stderr",
     "output_type": "stream",
     "text": [
      "100%|█████████████████████████████████| 10000/10000 [00:00<00:00, 406621.81it/s]\n"
     ]
    },
    {
     "name": "stdout",
     "output_type": "stream",
     "text": [
      "./make_file/division/third_round/보정_서울시_도로_04 파일 저장 완료.\n",
      "\n"
     ]
    },
    {
     "name": "stderr",
     "output_type": "stream",
     "text": [
      "100%|█████████████████████████████████| 10000/10000 [00:00<00:00, 398663.99it/s]\n"
     ]
    },
    {
     "name": "stdout",
     "output_type": "stream",
     "text": [
      "./make_file/division/third_round/보정_서울시_도로_10 파일 저장 완료.\n",
      "\n"
     ]
    },
    {
     "name": "stderr",
     "output_type": "stream",
     "text": [
      "100%|█████████████████████████████████| 10000/10000 [00:00<00:00, 403158.91it/s]\n"
     ]
    },
    {
     "name": "stdout",
     "output_type": "stream",
     "text": [
      "./make_file/division/third_round/보정_서울시_도로_06 파일 저장 완료.\n",
      "\n"
     ]
    },
    {
     "name": "stderr",
     "output_type": "stream",
     "text": [
      "100%|█████████████████████████████████| 10000/10000 [00:00<00:00, 127346.71it/s]\n"
     ]
    },
    {
     "name": "stdout",
     "output_type": "stream",
     "text": [
      "./make_file/division/third_round/보정_서울시_도로_12 파일 저장 완료.\n",
      "\n"
     ]
    },
    {
     "name": "stderr",
     "output_type": "stream",
     "text": [
      "100%|██████████████████████████████████| 10000/10000 [00:00<00:00, 92280.87it/s]\n"
     ]
    },
    {
     "name": "stdout",
     "output_type": "stream",
     "text": [
      "./make_file/division/third_round/보정_서울시_도로_13 파일 저장 완료.\n",
      "\n"
     ]
    },
    {
     "name": "stderr",
     "output_type": "stream",
     "text": [
      "100%|█████████████████████████████████| 10000/10000 [00:00<00:00, 197874.40it/s]\n"
     ]
    },
    {
     "name": "stdout",
     "output_type": "stream",
     "text": [
      "./make_file/division/third_round/보정_서울시_도로_07 파일 저장 완료.\n",
      "\n"
     ]
    },
    {
     "name": "stderr",
     "output_type": "stream",
     "text": [
      "100%|█████████████████████████████████| 10000/10000 [00:00<00:00, 400739.89it/s]\n"
     ]
    },
    {
     "name": "stdout",
     "output_type": "stream",
     "text": [
      "./make_file/division/third_round/보정_서울시_도로_03 파일 저장 완료.\n",
      "\n"
     ]
    },
    {
     "name": "stderr",
     "output_type": "stream",
     "text": [
      "100%|███████████████████████████████████| 1645/1645 [00:00<00:00, 412484.61it/s]\n"
     ]
    },
    {
     "name": "stdout",
     "output_type": "stream",
     "text": [
      "./make_file/division/third_round/보정_서울시_도로_17 파일 저장 완료.\n",
      "\n"
     ]
    },
    {
     "name": "stderr",
     "output_type": "stream",
     "text": [
      "100%|█████████████████████████████████| 10000/10000 [00:00<00:00, 326156.24it/s]\n"
     ]
    },
    {
     "name": "stdout",
     "output_type": "stream",
     "text": [
      "./make_file/division/third_round/보정_서울시_도로_16 파일 저장 완료.\n",
      "\n"
     ]
    },
    {
     "name": "stderr",
     "output_type": "stream",
     "text": [
      "100%|█████████████████████████████████| 10000/10000 [00:00<00:00, 404009.36it/s]\n"
     ]
    },
    {
     "name": "stdout",
     "output_type": "stream",
     "text": [
      "./make_file/division/third_round/보정_서울시_도로_02 파일 저장 완료.\n",
      "\n"
     ]
    },
    {
     "name": "stderr",
     "output_type": "stream",
     "text": [
      "100%|█████████████████████████████████| 10000/10000 [00:00<00:00, 402188.58it/s]\n"
     ]
    },
    {
     "name": "stdout",
     "output_type": "stream",
     "text": [
      "./make_file/division/third_round/보정_서울시_도로_14 파일 저장 완료.\n",
      "\n"
     ]
    },
    {
     "name": "stderr",
     "output_type": "stream",
     "text": [
      "100%|█████████████████████████████████| 10000/10000 [00:00<00:00, 401864.89it/s]\n"
     ]
    },
    {
     "name": "stdout",
     "output_type": "stream",
     "text": [
      "./make_file/division/third_round/보정_서울시_도로_01 파일 저장 완료.\n",
      "\n"
     ]
    },
    {
     "name": "stderr",
     "output_type": "stream",
     "text": [
      "100%|█████████████████████████████████| 10000/10000 [00:00<00:00, 376944.94it/s]\n"
     ]
    },
    {
     "name": "stdout",
     "output_type": "stream",
     "text": [
      "./make_file/division/third_round/보정_서울시_도로_15 파일 저장 완료.\n",
      "\n"
     ]
    },
    {
     "name": "stderr",
     "output_type": "stream",
     "text": [
      "100%|█████████████████████████████████| 10000/10000 [00:00<00:00, 264223.11it/s]\n"
     ]
    },
    {
     "name": "stdout",
     "output_type": "stream",
     "text": [
      "./make_file/division/third_round/보정_서울시_도로_09 파일 저장 완료.\n",
      "\n"
     ]
    },
    {
     "name": "stderr",
     "output_type": "stream",
     "text": [
      "100%|█████████████████████████████████| 10000/10000 [00:00<00:00, 133443.54it/s]\n"
     ]
    },
    {
     "name": "stdout",
     "output_type": "stream",
     "text": [
      "./make_file/division/third_round/보정_서울시_도로_08 파일 저장 완료.\n",
      "\n"
     ]
    }
   ],
   "source": [
    "err_list = []\n",
    "for file_path in valid_files:  \n",
    "    data = pd.read_csv(file_path, encoding=file_encoding, low_memory=False)\n",
    "    \n",
    "    file_path = file_path.replace(\"./make_file/division/second_round/\", \"\")\n",
    "    file_path = file_path.replace(\"./make_file/division/third_round/보정_서울시_도로_\" , \"\")  \n",
    "    file_path = file_path.replace(\".csv\", \"\")\n",
    "    # print(f\"[ {file_path} ] NULL값 : {data['행정동'].isnull().sum()}\")  \n",
    "\n",
    "    for i in tqdm(range(len(data))): \n",
    "        if pd.isna(data['행정동'][i]) or data['행정동'][i] == \"nan\": \n",
    "            temp_address = data['도로명'][i]\n",
    "        \n",
    "            # 도로명이 리스트인 경우 첫 번째 값만 추출\n",
    "            if isinstance(temp_address, list):\n",
    "                temp_address = temp_address[0]  # 리스트일 경우 첫 번째 값만 가져옴\n",
    "            elif isinstance(temp_address, str): \n",
    "                pass\n",
    "            else:\n",
    "                # 리스트도 아니고 문자열도 아닌 경우\n",
    "                temp_address = str(temp_address)  # 해당 값을 문자열로 처리\n",
    "\n",
    "            data['행정동'] = data['행정동'].astype(str)  # 컬럼 전체를 문자열로 변환\n",
    "            \n",
    "            # 앞뒤 공백 제거 후 띄어쓰기를 기준으로 앞부분만 저장\n",
    "            data.loc[i, '도로명'] = temp_address.strip().split()[0] \n",
    "\n",
    "            data.loc[i, '도로명'] = data.loc[i, '도로명'].replace(\"[\\'\", \"\")\n",
    "            data.loc[i, '도로명'] = data.loc[i, '도로명'].replace(\"['\", \"\")\n",
    "            \n",
    "            data.loc[i, '도로명'] = data.loc[i, '도로명'].replace(\"\\'\", \"\")\n",
    "            data.loc[i, '도로명'] = data.loc[i, '도로명'].replace(\"'\", \"\")\n",
    "            \n",
    "            data.loc[i, '도로명'] = data.loc[i, '도로명'].replace(\",\", \"\")\n",
    "            data.loc[i, '도로명'] = data.loc[i, '도로명'].replace(\",\", \"\") \n",
    "            \n",
    "            # if data.loc[i, '도로명'] in err_data['도로명'].values: \n",
    "            #     data.loc[i, '행정동'] = err_data.loc[err_data['도로명'] == data.loc[i, '도로명'], '행정동'].values[0]\n",
    "            #     continue\n",
    "                \n",
    "            if data.loc[i, '도로명'] in road_to_district:\n",
    "                data.loc[i, '행정동'] = road_to_district[data.loc[i, '도로명']]  # 도로명에 해당하는 행정동 값 할당\n",
    "                continue\n",
    "\n",
    "            search_lat = data['중앙점_위도'][i]\n",
    "            search_lot = data['중앙점_경도'][i]\n",
    "            result_gukto_bu = gukto_bu_dong_from_coords(search_lat, search_lot)\n",
    "\n",
    "            if result_gukto_bu is not None :\n",
    "                data.loc[i, '행정동'] = result_gukto_bu \n",
    "                \n",
    "            elif result_gukto_bu is None :\n",
    "                search_address = data[\"도로명\"][i]\n",
    "                \n",
    "                result = haengjeong_anjeon_bu_dong_from_address(search_address) \n",
    "                \n",
    "                if result is None:\n",
    "                    if search_address == \"구천면로80길\" :\n",
    "                        data.loc[i, '행정동'] = \"명일동\"\n",
    "                    else :\n",
    "                        err_list.append(search_address)\n",
    "                        # print(f\"err : {search_address}\")\n",
    "                else:  \n",
    "                    data.loc[i, '행정동'] = result \n",
    "                \n",
    "    # NaN 값과 \"nan\" 문자열 값의 갯수를 합산\n",
    "    nan_count = data['행정동'].isna().sum() + (data['행정동'] == \"nan\").sum()\n",
    "    \n",
    "    # nan_count가 0보다 크다면 NULL 데이터가 있다는 의미\n",
    "    if nan_count > 0:\n",
    "        print(f\"NULL : {nan_count}\")\n",
    "    \n",
    "    try :\n",
    "        temp_out_url_1 = file_path.replace(\"./make_file/division/second_round/서울시_도로_\" , \"\")  \n",
    "        temp_out_url_2 = temp_out_url_1.replace(\"./make_file/division/third_round/보정_서울시_도로_서울시_도로_\" , \"\")  \n",
    "        temp_out_url_3 = temp_out_url_2.replace(\"./make_file/division/third_round/보정_서울시_도로_\", \"\")\n",
    "        save_file_url = output_file_url + temp_out_url_3\n",
    "        print(f\"{save_file_url} 파일 저장 완료.\", end =\"\\n\\n\")\n",
    "    except OSError as e :\n",
    "        print(e)"
   ]
  },
  {
   "cell_type": "code",
   "execution_count": 24,
   "id": "b77a3ab4-1685-459e-9d33-44a7b88472a1",
   "metadata": {},
   "outputs": [
    {
     "name": "stdout",
     "output_type": "stream",
     "text": [
      "행안부 api 사용량 : 0\n",
      "국토부 api 사용량 : 0\n"
     ]
    }
   ],
   "source": [
    "print(f\"행안부 api 사용량 : {haengjeong_anjeonbu_api_count}\")\n",
    "print(f\"국토부 api 사용량 : {gukto_bu_api_count}\")"
   ]
  },
  {
   "cell_type": "code",
   "execution_count": 25,
   "id": "e935e082-704f-45ae-80c7-693eb82dd46b",
   "metadata": {},
   "outputs": [],
   "source": [
    "err_df = pd.DataFrame({\n",
    "    '도로명' : err_list\n",
    "})"
   ]
  },
  {
   "cell_type": "code",
   "execution_count": 26,
   "id": "871a0a61-4d80-437b-8cf6-9d9c8a4e75d3",
   "metadata": {},
   "outputs": [
    {
     "data": {
      "text/html": [
       "<div>\n",
       "<style scoped>\n",
       "    .dataframe tbody tr th:only-of-type {\n",
       "        vertical-align: middle;\n",
       "    }\n",
       "\n",
       "    .dataframe tbody tr th {\n",
       "        vertical-align: top;\n",
       "    }\n",
       "\n",
       "    .dataframe thead th {\n",
       "        text-align: right;\n",
       "    }\n",
       "</style>\n",
       "<table border=\"1\" class=\"dataframe\">\n",
       "  <thead>\n",
       "    <tr style=\"text-align: right;\">\n",
       "      <th></th>\n",
       "      <th>도로명</th>\n",
       "    </tr>\n",
       "  </thead>\n",
       "  <tbody>\n",
       "  </tbody>\n",
       "</table>\n",
       "</div>"
      ],
      "text/plain": [
       "Empty DataFrame\n",
       "Columns: [도로명]\n",
       "Index: []"
      ]
     },
     "execution_count": 26,
     "metadata": {},
     "output_type": "execute_result"
    }
   ],
   "source": [
    "err_df"
   ]
  },
  {
   "cell_type": "code",
   "execution_count": 27,
   "id": "7073c631-1220-4d3c-8f32-8b2a169a6310",
   "metadata": {},
   "outputs": [],
   "source": [
    "err_df = err_df[~err_df.duplicated('도로명', keep='first')]"
   ]
  },
  {
   "cell_type": "code",
   "execution_count": 28,
   "id": "81e94de7-923f-4ed3-9628-e5251fd286c9",
   "metadata": {},
   "outputs": [
    {
     "name": "stdout",
     "output_type": "stream",
     "text": [
      "./make_file/에러지역.csv 파일 저장 완료.\n"
     ]
    }
   ],
   "source": [
    "try :\n",
    "    save_err_url = \"./make_file/에러지역.csv\"\n",
    "    err_df.to_csv(save_err_url, index=False)\n",
    "    print(f\"{save_err_url} 파일 저장 완료.\")\n",
    "except OSError as e :\n",
    "    print(e)"
   ]
  },
  {
   "cell_type": "code",
   "execution_count": null,
   "id": "bbf1bbae-8a23-420e-9136-3461d5e8eb19",
   "metadata": {},
   "outputs": [],
   "source": []
  },
  {
   "cell_type": "code",
   "execution_count": null,
   "id": "4ca973ff-0c40-46a7-9661-0514e7197cb1",
   "metadata": {},
   "outputs": [],
   "source": []
  },
  {
   "cell_type": "code",
   "execution_count": null,
   "id": "6a087051-468f-42e3-a3de-ca6b839d40d6",
   "metadata": {},
   "outputs": [],
   "source": []
  }
 ],
 "metadata": {
  "kernelspec": {
   "display_name": "Python 3 (ipykernel)",
   "language": "python",
   "name": "python3"
  },
  "language_info": {
   "codemirror_mode": {
    "name": "ipython",
    "version": 3
   },
   "file_extension": ".py",
   "mimetype": "text/x-python",
   "name": "python",
   "nbconvert_exporter": "python",
   "pygments_lexer": "ipython3",
   "version": "3.13.2"
  }
 },
 "nbformat": 4,
 "nbformat_minor": 5
}
