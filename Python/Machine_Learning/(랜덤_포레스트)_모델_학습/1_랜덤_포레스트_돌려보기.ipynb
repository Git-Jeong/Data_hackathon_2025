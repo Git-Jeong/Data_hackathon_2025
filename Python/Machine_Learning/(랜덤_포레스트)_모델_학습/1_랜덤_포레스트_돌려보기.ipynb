{
 "cells": [
  {
   "cell_type": "code",
   "execution_count": 43,
   "id": "6f3bf25d-5b48-4b97-a324-f62f6bfea781",
   "metadata": {},
   "outputs": [],
   "source": [
    "# null_control\n",
    "# 1 : null값을 최빈값으로 변경, \n",
    "# 2 : null값을 삭제\n",
    "null_control = 1\n"
   ]
  },
  {
   "cell_type": "code",
   "execution_count": 44,
   "id": "7a3e151e-22e3-4127-aa34-5cef8d47a94f",
   "metadata": {},
   "outputs": [],
   "source": [
    "import pandas as pd\n",
    "from sklearn.model_selection import train_test_split\n",
    "from sklearn.preprocessing import StandardScaler\n",
    "from sklearn.ensemble import RandomForestClassifier\n",
    "from sklearn.metrics import accuracy_score\n",
    "import numpy as np"
   ]
  },
  {
   "cell_type": "code",
   "execution_count": 45,
   "id": "49f7265a-9ec2-4433-b7c7-4d52af7c356b",
   "metadata": {},
   "outputs": [],
   "source": [
    "url = '../data//(최종)_서울열선_광진도로.csv'"
   ]
  },
  {
   "cell_type": "code",
   "execution_count": 46,
   "id": "7f75f408-3723-4ff4-adf0-0a32529f4f2d",
   "metadata": {},
   "outputs": [],
   "source": [
    "data = pd.read_csv(url)"
   ]
  },
  {
   "cell_type": "code",
   "execution_count": 47,
   "id": "ae87d84f-d171-4b70-94d2-b56093f3ce07",
   "metadata": {},
   "outputs": [
    {
     "data": {
      "text/plain": [
       "Index(['도로명', '열선', '도로 종류', '시작점_위도', '시작점_경도', '종료점_위도', '종료점_경도', '중앙점_위도',\n",
       "       '중앙점_경도', '도로_길이', '도로폭', '도로규모', '행정구역', '고도의_차이', '경사각', '최근접_시설들_거리',\n",
       "       '최근접_시설의_평균거리', '2019_평균_온도', '2020_평균_온도', '2021_평균_온도', '2022_평균_온도',\n",
       "       '2023_평균_온도', '2024_평균_온도', '종합_평균_기온', '행정동', '생활인구', '최근접_시설들_최소거리',\n",
       "       '최근접_시설들_최대거리'],\n",
       "      dtype='object')"
      ]
     },
     "execution_count": 47,
     "metadata": {},
     "output_type": "execute_result"
    }
   ],
   "source": [
    "data.columns"
   ]
  },
  {
   "cell_type": "code",
   "execution_count": 48,
   "id": "265f923b-54ea-4f76-9fdc-5682b3e99246",
   "metadata": {},
   "outputs": [],
   "source": [
    "data['최근접_시설들_최소거리'] = data['최근접_시설들_거리'].apply(lambda x: np.min(list(map(float, x.split(',')))))\n",
    "data['최근접_시설들_최대거리'] = data['최근접_시설들_거리'].apply(lambda x: np.max(list(map(float, x.split(',')))))"
   ]
  },
  {
   "cell_type": "code",
   "execution_count": 49,
   "id": "d5508cdf-c81d-4bb4-b85e-483196f0e3b0",
   "metadata": {},
   "outputs": [
    {
     "data": {
      "text/plain": [
       "Index(['도로명', '열선', '도로 종류', '시작점_위도', '시작점_경도', '종료점_위도', '종료점_경도', '중앙점_위도',\n",
       "       '중앙점_경도', '도로_길이', '도로폭', '도로규모', '행정구역', '고도의_차이', '경사각', '최근접_시설들_거리',\n",
       "       '최근접_시설의_평균거리', '2019_평균_온도', '2020_평균_온도', '2021_평균_온도', '2022_평균_온도',\n",
       "       '2023_평균_온도', '2024_평균_온도', '종합_평균_기온', '행정동', '생활인구', '최근접_시설들_최소거리',\n",
       "       '최근접_시설들_최대거리'],\n",
       "      dtype='object')"
      ]
     },
     "execution_count": 49,
     "metadata": {},
     "output_type": "execute_result"
    }
   ],
   "source": [
    "data.columns"
   ]
  },
  {
   "cell_type": "code",
   "execution_count": 50,
   "id": "7401fd35-8756-4697-aa72-1c5949c4103a",
   "metadata": {},
   "outputs": [],
   "source": [
    "road_width = {\n",
    "    '폭20-25m' : 22.5,\n",
    "    '폭15-20m' : 17.5,\n",
    "    '폭8-10m' : 9.0,\n",
    "    '폭10-12m' : 11.0,\n",
    "    '폭6-8m' : 7.0,\n",
    "    '6m미만' : 5.0\n",
    "}\n",
    "\n",
    "data['도로폭'] = data['도로폭'].map(road_width)"
   ]
  },
  {
   "cell_type": "code",
   "execution_count": 51,
   "id": "6cde659c-6050-4368-acd5-1804de9d9709",
   "metadata": {},
   "outputs": [],
   "source": [
    "road_scale = {\n",
    "    \"소로\" : 1,   \n",
    "    \"소로3류\" : 2,  \n",
    "    \"소로1류\" : 3,\n",
    "    \"소로2류\" : 4,\n",
    "    \"중로2류\" : 5,\n",
    "    \"중로1류\" : 6\n",
    "}\n",
    "\n",
    "data['도로규모'] = data['도로규모'].map(road_scale)"
   ]
  },
  {
   "cell_type": "code",
   "execution_count": 52,
   "id": "c6a50c70-1316-4bac-845f-9ba09a6b3cab",
   "metadata": {},
   "outputs": [],
   "source": [
    "road_title = {\n",
    "    '3차로' : 1,\n",
    "    '주거지 도로' : 2,\n",
    "    '생활도로' : 3\n",
    "}\n",
    "        \n",
    "data['도로 종류'] = data['도로 종류'].map(road_title)"
   ]
  },
  {
   "cell_type": "code",
   "execution_count": 53,
   "id": "a3705ca7-abf0-4402-95a3-e9e599e1fdf6",
   "metadata": {},
   "outputs": [
    {
     "name": "stdout",
     "output_type": "stream",
     "text": [
      "[22.5  7.   5.   9.  11.  17.5]\n"
     ]
    }
   ],
   "source": [
    "print(data['도로폭'].unique())"
   ]
  },
  {
   "cell_type": "code",
   "execution_count": 54,
   "id": "1b01b287-70f3-4c51-aabd-7b725502faa6",
   "metadata": {},
   "outputs": [
    {
     "name": "stdout",
     "output_type": "stream",
     "text": [
      "[6 2 1 4 3 5]\n"
     ]
    }
   ],
   "source": [
    "print(data['도로규모'].unique())"
   ]
  },
  {
   "cell_type": "code",
   "execution_count": 55,
   "id": "187ad50b-17b1-46ab-a276-ce5473adf2eb",
   "metadata": {},
   "outputs": [
    {
     "name": "stdout",
     "output_type": "stream",
     "text": [
      "[1 2 3]\n"
     ]
    }
   ],
   "source": [
    "print(data['도로 종류'].unique())"
   ]
  },
  {
   "cell_type": "code",
   "execution_count": 56,
   "id": "54092247-7bf1-44b8-9077-4c9f36c285f5",
   "metadata": {},
   "outputs": [],
   "source": [
    "if null_control == 1 :\n",
    "    # 최빈값을 대입\n",
    "    for col in ['경사각', '최근접_시설의_평균거리', '도로규모', '도로 종류', '열선', '도로폭', '2019_평균_온도', '2020_평균_온도', '2021_평균_온도',\n",
    "       '2022_평균_온도', '2023_평균_온도', '2024_평균_온도', '종합_평균_기온']:\n",
    "        data[col] = data[col].fillna(data[col].mode()[0])\n",
    "if null_control == 2 :\n",
    "    # 널값 삭제\n",
    "    data = data.dropna(subset=['경사각', '최근접_시설의_평균거리', '도로규모', '도로 종류', '열선', '도로폭'])"
   ]
  },
  {
   "cell_type": "code",
   "execution_count": 57,
   "id": "827360be-9d04-4c50-8b4f-fe1a536fda90",
   "metadata": {},
   "outputs": [
    {
     "data": {
      "text/plain": [
       "Index(['도로명', '열선', '도로 종류', '시작점_위도', '시작점_경도', '종료점_위도', '종료점_경도', '중앙점_위도',\n",
       "       '중앙점_경도', '도로_길이', '도로폭', '도로규모', '행정구역', '고도의_차이', '경사각', '최근접_시설들_거리',\n",
       "       '최근접_시설의_평균거리', '2019_평균_온도', '2020_평균_온도', '2021_평균_온도', '2022_평균_온도',\n",
       "       '2023_평균_온도', '2024_평균_온도', '종합_평균_기온', '행정동', '생활인구', '최근접_시설들_최소거리',\n",
       "       '최근접_시설들_최대거리'],\n",
       "      dtype='object')"
      ]
     },
     "execution_count": 57,
     "metadata": {},
     "output_type": "execute_result"
    }
   ],
   "source": [
    "data.columns"
   ]
  },
  {
   "cell_type": "code",
   "execution_count": 58,
   "id": "88c2b0f6-c6ff-4031-ac8e-f240183eddac",
   "metadata": {},
   "outputs": [],
   "source": [
    "X = data[['경사각', '최근접_시설의_평균거리', '도로규모', '도로 종류', '도로폭', \n",
    "          '최근접_시설의_평균거리', '최근접_시설들_최소거리', '최근접_시설들_최대거리',\n",
    "          '생활인구', '종합_평균_기온']]\n",
    "y = data['열선']  # 라벨값 (1 or 0)"
   ]
  },
  {
   "cell_type": "code",
   "execution_count": 59,
   "id": "4a21a216-cdd1-498c-95a2-6773b6bade34",
   "metadata": {},
   "outputs": [
    {
     "data": {
      "text/plain": [
       "0       165.17299640951381 ,141.88730282955694 ,165.97...\n",
       "1       62.36827510450082 ,84.24249385836922 ,84.24249...\n",
       "2       117.13714873310688 ,122.47106043434799 ,181.43...\n",
       "3       170.7456882318119 ,207.35031231752598 ,261.112...\n",
       "4       119.57304016628333 ,132.2920410496931 ,236.865...\n",
       "                              ...                        \n",
       "7154    69.00844434134116 ,94.54668650722202 ,94.54668...\n",
       "7155    116.97170564924865 ,130.21597401933184 ,122.67...\n",
       "7156    106.76800390273242 ,123.60699504336469 ,127.95...\n",
       "7157    74.67855277360383 ,89.30233043522139 ,92.61163...\n",
       "7158    64.1090520411586 ,104.52316605023508 ,134.9057...\n",
       "Name: 최근접_시설들_거리, Length: 7159, dtype: object"
      ]
     },
     "execution_count": 59,
     "metadata": {},
     "output_type": "execute_result"
    }
   ],
   "source": [
    "data['최근접_시설들_거리']"
   ]
  },
  {
   "cell_type": "code",
   "execution_count": 60,
   "id": "8fa777a1-4260-4523-bc87-d6c9d657fb89",
   "metadata": {},
   "outputs": [
    {
     "data": {
      "text/plain": [
       "7159"
      ]
     },
     "execution_count": 60,
     "metadata": {},
     "output_type": "execute_result"
    }
   ],
   "source": [
    "len(data)"
   ]
  },
  {
   "cell_type": "code",
   "execution_count": 61,
   "id": "1c5daacd-b95c-4b7a-85d8-5a4988927947",
   "metadata": {},
   "outputs": [],
   "source": [
    "X_train, X_test, y_train, y_test = train_test_split(\n",
    "    X, y, train_size=0.7, random_state=42, stratify=y\n",
    ")"
   ]
  },
  {
   "cell_type": "code",
   "execution_count": 62,
   "id": "98fcea08-af48-4a8a-b991-f42a93701fa1",
   "metadata": {},
   "outputs": [],
   "source": [
    "# 스케일링 (표준화)\n",
    "scaler = StandardScaler()\n",
    "X_train = scaler.fit_transform(X_train)\n",
    "X_test = scaler.transform(X_test)"
   ]
  },
  {
   "cell_type": "markdown",
   "id": "aac4d2cd-e900-4756-98dc-00e6aa5a90d6",
   "metadata": {},
   "source": [
    "## 모델 튜닝"
   ]
  },
  {
   "cell_type": "code",
   "execution_count": 63,
   "id": "72ced035-7986-432b-a4be-8fea5860a81e",
   "metadata": {},
   "outputs": [],
   "source": [
    "# 랜덤 포레스트 학습\n",
    "rf_model = RandomForestClassifier(n_estimators=50, random_state=42, max_depth=8)"
   ]
  },
  {
   "cell_type": "code",
   "execution_count": 64,
   "id": "301cd237-54aa-448c-886b-cc63f72af820",
   "metadata": {},
   "outputs": [
    {
     "data": {
      "text/html": [
       "<style>#sk-container-id-2 {\n",
       "  /* Definition of color scheme common for light and dark mode */\n",
       "  --sklearn-color-text: #000;\n",
       "  --sklearn-color-text-muted: #666;\n",
       "  --sklearn-color-line: gray;\n",
       "  /* Definition of color scheme for unfitted estimators */\n",
       "  --sklearn-color-unfitted-level-0: #fff5e6;\n",
       "  --sklearn-color-unfitted-level-1: #f6e4d2;\n",
       "  --sklearn-color-unfitted-level-2: #ffe0b3;\n",
       "  --sklearn-color-unfitted-level-3: chocolate;\n",
       "  /* Definition of color scheme for fitted estimators */\n",
       "  --sklearn-color-fitted-level-0: #f0f8ff;\n",
       "  --sklearn-color-fitted-level-1: #d4ebff;\n",
       "  --sklearn-color-fitted-level-2: #b3dbfd;\n",
       "  --sklearn-color-fitted-level-3: cornflowerblue;\n",
       "\n",
       "  /* Specific color for light theme */\n",
       "  --sklearn-color-text-on-default-background: var(--sg-text-color, var(--theme-code-foreground, var(--jp-content-font-color1, black)));\n",
       "  --sklearn-color-background: var(--sg-background-color, var(--theme-background, var(--jp-layout-color0, white)));\n",
       "  --sklearn-color-border-box: var(--sg-text-color, var(--theme-code-foreground, var(--jp-content-font-color1, black)));\n",
       "  --sklearn-color-icon: #696969;\n",
       "\n",
       "  @media (prefers-color-scheme: dark) {\n",
       "    /* Redefinition of color scheme for dark theme */\n",
       "    --sklearn-color-text-on-default-background: var(--sg-text-color, var(--theme-code-foreground, var(--jp-content-font-color1, white)));\n",
       "    --sklearn-color-background: var(--sg-background-color, var(--theme-background, var(--jp-layout-color0, #111)));\n",
       "    --sklearn-color-border-box: var(--sg-text-color, var(--theme-code-foreground, var(--jp-content-font-color1, white)));\n",
       "    --sklearn-color-icon: #878787;\n",
       "  }\n",
       "}\n",
       "\n",
       "#sk-container-id-2 {\n",
       "  color: var(--sklearn-color-text);\n",
       "}\n",
       "\n",
       "#sk-container-id-2 pre {\n",
       "  padding: 0;\n",
       "}\n",
       "\n",
       "#sk-container-id-2 input.sk-hidden--visually {\n",
       "  border: 0;\n",
       "  clip: rect(1px 1px 1px 1px);\n",
       "  clip: rect(1px, 1px, 1px, 1px);\n",
       "  height: 1px;\n",
       "  margin: -1px;\n",
       "  overflow: hidden;\n",
       "  padding: 0;\n",
       "  position: absolute;\n",
       "  width: 1px;\n",
       "}\n",
       "\n",
       "#sk-container-id-2 div.sk-dashed-wrapped {\n",
       "  border: 1px dashed var(--sklearn-color-line);\n",
       "  margin: 0 0.4em 0.5em 0.4em;\n",
       "  box-sizing: border-box;\n",
       "  padding-bottom: 0.4em;\n",
       "  background-color: var(--sklearn-color-background);\n",
       "}\n",
       "\n",
       "#sk-container-id-2 div.sk-container {\n",
       "  /* jupyter's `normalize.less` sets `[hidden] { display: none; }`\n",
       "     but bootstrap.min.css set `[hidden] { display: none !important; }`\n",
       "     so we also need the `!important` here to be able to override the\n",
       "     default hidden behavior on the sphinx rendered scikit-learn.org.\n",
       "     See: https://github.com/scikit-learn/scikit-learn/issues/21755 */\n",
       "  display: inline-block !important;\n",
       "  position: relative;\n",
       "}\n",
       "\n",
       "#sk-container-id-2 div.sk-text-repr-fallback {\n",
       "  display: none;\n",
       "}\n",
       "\n",
       "div.sk-parallel-item,\n",
       "div.sk-serial,\n",
       "div.sk-item {\n",
       "  /* draw centered vertical line to link estimators */\n",
       "  background-image: linear-gradient(var(--sklearn-color-text-on-default-background), var(--sklearn-color-text-on-default-background));\n",
       "  background-size: 2px 100%;\n",
       "  background-repeat: no-repeat;\n",
       "  background-position: center center;\n",
       "}\n",
       "\n",
       "/* Parallel-specific style estimator block */\n",
       "\n",
       "#sk-container-id-2 div.sk-parallel-item::after {\n",
       "  content: \"\";\n",
       "  width: 100%;\n",
       "  border-bottom: 2px solid var(--sklearn-color-text-on-default-background);\n",
       "  flex-grow: 1;\n",
       "}\n",
       "\n",
       "#sk-container-id-2 div.sk-parallel {\n",
       "  display: flex;\n",
       "  align-items: stretch;\n",
       "  justify-content: center;\n",
       "  background-color: var(--sklearn-color-background);\n",
       "  position: relative;\n",
       "}\n",
       "\n",
       "#sk-container-id-2 div.sk-parallel-item {\n",
       "  display: flex;\n",
       "  flex-direction: column;\n",
       "}\n",
       "\n",
       "#sk-container-id-2 div.sk-parallel-item:first-child::after {\n",
       "  align-self: flex-end;\n",
       "  width: 50%;\n",
       "}\n",
       "\n",
       "#sk-container-id-2 div.sk-parallel-item:last-child::after {\n",
       "  align-self: flex-start;\n",
       "  width: 50%;\n",
       "}\n",
       "\n",
       "#sk-container-id-2 div.sk-parallel-item:only-child::after {\n",
       "  width: 0;\n",
       "}\n",
       "\n",
       "/* Serial-specific style estimator block */\n",
       "\n",
       "#sk-container-id-2 div.sk-serial {\n",
       "  display: flex;\n",
       "  flex-direction: column;\n",
       "  align-items: center;\n",
       "  background-color: var(--sklearn-color-background);\n",
       "  padding-right: 1em;\n",
       "  padding-left: 1em;\n",
       "}\n",
       "\n",
       "\n",
       "/* Toggleable style: style used for estimator/Pipeline/ColumnTransformer box that is\n",
       "clickable and can be expanded/collapsed.\n",
       "- Pipeline and ColumnTransformer use this feature and define the default style\n",
       "- Estimators will overwrite some part of the style using the `sk-estimator` class\n",
       "*/\n",
       "\n",
       "/* Pipeline and ColumnTransformer style (default) */\n",
       "\n",
       "#sk-container-id-2 div.sk-toggleable {\n",
       "  /* Default theme specific background. It is overwritten whether we have a\n",
       "  specific estimator or a Pipeline/ColumnTransformer */\n",
       "  background-color: var(--sklearn-color-background);\n",
       "}\n",
       "\n",
       "/* Toggleable label */\n",
       "#sk-container-id-2 label.sk-toggleable__label {\n",
       "  cursor: pointer;\n",
       "  display: flex;\n",
       "  width: 100%;\n",
       "  margin-bottom: 0;\n",
       "  padding: 0.5em;\n",
       "  box-sizing: border-box;\n",
       "  text-align: center;\n",
       "  align-items: start;\n",
       "  justify-content: space-between;\n",
       "  gap: 0.5em;\n",
       "}\n",
       "\n",
       "#sk-container-id-2 label.sk-toggleable__label .caption {\n",
       "  font-size: 0.6rem;\n",
       "  font-weight: lighter;\n",
       "  color: var(--sklearn-color-text-muted);\n",
       "}\n",
       "\n",
       "#sk-container-id-2 label.sk-toggleable__label-arrow:before {\n",
       "  /* Arrow on the left of the label */\n",
       "  content: \"▸\";\n",
       "  float: left;\n",
       "  margin-right: 0.25em;\n",
       "  color: var(--sklearn-color-icon);\n",
       "}\n",
       "\n",
       "#sk-container-id-2 label.sk-toggleable__label-arrow:hover:before {\n",
       "  color: var(--sklearn-color-text);\n",
       "}\n",
       "\n",
       "/* Toggleable content - dropdown */\n",
       "\n",
       "#sk-container-id-2 div.sk-toggleable__content {\n",
       "  max-height: 0;\n",
       "  max-width: 0;\n",
       "  overflow: hidden;\n",
       "  text-align: left;\n",
       "  /* unfitted */\n",
       "  background-color: var(--sklearn-color-unfitted-level-0);\n",
       "}\n",
       "\n",
       "#sk-container-id-2 div.sk-toggleable__content.fitted {\n",
       "  /* fitted */\n",
       "  background-color: var(--sklearn-color-fitted-level-0);\n",
       "}\n",
       "\n",
       "#sk-container-id-2 div.sk-toggleable__content pre {\n",
       "  margin: 0.2em;\n",
       "  border-radius: 0.25em;\n",
       "  color: var(--sklearn-color-text);\n",
       "  /* unfitted */\n",
       "  background-color: var(--sklearn-color-unfitted-level-0);\n",
       "}\n",
       "\n",
       "#sk-container-id-2 div.sk-toggleable__content.fitted pre {\n",
       "  /* unfitted */\n",
       "  background-color: var(--sklearn-color-fitted-level-0);\n",
       "}\n",
       "\n",
       "#sk-container-id-2 input.sk-toggleable__control:checked~div.sk-toggleable__content {\n",
       "  /* Expand drop-down */\n",
       "  max-height: 200px;\n",
       "  max-width: 100%;\n",
       "  overflow: auto;\n",
       "}\n",
       "\n",
       "#sk-container-id-2 input.sk-toggleable__control:checked~label.sk-toggleable__label-arrow:before {\n",
       "  content: \"▾\";\n",
       "}\n",
       "\n",
       "/* Pipeline/ColumnTransformer-specific style */\n",
       "\n",
       "#sk-container-id-2 div.sk-label input.sk-toggleable__control:checked~label.sk-toggleable__label {\n",
       "  color: var(--sklearn-color-text);\n",
       "  background-color: var(--sklearn-color-unfitted-level-2);\n",
       "}\n",
       "\n",
       "#sk-container-id-2 div.sk-label.fitted input.sk-toggleable__control:checked~label.sk-toggleable__label {\n",
       "  background-color: var(--sklearn-color-fitted-level-2);\n",
       "}\n",
       "\n",
       "/* Estimator-specific style */\n",
       "\n",
       "/* Colorize estimator box */\n",
       "#sk-container-id-2 div.sk-estimator input.sk-toggleable__control:checked~label.sk-toggleable__label {\n",
       "  /* unfitted */\n",
       "  background-color: var(--sklearn-color-unfitted-level-2);\n",
       "}\n",
       "\n",
       "#sk-container-id-2 div.sk-estimator.fitted input.sk-toggleable__control:checked~label.sk-toggleable__label {\n",
       "  /* fitted */\n",
       "  background-color: var(--sklearn-color-fitted-level-2);\n",
       "}\n",
       "\n",
       "#sk-container-id-2 div.sk-label label.sk-toggleable__label,\n",
       "#sk-container-id-2 div.sk-label label {\n",
       "  /* The background is the default theme color */\n",
       "  color: var(--sklearn-color-text-on-default-background);\n",
       "}\n",
       "\n",
       "/* On hover, darken the color of the background */\n",
       "#sk-container-id-2 div.sk-label:hover label.sk-toggleable__label {\n",
       "  color: var(--sklearn-color-text);\n",
       "  background-color: var(--sklearn-color-unfitted-level-2);\n",
       "}\n",
       "\n",
       "/* Label box, darken color on hover, fitted */\n",
       "#sk-container-id-2 div.sk-label.fitted:hover label.sk-toggleable__label.fitted {\n",
       "  color: var(--sklearn-color-text);\n",
       "  background-color: var(--sklearn-color-fitted-level-2);\n",
       "}\n",
       "\n",
       "/* Estimator label */\n",
       "\n",
       "#sk-container-id-2 div.sk-label label {\n",
       "  font-family: monospace;\n",
       "  font-weight: bold;\n",
       "  display: inline-block;\n",
       "  line-height: 1.2em;\n",
       "}\n",
       "\n",
       "#sk-container-id-2 div.sk-label-container {\n",
       "  text-align: center;\n",
       "}\n",
       "\n",
       "/* Estimator-specific */\n",
       "#sk-container-id-2 div.sk-estimator {\n",
       "  font-family: monospace;\n",
       "  border: 1px dotted var(--sklearn-color-border-box);\n",
       "  border-radius: 0.25em;\n",
       "  box-sizing: border-box;\n",
       "  margin-bottom: 0.5em;\n",
       "  /* unfitted */\n",
       "  background-color: var(--sklearn-color-unfitted-level-0);\n",
       "}\n",
       "\n",
       "#sk-container-id-2 div.sk-estimator.fitted {\n",
       "  /* fitted */\n",
       "  background-color: var(--sklearn-color-fitted-level-0);\n",
       "}\n",
       "\n",
       "/* on hover */\n",
       "#sk-container-id-2 div.sk-estimator:hover {\n",
       "  /* unfitted */\n",
       "  background-color: var(--sklearn-color-unfitted-level-2);\n",
       "}\n",
       "\n",
       "#sk-container-id-2 div.sk-estimator.fitted:hover {\n",
       "  /* fitted */\n",
       "  background-color: var(--sklearn-color-fitted-level-2);\n",
       "}\n",
       "\n",
       "/* Specification for estimator info (e.g. \"i\" and \"?\") */\n",
       "\n",
       "/* Common style for \"i\" and \"?\" */\n",
       "\n",
       ".sk-estimator-doc-link,\n",
       "a:link.sk-estimator-doc-link,\n",
       "a:visited.sk-estimator-doc-link {\n",
       "  float: right;\n",
       "  font-size: smaller;\n",
       "  line-height: 1em;\n",
       "  font-family: monospace;\n",
       "  background-color: var(--sklearn-color-background);\n",
       "  border-radius: 1em;\n",
       "  height: 1em;\n",
       "  width: 1em;\n",
       "  text-decoration: none !important;\n",
       "  margin-left: 0.5em;\n",
       "  text-align: center;\n",
       "  /* unfitted */\n",
       "  border: var(--sklearn-color-unfitted-level-1) 1pt solid;\n",
       "  color: var(--sklearn-color-unfitted-level-1);\n",
       "}\n",
       "\n",
       ".sk-estimator-doc-link.fitted,\n",
       "a:link.sk-estimator-doc-link.fitted,\n",
       "a:visited.sk-estimator-doc-link.fitted {\n",
       "  /* fitted */\n",
       "  border: var(--sklearn-color-fitted-level-1) 1pt solid;\n",
       "  color: var(--sklearn-color-fitted-level-1);\n",
       "}\n",
       "\n",
       "/* On hover */\n",
       "div.sk-estimator:hover .sk-estimator-doc-link:hover,\n",
       ".sk-estimator-doc-link:hover,\n",
       "div.sk-label-container:hover .sk-estimator-doc-link:hover,\n",
       ".sk-estimator-doc-link:hover {\n",
       "  /* unfitted */\n",
       "  background-color: var(--sklearn-color-unfitted-level-3);\n",
       "  color: var(--sklearn-color-background);\n",
       "  text-decoration: none;\n",
       "}\n",
       "\n",
       "div.sk-estimator.fitted:hover .sk-estimator-doc-link.fitted:hover,\n",
       ".sk-estimator-doc-link.fitted:hover,\n",
       "div.sk-label-container:hover .sk-estimator-doc-link.fitted:hover,\n",
       ".sk-estimator-doc-link.fitted:hover {\n",
       "  /* fitted */\n",
       "  background-color: var(--sklearn-color-fitted-level-3);\n",
       "  color: var(--sklearn-color-background);\n",
       "  text-decoration: none;\n",
       "}\n",
       "\n",
       "/* Span, style for the box shown on hovering the info icon */\n",
       ".sk-estimator-doc-link span {\n",
       "  display: none;\n",
       "  z-index: 9999;\n",
       "  position: relative;\n",
       "  font-weight: normal;\n",
       "  right: .2ex;\n",
       "  padding: .5ex;\n",
       "  margin: .5ex;\n",
       "  width: min-content;\n",
       "  min-width: 20ex;\n",
       "  max-width: 50ex;\n",
       "  color: var(--sklearn-color-text);\n",
       "  box-shadow: 2pt 2pt 4pt #999;\n",
       "  /* unfitted */\n",
       "  background: var(--sklearn-color-unfitted-level-0);\n",
       "  border: .5pt solid var(--sklearn-color-unfitted-level-3);\n",
       "}\n",
       "\n",
       ".sk-estimator-doc-link.fitted span {\n",
       "  /* fitted */\n",
       "  background: var(--sklearn-color-fitted-level-0);\n",
       "  border: var(--sklearn-color-fitted-level-3);\n",
       "}\n",
       "\n",
       ".sk-estimator-doc-link:hover span {\n",
       "  display: block;\n",
       "}\n",
       "\n",
       "/* \"?\"-specific style due to the `<a>` HTML tag */\n",
       "\n",
       "#sk-container-id-2 a.estimator_doc_link {\n",
       "  float: right;\n",
       "  font-size: 1rem;\n",
       "  line-height: 1em;\n",
       "  font-family: monospace;\n",
       "  background-color: var(--sklearn-color-background);\n",
       "  border-radius: 1rem;\n",
       "  height: 1rem;\n",
       "  width: 1rem;\n",
       "  text-decoration: none;\n",
       "  /* unfitted */\n",
       "  color: var(--sklearn-color-unfitted-level-1);\n",
       "  border: var(--sklearn-color-unfitted-level-1) 1pt solid;\n",
       "}\n",
       "\n",
       "#sk-container-id-2 a.estimator_doc_link.fitted {\n",
       "  /* fitted */\n",
       "  border: var(--sklearn-color-fitted-level-1) 1pt solid;\n",
       "  color: var(--sklearn-color-fitted-level-1);\n",
       "}\n",
       "\n",
       "/* On hover */\n",
       "#sk-container-id-2 a.estimator_doc_link:hover {\n",
       "  /* unfitted */\n",
       "  background-color: var(--sklearn-color-unfitted-level-3);\n",
       "  color: var(--sklearn-color-background);\n",
       "  text-decoration: none;\n",
       "}\n",
       "\n",
       "#sk-container-id-2 a.estimator_doc_link.fitted:hover {\n",
       "  /* fitted */\n",
       "  background-color: var(--sklearn-color-fitted-level-3);\n",
       "}\n",
       "</style><div id=\"sk-container-id-2\" class=\"sk-top-container\"><div class=\"sk-text-repr-fallback\"><pre>RandomForestClassifier(max_depth=8, n_estimators=50, random_state=42)</pre><b>In a Jupyter environment, please rerun this cell to show the HTML representation or trust the notebook. <br />On GitHub, the HTML representation is unable to render, please try loading this page with nbviewer.org.</b></div><div class=\"sk-container\" hidden><div class=\"sk-item\"><div class=\"sk-estimator fitted sk-toggleable\"><input class=\"sk-toggleable__control sk-hidden--visually\" id=\"sk-estimator-id-2\" type=\"checkbox\" checked><label for=\"sk-estimator-id-2\" class=\"sk-toggleable__label fitted sk-toggleable__label-arrow\"><div><div>RandomForestClassifier</div></div><div><a class=\"sk-estimator-doc-link fitted\" rel=\"noreferrer\" target=\"_blank\" href=\"https://scikit-learn.org/1.6/modules/generated/sklearn.ensemble.RandomForestClassifier.html\">?<span>Documentation for RandomForestClassifier</span></a><span class=\"sk-estimator-doc-link fitted\">i<span>Fitted</span></span></div></label><div class=\"sk-toggleable__content fitted\"><pre>RandomForestClassifier(max_depth=8, n_estimators=50, random_state=42)</pre></div> </div></div></div></div>"
      ],
      "text/plain": [
       "RandomForestClassifier(max_depth=8, n_estimators=50, random_state=42)"
      ]
     },
     "execution_count": 64,
     "metadata": {},
     "output_type": "execute_result"
    }
   ],
   "source": [
    "rf_model.fit(X_train, y_train)"
   ]
  },
  {
   "cell_type": "code",
   "execution_count": 65,
   "id": "38edc6da-86f0-43e7-ad96-5509efabef6b",
   "metadata": {},
   "outputs": [
    {
     "name": "stdout",
     "output_type": "stream",
     "text": [
      "랜덤 포레스트 정확도: 0.9465\n"
     ]
    }
   ],
   "source": [
    "# 예측 및 평가\n",
    "y_pred = rf_model.predict(X_test)\n",
    "y_pred_list = y_pred.tolist()\n",
    "print(f\"랜덤 포레스트 정확도: {accuracy_score(y_test, y_pred):.4f}\")"
   ]
  },
  {
   "cell_type": "code",
   "execution_count": 66,
   "id": "85f6da77-9b4a-4d9f-a8c0-95c540608377",
   "metadata": {},
   "outputs": [
    {
     "name": "stdout",
     "output_type": "stream",
     "text": [
      "Accuracy: 0.9464618249534451\n",
      "Precision: 0.9464285714285714\n",
      "Recall: 0.6730158730158731\n",
      "F1-Score: 0.7866419294990723\n"
     ]
    }
   ],
   "source": [
    "from sklearn.metrics import accuracy_score, precision_score, recall_score, f1_score, confusion_matrix\n",
    "\n",
    "# 정확도\n",
    "accuracy = accuracy_score(y_test, y_pred)\n",
    "print(f\"Accuracy: {accuracy}\")\n",
    "\n",
    "# 정밀도\n",
    "precision = precision_score(y_test, y_pred)\n",
    "print(f\"Precision: {precision}\")\n",
    "\n",
    "# 재현율\n",
    "recall = recall_score(y_test, y_pred)\n",
    "print(f\"Recall: {recall}\")\n",
    "\n",
    "# F1-Score\n",
    "f1 = f1_score(y_test, y_pred)\n",
    "print(f\"F1-Score: {f1}\")\n"
   ]
  },
  {
   "cell_type": "code",
   "execution_count": 67,
   "id": "9f349fcb-9d39-48eb-944d-78ad99a62ec4",
   "metadata": {},
   "outputs": [],
   "source": [
    "X_full =  data[['경사각', '최근접_시설의_평균거리', '도로규모', '도로 종류', '도로폭', \n",
    "          '최근접_시설의_평균거리', '최근접_시설들_최소거리', '최근접_시설들_최대거리',\n",
    "          '생활인구', '종합_평균_기온']]  # 특징값\n",
    "X_full_scaled = scaler.transform(X_full)  "
   ]
  },
  {
   "cell_type": "code",
   "execution_count": 68,
   "id": "3222bb86-3b50-44e2-8fee-81fc15a3efd5",
   "metadata": {},
   "outputs": [],
   "source": [
    "# 전체 데이터 예측\n",
    "y_full_pred = rf_model.predict(X_full_scaled)"
   ]
  },
  {
   "cell_type": "code",
   "execution_count": 69,
   "id": "0c496679-781f-447d-a93a-919648bdf20a",
   "metadata": {},
   "outputs": [],
   "source": [
    "# 예측 결과를 원본 데이터에 추가\n",
    "data['예측_열선여부'] = y_full_pred"
   ]
  },
  {
   "cell_type": "code",
   "execution_count": 70,
   "id": "ee603fe1-b539-4104-ba10-fe9e1b1d283e",
   "metadata": {},
   "outputs": [
    {
     "name": "stdout",
     "output_type": "stream",
     "text": [
      "      중앙점_위도      중앙점_경도       경사각  최근접_시설의_평균거리  열선  예측_열선여부\n",
      "0  37.490832  127.080852  0.298094    194.979965   1        1\n",
      "1  37.472200  127.095395  3.326804     90.747029   1        1\n",
      "2  37.514459  127.053083  5.885870    153.931237   1        1\n",
      "3  37.523389  127.047251  3.652877    289.545361   1        1\n",
      "4  37.528873  127.046286  3.251038    291.127352   1        1\n"
     ]
    }
   ],
   "source": [
    "# 예측 결과 출력\n",
    "print(data[['중앙점_위도', '중앙점_경도', '경사각', '최근접_시설의_평균거리', '열선', '예측_열선여부']].head())  # 예시로 상위 5개만 출력"
   ]
  },
  {
   "cell_type": "code",
   "execution_count": 71,
   "id": "05c95357-c77f-48db-84a5-08b0bf7dbd55",
   "metadata": {},
   "outputs": [
    {
     "name": "stdout",
     "output_type": "stream",
     "text": [
      "전체 데이터에 대한 정확도: 0.9540\n"
     ]
    }
   ],
   "source": [
    "# 정확도 평가 (전체 데이터에 대한 예측)\n",
    "accuracy_full = accuracy_score(data['열선'], y_full_pred)\n",
    "print(f\"전체 데이터에 대한 정확도: {accuracy_full:.4f}\")"
   ]
  },
  {
   "cell_type": "code",
   "execution_count": 72,
   "id": "94ef6e29-339e-4aa7-9154-e1d48e800aaf",
   "metadata": {},
   "outputs": [
    {
     "name": "stdout",
     "output_type": "stream",
     "text": [
      "전체 데이터 정밀도: 0.9813333333333333\n",
      "전체 데이터 재현율: 0.7002854424357755\n",
      "전체 데이터 F1-Score: 0.8173237090505275\n"
     ]
    }
   ],
   "source": [
    "# 기타 평가 지표\n",
    "precision_full = precision_score(data['열선'], y_full_pred)\n",
    "recall_full = recall_score(data['열선'], y_full_pred)\n",
    "f1_full = f1_score(data['열선'], y_full_pred)\n",
    "\n",
    "print(f\"전체 데이터 정밀도: {precision_full}\")\n",
    "print(f\"전체 데이터 재현율: {recall_full}\")\n",
    "print(f\"전체 데이터 F1-Score: {f1_full}\")"
   ]
  },
  {
   "cell_type": "code",
   "execution_count": 73,
   "id": "2582919f-07ba-4d2e-bc08-e50328e5b6ff",
   "metadata": {},
   "outputs": [],
   "source": [
    "filter_data = data[data['예측_열선여부'] == 1]"
   ]
  },
  {
   "cell_type": "code",
   "execution_count": 74,
   "id": "b18ee1bb-9e6a-4294-8668-9a743d65c3c6",
   "metadata": {},
   "outputs": [],
   "source": [
    "filter_data_result = filter_data[filter_data['열선'] == 0]"
   ]
  },
  {
   "cell_type": "code",
   "execution_count": 75,
   "id": "556186b2-4a5c-4b36-9fa1-da9a729d310c",
   "metadata": {},
   "outputs": [
    {
     "data": {
      "text/plain": [
       "14"
      ]
     },
     "execution_count": 75,
     "metadata": {},
     "output_type": "execute_result"
    }
   ],
   "source": [
    "len(filter_data_result)"
   ]
  },
  {
   "cell_type": "code",
   "execution_count": 76,
   "id": "9708dfc2-9e22-4a03-98c3-5b255456f4e5",
   "metadata": {},
   "outputs": [
    {
     "data": {
      "text/plain": [
       "Index(['도로명', '열선', '도로 종류', '시작점_위도', '시작점_경도', '종료점_위도', '종료점_경도', '중앙점_위도',\n",
       "       '중앙점_경도', '도로_길이', '도로폭', '도로규모', '행정구역', '고도의_차이', '경사각', '최근접_시설들_거리',\n",
       "       '최근접_시설의_평균거리', '2019_평균_온도', '2020_평균_온도', '2021_평균_온도', '2022_평균_온도',\n",
       "       '2023_평균_온도', '2024_평균_온도', '종합_평균_기온', '행정동', '생활인구', '최근접_시설들_최소거리',\n",
       "       '최근접_시설들_최대거리', '예측_열선여부'],\n",
       "      dtype='object')"
      ]
     },
     "execution_count": 76,
     "metadata": {},
     "output_type": "execute_result"
    }
   ],
   "source": [
    "filter_data_result.columns"
   ]
  },
  {
   "cell_type": "code",
   "execution_count": 77,
   "id": "a1d7fa15-77f8-49e0-90f0-8ed2d2f11e65",
   "metadata": {},
   "outputs": [],
   "source": [
    "filter_data_result.reset_index(drop=True, inplace=True)\n",
    "filter_data_result = filter_data_result.drop_duplicates(subset=['중앙점_위도', '중앙점_경도', '경사각', '최근접_시설의_평균거리', '열선', '예측_열선여부'])\n"
   ]
  },
  {
   "cell_type": "code",
   "execution_count": 78,
   "id": "f5c8e3e5-7c9b-42ba-affc-b0f37894e309",
   "metadata": {},
   "outputs": [
    {
     "data": {
      "text/plain": [
       "9"
      ]
     },
     "execution_count": 78,
     "metadata": {},
     "output_type": "execute_result"
    }
   ],
   "source": [
    "len(filter_data_result)"
   ]
  },
  {
   "cell_type": "code",
   "execution_count": 79,
   "id": "8ad111b2-447e-47d3-b20e-27b9a0aa2351",
   "metadata": {},
   "outputs": [
    {
     "data": {
      "text/html": [
       "<div>\n",
       "<style scoped>\n",
       "    .dataframe tbody tr th:only-of-type {\n",
       "        vertical-align: middle;\n",
       "    }\n",
       "\n",
       "    .dataframe tbody tr th {\n",
       "        vertical-align: top;\n",
       "    }\n",
       "\n",
       "    .dataframe thead th {\n",
       "        text-align: right;\n",
       "    }\n",
       "</style>\n",
       "<table border=\"1\" class=\"dataframe\">\n",
       "  <thead>\n",
       "    <tr style=\"text-align: right;\">\n",
       "      <th></th>\n",
       "      <th>도로명</th>\n",
       "      <th>열선</th>\n",
       "      <th>도로 종류</th>\n",
       "      <th>시작점_위도</th>\n",
       "      <th>시작점_경도</th>\n",
       "      <th>종료점_위도</th>\n",
       "      <th>종료점_경도</th>\n",
       "      <th>중앙점_위도</th>\n",
       "      <th>중앙점_경도</th>\n",
       "      <th>도로_길이</th>\n",
       "      <th>...</th>\n",
       "      <th>2021_평균_온도</th>\n",
       "      <th>2022_평균_온도</th>\n",
       "      <th>2023_평균_온도</th>\n",
       "      <th>2024_평균_온도</th>\n",
       "      <th>종합_평균_기온</th>\n",
       "      <th>행정동</th>\n",
       "      <th>생활인구</th>\n",
       "      <th>최근접_시설들_최소거리</th>\n",
       "      <th>최근접_시설들_최대거리</th>\n",
       "      <th>예측_열선여부</th>\n",
       "    </tr>\n",
       "  </thead>\n",
       "  <tbody>\n",
       "    <tr>\n",
       "      <th>0</th>\n",
       "      <td>자양강변길</td>\n",
       "      <td>0</td>\n",
       "      <td>2</td>\n",
       "      <td>37.530518</td>\n",
       "      <td>127.071356</td>\n",
       "      <td>37.53077</td>\n",
       "      <td>127.071469</td>\n",
       "      <td>37.530644</td>\n",
       "      <td>127.071412</td>\n",
       "      <td>29.767318</td>\n",
       "      <td>...</td>\n",
       "      <td>-2.121901</td>\n",
       "      <td>-0.870905</td>\n",
       "      <td>-6.477825</td>\n",
       "      <td>-2.790352</td>\n",
       "      <td>-0.804596</td>\n",
       "      <td>자양3동</td>\n",
       "      <td>619954.473071</td>\n",
       "      <td>27.208296</td>\n",
       "      <td>319.661529</td>\n",
       "      <td>1</td>\n",
       "    </tr>\n",
       "  </tbody>\n",
       "</table>\n",
       "<p>1 rows × 29 columns</p>\n",
       "</div>"
      ],
      "text/plain": [
       "     도로명  열선  도로 종류     시작점_위도      시작점_경도    종료점_위도      종료점_경도     중앙점_위도  \\\n",
       "0  자양강변길   0      2  37.530518  127.071356  37.53077  127.071469  37.530644   \n",
       "\n",
       "       중앙점_경도      도로_길이  ...  2021_평균_온도  2022_평균_온도 2023_평균_온도  2024_평균_온도  \\\n",
       "0  127.071412  29.767318  ...   -2.121901   -0.870905  -6.477825   -2.790352   \n",
       "\n",
       "   종합_평균_기온   행정동           생활인구  최근접_시설들_최소거리  최근접_시설들_최대거리  예측_열선여부  \n",
       "0 -0.804596  자양3동  619954.473071     27.208296    319.661529        1  \n",
       "\n",
       "[1 rows x 29 columns]"
      ]
     },
     "execution_count": 79,
     "metadata": {},
     "output_type": "execute_result"
    }
   ],
   "source": [
    "filter_data_result = filter_data_result.reset_index(drop = True)\n",
    "filter_data_result.head(1)"
   ]
  },
  {
   "cell_type": "code",
   "execution_count": 80,
   "id": "2bd780b8-4383-4d64-831e-c264737de8bf",
   "metadata": {},
   "outputs": [
    {
     "data": {
      "text/plain": [
       "열선\n",
       "0    9\n",
       "Name: count, dtype: int64"
      ]
     },
     "execution_count": 80,
     "metadata": {},
     "output_type": "execute_result"
    }
   ],
   "source": [
    "filter_data_result['열선'].value_counts()"
   ]
  },
  {
   "cell_type": "code",
   "execution_count": 81,
   "id": "625fb0b3-e352-4ed7-b0bc-33e2e5621c8d",
   "metadata": {},
   "outputs": [
    {
     "data": {
      "text/plain": [
       "행정구역\n",
       "광진구    9\n",
       "Name: count, dtype: int64"
      ]
     },
     "execution_count": 81,
     "metadata": {},
     "output_type": "execute_result"
    }
   ],
   "source": [
    "filter_data_result['행정구역'].value_counts()"
   ]
  },
  {
   "cell_type": "code",
   "execution_count": 82,
   "id": "c9db7a1f-f2fb-4c32-966e-152ef577bfce",
   "metadata": {},
   "outputs": [
    {
     "name": "stdout",
     "output_type": "stream",
     "text": [
      "./make_file/랜덤_포레스트로_분석을_해본_결과.csv 파일 저장 완료\n"
     ]
    }
   ],
   "source": [
    "try :\n",
    "    save_file_url = './make_file/랜덤_포레스트로_분석을_해본_결과.csv'\n",
    "    data.to_csv(save_file_url, encoding=\"UTF-8\", index=False)\n",
    "    print(f\"{save_file_url} 파일 저장 완료\")\n",
    "except OSError as e :\n",
    "    print(e)"
   ]
  },
  {
   "cell_type": "code",
   "execution_count": null,
   "id": "e40a01d4-e02b-45a5-bea0-c41e53dd7d4d",
   "metadata": {},
   "outputs": [],
   "source": []
  },
  {
   "cell_type": "code",
   "execution_count": 83,
   "id": "a44ea102-0b6b-45a1-9cdd-5caba69c8b81",
   "metadata": {},
   "outputs": [
    {
     "name": "stdout",
     "output_type": "stream",
     "text": [
      "./make_file/랜덤_포레스트로_분석을_해본_결과.csv 파일 저장 완료\n"
     ]
    }
   ],
   "source": [
    "try :\n",
    "    filter_data_result_url = './make_file/(최종)_랜덤_포로스트_리스트.csv'\n",
    "    filter_data_result.to_csv(filter_data_result_url, encoding=\"UTF-8\", index=False)\n",
    "    print(f\"{save_file_url} 파일 저장 완료\")\n",
    "except OSError as e :\n",
    "    print(e)"
   ]
  },
  {
   "cell_type": "code",
   "execution_count": null,
   "id": "ef06cbfc-e822-4b81-8a13-7efedfc7af56",
   "metadata": {},
   "outputs": [],
   "source": []
  },
  {
   "cell_type": "code",
   "execution_count": null,
   "id": "0931aba6-a77b-4bb4-a6f8-17ed3e3cd892",
   "metadata": {},
   "outputs": [],
   "source": []
  },
  {
   "cell_type": "code",
   "execution_count": null,
   "id": "d93b3779-6997-46f6-b9ac-e7c89cecf72e",
   "metadata": {},
   "outputs": [],
   "source": []
  }
 ],
 "metadata": {
  "kernelspec": {
   "display_name": "Python 3 (ipykernel)",
   "language": "python",
   "name": "python3"
  },
  "language_info": {
   "codemirror_mode": {
    "name": "ipython",
    "version": 3
   },
   "file_extension": ".py",
   "mimetype": "text/x-python",
   "name": "python",
   "nbconvert_exporter": "python",
   "pygments_lexer": "ipython3",
   "version": "3.13.2"
  }
 },
 "nbformat": 4,
 "nbformat_minor": 5
}
