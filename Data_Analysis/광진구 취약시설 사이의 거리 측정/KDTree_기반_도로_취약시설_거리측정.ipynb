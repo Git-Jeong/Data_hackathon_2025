{
 "cells": [
  {
   "cell_type": "code",
   "execution_count": 125,
   "id": "82189ac9-ad36-4b6d-ba41-0480066750cb",
   "metadata": {},
   "outputs": [],
   "source": [
    "# 조회? 하는 최근접 취약시설의 수\n",
    "n_neighbors = 5"
   ]
  },
  {
   "cell_type": "code",
   "execution_count": 126,
   "id": "3ebb5d7e-78d5-4459-809c-7451359a77f6",
   "metadata": {},
   "outputs": [],
   "source": [
    "# !pip install --break-system-packages scikit-learn\n",
    "# !pip install --break-system-packages math\n",
    "\n",
    "# !pip install pandas\n",
    "# !pip install scikit-learn?\n",
    "# !pip install math"
   ]
  },
  {
   "cell_type": "code",
   "execution_count": 127,
   "id": "8e15f1c8-3bb9-41f2-89d3-c9314e54cc7b",
   "metadata": {},
   "outputs": [],
   "source": [
    "# 필요한 라이브러리 임포트\n",
    "import numpy as np\n",
    "from sklearn.neighbors import KDTree\n",
    "from math import radians, sin, cos, sqrt, atan2\n",
    "import pandas as pd"
   ]
  },
  {
   "cell_type": "markdown",
   "id": "91275b5d-4349-43a0-9557-9121dad2be2e",
   "metadata": {},
   "source": [
    "# 데이터 불러오기"
   ]
  },
  {
   "cell_type": "code",
   "execution_count": 128,
   "id": "3346afe1-64f7-487c-9320-57ee946a4d74",
   "metadata": {},
   "outputs": [],
   "source": [
    "road_url = '../광진구 자동차 도로의 경사도 분석/make_file/(최종)자동차_도로_고도차이(경사각)_포함_데이터.csv'\n",
    "facility_url = '../광진구 취약시설 위치분석/make_file/광진구_모든_시설의_위치.csv'"
   ]
  },
  {
   "cell_type": "code",
   "execution_count": 129,
   "id": "0ed8ab40-4e48-4da2-a5db-80795740436a",
   "metadata": {},
   "outputs": [],
   "source": [
    "facility_data = pd.read_csv(facility_url)\n",
    "road_data = pd.read_csv(road_url, encoding = \"UTF-8\")"
   ]
  },
  {
   "cell_type": "code",
   "execution_count": 130,
   "id": "fa3c7ad0-b682-4eec-bdc9-32d05a3578ec",
   "metadata": {},
   "outputs": [
    {
     "data": {
      "text/plain": [
       "Index(['Unnamed: 0', '시설_구분', '시설_이름', '시설_위치', '위도', '경도'], dtype='object')"
      ]
     },
     "execution_count": 130,
     "metadata": {},
     "output_type": "execute_result"
    }
   ],
   "source": [
    "facility_data.columns"
   ]
  },
  {
   "cell_type": "code",
   "execution_count": 131,
   "id": "ab05c1b1-7fc1-481e-9390-5a75b7dd3c57",
   "metadata": {},
   "outputs": [
    {
     "data": {
      "text/plain": [
       "Index(['도로명', '도로 종류', '시작점_위도', '시작점_경도', '종료점_위도', '종료점_경도', '중앙점_위도',\n",
       "       '중앙점_경도', '시작점_고도', '종료점_고도', '고도의_차이', '경사각', '도로_길이', '터널 여부',\n",
       "       '교량 여부', '서비스 도로 여부', '도로 ID', '속도 제한', '차선 수', '일방통행 여부', '교차로 여부',\n",
       "       '행정동', '주소', '도로명_여부', '행정동_사고_순위'],\n",
       "      dtype='object')"
      ]
     },
     "execution_count": 131,
     "metadata": {},
     "output_type": "execute_result"
    }
   ],
   "source": [
    "road_data.columns"
   ]
  },
  {
   "cell_type": "code",
   "execution_count": 132,
   "id": "e9fd1e28-4f69-48c9-8f92-0be79dfcbecc",
   "metadata": {},
   "outputs": [
    {
     "name": "stdout",
     "output_type": "stream",
     "text": [
      "삭제 완료\n"
     ]
    }
   ],
   "source": [
    "try : \n",
    "    facility_data = facility_data.drop(columns= 'Unnamed: 0')\n",
    "    print(\"삭제 완료\")\n",
    "except KeyError as e :\n",
    "    print(e)"
   ]
  },
  {
   "cell_type": "code",
   "execution_count": 133,
   "id": "5f7429a3-ad28-4bbd-8cf2-02b3b706b6b9",
   "metadata": {},
   "outputs": [
    {
     "name": "stdout",
     "output_type": "stream",
     "text": [
      "\"['Unnamed: 0'] not found in axis\"\n"
     ]
    }
   ],
   "source": [
    "try : \n",
    "    road_data = road_data.drop(columns= 'Unnamed: 0')\n",
    "    print(\"삭제 완료\")\n",
    "except KeyError as e :\n",
    "    print(e)"
   ]
  },
  {
   "cell_type": "code",
   "execution_count": 134,
   "id": "717a15ed-30e5-4000-a03e-c2ddfca89925",
   "metadata": {},
   "outputs": [],
   "source": [
    "# 도로 중앙값 데이터 (위경도)\n",
    "road_lat_list = road_data['중앙점_위도'].to_list()\n",
    "road_lon_list = road_data['중앙점_경도'].to_list()\n",
    "\n",
    "# 취약시설 데이터 (시설명, 위경도) \n",
    "facility_lat_list = facility_data[\"위도\"].to_list()\n",
    "facility_lon_list = facility_data[\"경도\"].to_list()\n"
   ]
  },
  {
   "cell_type": "code",
   "execution_count": 135,
   "id": "abf631a9-0a0c-45ae-9786-cdcd20cd0335",
   "metadata": {},
   "outputs": [
    {
     "name": "stdout",
     "output_type": "stream",
     "text": [
      "road_lat_list 길이 : 6232\n",
      "road_lon_list 길이 : 6232\n",
      "facility_lat_list 길이 : 190\n",
      "facility_lon_list 길이 : 190\n"
     ]
    }
   ],
   "source": [
    "print(f\"road_lat_list 길이 : {len(road_lat_list)}\")\n",
    "print(f\"road_lon_list 길이 : {len(road_lon_list)}\")\n",
    " \n",
    "print(f\"facility_lat_list 길이 : {len(facility_lat_list)}\")\n",
    "print(f\"facility_lon_list 길이 : {len(facility_lon_list)}\")"
   ]
  },
  {
   "cell_type": "code",
   "execution_count": null,
   "id": "7571a5ad-9052-4055-98fb-f3dce893863d",
   "metadata": {},
   "outputs": [],
   "source": []
  },
  {
   "cell_type": "markdown",
   "id": "cac9d91b-db10-4845-a943-d00fd99c14f9",
   "metadata": {},
   "source": [
    "# 거리를 구하기"
   ]
  },
  {
   "cell_type": "code",
   "execution_count": 136,
   "id": "703df7f7-60a9-4531-92d3-80deaf9fa414",
   "metadata": {},
   "outputs": [],
   "source": [
    "def haversine(lat1, lon1, lat2, lon2): \n",
    "    R = 6371  # 지구 반경 (km)\n",
    "    lat1, lon1, lat2, lon2 = map(radians, [lat1, lon1, lat2, lon2])\n",
    "\n",
    "    dlat = lat2 - lat1\n",
    "    dlon = lon2 - lon1\n",
    "    a = sin(dlat / 2)**2 + cos(lat1) * cos(lat2) * sin(dlon / 2)**2\n",
    "    c = 2 * atan2(sqrt(a), sqrt(1 - a))\n",
    "    result = R * c * 1000 \n",
    "    return result # 미터 단위로 반환"
   ]
  },
  {
   "cell_type": "code",
   "execution_count": 137,
   "id": "ad8a8230-2b5e-49b0-a1e4-f8dffbed5a49",
   "metadata": {},
   "outputs": [],
   "source": [
    "def find_nearest_facilities_with_haversine(road_lats, road_lons, facility_lats, facility_lons):\n",
    "    global n_neighbors\n",
    "    # KDTree로 시설 좌표 인덱스를 트리 구조로 저장\n",
    "    facilities = np.array(list(zip(facility_lats, facility_lons)))\n",
    "    tree = KDTree(facilities)\n",
    "\n",
    "    # 각 도로에 대해 최근접 n개의 시설 찾기\n",
    "    distance_matrix = []\n",
    "    avg_distances = []\n",
    "    \n",
    "    for r_lat, r_lon in zip(road_lats, road_lons):\n",
    "        road_coords = np.array([[r_lat, r_lon]])\n",
    "        \n",
    "        # 최근접 n개 시설의 인덱스 및 거리 계산\n",
    "        dist, indices = tree.query(road_coords, k=n_neighbors)\n",
    "        \n",
    "        # 거리 계산하여 2차원 배열에 저장\n",
    "        distances = []\n",
    "        for i in range(n_neighbors):\n",
    "            dist_val = haversine(r_lat, r_lon, facility_lats[indices[0][i]], facility_lons[indices[0][i]])  # Haversine 거리 계산\n",
    "            distances.append(dist_val)\n",
    "        \n",
    "        distance_matrix.append(distances)\n",
    "        \n",
    "        # 평균 거리 계산하여 저장\n",
    "        avg_distance = np.mean(distances)\n",
    "        avg_distances.append(avg_distance)\n",
    "    \n",
    "    return np.array(distance_matrix), np.array(avg_distances)"
   ]
  },
  {
   "cell_type": "code",
   "execution_count": 138,
   "id": "18b212a3-f443-4d7d-988b-f3e88ae33ec6",
   "metadata": {},
   "outputs": [],
   "source": [
    "# 거리 계산\n",
    "distance_matrix, avg_distances = find_nearest_facilities_with_haversine(road_lat_list, road_lon_list, facility_lat_list, facility_lon_list)"
   ]
  },
  {
   "cell_type": "code",
   "execution_count": 139,
   "id": "3874bbe1-10e5-4155-b96b-627da5f4aa81",
   "metadata": {},
   "outputs": [
    {
     "name": "stdout",
     "output_type": "stream",
     "text": [
      "수집한 도로_취약시설 거리의 수 : 6232\n",
      "수집한 도로_취약시설 거리의 평균 수 : 6232\n"
     ]
    }
   ],
   "source": [
    "print(f\"수집한 도로_취약시설 거리의 수 : {len(distance_matrix)}\")\n",
    "print(f\"수집한 도로_취약시설 거리의 평균 수 : {len(avg_distances)}\")"
   ]
  },
  {
   "cell_type": "code",
   "execution_count": 140,
   "id": "e4ce88ea-1ee0-4949-b038-44a818ee50a6",
   "metadata": {},
   "outputs": [
    {
     "name": "stdout",
     "output_type": "stream",
     "text": [
      "[ 60.8654974  108.06692105 198.21191541 401.031276   371.51452989]\n"
     ]
    }
   ],
   "source": [
    "print(distance_matrix[1])"
   ]
  },
  {
   "cell_type": "code",
   "execution_count": 141,
   "id": "477d23a4-7d34-4c61-beea-1000893683c5",
   "metadata": {},
   "outputs": [],
   "source": [
    "distance_matrix = distance_matrix.tolist()"
   ]
  },
  {
   "cell_type": "code",
   "execution_count": 142,
   "id": "1908b7fd-e2fa-4610-9634-530ab53337f0",
   "metadata": {},
   "outputs": [],
   "source": [
    "new_distance_matrix = [\" ,\".join(map(str, row)) for row in distance_matrix]"
   ]
  },
  {
   "cell_type": "code",
   "execution_count": 143,
   "id": "382c11fb-5bca-482f-a71a-1f04c4b36b6b",
   "metadata": {},
   "outputs": [
    {
     "data": {
      "text/plain": [
       "'60.86549740212872 ,108.06692104928125 ,198.21191540529796 ,401.03127600383664 ,371.5145298893788'"
      ]
     },
     "execution_count": 143,
     "metadata": {},
     "output_type": "execute_result"
    }
   ],
   "source": [
    "new_distance_matrix[1]"
   ]
  },
  {
   "cell_type": "code",
   "execution_count": 144,
   "id": "39aebdb2-b208-44a3-9064-0cad24ce1644",
   "metadata": {},
   "outputs": [],
   "source": [
    "road_data['최근접_시설들_거리'] = new_distance_matrix\n",
    "road_data['최근접_시설의_평균거리'] = avg_distances"
   ]
  },
  {
   "cell_type": "code",
   "execution_count": 145,
   "id": "7e995495-570b-4ddd-8cb1-30c410b0b543",
   "metadata": {},
   "outputs": [
    {
     "data": {
      "text/plain": [
       "0       161.263140913842 ,192.74608192097668 ,212.5608...\n",
       "1       60.86549740212872 ,108.06692104928125 ,198.211...\n",
       "2       69.90795389142879 ,87.89510188973378 ,109.7117...\n",
       "3       216.81744340502456 ,249.3057238798358 ,242.224...\n",
       "4       153.50381349797124 ,179.71660579803145 ,217.03...\n",
       "                              ...                        \n",
       "6227    159.26180042239548 ,206.20984030999998 ,305.49...\n",
       "6228    169.207236224192 ,195.0642113493518 ,315.00947...\n",
       "6229    169.207236224192 ,195.0642113493518 ,315.00947...\n",
       "6230    168.63370281079116 ,199.52012628999438 ,344.87...\n",
       "6231    169.4664627806297 ,197.0690412791728 ,315.5459...\n",
       "Name: 최근접_시설들_거리, Length: 6232, dtype: object"
      ]
     },
     "execution_count": 145,
     "metadata": {},
     "output_type": "execute_result"
    }
   ],
   "source": [
    "road_data['최근접_시설들_거리'] "
   ]
  },
  {
   "cell_type": "code",
   "execution_count": 146,
   "id": "23bc6ad8-aa0a-4ec3-b4e0-59d3e9bee409",
   "metadata": {},
   "outputs": [
    {
     "name": "stdout",
     "output_type": "stream",
     "text": [
      "232.97850352393388\n"
     ]
    }
   ],
   "source": [
    "print(road_data['최근접_시설의_평균거리'].mean())"
   ]
  },
  {
   "cell_type": "code",
   "execution_count": 147,
   "id": "97cb133c-b25c-4ac9-bf5b-3021ff07b5c8",
   "metadata": {},
   "outputs": [
    {
     "data": {
      "text/plain": [
       "Index(['도로명', '도로 종류', '시작점_위도', '시작점_경도', '종료점_위도', '종료점_경도', '중앙점_위도',\n",
       "       '중앙점_경도', '시작점_고도', '종료점_고도', '고도의_차이', '경사각', '도로_길이', '터널 여부',\n",
       "       '교량 여부', '서비스 도로 여부', '도로 ID', '속도 제한', '차선 수', '일방통행 여부', '교차로 여부',\n",
       "       '행정동', '주소', '도로명_여부', '행정동_사고_순위', '최근접_시설들_거리', '최근접_시설의_평균거리'],\n",
       "      dtype='object')"
      ]
     },
     "execution_count": 147,
     "metadata": {},
     "output_type": "execute_result"
    }
   ],
   "source": [
    "road_data.columns"
   ]
  },
  {
   "cell_type": "code",
   "execution_count": null,
   "id": "5a929265-aac5-472a-9ab6-9f632ee2d81b",
   "metadata": {},
   "outputs": [],
   "source": []
  },
  {
   "cell_type": "code",
   "execution_count": 148,
   "id": "460c2afe-2b31-481d-b2df-3b31e046425a",
   "metadata": {},
   "outputs": [
    {
     "name": "stdout",
     "output_type": "stream",
     "text": [
      "./make_file/도로_취약시설_거리.csv 파일 저장을 성공했습니다.\n"
     ]
    }
   ],
   "source": [
    "try :\n",
    "    save_file_url = './make_file/도로_취약시설_거리.csv'\n",
    "    save_file_encoding = 'EUC-KR'\n",
    "    road_data.to_csv(save_file_url, encoding=save_file_encoding, index=False)\n",
    "    print(f\"{save_file_url} 파일 저장을 성공했습니다.\")\n",
    "except OSError as e:\n",
    "    print(e)"
   ]
  },
  {
   "cell_type": "code",
   "execution_count": 149,
   "id": "6e723f8f-2016-4d1f-bd03-0a788febde26",
   "metadata": {},
   "outputs": [
    {
     "data": {
      "text/plain": [
       "Index(['도로명', '도로 종류', '시작점_위도', '시작점_경도', '종료점_위도', '종료점_경도', '중앙점_위도',\n",
       "       '중앙점_경도', '시작점_고도', '종료점_고도', '고도의_차이', '경사각', '도로_길이', '터널 여부',\n",
       "       '교량 여부', '서비스 도로 여부', '도로 ID', '속도 제한', '차선 수', '일방통행 여부', '교차로 여부',\n",
       "       '행정동', '주소', '도로명_여부', '행정동_사고_순위', '최근접_시설들_거리', '최근접_시설의_평균거리'],\n",
       "      dtype='object')"
      ]
     },
     "execution_count": 149,
     "metadata": {},
     "output_type": "execute_result"
    }
   ],
   "source": [
    "road_data.columns"
   ]
  },
  {
   "cell_type": "code",
   "execution_count": 150,
   "id": "9996409a-9768-41e6-891f-56d3c70a06f9",
   "metadata": {},
   "outputs": [],
   "source": [
    "new_road_data = road_data[['중앙점_위도', '중앙점_경도', '경사각', '최근접_시설의_평균거리']].copy()"
   ]
  },
  {
   "cell_type": "code",
   "execution_count": 151,
   "id": "3895a6f2-5aa9-42c4-b869-96bfa8c06d06",
   "metadata": {},
   "outputs": [],
   "source": [
    "# '행정동', '주소', '도로명_여부'"
   ]
  },
  {
   "cell_type": "code",
   "execution_count": 152,
   "id": "ba71b7b4-d433-4757-a548-638bba833cb5",
   "metadata": {},
   "outputs": [],
   "source": [
    "temp_1 = road_data['행정동'].to_list()\n",
    "temp_2 = road_data['행정동_사고_순위'].to_list()\n",
    "# temp_3 = road_data['도로수_대비_사고순위'].to_list()\n",
    "temp_4 = road_data['주소'].to_list()\n",
    "temp_5 = road_data['도로명_여부'].to_list()\n",
    "\n",
    "new_road_data.loc[:, '행정동'] = temp_1\n",
    "new_road_data.loc[:, '행정동_사고_순위'] = temp_2\n",
    "# new_road_data.loc[:, '도로수_대비_사고순위'] = temp_3\n",
    "new_road_data.loc[:, '주소'] = temp_4\n",
    "new_road_data.loc[:, '도로명_여부'] = temp_5"
   ]
  },
  {
   "cell_type": "code",
   "execution_count": 153,
   "id": "ef23332c-185e-4ec5-84df-b1e6329f4621",
   "metadata": {},
   "outputs": [],
   "source": [
    "new_road_data = new_road_data.rename(columns={'중앙점_위도': '중점_위도', '중앙점_경도': '중점_경도'})"
   ]
  },
  {
   "cell_type": "code",
   "execution_count": 154,
   "id": "595f7838-3acc-48d1-b01c-42c8aaa9a4f0",
   "metadata": {},
   "outputs": [],
   "source": [
    "new_road_data = new_road_data.copy() \n",
    "new_road_data.loc[:, '열선여부'] = 0\n",
    "new_road_data.loc[:, '원본여부'] = 1"
   ]
  },
  {
   "cell_type": "code",
   "execution_count": 155,
   "id": "c1f5ea38-e2cf-486f-b842-fad98abf2e8d",
   "metadata": {},
   "outputs": [
    {
     "data": {
      "text/html": [
       "<div>\n",
       "<style scoped>\n",
       "    .dataframe tbody tr th:only-of-type {\n",
       "        vertical-align: middle;\n",
       "    }\n",
       "\n",
       "    .dataframe tbody tr th {\n",
       "        vertical-align: top;\n",
       "    }\n",
       "\n",
       "    .dataframe thead th {\n",
       "        text-align: right;\n",
       "    }\n",
       "</style>\n",
       "<table border=\"1\" class=\"dataframe\">\n",
       "  <thead>\n",
       "    <tr style=\"text-align: right;\">\n",
       "      <th></th>\n",
       "      <th>중점_위도</th>\n",
       "      <th>중점_경도</th>\n",
       "      <th>경사각</th>\n",
       "      <th>최근접_시설의_평균거리</th>\n",
       "      <th>행정동</th>\n",
       "      <th>행정동_사고_순위</th>\n",
       "      <th>주소</th>\n",
       "      <th>도로명_여부</th>\n",
       "      <th>열선여부</th>\n",
       "      <th>원본여부</th>\n",
       "    </tr>\n",
       "  </thead>\n",
       "  <tbody>\n",
       "    <tr>\n",
       "      <th>0</th>\n",
       "      <td>37.546128</td>\n",
       "      <td>127.099902</td>\n",
       "      <td>2.487682</td>\n",
       "      <td>223.024085</td>\n",
       "      <td>광장동</td>\n",
       "      <td>6</td>\n",
       "      <td>광장로 11 (광장동)</td>\n",
       "      <td>1</td>\n",
       "      <td>0</td>\n",
       "      <td>1</td>\n",
       "    </tr>\n",
       "    <tr>\n",
       "      <th>1</th>\n",
       "      <td>37.546024</td>\n",
       "      <td>127.097913</td>\n",
       "      <td>5.209767</td>\n",
       "      <td>227.938028</td>\n",
       "      <td>광장동</td>\n",
       "      <td>6</td>\n",
       "      <td>광장동 401-18</td>\n",
       "      <td>0</td>\n",
       "      <td>0</td>\n",
       "      <td>1</td>\n",
       "    </tr>\n",
       "    <tr>\n",
       "      <th>2</th>\n",
       "      <td>37.544745</td>\n",
       "      <td>127.097490</td>\n",
       "      <td>2.883715</td>\n",
       "      <td>242.674837</td>\n",
       "      <td>광장동</td>\n",
       "      <td>6</td>\n",
       "      <td>광장동 414-20</td>\n",
       "      <td>0</td>\n",
       "      <td>0</td>\n",
       "      <td>1</td>\n",
       "    </tr>\n",
       "    <tr>\n",
       "      <th>3</th>\n",
       "      <td>37.533508</td>\n",
       "      <td>127.075772</td>\n",
       "      <td>0.507954</td>\n",
       "      <td>260.282317</td>\n",
       "      <td>자양동</td>\n",
       "      <td>1</td>\n",
       "      <td>자양번영로 43-2 (자양동)</td>\n",
       "      <td>1</td>\n",
       "      <td>0</td>\n",
       "      <td>1</td>\n",
       "    </tr>\n",
       "    <tr>\n",
       "      <th>4</th>\n",
       "      <td>37.532898</td>\n",
       "      <td>127.075599</td>\n",
       "      <td>0.321100</td>\n",
       "      <td>230.108658</td>\n",
       "      <td>자양동</td>\n",
       "      <td>1</td>\n",
       "      <td>자양번영로 43-2 (자양동)</td>\n",
       "      <td>1</td>\n",
       "      <td>0</td>\n",
       "      <td>1</td>\n",
       "    </tr>\n",
       "  </tbody>\n",
       "</table>\n",
       "</div>"
      ],
      "text/plain": [
       "       중점_위도       중점_경도       경사각  최근접_시설의_평균거리  행정동  행정동_사고_순위  \\\n",
       "0  37.546128  127.099902  2.487682    223.024085  광장동          6   \n",
       "1  37.546024  127.097913  5.209767    227.938028  광장동          6   \n",
       "2  37.544745  127.097490  2.883715    242.674837  광장동          6   \n",
       "3  37.533508  127.075772  0.507954    260.282317  자양동          1   \n",
       "4  37.532898  127.075599  0.321100    230.108658  자양동          1   \n",
       "\n",
       "                 주소  도로명_여부  열선여부  원본여부  \n",
       "0      광장로 11 (광장동)       1     0     1  \n",
       "1        광장동 401-18       0     0     1  \n",
       "2        광장동 414-20       0     0     1  \n",
       "3  자양번영로 43-2 (자양동)       1     0     1  \n",
       "4  자양번영로 43-2 (자양동)       1     0     1  "
      ]
     },
     "execution_count": 155,
     "metadata": {},
     "output_type": "execute_result"
    }
   ],
   "source": [
    "new_road_data.head()"
   ]
  },
  {
   "cell_type": "code",
   "execution_count": 156,
   "id": "948df146-7ae5-4492-b6d5-49d43e98eefa",
   "metadata": {},
   "outputs": [
    {
     "name": "stdout",
     "output_type": "stream",
     "text": [
      "./make_file/(최종)광진구_도로_취약시설_거리.csv 파일 저장을 성공했습니다.\n"
     ]
    }
   ],
   "source": [
    "try :\n",
    "    new_save_file_url = './make_file/(최종)광진구_도로_취약시설_거리.csv'\n",
    "    save_file_encoding = 'UTF-8'\n",
    "    new_road_data.to_csv(new_save_file_url, encoding=save_file_encoding, index=False)\n",
    "    print(f\"{new_save_file_url} 파일 저장을 성공했습니다.\")\n",
    "except OSError as e:\n",
    "    print(e)"
   ]
  },
  {
   "cell_type": "code",
   "execution_count": null,
   "id": "9e60daa3-c648-44b0-86d1-fe9ea6ec2a56",
   "metadata": {},
   "outputs": [],
   "source": []
  },
  {
   "cell_type": "code",
   "execution_count": null,
   "id": "021de50c-0db9-46ad-8956-0fe379ca6584",
   "metadata": {},
   "outputs": [],
   "source": []
  },
  {
   "cell_type": "code",
   "execution_count": null,
   "id": "18d00695-e4de-44c5-ac2f-c9d11129209e",
   "metadata": {},
   "outputs": [],
   "source": []
  },
  {
   "cell_type": "code",
   "execution_count": null,
   "id": "e0fe78c9-661a-4670-804f-272396a51a85",
   "metadata": {},
   "outputs": [],
   "source": []
  },
  {
   "cell_type": "code",
   "execution_count": null,
   "id": "d16fb4e7-5299-47a6-936b-0e8ff445d5e5",
   "metadata": {},
   "outputs": [],
   "source": []
  },
  {
   "cell_type": "code",
   "execution_count": null,
   "id": "4e421be7-bba7-4852-be90-e540aff20132",
   "metadata": {},
   "outputs": [],
   "source": []
  },
  {
   "cell_type": "code",
   "execution_count": null,
   "id": "132c99d2-4e12-43ba-9ead-6bbd7995c989",
   "metadata": {},
   "outputs": [],
   "source": []
  },
  {
   "cell_type": "code",
   "execution_count": null,
   "id": "deb0402d-e799-4496-ba3c-1a938b505069",
   "metadata": {},
   "outputs": [],
   "source": []
  }
 ],
 "metadata": {
  "kernelspec": {
   "display_name": "Python 3 (ipykernel)",
   "language": "python",
   "name": "python3"
  },
  "language_info": {
   "codemirror_mode": {
    "name": "ipython",
    "version": 3
   },
   "file_extension": ".py",
   "mimetype": "text/x-python",
   "name": "python",
   "nbconvert_exporter": "python",
   "pygments_lexer": "ipython3",
   "version": "3.13.2"
  }
 },
 "nbformat": 4,
 "nbformat_minor": 5
}
