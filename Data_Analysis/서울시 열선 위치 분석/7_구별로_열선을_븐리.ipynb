{
 "cells": [
  {
   "cell_type": "code",
   "execution_count": 45,
   "id": "2964e033-a4cd-448b-8aa4-8ed530130008",
   "metadata": {},
   "outputs": [],
   "source": [
    "from tqdm import tqdm\n",
    "import pandas as pd\n",
    "import requests"
   ]
  },
  {
   "cell_type": "code",
   "execution_count": 46,
   "id": "1b995d30-9dfa-447e-bdde-30412f931999",
   "metadata": {},
   "outputs": [],
   "source": [
    "url = './make_file/(동)_열선_취약시설_거리.csv'\n",
    "file_encoding = 'EUC-KR'"
   ]
  },
  {
   "cell_type": "code",
   "execution_count": 47,
   "id": "bc09eab8-0d30-4971-94bc-0e39e5948b15",
   "metadata": {},
   "outputs": [],
   "source": [
    "data = pd.read_csv(url, encoding=file_encoding)"
   ]
  },
  {
   "cell_type": "code",
   "execution_count": 48,
   "id": "fb78d51c-aabb-4fd3-aefa-f7aeba72fb85",
   "metadata": {},
   "outputs": [
    {
     "data": {
      "text/plain": [
       "행정동\n",
       "쌍문동    28\n",
       "신당동    20\n",
       "정릉동    19\n",
       "논현동    19\n",
       "상도동    18\n",
       "       ..\n",
       "성산동     1\n",
       "삼전동     1\n",
       "양재동     1\n",
       "대방동     1\n",
       "천호동     1\n",
       "Name: count, Length: 148, dtype: int64"
      ]
     },
     "execution_count": 48,
     "metadata": {},
     "output_type": "execute_result"
    }
   ],
   "source": [
    "data['행정동'].value_counts()"
   ]
  },
  {
   "cell_type": "code",
   "execution_count": 49,
   "id": "c18265bb-7c76-4dab-813a-9724623108a1",
   "metadata": {},
   "outputs": [
    {
     "data": {
      "text/plain": [
       "Index(['중점_위도', '중점_경도', '경사각', '최근접_시설의_평균거리', '시점_위도', '시점_경도', '종점_위도',\n",
       "       '종점_경도', '길이', '열선여부', '행정동', '주소', '도로명_여부'],\n",
       "      dtype='object')"
      ]
     },
     "execution_count": 49,
     "metadata": {},
     "output_type": "execute_result"
    }
   ],
   "source": [
    "data.columns"
   ]
  },
  {
   "cell_type": "code",
   "execution_count": 50,
   "id": "fa84d4fd-ba03-406a-8a6a-2e1215050765",
   "metadata": {},
   "outputs": [],
   "source": [
    "for index, row in data.iterrows(): \n",
    "    if (row['중점_위도'] == 37.4937594751172) and (row['중점_경도'] == 126.948653212882) and pd.isnull(row['행정동']):\n",
    "        data.at[index, '행정동'] = '상도동'\n"
   ]
  },
  {
   "cell_type": "code",
   "execution_count": 51,
   "id": "7a6cdd5b-5c6c-4251-b632-06dbfe6ae2da",
   "metadata": {},
   "outputs": [
    {
     "data": {
      "text/html": [
       "<div>\n",
       "<style scoped>\n",
       "    .dataframe tbody tr th:only-of-type {\n",
       "        vertical-align: middle;\n",
       "    }\n",
       "\n",
       "    .dataframe tbody tr th {\n",
       "        vertical-align: top;\n",
       "    }\n",
       "\n",
       "    .dataframe thead th {\n",
       "        text-align: right;\n",
       "    }\n",
       "</style>\n",
       "<table border=\"1\" class=\"dataframe\">\n",
       "  <thead>\n",
       "    <tr style=\"text-align: right;\">\n",
       "      <th></th>\n",
       "      <th>중점_위도</th>\n",
       "      <th>중점_경도</th>\n",
       "      <th>경사각</th>\n",
       "      <th>최근접_시설의_평균거리</th>\n",
       "      <th>시점_위도</th>\n",
       "      <th>시점_경도</th>\n",
       "      <th>종점_위도</th>\n",
       "      <th>종점_경도</th>\n",
       "      <th>길이</th>\n",
       "      <th>열선여부</th>\n",
       "      <th>행정동</th>\n",
       "      <th>주소</th>\n",
       "      <th>도로명_여부</th>\n",
       "    </tr>\n",
       "  </thead>\n",
       "  <tbody>\n",
       "  </tbody>\n",
       "</table>\n",
       "</div>"
      ],
      "text/plain": [
       "Empty DataFrame\n",
       "Columns: [중점_위도, 중점_경도, 경사각, 최근접_시설의_평균거리, 시점_위도, 시점_경도, 종점_위도, 종점_경도, 길이, 열선여부, 행정동, 주소, 도로명_여부]\n",
       "Index: []"
      ]
     },
     "execution_count": 51,
     "metadata": {},
     "output_type": "execute_result"
    }
   ],
   "source": [
    "data[data['행정동'].isnull()]"
   ]
  },
  {
   "cell_type": "markdown",
   "id": "f33a83b4-3c94-4fd0-b706-3c9e42f175ba",
   "metadata": {},
   "source": [
    "### 카카오"
   ]
  },
  {
   "cell_type": "code",
   "execution_count": 52,
   "id": "86da48b3-941a-473d-9a55-dbf4e296923f",
   "metadata": {},
   "outputs": [
    {
     "name": "stdout",
     "output_type": "stream",
     "text": [
      "사이트\n",
      "공공데이터                     1\n",
      "kakao_api_key_REST        1\n",
      "kakao_api_key_REST_sub    1\n",
      "카카오 JS                    1\n",
      "국토부v-world                1\n",
      "GOOGLE_MAP                1\n",
      "행정안전부                     1\n",
      "Name: count, dtype: int64\n"
     ]
    }
   ],
   "source": [
    "api_key_url = '../API_KEY/API_KEYS.xlsx'\n",
    "open_api_key_file = pd.read_excel(api_key_url)\n",
    " \n",
    "print(open_api_key_file['사이트'].value_counts())\n",
    "\n",
    "KAKAO_API = open_api_key_file[open_api_key_file['사이트'] == 'kakao_api_key_REST_sub'].values[0][1]  "
   ]
  },
  {
   "cell_type": "code",
   "execution_count": 53,
   "id": "676c71a0-d364-4ba9-ba50-3abf9aa00040",
   "metadata": {},
   "outputs": [],
   "source": [
    "def get_gu_from_dong(input_dong_name) :\n",
    "    dong_name = \"서울시 \" +  str(input_dong_name)\n",
    "    url = \"https://dapi.kakao.com/v2/local/search/keyword.json\"\n",
    "    headers = {\"Authorization\": f\"KakaoAK {KAKAO_API}\"}\n",
    "    params = {\"query\": dong_name}\n",
    "    \n",
    "    response = requests.get(url, headers=headers, params=params)\n",
    "    if response.status_code != 200:\n",
    "        raise Exception(f\"API 요청 실패: {response.status_code}, {response.text}\")\n",
    "    \n",
    "    result = response.json()\n",
    "    if not result[\"documents\"]:\n",
    "        raise ValueError(\"검색 결과 없음\")\n",
    "    \n",
    "    first_result = result[\"documents\"][0]\n",
    "    x, y = first_result[\"x\"], first_result[\"y\"]\n",
    "    \n",
    "    # 좌표 -> 행정구역 변환\n",
    "    region_url = \"https://dapi.kakao.com/v2/local/geo/coord2regioncode.json\"\n",
    "    params = {\"x\": x, \"y\": y}\n",
    "    response = requests.get(region_url, headers=headers, params=params)\n",
    "    if response.status_code != 200:\n",
    "        raise Exception(f\"API 요청 실패: {response.status_code}, {response.text}\")\n",
    "    \n",
    "    region_result = response.json()\n",
    "    for region in region_result[\"documents\"]:\n",
    "        if region[\"region_type\"] == \"B\":  # 법정동(B) 대신 행정동(H) 확인 가능\n",
    "            return region[\"region_2depth_name\"]  # 구 정보 반환\n",
    "    \n",
    "    raise ValueError(\"구 정보를 찾을 수 없음\")\n",
    "\n",
    "\n"
   ]
  },
  {
   "cell_type": "code",
   "execution_count": 54,
   "id": "1dda4ea3-881d-4263-bf83-7eb1f50f4b64",
   "metadata": {},
   "outputs": [],
   "source": [
    "temp_dong_list = list(data['행정동'].unique())"
   ]
  },
  {
   "cell_type": "code",
   "execution_count": 55,
   "id": "8947d211-057e-491b-84d6-425911e8ba47",
   "metadata": {},
   "outputs": [
    {
     "name": "stderr",
     "output_type": "stream",
     "text": [
      "100%|█████████████████████████████████████████| 148/148 [00:25<00:00,  5.74it/s]\n"
     ]
    }
   ],
   "source": [
    "dong_gu_dictionary = {}\n",
    "\n",
    "for i in tqdm(range(len(temp_dong_list))) :\n",
    "    dong_name = temp_dong_list[i]\n",
    "    gu_name = get_gu_from_dong(dong_name)\n",
    "    dong_gu_dictionary[dong_name] = gu_name"
   ]
  },
  {
   "cell_type": "code",
   "execution_count": null,
   "id": "7d17dc72-3348-424f-b6bd-09900b12b2dd",
   "metadata": {},
   "outputs": [],
   "source": []
  },
  {
   "cell_type": "code",
   "execution_count": 56,
   "id": "2e493249-8b3d-430e-ba0d-39f39bc6edef",
   "metadata": {},
   "outputs": [],
   "source": [
    "data['행정구역'] = data['행정동']"
   ]
  },
  {
   "cell_type": "code",
   "execution_count": 57,
   "id": "5649b01d-241e-499a-a2a1-55eb19752079",
   "metadata": {},
   "outputs": [],
   "source": [
    "data['행정구역'] = data['행정구역'].map(dong_gu_dictionary)"
   ]
  },
  {
   "cell_type": "code",
   "execution_count": 58,
   "id": "cfe77daf-d1d0-4a4c-859b-cf32792e6492",
   "metadata": {},
   "outputs": [
    {
     "data": {
      "text/plain": [
       "행정구역\n",
       "강남구     59\n",
       "성북구     53\n",
       "성동구     48\n",
       "동작구     45\n",
       "도봉구     36\n",
       "광진구     33\n",
       "중구      31\n",
       "서대문구    26\n",
       "중랑구     26\n",
       "관악구     26\n",
       "마포구     21\n",
       "용산구     20\n",
       "서초구     19\n",
       "양천구     17\n",
       "금천구     15\n",
       "종로구     14\n",
       "강북구     14\n",
       "강서구     13\n",
       "동대문구    13\n",
       "구로구     11\n",
       "영등포구     8\n",
       "노원구      8\n",
       "은평구      6\n",
       "강동구      5\n",
       "송파구      2\n",
       "Name: count, dtype: int64"
      ]
     },
     "execution_count": 58,
     "metadata": {},
     "output_type": "execute_result"
    }
   ],
   "source": [
    "data['행정구역'].value_counts()"
   ]
  },
  {
   "cell_type": "code",
   "execution_count": 59,
   "id": "6999a93e-9702-44d3-bfa4-d40996878f7d",
   "metadata": {},
   "outputs": [
    {
     "data": {
      "text/plain": [
       "569"
      ]
     },
     "execution_count": 59,
     "metadata": {},
     "output_type": "execute_result"
    }
   ],
   "source": [
    "len(data['행정구역'])"
   ]
  },
  {
   "cell_type": "code",
   "execution_count": 60,
   "id": "32958d26-f1fc-41a2-90d4-d7398d5b0867",
   "metadata": {},
   "outputs": [],
   "source": [
    "seoul_districts = [\n",
    "    \"강남구\", \"강동구\", \"강북구\", \"강서구\", \"관악구\", \"광진구\", \"구로구\", \"금천구\", \"노원구\", \"도봉구\",\n",
    "    \"동대문구\", \"동작구\", \"마포구\", \"서대문구\", \"서초구\", \"성동구\", \"성북구\", \"송파구\", \"양천구\",\n",
    "    \"영등포구\", \"용산구\", \"은평구\", \"종로구\", \"중구\", \"중랑구\"\n",
    "]\n"
   ]
  },
  {
   "cell_type": "code",
   "execution_count": 61,
   "id": "ee958791-2bbc-4f06-941f-026d880be724",
   "metadata": {},
   "outputs": [],
   "source": [
    "data = data[data['행정구역'].isin(seoul_districts)]"
   ]
  },
  {
   "cell_type": "code",
   "execution_count": 62,
   "id": "5b0299f8-e8ee-46c2-b2b3-22554be84c1a",
   "metadata": {},
   "outputs": [
    {
     "name": "stderr",
     "output_type": "stream",
     "text": [
      "100%|██████████████████████████████████████| 569/569 [00:00<00:00, 10833.37it/s]\n"
     ]
    }
   ],
   "source": [
    "# 25개 구에 대한 빈 데이터프레임 생성\n",
    "district_dfs = {district: pd.DataFrame(columns=data.columns) for district in seoul_districts}\n",
    "\n",
    "for i in tqdm(range(len(data))):\n",
    "    district = data['행정구역'].iloc[i]\n",
    "    \n",
    "    # district_dfs[district]가 비어 있는 경우 처리\n",
    "    if district not in district_dfs or district_dfs[district].empty:\n",
    "        district_dfs[district] = data.iloc[[i]].copy()  # 기존 DataFrame 복사\n",
    "    else:\n",
    "        district_dfs[district] = pd.concat([district_dfs[district], data.iloc[[i]]], ignore_index=True)"
   ]
  },
  {
   "cell_type": "code",
   "execution_count": null,
   "id": "e227c5f3-acc2-4b0c-baef-a6851072c924",
   "metadata": {},
   "outputs": [],
   "source": []
  },
  {
   "cell_type": "code",
   "execution_count": 64,
   "id": "11cad732-2e8e-46f0-a164-84b40b2691d5",
   "metadata": {},
   "outputs": [
    {
     "name": "stdout",
     "output_type": "stream",
     "text": [
      "./make_file/gu_division/강남구_59_열선_데이터.csv 파일 저장 완료\n",
      "./make_file/gu_division/강동구_5_열선_데이터.csv 파일 저장 완료\n",
      "./make_file/gu_division/강북구_14_열선_데이터.csv 파일 저장 완료\n",
      "./make_file/gu_division/강서구_13_열선_데이터.csv 파일 저장 완료\n",
      "./make_file/gu_division/관악구_26_열선_데이터.csv 파일 저장 완료\n",
      "./make_file/gu_division/광진구_33_열선_데이터.csv 파일 저장 완료\n",
      "./make_file/gu_division/구로구_11_열선_데이터.csv 파일 저장 완료\n",
      "./make_file/gu_division/금천구_15_열선_데이터.csv 파일 저장 완료\n",
      "./make_file/gu_division/노원구_8_열선_데이터.csv 파일 저장 완료\n",
      "./make_file/gu_division/도봉구_36_열선_데이터.csv 파일 저장 완료\n",
      "./make_file/gu_division/동대문구_13_열선_데이터.csv 파일 저장 완료\n",
      "./make_file/gu_division/동작구_45_열선_데이터.csv 파일 저장 완료\n",
      "./make_file/gu_division/마포구_21_열선_데이터.csv 파일 저장 완료\n",
      "./make_file/gu_division/서대문구_26_열선_데이터.csv 파일 저장 완료\n",
      "./make_file/gu_division/서초구_19_열선_데이터.csv 파일 저장 완료\n",
      "./make_file/gu_division/성동구_48_열선_데이터.csv 파일 저장 완료\n",
      "./make_file/gu_division/성북구_53_열선_데이터.csv 파일 저장 완료\n",
      "./make_file/gu_division/송파구_2_열선_데이터.csv 파일 저장 완료\n",
      "./make_file/gu_division/양천구_17_열선_데이터.csv 파일 저장 완료\n",
      "./make_file/gu_division/영등포구_8_열선_데이터.csv 파일 저장 완료\n",
      "./make_file/gu_division/용산구_20_열선_데이터.csv 파일 저장 완료\n",
      "./make_file/gu_division/은평구_6_열선_데이터.csv 파일 저장 완료\n",
      "./make_file/gu_division/종로구_14_열선_데이터.csv 파일 저장 완료\n",
      "./make_file/gu_division/중구_31_열선_데이터.csv 파일 저장 완료\n",
      "./make_file/gu_division/중랑구_26_열선_데이터.csv 파일 저장 완료\n"
     ]
    }
   ],
   "source": [
    "# 각 구별 데이터 저장 \n",
    "for district, df in district_dfs.items():\n",
    "    df['열선의_id'] = range(1, len(df) + 1) \n",
    "    df['찾은_도로의_id'] = \"\"\n",
    "    \n",
    "    df.insert(0, '찾은_도로의_id', df.pop('찾은_도로의_id'))\n",
    "    df.insert(0, '열선의_id', df.pop('열선의_id'))\n",
    "    df = df.reset_index(drop=True) \n",
    "    df.index = df.index + 1\n",
    "    \n",
    "    try :\n",
    "        df_len = len(df)\n",
    "        save_file_url = f\"./make_file/gu_division/{district}_{df_len}_열선_데이터.csv\"\n",
    "        df.to_csv(save_file_url, encoding=\"utf-8\", index=False)\n",
    "        print(f\"{save_file_url} 파일 저장 완료\")\n",
    "    except OSError as e :\n",
    "        print(e)"
   ]
  },
  {
   "cell_type": "code",
   "execution_count": null,
   "id": "71eb2995-b835-4ccd-83b5-16491475e092",
   "metadata": {},
   "outputs": [],
   "source": []
  },
  {
   "cell_type": "code",
   "execution_count": null,
   "id": "71ea0c3a-48a9-45a5-8278-c88930089739",
   "metadata": {},
   "outputs": [],
   "source": []
  },
  {
   "cell_type": "code",
   "execution_count": null,
   "id": "25eb9bc2-c82f-4d50-a1fc-e535b8bccfa3",
   "metadata": {},
   "outputs": [],
   "source": []
  },
  {
   "cell_type": "code",
   "execution_count": null,
   "id": "89cd2111-95a4-49ca-9def-4a89dfbc51c6",
   "metadata": {},
   "outputs": [],
   "source": []
  },
  {
   "cell_type": "code",
   "execution_count": null,
   "id": "aa2ad538-2db9-4068-bf84-1c208e6dac4e",
   "metadata": {},
   "outputs": [],
   "source": []
  }
 ],
 "metadata": {
  "kernelspec": {
   "display_name": "Python 3 (ipykernel)",
   "language": "python",
   "name": "python3"
  },
  "language_info": {
   "codemirror_mode": {
    "name": "ipython",
    "version": 3
   },
   "file_extension": ".py",
   "mimetype": "text/x-python",
   "name": "python",
   "nbconvert_exporter": "python",
   "pygments_lexer": "ipython3",
   "version": "3.13.2"
  }
 },
 "nbformat": 4,
 "nbformat_minor": 5
}
