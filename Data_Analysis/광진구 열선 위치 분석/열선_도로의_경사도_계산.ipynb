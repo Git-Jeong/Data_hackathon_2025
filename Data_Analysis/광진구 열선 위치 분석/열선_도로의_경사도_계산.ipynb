{
 "cells": [
  {
   "cell_type": "code",
   "execution_count": 1,
   "id": "4caa39d0-ef37-4127-a0e5-e78ee38a3bc9",
   "metadata": {},
   "outputs": [],
   "source": [
    "import pandas as pd"
   ]
  },
  {
   "cell_type": "code",
   "execution_count": 2,
   "id": "57e98df3-5914-4c16-955c-a9711cda267a",
   "metadata": {},
   "outputs": [],
   "source": [
    "data_url = './make_file/열선_위경도값(중앙값_고도_포함).csv'"
   ]
  },
  {
   "cell_type": "code",
   "execution_count": 3,
   "id": "7a1cf361-2812-4327-98a7-9a2484520749",
   "metadata": {},
   "outputs": [
    {
     "data": {
      "text/html": [
       "<div>\n",
       "<style scoped>\n",
       "    .dataframe tbody tr th:only-of-type {\n",
       "        vertical-align: middle;\n",
       "    }\n",
       "\n",
       "    .dataframe tbody tr th {\n",
       "        vertical-align: top;\n",
       "    }\n",
       "\n",
       "    .dataframe thead th {\n",
       "        text-align: right;\n",
       "    }\n",
       "</style>\n",
       "<table border=\"1\" class=\"dataframe\">\n",
       "  <thead>\n",
       "    <tr style=\"text-align: right;\">\n",
       "      <th></th>\n",
       "      <th>Unnamed: 0</th>\n",
       "      <th>행정동</th>\n",
       "      <th>노선명</th>\n",
       "      <th>기점</th>\n",
       "      <th>종점</th>\n",
       "      <th>열선연장(m) (1차로 기준)</th>\n",
       "      <th>차로수</th>\n",
       "      <th>기점_좌표_위도</th>\n",
       "      <th>기점_좌표_경도</th>\n",
       "      <th>종점_좌표_위도</th>\n",
       "      <th>종점_좌표_경도</th>\n",
       "      <th>열선_중앙_위도</th>\n",
       "      <th>열선_중앙_경도</th>\n",
       "      <th>시작점_고도</th>\n",
       "      <th>종료점_고도</th>\n",
       "      <th>고도의_차이</th>\n",
       "    </tr>\n",
       "  </thead>\n",
       "  <tbody>\n",
       "    <tr>\n",
       "      <th>0</th>\n",
       "      <td>0</td>\n",
       "      <td>구의2동</td>\n",
       "      <td>동의초 통학로</td>\n",
       "      <td>구의2동 34-8</td>\n",
       "      <td>구의2동 81-3</td>\n",
       "      <td>278</td>\n",
       "      <td>2</td>\n",
       "      <td>37.552512</td>\n",
       "      <td>127.095553</td>\n",
       "      <td>37.553039</td>\n",
       "      <td>127.097008</td>\n",
       "      <td>37.552775</td>\n",
       "      <td>127.09628</td>\n",
       "      <td>49.2244</td>\n",
       "      <td>68.678513</td>\n",
       "      <td>19.454113</td>\n",
       "    </tr>\n",
       "  </tbody>\n",
       "</table>\n",
       "</div>"
      ],
      "text/plain": [
       "   Unnamed: 0   행정동      노선명         기점         종점  열선연장(m) (1차로 기준) 차로수  \\\n",
       "0           0  구의2동  동의초 통학로  구의2동 34-8  구의2동 81-3               278   2   \n",
       "\n",
       "    기점_좌표_위도    기점_좌표_경도   종점_좌표_위도    종점_좌표_경도   열선_중앙_위도   열선_중앙_경도  \\\n",
       "0  37.552512  127.095553  37.553039  127.097008  37.552775  127.09628   \n",
       "\n",
       "    시작점_고도     종료점_고도     고도의_차이  \n",
       "0  49.2244  68.678513  19.454113  "
      ]
     },
     "execution_count": 3,
     "metadata": {},
     "output_type": "execute_result"
    }
   ],
   "source": [
    "data = pd.read_csv(data_url)\n",
    "data.head(1)"
   ]
  },
  {
   "cell_type": "code",
   "execution_count": 4,
   "id": "a65ab9bb-8727-4ab5-b9d0-2487918eaf10",
   "metadata": {},
   "outputs": [
    {
     "data": {
      "text/plain": [
       "Index(['Unnamed: 0', '행정동', '노선명', '기점', '종점', '열선연장(m) (1차로 기준)', '차로수',\n",
       "       '기점_좌표_위도', '기점_좌표_경도', '종점_좌표_위도', '종점_좌표_경도', '열선_중앙_위도', '열선_중앙_경도',\n",
       "       '시작점_고도', '종료점_고도', '고도의_차이'],\n",
       "      dtype='object')"
      ]
     },
     "execution_count": 4,
     "metadata": {},
     "output_type": "execute_result"
    }
   ],
   "source": [
    "data.columns"
   ]
  },
  {
   "cell_type": "code",
   "execution_count": 5,
   "id": "211504c8-54dc-4368-9e2f-7a36a003e81a",
   "metadata": {},
   "outputs": [],
   "source": [
    "# 예제 데이터 (배열)\n",
    "start_lat = data['기점_좌표_위도'].to_list()\n",
    "start_lon = data['기점_좌표_경도'].to_list()\n",
    "end_lat = data['종점_좌표_위도'].to_list()\n",
    "end_lon = data['종점_좌표_경도'].to_list()\n",
    "different_alt = data['고도의_차이'].to_list()"
   ]
  },
  {
   "cell_type": "code",
   "execution_count": 6,
   "id": "4d770079-dbf8-4912-8005-672b0c66b3fa",
   "metadata": {},
   "outputs": [
    {
     "name": "stdout",
     "output_type": "stream",
     "text": [
      "start_lat 길이 : 41\n",
      "start_lon 길이 : 41\n",
      "end_lat 길이 : 41\n",
      "end_lon 길이 : 41\n",
      "different_alt 길이 : 41\n"
     ]
    }
   ],
   "source": [
    "print(f'start_lat 길이 : {len(start_lat)}')\n",
    "print(f'start_lon 길이 : {len(start_lon)}')\n",
    "print(f'end_lat 길이 : {len(end_lat)}')\n",
    "print(f'end_lon 길이 : {len(end_lon)}')\n",
    "print(f'different_alt 길이 : {len(different_alt)}')"
   ]
  },
  {
   "cell_type": "code",
   "execution_count": 7,
   "id": "78501ed8-09d3-4ac1-a965-6df7bc3dc5ab",
   "metadata": {},
   "outputs": [],
   "source": [
    "import math\n",
    "\n",
    "# 지구 반지름 (미터)\n",
    "R = 6371000   "
   ]
  },
  {
   "cell_type": "code",
   "execution_count": 8,
   "id": "e18a28fd-8caa-4232-bf92-4357806bff1f",
   "metadata": {},
   "outputs": [],
   "source": [
    "# 결과 저장 리스트\n",
    "road_slope = []"
   ]
  },
  {
   "cell_type": "code",
   "execution_count": 9,
   "id": "da8ae709-a068-4169-8960-e37c49b1fb37",
   "metadata": {},
   "outputs": [
    {
     "name": "stdout",
     "output_type": "stream",
     "text": [
      "Point 1: d = 141.0682 m, h = 19.4541 m, θ = 7.8519°\n",
      "Point 2: d = 156.2466 m, h = 16.0445 m, θ = 5.8630°\n",
      "Point 3: d = 0.0000 m, h = 0.0000 m, θ = 0.0000°\n",
      "Point 4: d = 69.3193 m, h = 6.8931 m, θ = 5.6788°\n",
      "Point 5: d = 0.0000 m, h = 0.0000 m, θ = 0.0000°\n"
     ]
    }
   ],
   "source": [
    "for i in range(len(start_lat)):\n",
    "    # 위경도를 라디안으로 변환\n",
    "    lat1, lon1, lat2, lon2 = map(math.radians, [start_lat[i], start_lon[i], end_lat[i], end_lon[i]])\n",
    "\n",
    "    # 위도, 경도의 차이\n",
    "    dlat = lat2 - lat1\n",
    "    dlon = lon2 - lon1\n",
    "\n",
    "    # Haversine 공식으로 수평 거리(d) 계산\n",
    "    a = math.sin(dlat/2)**2 + math.cos(lat1) * math.cos(lat2) * math.sin(dlon/2)**2\n",
    "    c = 2 * math.atan2(math.sqrt(a), math.sqrt(1-a))\n",
    "    d = R * c  # 두 지점 간 수평 거리 (m)\n",
    "\n",
    "    # 고도 차이 (h)\n",
    "    h = different_alt[i]  \n",
    "\n",
    "    # 경사각(θ) 계산 (라디안 → 도 변환)\n",
    "    theta = math.degrees(math.atan2(h, d))\n",
    "\n",
    "    # 결과 저장\n",
    "    road_slope.append(theta)\n",
    "\n",
    "    if(i < 5) :\n",
    "        # 디버깅 출력\n",
    "        print(f\"Point {i + 1}: d = {d:.4f} m, h = {h:.4f} m, θ = {theta:.4f}°\")\n"
   ]
  },
  {
   "cell_type": "code",
   "execution_count": 10,
   "id": "8bfa0388-a63e-42e8-9191-d8fe715e740e",
   "metadata": {},
   "outputs": [
    {
     "name": "stdout",
     "output_type": "stream",
     "text": [
      "변환한 road_slope의 길이 : 41\n"
     ]
    }
   ],
   "source": [
    "print(f'변환한 road_slope의 길이 : {len(road_slope)}')"
   ]
  },
  {
   "cell_type": "code",
   "execution_count": 11,
   "id": "0b1b2c38-b6dc-4fdf-922c-4430b05c1961",
   "metadata": {},
   "outputs": [],
   "source": [
    "new_add_df = pd.DataFrame({\n",
    "    '경사각' : road_slope\n",
    "})"
   ]
  },
  {
   "cell_type": "code",
   "execution_count": 12,
   "id": "3d4fdd15-00ac-4d00-9352-9e01401791d1",
   "metadata": {},
   "outputs": [],
   "source": [
    "data['경사각'] = new_add_df"
   ]
  },
  {
   "cell_type": "code",
   "execution_count": 13,
   "id": "751d27d9-b41a-4c55-bf18-70e2fe155207",
   "metadata": {},
   "outputs": [
    {
     "data": {
      "text/plain": [
       "Index(['Unnamed: 0', '행정동', '노선명', '기점', '종점', '열선연장(m) (1차로 기준)', '차로수',\n",
       "       '기점_좌표_위도', '기점_좌표_경도', '종점_좌표_위도', '종점_좌표_경도', '열선_중앙_위도', '열선_중앙_경도',\n",
       "       '시작점_고도', '종료점_고도', '고도의_차이', '경사각'],\n",
       "      dtype='object')"
      ]
     },
     "execution_count": 13,
     "metadata": {},
     "output_type": "execute_result"
    }
   ],
   "source": [
    "data.columns"
   ]
  },
  {
   "cell_type": "code",
   "execution_count": 14,
   "id": "7291163a-dc38-41ec-a754-dfb9266fcf6d",
   "metadata": {},
   "outputs": [],
   "source": [
    "new_order = [\n",
    "    '행정동', '노선명', '기점', '종점', '기점_좌표_위도', '기점_좌표_경도', '종점_좌표_위도', '종점_좌표_경도',\n",
    "    '열선_중앙_위도', '열선_중앙_경도', '시작점_고도', '종료점_고도', '고도의_차이', '경사각'\n",
    "] + [col for col in data.columns if col not in [\n",
    "    '행정동', '노선명', '기점', '종점', '기점_좌표_위도', '기점_좌표_경도', '종점_좌표_위도', '종점_좌표_경도',\n",
    "    '열선_중앙_위도', '열선_중앙_경도', '시작점_고도', '종료점_고도', '고도의_차이', '경사각'\n",
    "]]\n",
    "\n",
    "# 컬럼 순서 재배열\n",
    "data = data[new_order]\n"
   ]
  },
  {
   "cell_type": "code",
   "execution_count": 15,
   "id": "d5b5b978-2001-4123-a19d-3f343b39dcca",
   "metadata": {},
   "outputs": [
    {
     "data": {
      "text/plain": [
       "Index(['행정동', '노선명', '기점', '종점', '기점_좌표_위도', '기점_좌표_경도', '종점_좌표_위도',\n",
       "       '종점_좌표_경도', '열선_중앙_위도', '열선_중앙_경도', '시작점_고도', '종료점_고도', '고도의_차이', '경사각',\n",
       "       'Unnamed: 0', '열선연장(m) (1차로 기준)', '차로수'],\n",
       "      dtype='object')"
      ]
     },
     "execution_count": 15,
     "metadata": {},
     "output_type": "execute_result"
    }
   ],
   "source": [
    "data.columns"
   ]
  },
  {
   "cell_type": "code",
   "execution_count": 16,
   "id": "01e44178-454a-40ff-a6fd-0b4a402f7e90",
   "metadata": {},
   "outputs": [
    {
     "data": {
      "text/plain": [
       "0      7.851888\n",
       "1      5.862993\n",
       "2      0.000000\n",
       "3      5.678818\n",
       "4      0.000000\n",
       "5      0.000000\n",
       "6     10.295554\n",
       "7      9.561299\n",
       "8      9.064065\n",
       "9     10.685221\n",
       "10     8.257422\n",
       "11     7.648155\n",
       "12     8.226913\n",
       "13     8.263302\n",
       "14    14.737624\n",
       "15     7.486803\n",
       "16    15.783514\n",
       "17     0.832585\n",
       "18    11.339577\n",
       "19     2.436242\n",
       "20     5.858782\n",
       "21     0.130472\n",
       "22     0.130472\n",
       "23     0.520453\n",
       "24     1.209439\n",
       "25     1.016910\n",
       "26     2.107477\n",
       "27     0.891187\n",
       "28    20.624165\n",
       "29    10.826622\n",
       "30     0.500065\n",
       "31     1.175963\n",
       "32     9.467428\n",
       "33     5.590429\n",
       "34     1.275380\n",
       "35     2.019389\n",
       "36     0.013194\n",
       "37    10.920562\n",
       "38     4.715757\n",
       "39     0.543819\n",
       "40     1.653873\n",
       "Name: 경사각, dtype: float64"
      ]
     },
     "execution_count": 16,
     "metadata": {},
     "output_type": "execute_result"
    }
   ],
   "source": [
    "data['경사각']"
   ]
  },
  {
   "cell_type": "code",
   "execution_count": 19,
   "id": "d948870b-15bb-4418-9573-cdda1e4edc46",
   "metadata": {},
   "outputs": [
    {
     "name": "stdout",
     "output_type": "stream",
     "text": [
      "파일 저장 완료\n"
     ]
    }
   ],
   "source": [
    "save_data_url = './make_file/열선_위경도값(중앙값_고도_경사각_포함).csv'\n",
    "data.to_csv(save_data_url, encoding='euc-kr')\n",
    "\n",
    "print('파일 저장 완료')"
   ]
  },
  {
   "cell_type": "code",
   "execution_count": null,
   "id": "3b40e333-b469-4726-9629-ce4d6919c587",
   "metadata": {},
   "outputs": [],
   "source": []
  }
 ],
 "metadata": {
  "kernelspec": {
   "display_name": "Python 3 (ipykernel)",
   "language": "python",
   "name": "python3"
  },
  "language_info": {
   "codemirror_mode": {
    "name": "ipython",
    "version": 3
   },
   "file_extension": ".py",
   "mimetype": "text/x-python",
   "name": "python",
   "nbconvert_exporter": "python",
   "pygments_lexer": "ipython3",
   "version": "3.13.2"
  }
 },
 "nbformat": 4,
 "nbformat_minor": 5
}
