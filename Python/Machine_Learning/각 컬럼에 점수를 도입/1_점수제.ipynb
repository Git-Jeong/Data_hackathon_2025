{
 "cells": [
  {
   "cell_type": "code",
   "execution_count": 22,
   "id": "beabaee3-f83d-4692-b0ca-ca6ba26ca71b",
   "metadata": {},
   "outputs": [],
   "source": [
    "import pandas as pd\n",
    "import numpy as np\n",
    "import xgboost as xgb\n",
    "import matplotlib.pyplot as plt\n",
    "import seaborn as sns\n",
    "from sklearn.model_selection import train_test_split \n",
    "from sklearn.metrics import accuracy_score, f1_score, confusion_matrix  \n",
    "from sklearn.preprocessing import LabelEncoder, MinMaxScaler\n",
    "import platform\n",
    "import matplotlib.pyplot as plt\n",
    "import matplotlib as mpl"
   ]
  },
  {
   "cell_type": "code",
   "execution_count": 23,
   "id": "f09a7c10-b556-4927-93a3-b741928ebe3d",
   "metadata": {},
   "outputs": [],
   "source": [
    "# OS에 따라 폰트 설정\n",
    "if platform.system() == \"Darwin\":  # MacOS\n",
    "    mpl.rcParams['font.family'] = 'AppleGothic'\n",
    "elif platform.system() == \"Windows\":  # Windows\n",
    "    mpl.rcParams['font.family'] = 'Malgun Gothic'\n",
    "\n",
    "# 마이너스 기호 깨짐 방지\n",
    "mpl.rcParams['axes.unicode_minus'] = False "
   ]
  },
  {
   "cell_type": "code",
   "execution_count": 24,
   "id": "f85e1741-4d96-4555-87fb-fd57bfb57eba",
   "metadata": {},
   "outputs": [],
   "source": [
    "file_url = \"../data/(최종)_서울열선_광진도로.csv\"\n",
    "file_encoding = \"UTF-8\""
   ]
  },
  {
   "cell_type": "code",
   "execution_count": 25,
   "id": "54d36809-1166-4c29-b13f-8158537ffdc9",
   "metadata": {},
   "outputs": [],
   "source": [
    "df = pd.read_csv(file_url, encoding=file_encoding, low_memory=False)"
   ]
  },
  {
   "cell_type": "code",
   "execution_count": 26,
   "id": "57ab06d4-00ad-49c8-bee3-44b2e3cf9479",
   "metadata": {},
   "outputs": [
    {
     "data": {
      "text/plain": [
       "Index(['도로명', '열선', '도로 종류', '시작점_위도', '시작점_경도', '종료점_위도', '종료점_경도', '중앙점_위도',\n",
       "       '중앙점_경도', '도로_길이', '도로폭', '도로규모', '행정구역', '고도의_차이', '경사각', '최근접_시설들_거리',\n",
       "       '최근접_시설의_평균거리', '2019_평균_온도', '2020_평균_온도', '2021_평균_온도', '2022_평균_온도',\n",
       "       '2023_평균_온도', '2024_평균_온도', '종합_평균_기온', '행정동', '생활인구', '최근접_시설들_최소거리',\n",
       "       '최근접_시설들_최대거리'],\n",
       "      dtype='object')"
      ]
     },
     "execution_count": 26,
     "metadata": {},
     "output_type": "execute_result"
    }
   ],
   "source": [
    "df.columns"
   ]
  },
  {
   "cell_type": "code",
   "execution_count": 27,
   "id": "499eb8d8-acf9-4567-9e91-5fa5c84fd4ae",
   "metadata": {},
   "outputs": [],
   "source": [
    "blackList = ['긴고랑로', '용마산로22길', '아차산로78길', '초원로', '용마산로22길', '용마산로24길', '아차산로78길', '워커힐로',\n",
    "            '긴고랑로46길', '자양강변길', '능동로4길']\n",
    "# '광장로1가', '광장로1가길'"
   ]
  },
  {
   "cell_type": "code",
   "execution_count": 28,
   "id": "6632961b-aca8-4343-b8bd-bdaa4b9d49c7",
   "metadata": {},
   "outputs": [
    {
     "name": "stdout",
     "output_type": "stream",
     "text": [
      "./make_file/점수제_결과.csv 파일 저장 완료.\n"
     ]
    }
   ],
   "source": [
    "data = df.copy()\n",
    "\n",
    "# 사용할 피처 선택\n",
    "features = ['도로 종류', '도로_길이', '도로폭', '도로규모', '경사각', '최근접_시설의_평균거리', '최근접_시설들_최소거리', \n",
    "            '종합_평균_기온', '2019_평균_온도', '2020_평균_온도', '2021_평균_온도', '2022_평균_온도', '2023_평균_온도', '2024_평균_온도', '생활인구']\n",
    "target = '열선'\n",
    "\n",
    "X = data[features]\n",
    "y = data[target]\n",
    "\n",
    "X = X.copy()  # 복사본 생성\n",
    "for col in X.select_dtypes(include=['object']).columns:\n",
    "    X[col] = LabelEncoder().fit_transform(X[col])\n",
    "\n",
    "# 데이터 정규화 (0~1 스케일)\n",
    "scaler = MinMaxScaler()\n",
    "X_scaled = pd.DataFrame(scaler.fit_transform(X), columns=X.columns)\n",
    "\n",
    "# XGBoost 모델 학습\n",
    "X_train, X_test, y_train, y_test = train_test_split(X_scaled, y, test_size=0.2, random_state=42)\n",
    "model = xgb.XGBClassifier(n_estimators=100, learning_rate=0.1, max_depth=5, random_state=42)\n",
    "model.fit(X_train, y_train)\n",
    "\n",
    "# 피처 중요도 가져오기\n",
    "feature_importance = model.feature_importances_\n",
    "weights = feature_importance / feature_importance.sum()  # 가중치 정규화\n",
    "\n",
    "# 점수 계산\n",
    "data[\"설치_점수\"] = np.dot(X_scaled, weights)\n",
    "\n",
    "data = data.drop(index=data[data[\"도로명\"].isin(blackList)].index)\n",
    "\n",
    "# 점수 순 정렬\n",
    "sorted_data = data.sort_values(by=\"설치_점수\", ascending=False)\n",
    "\n",
    "sorted_data = sorted_data.drop(index=sorted_data[sorted_data[\"열선\"] == 1].index)\n",
    "\n",
    "sorted_data = sorted_data.reset_index(drop=True)\n",
    "\n",
    "# print(sorted_data.head())  # 상위 20개 도로 출력\n",
    "\n",
    "try : \n",
    "    save_url = \"./make_file/점수제_결과.csv\"\n",
    "    sorted_data.to_csv(save_url, encoding=file_encoding, index=False)\n",
    "    print(f\"{save_url} 파일 저장 완료.\")\n",
    "except OSError as e :\n",
    "    print(e)"
   ]
  },
  {
   "cell_type": "code",
   "execution_count": null,
   "id": "9f69141c-84ce-4666-be1b-9fb8233c0433",
   "metadata": {},
   "outputs": [],
   "source": []
  },
  {
   "cell_type": "code",
   "execution_count": null,
   "id": "34f23aa8-6565-46e7-883f-7202eca4f01f",
   "metadata": {},
   "outputs": [],
   "source": []
  }
 ],
 "metadata": {
  "kernelspec": {
   "display_name": "Python 3 (ipykernel)",
   "language": "python",
   "name": "python3"
  },
  "language_info": {
   "codemirror_mode": {
    "name": "ipython",
    "version": 3
   },
   "file_extension": ".py",
   "mimetype": "text/x-python",
   "name": "python",
   "nbconvert_exporter": "python",
   "pygments_lexer": "ipython3",
   "version": "3.13.2"
  }
 },
 "nbformat": 4,
 "nbformat_minor": 5
}
