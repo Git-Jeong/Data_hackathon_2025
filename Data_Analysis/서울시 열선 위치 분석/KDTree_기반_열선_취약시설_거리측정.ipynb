{
 "cells": [
  {
   "cell_type": "code",
   "execution_count": 1,
   "id": "aed203bc-02b4-4582-a3df-abecfa2512ac",
   "metadata": {},
   "outputs": [],
   "source": [
    "# 조회? 하는 최근접 취약시설의 수\n",
    "n_neighbors = 5"
   ]
  },
  {
   "cell_type": "code",
   "execution_count": 2,
   "id": "01d8a9e3-c750-4bf2-aeda-cab8b5e73791",
   "metadata": {},
   "outputs": [],
   "source": [
    "# !pip install --break-system-packages scikit-learn\n",
    "# !pip install --break-system-packages math\n",
    "\n",
    "# !pip install scikit-learn\n",
    "# !pip install math\n",
    "# 필요한 라이브러리 임포트"
   ]
  },
  {
   "cell_type": "code",
   "execution_count": 3,
   "id": "5eeec6c8-ff25-4a63-aa09-61dfb7bb9f2f",
   "metadata": {},
   "outputs": [],
   "source": [
    "import numpy as np\n",
    "from sklearn.neighbors import KDTree\n",
    "from math import radians, sin, cos, sqrt, atan2\n",
    "import pandas as pd"
   ]
  },
  {
   "cell_type": "code",
   "execution_count": 4,
   "id": "e4c08a2d-013c-4ea1-848b-4f8d41a127d8",
   "metadata": {},
   "outputs": [],
   "source": [
    "# 데이터 불러오기\n",
    "road_url = './make_file/열선_위경도값(중앙값_열선_경사각_포함).csv'\n",
    "facility_url = '../서울시 취약시설 데이터 수집/make_file/(최종)_서울시_모든_시설의_위치.csv'"
   ]
  },
  {
   "cell_type": "code",
   "execution_count": 5,
   "id": "2e8de621-1d5d-49aa-83db-1bae1b54ee75",
   "metadata": {},
   "outputs": [],
   "source": [
    "facility_data = pd.read_csv(facility_url)\n",
    "road_data = pd.read_csv(road_url, encoding = \"EUC_KR\")"
   ]
  },
  {
   "cell_type": "code",
   "execution_count": 6,
   "id": "88db2d3e-3b2c-49d7-9f32-d0fb5dc9d557",
   "metadata": {},
   "outputs": [
    {
     "data": {
      "text/plain": [
       "Index(['Unnamed: 0', '시설_구분', '시설_이름', '시설_위치', '위도', '경도'], dtype='object')"
      ]
     },
     "execution_count": 6,
     "metadata": {},
     "output_type": "execute_result"
    }
   ],
   "source": [
    "facility_data.columns"
   ]
  },
  {
   "cell_type": "code",
   "execution_count": 7,
   "id": "c974e009-31c2-44ec-88b1-1809ee877457",
   "metadata": {},
   "outputs": [
    {
     "data": {
      "text/plain": [
       "Index(['Unnamed: 0', '시점_위도', '시점_경도', '종점_위도', '종점_경도', '길이', '시작점_고도',\n",
       "       '종료점_고도', '고도의_차이', '경사각', '중점_위도', '중점_경도'],\n",
       "      dtype='object')"
      ]
     },
     "execution_count": 7,
     "metadata": {},
     "output_type": "execute_result"
    }
   ],
   "source": [
    "road_data.columns"
   ]
  },
  {
   "cell_type": "code",
   "execution_count": 8,
   "id": "1a6e8a8d-c44d-4d5b-95f6-0a4b8636f11b",
   "metadata": {},
   "outputs": [],
   "source": [
    "\n",
    "# 도로 중앙값 데이터 (위경도)\n",
    "road_lat_list = road_data['종점_위도'].to_list()\n",
    "road_lon_list = road_data['종점_경도'].to_list()\n",
    "\n",
    "# 취약시설 데이터 (시설명, 위경도) \n",
    "facility_lat_list = facility_data[\"위도\"].to_list()\n",
    "facility_lon_list = facility_data[\"경도\"].to_list()\n"
   ]
  },
  {
   "cell_type": "code",
   "execution_count": 9,
   "id": "9536091d-c99d-4426-a9ac-54da9ff5770d",
   "metadata": {},
   "outputs": [
    {
     "name": "stdout",
     "output_type": "stream",
     "text": [
      "road_lat_list 길이 : 485\n",
      "road_lon_list 길이 : 485\n",
      "facility_lat_list 길이 : 11908\n",
      "facility_lon_list 길이 : 11908\n"
     ]
    }
   ],
   "source": [
    "print(f\"road_lat_list 길이 : {len(road_lat_list)}\")\n",
    "print(f\"road_lon_list 길이 : {len(road_lon_list)}\")\n",
    " \n",
    "print(f\"facility_lat_list 길이 : {len(facility_lat_list)}\")\n",
    "print(f\"facility_lon_list 길이 : {len(facility_lon_list)}\")"
   ]
  },
  {
   "cell_type": "code",
   "execution_count": 10,
   "id": "95a451a6-c8e3-4821-bae1-22b8829dd131",
   "metadata": {},
   "outputs": [],
   "source": [
    "# 거리를 구하기\n",
    "def haversine(lat1, lon1, lat2, lon2): \n",
    "    R = 6371  # 지구 반경 (km)\n",
    "    lat1, lon1, lat2, lon2 = map(radians, [lat1, lon1, lat2, lon2])\n",
    "\n",
    "    dlat = lat2 - lat1\n",
    "    dlon = lon2 - lon1\n",
    "    a = sin(dlat / 2)**2 + cos(lat1) * cos(lat2) * sin(dlon / 2)**2\n",
    "    c = 2 * atan2(sqrt(a), sqrt(1 - a))\n",
    "    result = R * c * 1000 \n",
    "    return result # 미터 단위로 반환"
   ]
  },
  {
   "cell_type": "code",
   "execution_count": 11,
   "id": "63b14e61-5c91-4f32-983b-1c48302b5f87",
   "metadata": {},
   "outputs": [],
   "source": [
    "def find_nearest_facilities_with_haversine(road_lats, road_lons, facility_lats, facility_lons):\n",
    "    global n_neighbors\n",
    "    # KDTree로 시설 좌표 인덱스를 트리 구조로 저장\n",
    "    facilities = np.array(list(zip(facility_lats, facility_lons)))\n",
    "    tree = KDTree(facilities)\n",
    "\n",
    "    # 각 도로에 대해 최근접 n개의 시설 찾기\n",
    "    distance_matrix = []\n",
    "    avg_distances = []\n",
    "    \n",
    "    for r_lat, r_lon in zip(road_lats, road_lons):\n",
    "        road_coords = np.array([[r_lat, r_lon]])\n",
    "        \n",
    "        # 최근접 n개 시설의 인덱스 및 거리 계산\n",
    "        dist, indices = tree.query(road_coords, k=n_neighbors)\n",
    "        \n",
    "        # 거리 계산하여 2차원 배열에 저장\n",
    "        distances = []\n",
    "        for i in range(n_neighbors):\n",
    "            dist_val = haversine(r_lat, r_lon, facility_lats[indices[0][i]], facility_lons[indices[0][i]])  # Haversine 거리 계산\n",
    "            distances.append(dist_val)\n",
    "        \n",
    "        distance_matrix.append(distances)\n",
    "        \n",
    "        # 평균 거리 계산하여 저장\n",
    "        avg_distance = np.mean(distances)\n",
    "        avg_distances.append(avg_distance)\n",
    "    \n",
    "    return np.array(distance_matrix), np.array(avg_distances)"
   ]
  },
  {
   "cell_type": "code",
   "execution_count": 12,
   "id": "ec7b9495-688d-4071-911e-445f59b98590",
   "metadata": {},
   "outputs": [],
   "source": [
    "# 거리 계산\n",
    "distance_matrix, avg_distances = find_nearest_facilities_with_haversine(road_lat_list, road_lon_list, facility_lat_list, facility_lon_list)"
   ]
  },
  {
   "cell_type": "code",
   "execution_count": 13,
   "id": "197c70d6-0cbc-47c5-90d6-a3da9dc4b16f",
   "metadata": {},
   "outputs": [
    {
     "name": "stdout",
     "output_type": "stream",
     "text": [
      "수집한 도로_취약시설 거리의 수 : 485\n",
      "수집한 도로_취약시설 거리의 평균 수 : 485\n"
     ]
    }
   ],
   "source": [
    "print(f\"수집한 도로_취약시설 거리의 수 : {len(distance_matrix)}\")\n",
    "print(f\"수집한 도로_취약시설 거리의 평균 수 : {len(avg_distances)}\")"
   ]
  },
  {
   "cell_type": "code",
   "execution_count": 14,
   "id": "b6887544-075f-4d5c-bb37-66bd16394b18",
   "metadata": {},
   "outputs": [
    {
     "name": "stdout",
     "output_type": "stream",
     "text": [
      "[ 140.32634861  585.94339803  586.37106416  864.16474458 1034.94296514]\n"
     ]
    }
   ],
   "source": [
    "print(distance_matrix[1])"
   ]
  },
  {
   "cell_type": "code",
   "execution_count": 15,
   "id": "80e299bd-1f2d-43f2-8cc3-99fe8fbc84b5",
   "metadata": {},
   "outputs": [],
   "source": [
    "distance_matrix = distance_matrix.tolist()"
   ]
  },
  {
   "cell_type": "code",
   "execution_count": 16,
   "id": "ae6bf529-5bbc-49fe-8aef-c6e696ae782e",
   "metadata": {},
   "outputs": [
    {
     "data": {
      "text/plain": [
       "'140.32634860509523 ,585.9433980328229 ,586.3710641562539 ,864.1647445754376 ,1034.9429651352716'"
      ]
     },
     "execution_count": 16,
     "metadata": {},
     "output_type": "execute_result"
    }
   ],
   "source": [
    "new_distance_matrix = [\" ,\".join(map(str, row)) for row in distance_matrix]\n",
    "new_distance_matrix[1]"
   ]
  },
  {
   "cell_type": "code",
   "execution_count": 17,
   "id": "f1ca5219-74a1-407d-b2c5-3f4ef2d4b27d",
   "metadata": {},
   "outputs": [],
   "source": [
    "road_data['최근접_시설들_거리'] = new_distance_matrix\n",
    "road_data['최근접_시설의_평균거리'] = avg_distances"
   ]
  },
  {
   "cell_type": "code",
   "execution_count": 18,
   "id": "1b7abac8-aded-4e26-8688-564c8cdeab75",
   "metadata": {},
   "outputs": [
    {
     "name": "stdout",
     "output_type": "stream",
     "text": [
      "183.18153034162052\n"
     ]
    }
   ],
   "source": [
    "print(road_data['최근접_시설의_평균거리'].mean())"
   ]
  },
  {
   "cell_type": "code",
   "execution_count": 19,
   "id": "0b8b3718-7f43-41c5-8ec5-e211eb60d375",
   "metadata": {},
   "outputs": [],
   "source": [
    "# road_data['최근접_시설들_거리'] "
   ]
  },
  {
   "cell_type": "code",
   "execution_count": 20,
   "id": "30e87198-09d4-4ada-b45f-7f4ecde74266",
   "metadata": {},
   "outputs": [
    {
     "name": "stdout",
     "output_type": "stream",
     "text": [
      "Unnamed: 0 삭제함.\n"
     ]
    }
   ],
   "source": [
    "try :\n",
    "    road_data = road_data.drop(columns='Unnamed: 0')\n",
    "    print(f\"Unnamed: 0 삭제함.\")\n",
    "except KeyError as e:\n",
    "    print(e)"
   ]
  },
  {
   "cell_type": "code",
   "execution_count": 21,
   "id": "eb27bd58-8889-4ec4-a12c-48dd539a402c",
   "metadata": {},
   "outputs": [
    {
     "data": {
      "text/plain": [
       "Index(['시점_위도', '시점_경도', '종점_위도', '종점_경도', '길이', '시작점_고도', '종료점_고도', '고도의_차이',\n",
       "       '경사각', '중점_위도', '중점_경도', '최근접_시설들_거리', '최근접_시설의_평균거리'],\n",
       "      dtype='object')"
      ]
     },
     "execution_count": 21,
     "metadata": {},
     "output_type": "execute_result"
    }
   ],
   "source": [
    "road_data.columns\n"
   ]
  },
  {
   "cell_type": "code",
   "execution_count": 22,
   "id": "7e1d64a4-31c7-46e6-9f25-590dfefa3119",
   "metadata": {},
   "outputs": [],
   "source": [
    "save_file_url = './make_file/(최종)_열선_취약시설_거리.csv'\n",
    "save_file_encoding = 'EUC-KR'\n",
    "# save_file_encoding = 'UTF-8'"
   ]
  },
  {
   "cell_type": "code",
   "execution_count": 23,
   "id": "6fe5827f-b92d-4e96-baf3-70e736a3b582",
   "metadata": {},
   "outputs": [
    {
     "name": "stdout",
     "output_type": "stream",
     "text": [
      "./make_file/(최종)_열선_취약시설_거리.csv 파일 저장을 성공했습니다.\n"
     ]
    }
   ],
   "source": [
    "try :\n",
    "    road_data.to_csv(save_file_url, encoding=save_file_encoding, index=False)\n",
    "    print(f\"{save_file_url} 파일 저장을 성공했습니다.\")\n",
    "except OSError as e:\n",
    "    print(e)"
   ]
  },
  {
   "cell_type": "code",
   "execution_count": 24,
   "id": "5d49b548-f77f-44ee-b399-e2929b53fbcd",
   "metadata": {},
   "outputs": [
    {
     "data": {
      "text/html": [
       "<div>\n",
       "<style scoped>\n",
       "    .dataframe tbody tr th:only-of-type {\n",
       "        vertical-align: middle;\n",
       "    }\n",
       "\n",
       "    .dataframe tbody tr th {\n",
       "        vertical-align: top;\n",
       "    }\n",
       "\n",
       "    .dataframe thead th {\n",
       "        text-align: right;\n",
       "    }\n",
       "</style>\n",
       "<table border=\"1\" class=\"dataframe\">\n",
       "  <thead>\n",
       "    <tr style=\"text-align: right;\">\n",
       "      <th></th>\n",
       "      <th>시점_위도</th>\n",
       "      <th>시점_경도</th>\n",
       "      <th>종점_위도</th>\n",
       "      <th>종점_경도</th>\n",
       "      <th>길이</th>\n",
       "      <th>시작점_고도</th>\n",
       "      <th>종료점_고도</th>\n",
       "      <th>고도의_차이</th>\n",
       "      <th>경사각</th>\n",
       "      <th>중점_위도</th>\n",
       "      <th>중점_경도</th>\n",
       "      <th>최근접_시설들_거리</th>\n",
       "      <th>최근접_시설의_평균거리</th>\n",
       "    </tr>\n",
       "  </thead>\n",
       "  <tbody>\n",
       "    <tr>\n",
       "      <th>0</th>\n",
       "      <td>37.589926</td>\n",
       "      <td>126.993697</td>\n",
       "      <td>37.591160</td>\n",
       "      <td>126.992929</td>\n",
       "      <td>160</td>\n",
       "      <td>62.080006</td>\n",
       "      <td>93.832680</td>\n",
       "      <td>31.752674</td>\n",
       "      <td>11.724227</td>\n",
       "      <td>37.590543</td>\n",
       "      <td>126.993313</td>\n",
       "      <td>152.84881446864983 ,181.9200545209481 ,262.128...</td>\n",
       "      <td>219.445340</td>\n",
       "    </tr>\n",
       "    <tr>\n",
       "      <th>1</th>\n",
       "      <td>37.611574</td>\n",
       "      <td>126.978609</td>\n",
       "      <td>37.615247</td>\n",
       "      <td>126.976917</td>\n",
       "      <td>150</td>\n",
       "      <td>149.520370</td>\n",
       "      <td>187.892639</td>\n",
       "      <td>38.372269</td>\n",
       "      <td>5.044559</td>\n",
       "      <td>37.613411</td>\n",
       "      <td>126.977763</td>\n",
       "      <td>140.32634860509523 ,585.9433980328229 ,586.371...</td>\n",
       "      <td>642.349704</td>\n",
       "    </tr>\n",
       "    <tr>\n",
       "      <th>2</th>\n",
       "      <td>37.610064</td>\n",
       "      <td>126.975395</td>\n",
       "      <td>37.612667</td>\n",
       "      <td>126.975238</td>\n",
       "      <td>210</td>\n",
       "      <td>118.210579</td>\n",
       "      <td>158.207809</td>\n",
       "      <td>39.997231</td>\n",
       "      <td>7.859327</td>\n",
       "      <td>37.611366</td>\n",
       "      <td>126.975317</td>\n",
       "      <td>229.34052126931942 ,267.88608827310566 ,266.87...</td>\n",
       "      <td>420.360320</td>\n",
       "    </tr>\n",
       "    <tr>\n",
       "      <th>3</th>\n",
       "      <td>37.606240</td>\n",
       "      <td>126.957833</td>\n",
       "      <td>37.604560</td>\n",
       "      <td>126.957061</td>\n",
       "      <td>190</td>\n",
       "      <td>92.292526</td>\n",
       "      <td>127.500053</td>\n",
       "      <td>35.207527</td>\n",
       "      <td>10.043141</td>\n",
       "      <td>37.605400</td>\n",
       "      <td>126.957447</td>\n",
       "      <td>145.39902591309126 ,174.8559555300938 ,174.855...</td>\n",
       "      <td>207.818466</td>\n",
       "    </tr>\n",
       "    <tr>\n",
       "      <th>4</th>\n",
       "      <td>37.583442</td>\n",
       "      <td>126.985409</td>\n",
       "      <td>37.583186</td>\n",
       "      <td>126.988885</td>\n",
       "      <td>355</td>\n",
       "      <td>48.981506</td>\n",
       "      <td>42.394905</td>\n",
       "      <td>6.586601</td>\n",
       "      <td>1.226563</td>\n",
       "      <td>37.583314</td>\n",
       "      <td>126.987147</td>\n",
       "      <td>141.34252205592068 ,141.34252205592068 ,196.29...</td>\n",
       "      <td>250.589899</td>\n",
       "    </tr>\n",
       "    <tr>\n",
       "      <th>...</th>\n",
       "      <td>...</td>\n",
       "      <td>...</td>\n",
       "      <td>...</td>\n",
       "      <td>...</td>\n",
       "      <td>...</td>\n",
       "      <td>...</td>\n",
       "      <td>...</td>\n",
       "      <td>...</td>\n",
       "      <td>...</td>\n",
       "      <td>...</td>\n",
       "      <td>...</td>\n",
       "      <td>...</td>\n",
       "      <td>...</td>\n",
       "    </tr>\n",
       "    <tr>\n",
       "      <th>480</th>\n",
       "      <td>37.474572</td>\n",
       "      <td>126.963120</td>\n",
       "      <td>37.474250</td>\n",
       "      <td>126.961186</td>\n",
       "      <td>20</td>\n",
       "      <td>58.153191</td>\n",
       "      <td>54.468281</td>\n",
       "      <td>3.684910</td>\n",
       "      <td>1.210493</td>\n",
       "      <td>37.474411</td>\n",
       "      <td>126.962153</td>\n",
       "      <td>115.68447472338539 ,137.37240451866106 ,166.25...</td>\n",
       "      <td>191.188786</td>\n",
       "    </tr>\n",
       "    <tr>\n",
       "      <th>481</th>\n",
       "      <td>37.486210</td>\n",
       "      <td>126.957150</td>\n",
       "      <td>37.486370</td>\n",
       "      <td>126.959313</td>\n",
       "      <td>120</td>\n",
       "      <td>49.216015</td>\n",
       "      <td>59.009739</td>\n",
       "      <td>9.793724</td>\n",
       "      <td>2.924716</td>\n",
       "      <td>37.486290</td>\n",
       "      <td>126.958232</td>\n",
       "      <td>38.99147119223848 ,76.31678766060915 ,67.29862...</td>\n",
       "      <td>70.341129</td>\n",
       "    </tr>\n",
       "    <tr>\n",
       "      <th>482</th>\n",
       "      <td>37.474302</td>\n",
       "      <td>126.976014</td>\n",
       "      <td>37.473301</td>\n",
       "      <td>126.973641</td>\n",
       "      <td>85</td>\n",
       "      <td>28.454460</td>\n",
       "      <td>49.099812</td>\n",
       "      <td>20.645351</td>\n",
       "      <td>4.974049</td>\n",
       "      <td>37.473802</td>\n",
       "      <td>126.974827</td>\n",
       "      <td>62.50475809003016 ,158.56044484349556 ,203.242...</td>\n",
       "      <td>191.033581</td>\n",
       "    </tr>\n",
       "    <tr>\n",
       "      <th>483</th>\n",
       "      <td>37.469265</td>\n",
       "      <td>126.965549</td>\n",
       "      <td>37.469517</td>\n",
       "      <td>126.966069</td>\n",
       "      <td>250</td>\n",
       "      <td>88.539551</td>\n",
       "      <td>91.336472</td>\n",
       "      <td>2.796921</td>\n",
       "      <td>2.978165</td>\n",
       "      <td>37.469391</td>\n",
       "      <td>126.965809</td>\n",
       "      <td>184.26448747692467 ,228.4391830090743 ,317.761...</td>\n",
       "      <td>279.631097</td>\n",
       "    </tr>\n",
       "    <tr>\n",
       "      <th>484</th>\n",
       "      <td>37.485136</td>\n",
       "      <td>126.957473</td>\n",
       "      <td>37.483403</td>\n",
       "      <td>126.959657</td>\n",
       "      <td>100</td>\n",
       "      <td>44.022839</td>\n",
       "      <td>73.954422</td>\n",
       "      <td>29.931583</td>\n",
       "      <td>6.268090</td>\n",
       "      <td>37.484270</td>\n",
       "      <td>126.958565</td>\n",
       "      <td>103.05714778777028 ,119.15927696247937 ,128.57...</td>\n",
       "      <td>148.589611</td>\n",
       "    </tr>\n",
       "  </tbody>\n",
       "</table>\n",
       "<p>485 rows × 13 columns</p>\n",
       "</div>"
      ],
      "text/plain": [
       "         시점_위도       시점_경도      종점_위도       종점_경도   길이      시작점_고도  \\\n",
       "0    37.589926  126.993697  37.591160  126.992929  160   62.080006   \n",
       "1    37.611574  126.978609  37.615247  126.976917  150  149.520370   \n",
       "2    37.610064  126.975395  37.612667  126.975238  210  118.210579   \n",
       "3    37.606240  126.957833  37.604560  126.957061  190   92.292526   \n",
       "4    37.583442  126.985409  37.583186  126.988885  355   48.981506   \n",
       "..         ...         ...        ...         ...  ...         ...   \n",
       "480  37.474572  126.963120  37.474250  126.961186   20   58.153191   \n",
       "481  37.486210  126.957150  37.486370  126.959313  120   49.216015   \n",
       "482  37.474302  126.976014  37.473301  126.973641   85   28.454460   \n",
       "483  37.469265  126.965549  37.469517  126.966069  250   88.539551   \n",
       "484  37.485136  126.957473  37.483403  126.959657  100   44.022839   \n",
       "\n",
       "         종료점_고도     고도의_차이        경사각      중점_위도       중점_경도  \\\n",
       "0     93.832680  31.752674  11.724227  37.590543  126.993313   \n",
       "1    187.892639  38.372269   5.044559  37.613411  126.977763   \n",
       "2    158.207809  39.997231   7.859327  37.611366  126.975317   \n",
       "3    127.500053  35.207527  10.043141  37.605400  126.957447   \n",
       "4     42.394905   6.586601   1.226563  37.583314  126.987147   \n",
       "..          ...        ...        ...        ...         ...   \n",
       "480   54.468281   3.684910   1.210493  37.474411  126.962153   \n",
       "481   59.009739   9.793724   2.924716  37.486290  126.958232   \n",
       "482   49.099812  20.645351   4.974049  37.473802  126.974827   \n",
       "483   91.336472   2.796921   2.978165  37.469391  126.965809   \n",
       "484   73.954422  29.931583   6.268090  37.484270  126.958565   \n",
       "\n",
       "                                            최근접_시설들_거리  최근접_시설의_평균거리  \n",
       "0    152.84881446864983 ,181.9200545209481 ,262.128...    219.445340  \n",
       "1    140.32634860509523 ,585.9433980328229 ,586.371...    642.349704  \n",
       "2    229.34052126931942 ,267.88608827310566 ,266.87...    420.360320  \n",
       "3    145.39902591309126 ,174.8559555300938 ,174.855...    207.818466  \n",
       "4    141.34252205592068 ,141.34252205592068 ,196.29...    250.589899  \n",
       "..                                                 ...           ...  \n",
       "480  115.68447472338539 ,137.37240451866106 ,166.25...    191.188786  \n",
       "481  38.99147119223848 ,76.31678766060915 ,67.29862...     70.341129  \n",
       "482  62.50475809003016 ,158.56044484349556 ,203.242...    191.033581  \n",
       "483  184.26448747692467 ,228.4391830090743 ,317.761...    279.631097  \n",
       "484  103.05714778777028 ,119.15927696247937 ,128.57...    148.589611  \n",
       "\n",
       "[485 rows x 13 columns]"
      ]
     },
     "execution_count": 24,
     "metadata": {},
     "output_type": "execute_result"
    }
   ],
   "source": [
    "road_data"
   ]
  },
  {
   "cell_type": "code",
   "execution_count": null,
   "id": "cfacf525-13c4-4e14-8116-4a6574d5a273",
   "metadata": {},
   "outputs": [],
   "source": []
  }
 ],
 "metadata": {
  "kernelspec": {
   "display_name": "Python 3 (ipykernel)",
   "language": "python",
   "name": "python3"
  },
  "language_info": {
   "codemirror_mode": {
    "name": "ipython",
    "version": 3
   },
   "file_extension": ".py",
   "mimetype": "text/x-python",
   "name": "python",
   "nbconvert_exporter": "python",
   "pygments_lexer": "ipython3",
   "version": "3.13.2"
  }
 },
 "nbformat": 4,
 "nbformat_minor": 5
}
