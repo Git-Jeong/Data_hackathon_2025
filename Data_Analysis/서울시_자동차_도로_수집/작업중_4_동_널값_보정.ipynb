{
 "cells": [
  {
   "cell_type": "markdown",
   "id": "719031bc-9cbe-4bfc-95ba-fbee288ca112",
   "metadata": {},
   "source": [
    "#### 입력 : ./make_file/division/second_round/서울시_도로_{숫자}.csv\n",
    "#### 출력 : ./make_file/division/third_round/보정_서울시_도로_{숫자}.csv "
   ]
  },
  {
   "cell_type": "code",
   "execution_count": 283,
   "id": "95da3fa0-996d-4573-bc36-0ceba33635a1",
   "metadata": {},
   "outputs": [],
   "source": [
    "import pandas as pd \n",
    "import requests\n",
    "from tqdm import tqdm \n",
    "import os\n",
    "import time"
   ]
  },
  {
   "cell_type": "code",
   "execution_count": 284,
   "id": "e0638c20-430c-44ff-9faf-f6629150a65d",
   "metadata": {},
   "outputs": [],
   "source": [
    "# 파일이 저장된 폴더 경로\n",
    "folder_path = \"./make_file/division/second_round/\" \n",
    "file_encoding = \"UTF-8\"\n",
    "\n",
    "output_file_url = \"./make_file/division/third_round/보정_서울시_도로\""
   ]
  },
  {
   "cell_type": "code",
   "execution_count": null,
   "id": "8d255cd9-0960-4357-941d-52c05626a33f",
   "metadata": {},
   "outputs": [],
   "source": []
  },
  {
   "cell_type": "code",
   "execution_count": 285,
   "id": "07d9faf3-470c-4ca1-91f4-55659ea20657",
   "metadata": {},
   "outputs": [
    {
     "name": "stdout",
     "output_type": "stream",
     "text": [
      ".DS Store\n"
     ]
    }
   ],
   "source": [
    "# 조건을 만족하는 파일 목록\n",
    "valid_files = [] \n",
    "\n",
    "# api 사용량을 체크하는 변수\n",
    "gukto_bu_api_count = 0 # 국토부 api\n",
    "haengjeong_anjeonbu_api_count = 0 # 행안부 api\n",
    "\n",
    "for temp_file_name in os.listdir(folder_path):\n",
    "    file_name = temp_file_name.replace(\"_\", \" \")\n",
    "    # file_name = temp_file_name\n",
    "    if (\"서울시 도로 \" in file_name and file_name.endswith(\".csv\")) or (\"서울시 도로 \" in file_name and file_name.endswith(\".csv\")):\n",
    "        file_path = os.path.join(folder_path, temp_file_name)  # 안전한 경로 조합\n",
    "\n",
    "        try:\n",
    "            # CSV 파일 전체 읽기\n",
    "            df = pd.read_csv(file_path, encoding=file_encoding, low_memory=False)\n",
    "\n",
    "            # 컬럼명 앞뒤 공백 제거\n",
    "            df.columns = df.columns.str.strip()\n",
    "\n",
    "            # 필요한 컬럼이 존재하는지 확인\n",
    "            if {\"중앙점_위도\", \"중앙점_경도\", \"행정동\"}.issubset(df.columns):\n",
    "                check = file_name.replace(\"서울시 도로 \" , \"\") \n",
    "                temp_check_file_url = output_file_url + \"_\" + check\n",
    "                \n",
    "                output_check = os.path.isfile(temp_check_file_url) \n",
    "                \n",
    "                if output_check is False :\n",
    "                    valid_files.append(file_path)\n",
    "                else :\n",
    "                    print(f\"{temp_check_file_url} 파일이 이미 있습니다.\")\n",
    "        except Exception as e:\n",
    "            print(f\"파일 {file_name} 처리 중 오류 발생: {e}\")\n",
    "    else :\n",
    "        print(file_name)\n",
    "        "
   ]
  },
  {
   "cell_type": "code",
   "execution_count": 286,
   "id": "e6f6f1b0-ba39-4660-ae4f-a8ec16d3e582",
   "metadata": {},
   "outputs": [
    {
     "data": {
      "text/plain": [
       "16"
      ]
     },
     "execution_count": 286,
     "metadata": {},
     "output_type": "execute_result"
    }
   ],
   "source": [
    "len(valid_files) "
   ]
  },
  {
   "cell_type": "markdown",
   "id": "3cd31c96-a99d-4fb4-b5f5-eadba4723cad",
   "metadata": {},
   "source": [
    "### 국토부 api"
   ]
  },
  {
   "cell_type": "code",
   "execution_count": 287,
   "id": "8b0d3f20-37ad-417b-95d0-dfbee6269fda",
   "metadata": {},
   "outputs": [
    {
     "name": "stdout",
     "output_type": "stream",
     "text": [
      "사이트\n",
      "공공데이터                 1\n",
      "kakao_api_key_REST    1\n",
      "카카오 JS                1\n",
      "국토부v-world            1\n",
      "GOOGLE_MAP            1\n",
      "행정안전부                 1\n",
      "Name: count, dtype: int64\n"
     ]
    }
   ],
   "source": [
    "api_key_url = '../API_KEY/API_KEYS.xlsx'\n",
    "open_api_key_file = pd.read_excel(api_key_url)\n",
    " \n",
    "print(open_api_key_file['사이트'].value_counts())\n",
    "\n",
    "get_gov_word_api_key = open_api_key_file[open_api_key_file['사이트'] == '국토부v-world'].values[0][1]  "
   ]
  },
  {
   "cell_type": "code",
   "execution_count": 288,
   "id": "325e10f3-d11b-4584-9b90-ef8a5ff7d084",
   "metadata": {},
   "outputs": [],
   "source": [
    "# 위경도를 입력받아 행정동 정보를 반환하는 함수\n",
    "def gukto_bu_dong_from_coords(latitude, longitude):\n",
    "    global gukto_bu_api_count\n",
    "    \n",
    "    api_key = get_gov_word_api_key\n",
    "    \n",
    "    # 'point' 파라미터로 위경도를 하나의 문자열로 결합 (경도,위도 순으로)\n",
    "    point = f\"{longitude},{latitude}\"\n",
    "    \n",
    "    # API URL에 'point' 파라미터 추가\n",
    "    url = f\"https://api.vworld.kr/req/address?service=address&version=2.0&request=GetAddress&point={point}&crs=EPSG:4326&type=ROAD&key={api_key}\"\n",
    "    \n",
    "    # API 호출\n",
    "    response = requests.get(url)\n",
    "    gukto_bu_api_count += 1\n",
    "    \n",
    "    # 요청이 성공했는지 확인\n",
    "    if response.status_code == 200:\n",
    "        data = response.json()\n",
    "        # print(data)\n",
    "        try:\n",
    "            # 행정동 정보 추출 (응답 형식에 따라 수정 필요)\n",
    "            address = data['response']['result'][0]['structure']['level3']\n",
    "            # print(address)\n",
    "            return address\n",
    "        except (KeyError, IndexError):\n",
    "            return None \n",
    "    else:\n",
    "        return None"
   ]
  },
  {
   "cell_type": "markdown",
   "id": "d1359fc7-07e6-426f-b1d9-f24b8ef77154",
   "metadata": {},
   "source": [
    "### 행안부 api"
   ]
  },
  {
   "cell_type": "code",
   "execution_count": 289,
   "id": "8733ee23-df10-42fc-bd2d-08e42e067dd7",
   "metadata": {},
   "outputs": [],
   "source": [
    "api_key_url = '../API_KEY/API_KEYS.xlsx'\n",
    "open_api_key_file = pd.read_excel(api_key_url)\n",
    " \n",
    "open_api_key_file['사이트'].value_counts()\n",
    "\n",
    "get_gov_api_key = open_api_key_file[open_api_key_file['사이트'] == '행정안전부'].values[0][1]  "
   ]
  },
  {
   "cell_type": "code",
   "execution_count": 290,
   "id": "daff92b5-7758-43ff-81d3-73901a88c0bb",
   "metadata": {},
   "outputs": [],
   "source": [
    "# 변환할 지번 주소 입력 \n",
    "\n",
    "def haengjeong_anjeon_bu_dong_from_address(old_address): \n",
    "    global haengjeong_anjeonbu_api_count\n",
    "    url = f\"https://www.juso.go.kr/addrlink/addrLinkApi.do?confmKey={get_gov_api_key}&keyword={old_address}&resultType=json\"\n",
    "    \n",
    "    # API 요청\n",
    "    response = requests.get(url)\n",
    "    haengjeong_anjeonbu_api_count += 1\n",
    "    \n",
    "    if response.status_code == 200:\n",
    "        data = response.json()\n",
    "        try :\n",
    "            dong_names = {item['emdNm'] for item in data['results']['juso']}\n",
    "            return next(iter(dong_names), None)  # 첫 번째 요소 반환, 없으면 빈 문자열\n",
    "        except :\n",
    "            return None\n",
    "    return None"
   ]
  },
  {
   "cell_type": "code",
   "execution_count": null,
   "id": "0d30a731-bd4e-460f-9bee-63a51c898e9f",
   "metadata": {},
   "outputs": [
    {
     "name": "stdout",
     "output_type": "stream",
     "text": [
      "[ 서울시_도로_11 ] NULL값 : 6854\n"
     ]
    },
    {
     "name": "stderr",
     "output_type": "stream",
     "text": [
      " 31%|███████████                        | 3147/10000 [00:00<00:00, 14104.20it/s]"
     ]
    }
   ],
   "source": [
    "for file_path in valid_files:  \n",
    "    data = pd.read_csv(file_path, encoding=file_encoding, low_memory=False)\n",
    "    \n",
    "    file_path = file_path.replace(\"./make_file/division/second_round/\", \"\")\n",
    "    file_path = file_path.replace(\".csv\", \"\")\n",
    "    print(f\"[ {file_path} ] NULL값 : {data['행정동'].isnull().sum()}\")  \n",
    "\n",
    "    for i in tqdm(range(len(data))): \n",
    "        if pd.isna(data['행정동'][i]):\n",
    "            temp_address = data['도로명'][i]\n",
    "        \n",
    "            # 도로명이 리스트인 경우 첫 번째 값만 추출\n",
    "            if isinstance(temp_address, list):\n",
    "                temp_address = temp_address[0]  # 리스트일 경우 첫 번째 값만 가져옴\n",
    "            elif isinstance(temp_address, str): \n",
    "                pass\n",
    "            else:\n",
    "                # 리스트도 아니고 문자열도 아닌 경우\n",
    "                temp_address = str(temp_address)  # 해당 값을 문자열로 처리\n",
    "        \n",
    "            # 앞뒤 공백 제거 후 띄어쓰기를 기준으로 앞부분만 저장\n",
    "            data.loc[i, '도로명'] = temp_address.strip().split()[0] \n",
    "\n",
    "            data.loc[i, '도로명'] = data.loc[i, '도로명'].replace(\"[\\'\", \"\")\n",
    "            data.loc[i, '도로명'] = data.loc[i, '도로명'].replace(\"['\", \"\")\n",
    "            \n",
    "            data.loc[i, '도로명'] = data.loc[i, '도로명'].replace(\"\\'\", \"\")\n",
    "            data.loc[i, '도로명'] = data.loc[i, '도로명'].replace(\"'\", \"\")\n",
    "            \n",
    "            data.loc[i, '도로명'] = data.loc[i, '도로명'].replace(\",\", \"\")\n",
    "            data.loc[i, '도로명'] = data.loc[i, '도로명'].replace(\",\", \"\") \n",
    "            \n",
    "            \n",
    "            if data.loc[i, '도로명'] ==\"['천중로27길\\',\" : \n",
    "                data.loc[i, '도로명'] = \"천중로27길\"\n",
    "            elif \"[\\'\" in data.loc[i, '도로명'] : \n",
    "                print(\"dd\")\n",
    "                \n",
    "            search_lat = data['중앙점_위도'][i]\n",
    "            search_lot = data['중앙점_경도'][i]\n",
    "            result_gukto_bu = gukto_bu_dong_from_coords(search_lat, search_lot)\n",
    "\n",
    "            if result_gukto_bu is not None :\n",
    "                data.loc[i, '행정동'] = result_gukto_bu \n",
    "                \n",
    "            elif result_gukto_bu is None :\n",
    "                search_address = data[\"도로명\"][i]\n",
    "                \n",
    "                result = haengjeong_anjeon_bu_dong_from_address(search_address) \n",
    "                \n",
    "                if result is None:\n",
    "                    print(f\"err : {search_address}\")\n",
    "                else: \n",
    "                    data.loc[i, '행정동'] = result \n",
    "                \n",
    "\n",
    "    # 보정을 했는데도 null이면 삭제\n",
    "    data = data.dropna(subset=['행정동'])\n",
    "\n",
    "    print(f\"데이터 길이 : {len(data)}\", end=\"\\n\\n\")\n",
    "    try :\n",
    "        temp_out_url = file_path.replace(\"./make_file/division/second_round/서울시_도로_\" , \"\")  \n",
    "        save_file_url = output_file_url + \"_\" + temp_out_url \n",
    "        # data.to_csv(save_file_url, index=False)\n",
    "        print(f\"{save_file_url} 파일 저장 완료.\", end =\"\\n\\n\")\n",
    "    except OSError as e :\n",
    "        print(e)"
   ]
  },
  {
   "cell_type": "code",
   "execution_count": null,
   "id": "b77a3ab4-1685-459e-9d33-44a7b88472a1",
   "metadata": {},
   "outputs": [],
   "source": [
    "print(f\"행안부 api 사용량 : {haengjeong_anjeonbu_api_count}\")\n",
    "print(f\"국토부 api 사용량 : {gukto_bu_api_count}\")"
   ]
  },
  {
   "cell_type": "code",
   "execution_count": null,
   "id": "e935e082-704f-45ae-80c7-693eb82dd46b",
   "metadata": {},
   "outputs": [],
   "source": []
  },
  {
   "cell_type": "code",
   "execution_count": null,
   "id": "81e94de7-923f-4ed3-9628-e5251fd286c9",
   "metadata": {},
   "outputs": [],
   "source": []
  }
 ],
 "metadata": {
  "kernelspec": {
   "display_name": "Python 3 (ipykernel)",
   "language": "python",
   "name": "python3"
  },
  "language_info": {
   "codemirror_mode": {
    "name": "ipython",
    "version": 3
   },
   "file_extension": ".py",
   "mimetype": "text/x-python",
   "name": "python",
   "nbconvert_exporter": "python",
   "pygments_lexer": "ipython3",
   "version": "3.13.2"
  }
 },
 "nbformat": 4,
 "nbformat_minor": 5
}
