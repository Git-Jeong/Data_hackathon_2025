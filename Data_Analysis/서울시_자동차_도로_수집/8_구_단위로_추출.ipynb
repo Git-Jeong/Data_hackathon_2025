{
 "cells": [
  {
   "cell_type": "code",
   "execution_count": null,
   "id": "b2f87324-160e-4c55-bce7-470188f2e684",
   "metadata": {},
   "outputs": [],
   "source": []
  },
  {
   "cell_type": "code",
   "execution_count": 99,
   "id": "b4fb34c1-0cba-4499-918e-9b9bdc0801c2",
   "metadata": {},
   "outputs": [],
   "source": [
    "import pandas as pd\n",
    "from tqdm import tqdm\n",
    "import requests"
   ]
  },
  {
   "cell_type": "code",
   "execution_count": 100,
   "id": "356547da-2ad1-4e03-852f-f7e7ce39d2a8",
   "metadata": {},
   "outputs": [],
   "source": [
    "file_url = \"./make_file/(도로폭)_서울시_도로_목록.csv\"\n",
    "file_encofing = \"UTF-8\""
   ]
  },
  {
   "cell_type": "code",
   "execution_count": 101,
   "id": "55f1be8e-f7d0-4de5-ba9d-e343b46a7842",
   "metadata": {},
   "outputs": [],
   "source": [
    "data = pd.read_csv(file_url, encoding=file_encofing, low_memory=False)"
   ]
  },
  {
   "cell_type": "code",
   "execution_count": 102,
   "id": "1df918e7-20eb-4a40-af65-4c09c97fe87d",
   "metadata": {},
   "outputs": [
    {
     "data": {
      "text/plain": [
       "Index(['도로명', '열선', '도로 종류', '시작점_위도', '시작점_경도', '종료점_위도', '종료점_경도', '중앙점_위도',\n",
       "       '중앙점_경도', '도로_길이', '행정동', '도로폭', '도로규모'],\n",
       "      dtype='object')"
      ]
     },
     "execution_count": 102,
     "metadata": {},
     "output_type": "execute_result"
    }
   ],
   "source": [
    "data.columns"
   ]
  },
  {
   "cell_type": "markdown",
   "id": "2f40590a-f577-4299-8124-4041003d8a0e",
   "metadata": {},
   "source": [
    "#### kakao api"
   ]
  },
  {
   "cell_type": "code",
   "execution_count": 103,
   "id": "1808bbb8-d2c1-471e-a292-f4b5d26a5e42",
   "metadata": {},
   "outputs": [
    {
     "name": "stdout",
     "output_type": "stream",
     "text": [
      "사이트\n",
      "공공데이터                     1\n",
      "kakao_api_key_REST        1\n",
      "kakao_api_key_REST_sub    1\n",
      "카카오 JS                    1\n",
      "국토부v-world                1\n",
      "GOOGLE_MAP                1\n",
      "행정안전부                     1\n",
      "Name: count, dtype: int64\n"
     ]
    }
   ],
   "source": [
    "api_key_url = '../API_KEY/API_KEYS.xlsx'\n",
    "open_api_key_file = pd.read_excel(api_key_url)\n",
    " \n",
    "print(open_api_key_file['사이트'].value_counts())\n",
    "\n",
    "KAKAO_API = open_api_key_file[open_api_key_file['사이트'] == 'kakao_api_key_REST_sub'].values[0][1]  "
   ]
  },
  {
   "cell_type": "code",
   "execution_count": 104,
   "id": "06ec3192-eef3-4b34-ad32-1d4d01f71eec",
   "metadata": {},
   "outputs": [],
   "source": [
    "def get_gu_from_dong(input_dong_name) :\n",
    "    dong_name = \"서울시 \" + input_dong_name\n",
    "    url = \"https://dapi.kakao.com/v2/local/search/keyword.json\"\n",
    "    headers = {\"Authorization\": f\"KakaoAK {KAKAO_API}\"}\n",
    "    params = {\"query\": dong_name}\n",
    "    \n",
    "    response = requests.get(url, headers=headers, params=params)\n",
    "    if response.status_code != 200:\n",
    "        raise Exception(f\"API 요청 실패: {response.status_code}, {response.text}\")\n",
    "    \n",
    "    result = response.json()\n",
    "    if not result[\"documents\"]:\n",
    "        raise ValueError(\"검색 결과 없음\")\n",
    "    \n",
    "    first_result = result[\"documents\"][0]\n",
    "    x, y = first_result[\"x\"], first_result[\"y\"]\n",
    "    \n",
    "    # 좌표 -> 행정구역 변환\n",
    "    region_url = \"https://dapi.kakao.com/v2/local/geo/coord2regioncode.json\"\n",
    "    params = {\"x\": x, \"y\": y}\n",
    "    response = requests.get(region_url, headers=headers, params=params)\n",
    "    if response.status_code != 200:\n",
    "        raise Exception(f\"API 요청 실패: {response.status_code}, {response.text}\")\n",
    "    \n",
    "    region_result = response.json()\n",
    "    for region in region_result[\"documents\"]:\n",
    "        if region[\"region_type\"] == \"B\":  # 법정동(B) 대신 행정동(H) 확인 가능\n",
    "            return region[\"region_2depth_name\"]  # 구 정보 반환\n",
    "    \n",
    "    raise ValueError(\"구 정보를 찾을 수 없음\")\n",
    "\n",
    "\n"
   ]
  },
  {
   "cell_type": "code",
   "execution_count": 123,
   "id": "182aa35f-78a4-4f6c-84c0-4f26327a2e3a",
   "metadata": {},
   "outputs": [],
   "source": [
    "temp_dong_list = list(data['행정동'].unique())"
   ]
  },
  {
   "cell_type": "code",
   "execution_count": 106,
   "id": "62684f34-81b1-49b0-8000-531e1c64ac94",
   "metadata": {},
   "outputs": [
    {
     "name": "stderr",
     "output_type": "stream",
     "text": [
      "100%|█████████████████████████████████████████| 463/463 [01:26<00:00,  5.35it/s]\n"
     ]
    }
   ],
   "source": [
    "dong_gu_dictionary = {}\n",
    "\n",
    "for i in tqdm(range(len(temp_dong_list))) :\n",
    "    dong_name = temp_dong_list[i]\n",
    "    gu_name = get_gu_from_dong(dong_name)\n",
    "    dong_gu_dictionary[dong_name] = gu_name"
   ]
  },
  {
   "cell_type": "code",
   "execution_count": 107,
   "id": "1f27af3e-b7af-4de5-977e-10ff9fa75650",
   "metadata": {},
   "outputs": [],
   "source": [
    "data['행정구역'] = data['행정동']"
   ]
  },
  {
   "cell_type": "code",
   "execution_count": 108,
   "id": "124e28c8-1efd-41c8-9667-49627b4e64c8",
   "metadata": {},
   "outputs": [],
   "source": [
    "data['행정구역'] = data['행정구역'].map(dong_gu_dictionary)"
   ]
  },
  {
   "cell_type": "code",
   "execution_count": 109,
   "id": "21ec6f3e-2e32-4edc-a60a-4d0a8ceb1d1c",
   "metadata": {},
   "outputs": [
    {
     "data": {
      "text/plain": [
       "행정구역\n",
       "강북구        11411\n",
       "성북구        10640\n",
       "은평구         9056\n",
       "동대문구        8515\n",
       "강남구         8337\n",
       "서대문구        8276\n",
       "강동구         7818\n",
       "송파구         7704\n",
       "서초구         7100\n",
       "중랑구         6843\n",
       "강서구         6496\n",
       "광진구         6223\n",
       "용산구         5996\n",
       "노원구         5949\n",
       "구로구         5876\n",
       "도봉구         5746\n",
       "성동구         5362\n",
       "영등포구        5233\n",
       "마포구         5104\n",
       "관악구         5063\n",
       "종로구         4525\n",
       "양천구         4164\n",
       "중구          4121\n",
       "금천구         3498\n",
       "동작구         2288\n",
       "안양시 만안구        5\n",
       "하남시            4\n",
       "광명시            4\n",
       "성남시 수정구        3\n",
       "고양시 덕양구        1\n",
       "의정부시           1\n",
       "Name: count, dtype: int64"
      ]
     },
     "execution_count": 109,
     "metadata": {},
     "output_type": "execute_result"
    }
   ],
   "source": [
    "data['행정구역'].value_counts()"
   ]
  },
  {
   "cell_type": "code",
   "execution_count": 110,
   "id": "b96f3ab7-a08c-4e44-915b-edc5d0911a00",
   "metadata": {},
   "outputs": [],
   "source": [
    "seoul_districts = [\n",
    "    \"강남구\", \"강동구\", \"강북구\", \"강서구\", \"관악구\", \"광진구\", \"구로구\", \"금천구\", \"노원구\", \"도봉구\",\n",
    "    \"동대문구\", \"동작구\", \"마포구\", \"서대문구\", \"서초구\", \"성동구\", \"성북구\", \"송파구\", \"양천구\",\n",
    "    \"영등포구\", \"용산구\", \"은평구\", \"종로구\", \"중구\", \"중랑구\"\n",
    "]\n"
   ]
  },
  {
   "cell_type": "code",
   "execution_count": 111,
   "id": "8d8f3c9e-35ab-43a7-a1f6-227e61ffc457",
   "metadata": {},
   "outputs": [
    {
     "data": {
      "text/plain": [
       "행정구역\n",
       "강북구     11411\n",
       "성북구     10640\n",
       "은평구      9056\n",
       "동대문구     8515\n",
       "강남구      8337\n",
       "서대문구     8276\n",
       "강동구      7818\n",
       "송파구      7704\n",
       "서초구      7100\n",
       "중랑구      6843\n",
       "강서구      6496\n",
       "광진구      6223\n",
       "용산구      5996\n",
       "노원구      5949\n",
       "구로구      5876\n",
       "도봉구      5746\n",
       "성동구      5362\n",
       "영등포구     5233\n",
       "마포구      5104\n",
       "관악구      5063\n",
       "종로구      4525\n",
       "양천구      4164\n",
       "중구       4121\n",
       "금천구      3498\n",
       "동작구      2288\n",
       "Name: count, dtype: int64"
      ]
     },
     "execution_count": 111,
     "metadata": {},
     "output_type": "execute_result"
    }
   ],
   "source": [
    "data = data[data['행정구역'].isin(seoul_districts)]\n",
    "data['행정구역'].value_counts()"
   ]
  },
  {
   "cell_type": "code",
   "execution_count": 119,
   "id": "c08c0139-c587-4595-be5f-15d0dd535266",
   "metadata": {},
   "outputs": [],
   "source": [
    "# 25개 구에 대한 빈 데이터프레임 생성\n",
    "district_dfs = {district: pd.DataFrame(columns=data.columns) for district in seoul_districts}\n"
   ]
  },
  {
   "cell_type": "code",
   "execution_count": 120,
   "id": "3fcfdba9-ea92-4aca-af32-412a5f82ad11",
   "metadata": {},
   "outputs": [
    {
     "name": "stderr",
     "output_type": "stream",
     "text": [
      "100%|█████████████████████████████████| 161344/161344 [01:13<00:00, 2203.00it/s]\n"
     ]
    }
   ],
   "source": [
    "\n",
    "for i in tqdm(range(len(data))):\n",
    "    district = data['행정구역'].iloc[i]\n",
    "    \n",
    "    # district_dfs[district]가 비어 있는 경우 처리\n",
    "    if district not in district_dfs or district_dfs[district].empty:\n",
    "        district_dfs[district] = data.iloc[[i]].copy()  # 기존 DataFrame 복사\n",
    "        district_dfs[district]['id'] = 1  # id 컬럼 추가, 첫 번째 행의 id는 1\n",
    "    else:\n",
    "        district_dfs[district] = pd.concat([district_dfs[district], data.iloc[[i]]], ignore_index=True)\n",
    "        district_dfs[district]['id'] = range(1, len(district_dfs[district]) + 1)  # id 컬럼에 1부터 증가하는 값 할당\n",
    "\n",
    "    # id 컬럼을 첫 번째 열로 이동\n",
    "    cols = ['id'] + [col for col in district_dfs[district].columns if col != 'id']\n",
    "    district_dfs[district] = district_dfs[district][cols]\n"
   ]
  },
  {
   "cell_type": "code",
   "execution_count": null,
   "id": "ff487465-8166-4d38-bca9-b723d76553b4",
   "metadata": {},
   "outputs": [],
   "source": []
  },
  {
   "cell_type": "code",
   "execution_count": 121,
   "id": "52646788-6b42-453d-9fbd-dd411020c223",
   "metadata": {},
   "outputs": [
    {
     "name": "stdout",
     "output_type": "stream",
     "text": [
      "./make_file/gu_division/강남구_8337_도로_데이터.csv 파일 저장 완료\n",
      "./make_file/gu_division/강동구_7818_도로_데이터.csv 파일 저장 완료\n",
      "./make_file/gu_division/강북구_11411_도로_데이터.csv 파일 저장 완료\n",
      "./make_file/gu_division/강서구_6496_도로_데이터.csv 파일 저장 완료\n",
      "./make_file/gu_division/관악구_5063_도로_데이터.csv 파일 저장 완료\n",
      "./make_file/gu_division/광진구_6223_도로_데이터.csv 파일 저장 완료\n",
      "./make_file/gu_division/구로구_5876_도로_데이터.csv 파일 저장 완료\n",
      "./make_file/gu_division/금천구_3498_도로_데이터.csv 파일 저장 완료\n",
      "./make_file/gu_division/노원구_5949_도로_데이터.csv 파일 저장 완료\n",
      "./make_file/gu_division/도봉구_5746_도로_데이터.csv 파일 저장 완료\n",
      "./make_file/gu_division/동대문구_8515_도로_데이터.csv 파일 저장 완료\n",
      "./make_file/gu_division/동작구_2288_도로_데이터.csv 파일 저장 완료\n",
      "./make_file/gu_division/마포구_5104_도로_데이터.csv 파일 저장 완료\n",
      "./make_file/gu_division/서대문구_8276_도로_데이터.csv 파일 저장 완료\n",
      "./make_file/gu_division/서초구_7100_도로_데이터.csv 파일 저장 완료\n",
      "./make_file/gu_division/성동구_5362_도로_데이터.csv 파일 저장 완료\n",
      "./make_file/gu_division/성북구_10640_도로_데이터.csv 파일 저장 완료\n",
      "./make_file/gu_division/송파구_7704_도로_데이터.csv 파일 저장 완료\n",
      "./make_file/gu_division/양천구_4164_도로_데이터.csv 파일 저장 완료\n",
      "./make_file/gu_division/영등포구_5233_도로_데이터.csv 파일 저장 완료\n",
      "./make_file/gu_division/용산구_5996_도로_데이터.csv 파일 저장 완료\n",
      "./make_file/gu_division/은평구_9056_도로_데이터.csv 파일 저장 완료\n",
      "./make_file/gu_division/종로구_4525_도로_데이터.csv 파일 저장 완료\n",
      "./make_file/gu_division/중구_4121_도로_데이터.csv 파일 저장 완료\n",
      "./make_file/gu_division/중랑구_6843_도로_데이터.csv 파일 저장 완료\n"
     ]
    }
   ],
   "source": [
    "# 각 구별 데이터 저장 \n",
    "for district, df in district_dfs.items():\n",
    "    try :\n",
    "        df_len = len(df)\n",
    "        save_file_url = f\"./make_file/gu_division/{district}_{df_len}_도로_데이터.csv\"\n",
    "        df.to_csv(save_file_url, index=False, encoding=\"utf-8\")\n",
    "        print(f\"{save_file_url} 파일 저장 완료\")\n",
    "    except OSError as e :\n",
    "        print(e)"
   ]
  },
  {
   "cell_type": "code",
   "execution_count": null,
   "id": "abe18df5-41d0-4d25-ab6d-156b7459f69f",
   "metadata": {},
   "outputs": [],
   "source": []
  }
 ],
 "metadata": {
  "kernelspec": {
   "display_name": "Python 3 (ipykernel)",
   "language": "python",
   "name": "python3"
  },
  "language_info": {
   "codemirror_mode": {
    "name": "ipython",
    "version": 3
   },
   "file_extension": ".py",
   "mimetype": "text/x-python",
   "name": "python",
   "nbconvert_exporter": "python",
   "pygments_lexer": "ipython3",
   "version": "3.13.2"
  }
 },
 "nbformat": 4,
 "nbformat_minor": 5
}
