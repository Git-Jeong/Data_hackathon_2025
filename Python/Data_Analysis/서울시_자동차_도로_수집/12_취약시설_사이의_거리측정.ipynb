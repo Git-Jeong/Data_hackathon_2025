{
 "cells": [
  {
   "cell_type": "code",
   "execution_count": 27,
   "id": "ea6c0c98-f7aa-40e7-948b-a4b59ba2d5bc",
   "metadata": {},
   "outputs": [],
   "source": [
    "# 조회? 하는 최근접 취약시설의 수\n",
    "n_neighbors = 5"
   ]
  },
  {
   "cell_type": "code",
   "execution_count": 28,
   "id": "bd83427f-06c1-47f9-8532-4fbd548334c3",
   "metadata": {},
   "outputs": [],
   "source": [
    "import numpy as np\n",
    "from sklearn.neighbors import KDTree\n",
    "from math import radians, sin, cos, sqrt, atan2\n",
    "import pandas as pd"
   ]
  },
  {
   "cell_type": "code",
   "execution_count": 29,
   "id": "f162651c-735e-4ab4-9f2b-c4f1665d71e1",
   "metadata": {},
   "outputs": [],
   "source": [
    "facility_url = \"../서울시 취약시설 데이터 수집/make_file/(최종)_서울시_모든_시설의_위치.csv\"\n",
    "road_url = \"./make_file/(경사도)_서울열선_광진도로.csv\"\n",
    "\n",
    "file_encoding = \"UTF-8\""
   ]
  },
  {
   "cell_type": "code",
   "execution_count": 30,
   "id": "40a97468-8676-4228-9f1c-7d621183579e",
   "metadata": {},
   "outputs": [],
   "source": [
    "facility_data = pd.read_csv(facility_url, encoding = file_encoding)\n",
    "road_data = pd.read_csv(road_url, encoding = file_encoding)"
   ]
  },
  {
   "cell_type": "code",
   "execution_count": 31,
   "id": "00228c30-2ec6-467c-83e9-60321cc8ebda",
   "metadata": {},
   "outputs": [
    {
     "data": {
      "text/plain": [
       "Index(['Unnamed: 0', '시설_구분', '시설_이름', '시설_위치', '위도', '경도'], dtype='object')"
      ]
     },
     "execution_count": 31,
     "metadata": {},
     "output_type": "execute_result"
    }
   ],
   "source": [
    "facility_data.columns"
   ]
  },
  {
   "cell_type": "code",
   "execution_count": 32,
   "id": "8a3a9cf3-a0d1-449d-ab52-1f4161d470d7",
   "metadata": {},
   "outputs": [
    {
     "data": {
      "text/plain": [
       "Index(['Unnamed: 0', '도로명', '열선', '도로 종류', '시작점_위도', '시작점_경도', '종료점_위도',\n",
       "       '종료점_경도', '중앙점_위도', '중앙점_경도', '도로_길이', '행정동', '도로폭', '도로규모', '행정구역',\n",
       "       '시작점_고도', '종료점_고도', '고도의_차이', '경사각'],\n",
       "      dtype='object')"
      ]
     },
     "execution_count": 32,
     "metadata": {},
     "output_type": "execute_result"
    }
   ],
   "source": [
    "road_data.columns"
   ]
  },
  {
   "cell_type": "code",
   "execution_count": 33,
   "id": "36ac4741-d25a-4fee-a6aa-dfb1cc9012f4",
   "metadata": {},
   "outputs": [
    {
     "name": "stdout",
     "output_type": "stream",
     "text": [
      "삭제 완료\n"
     ]
    }
   ],
   "source": [
    "try : \n",
    "    facility_data = facility_data.drop(columns= 'Unnamed: 0')\n",
    "    print(\"삭제 완료\")\n",
    "except KeyError as e :\n",
    "    print(e)"
   ]
  },
  {
   "cell_type": "code",
   "execution_count": 34,
   "id": "666fef00-4e55-46d2-b60b-b4557166d2d1",
   "metadata": {},
   "outputs": [
    {
     "name": "stdout",
     "output_type": "stream",
     "text": [
      "삭제 완료\n"
     ]
    }
   ],
   "source": [
    "try : \n",
    "    road_data = road_data.drop(columns= '시작점_고도')\n",
    "    print(\"삭제 완료\")\n",
    "except KeyError as e :\n",
    "    print(e)"
   ]
  },
  {
   "cell_type": "code",
   "execution_count": 35,
   "id": "a2f49fcc-e887-4265-acf1-3799678c544c",
   "metadata": {},
   "outputs": [
    {
     "name": "stdout",
     "output_type": "stream",
     "text": [
      "삭제 완료\n"
     ]
    }
   ],
   "source": [
    "try : \n",
    "    road_data = road_data.drop(columns= '종료점_고도')\n",
    "    print(\"삭제 완료\")\n",
    "except KeyError as e :\n",
    "    print(e)"
   ]
  },
  {
   "cell_type": "code",
   "execution_count": 36,
   "id": "ad00495b-4796-4170-a364-872feac55ee5",
   "metadata": {},
   "outputs": [
    {
     "name": "stdout",
     "output_type": "stream",
     "text": [
      "삭제 완료\n"
     ]
    }
   ],
   "source": [
    "try : \n",
    "    road_data = road_data.drop(columns= 'Unnamed: 0')\n",
    "    print(\"삭제 완료\")\n",
    "except KeyError as e :\n",
    "    print(e)"
   ]
  },
  {
   "cell_type": "code",
   "execution_count": 37,
   "id": "f48b0651-f781-41a4-95a5-c4b42446f5b4",
   "metadata": {},
   "outputs": [],
   "source": [
    "# 도로 중앙값 데이터 (위경도)\n",
    "road_lat_list = road_data['중앙점_위도'].to_list()\n",
    "road_lon_list = road_data['중앙점_경도'].to_list()\n",
    "\n",
    "# 취약시설 데이터 (시설명, 위경도) \n",
    "facility_lat_list = facility_data[\"위도\"].to_list()\n",
    "facility_lon_list = facility_data[\"경도\"].to_list()\n"
   ]
  },
  {
   "cell_type": "code",
   "execution_count": 38,
   "id": "4d545ea1-e16a-444a-b0f4-9c632aadcb27",
   "metadata": {},
   "outputs": [
    {
     "name": "stdout",
     "output_type": "stream",
     "text": [
      "road_lat_list 길이 : 7212\n",
      "road_lon_list 길이 : 7212\n",
      "facility_lat_list 길이 : 11908\n",
      "facility_lon_list 길이 : 11908\n"
     ]
    }
   ],
   "source": [
    "print(f\"road_lat_list 길이 : {len(road_lat_list)}\")\n",
    "print(f\"road_lon_list 길이 : {len(road_lon_list)}\")\n",
    " \n",
    "print(f\"facility_lat_list 길이 : {len(facility_lat_list)}\")\n",
    "print(f\"facility_lon_list 길이 : {len(facility_lon_list)}\")"
   ]
  },
  {
   "cell_type": "markdown",
   "id": "8d336559-cc44-4222-b56e-72a575c77e65",
   "metadata": {},
   "source": [
    "## 거리를 구하기"
   ]
  },
  {
   "cell_type": "code",
   "execution_count": 39,
   "id": "2e18fada-91c1-44cf-9eef-05167d61fdb1",
   "metadata": {},
   "outputs": [],
   "source": [
    "def haversine(lat1, lon1, lat2, lon2): \n",
    "    R = 6371  # 지구 반경 (km)\n",
    "    lat1, lon1, lat2, lon2 = map(radians, [lat1, lon1, lat2, lon2])\n",
    "\n",
    "    dlat = lat2 - lat1\n",
    "    dlon = lon2 - lon1\n",
    "    a = sin(dlat / 2)**2 + cos(lat1) * cos(lat2) * sin(dlon / 2)**2\n",
    "    c = 2 * atan2(sqrt(a), sqrt(1 - a))\n",
    "    result = R * c * 1000 \n",
    "    return result # 미터 단위로 반환"
   ]
  },
  {
   "cell_type": "code",
   "execution_count": 40,
   "id": "6a1cf549-f291-4cad-9bd0-4b0b12dd5b59",
   "metadata": {},
   "outputs": [],
   "source": [
    "def find_nearest_facilities_with_haversine(road_lats, road_lons, facility_lats, facility_lons):\n",
    "    global n_neighbors\n",
    "    # KDTree로 시설 좌표 인덱스를 트리 구조로 저장\n",
    "    facilities = np.array(list(zip(facility_lats, facility_lons)))\n",
    "    tree = KDTree(facilities)\n",
    "\n",
    "    # 각 도로에 대해 최근접 n개의 시설 찾기\n",
    "    distance_matrix = []\n",
    "    avg_distances = []\n",
    "    \n",
    "    for r_lat, r_lon in zip(road_lats, road_lons):\n",
    "        road_coords = np.array([[r_lat, r_lon]])\n",
    "        \n",
    "        # 최근접 n개 시설의 인덱스 및 거리 계산\n",
    "        dist, indices = tree.query(road_coords, k=n_neighbors)\n",
    "        \n",
    "        # 거리 계산하여 2차원 배열에 저장\n",
    "        distances = []\n",
    "        for i in range(n_neighbors):\n",
    "            dist_val = haversine(r_lat, r_lon, facility_lats[indices[0][i]], facility_lons[indices[0][i]])  # Haversine 거리 계산\n",
    "            distances.append(dist_val)\n",
    "        \n",
    "        distance_matrix.append(distances)\n",
    "        \n",
    "        # 평균 거리 계산하여 저장\n",
    "        avg_distance = np.mean(distances)\n",
    "        avg_distances.append(avg_distance)\n",
    "    \n",
    "    return np.array(distance_matrix), np.array(avg_distances)"
   ]
  },
  {
   "cell_type": "code",
   "execution_count": 41,
   "id": "daa984ab-6662-43a5-9ddc-95487e08a12e",
   "metadata": {},
   "outputs": [],
   "source": [
    "# 거리 계산\n",
    "distance_matrix, avg_distances = find_nearest_facilities_with_haversine(road_lat_list, road_lon_list, facility_lat_list, facility_lon_list)"
   ]
  },
  {
   "cell_type": "code",
   "execution_count": 42,
   "id": "e8f6db86-92b9-414e-8328-988990f5527a",
   "metadata": {},
   "outputs": [
    {
     "name": "stdout",
     "output_type": "stream",
     "text": [
      "수집한 도로_취약시설 거리의 수 : 7212\n",
      "수집한 도로_취약시설 거리의 평균 수 : 7212\n"
     ]
    }
   ],
   "source": [
    "print(f\"수집한 도로_취약시설 거리의 수 : {len(distance_matrix)}\")\n",
    "print(f\"수집한 도로_취약시설 거리의 평균 수 : {len(avg_distances)}\")"
   ]
  },
  {
   "cell_type": "code",
   "execution_count": 43,
   "id": "d243f108-7f4b-45b7-80eb-599c7117eee5",
   "metadata": {},
   "outputs": [
    {
     "name": "stdout",
     "output_type": "stream",
     "text": [
      "[ 62.3682751   84.24249386  84.24249386 111.44094049 111.44094049]\n"
     ]
    }
   ],
   "source": [
    "print(distance_matrix[1])"
   ]
  },
  {
   "cell_type": "code",
   "execution_count": 44,
   "id": "0b387d82-300e-4033-b4d9-e965fea5487d",
   "metadata": {},
   "outputs": [],
   "source": [
    "distance_matrix = distance_matrix.tolist()"
   ]
  },
  {
   "cell_type": "code",
   "execution_count": 45,
   "id": "fddb36f2-f378-43af-baee-7987a0612d4d",
   "metadata": {},
   "outputs": [],
   "source": [
    "new_distance_matrix = [\" ,\".join(map(str, row)) for row in distance_matrix]"
   ]
  },
  {
   "cell_type": "code",
   "execution_count": 46,
   "id": "acaeba8f-d7da-4294-a416-f54cf52fd797",
   "metadata": {},
   "outputs": [
    {
     "data": {
      "text/plain": [
       "'62.36827510450082 ,84.24249385836922 ,84.24249385836922 ,111.44094049421805 ,111.44094049421805'"
      ]
     },
     "execution_count": 46,
     "metadata": {},
     "output_type": "execute_result"
    }
   ],
   "source": [
    "new_distance_matrix[1]"
   ]
  },
  {
   "cell_type": "code",
   "execution_count": 47,
   "id": "3e25e298-30eb-4ea1-9d0e-1df2e1ae6fbb",
   "metadata": {},
   "outputs": [],
   "source": [
    "road_data['최근접_시설들_거리'] = new_distance_matrix\n",
    "road_data['최근접_시설의_평균거리'] = avg_distances"
   ]
  },
  {
   "cell_type": "code",
   "execution_count": 48,
   "id": "38a605e5-edeb-493d-b0c7-03818830c831",
   "metadata": {},
   "outputs": [
    {
     "data": {
      "text/plain": [
       "0    165.17299640951381 ,141.88730282955694 ,165.97...\n",
       "1    62.36827510450082 ,84.24249385836922 ,84.24249...\n",
       "2    117.13714873310688 ,122.47106043434799 ,181.43...\n",
       "3    170.7456882318119 ,207.35031231752598 ,261.112...\n",
       "4    119.57304016628333 ,132.2920410496931 ,236.865...\n",
       "Name: 최근접_시설들_거리, dtype: object"
      ]
     },
     "execution_count": 48,
     "metadata": {},
     "output_type": "execute_result"
    }
   ],
   "source": [
    "road_data['최근접_시설들_거리'].head()"
   ]
  },
  {
   "cell_type": "code",
   "execution_count": 49,
   "id": "2997f9e0-2275-4ea7-bf27-0ee3f1588c41",
   "metadata": {},
   "outputs": [
    {
     "name": "stdout",
     "output_type": "stream",
     "text": [
      "170.6477834520203\n"
     ]
    }
   ],
   "source": [
    "print(road_data['최근접_시설의_평균거리'].mean())"
   ]
  },
  {
   "cell_type": "code",
   "execution_count": 50,
   "id": "eb6ac5d8-6cd9-4a90-873c-5e69127277ae",
   "metadata": {},
   "outputs": [
    {
     "data": {
      "text/plain": [
       "Index(['도로명', '열선', '도로 종류', '시작점_위도', '시작점_경도', '종료점_위도', '종료점_경도', '중앙점_위도',\n",
       "       '중앙점_경도', '도로_길이', '행정동', '도로폭', '도로규모', '행정구역', '고도의_차이', '경사각',\n",
       "       '최근접_시설들_거리', '최근접_시설의_평균거리'],\n",
       "      dtype='object')"
      ]
     },
     "execution_count": 50,
     "metadata": {},
     "output_type": "execute_result"
    }
   ],
   "source": [
    "road_data.columns"
   ]
  },
  {
   "cell_type": "code",
   "execution_count": 51,
   "id": "5fed774a-6547-4daa-b251-67a6779f6f35",
   "metadata": {},
   "outputs": [
    {
     "name": "stdout",
     "output_type": "stream",
     "text": [
      "./make_file/(최종)_서울열선_광진도로.csv 저장 완료. \n"
     ]
    }
   ],
   "source": [
    "try :\n",
    "    save_url = \"./make_file/(거리측정)_서울열선_광진도로.csv\"\n",
    "    road_data.to_csv(save_url, encoding=file_encoding, index=False)\n",
    "    print(f\"{save_url} 저장 완료. \")\n",
    "except OSError as e :\n",
    "    print(e)"
   ]
  },
  {
   "cell_type": "code",
   "execution_count": null,
   "id": "28ea1349-bc01-4a95-9831-cd54858a5179",
   "metadata": {},
   "outputs": [],
   "source": []
  },
  {
   "cell_type": "code",
   "execution_count": null,
   "id": "446003e8-795f-411d-a1e1-4e696f8c4cd2",
   "metadata": {},
   "outputs": [],
   "source": []
  },
  {
   "cell_type": "code",
   "execution_count": null,
   "id": "a69bdbd1-c89f-4912-922d-3f4401a8f847",
   "metadata": {},
   "outputs": [],
   "source": []
  },
  {
   "cell_type": "code",
   "execution_count": null,
   "id": "3c4a4fd1-e607-4779-9213-1318f53fb22b",
   "metadata": {},
   "outputs": [],
   "source": []
  },
  {
   "cell_type": "code",
   "execution_count": null,
   "id": "747eb45f-10c8-4487-9c23-892a94e6615f",
   "metadata": {},
   "outputs": [],
   "source": []
  }
 ],
 "metadata": {
  "kernelspec": {
   "display_name": "Python 3 (ipykernel)",
   "language": "python",
   "name": "python3"
  },
  "language_info": {
   "codemirror_mode": {
    "name": "ipython",
    "version": 3
   },
   "file_extension": ".py",
   "mimetype": "text/x-python",
   "name": "python",
   "nbconvert_exporter": "python",
   "pygments_lexer": "ipython3",
   "version": "3.13.2"
  }
 },
 "nbformat": 4,
 "nbformat_minor": 5
}
