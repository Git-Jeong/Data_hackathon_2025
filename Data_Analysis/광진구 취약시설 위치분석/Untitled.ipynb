{
 "cells": [
  {
   "cell_type": "code",
   "execution_count": null,
   "id": "2739c8e1-a8b4-4f49-aede-9c43f31ad343",
   "metadata": {},
   "outputs": [],
   "source": []
  }
 ],
 "metadata": {
  "kernelspec": {
   "display_name": "",
   "name": ""
  },
  "language_info": {
   "name": ""
  }
 },
 "nbformat": 4,
 "nbformat_minor": 5
}
