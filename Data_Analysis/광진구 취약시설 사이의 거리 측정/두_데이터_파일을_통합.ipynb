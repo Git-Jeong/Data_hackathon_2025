{
 "cells": [
  {
   "cell_type": "code",
   "execution_count": 1,
   "id": "726233db-a601-4be1-b62e-d211eb47d835",
   "metadata": {
    "execution": {
     "iopub.execute_input": "2025-03-25T06:43:01.155020Z",
     "iopub.status.busy": "2025-03-25T06:43:01.154585Z",
     "iopub.status.idle": "2025-03-25T06:43:01.288175Z",
     "shell.execute_reply": "2025-03-25T06:43:01.287923Z"
    }
   },
   "outputs": [],
   "source": [
    "import pandas as pd"
   ]
  },
  {
   "cell_type": "code",
   "execution_count": 2,
   "id": "df811c8a-c6ca-4073-931b-24c3984a78c2",
   "metadata": {
    "execution": {
     "iopub.execute_input": "2025-03-25T06:43:01.289305Z",
     "iopub.status.busy": "2025-03-25T06:43:01.289211Z",
     "iopub.status.idle": "2025-03-25T06:43:01.290701Z",
     "shell.execute_reply": "2025-03-25T06:43:01.290515Z"
    }
   },
   "outputs": [],
   "source": [
    "road_url = './make_file/도로_취약시설_거리.csv'\n",
    "heat_url = './make_file/열선_취약시설_거리.csv'"
   ]
  },
  {
   "cell_type": "code",
   "execution_count": 3,
   "id": "50209180-2098-40cb-8c64-acdc4b0d8347",
   "metadata": {
    "execution": {
     "iopub.execute_input": "2025-03-25T06:43:01.291576Z",
     "iopub.status.busy": "2025-03-25T06:43:01.291518Z",
     "iopub.status.idle": "2025-03-25T06:43:01.292798Z",
     "shell.execute_reply": "2025-03-25T06:43:01.292634Z"
    }
   },
   "outputs": [],
   "source": [
    "file_encoding = 'EUC-KR'"
   ]
  },
  {
   "cell_type": "code",
   "execution_count": 4,
   "id": "a05238a1-0378-4c3b-9321-7f4f9c6e3597",
   "metadata": {
    "execution": {
     "iopub.execute_input": "2025-03-25T06:43:01.293666Z",
     "iopub.status.busy": "2025-03-25T06:43:01.293584Z",
     "iopub.status.idle": "2025-03-25T06:43:01.310848Z",
     "shell.execute_reply": "2025-03-25T06:43:01.310630Z"
    }
   },
   "outputs": [],
   "source": [
    "road_data = pd.read_csv(road_url, encoding = file_encoding)\n",
    "heat_data = pd.read_csv(heat_url, encoding = file_encoding)"
   ]
  },
  {
   "cell_type": "code",
   "execution_count": 5,
   "id": "4f76066c-3527-49de-a59a-bee1a6799274",
   "metadata": {
    "execution": {
     "iopub.execute_input": "2025-03-25T06:43:01.311788Z",
     "iopub.status.busy": "2025-03-25T06:43:01.311733Z",
     "iopub.status.idle": "2025-03-25T06:43:01.314102Z",
     "shell.execute_reply": "2025-03-25T06:43:01.313914Z"
    }
   },
   "outputs": [
    {
     "data": {
      "text/plain": [
       "Index(['Unnamed: 0.1', 'Unnamed: 0', '도로명', '도로 종류', '시작점_위도', '시작점_경도',\n",
       "       '종료점_위도', '종료점_경도', '중앙점_위도', '중앙점_경도', '시작점_고도', '종료점_고도', '고도의_차이',\n",
       "       '경사각', '도로_길이', '터널 여부', '교량 여부', '서비스 도로 여부', '도로 ID', '속도 제한', '차선 수',\n",
       "       '일방통행 여부', '교차로 여부', '최근접_시설들_거리', '최근접_시설의_평균거리'],\n",
       "      dtype='object')"
      ]
     },
     "execution_count": 5,
     "metadata": {},
     "output_type": "execute_result"
    }
   ],
   "source": [
    "road_data.columns"
   ]
  },
  {
   "cell_type": "code",
   "execution_count": 6,
   "id": "9afe9544-4aaa-414d-9bba-a1979ee1fe4e",
   "metadata": {
    "execution": {
     "iopub.execute_input": "2025-03-25T06:43:01.314959Z",
     "iopub.status.busy": "2025-03-25T06:43:01.314898Z",
     "iopub.status.idle": "2025-03-25T06:43:01.316556Z",
     "shell.execute_reply": "2025-03-25T06:43:01.316371Z"
    }
   },
   "outputs": [
    {
     "data": {
      "text/plain": [
       "Index(['Unnamed: 0.2', 'Unnamed: 0.1', '행정동', '노선명', '기점', '종점', '기점_좌표_위도',\n",
       "       '기점_좌표_경도', '종점_좌표_위도', '종점_좌표_경도', '열선_중앙_위도', '열선_중앙_경도', '시작점_고도',\n",
       "       '종료점_고도', '고도의_차이', '경사각', 'Unnamed: 0', '열선연장(m) (1차로 기준)', '차로수',\n",
       "       '최근접_시설들_거리', '최근접_시설의_평균거리'],\n",
       "      dtype='object')"
      ]
     },
     "execution_count": 6,
     "metadata": {},
     "output_type": "execute_result"
    }
   ],
   "source": [
    "heat_data.columns"
   ]
  },
  {
   "cell_type": "code",
   "execution_count": 7,
   "id": "f2c33fea-0be1-46ca-bb5f-ffb503c8468a",
   "metadata": {
    "execution": {
     "iopub.execute_input": "2025-03-25T06:43:01.317426Z",
     "iopub.status.busy": "2025-03-25T06:43:01.317361Z",
     "iopub.status.idle": "2025-03-25T06:43:01.319264Z",
     "shell.execute_reply": "2025-03-25T06:43:01.319102Z"
    }
   },
   "outputs": [],
   "source": [
    "road_df = pd.DataFrame({\n",
    "    '위도': road_data['중앙점_위도'],\n",
    "    '경도': road_data['중앙점_경도'],\n",
    "    '경사각': road_data['경사각'],\n",
    "    '평균_거리차': road_data['최근접_시설의_평균거리'],\n",
    "    '열선여부': 0\n",
    "})\n",
    "\n",
    "heat_df = pd.DataFrame({\n",
    "    '위도': heat_data['종점_좌표_위도'],\n",
    "    '경도': heat_data['종점_좌표_경도'],\n",
    "    '경사각': heat_data['경사각'],\n",
    "    '평균_거리차': heat_data['최근접_시설의_평균거리'],\n",
    "    '열선여부': 1\n",
    "})"
   ]
  },
  {
   "cell_type": "code",
   "execution_count": 8,
   "id": "f48331e7-12a2-4b6a-9c30-5dd4e3639b6d",
   "metadata": {
    "execution": {
     "iopub.execute_input": "2025-03-25T06:43:01.320084Z",
     "iopub.status.busy": "2025-03-25T06:43:01.320016Z",
     "iopub.status.idle": "2025-03-25T06:43:01.321480Z",
     "shell.execute_reply": "2025-03-25T06:43:01.321318Z"
    }
   },
   "outputs": [],
   "source": [
    "df = pd.concat([road_df, heat_df], ignore_index=True)"
   ]
  },
  {
   "cell_type": "code",
   "execution_count": 9,
   "id": "31db8ae9-745a-4a96-aba2-f7d8aee0c6cd",
   "metadata": {
    "execution": {
     "iopub.execute_input": "2025-03-25T06:43:01.322308Z",
     "iopub.status.busy": "2025-03-25T06:43:01.322251Z",
     "iopub.status.idle": "2025-03-25T06:43:01.325490Z",
     "shell.execute_reply": "2025-03-25T06:43:01.325319Z"
    }
   },
   "outputs": [
    {
     "data": {
      "text/html": [
       "<div>\n",
       "<style scoped>\n",
       "    .dataframe tbody tr th:only-of-type {\n",
       "        vertical-align: middle;\n",
       "    }\n",
       "\n",
       "    .dataframe tbody tr th {\n",
       "        vertical-align: top;\n",
       "    }\n",
       "\n",
       "    .dataframe thead th {\n",
       "        text-align: right;\n",
       "    }\n",
       "</style>\n",
       "<table border=\"1\" class=\"dataframe\">\n",
       "  <thead>\n",
       "    <tr style=\"text-align: right;\">\n",
       "      <th></th>\n",
       "      <th>위도</th>\n",
       "      <th>경도</th>\n",
       "      <th>경사각</th>\n",
       "      <th>평균_거리차</th>\n",
       "      <th>열선여부</th>\n",
       "    </tr>\n",
       "  </thead>\n",
       "  <tbody>\n",
       "    <tr>\n",
       "      <th>6232</th>\n",
       "      <td>37.553039</td>\n",
       "      <td>127.097008</td>\n",
       "      <td>7.851888</td>\n",
       "      <td>184.137070</td>\n",
       "      <td>1</td>\n",
       "    </tr>\n",
       "    <tr>\n",
       "      <th>6233</th>\n",
       "      <td>37.553626</td>\n",
       "      <td>127.097029</td>\n",
       "      <td>5.862993</td>\n",
       "      <td>184.374022</td>\n",
       "      <td>1</td>\n",
       "    </tr>\n",
       "    <tr>\n",
       "      <th>6234</th>\n",
       "      <td>37.567109</td>\n",
       "      <td>127.088453</td>\n",
       "      <td>0.000000</td>\n",
       "      <td>129.476463</td>\n",
       "      <td>1</td>\n",
       "    </tr>\n",
       "    <tr>\n",
       "      <th>6235</th>\n",
       "      <td>37.570235</td>\n",
       "      <td>127.085884</td>\n",
       "      <td>5.678818</td>\n",
       "      <td>292.900094</td>\n",
       "      <td>1</td>\n",
       "    </tr>\n",
       "    <tr>\n",
       "      <th>6236</th>\n",
       "      <td>37.551073</td>\n",
       "      <td>127.110615</td>\n",
       "      <td>0.000000</td>\n",
       "      <td>748.250385</td>\n",
       "      <td>1</td>\n",
       "    </tr>\n",
       "  </tbody>\n",
       "</table>\n",
       "</div>"
      ],
      "text/plain": [
       "             위도          경도       경사각      평균_거리차  열선여부\n",
       "6232  37.553039  127.097008  7.851888  184.137070     1\n",
       "6233  37.553626  127.097029  5.862993  184.374022     1\n",
       "6234  37.567109  127.088453  0.000000  129.476463     1\n",
       "6235  37.570235  127.085884  5.678818  292.900094     1\n",
       "6236  37.551073  127.110615  0.000000  748.250385     1"
      ]
     },
     "execution_count": 9,
     "metadata": {},
     "output_type": "execute_result"
    }
   ],
   "source": [
    "df[df['열선여부'] == 1].head()"
   ]
  },
  {
   "cell_type": "code",
   "execution_count": 10,
   "id": "856d2707-a3f1-4f51-9713-03c66553e6e0",
   "metadata": {
    "execution": {
     "iopub.execute_input": "2025-03-25T06:43:01.326276Z",
     "iopub.status.busy": "2025-03-25T06:43:01.326218Z",
     "iopub.status.idle": "2025-03-25T06:43:01.327504Z",
     "shell.execute_reply": "2025-03-25T06:43:01.327328Z"
    }
   },
   "outputs": [],
   "source": [
    "save_file_url = './make_file/(최종)_통합_데이터_파일.csv'"
   ]
  },
  {
   "cell_type": "code",
   "execution_count": 11,
   "id": "1300d721-aec3-4de5-a218-2fa903c48334",
   "metadata": {
    "execution": {
     "iopub.execute_input": "2025-03-25T06:43:01.328352Z",
     "iopub.status.busy": "2025-03-25T06:43:01.328284Z",
     "iopub.status.idle": "2025-03-25T06:43:01.342070Z",
     "shell.execute_reply": "2025-03-25T06:43:01.341915Z"
    }
   },
   "outputs": [
    {
     "name": "stdout",
     "output_type": "stream",
     "text": [
      "./make_file/(최종)_통합_데이터_파일.csv 저장 성공\n"
     ]
    }
   ],
   "source": [
    "try :\n",
    "    df.to_csv(save_file_url, encoding=file_encoding)\n",
    "    print(f\"{save_file_url} 저장 성공\")\n",
    "except OSError as e:\n",
    "    print(e)"
   ]
  }
 ],
 "metadata": {
  "kernelspec": {
   "display_name": "Python 3 (ipykernel)",
   "language": "python",
   "name": "python3"
  },
  "language_info": {
   "codemirror_mode": {
    "name": "ipython",
    "version": 3
   },
   "file_extension": ".py",
   "mimetype": "text/x-python",
   "name": "python",
   "nbconvert_exporter": "python",
   "pygments_lexer": "ipython3",
   "version": "3.13.2"
  }
 },
 "nbformat": 4,
 "nbformat_minor": 5
}
