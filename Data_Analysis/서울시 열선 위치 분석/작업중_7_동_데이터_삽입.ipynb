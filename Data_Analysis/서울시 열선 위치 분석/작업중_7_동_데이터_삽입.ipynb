{
 "cells": [
  {
   "cell_type": "code",
   "execution_count": 1,
   "id": "2964e033-a4cd-448b-8aa4-8ed530130008",
   "metadata": {},
   "outputs": [],
   "source": [
    "import pandas as pd"
   ]
  },
  {
   "cell_type": "code",
   "execution_count": 2,
   "id": "1b995d30-9dfa-447e-bdde-30412f931999",
   "metadata": {},
   "outputs": [],
   "source": [
    "url = './make_file/(동)_열선_취약시설_거리.csv'\n",
    "file_encoding = 'EUC-KR'"
   ]
  },
  {
   "cell_type": "code",
   "execution_count": 3,
   "id": "bc09eab8-0d30-4971-94bc-0e39e5948b15",
   "metadata": {},
   "outputs": [],
   "source": [
    "data = pd.read_csv(url, encoding=file_encoding)"
   ]
  },
  {
   "cell_type": "code",
   "execution_count": 5,
   "id": "fb78d51c-aabb-4fd3-aefa-f7aeba72fb85",
   "metadata": {},
   "outputs": [
    {
     "data": {
      "text/html": [
       "<div>\n",
       "<style scoped>\n",
       "    .dataframe tbody tr th:only-of-type {\n",
       "        vertical-align: middle;\n",
       "    }\n",
       "\n",
       "    .dataframe tbody tr th {\n",
       "        vertical-align: top;\n",
       "    }\n",
       "\n",
       "    .dataframe thead th {\n",
       "        text-align: right;\n",
       "    }\n",
       "</style>\n",
       "<table border=\"1\" class=\"dataframe\">\n",
       "  <thead>\n",
       "    <tr style=\"text-align: right;\">\n",
       "      <th></th>\n",
       "      <th>중점_위도</th>\n",
       "      <th>중점_경도</th>\n",
       "      <th>경사각</th>\n",
       "      <th>최근접_시설의_평균거리</th>\n",
       "      <th>열선여부</th>\n",
       "      <th>행정동</th>\n",
       "      <th>주소</th>\n",
       "      <th>도로명_여부</th>\n",
       "    </tr>\n",
       "  </thead>\n",
       "  <tbody>\n",
       "    <tr>\n",
       "      <th>0</th>\n",
       "      <td>37.617437</td>\n",
       "      <td>127.04553</td>\n",
       "      <td>2.188558</td>\n",
       "      <td>195.571629</td>\n",
       "      <td>1</td>\n",
       "      <td>장위동</td>\n",
       "      <td>성북구 장위동 219-131</td>\n",
       "      <td>0</td>\n",
       "    </tr>\n",
       "  </tbody>\n",
       "</table>\n",
       "</div>"
      ],
      "text/plain": [
       "       중점_위도      중점_경도       경사각  최근접_시설의_평균거리  열선여부  행정동               주소  \\\n",
       "0  37.617437  127.04553  2.188558    195.571629     1  장위동  성북구 장위동 219-131   \n",
       "\n",
       "  도로명_여부  \n",
       "0      0  "
      ]
     },
     "execution_count": 5,
     "metadata": {},
     "output_type": "execute_result"
    }
   ],
   "source": [
    "data.head(1)"
   ]
  },
  {
   "cell_type": "code",
   "execution_count": null,
   "id": "6a40581a-e68e-46ee-a430-94b1e18e4f39",
   "metadata": {},
   "outputs": [],
   "source": []
  },
  {
   "cell_type": "code",
   "execution_count": null,
   "id": "51d3a64c-0760-4cba-aba6-cb5b3005aeef",
   "metadata": {},
   "outputs": [],
   "source": []
  },
  {
   "cell_type": "code",
   "execution_count": null,
   "id": "77f4f229-48e2-47a1-ba6d-d85877486a68",
   "metadata": {},
   "outputs": [],
   "source": []
  },
  {
   "cell_type": "code",
   "execution_count": null,
   "id": "2bd70e0e-9441-40c9-8211-acb2fc358150",
   "metadata": {},
   "outputs": [],
   "source": []
  },
  {
   "cell_type": "code",
   "execution_count": null,
   "id": "19cc2904-60d8-49aa-8087-729de1340a09",
   "metadata": {},
   "outputs": [],
   "source": []
  },
  {
   "cell_type": "code",
   "execution_count": null,
   "id": "8947d211-057e-491b-84d6-425911e8ba47",
   "metadata": {},
   "outputs": [],
   "source": []
  },
  {
   "cell_type": "code",
   "execution_count": null,
   "id": "fa21564e-ca72-4467-a608-5d0116ccfb7f",
   "metadata": {},
   "outputs": [],
   "source": [
    "try :\n",
    "    save_file_url = './make_file/(최종)_열선_취약시설_거리.csv'\n",
    "    save_file_encoding = 'EUC-KR'\n",
    "    data.to_csv(save_file_url, encoding=save_file_encoding, index=False)\n",
    "    print(f\"{save_file_url} 저장 완료.\")\n",
    "except OSError as e :\n",
    "    print(e)"
   ]
  }
 ],
 "metadata": {
  "kernelspec": {
   "display_name": "Python 3 (ipykernel)",
   "language": "python",
   "name": "python3"
  },
  "language_info": {
   "codemirror_mode": {
    "name": "ipython",
    "version": 3
   },
   "file_extension": ".py",
   "mimetype": "text/x-python",
   "name": "python",
   "nbconvert_exporter": "python",
   "pygments_lexer": "ipython3",
   "version": "3.13.2"
  }
 },
 "nbformat": 4,
 "nbformat_minor": 5
}
