{
 "cells": [
  {
   "cell_type": "code",
   "execution_count": 1,
   "id": "307a388c-801e-4f72-9c83-547f87b5de28",
   "metadata": {},
   "outputs": [],
   "source": [
    "import pandas as pd"
   ]
  },
  {
   "cell_type": "code",
   "execution_count": 2,
   "id": "c301b0ec-da54-4c80-8984-dbed2c979d75",
   "metadata": {},
   "outputs": [],
   "source": [
    "url = './data/서울특별시 광진구_도로열선 설치 현황_20250131.csv'"
   ]
  },
  {
   "cell_type": "code",
   "execution_count": 3,
   "id": "9d39fd7e-3395-4cf5-9372-5b3726f04e0b",
   "metadata": {},
   "outputs": [
    {
     "data": {
      "text/html": [
       "<div>\n",
       "<style scoped>\n",
       "    .dataframe tbody tr th:only-of-type {\n",
       "        vertical-align: middle;\n",
       "    }\n",
       "\n",
       "    .dataframe tbody tr th {\n",
       "        vertical-align: top;\n",
       "    }\n",
       "\n",
       "    .dataframe thead th {\n",
       "        text-align: right;\n",
       "    }\n",
       "</style>\n",
       "<table border=\"1\" class=\"dataframe\">\n",
       "  <thead>\n",
       "    <tr style=\"text-align: right;\">\n",
       "      <th></th>\n",
       "      <th>연번</th>\n",
       "      <th>행정동</th>\n",
       "      <th>노선명</th>\n",
       "      <th>기점</th>\n",
       "      <th>종점</th>\n",
       "      <th>열선연장(m) (1차로 기준)</th>\n",
       "      <th>차로수</th>\n",
       "      <th>설치년도</th>\n",
       "      <th>설치월</th>\n",
       "      <th>비고</th>\n",
       "    </tr>\n",
       "  </thead>\n",
       "  <tbody>\n",
       "    <tr>\n",
       "      <th>0</th>\n",
       "      <td>1</td>\n",
       "      <td>구의2동</td>\n",
       "      <td>동의초 통학로</td>\n",
       "      <td>구의2동 34-8</td>\n",
       "      <td>구의2동 81-3</td>\n",
       "      <td>278</td>\n",
       "      <td>2</td>\n",
       "      <td>2022.0</td>\n",
       "      <td>11.0</td>\n",
       "      <td>NaN</td>\n",
       "    </tr>\n",
       "    <tr>\n",
       "      <th>1</th>\n",
       "      <td>2</td>\n",
       "      <td>구의2동</td>\n",
       "      <td>동의초 통학로</td>\n",
       "      <td>구의2동 23-26</td>\n",
       "      <td>구의2동 23-30</td>\n",
       "      <td>76</td>\n",
       "      <td>2</td>\n",
       "      <td>2022.0</td>\n",
       "      <td>11.0</td>\n",
       "      <td>NaN</td>\n",
       "    </tr>\n",
       "  </tbody>\n",
       "</table>\n",
       "</div>"
      ],
      "text/plain": [
       "   연번   행정동      노선명          기점          종점  열선연장(m) (1차로 기준) 차로수    설치년도  \\\n",
       "0   1  구의2동  동의초 통학로   구의2동 34-8   구의2동 81-3               278   2  2022.0   \n",
       "1   2  구의2동  동의초 통학로  구의2동 23-26  구의2동 23-30                76   2  2022.0   \n",
       "\n",
       "    설치월   비고  \n",
       "0  11.0  NaN  \n",
       "1  11.0  NaN  "
      ]
     },
     "execution_count": 3,
     "metadata": {},
     "output_type": "execute_result"
    }
   ],
   "source": [
    "data = pd.read_csv(url, encoding='euc-kr')\n",
    "data.head(2)"
   ]
  },
  {
   "cell_type": "code",
   "execution_count": 4,
   "id": "d4d769ae-cdfe-4eca-947e-c92075c047a9",
   "metadata": {},
   "outputs": [
    {
     "data": {
      "text/plain": [
       "Index(['연번', '행정동', '노선명', '기점', '종점', '열선연장(m) (1차로 기준)', '차로수', '설치년도',\n",
       "       '설치월', '비고'],\n",
       "      dtype='object')"
      ]
     },
     "execution_count": 4,
     "metadata": {},
     "output_type": "execute_result"
    }
   ],
   "source": [
    "data.columns"
   ]
  },
  {
   "cell_type": "code",
   "execution_count": 5,
   "id": "2dd97150-8f42-43aa-8110-ee89f62ce694",
   "metadata": {},
   "outputs": [],
   "source": [
    "line_start = data['기점'].to_list() \n",
    "line_end = data['종점'].to_list()  "
   ]
  },
  {
   "cell_type": "markdown",
   "id": "721a9f41-7862-4682-ad64-6279a450b22e",
   "metadata": {},
   "source": [
    "### kakao map api"
   ]
  },
  {
   "cell_type": "code",
   "execution_count": 6,
   "id": "93d41158-c433-4987-8822-906c69af4b90",
   "metadata": {},
   "outputs": [],
   "source": [
    "api_key_url = '../API_KEY/API_KEYS.xlsx'\n",
    "open_api_key_file = pd.read_excel(api_key_url)"
   ]
  },
  {
   "cell_type": "code",
   "execution_count": 7,
   "id": "aaab93be-97f9-4c7b-bad8-395492f6133a",
   "metadata": {},
   "outputs": [
    {
     "data": {
      "text/plain": [
       "사이트\n",
       "공공데이터                 1\n",
       "kakao_api_key_REST    1\n",
       "카카오 JS                1\n",
       "국토부v-world            1\n",
       "GOOGLE_MAP            1\n",
       "Name: count, dtype: int64"
      ]
     },
     "execution_count": 7,
     "metadata": {},
     "output_type": "execute_result"
    }
   ],
   "source": [
    "open_api_key_file['사이트'].value_counts()"
   ]
  },
  {
   "cell_type": "code",
   "execution_count": 8,
   "id": "beda639c-35bd-4ab8-b6d9-e76adc1db0fe",
   "metadata": {},
   "outputs": [],
   "source": [
    "KAKAO_API_KEY = open_api_key_file[open_api_key_file['사이트'] == 'kakao_api_key_REST'].values[0][1]  "
   ]
  },
  {
   "cell_type": "code",
   "execution_count": 9,
   "id": "709f5dd7-a523-4d5b-a311-cdb1bd2a6b72",
   "metadata": {},
   "outputs": [],
   "source": [
    "import requests\n",
    "\n",
    "def kakao_api(address):\n",
    "    address = '서울' + address\n",
    "    url = \"https://dapi.kakao.com/v2/local/search/address.json\"\n",
    "    headers = {\"Authorization\": f\"KakaoAK {KAKAO_API_KEY}\"}\n",
    "    params = {\"query\": address}\n",
    "\n",
    "    response = requests.get(url, headers=headers, params=params)\n",
    "    result = response.json()\n",
    "    \n",
    "    if result.get(\"documents\"):\n",
    "        location = result[\"documents\"][0]\n",
    "        lat = float(location[\"y\"])\n",
    "        lon = float(location[\"x\"])\n",
    "        return lat, lon\n",
    "    print(address)\n",
    "    print(\"주소를 찾을 수 없음:\", result)\n",
    "    return None, None\n",
    " \n"
   ]
  },
  {
   "cell_type": "code",
   "execution_count": 10,
   "id": "34b24f31-e8a5-4ec3-96f2-2a1319d8cb7c",
   "metadata": {},
   "outputs": [],
   "source": [
    "def get_address_list_before_kakao(addresses):\n",
    "    latitudes, longitudes = [], []\n",
    "    for address in addresses:\n",
    "        lat, lon = kakao_api(address)\n",
    "        if lat is not None and lon is not None:\n",
    "            latitudes.append(lat)\n",
    "            longitudes.append(lon)\n",
    "    return latitudes, longitudes\n",
    "\n",
    "get_start_lat, get_start_lon = get_address_list_before_kakao(line_start)\n",
    "get_end_lat, get_end_lon = get_address_list_before_kakao(line_end)"
   ]
  },
  {
   "cell_type": "code",
   "execution_count": 11,
   "id": "e4ff0f82-ea98-475b-8ae4-d76cee4acc2f",
   "metadata": {},
   "outputs": [
    {
     "name": "stdout",
     "output_type": "stream",
     "text": [
      "출발지의 좌표 길이 : 41, 41\n",
      "도착지의 좌표 길이 : 41, 41\n"
     ]
    }
   ],
   "source": [
    "print(f'출발지의 좌표 길이 : {len(get_start_lat)}, {len(get_start_lon)}')\n",
    "print(f'도착지의 좌표 길이 : {len(get_end_lat)}, {len(get_end_lon)}')"
   ]
  },
  {
   "cell_type": "code",
   "execution_count": 12,
   "id": "1732f2fb-4099-49a3-9021-ed49f2092d74",
   "metadata": {},
   "outputs": [],
   "source": [
    "average_lat = []\n",
    "average_lon = []\n",
    "\n",
    "for i in range(max(len(get_start_lat), len(get_end_lat))):\n",
    "    start_lat = get_start_lat[i] if i < len(get_start_lat) else get_start_lat[-1]\n",
    "    end_lat = get_end_lat[i] if i < len(get_end_lat) else get_end_lat[-1]\n",
    "    average_lat.append((start_lat + end_lat) / 2)\n",
    "\n",
    "for i in range(max(len(get_start_lon), len(get_end_lon))):\n",
    "    start_lon = get_start_lon[i] if i < len(get_start_lon) else get_start_lon[-1]\n",
    "    end_lon = get_end_lon[i] if i < len(get_end_lon) else get_end_lon[-1]\n",
    "    average_lon.append((start_lon + end_lon) / 2)\n"
   ]
  },
  {
   "cell_type": "code",
   "execution_count": 13,
   "id": "d34cde89-6789-48f2-a932-8d807850b552",
   "metadata": {},
   "outputs": [
    {
     "name": "stdout",
     "output_type": "stream",
     "text": [
      "중간값 좌표 길이 : 41, 41\n"
     ]
    }
   ],
   "source": [
    "print(f'중간값 좌표 길이 : {len(average_lat)}, {len(average_lon)}')"
   ]
  },
  {
   "cell_type": "code",
   "execution_count": 14,
   "id": "8c3d327d-e268-49a6-adb5-60ad1a21edef",
   "metadata": {},
   "outputs": [],
   "source": [
    "data['기점_좌표_위도'] = get_start_lat\n",
    "data['기점_좌표_경도'] = get_start_lon\n",
    " \n",
    "data['종점_좌표_위도'] = get_end_lat\n",
    "data['종점_좌표_경도'] = get_end_lon "
   ]
  },
  {
   "cell_type": "code",
   "execution_count": 15,
   "id": "2c21974d-7dc0-407a-bbf8-ec8c538d608a",
   "metadata": {},
   "outputs": [],
   "source": [
    "data['열선_중앙_위도'] = average_lat\n",
    "data['열선_중앙_경도'] = average_lon"
   ]
  },
  {
   "cell_type": "code",
   "execution_count": 16,
   "id": "5150f645-8aa7-46fe-9175-45bd322eb8bc",
   "metadata": {},
   "outputs": [],
   "source": [
    "data = data.drop('비고', axis = 1) \n",
    "data = data.drop('연번', axis = 1) \n",
    "data = data.drop('설치년도', axis = 1) \n",
    "data = data.drop('설치월', axis = 1)  "
   ]
  },
  {
   "cell_type": "code",
   "execution_count": 17,
   "id": "d0eb335c-09a1-4c13-a158-f03dc4a467ef",
   "metadata": {},
   "outputs": [
    {
     "data": {
      "text/plain": [
       "Index(['행정동', '노선명', '기점', '종점', '열선연장(m) (1차로 기준)', '차로수', '기점_좌표_위도',\n",
       "       '기점_좌표_경도', '종점_좌표_위도', '종점_좌표_경도', '열선_중앙_위도', '열선_중앙_경도'],\n",
       "      dtype='object')"
      ]
     },
     "execution_count": 17,
     "metadata": {},
     "output_type": "execute_result"
    }
   ],
   "source": [
    "data.columns"
   ]
  },
  {
   "cell_type": "code",
   "execution_count": 18,
   "id": "b8f8bce6-666b-4d39-a39b-9fb3228a581a",
   "metadata": {},
   "outputs": [
    {
     "name": "stdout",
     "output_type": "stream",
     "text": [
      "./make_file/열선_위경도값(중앙값_포함).csv 저장 완료\n"
     ]
    }
   ],
   "source": [
    "save_file = './make_file/열선_위경도값(중앙값_포함).csv'\n",
    "data.to_csv(save_file, encoding='euc-kr') \n",
    "print(f'{save_file} 저장 완료')"
   ]
  },
  {
   "cell_type": "code",
   "execution_count": null,
   "id": "c68783fc-05df-4f6f-82cb-3d1930481210",
   "metadata": {},
   "outputs": [],
   "source": []
  }
 ],
 "metadata": {
  "kernelspec": {
   "display_name": "Python 3 (ipykernel)",
   "language": "python",
   "name": "python3"
  },
  "language_info": {
   "codemirror_mode": {
    "name": "ipython",
    "version": 3
   },
   "file_extension": ".py",
   "mimetype": "text/x-python",
   "name": "python",
   "nbconvert_exporter": "python",
   "pygments_lexer": "ipython3",
   "version": "3.13.2"
  }
 },
 "nbformat": 4,
 "nbformat_minor": 5
}
