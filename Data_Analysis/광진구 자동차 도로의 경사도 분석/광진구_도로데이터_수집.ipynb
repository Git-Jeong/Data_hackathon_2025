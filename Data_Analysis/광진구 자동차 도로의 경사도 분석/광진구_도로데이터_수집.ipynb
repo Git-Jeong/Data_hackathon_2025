{
 "cells": [
  {
   "cell_type": "code",
   "execution_count": 1,
   "id": "57d51fe3-60e7-4e2c-9d60-ae87044dbebe",
   "metadata": {
    "execution": {
     "iopub.execute_input": "2025-03-23T04:29:05.736125Z",
     "iopub.status.busy": "2025-03-23T04:29:05.735759Z",
     "iopub.status.idle": "2025-03-23T04:29:06.142060Z",
     "shell.execute_reply": "2025-03-23T04:29:06.141806Z"
    }
   },
   "outputs": [],
   "source": [
    "try:\n",
    "    import osmnx as ox\n",
    "except :\n",
    "    # !pip install --break-system-packages osmnx\n",
    "    !pip install osmnx\n",
    "    import osmnx as ox "
   ]
  },
  {
   "cell_type": "code",
   "execution_count": 2,
   "id": "a26c4164-1400-4071-aca9-7d14f6ebb052",
   "metadata": {
    "execution": {
     "iopub.execute_input": "2025-03-23T04:29:06.143272Z",
     "iopub.status.busy": "2025-03-23T04:29:06.143155Z",
     "iopub.status.idle": "2025-03-23T04:29:06.613318Z",
     "shell.execute_reply": "2025-03-23T04:29:06.613012Z"
    }
   },
   "outputs": [],
   "source": [
    "# 광진구의 골목길 포함 도로 네트워크 가져오기 (residential, service, tertiary 도로 포함)\n",
    "place_name = \"광진구, 서울, 대한민국\"\n",
    "graph = ox.graph_from_place(place_name, network_type='drive')\n",
    "# graph = ox.graph_from_place(place_name, network_type='bike')\n"
   ]
  },
  {
   "cell_type": "code",
   "execution_count": 3,
   "id": "647bf04b-00f0-4c9b-8665-301b33e28eff",
   "metadata": {
    "execution": {
     "iopub.execute_input": "2025-03-23T04:29:06.614599Z",
     "iopub.status.busy": "2025-03-23T04:29:06.614523Z",
     "iopub.status.idle": "2025-03-23T04:29:06.646567Z",
     "shell.execute_reply": "2025-03-23T04:29:06.646292Z"
    }
   },
   "outputs": [],
   "source": [
    "# 모든 도로의 시작점과 종료점 노드 정보\n",
    "nodes, edges = ox.graph_to_gdfs(graph)\n"
   ]
  },
  {
   "cell_type": "code",
   "execution_count": 4,
   "id": "5eaec446-ba7f-45f1-827a-557d46925cff",
   "metadata": {
    "execution": {
     "iopub.execute_input": "2025-03-23T04:29:06.647623Z",
     "iopub.status.busy": "2025-03-23T04:29:06.647564Z",
     "iopub.status.idle": "2025-03-23T04:29:06.649071Z",
     "shell.execute_reply": "2025-03-23T04:29:06.648876Z"
    }
   },
   "outputs": [
    {
     "name": "stdout",
     "output_type": "stream",
     "text": [
      "2671\n",
      "7216\n"
     ]
    }
   ],
   "source": [
    "print(f'{len(nodes)}')\n",
    "print(f'{len(edges)}')"
   ]
  },
  {
   "cell_type": "code",
   "execution_count": 5,
   "id": "ba0e1c19-585a-4fba-8fda-7954f76efc57",
   "metadata": {
    "execution": {
     "iopub.execute_input": "2025-03-23T04:29:06.649947Z",
     "iopub.status.busy": "2025-03-23T04:29:06.649892Z",
     "iopub.status.idle": "2025-03-23T04:29:06.656796Z",
     "shell.execute_reply": "2025-03-23T04:29:06.656624Z"
    }
   },
   "outputs": [
    {
     "name": "stdout",
     "output_type": "stream",
     "text": [
      "                                                       osmid      highway  \\\n",
      "u         v           key                                                   \n",
      "368702043 4104262755  0    [175320385, 175320419, 175320429]     tertiary   \n",
      "          8963165264  0                            516647748  residential   \n",
      "          436866074   0                            516647752  residential   \n",
      "414683232 11125576999 0                           1199529109    secondary   \n",
      "          11125576997 0                           1193259435      primary   \n",
      "\n",
      "                                     name  oneway reversed      length tunnel  \\\n",
      "u         v           key                                                       \n",
      "368702043 4104262755  0    [광장로, 광장앞지하차도]   False    False  430.542185    yes   \n",
      "          8963165264  0              워커힐로   False    False  117.361840    NaN   \n",
      "          436866074   0              워커힐로   False     True  177.203342    NaN   \n",
      "414683232 11125576999 0              아차산로    True    False   10.930404    NaN   \n",
      "          11125576997 0               자양로    True    False   26.921615    NaN   \n",
      "\n",
      "                                                                    geometry  \\\n",
      "u         v           key                                                      \n",
      "368702043 4104262755  0    LINESTRING (127.09777 37.54551, 127.09832 37.5...   \n",
      "          8963165264  0    LINESTRING (127.09777 37.54551, 127.09802 37.5...   \n",
      "          436866074   0    LINESTRING (127.09777 37.54551, 127.09752 37.5...   \n",
      "414683232 11125576999 0    LINESTRING (127.08354 37.53655, 127.08367 37.5...   \n",
      "          11125576997 0    LINESTRING (127.08354 37.53655, 127.08359 37.5...   \n",
      "\n",
      "                          lanes maxspeed   ref bridge width access  \n",
      "u         v           key                                           \n",
      "368702043 4104262755  0     NaN      NaN   NaN    NaN   NaN    NaN  \n",
      "          8963165264  0     NaN      NaN   NaN    NaN   NaN    NaN  \n",
      "          436866074   0     NaN      NaN   NaN    NaN   NaN    NaN  \n",
      "414683232 11125576999 0       3       50   NaN    NaN   NaN    NaN  \n",
      "          11125576997 0       3      NaN  3;71    NaN   NaN    NaN  \n",
      "<class 'geopandas.geodataframe.GeoDataFrame'>\n",
      "MultiIndex: 7216 entries, (np.int64(368702043), np.int64(4104262755), np.int64(0)) to (np.int64(12686684619), np.int64(3846107101), np.int64(0))\n",
      "Data columns (total 14 columns):\n",
      " #   Column    Non-Null Count  Dtype   \n",
      "---  ------    --------------  -----   \n",
      " 0   osmid     7216 non-null   object  \n",
      " 1   highway   7216 non-null   object  \n",
      " 2   name      6503 non-null   object  \n",
      " 3   oneway    7216 non-null   bool    \n",
      " 4   reversed  7216 non-null   object  \n",
      " 5   length    7216 non-null   float64 \n",
      " 6   tunnel    40 non-null     object  \n",
      " 7   geometry  7216 non-null   geometry\n",
      " 8   lanes     639 non-null    object  \n",
      " 9   maxspeed  446 non-null    object  \n",
      " 10  ref       307 non-null    object  \n",
      " 11  bridge    42 non-null     object  \n",
      " 12  width     1 non-null      object  \n",
      " 13  access    12 non-null     object  \n",
      "dtypes: bool(1), float64(1), geometry(1), object(11)\n",
      "memory usage: 946.1+ KB\n",
      "None\n",
      "                   y           x  street_count junction highway  ref  \\\n",
      "osmid                                                                  \n",
      "368702043  37.545509  127.097772             3      NaN     NaN  NaN   \n",
      "414683232  37.536546  127.083544             4      yes     NaN  NaN   \n",
      "414683263  37.545022  127.085259             4      NaN     NaN  NaN   \n",
      "414683265  37.544993  127.104261             4      yes     NaN  NaN   \n",
      "414683275  37.548276  127.067505             4      NaN     NaN  NaN   \n",
      "\n",
      "                             geometry  \n",
      "osmid                                  \n",
      "368702043  POINT (127.09777 37.54551)  \n",
      "414683232  POINT (127.08354 37.53655)  \n",
      "414683263  POINT (127.08526 37.54502)  \n",
      "414683265  POINT (127.10426 37.54499)  \n",
      "414683275  POINT (127.06751 37.54828)  \n",
      "<class 'geopandas.geodataframe.GeoDataFrame'>\n",
      "Index: 2671 entries, 368702043 to 12686684619\n",
      "Data columns (total 7 columns):\n",
      " #   Column        Non-Null Count  Dtype   \n",
      "---  ------        --------------  -----   \n",
      " 0   y             2671 non-null   float64 \n",
      " 1   x             2671 non-null   float64 \n",
      " 2   street_count  2671 non-null   int64   \n",
      " 3   junction      8 non-null      object  \n",
      " 4   highway       49 non-null     object  \n",
      " 5   ref           8 non-null      object  \n",
      " 6   geometry      2671 non-null   geometry\n",
      "dtypes: float64(2), geometry(1), int64(1), object(3)\n",
      "memory usage: 166.9+ KB\n",
      "None\n"
     ]
    }
   ],
   "source": [
    "# edges 데이터프레임의 구조와 첫 몇 개의 행을 확인\n",
    "print(edges.head())\n",
    "print(edges.info())\n",
    "\n",
    "# nodes 데이터프레임의 구조와 첫 몇 개의 행을 확인\n",
    "print(nodes.head())\n",
    "print(nodes.info())\n"
   ]
  },
  {
   "cell_type": "code",
   "execution_count": null,
   "id": "163d3700-fabb-4254-a615-7cf52d6940dc",
   "metadata": {},
   "outputs": [],
   "source": []
  },
  {
   "cell_type": "code",
   "execution_count": 6,
   "id": "8a764f17-cba2-4d11-a8eb-8df3a4ef0503",
   "metadata": {
    "execution": {
     "iopub.execute_input": "2025-03-23T04:29:06.657721Z",
     "iopub.status.busy": "2025-03-23T04:29:06.657670Z",
     "iopub.status.idle": "2025-03-23T04:29:07.763013Z",
     "shell.execute_reply": "2025-03-23T04:29:07.762705Z"
    }
   },
   "outputs": [],
   "source": [
    "# 전역 배열 초기화\n",
    "road_names = []\n",
    "highway_types = []\n",
    "start_lats = []\n",
    "start_lons = []\n",
    "end_lats = []\n",
    "end_lons = []\n",
    "tunnel_status = []  # 빈 리스트로 초기화\n",
    "bridge_status = []  # 빈 리스트로 초기화\n",
    "service_status = []  # 빈 리스트로 초기화\n",
    "road_ids = []\n",
    "max_speeds = []\n",
    "lane_counts = []\n",
    "one_way = []\n",
    "junction_status = []\n",
    "\n",
    "# 도로 종류 한글 매핑 딕셔너리\n",
    "road_type_map = {\n",
    "    'motorway': '고속도로',\n",
    "    'trunk': '간선도로',\n",
    "    'primary': '주도로',\n",
    "    'secondary': '2차로',\n",
    "    'tertiary': '3차로',\n",
    "    'unclassified': '비분류 도로',\n",
    "    'residential': '주거지 도로',\n",
    "    'service': '서비스 도로',\n",
    "    'living_street': '생활도로'\n",
    "}\n",
    "\n",
    "# 'edges' 데이터프레임에서 각 도로에 대해 정보 추출\n",
    "for index, row in edges.iterrows():\n",
    "    # MultiIndex에서 u와 v 값 추출\n",
    "    start_node = index[0]  # 시작 노드 (u)\n",
    "    end_node = index[1]    # 종료 노드 (v)\n",
    "\n",
    "    # 노드 정보를 기반으로 위도와 경도 가져오기\n",
    "    try:\n",
    "        start_lat, start_lon = nodes.loc[start_node, ['y', 'x']]\n",
    "        end_lat, end_lon = nodes.loc[end_node, ['y', 'x']]\n",
    "    except KeyError:\n",
    "        # 노드 정보가 없을 경우 건너뛰기\n",
    "        continue\n",
    "\n",
    "    # 도로명(속성 name)과 도로 특성 확인\n",
    "    road_name = row.get('name', None)  # 도로명이 없는 경우 None 처리\n",
    "    highway_type = row.get('highway', None)  \n",
    "    # if highway_type not in ['unclassified', 'motorway', 'trunk', 'primary', 'secondary', 'residential', 'tertiary',\n",
    "    #                        'living_street', 'primary_link', 'trunk_link', 'secondary_link', 'road'] :\n",
    "    #     print(highway_type)                                \n",
    "    tunnel_status_val = row.get('tunnel', None)   \n",
    "    bridge_status_val = row.get('bridge', None)  # 교량 여부\n",
    "    service_status_val = row.get('service', None)  # 서비스 도로 여부\n",
    "    maxspeed = row.get('maxspeed', None)  # 속도 제한\n",
    "    lanes = row.get('lanes', None)  # 차선 수\n",
    "    oneway = row.get('oneway', None)  # 일방통행 여부\n",
    "    junction = row.get('junction', None)  # 교차로 여부\n",
    "\n",
    "    # highway_type이 리스트인 경우 첫 번째 값만 사용\n",
    "    if isinstance(highway_type, list):\n",
    "        if(highway_type[0] == 'unclassified') :\n",
    "            highway_type = highway_type[1]   \n",
    "        else :\n",
    "            highway_type = highway_type[0]   \n",
    "        \n",
    "    if not highway_type:  # None, 빈 문자열, 빈 리스트 등을 모두 포함\n",
    "        continue\n",
    "\n",
    "    if highway_type == 'unclassified' :\n",
    "        continue\n",
    "        \n",
    "    # 국도나 고속도로 등을 제외\n",
    "    if highway_type in ['motorway', 'trunk', 'primary', 'secondary', 'trunk_link', 'primary_link']:   \n",
    "        continue  # 해당 도로는 건너뛰기\n",
    "\n",
    "\n",
    "        \n",
    "    # 전역 배열에 데이터 추가\n",
    "    road_names.append(road_name if road_name else None)  # 값이 없으면 None로 처리\n",
    "    # 도로 종류를 한글로 매핑\n",
    "    road_type_in_korean = road_type_map.get(highway_type, None)\n",
    "    highway_types.append(road_type_in_korean)  # 값이 없으면 None로 처리\n",
    "    start_lats.append(start_lat if start_lat else None)  # 값이 없으면 None로 처리\n",
    "    start_lons.append(start_lon if start_lon else None)  # 값이 없으면 None로 처리\n",
    "    end_lats.append(end_lat if end_lat else None)  # 값이 없으면 None로 처리\n",
    "    end_lons.append(end_lon if end_lon else None)  # 값이 없으면 None로 처리\n",
    "    tunnel_status.append(tunnel_status_val if tunnel_status_val else None)  # 값이 없으면 None로 처리\n",
    "    bridge_status.append(bridge_status_val if bridge_status_val else None)  # 값이 없으면 None로 처리\n",
    "    service_status.append(service_status_val if service_status_val else None)  # 값이 없으면 None로 처리\n",
    "    road_ids.append(row['osmid'] if row['osmid'] else None)  # 값이 없으면 None로 처리\n",
    "    max_speeds.append(maxspeed if maxspeed else None)  # 값이 없으면 None로 처리\n",
    "    lane_counts.append(lanes if lanes else None)  # 값이 없으면 None로 처리\n",
    "    one_way.append(oneway if oneway else None)  # 값이 없으면 None로 처리\n",
    "    junction_status.append(junction if junction else None)  # 값이 없으면 None로 처리\n"
   ]
  },
  {
   "cell_type": "code",
   "execution_count": 7,
   "id": "6ed1f0f2-3edb-432f-be4a-86b6c9b961ac",
   "metadata": {
    "execution": {
     "iopub.execute_input": "2025-03-23T04:29:07.764126Z",
     "iopub.status.busy": "2025-03-23T04:29:07.764062Z",
     "iopub.status.idle": "2025-03-23T04:29:07.765660Z",
     "shell.execute_reply": "2025-03-23T04:29:07.765479Z"
    }
   },
   "outputs": [
    {
     "name": "stdout",
     "output_type": "stream",
     "text": [
      "6288 6288\n",
      "6288 6288\n",
      "6288 6288\n"
     ]
    }
   ],
   "source": [
    "# 각 배열의 길이 확인\n",
    "print(len(road_names), len(highway_types))\n",
    "print(len(start_lats), len(start_lons))\n",
    "print(len(end_lats), len(end_lons))\n"
   ]
  },
  {
   "cell_type": "markdown",
   "id": "74183f60-6523-4528-a0f4-1aa9be00982e",
   "metadata": {},
   "source": [
    "- dd\n",
    "  "
   ]
  },
  {
   "cell_type": "code",
   "execution_count": 8,
   "id": "acb1430d-0118-4be0-944f-194e9741ccd3",
   "metadata": {
    "execution": {
     "iopub.execute_input": "2025-03-23T04:29:07.766547Z",
     "iopub.status.busy": "2025-03-23T04:29:07.766489Z",
     "iopub.status.idle": "2025-03-23T04:29:07.770636Z",
     "shell.execute_reply": "2025-03-23T04:29:07.770474Z"
    }
   },
   "outputs": [],
   "source": [
    "average_lat = []\n",
    "average_lon = []\n",
    "\n",
    "for i in range(max(len(start_lats), len(end_lats))):\n",
    "    start_lat = start_lats[i] if i < len(start_lats) else start_lats[-1]\n",
    "    end_lat = end_lats[i] if i < len(end_lats) else end_lats[-1]\n",
    "    average_lat.append((start_lat + end_lat) / 2)\n",
    "\n",
    "for i in range(max(len(start_lons), len(end_lons))):\n",
    "    start_lon = start_lons[i] if i < len(start_lons) else start_lons[-1]\n",
    "    end_lon = end_lons[i] if i < len(end_lons) else end_lons[-1]\n",
    "    average_lon.append((start_lon + end_lon) / 2)\n"
   ]
  },
  {
   "cell_type": "code",
   "execution_count": 9,
   "id": "3cdaab37-ed2b-4676-a0da-6a590c066074",
   "metadata": {
    "execution": {
     "iopub.execute_input": "2025-03-23T04:29:07.771483Z",
     "iopub.status.busy": "2025-03-23T04:29:07.771415Z",
     "iopub.status.idle": "2025-03-23T04:29:07.772929Z",
     "shell.execute_reply": "2025-03-23T04:29:07.772757Z"
    }
   },
   "outputs": [],
   "source": [
    "# 데이터프레임 생성\n",
    "data = {\n",
    "    '도로명': road_names,\n",
    "    '도로 종류': highway_types,\n",
    "    '시작점_위도': start_lats,\n",
    "    '시작점_경도': start_lons,\n",
    "    '종료점_위도': end_lats,\n",
    "    '종료점_경도': end_lons,\n",
    "    '중앙점_위도' : average_lat,\n",
    "    '중앙점_경도' : average_lon,\n",
    "    '터널 여부': tunnel_status,\n",
    "    '교량 여부': bridge_status,\n",
    "    '서비스 도로 여부': service_status,\n",
    "    '도로 ID': road_ids,\n",
    "    '속도 제한': max_speeds,\n",
    "    '차선 수': lane_counts,\n",
    "    '일방통행 여부': one_way,\n",
    "    '교차로 여부': junction_status\n",
    "}\n"
   ]
  },
  {
   "cell_type": "code",
   "execution_count": 10,
   "id": "10fa54da-aa5a-4108-8385-22a7611717e4",
   "metadata": {
    "execution": {
     "iopub.execute_input": "2025-03-23T04:29:07.773801Z",
     "iopub.status.busy": "2025-03-23T04:29:07.773728Z",
     "iopub.status.idle": "2025-03-23T04:29:07.779277Z",
     "shell.execute_reply": "2025-03-23T04:29:07.779104Z"
    }
   },
   "outputs": [],
   "source": [
    "import pandas as pd\n",
    "\n",
    "df = pd.DataFrame(data)\n"
   ]
  },
  {
   "cell_type": "code",
   "execution_count": 11,
   "id": "a783d090-e160-46bc-9664-88602ea6832d",
   "metadata": {
    "execution": {
     "iopub.execute_input": "2025-03-23T04:29:07.780176Z",
     "iopub.status.busy": "2025-03-23T04:29:07.780098Z",
     "iopub.status.idle": "2025-03-23T04:29:07.800649Z",
     "shell.execute_reply": "2025-03-23T04:29:07.800452Z"
    }
   },
   "outputs": [
    {
     "name": "stdout",
     "output_type": "stream",
     "text": [
      "광진구의 도로 정보가 CSV 파일로 저장되었습니다.\n"
     ]
    }
   ],
   "source": [
    "df.to_csv('./make_file/광진구_자동차도로_전체.csv', index=False)\n",
    "\n",
    "print(\"광진구의 도로 정보가 CSV 파일로 저장되었습니다.\")\n"
   ]
  },
  {
   "cell_type": "code",
   "execution_count": null,
   "id": "bef55bb6-63fe-4323-a1a1-535e4b5e81c4",
   "metadata": {},
   "outputs": [],
   "source": []
  }
 ],
 "metadata": {
  "kernelspec": {
   "display_name": "Python 3 (ipykernel)",
   "language": "python",
   "name": "python3"
  },
  "language_info": {
   "codemirror_mode": {
    "name": "ipython",
    "version": 3
   },
   "file_extension": ".py",
   "mimetype": "text/x-python",
   "name": "python",
   "nbconvert_exporter": "python",
   "pygments_lexer": "ipython3",
   "version": "3.13.2"
  }
 },
 "nbformat": 4,
 "nbformat_minor": 5
}
