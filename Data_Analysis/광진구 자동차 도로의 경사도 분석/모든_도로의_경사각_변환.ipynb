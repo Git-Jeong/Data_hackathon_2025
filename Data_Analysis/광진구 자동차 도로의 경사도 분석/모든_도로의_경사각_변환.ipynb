{
 "cells": [
  {
   "cell_type": "markdown",
   "id": "b6194ab6-d848-48c2-b134-590c16ee7c7c",
   "metadata": {},
   "source": [
    "## 고도차이와 위치 데이터를 기반으로 경사'각' 계산"
   ]
  },
  {
   "cell_type": "code",
   "execution_count": 1,
   "id": "329de614-a78a-4932-9cd4-9e55efb841ee",
   "metadata": {},
   "outputs": [],
   "source": [
    "import pandas as pd"
   ]
  },
  {
   "cell_type": "code",
   "execution_count": 2,
   "id": "bcbdcb14-a7c6-4efd-820f-b7664697c619",
   "metadata": {},
   "outputs": [],
   "source": [
    "data_url = './make_file/자동차_도로_고도차이_포함_데이터.csv'"
   ]
  },
  {
   "cell_type": "code",
   "execution_count": 3,
   "id": "e9c5e31c-0ffa-4863-bc61-1186c9438e9e",
   "metadata": {},
   "outputs": [
    {
     "data": {
      "text/html": [
       "<div>\n",
       "<style scoped>\n",
       "    .dataframe tbody tr th:only-of-type {\n",
       "        vertical-align: middle;\n",
       "    }\n",
       "\n",
       "    .dataframe tbody tr th {\n",
       "        vertical-align: top;\n",
       "    }\n",
       "\n",
       "    .dataframe thead th {\n",
       "        text-align: right;\n",
       "    }\n",
       "</style>\n",
       "<table border=\"1\" class=\"dataframe\">\n",
       "  <thead>\n",
       "    <tr style=\"text-align: right;\">\n",
       "      <th></th>\n",
       "      <th>도로명</th>\n",
       "      <th>도로 종류</th>\n",
       "      <th>시작점_위도</th>\n",
       "      <th>시작점_경도</th>\n",
       "      <th>종료점_위도</th>\n",
       "      <th>종료점_경도</th>\n",
       "      <th>중앙점_위도</th>\n",
       "      <th>중앙점_경도</th>\n",
       "      <th>도로_길이</th>\n",
       "      <th>터널 여부</th>\n",
       "      <th>교량 여부</th>\n",
       "      <th>서비스 도로 여부</th>\n",
       "      <th>도로 ID</th>\n",
       "      <th>속도 제한</th>\n",
       "      <th>차선 수</th>\n",
       "      <th>일방통행 여부</th>\n",
       "      <th>교차로 여부</th>\n",
       "      <th>시작점_고도</th>\n",
       "      <th>종료점_고도</th>\n",
       "      <th>고도의_차이</th>\n",
       "    </tr>\n",
       "  </thead>\n",
       "  <tbody>\n",
       "    <tr>\n",
       "      <th>0</th>\n",
       "      <td>['광장앞지하차도', '광장로']</td>\n",
       "      <td>3차로</td>\n",
       "      <td>37.545509</td>\n",
       "      <td>127.097772</td>\n",
       "      <td>37.546747</td>\n",
       "      <td>127.102031</td>\n",
       "      <td>37.546128</td>\n",
       "      <td>127.099902</td>\n",
       "      <td>430.542185</td>\n",
       "      <td>yes</td>\n",
       "      <td>NaN</td>\n",
       "      <td>NaN</td>\n",
       "      <td>[175320385, 175320419, 175320429]</td>\n",
       "      <td>NaN</td>\n",
       "      <td>NaN</td>\n",
       "      <td>NaN</td>\n",
       "      <td>NaN</td>\n",
       "      <td>39.830399</td>\n",
       "      <td>21.125259</td>\n",
       "      <td>18.705139</td>\n",
       "    </tr>\n",
       "  </tbody>\n",
       "</table>\n",
       "</div>"
      ],
      "text/plain": [
       "                  도로명 도로 종류     시작점_위도      시작점_경도     종료점_위도      종료점_경도  \\\n",
       "0  ['광장앞지하차도', '광장로']   3차로  37.545509  127.097772  37.546747  127.102031   \n",
       "\n",
       "      중앙점_위도      중앙점_경도       도로_길이 터널 여부  교량 여부  서비스 도로 여부  \\\n",
       "0  37.546128  127.099902  430.542185   yes    NaN        NaN   \n",
       "\n",
       "                               도로 ID  속도 제한  차선 수 일방통행 여부  교차로 여부     시작점_고도  \\\n",
       "0  [175320385, 175320419, 175320429]    NaN   NaN     NaN     NaN  39.830399   \n",
       "\n",
       "      종료점_고도     고도의_차이  \n",
       "0  21.125259  18.705139  "
      ]
     },
     "execution_count": 3,
     "metadata": {},
     "output_type": "execute_result"
    }
   ],
   "source": [
    "data = pd.read_csv(data_url)\n",
    "data.head(1)"
   ]
  },
  {
   "cell_type": "code",
   "execution_count": 4,
   "id": "6a531bdd-8285-41a1-b642-d43b1204c083",
   "metadata": {},
   "outputs": [
    {
     "data": {
      "text/plain": [
       "Index(['도로명', '도로 종류', '시작점_위도', '시작점_경도', '종료점_위도', '종료점_경도', '중앙점_위도',\n",
       "       '중앙점_경도', '도로_길이', '터널 여부', '교량 여부', '서비스 도로 여부', '도로 ID', '속도 제한',\n",
       "       '차선 수', '일방통행 여부', '교차로 여부', '시작점_고도', '종료점_고도', '고도의_차이'],\n",
       "      dtype='object')"
      ]
     },
     "execution_count": 4,
     "metadata": {},
     "output_type": "execute_result"
    }
   ],
   "source": [
    "data.columns"
   ]
  },
  {
   "cell_type": "code",
   "execution_count": 5,
   "id": "09f4b06d-6643-42dc-b344-c493cd0fe4bf",
   "metadata": {},
   "outputs": [],
   "source": [
    "# 길이 기반\n",
    "length = data['도로_길이'].to_list()\n",
    "different_alt = data['고도의_차이'].to_list()"
   ]
  },
  {
   "cell_type": "code",
   "execution_count": 6,
   "id": "c8964556-23e2-40c8-b11a-fd94f60051c0",
   "metadata": {},
   "outputs": [
    {
     "name": "stdout",
     "output_type": "stream",
     "text": [
      "length 길이 : 6232\n",
      "different_alt 길이 : 6232\n"
     ]
    }
   ],
   "source": [
    "# 불러온 값의 길이 확인\n",
    "len_1 = len(length)\n",
    "len_2 = len(different_alt)\n",
    "max_len = None\n",
    "\n",
    "\n",
    "if len_1 == len_2 :\n",
    "    max_len = len_1 \n",
    "    print(f'length 길이 : {len_1}')\n",
    "    print(f'different_alt 길이 : {len_2}')\n",
    "else :\n",
    "    max_len = 0"
   ]
  },
  {
   "cell_type": "code",
   "execution_count": 7,
   "id": "c7f3a889-1480-4974-8df6-6a5eaa42e5fb",
   "metadata": {},
   "outputs": [],
   "source": [
    "import numpy as np"
   ]
  },
  {
   "cell_type": "code",
   "execution_count": 8,
   "id": "6e3ac8fd-b6a2-4c7b-af3d-3ee6c870d064",
   "metadata": {},
   "outputs": [],
   "source": [
    "# 결과 저장 리스트\n",
    "road_slope = []"
   ]
  },
  {
   "cell_type": "code",
   "execution_count": 9,
   "id": "8f3ade2b-e284-499e-9a31-27e229c40856",
   "metadata": {},
   "outputs": [],
   "source": [
    "for i in range(max_len) : \n",
    "    theta = np.degrees(np.arctan2(different_alt[i], length[i]))\n",
    "    road_slope.append(theta)"
   ]
  },
  {
   "cell_type": "code",
   "execution_count": 10,
   "id": "41d9c405-300f-4ce9-aa55-f9e08b3cad8a",
   "metadata": {},
   "outputs": [
    {
     "name": "stdout",
     "output_type": "stream",
     "text": [
      "변환한 road_slope의 길이 : 6232\n"
     ]
    }
   ],
   "source": [
    "print(f'변환한 road_slope의 길이 : {len(road_slope)}')"
   ]
  },
  {
   "cell_type": "code",
   "execution_count": 11,
   "id": "be11b7d7-39f1-424f-9d90-96490b0cdb82",
   "metadata": {},
   "outputs": [],
   "source": [
    "new_add_df = pd.DataFrame({\n",
    "    '경사각' : road_slope\n",
    "})"
   ]
  },
  {
   "cell_type": "code",
   "execution_count": 12,
   "id": "b35031cc-ca59-418c-811c-9e9089ef39fd",
   "metadata": {},
   "outputs": [],
   "source": [
    "data['경사각'] = new_add_df"
   ]
  },
  {
   "cell_type": "code",
   "execution_count": 13,
   "id": "0c56ddc2-a61f-416e-af16-c93c48df555a",
   "metadata": {},
   "outputs": [
    {
     "data": {
      "text/plain": [
       "Index(['도로명', '도로 종류', '시작점_위도', '시작점_경도', '종료점_위도', '종료점_경도', '중앙점_위도',\n",
       "       '중앙점_경도', '도로_길이', '터널 여부', '교량 여부', '서비스 도로 여부', '도로 ID', '속도 제한',\n",
       "       '차선 수', '일방통행 여부', '교차로 여부', '시작점_고도', '종료점_고도', '고도의_차이', '경사각'],\n",
       "      dtype='object')"
      ]
     },
     "execution_count": 13,
     "metadata": {},
     "output_type": "execute_result"
    }
   ],
   "source": [
    "data.columns"
   ]
  },
  {
   "cell_type": "code",
   "execution_count": 14,
   "id": "d6cd295b-e911-4204-b982-b1b371ecac9c",
   "metadata": {},
   "outputs": [],
   "source": [
    "new_order = [\n",
    "    '도로명', '도로 종류', '시작점_위도', '시작점_경도', '종료점_위도', '종료점_경도',\n",
    "    '중앙점_위도', '중앙점_경도', '시작점_고도', '종료점_고도', '고도의_차이', '경사각', '도로_길이'\n",
    "] + [col for col in data.columns if col not in [\n",
    "    '도로명', '도로 종류', '시작점_위도', '시작점_경도', '종료점_위도', '종료점_경도',\n",
    "    '중앙점_위도', '중앙점_경도', '시작점_고도', '종료점_고도', '고도의_차이', '경사각', '도로_길이'\n",
    "]]\n",
    "\n",
    "# 컬럼 순서 재배열\n",
    "data = data[new_order]\n"
   ]
  },
  {
   "cell_type": "code",
   "execution_count": 15,
   "id": "2cfd92e4-a825-464b-8a35-c479d86f7829",
   "metadata": {},
   "outputs": [
    {
     "data": {
      "text/plain": [
       "Index(['도로명', '도로 종류', '시작점_위도', '시작점_경도', '종료점_위도', '종료점_경도', '중앙점_위도',\n",
       "       '중앙점_경도', '시작점_고도', '종료점_고도', '고도의_차이', '경사각', '도로_길이', '터널 여부',\n",
       "       '교량 여부', '서비스 도로 여부', '도로 ID', '속도 제한', '차선 수', '일방통행 여부', '교차로 여부'],\n",
       "      dtype='object')"
      ]
     },
     "execution_count": 15,
     "metadata": {},
     "output_type": "execute_result"
    }
   ],
   "source": [
    "data.columns"
   ]
  },
  {
   "cell_type": "code",
   "execution_count": 16,
   "id": "33438045-5027-48b7-84de-fd27589e6f29",
   "metadata": {},
   "outputs": [
    {
     "data": {
      "text/html": [
       "<div>\n",
       "<style scoped>\n",
       "    .dataframe tbody tr th:only-of-type {\n",
       "        vertical-align: middle;\n",
       "    }\n",
       "\n",
       "    .dataframe tbody tr th {\n",
       "        vertical-align: top;\n",
       "    }\n",
       "\n",
       "    .dataframe thead th {\n",
       "        text-align: right;\n",
       "    }\n",
       "</style>\n",
       "<table border=\"1\" class=\"dataframe\">\n",
       "  <thead>\n",
       "    <tr style=\"text-align: right;\">\n",
       "      <th></th>\n",
       "      <th>도로명</th>\n",
       "      <th>도로 종류</th>\n",
       "      <th>시작점_위도</th>\n",
       "      <th>시작점_경도</th>\n",
       "      <th>종료점_위도</th>\n",
       "      <th>종료점_경도</th>\n",
       "      <th>중앙점_위도</th>\n",
       "      <th>중앙점_경도</th>\n",
       "      <th>시작점_고도</th>\n",
       "      <th>종료점_고도</th>\n",
       "      <th>...</th>\n",
       "      <th>경사각</th>\n",
       "      <th>도로_길이</th>\n",
       "      <th>터널 여부</th>\n",
       "      <th>교량 여부</th>\n",
       "      <th>서비스 도로 여부</th>\n",
       "      <th>도로 ID</th>\n",
       "      <th>속도 제한</th>\n",
       "      <th>차선 수</th>\n",
       "      <th>일방통행 여부</th>\n",
       "      <th>교차로 여부</th>\n",
       "    </tr>\n",
       "  </thead>\n",
       "  <tbody>\n",
       "    <tr>\n",
       "      <th>0</th>\n",
       "      <td>['광장앞지하차도', '광장로']</td>\n",
       "      <td>3차로</td>\n",
       "      <td>37.545509</td>\n",
       "      <td>127.097772</td>\n",
       "      <td>37.546747</td>\n",
       "      <td>127.102031</td>\n",
       "      <td>37.546128</td>\n",
       "      <td>127.099902</td>\n",
       "      <td>39.830399</td>\n",
       "      <td>21.125259</td>\n",
       "      <td>...</td>\n",
       "      <td>2.487682</td>\n",
       "      <td>430.542185</td>\n",
       "      <td>yes</td>\n",
       "      <td>NaN</td>\n",
       "      <td>NaN</td>\n",
       "      <td>[175320385, 175320419, 175320429]</td>\n",
       "      <td>NaN</td>\n",
       "      <td>NaN</td>\n",
       "      <td>NaN</td>\n",
       "      <td>NaN</td>\n",
       "    </tr>\n",
       "    <tr>\n",
       "      <th>1</th>\n",
       "      <td>워커힐로</td>\n",
       "      <td>주거지 도로</td>\n",
       "      <td>37.545509</td>\n",
       "      <td>127.097772</td>\n",
       "      <td>37.546539</td>\n",
       "      <td>127.098053</td>\n",
       "      <td>37.546024</td>\n",
       "      <td>127.097913</td>\n",
       "      <td>39.830399</td>\n",
       "      <td>50.531334</td>\n",
       "      <td>...</td>\n",
       "      <td>5.209767</td>\n",
       "      <td>117.361840</td>\n",
       "      <td>NaN</td>\n",
       "      <td>NaN</td>\n",
       "      <td>NaN</td>\n",
       "      <td>516647748</td>\n",
       "      <td>NaN</td>\n",
       "      <td>NaN</td>\n",
       "      <td>NaN</td>\n",
       "      <td>NaN</td>\n",
       "    </tr>\n",
       "    <tr>\n",
       "      <th>2</th>\n",
       "      <td>워커힐로</td>\n",
       "      <td>주거지 도로</td>\n",
       "      <td>37.545509</td>\n",
       "      <td>127.097772</td>\n",
       "      <td>37.543981</td>\n",
       "      <td>127.097208</td>\n",
       "      <td>37.544745</td>\n",
       "      <td>127.097490</td>\n",
       "      <td>39.830399</td>\n",
       "      <td>30.904158</td>\n",
       "      <td>...</td>\n",
       "      <td>2.883715</td>\n",
       "      <td>177.203342</td>\n",
       "      <td>NaN</td>\n",
       "      <td>NaN</td>\n",
       "      <td>NaN</td>\n",
       "      <td>516647752</td>\n",
       "      <td>NaN</td>\n",
       "      <td>NaN</td>\n",
       "      <td>NaN</td>\n",
       "      <td>NaN</td>\n",
       "    </tr>\n",
       "    <tr>\n",
       "      <th>3</th>\n",
       "      <td>자양번영로</td>\n",
       "      <td>3차로</td>\n",
       "      <td>37.533200</td>\n",
       "      <td>127.075680</td>\n",
       "      <td>37.533816</td>\n",
       "      <td>127.075863</td>\n",
       "      <td>37.533508</td>\n",
       "      <td>127.075772</td>\n",
       "      <td>15.159596</td>\n",
       "      <td>15.783295</td>\n",
       "      <td>...</td>\n",
       "      <td>0.507954</td>\n",
       "      <td>70.349590</td>\n",
       "      <td>NaN</td>\n",
       "      <td>NaN</td>\n",
       "      <td>NaN</td>\n",
       "      <td>37401581</td>\n",
       "      <td>30.0</td>\n",
       "      <td>4.0</td>\n",
       "      <td>NaN</td>\n",
       "      <td>NaN</td>\n",
       "    </tr>\n",
       "    <tr>\n",
       "      <th>4</th>\n",
       "      <td>자양번영로</td>\n",
       "      <td>3차로</td>\n",
       "      <td>37.533200</td>\n",
       "      <td>127.075680</td>\n",
       "      <td>37.532597</td>\n",
       "      <td>127.075517</td>\n",
       "      <td>37.532898</td>\n",
       "      <td>127.075599</td>\n",
       "      <td>15.159596</td>\n",
       "      <td>14.775410</td>\n",
       "      <td>...</td>\n",
       "      <td>0.321100</td>\n",
       "      <td>68.552097</td>\n",
       "      <td>NaN</td>\n",
       "      <td>NaN</td>\n",
       "      <td>NaN</td>\n",
       "      <td>516723466</td>\n",
       "      <td>NaN</td>\n",
       "      <td>NaN</td>\n",
       "      <td>NaN</td>\n",
       "      <td>NaN</td>\n",
       "    </tr>\n",
       "  </tbody>\n",
       "</table>\n",
       "<p>5 rows × 21 columns</p>\n",
       "</div>"
      ],
      "text/plain": [
       "                  도로명   도로 종류     시작점_위도      시작점_경도     종료점_위도      종료점_경도  \\\n",
       "0  ['광장앞지하차도', '광장로']     3차로  37.545509  127.097772  37.546747  127.102031   \n",
       "1                워커힐로  주거지 도로  37.545509  127.097772  37.546539  127.098053   \n",
       "2                워커힐로  주거지 도로  37.545509  127.097772  37.543981  127.097208   \n",
       "3               자양번영로     3차로  37.533200  127.075680  37.533816  127.075863   \n",
       "4               자양번영로     3차로  37.533200  127.075680  37.532597  127.075517   \n",
       "\n",
       "      중앙점_위도      중앙점_경도     시작점_고도     종료점_고도  ...       경사각       도로_길이  \\\n",
       "0  37.546128  127.099902  39.830399  21.125259  ...  2.487682  430.542185   \n",
       "1  37.546024  127.097913  39.830399  50.531334  ...  5.209767  117.361840   \n",
       "2  37.544745  127.097490  39.830399  30.904158  ...  2.883715  177.203342   \n",
       "3  37.533508  127.075772  15.159596  15.783295  ...  0.507954   70.349590   \n",
       "4  37.532898  127.075599  15.159596  14.775410  ...  0.321100   68.552097   \n",
       "\n",
       "   터널 여부 교량 여부  서비스 도로 여부                              도로 ID 속도 제한  차선 수  \\\n",
       "0    yes   NaN        NaN  [175320385, 175320419, 175320429]   NaN   NaN   \n",
       "1    NaN   NaN        NaN                          516647748   NaN   NaN   \n",
       "2    NaN   NaN        NaN                          516647752   NaN   NaN   \n",
       "3    NaN   NaN        NaN                           37401581  30.0   4.0   \n",
       "4    NaN   NaN        NaN                          516723466   NaN   NaN   \n",
       "\n",
       "   일방통행 여부 교차로 여부  \n",
       "0      NaN    NaN  \n",
       "1      NaN    NaN  \n",
       "2      NaN    NaN  \n",
       "3      NaN    NaN  \n",
       "4      NaN    NaN  \n",
       "\n",
       "[5 rows x 21 columns]"
      ]
     },
     "execution_count": 16,
     "metadata": {},
     "output_type": "execute_result"
    }
   ],
   "source": [
    "data.head(5)"
   ]
  },
  {
   "cell_type": "code",
   "execution_count": 17,
   "id": "16daaf5a-3588-421d-9880-7a5b60a010d2",
   "metadata": {},
   "outputs": [
    {
     "name": "stdout",
     "output_type": "stream",
     "text": [
      "./make_file/자동차_도로_고도차이(경사각)_포함_데이터.csv 파일 저장 성공\n"
     ]
    }
   ],
   "source": [
    "try :\n",
    "    save_file_name = './make_file/(최종)자동차_도로_고도차이(경사각)_포함_데이터.csv'\n",
    "    data.to_csv(save_file_name, encoding='euc-kr')\n",
    "    print(f'{save_file_name} 파일 저장 성공')\n",
    "except OSError as e: \n",
    "    print(e)"
   ]
  },
  {
   "cell_type": "code",
   "execution_count": null,
   "id": "250032a5-723f-4364-b3d9-c4402c4e0e5b",
   "metadata": {},
   "outputs": [],
   "source": []
  }
 ],
 "metadata": {
  "kernelspec": {
   "display_name": "Python 3 (ipykernel)",
   "language": "python",
   "name": "python3"
  },
  "language_info": {
   "codemirror_mode": {
    "name": "ipython",
    "version": 3
   },
   "file_extension": ".py",
   "mimetype": "text/x-python",
   "name": "python",
   "nbconvert_exporter": "python",
   "pygments_lexer": "ipython3",
   "version": "3.13.2"
  }
 },
 "nbformat": 4,
 "nbformat_minor": 5
}
