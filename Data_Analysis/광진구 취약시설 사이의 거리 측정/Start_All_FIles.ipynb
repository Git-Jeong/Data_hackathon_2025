{
 "cells": [
  {
   "cell_type": "code",
   "execution_count": null,
   "id": "a4a9f454-b5eb-4f79-a212-2504a2d662bb",
   "metadata": {},
   "outputs": [
    {
     "name": "stdout",
     "output_type": "stream",
     "text": [
      "[NbConvertApp] Converting notebook KDTree_기반_도로_취약시설_거리측정.ipynb to notebook\n"
     ]
    }
   ],
   "source": [
    "try :\n",
    "    !jupyter nbconvert --to notebook --execute --output KDTree_기반_도로_취약시설_거리측정.ipynb KDTree_기반_도로_취약시설_거리측정.ipynb\n",
    "    !jupyter nbconvert --to notebook --execute --output KDTree_기반_열선_취약시설_거리측정.ipynb KDTree_기반_열선_취약시설_거리측정.ipynb\n",
    "    !jupyter nbconvert --to notebook --execute --output 두_데이터_파일을_통합.ipynb 두_데이터_파일을_통합.ipynb\n",
    "    print(f'끝')\n",
    "except :\n",
    "    print('err')"
   ]
  },
  {
   "cell_type": "code",
   "execution_count": null,
   "id": "7569cf70-c7ec-4ad6-9a80-2f7b04a31733",
   "metadata": {},
   "outputs": [],
   "source": []
  }
 ],
 "metadata": {
  "kernelspec": {
   "display_name": "Python 3 (ipykernel)",
   "language": "python",
   "name": "python3"
  },
  "language_info": {
   "codemirror_mode": {
    "name": "ipython",
    "version": 3
   },
   "file_extension": ".py",
   "mimetype": "text/x-python",
   "name": "python",
   "nbconvert_exporter": "python",
   "pygments_lexer": "ipython3",
   "version": "3.13.2"
  }
 },
 "nbformat": 4,
 "nbformat_minor": 5
}
