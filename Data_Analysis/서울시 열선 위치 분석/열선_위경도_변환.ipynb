{
 "cells": [
  {
   "cell_type": "code",
   "execution_count": 44,
   "id": "4586a0fd-43e4-42b3-9a57-5f386907ed0e",
   "metadata": {},
   "outputs": [],
   "source": [
    "import pandas as pd\n",
    "import requests\n",
    "from tqdm import tqdm"
   ]
  },
  {
   "cell_type": "markdown",
   "id": "ddda107f-187f-4ad7-8ca0-db58e0e886fc",
   "metadata": {},
   "source": [
    "## KAKAO MAP API"
   ]
  },
  {
   "cell_type": "code",
   "execution_count": 3,
   "id": "6019a96b-76ba-451b-9f01-ec7f2f708e6b",
   "metadata": {},
   "outputs": [],
   "source": [
    "api_key_url = '../API_KEY/API_KEYS.xlsx'\n",
    "open_api_key_file = pd.read_excel(api_key_url)"
   ]
  },
  {
   "cell_type": "code",
   "execution_count": 4,
   "id": "59e0c8d1-b2af-4f05-8fd1-aa4f89cff336",
   "metadata": {},
   "outputs": [
    {
     "data": {
      "text/plain": [
       "사이트\n",
       "공공데이터                 1\n",
       "kakao_api_key_REST    1\n",
       "카카오 JS                1\n",
       "국토부v-world            1\n",
       "GOOGLE_MAP            1\n",
       "Name: count, dtype: int64"
      ]
     },
     "execution_count": 4,
     "metadata": {},
     "output_type": "execute_result"
    }
   ],
   "source": [
    "open_api_key_file['사이트'].value_counts()"
   ]
  },
  {
   "cell_type": "code",
   "execution_count": 5,
   "id": "43508e4f-28e2-4614-a013-f13ed6596504",
   "metadata": {},
   "outputs": [],
   "source": [
    "KAKAO_API_KEY = open_api_key_file[open_api_key_file['사이트'] == 'kakao_api_key_REST'].values[0][1]  "
   ]
  },
  {
   "cell_type": "code",
   "execution_count": 60,
   "id": "811bbf5c-256e-4850-b222-25c4406662d4",
   "metadata": {},
   "outputs": [],
   "source": [
    "def get_lat_lon_from_address(input_address): \n",
    "    \"\"\"\n",
    "    카카오맵 API를 사용하여 주소를 위도, 경도로 변환하는 함수\n",
    "    \n",
    "    :param address: 변환할 주소 (예: \"서울 광진구 능동 25\")\n",
    "    :param api_key: 카카오 REST API 키\n",
    "    :return: (위도, 경도) 튜플 반환, 변환 실패 시 None 반환\n",
    "    \"\"\"\n",
    "    address = \"서울시 \"+ input_address\n",
    "    url = \"https://dapi.kakao.com/v2/local/search/address.json\"\n",
    "    headers = {\"Authorization\": f\"KakaoAK {KAKAO_API_KEY}\"}\n",
    "    params = {\"query\": address}\n",
    "    \n",
    "    response = requests.get(url, headers=headers, params=params)\n",
    "    \n",
    "    if response.status_code == 200:\n",
    "        result = response.json()\n",
    "        if result[\"documents\"]:\n",
    "            x = result[\"documents\"][0][\"x\"]  # 경도 (Longitude)\n",
    "            y = result[\"documents\"][0][\"y\"]  # 위도 (Latitude)\n",
    "            return y, x \n",
    "    return None, None"
   ]
  },
  {
   "cell_type": "code",
   "execution_count": 46,
   "id": "9adfbce7-e467-44d1-8baf-fae768955ae1",
   "metadata": {},
   "outputs": [],
   "source": [
    "url = \"./make_file/통합_서울시_도로_정리(기점_종점).csv\""
   ]
  },
  {
   "cell_type": "code",
   "execution_count": 47,
   "id": "e660d3ae-2b2e-4c9b-b843-2e5ef2450280",
   "metadata": {},
   "outputs": [],
   "source": [
    "data = pd.read_csv(url)"
   ]
  },
  {
   "cell_type": "code",
   "execution_count": 48,
   "id": "c3c19f03-604e-476b-9540-70587695cacc",
   "metadata": {},
   "outputs": [
    {
     "data": {
      "text/plain": [
       "Unnamed: 0    0\n",
       "기점_주소         0\n",
       "종점_주소         0\n",
       "연장(m)         0\n",
       "dtype: int64"
      ]
     },
     "execution_count": 48,
     "metadata": {},
     "output_type": "execute_result"
    }
   ],
   "source": [
    "data.isnull().sum()"
   ]
  },
  {
   "cell_type": "code",
   "execution_count": 49,
   "id": "bdbf6497-d551-4353-bc63-3ca1cdf34e90",
   "metadata": {},
   "outputs": [],
   "source": [
    "try :\n",
    "    data = data.drop(columns='Unnamed: 0')\n",
    "except KeyError as e :\n",
    "    print(e)"
   ]
  },
  {
   "cell_type": "code",
   "execution_count": 50,
   "id": "93af3f4a-f43f-4dac-b3e8-1afcc082d2c5",
   "metadata": {},
   "outputs": [
    {
     "data": {
      "text/html": [
       "<div>\n",
       "<style scoped>\n",
       "    .dataframe tbody tr th:only-of-type {\n",
       "        vertical-align: middle;\n",
       "    }\n",
       "\n",
       "    .dataframe tbody tr th {\n",
       "        vertical-align: top;\n",
       "    }\n",
       "\n",
       "    .dataframe thead th {\n",
       "        text-align: right;\n",
       "    }\n",
       "</style>\n",
       "<table border=\"1\" class=\"dataframe\">\n",
       "  <thead>\n",
       "    <tr style=\"text-align: right;\">\n",
       "      <th></th>\n",
       "      <th>기점_주소</th>\n",
       "      <th>종점_주소</th>\n",
       "      <th>연장(m)</th>\n",
       "    </tr>\n",
       "  </thead>\n",
       "  <tbody>\n",
       "    <tr>\n",
       "      <th>1</th>\n",
       "      <td>명륜길 74</td>\n",
       "      <td>명륜9길 1</td>\n",
       "      <td>160</td>\n",
       "    </tr>\n",
       "    <tr>\n",
       "      <th>2</th>\n",
       "      <td>행촌동 174-5</td>\n",
       "      <td>행촌동171-35</td>\n",
       "      <td>75</td>\n",
       "    </tr>\n",
       "    <tr>\n",
       "      <th>3</th>\n",
       "      <td>행촌동 201-172</td>\n",
       "      <td>행촌동171-120</td>\n",
       "      <td>95</td>\n",
       "    </tr>\n",
       "    <tr>\n",
       "      <th>4</th>\n",
       "      <td>평창동 435-2</td>\n",
       "      <td>평창동 448</td>\n",
       "      <td>150</td>\n",
       "    </tr>\n",
       "    <tr>\n",
       "      <th>5</th>\n",
       "      <td>평창동 66-28</td>\n",
       "      <td>평창동464-14</td>\n",
       "      <td>210</td>\n",
       "    </tr>\n",
       "    <tr>\n",
       "      <th>...</th>\n",
       "      <td>...</td>\n",
       "      <td>...</td>\n",
       "      <td>...</td>\n",
       "    </tr>\n",
       "    <tr>\n",
       "      <th>162</th>\n",
       "      <td>도봉구 도봉산4길 15</td>\n",
       "      <td>도봉구 도봉산4길 28-3</td>\n",
       "      <td>110</td>\n",
       "    </tr>\n",
       "    <tr>\n",
       "      <th>163</th>\n",
       "      <td>도봉구 덕릉로59아길 40</td>\n",
       "      <td>도봉구 덕릉로63가길 18</td>\n",
       "      <td>125</td>\n",
       "    </tr>\n",
       "    <tr>\n",
       "      <th>164</th>\n",
       "      <td>도봉구 노해로62길 106</td>\n",
       "      <td>도봉구 해등로3길 63</td>\n",
       "      <td>200</td>\n",
       "    </tr>\n",
       "    <tr>\n",
       "      <th>165</th>\n",
       "      <td>노원구 덕릉로94길 73</td>\n",
       "      <td>노원구 덕릉로82길 64</td>\n",
       "      <td>150</td>\n",
       "    </tr>\n",
       "    <tr>\n",
       "      <th>166</th>\n",
       "      <td>노원구 한글비석로46길 72</td>\n",
       "      <td>노원구 상계동 1270</td>\n",
       "      <td>120</td>\n",
       "    </tr>\n",
       "  </tbody>\n",
       "</table>\n",
       "<p>166 rows × 3 columns</p>\n",
       "</div>"
      ],
      "text/plain": [
       "               기점_주소           종점_주소  연장(m)\n",
       "1             명륜길 74          명륜9길 1    160\n",
       "2          행촌동 174-5       행촌동171-35     75\n",
       "3        행촌동 201-172      행촌동171-120     95\n",
       "4          평창동 435-2         평창동 448    150\n",
       "5          평창동 66-28       평창동464-14    210\n",
       "..               ...             ...    ...\n",
       "162     도봉구 도봉산4길 15  도봉구 도봉산4길 28-3    110\n",
       "163   도봉구 덕릉로59아길 40  도봉구 덕릉로63가길 18    125\n",
       "164   도봉구 노해로62길 106    도봉구 해등로3길 63    200\n",
       "165    노원구 덕릉로94길 73   노원구 덕릉로82길 64    150\n",
       "166  노원구 한글비석로46길 72    노원구 상계동 1270    120\n",
       "\n",
       "[166 rows x 3 columns]"
      ]
     },
     "execution_count": 50,
     "metadata": {},
     "output_type": "execute_result"
    }
   ],
   "source": [
    "data.index = data.index + 1\n",
    "data"
   ]
  },
  {
   "cell_type": "code",
   "execution_count": 51,
   "id": "92b3ede7-d5df-4875-a186-86942d938bfd",
   "metadata": {},
   "outputs": [
    {
     "data": {
      "text/plain": [
       "Index(['기점_주소', '종점_주소', '연장(m)'], dtype='object')"
      ]
     },
     "execution_count": 51,
     "metadata": {},
     "output_type": "execute_result"
    }
   ],
   "source": [
    "data.columns"
   ]
  },
  {
   "cell_type": "code",
   "execution_count": 61,
   "id": "6afe9992-f6bd-414c-b59e-b7e0595f4d12",
   "metadata": {},
   "outputs": [],
   "source": [
    "start_address_list = data['기점_주소'].to_list()\n",
    "end_address_list = data['종점_주소'].to_list()\n",
    "len_list = data['연장(m)'].to_list()"
   ]
  },
  {
   "cell_type": "code",
   "execution_count": 62,
   "id": "c74bce7c-854e-40b2-8ff7-5918f54619a9",
   "metadata": {},
   "outputs": [
    {
     "name": "stderr",
     "output_type": "stream",
     "text": [
      "100%|█████████████████████████████████████████| 166/166 [00:14<00:00, 11.53it/s]\n",
      "100%|█████████████████████████████████████████| 166/166 [00:16<00:00, 10.31it/s]\n"
     ]
    }
   ],
   "source": [
    "get_start_address_lat = []\n",
    "get_start_address_lon = []\n",
    "\n",
    "get_end_address_lat = []\n",
    "get_end_address_lon = []\n",
    "\n",
    "get_len = []\n",
    "\n",
    "for i in tqdm(range(len(start_address_list))) : \n",
    "    search_address = start_address_list[i]\n",
    "    lat, lon = get_lat_lon_from_address(search_address) \n",
    "    get_start_address_lat.append(lat)\n",
    "    get_start_address_lon.append(lon) \n",
    "    get_len.append(len_list[i])\n",
    "        \n",
    "\n",
    "for i in tqdm(range(len(end_address_list))) : \n",
    "    search_address = end_address_list[i]\n",
    "    lat, lon = get_lat_lon_from_address(search_address)\n",
    "    get_end_address_lat.append(lat)\n",
    "    get_end_address_lon.append(lon)"
   ]
  },
  {
   "cell_type": "code",
   "execution_count": 63,
   "id": "2b04f16c-6984-451f-8f34-33391d81516e",
   "metadata": {},
   "outputs": [
    {
     "name": "stdout",
     "output_type": "stream",
     "text": [
      "166\n",
      "166\n",
      "166\n",
      "166\n",
      "166\n"
     ]
    }
   ],
   "source": [
    "print(len(get_start_address_lat))\n",
    "print(len(get_start_address_lon))\n",
    "print(len(get_end_address_lat))\n",
    "print(len(get_end_address_lon))\n",
    "print(len(get_len))"
   ]
  },
  {
   "cell_type": "code",
   "execution_count": 64,
   "id": "4639caee-361e-419c-8825-2561857cabda",
   "metadata": {},
   "outputs": [],
   "source": [
    "df = pd.DataFrame({\n",
    "    '시점_위도' : get_start_address_lat,\n",
    "    '시점_경도' : get_start_address_lon,\n",
    "    '종점_위도' : get_end_address_lat,\n",
    "    '종덤_경도' : get_end_address_lon,\n",
    "    '길이' : get_len\n",
    "})"
   ]
  },
  {
   "cell_type": "code",
   "execution_count": 65,
   "id": "5eb1cfed-e1aa-4e21-b235-12f14ef0dec0",
   "metadata": {},
   "outputs": [
    {
     "data": {
      "text/plain": [
       "시점_위도     7\n",
       "시점_경도     7\n",
       "종점_위도    15\n",
       "종덤_경도    15\n",
       "길이        0\n",
       "dtype: int64"
      ]
     },
     "execution_count": 65,
     "metadata": {},
     "output_type": "execute_result"
    }
   ],
   "source": [
    "df.isnull().sum()"
   ]
  },
  {
   "cell_type": "code",
   "execution_count": 69,
   "id": "ed489bd4-2fe6-48d7-9623-5b642d569e59",
   "metadata": {},
   "outputs": [],
   "source": [
    "df_not_null = df.dropna(axis=0)"
   ]
  },
  {
   "cell_type": "code",
   "execution_count": 72,
   "id": "2fd6c5b1-2215-416d-ae83-dd5a1368f2a3",
   "metadata": {},
   "outputs": [],
   "source": [
    "df_not_null = df_not_null.reset_index(drop=True)"
   ]
  },
  {
   "cell_type": "code",
   "execution_count": 74,
   "id": "64e370e3-ba4d-4e94-8c54-648b1219cecc",
   "metadata": {},
   "outputs": [
    {
     "data": {
      "text/plain": [
       "144"
      ]
     },
     "execution_count": 74,
     "metadata": {},
     "output_type": "execute_result"
    }
   ],
   "source": [
    "len(df_not_null)"
   ]
  },
  {
   "cell_type": "code",
   "execution_count": 73,
   "id": "06b79cde-1f09-4e56-a79a-f024c96771fd",
   "metadata": {},
   "outputs": [
    {
     "data": {
      "text/plain": [
       "시점_위도    0\n",
       "시점_경도    0\n",
       "종점_위도    0\n",
       "종덤_경도    0\n",
       "길이       0\n",
       "dtype: int64"
      ]
     },
     "execution_count": 73,
     "metadata": {},
     "output_type": "execute_result"
    }
   ],
   "source": [
    "df_not_null.isnull().sum()"
   ]
  },
  {
   "cell_type": "code",
   "execution_count": 76,
   "id": "34b6d134-feb9-4d32-9d3b-fa20d8bd9807",
   "metadata": {},
   "outputs": [
    {
     "name": "stdout",
     "output_type": "stream",
     "text": [
      "./make_file/(위경도)_서울시_도로_정리(기점_종점).csv 파일 저장 완료\n"
     ]
    }
   ],
   "source": [
    "try :\n",
    "    save_url = \"./make_file/(위경도)_서울시_도로_정리(기점_종점).csv\" \n",
    "    df_not_null.to_csv(save_url)\n",
    "    print(f\"{save_url} 파일 저장 완료\")\n",
    "except OSError as e :\n",
    "    print(e)"
   ]
  },
  {
   "cell_type": "code",
   "execution_count": null,
   "id": "e0025f3b-9c25-499e-adb9-763d1059c64b",
   "metadata": {},
   "outputs": [],
   "source": []
  }
 ],
 "metadata": {
  "kernelspec": {
   "display_name": "Python 3 (ipykernel)",
   "language": "python",
   "name": "python3"
  },
  "language_info": {
   "codemirror_mode": {
    "name": "ipython",
    "version": 3
   },
   "file_extension": ".py",
   "mimetype": "text/x-python",
   "name": "python",
   "nbconvert_exporter": "python",
   "pygments_lexer": "ipython3",
   "version": "3.13.2"
  }
 },
 "nbformat": 4,
 "nbformat_minor": 5
}
