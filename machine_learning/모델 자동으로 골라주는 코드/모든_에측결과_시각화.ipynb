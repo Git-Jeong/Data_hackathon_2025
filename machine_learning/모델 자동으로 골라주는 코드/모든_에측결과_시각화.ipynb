{
 "cells": [
  {
   "cell_type": "code",
   "execution_count": 15,
   "id": "d7f2b43f-ee87-4de3-ae3c-50b3ee7566b9",
   "metadata": {},
   "outputs": [],
   "source": [
    "import pandas as pd\n",
    "import folium\n",
    "import os"
   ]
  },
  {
   "cell_type": "code",
   "execution_count": 16,
   "id": "1e15e769-44dc-4bad-b03b-24dcdec7961f",
   "metadata": {},
   "outputs": [],
   "source": [
    "# 파일이 저장된 폴더 경로\n",
    "folder_path = \"./make_file/\"\n",
    "file_encoding = \"utf-8\""
   ]
  },
  {
   "cell_type": "code",
   "execution_count": 17,
   "id": "9d55e011-c95a-41e1-9cd9-92d41b23e4f4",
   "metadata": {},
   "outputs": [],
   "source": [
    "# 조건을 만족하는 파일 목록\n",
    "valid_files = []"
   ]
  },
  {
   "cell_type": "code",
   "execution_count": 18,
   "id": "7c016fd7-62ff-4ab7-bf15-303f4b7190d6",
   "metadata": {},
   "outputs": [],
   "source": [
    "for temp_file_name in os.listdir(folder_path):\n",
    "    file_name = temp_file_name.replace(\"_\", \" \") \n",
    "    if \"분석한 결과\" in file_name and file_name.endswith(\".csv\"):\n",
    "        file_path = os.path.join(folder_path, temp_file_name)  # 안전한 경로 조합\n",
    "\n",
    "        try:\n",
    "            # CSV 파일 전체 읽기\n",
    "            df = pd.read_csv(file_path, encoding=file_encoding)\n",
    "\n",
    "            # 컬럼명 앞뒤 공백 제거\n",
    "            df.columns = df.columns.str.strip()\n",
    "\n",
    "            # 필요한 컬럼이 존재하는지 확인\n",
    "            if {\"중점_위도\", \"중점_경도\"}.issubset(df.columns):\n",
    "                valid_files.append(file_path)\n",
    "        except Exception as e:\n",
    "            print(f\"파일 {file_name} 처리 중 오류 발생: {e}\")\n"
   ]
  },
  {
   "cell_type": "code",
   "execution_count": 19,
   "id": "f433da98-dc55-4e0b-b751-17a6296b653d",
   "metadata": {},
   "outputs": [
    {
     "name": "stdout",
     "output_type": "stream",
     "text": [
      "감지한 파일 : ./make_file/(증폭)_Logistic Regression_분석한_결과.csv\n",
      "감지한 파일 : ./make_file/(원본)_KNN_분석한_결과.csv\n",
      "감지한 파일 : ./make_file/(증폭)_Gradient Boosting_분석한_결과.csv\n",
      "감지한 파일 : ./make_file/(원본)_Naive Bayes_분석한_결과.csv\n",
      "감지한 파일 : ./make_file/(증폭)_Decision Tree_분석한_결과.csv\n",
      "감지한 파일 : ./make_file/(증폭)_Naive Bayes_분석한_결과.csv\n",
      "감지한 파일 : ./make_file/(증폭)_AdaBoost_분석한_결과.csv\n",
      "감지한 파일 : ./make_file/(원본)_Logistic Regression_분석한_결과.csv\n",
      "감지한 파일 : ./make_file/(원본)_Random Forest_분석한_결과.csv\n",
      "감지한 파일 : ./make_file/(원본)_SVM_분석한_결과.csv\n",
      "감지한 파일 : ./make_file/(원본)_Gradient Boosting_분석한_결과.csv\n",
      "감지한 파일 : ./make_file/(증폭)_SVM_분석한_결과.csv\n",
      "감지한 파일 : ./make_file/(원본)_Extra Trees_분석한_결과.csv\n",
      "감지한 파일 : ./make_file/(원본)_AdaBoost_분석한_결과.csv\n",
      "감지한 파일 : ./make_file/(증폭)_Random Forest_분석한_결과.csv\n",
      "감지한 파일 : ./make_file/(증폭)_XGBoost_분석한_결과.csv\n",
      "감지한 파일 : ./make_file/(증폭)_Extra Trees_분석한_결과.csv\n",
      "감지한 파일 : ./make_file/(증폭)_KNN_분석한_결과.csv\n",
      "감지한 파일 : ./make_file/(원본)_XGBoost_분석한_결과.csv\n",
      "감지한 파일 : ./make_file/(원본)_Decision Tree_분석한_결과.csv\n"
     ]
    }
   ],
   "source": [
    "for i in valid_files :\n",
    "    print(f\"감지한 파일 : {i}\")"
   ]
  },
  {
   "cell_type": "code",
   "execution_count": 20,
   "id": "cf04624e-294b-4a8a-8f79-fd46fdde1c16",
   "metadata": {},
   "outputs": [
    {
     "name": "stdout",
     "output_type": "stream",
     "text": [
      "./make_file/(증폭)_Logistic Regression_분석한_결과.csv\n",
      "./make_file/(원본)_KNN_분석한_결과.csv\n",
      "./make_file/(증폭)_Gradient Boosting_분석한_결과.csv\n",
      "./make_file/(원본)_Naive Bayes_분석한_결과.csv\n",
      "./make_file/(증폭)_Decision Tree_분석한_결과.csv\n",
      "./make_file/(증폭)_Naive Bayes_분석한_결과.csv\n",
      "./make_file/(증폭)_AdaBoost_분석한_결과.csv\n",
      "./make_file/(원본)_Logistic Regression_분석한_결과.csv\n",
      "./make_file/(원본)_Random Forest_분석한_결과.csv\n",
      "./make_file/(원본)_SVM_분석한_결과.csv\n",
      "./make_file/(원본)_Gradient Boosting_분석한_결과.csv\n",
      "./make_file/(증폭)_SVM_분석한_결과.csv\n",
      "./make_file/(원본)_Extra Trees_분석한_결과.csv\n",
      "./make_file/(원본)_AdaBoost_분석한_결과.csv\n",
      "./make_file/(증폭)_Random Forest_분석한_결과.csv\n",
      "./make_file/(증폭)_XGBoost_분석한_결과.csv\n",
      "./make_file/(증폭)_Extra Trees_분석한_결과.csv\n",
      "./make_file/(증폭)_KNN_분석한_결과.csv\n",
      "./make_file/(원본)_XGBoost_분석한_결과.csv\n",
      "./make_file/(원본)_Decision Tree_분석한_결과.csv\n"
     ]
    }
   ],
   "source": [
    "for file_path in valid_files: \n",
    "    print(file_path)"
   ]
  },
  {
   "cell_type": "code",
   "execution_count": 21,
   "id": "794bece1-e061-4f43-ba37-a952c2db439a",
   "metadata": {},
   "outputs": [
    {
     "name": "stdout",
     "output_type": "stream",
     "text": [
      "./make_file/(증폭)_Logistic Regression_분석한_결과.csv 지도 저장 완료\n",
      "./make_file/(원본)_KNN_분석한_결과.csv 지도 저장 완료\n",
      "./make_file/(증폭)_Gradient Boosting_분석한_결과.csv 지도 저장 완료\n",
      "./make_file/(원본)_Naive Bayes_분석한_결과.csv 지도 저장 완료\n",
      "./make_file/(증폭)_Decision Tree_분석한_결과.csv 지도 저장 완료\n",
      "./make_file/(증폭)_Naive Bayes_분석한_결과.csv 지도 저장 완료\n",
      "./make_file/(증폭)_AdaBoost_분석한_결과.csv 지도 저장 완료\n",
      "./make_file/(원본)_Random Forest_분석한_결과.csv 지도 저장 완료\n",
      "./make_file/(원본)_Gradient Boosting_분석한_결과.csv 지도 저장 완료\n",
      "./make_file/(증폭)_SVM_분석한_결과.csv 지도 저장 완료\n",
      "./make_file/(원본)_Extra Trees_분석한_결과.csv 지도 저장 완료\n",
      "./make_file/(원본)_AdaBoost_분석한_결과.csv 지도 저장 완료\n",
      "./make_file/(증폭)_Random Forest_분석한_결과.csv 지도 저장 완료\n",
      "./make_file/(증폭)_XGBoost_분석한_결과.csv 지도 저장 완료\n",
      "./make_file/(증폭)_Extra Trees_분석한_결과.csv 지도 저장 완료\n",
      "./make_file/(증폭)_KNN_분석한_결과.csv 지도 저장 완료\n",
      "./make_file/(원본)_XGBoost_분석한_결과.csv 지도 저장 완료\n",
      "./make_file/(원본)_Decision Tree_분석한_결과.csv 지도 저장 완료\n"
     ]
    }
   ],
   "source": [
    "for file_path in valid_files:  \n",
    "    data = pd.read_csv(file_path, encoding=file_encoding)\n",
    "\n",
    "    if(len(data) > 0) :\n",
    "    # 기본 지도 생성 (초기 위치 설정)\n",
    "        map_center = [data['중점_위도'].mean(), data['중점_경도'].mean()]\n",
    "        m_map = folium.Map(location=map_center, zoom_start=12)\n",
    "        \n",
    "        # 데이터의 각 행에 대해 마커 추가\n",
    "        for index, row in data.iterrows():\n",
    "            folium.Marker([row['중점_위도'], row['중점_경도']]).add_to(m_map)\n",
    "\n",
    "        if \"원본\" in file_path :\n",
    "            temp_file_path = file_path.replace(\"make_file/\", \"make_file/원본_html/\")\n",
    "        else :\n",
    "            temp_file_path = file_path.replace(\"make_file/\", \"make_file/증폭_html/\")\n",
    "        temp_file_path = temp_file_path.replace(\".csv\", \"\")\n",
    "        # 저장할 파일 이름 생성\n",
    "        save_path = f'{temp_file_path}.html'\n",
    "        \n",
    "        # 지도 출력\n",
    "        m_map.save(save_path)\n",
    "        print(f\"{file_path} 지도 저장 완료\")"
   ]
  },
  {
   "cell_type": "code",
   "execution_count": null,
   "id": "485ab894-2bf3-42f1-a340-e62392c82d20",
   "metadata": {},
   "outputs": [],
   "source": []
  },
  {
   "cell_type": "code",
   "execution_count": null,
   "id": "07cef0a4-a57f-4109-8861-df0bbb2fb507",
   "metadata": {},
   "outputs": [],
   "source": []
  },
  {
   "cell_type": "code",
   "execution_count": null,
   "id": "c8e9e57c-0808-4fdd-8abc-f1909c1cd4f0",
   "metadata": {},
   "outputs": [],
   "source": []
  },
  {
   "cell_type": "code",
   "execution_count": null,
   "id": "e3215a57-96c4-4755-9885-34dc918ab664",
   "metadata": {},
   "outputs": [],
   "source": []
  },
  {
   "cell_type": "code",
   "execution_count": null,
   "id": "69404d28-9feb-4402-868a-1dd6db653c33",
   "metadata": {},
   "outputs": [],
   "source": []
  }
 ],
 "metadata": {
  "kernelspec": {
   "display_name": "Python 3 (ipykernel)",
   "language": "python",
   "name": "python3"
  },
  "language_info": {
   "codemirror_mode": {
    "name": "ipython",
    "version": 3
   },
   "file_extension": ".py",
   "mimetype": "text/x-python",
   "name": "python",
   "nbconvert_exporter": "python",
   "pygments_lexer": "ipython3",
   "version": "3.13.2"
  }
 },
 "nbformat": 4,
 "nbformat_minor": 5
}
