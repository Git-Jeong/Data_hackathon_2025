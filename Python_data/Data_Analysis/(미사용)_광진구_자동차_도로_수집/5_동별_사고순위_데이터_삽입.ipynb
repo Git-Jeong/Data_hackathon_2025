{
 "cells": [
  {
   "cell_type": "code",
   "execution_count": 1,
   "id": "28087ec4-2b92-45a0-becf-577b5302c028",
   "metadata": {},
   "outputs": [],
   "source": [
    "import pandas as pd"
   ]
  },
  {
   "cell_type": "code",
   "execution_count": 3,
   "id": "d1b1f09e-04ac-45f3-94a2-ceb1a874f95d",
   "metadata": {},
   "outputs": [],
   "source": [
    "rank_url = \"./data/광진구_동별_사고순위.csv\"\n",
    "road_url = \"./make_file/(동)자동차_도로_고도차이(경사각)_포함_데이터.csv\"\n",
    "file_encoding = \"UTF-8\""
   ]
  },
  {
   "cell_type": "code",
   "execution_count": 15,
   "id": "1fbbb3c5-0f76-4b46-83c1-b9e7a91def76",
   "metadata": {},
   "outputs": [],
   "source": [
    "rank_data = pd.read_csv(rank_url, encoding = file_encoding)\n",
    "road_data = pd.read_csv(road_url, encoding = file_encoding)"
   ]
  },
  {
   "cell_type": "code",
   "execution_count": 16,
   "id": "086ba363-e283-4b70-a85f-0469252907fb",
   "metadata": {},
   "outputs": [
    {
     "data": {
      "text/plain": [
       "Index(['동명', '사고순위'], dtype='object')"
      ]
     },
     "execution_count": 16,
     "metadata": {},
     "output_type": "execute_result"
    }
   ],
   "source": [
    "rank_data.columns"
   ]
  },
  {
   "cell_type": "code",
   "execution_count": 17,
   "id": "9dd18e79-efee-4d22-a7ce-827b56e85044",
   "metadata": {},
   "outputs": [
    {
     "data": {
      "text/plain": [
       "Index(['도로명', '도로 종류', '시작점_위도', '시작점_경도', '종료점_위도', '종료점_경도', '중앙점_위도',\n",
       "       '중앙점_경도', '시작점_고도', '종료점_고도', '고도의_차이', '경사각', '도로_길이', '터널 여부',\n",
       "       '교량 여부', '서비스 도로 여부', '도로 ID', '속도 제한', '차선 수', '일방통행 여부', '교차로 여부',\n",
       "       '행정동', '주소', '도로명_여부'],\n",
       "      dtype='object')"
      ]
     },
     "execution_count": 17,
     "metadata": {},
     "output_type": "execute_result"
    }
   ],
   "source": [
    "road_data.columns"
   ]
  },
  {
   "cell_type": "code",
   "execution_count": 18,
   "id": "2fa2746e-abc9-42b3-985a-9b9db4359ab2",
   "metadata": {},
   "outputs": [
    {
     "name": "stdout",
     "output_type": "stream",
     "text": [
      "0\n",
      "0\n"
     ]
    }
   ],
   "source": [
    "print(road_data['행정동'].isnull().sum())\n",
    "print(road_data['행정동'].isna().sum())"
   ]
  },
  {
   "cell_type": "code",
   "execution_count": 20,
   "id": "0b6619c8-f7d5-4356-88ce-b2290390c271",
   "metadata": {},
   "outputs": [
    {
     "data": {
      "text/html": [
       "<div>\n",
       "<style scoped>\n",
       "    .dataframe tbody tr th:only-of-type {\n",
       "        vertical-align: middle;\n",
       "    }\n",
       "\n",
       "    .dataframe tbody tr th {\n",
       "        vertical-align: top;\n",
       "    }\n",
       "\n",
       "    .dataframe thead th {\n",
       "        text-align: right;\n",
       "    }\n",
       "</style>\n",
       "<table border=\"1\" class=\"dataframe\">\n",
       "  <thead>\n",
       "    <tr style=\"text-align: right;\">\n",
       "      <th></th>\n",
       "      <th>동명</th>\n",
       "      <th>사고순위</th>\n",
       "    </tr>\n",
       "  </thead>\n",
       "  <tbody>\n",
       "    <tr>\n",
       "      <th>0</th>\n",
       "      <td>자양동</td>\n",
       "      <td>1</td>\n",
       "    </tr>\n",
       "    <tr>\n",
       "      <th>1</th>\n",
       "      <td>중곡동</td>\n",
       "      <td>2</td>\n",
       "    </tr>\n",
       "    <tr>\n",
       "      <th>2</th>\n",
       "      <td>구의동</td>\n",
       "      <td>3</td>\n",
       "    </tr>\n",
       "    <tr>\n",
       "      <th>3</th>\n",
       "      <td>화양동</td>\n",
       "      <td>4</td>\n",
       "    </tr>\n",
       "    <tr>\n",
       "      <th>4</th>\n",
       "      <td>군자동</td>\n",
       "      <td>5</td>\n",
       "    </tr>\n",
       "    <tr>\n",
       "      <th>5</th>\n",
       "      <td>광장동</td>\n",
       "      <td>6</td>\n",
       "    </tr>\n",
       "    <tr>\n",
       "      <th>6</th>\n",
       "      <td>능동</td>\n",
       "      <td>7</td>\n",
       "    </tr>\n",
       "  </tbody>\n",
       "</table>\n",
       "</div>"
      ],
      "text/plain": [
       "    동명  사고순위\n",
       "0  자양동     1\n",
       "1  중곡동     2\n",
       "2  구의동     3\n",
       "3  화양동     4\n",
       "4  군자동     5\n",
       "5  광장동     6\n",
       "6   능동     7"
      ]
     },
     "execution_count": 20,
     "metadata": {},
     "output_type": "execute_result"
    }
   ],
   "source": [
    "road_data"
   ]
  },
  {
   "cell_type": "code",
   "execution_count": 53,
   "id": "cfac1290-48f3-4293-b02f-1e28105cd6e0",
   "metadata": {},
   "outputs": [],
   "source": [
    "road_data['행정동_사고_순위'] = road_data['행정동'].map(rank_data.set_index('동명')['사고순위'])"
   ]
  },
  {
   "cell_type": "code",
   "execution_count": 55,
   "id": "37c63079-d316-410a-90b4-090613f98848",
   "metadata": {},
   "outputs": [
    {
     "data": {
      "text/plain": [
       "행정동_사고_순위\n",
       "1    1973\n",
       "2    1312\n",
       "3    1244\n",
       "5     720\n",
       "4     557\n",
       "7     232\n",
       "6     194\n",
       "Name: count, dtype: int64"
      ]
     },
     "execution_count": 55,
     "metadata": {},
     "output_type": "execute_result"
    }
   ],
   "source": [
    "road_data['행정동_사고_순위'].value_counts()"
   ]
  },
  {
   "cell_type": "code",
   "execution_count": 57,
   "id": "6e686e2f-621f-47eb-b0e0-a57826237e2a",
   "metadata": {},
   "outputs": [
    {
     "data": {
      "text/html": [
       "<div>\n",
       "<style scoped>\n",
       "    .dataframe tbody tr th:only-of-type {\n",
       "        vertical-align: middle;\n",
       "    }\n",
       "\n",
       "    .dataframe tbody tr th {\n",
       "        vertical-align: top;\n",
       "    }\n",
       "\n",
       "    .dataframe thead th {\n",
       "        text-align: right;\n",
       "    }\n",
       "</style>\n",
       "<table border=\"1\" class=\"dataframe\">\n",
       "  <thead>\n",
       "    <tr style=\"text-align: right;\">\n",
       "      <th></th>\n",
       "      <th>도로명</th>\n",
       "      <th>도로 종류</th>\n",
       "      <th>시작점_위도</th>\n",
       "      <th>시작점_경도</th>\n",
       "      <th>종료점_위도</th>\n",
       "      <th>종료점_경도</th>\n",
       "      <th>중앙점_위도</th>\n",
       "      <th>중앙점_경도</th>\n",
       "      <th>시작점_고도</th>\n",
       "      <th>종료점_고도</th>\n",
       "      <th>...</th>\n",
       "      <th>서비스 도로 여부</th>\n",
       "      <th>도로 ID</th>\n",
       "      <th>속도 제한</th>\n",
       "      <th>차선 수</th>\n",
       "      <th>일방통행 여부</th>\n",
       "      <th>교차로 여부</th>\n",
       "      <th>행정동</th>\n",
       "      <th>주소</th>\n",
       "      <th>도로명_여부</th>\n",
       "      <th>행정동_사고_순위</th>\n",
       "    </tr>\n",
       "  </thead>\n",
       "  <tbody>\n",
       "    <tr>\n",
       "      <th>0</th>\n",
       "      <td>['광장앞지하차도', '광장로']</td>\n",
       "      <td>3차로</td>\n",
       "      <td>37.545509</td>\n",
       "      <td>127.097772</td>\n",
       "      <td>37.546747</td>\n",
       "      <td>127.102031</td>\n",
       "      <td>37.546128</td>\n",
       "      <td>127.099902</td>\n",
       "      <td>39.830399</td>\n",
       "      <td>21.125259</td>\n",
       "      <td>...</td>\n",
       "      <td>NaN</td>\n",
       "      <td>[175320385, 175320419, 175320429]</td>\n",
       "      <td>NaN</td>\n",
       "      <td>NaN</td>\n",
       "      <td>NaN</td>\n",
       "      <td>NaN</td>\n",
       "      <td>광장동</td>\n",
       "      <td>광장로 11 (광장동)</td>\n",
       "      <td>1</td>\n",
       "      <td>6</td>\n",
       "    </tr>\n",
       "  </tbody>\n",
       "</table>\n",
       "<p>1 rows × 25 columns</p>\n",
       "</div>"
      ],
      "text/plain": [
       "                  도로명 도로 종류     시작점_위도      시작점_경도     종료점_위도      종료점_경도  \\\n",
       "0  ['광장앞지하차도', '광장로']   3차로  37.545509  127.097772  37.546747  127.102031   \n",
       "\n",
       "      중앙점_위도      중앙점_경도     시작점_고도     종료점_고도  ...  서비스 도로 여부  \\\n",
       "0  37.546128  127.099902  39.830399  21.125259  ...        NaN   \n",
       "\n",
       "                               도로 ID  속도 제한 차선 수  일방통행 여부  교차로 여부  행정동  \\\n",
       "0  [175320385, 175320419, 175320429]    NaN  NaN      NaN     NaN  광장동   \n",
       "\n",
       "             주소  도로명_여부 행정동_사고_순위  \n",
       "0  광장로 11 (광장동)       1         6  \n",
       "\n",
       "[1 rows x 25 columns]"
      ]
     },
     "execution_count": 57,
     "metadata": {},
     "output_type": "execute_result"
    }
   ],
   "source": [
    "road_data.head(1)"
   ]
  },
  {
   "cell_type": "code",
   "execution_count": 64,
   "id": "f14de322-db46-42e3-87c8-23d718ff49b7",
   "metadata": {},
   "outputs": [],
   "source": [
    "# 도로 수 대비 사고율 분석\n",
    "road_rank_df = road_data['행정동'].value_counts().reset_index()\n",
    "road_rank_df.columns = ['행정동', '도로의_수']\n",
    "\n",
    "# 사고건수 추가하기\n",
    "# road_rank_df['사고건수'] = road_rank_df['행정동'].map(rank_data['행정동', '사고건수']) \n",
    "\n",
    "# # 도로수 대비 사고율 계산\n",
    "# road_rank_df['도로수_대비_사고율'] = road_rank_df['사고건수'] / road_rank_df['도로의_수']\n",
    "\n",
    "# # 도로수 대비 사고율 순위 계산 (내림차순) \n",
    "# road_rank_df['도로수_대비_사고순위'] = road_rank_df['도로수_대비_사고율'].rank(ascending=False, method='min').astype(int)\n"
   ]
  },
  {
   "cell_type": "code",
   "execution_count": 65,
   "id": "23ba32f7-8804-4a16-8abf-4dd2f5ef512b",
   "metadata": {},
   "outputs": [
    {
     "data": {
      "text/html": [
       "<div>\n",
       "<style scoped>\n",
       "    .dataframe tbody tr th:only-of-type {\n",
       "        vertical-align: middle;\n",
       "    }\n",
       "\n",
       "    .dataframe tbody tr th {\n",
       "        vertical-align: top;\n",
       "    }\n",
       "\n",
       "    .dataframe thead th {\n",
       "        text-align: right;\n",
       "    }\n",
       "</style>\n",
       "<table border=\"1\" class=\"dataframe\">\n",
       "  <thead>\n",
       "    <tr style=\"text-align: right;\">\n",
       "      <th></th>\n",
       "      <th>행정동</th>\n",
       "      <th>도로의_수</th>\n",
       "    </tr>\n",
       "  </thead>\n",
       "  <tbody>\n",
       "    <tr>\n",
       "      <th>0</th>\n",
       "      <td>자양동</td>\n",
       "      <td>1973</td>\n",
       "    </tr>\n",
       "    <tr>\n",
       "      <th>1</th>\n",
       "      <td>중곡동</td>\n",
       "      <td>1312</td>\n",
       "    </tr>\n",
       "    <tr>\n",
       "      <th>2</th>\n",
       "      <td>구의동</td>\n",
       "      <td>1244</td>\n",
       "    </tr>\n",
       "    <tr>\n",
       "      <th>3</th>\n",
       "      <td>군자동</td>\n",
       "      <td>720</td>\n",
       "    </tr>\n",
       "    <tr>\n",
       "      <th>4</th>\n",
       "      <td>화양동</td>\n",
       "      <td>557</td>\n",
       "    </tr>\n",
       "    <tr>\n",
       "      <th>5</th>\n",
       "      <td>능동</td>\n",
       "      <td>232</td>\n",
       "    </tr>\n",
       "    <tr>\n",
       "      <th>6</th>\n",
       "      <td>광장동</td>\n",
       "      <td>194</td>\n",
       "    </tr>\n",
       "  </tbody>\n",
       "</table>\n",
       "</div>"
      ],
      "text/plain": [
       "   행정동  도로의_수\n",
       "0  자양동   1973\n",
       "1  중곡동   1312\n",
       "2  구의동   1244\n",
       "3  군자동    720\n",
       "4  화양동    557\n",
       "5   능동    232\n",
       "6  광장동    194"
      ]
     },
     "execution_count": 65,
     "metadata": {},
     "output_type": "execute_result"
    }
   ],
   "source": [
    "road_rank_df"
   ]
  },
  {
   "cell_type": "code",
   "execution_count": 66,
   "id": "7e9e9e34-ad45-4c19-bfc1-f193098506f0",
   "metadata": {},
   "outputs": [
    {
     "name": "stdout",
     "output_type": "stream",
     "text": [
      "./make_file/(최종)자동차_도로_고도차이(경사각)_포함_데이터.csv 파일 저장 완료.\n"
     ]
    }
   ],
   "source": [
    "try : \n",
    "    save_url = \"./make_file/(최종)자동차_도로_고도차이(경사각)_포함_데이터.csv\"\n",
    "    road_data.to_csv(save_url, encoding = file_encoding, index = False)\n",
    "    print(f\"{save_url} 파일 저장 완료.\")\n",
    "except OSError as e :\n",
    "    print(e)"
   ]
  },
  {
   "cell_type": "code",
   "execution_count": null,
   "id": "5cf1bb5c-462f-4347-bc0f-38576fc63af4",
   "metadata": {},
   "outputs": [],
   "source": []
  }
 ],
 "metadata": {
  "kernelspec": {
   "display_name": "Python 3 (ipykernel)",
   "language": "python",
   "name": "python3"
  },
  "language_info": {
   "codemirror_mode": {
    "name": "ipython",
    "version": 3
   },
   "file_extension": ".py",
   "mimetype": "text/x-python",
   "name": "python",
   "nbconvert_exporter": "python",
   "pygments_lexer": "ipython3",
   "version": "3.13.2"
  }
 },
 "nbformat": 4,
 "nbformat_minor": 5
}
