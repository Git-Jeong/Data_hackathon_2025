{
 "cells": [
  {
   "cell_type": "code",
   "execution_count": 4,
   "id": "e4f462b1-2015-4c33-b88b-dfa57583ebcf",
   "metadata": {},
   "outputs": [
    {
     "name": "stdout",
     "output_type": "stream",
     "text": [
      "[NbConvertApp] Converting notebook 부족한_데이터를_증폭.ipynb to notebook\n",
      "[NbConvertApp] Writing 24942 bytes to 부족한_데이터를_증폭.ipynb\n",
      "[NbConvertApp] Converting notebook 데이터_모델_돌려보기.ipynb to notebook\n",
      "[NbConvertApp] Writing 43522 bytes to 데이터_모델_돌려보기.ipynb\n",
      "[NbConvertApp] Converting notebook 열선_후보지_시각화.ipynb to notebook\n",
      "[NbConvertApp] Writing 32084 bytes to 열선_후보지_시각화.ipynb\n",
      "끝\n"
     ]
    }
   ],
   "source": [
    "try :\n",
    "    !jupyter nbconvert --to notebook --execute --output 부족한_데이터를_증폭.ipynb 부족한_데이터를_증폭.ipynb\n",
    "    !jupyter nbconvert --to notebook --execute --output 데이터_모델_돌려보기.ipynb 데이터_모델_돌려보기.ipynb\n",
    "    !jupyter nbconvert --to notebook --execute --output 열선_후보지_시각화.ipynb 열선_후보지_시각화.ipynb\n",
    "    print(f'끝')\n",
    "except :\n",
    "    print('err')"
   ]
  },
  {
   "cell_type": "code",
   "execution_count": null,
   "id": "9796d5fa-4ef3-45af-9440-5934cc6affc0",
   "metadata": {},
   "outputs": [],
   "source": []
  },
  {
   "cell_type": "code",
   "execution_count": null,
   "id": "4f709223-7aee-4f8e-889d-b0e2e1bae225",
   "metadata": {},
   "outputs": [],
   "source": []
  }
 ],
 "metadata": {
  "kernelspec": {
   "display_name": "Python 3 (ipykernel)",
   "language": "python",
   "name": "python3"
  },
  "language_info": {
   "codemirror_mode": {
    "name": "ipython",
    "version": 3
   },
   "file_extension": ".py",
   "mimetype": "text/x-python",
   "name": "python",
   "nbconvert_exporter": "python",
   "pygments_lexer": "ipython3",
   "version": "3.13.2"
  }
 },
 "nbformat": 4,
 "nbformat_minor": 5
}
