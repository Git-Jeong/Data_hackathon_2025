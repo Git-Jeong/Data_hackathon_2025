{
 "cells": [
  {
   "cell_type": "markdown",
   "id": "cbd7ee0d-c0cd-4d25-a0ed-a234ec053c61",
   "metadata": {},
   "source": [
    "#### 입력 : ./make_file/division/first_round/서울시_자동차도로_분할_{숫자}.csv \n",
    "#### 출력 : ./make_file/division/second_round/서울시_도로_{숫자}.csv"
   ]
  },
  {
   "cell_type": "markdown",
   "id": "ff87fee7-a617-4be9-821c-526b4d9b6d1d",
   "metadata": {},
   "source": [
    "## 서울시 각 동별로 도로 수가 몇 개 인지 파악하기 위한 것"
   ]
  },
  {
   "cell_type": "code",
   "execution_count": 1,
   "id": "beca1472-9b92-4599-8e3f-dce28f3627b9",
   "metadata": {},
   "outputs": [],
   "source": [
    "import pandas as pd \n",
    "import requests\n",
    "from tqdm import tqdm \n",
    "import os"
   ]
  },
  {
   "cell_type": "code",
   "execution_count": 2,
   "id": "e4b9ab25-ae42-40cd-b9a9-fbbc20261ed4",
   "metadata": {},
   "outputs": [],
   "source": [
    "import pandas as pd \n",
    "import requests\n",
    "from tqdm import tqdm \n",
    "import os\n",
    "import geopandas as gpd \n",
    "from shapely.geometry import Point, Polygon, MultiPolygon \n",
    "import geopandas as gpd\n",
    "import pyproj\n",
    "from shapely.ops import transform"
   ]
  },
  {
   "cell_type": "code",
   "execution_count": 3,
   "id": "b0cbfa82-8561-4865-8f1d-61fee1486b15",
   "metadata": {},
   "outputs": [],
   "source": [
    "# 파일이 저장된 폴더 경로\n",
    "folder_path = \"./make_file/division/first_round/\" \n",
    "file_encoding = \"UTF-8\"\n",
    "\n",
    "output_file_url = \"./make_file/division/second_round/서울시_도로\""
   ]
  },
  {
   "cell_type": "code",
   "execution_count": 4,
   "id": "b489c4d6-1e1a-487c-be4e-daacd4d3f84d",
   "metadata": {},
   "outputs": [],
   "source": [
    "dong_url = \"../데이터_보정/data/BND_ADM_DONG_PG/BND_ADM_DONG_PG.shp\"\n",
    "dong_encoding = \"CP949\""
   ]
  },
  {
   "cell_type": "code",
   "execution_count": 5,
   "id": "ca0a264c-b16c-4ed2-9505-c85dade98292",
   "metadata": {},
   "outputs": [],
   "source": [
    "# 행정동 경계 데이터 로드\n",
    "gdf = gpd.read_file(dong_url, encoding=dong_encoding)"
   ]
  },
  {
   "cell_type": "code",
   "execution_count": 6,
   "id": "db4f991e-f3af-4d8d-8854-1885d3172c6f",
   "metadata": {},
   "outputs": [],
   "source": [
    "# 좌표 변환 함수 정의\n",
    "project = pyproj.Transformer.from_crs(\"EPSG:4326\", \"EPSG:5186\", always_xy=True).transform"
   ]
  },
  {
   "cell_type": "code",
   "execution_count": 7,
   "id": "d5468efb-4951-482e-9ae7-715e37298d78",
   "metadata": {},
   "outputs": [],
   "source": [
    "# 조건을 만족하는 파일 목록\n",
    "valid_files = [] "
   ]
  },
  {
   "cell_type": "code",
   "execution_count": 8,
   "id": "934a73c0-1042-4184-a852-e86c154815ad",
   "metadata": {},
   "outputs": [
    {
     "name": "stdout",
     "output_type": "stream",
     "text": [
      "./make_file/division/second_round/서울시_도로_17.csv 파일이 이미 있습니다.\n",
      "./make_file/division/second_round/서울시_도로_03.csv 파일이 이미 있습니다.\n",
      "./make_file/division/second_round/서울시_도로_02.csv 파일이 이미 있습니다.\n",
      "./make_file/division/second_round/서울시_도로_16.csv 파일이 이미 있습니다.\n",
      "./make_file/division/second_round/서울시_도로_14.csv 파일이 이미 있습니다.\n",
      "./make_file/division/second_round/서울시_도로_15.csv 파일이 이미 있습니다.\n",
      "./make_file/division/second_round/서울시_도로_01.csv 파일이 이미 있습니다.\n",
      "./make_file/division/second_round/서울시_도로_05.csv 파일이 이미 있습니다.\n",
      "./make_file/division/second_round/서울시_도로_11.csv 파일이 이미 있습니다.\n",
      "./make_file/division/second_round/서울시_도로_10.csv 파일이 이미 있습니다.\n"
     ]
    }
   ],
   "source": [
    "for temp_file_name in os.listdir(folder_path):\n",
    "    file_name = temp_file_name.replace(\"_\", \" \") \n",
    "    if \"서울시 자동차도로 분할\" in file_name and file_name.endswith(\".csv\"):\n",
    "        file_path = os.path.join(folder_path, temp_file_name)  # 안전한 경로 조합\n",
    "\n",
    "        try:\n",
    "            # CSV 파일 전체 읽기\n",
    "            df = pd.read_csv(file_path, encoding=file_encoding, low_memory=False)\n",
    "\n",
    "            # 컬럼명 앞뒤 공백 제거\n",
    "            df.columns = df.columns.str.strip()\n",
    "\n",
    "            # 필요한 컬럼이 존재하는지 확인\n",
    "            if {\"중앙점_위도\", \"중앙점_경도\"}.issubset(df.columns):\n",
    "                check = file_name.replace(\"서울시 자동차도로 분할 \" , \"\") \n",
    "                temp_check_file_url = output_file_url + \"_\" + check\n",
    "                \n",
    "                output_check = os.path.isfile(temp_check_file_url) \n",
    "                \n",
    "                if output_check is False :\n",
    "                    valid_files.append(file_path)\n",
    "                else :\n",
    "                    print(f\"{temp_check_file_url} 파일이 이미 있습니다.\")\n",
    "        except Exception as e:\n",
    "            print(f\"파일 {file_name} 처리 중 오류 발생: {e}\")\n"
   ]
  },
  {
   "cell_type": "code",
   "execution_count": 9,
   "id": "23d93c32-81e7-4cef-a64e-44401e2acf37",
   "metadata": {},
   "outputs": [
    {
     "data": {
      "text/plain": [
       "7"
      ]
     },
     "execution_count": 9,
     "metadata": {},
     "output_type": "execute_result"
    }
   ],
   "source": [
    "len(valid_files)"
   ]
  },
  {
   "cell_type": "code",
   "execution_count": 10,
   "id": "c9e95b37-b3f7-4db0-8128-a82c2b9cb881",
   "metadata": {},
   "outputs": [],
   "source": [
    "def get_admin_dong_name(lon, lat):\n",
    "    # 위경도 → EPSG:5186 좌표로 변환\n",
    "    point = transform(project, Point(lon, lat))\n",
    "    # print(\"변환된 좌표:\", point)\n",
    "\n",
    "    for _, row in gdf.iterrows():\n",
    "        geom = row['geometry']\n",
    "        if isinstance(geom, Polygon):\n",
    "            if geom.contains(point):\n",
    "                return row['ADM_NM']\n",
    "        elif isinstance(geom, MultiPolygon):\n",
    "            for poly in geom.geoms:\n",
    "                if poly.contains(point):\n",
    "                    return row['ADM_NM']\n",
    "    return None\n"
   ]
  },
  {
   "cell_type": "code",
   "execution_count": 12,
   "id": "b61bfc2e-ec89-4051-bde9-b35ba07c159c",
   "metadata": {},
   "outputs": [
    {
     "name": "stdout",
     "output_type": "stream",
     "text": [
      "작업 중 : ./make_file/division/first_round/서울시_자동차도로_분할_04.csv\n"
     ]
    },
    {
     "name": "stderr",
     "output_type": "stream",
     "text": [
      "100%|█████████████████████████████████████| 10000/10000 [08:46<00:00, 19.00it/s]\n"
     ]
    },
    {
     "name": "stdout",
     "output_type": "stream",
     "text": [
      "불러온 행정동의 수 : 10000\n",
      "None의 수 : 0\n",
      "./make_file/division/second_round/서울시_도로_04.csv 파일 저장 완료.\n",
      "\n",
      "작업 중 : ./make_file/division/first_round/서울시_자동차도로_분할_12.csv\n"
     ]
    },
    {
     "name": "stderr",
     "output_type": "stream",
     "text": [
      "100%|█████████████████████████████████████| 10000/10000 [08:47<00:00, 18.94it/s]\n"
     ]
    },
    {
     "name": "stdout",
     "output_type": "stream",
     "text": [
      "불러온 행정동의 수 : 10000\n",
      "None의 수 : 0\n",
      "./make_file/division/second_round/서울시_도로_12.csv 파일 저장 완료.\n",
      "\n",
      "작업 중 : ./make_file/division/first_round/서울시_자동차도로_분할_06.csv\n"
     ]
    },
    {
     "name": "stderr",
     "output_type": "stream",
     "text": [
      "100%|█████████████████████████████████████| 10000/10000 [09:03<00:00, 18.40it/s]\n"
     ]
    },
    {
     "name": "stdout",
     "output_type": "stream",
     "text": [
      "불러온 행정동의 수 : 10000\n",
      "None의 수 : 0\n",
      "./make_file/division/second_round/서울시_도로_06.csv 파일 저장 완료.\n",
      "\n",
      "작업 중 : ./make_file/division/first_round/서울시_자동차도로_분할_07.csv\n"
     ]
    },
    {
     "name": "stderr",
     "output_type": "stream",
     "text": [
      "100%|█████████████████████████████████████| 10000/10000 [09:04<00:00, 18.38it/s]\n"
     ]
    },
    {
     "name": "stdout",
     "output_type": "stream",
     "text": [
      "불러온 행정동의 수 : 10000\n",
      "None의 수 : 0\n",
      "./make_file/division/second_round/서울시_도로_07.csv 파일 저장 완료.\n",
      "\n",
      "작업 중 : ./make_file/division/first_round/서울시_자동차도로_분할_13.csv\n"
     ]
    },
    {
     "name": "stderr",
     "output_type": "stream",
     "text": [
      "100%|█████████████████████████████████████| 10000/10000 [09:01<00:00, 18.48it/s]\n"
     ]
    },
    {
     "name": "stdout",
     "output_type": "stream",
     "text": [
      "불러온 행정동의 수 : 10000\n",
      "None의 수 : 0\n",
      "./make_file/division/second_round/서울시_도로_13.csv 파일 저장 완료.\n",
      "\n",
      "작업 중 : ./make_file/division/first_round/서울시_자동차도로_분할_09.csv\n"
     ]
    },
    {
     "name": "stderr",
     "output_type": "stream",
     "text": [
      "100%|█████████████████████████████████████| 10000/10000 [08:06<00:00, 20.57it/s]\n"
     ]
    },
    {
     "name": "stdout",
     "output_type": "stream",
     "text": [
      "불러온 행정동의 수 : 10000\n",
      "None의 수 : 0\n",
      "./make_file/division/second_round/서울시_도로_09.csv 파일 저장 완료.\n",
      "\n",
      "작업 중 : ./make_file/division/first_round/서울시_자동차도로_분할_08.csv\n"
     ]
    },
    {
     "name": "stderr",
     "output_type": "stream",
     "text": [
      "100%|█████████████████████████████████████| 10000/10000 [09:03<00:00, 18.39it/s]"
     ]
    },
    {
     "name": "stdout",
     "output_type": "stream",
     "text": [
      "불러온 행정동의 수 : 10000\n",
      "None의 수 : 0\n",
      "./make_file/division/second_round/서울시_도로_08.csv 파일 저장 완료.\n",
      "\n"
     ]
    },
    {
     "name": "stderr",
     "output_type": "stream",
     "text": [
      "\n"
     ]
    }
   ],
   "source": [
    "for file_path in valid_files:  \n",
    "    data = pd.read_csv(file_path, encoding=file_encoding, low_memory=False)\n",
    "\n",
    "    lat_list = data[\"중앙점_위도\"].to_list()\n",
    "    lon_list = data[\"중앙점_경도\"].to_list() \n",
    "\n",
    "    is_none = 0\n",
    "    \n",
    "    dong_list = [] \n",
    "    print(f\"작업 중 : {file_path}\")\n",
    "    for i in tqdm(range(len(lat_list))):\n",
    "        lat = lat_list[i]\n",
    "        lon = lon_list[i]\n",
    "        dong = get_admin_dong_name(lon, lat)\n",
    "        dong_list.append(dong)   \n",
    "        if dong is None :\n",
    "            is_none += 1\n",
    "            \n",
    "    print(f\"불러온 행정동의 수 : {len(dong_list)}\")\n",
    "    print(f\"None의 수 : {is_none}\")\n",
    "\n",
    "    data[\"행정동\"] = dong_list\n",
    "    \n",
    "    try :\n",
    "        temp_out_url = file_path.replace(\"./make_file/division/first_round/서울시_자동차도로_분할_\" , \"\") \n",
    "        save_file_url = output_file_url + \"_\" + temp_out_url \n",
    "        data.to_csv(save_file_url, index=False)\n",
    "        print(f\"{save_file_url} 파일 저장 완료.\", end =\"\\n\\n\")\n",
    "    except OSError as e :\n",
    "        print(e)"
   ]
  },
  {
   "cell_type": "code",
   "execution_count": null,
   "id": "24ebe283-4f9c-4697-a2d8-d3f2aaabfa66",
   "metadata": {},
   "outputs": [],
   "source": []
  }
 ],
 "metadata": {
  "kernelspec": {
   "display_name": "Python 3 (ipykernel)",
   "language": "python",
   "name": "python3"
  },
  "language_info": {
   "codemirror_mode": {
    "name": "ipython",
    "version": 3
   },
   "file_extension": ".py",
   "mimetype": "text/x-python",
   "name": "python",
   "nbconvert_exporter": "python",
   "pygments_lexer": "ipython3",
   "version": "3.13.2"
  }
 },
 "nbformat": 4,
 "nbformat_minor": 5
}
