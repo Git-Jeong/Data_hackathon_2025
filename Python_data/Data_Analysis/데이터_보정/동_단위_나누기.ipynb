{
 "cells": [
  {
   "cell_type": "code",
   "execution_count": null,
   "id": "d8466bdf-233e-4a22-86af-5e842fc21954",
   "metadata": {},
   "outputs": [],
   "source": []
  },
  {
   "cell_type": "code",
   "execution_count": 105,
   "id": "35982e5f-4b16-4dbd-a14c-8bcac36a0ef9",
   "metadata": {},
   "outputs": [],
   "source": [
    "import pandas as pd \n",
    "import requests\n",
    "from tqdm import tqdm \n",
    "import os\n",
    "import geopandas as gpd \n",
    "from shapely.geometry import Point, Polygon, MultiPolygon \n",
    "import geopandas as gpd\n",
    "import pyproj\n",
    "from shapely.ops import transform"
   ]
  },
  {
   "cell_type": "code",
   "execution_count": 106,
   "id": "5ff7bfcb-7de1-4cdd-8914-f68a8602e75f",
   "metadata": {},
   "outputs": [],
   "source": [
    "data_url = \"../서울시_자동차_도로_수집/make_file/(표면)_서울열선_광진도로.csv\"\n",
    "data_encoding = \"UTF-8\""
   ]
  },
  {
   "cell_type": "code",
   "execution_count": 107,
   "id": "c8acdf63-a4c3-4a6a-aeee-851d6ba7b9a0",
   "metadata": {},
   "outputs": [],
   "source": [
    "data = pd.read_csv(data_url, encoding=data_encoding, low_memory=False)"
   ]
  },
  {
   "cell_type": "code",
   "execution_count": 108,
   "id": "7d4700d8-8290-4143-b7ed-9acff1dc06d6",
   "metadata": {},
   "outputs": [
    {
     "data": {
      "text/plain": [
       "Index(['도로명', '열선', '도로 종류', '시작점_위도', '시작점_경도', '종료점_위도', '종료점_경도', '중앙점_위도',\n",
       "       '중앙점_경도', '도로_길이', '행정동', '도로폭', '도로규모', '행정구역', '고도의_차이', '경사각',\n",
       "       '최근접_시설들_거리', '최근접_시설의_평균거리', '2019_평균_온도', '2020_평균_온도', '2021_평균_온도',\n",
       "       '2022_평균_온도', '2023_평균_온도', '2024_평균_온도', '종합_평균_기온'],\n",
       "      dtype='object')"
      ]
     },
     "execution_count": 108,
     "metadata": {},
     "output_type": "execute_result"
    }
   ],
   "source": [
    "data.columns"
   ]
  },
  {
   "cell_type": "code",
   "execution_count": 109,
   "id": "e277da36-c5da-4ab1-9737-38ccf5f267d7",
   "metadata": {},
   "outputs": [],
   "source": [
    "dong_url = \"./data/BND_ADM_DONG_PG/BND_ADM_DONG_PG.shp\"\n",
    "dong_encoding = \"CP949\""
   ]
  },
  {
   "cell_type": "code",
   "execution_count": 110,
   "id": "35452923-cc2a-4265-b00f-e974fcdf5ba8",
   "metadata": {},
   "outputs": [],
   "source": [
    "# 행정동 경계 데이터 로드\n",
    "gdf = gpd.read_file(dong_url, encoding=dong_encoding)"
   ]
  },
  {
   "cell_type": "code",
   "execution_count": 111,
   "id": "78016032-bbda-43df-bb1d-cb98820ea084",
   "metadata": {},
   "outputs": [
    {
     "data": {
      "text/plain": [
       "Index(['BASE_DATE', 'ADM_CD', 'ADM_NM', 'geometry'], dtype='object')"
      ]
     },
     "execution_count": 111,
     "metadata": {},
     "output_type": "execute_result"
    }
   ],
   "source": [
    "gdf.columns"
   ]
  },
  {
   "cell_type": "code",
   "execution_count": 112,
   "id": "6b5fa938-099c-4afe-ba99-312a53ed2744",
   "metadata": {},
   "outputs": [
    {
     "data": {
      "text/html": [
       "<div>\n",
       "<style scoped>\n",
       "    .dataframe tbody tr th:only-of-type {\n",
       "        vertical-align: middle;\n",
       "    }\n",
       "\n",
       "    .dataframe tbody tr th {\n",
       "        vertical-align: top;\n",
       "    }\n",
       "\n",
       "    .dataframe thead th {\n",
       "        text-align: right;\n",
       "    }\n",
       "</style>\n",
       "<table border=\"1\" class=\"dataframe\">\n",
       "  <thead>\n",
       "    <tr style=\"text-align: right;\">\n",
       "      <th></th>\n",
       "      <th>BASE_DATE</th>\n",
       "      <th>ADM_CD</th>\n",
       "      <th>ADM_NM</th>\n",
       "      <th>geometry</th>\n",
       "    </tr>\n",
       "  </thead>\n",
       "  <tbody>\n",
       "    <tr>\n",
       "      <th>0</th>\n",
       "      <td>20240630</td>\n",
       "      <td>24010510</td>\n",
       "      <td>충장동</td>\n",
       "      <td>POLYGON ((192642.941 284096.719, 192642.09 284...</td>\n",
       "    </tr>\n",
       "    <tr>\n",
       "      <th>1</th>\n",
       "      <td>20240630</td>\n",
       "      <td>24010540</td>\n",
       "      <td>동명동</td>\n",
       "      <td>POLYGON ((193270.372 284034.819, 193270.194 28...</td>\n",
       "    </tr>\n",
       "    <tr>\n",
       "      <th>2</th>\n",
       "      <td>20240630</td>\n",
       "      <td>36680400</td>\n",
       "      <td>안좌면</td>\n",
       "      <td>MULTIPOLYGON (((113338.23 243273.44, 113342.37...</td>\n",
       "    </tr>\n",
       "    <tr>\n",
       "      <th>3</th>\n",
       "      <td>20240630</td>\n",
       "      <td>36680410</td>\n",
       "      <td>팔금면</td>\n",
       "      <td>MULTIPOLYGON (((124370.24 249372.92, 124367.44...</td>\n",
       "    </tr>\n",
       "    <tr>\n",
       "      <th>4</th>\n",
       "      <td>20240630</td>\n",
       "      <td>36680420</td>\n",
       "      <td>암태면</td>\n",
       "      <td>MULTIPOLYGON (((124912 256632.46, 124912.4 256...</td>\n",
       "    </tr>\n",
       "  </tbody>\n",
       "</table>\n",
       "</div>"
      ],
      "text/plain": [
       "  BASE_DATE    ADM_CD ADM_NM  \\\n",
       "0  20240630  24010510    충장동   \n",
       "1  20240630  24010540    동명동   \n",
       "2  20240630  36680400    안좌면   \n",
       "3  20240630  36680410    팔금면   \n",
       "4  20240630  36680420    암태면   \n",
       "\n",
       "                                            geometry  \n",
       "0  POLYGON ((192642.941 284096.719, 192642.09 284...  \n",
       "1  POLYGON ((193270.372 284034.819, 193270.194 28...  \n",
       "2  MULTIPOLYGON (((113338.23 243273.44, 113342.37...  \n",
       "3  MULTIPOLYGON (((124370.24 249372.92, 124367.44...  \n",
       "4  MULTIPOLYGON (((124912 256632.46, 124912.4 256...  "
      ]
     },
     "execution_count": 112,
     "metadata": {},
     "output_type": "execute_result"
    }
   ],
   "source": [
    "gdf.head()"
   ]
  },
  {
   "cell_type": "code",
   "execution_count": null,
   "id": "857905ff-f841-4ba8-a660-6356a95922a2",
   "metadata": {},
   "outputs": [],
   "source": []
  },
  {
   "cell_type": "code",
   "execution_count": 113,
   "id": "2b61520e-9132-4928-bead-b413105de54f",
   "metadata": {},
   "outputs": [],
   "source": [
    "# 좌표 변환 함수 정의\n",
    "project = pyproj.Transformer.from_crs(\"EPSG:4326\", \"EPSG:5186\", always_xy=True).transform"
   ]
  },
  {
   "cell_type": "code",
   "execution_count": 114,
   "id": "6754f494-048d-4e5d-95bb-cad2ff1c18df",
   "metadata": {},
   "outputs": [],
   "source": [
    "def get_admin_dong_name(lon, lat):\n",
    "    # 위경도 → EPSG:5186 좌표로 변환\n",
    "    point = transform(project, Point(lon, lat))\n",
    "    # print(\"변환된 좌표:\", point)∑\n",
    "\n",
    "    for _, row in gdf.iterrows():\n",
    "        geom = row['geometry']\n",
    "        if isinstance(geom, Polygon):ß∑\n",
    "            if geom.contains(point):\n",
    "                return row['ADM_NM']ß\n",
    "        elif isinstance(geom, MultiPolygon):\n",
    "            for poly in geom.geoms:ß∑\n",
    "                if poly.contains(point):\n",
    "                    return row['ADM_NM']\n",
    "    return '해당 위치의 행정동을 찾을 수 없습니다.'\n"
   ]
  },
  {
   "cell_type": "code",
   "execution_count": 115,
   "id": "474e0766-a191-4650-a62e-2039eba0fc4c",
   "metadata": {},
   "outputs": [
    {
     "data": {
      "text/plain": [
       "Index(['도로명', '열선', '도로 종류', '시작점_위도', '시작점_경도', '종료점_위도', '종료점_경도', '중앙점_위도',\n",
       "       '중앙점_경도', '도로_길이', '행정동', '도로폭', '도로규모', '행정구역', '고도의_차이', '경사각',\n",
       "       '최근접_시설들_거리', '최근접_시설의_평균거리', '2019_평균_온도', '2020_평균_온도', '2021_평균_온도',\n",
       "       '2022_평균_온도', '2023_평균_온도', '2024_평균_온도', '종합_평균_기온'],\n",
       "      dtype='object')"
      ]
     },
     "execution_count": 115,
     "metadata": {},
     "output_type": "execute_result"
    }
   ],
   "source": [
    "data.columns"
   ]
  },
  {
   "cell_type": "code",
   "execution_count": 116,
   "id": "e5a13a0b-11c8-422c-80b3-2312e220d217",
   "metadata": {},
   "outputs": [
    {
     "name": "stderr",
     "output_type": "stream",
     "text": [
      "100%|███████████████████████████████████████| 7212/7212 [05:52<00:00, 20.47it/s]\n"
     ]
    }
   ],
   "source": [
    "dong_list = []\n",
    "\n",
    "for i in tqdm(range(len(data))) :\n",
    "    dong_name = get_admin_dong_name(data.loc[i]['중앙점_경도'], data.loc[i]['중앙점_위도'])\n",
    "    dong_list.append(dong_name)"
   ]
  },
  {
   "cell_type": "code",
   "execution_count": 127,
   "id": "97d865cd-571e-4c29-ad93-99a9aa8cef14",
   "metadata": {},
   "outputs": [
    {
     "name": "stdout",
     "output_type": "stream",
     "text": [
      "\"['행정동'] not found in axis\"\n"
     ]
    }
   ],
   "source": [
    "try :\n",
    "    data = data.drop(columns='행정동')\n",
    "    print(\"삭제 완료\")\n",
    "except KeyError as e:\n",
    "    print(e)"
   ]
  },
  {
   "cell_type": "code",
   "execution_count": 128,
   "id": "e5c96a08-656c-4266-9f77-1c6697724fad",
   "metadata": {},
   "outputs": [],
   "source": [
    "data['행정동'] = dong_list"
   ]
  },
  {
   "cell_type": "code",
   "execution_count": 129,
   "id": "9924ca46-1fbe-48f1-9c82-aeb098793605",
   "metadata": {},
   "outputs": [
    {
     "data": {
      "text/plain": [
       "행정동\n",
       "군자동     718\n",
       "자양4동    672\n",
       "중곡4동    558\n",
       "화양동     527\n",
       "자양2동    499\n",
       "       ... \n",
       "이화동       1\n",
       "대방동       1\n",
       "신정7동      1\n",
       "전농1동      1\n",
       "일원1동      1\n",
       "Name: count, Length: 223, dtype: int64"
      ]
     },
     "execution_count": 129,
     "metadata": {},
     "output_type": "execute_result"
    }
   ],
   "source": [
    "data['행정동'].value_counts()"
   ]
  },
  {
   "cell_type": "code",
   "execution_count": 130,
   "id": "e3668232-96bf-44e6-a45a-c04e4c27cd3e",
   "metadata": {},
   "outputs": [
    {
     "name": "stdout",
     "output_type": "stream",
     "text": [
      "../서울시_자동차_도로_수집/make_file/(표면)_서울열선_광진도로.csv 덮어쓰기 완료.\n"
     ]
    }
   ],
   "source": [
    "try :\n",
    "    data.to_csv(data_url, encoding=data_encoding, index=False)\n",
    "    print(f\"{data_url} 덮어쓰기 완료.\")\n",
    "except OSError as e:\n",
    "    print(e)"
   ]
  },
  {
   "cell_type": "code",
   "execution_count": null,
   "id": "bd2873c8-cf7e-437b-b6a0-8adee5fd5499",
   "metadata": {},
   "outputs": [],
   "source": []
  }
 ],
 "metadata": {
  "kernelspec": {
   "display_name": "Python 3 (ipykernel)",
   "language": "python",
   "name": "python3"
  },
  "language_info": {
   "codemirror_mode": {
    "name": "ipython",
    "version": 3
   },
   "file_extension": ".py",
   "mimetype": "text/x-python",
   "name": "python",
   "nbconvert_exporter": "python",
   "pygments_lexer": "ipython3",
   "version": "3.13.2"
  }
 },
 "nbformat": 4,
 "nbformat_minor": 5
}
