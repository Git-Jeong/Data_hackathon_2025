{
 "cells": [
  {
   "cell_type": "code",
   "execution_count": 1,
   "id": "f0fd7bc1-88fe-4ba6-82a3-d504a62a9d85",
   "metadata": {},
   "outputs": [],
   "source": [
    "import pandas as pd\n",
    "from tqdm import tqdm\n",
    "import chardet\n",
    "from io import StringIO"
   ]
  },
  {
   "cell_type": "code",
   "execution_count": 2,
   "id": "b1c29dec-25b3-438c-8cd2-34f2a6802b96",
   "metadata": {},
   "outputs": [],
   "source": [
    "people_url = \"./data/행정동 단위 서울 생활인구(내국인).csv\"\n",
    "code_url = \"./data/행정동코드_매핑정보_20241218.xlsx\" "
   ]
  },
  {
   "cell_type": "code",
   "execution_count": 3,
   "id": "058f089a-3764-4f13-b96c-1c4c5c4435ff",
   "metadata": {},
   "outputs": [],
   "source": [
    "people_data = pd.read_csv(people_url, encoding=\"EUC-KR\")\n",
    "code_data = pd.read_excel(code_url)"
   ]
  },
  {
   "cell_type": "code",
   "execution_count": 4,
   "id": "352f6275-b00d-42ba-b314-796bca622bfc",
   "metadata": {},
   "outputs": [
    {
     "data": {
      "text/plain": [
       "Index(['기준일ID', '시간대구분', '행정동코드', '총생활인구수', '남자0세부터9세생활인구수', '남자10세부터14세생활인구수',\n",
       "       '남자15세부터19세생활인구수', '남자20세부터24세생활인구수', '남자25세부터29세생활인구수',\n",
       "       '남자30세부터34세생활인구수', '남자35세부터39세생활인구수', '남자40세부터44세생활인구수',\n",
       "       '남자45세부터49세생활인구수', '남자50세부터54세생활인구수', '남자55세부터59세생활인구수',\n",
       "       '남자60세부터64세생활인구수', '남자65세부터69세생활인구수', '남자70세이상생활인구수', '여자0세부터9세생활인구수',\n",
       "       '여자10세부터14세생활인구수', '여자15세부터19세생활인구수', '여자20세부터24세생활인구수',\n",
       "       '여자25세부터29세생활인구수', '여자30세부터34세생활인구수', '여자35세부터39세생활인구수',\n",
       "       '여자40세부터44세생활인구수', '여자45세부터49세생활인구수', '여자50세부터54세생활인구수',\n",
       "       '여자55세부터59세생활인구수', '여자60세부터64세생활인구수', '여자65세부터69세생활인구수',\n",
       "       '여자70세이상생활인구수'],\n",
       "      dtype='object')"
      ]
     },
     "execution_count": 4,
     "metadata": {},
     "output_type": "execute_result"
    }
   ],
   "source": [
    "people_data.columns"
   ]
  },
  {
   "cell_type": "code",
   "execution_count": 5,
   "id": "d062f5bf-4c4e-4056-ac45-2b2fcf7fd7a2",
   "metadata": {},
   "outputs": [
    {
     "data": {
      "text/plain": [
       "기준일ID              0\n",
       "시간대구분              0\n",
       "행정동코드              0\n",
       "총생활인구수             0\n",
       "남자0세부터9세생활인구수      0\n",
       "남자10세부터14세생활인구수    0\n",
       "남자15세부터19세생활인구수    0\n",
       "남자20세부터24세생활인구수    0\n",
       "남자25세부터29세생활인구수    0\n",
       "남자30세부터34세생활인구수    0\n",
       "남자35세부터39세생활인구수    0\n",
       "남자40세부터44세생활인구수    0\n",
       "남자45세부터49세생활인구수    0\n",
       "남자50세부터54세생활인구수    0\n",
       "남자55세부터59세생활인구수    0\n",
       "남자60세부터64세생활인구수    0\n",
       "남자65세부터69세생활인구수    0\n",
       "남자70세이상생활인구수       0\n",
       "여자0세부터9세생활인구수      0\n",
       "여자10세부터14세생활인구수    0\n",
       "여자15세부터19세생활인구수    0\n",
       "여자20세부터24세생활인구수    0\n",
       "여자25세부터29세생활인구수    0\n",
       "여자30세부터34세생활인구수    0\n",
       "여자35세부터39세생활인구수    0\n",
       "여자40세부터44세생활인구수    0\n",
       "여자45세부터49세생활인구수    0\n",
       "여자50세부터54세생활인구수    0\n",
       "여자55세부터59세생활인구수    0\n",
       "여자60세부터64세생활인구수    0\n",
       "여자65세부터69세생활인구수    0\n",
       "여자70세이상생활인구수       0\n",
       "dtype: int64"
      ]
     },
     "execution_count": 5,
     "metadata": {},
     "output_type": "execute_result"
    }
   ],
   "source": [
    "people_data.isnull().sum()"
   ]
  },
  {
   "cell_type": "code",
   "execution_count": 6,
   "id": "667181d4-2add-469a-936e-048e5c7e8da3",
   "metadata": {},
   "outputs": [
    {
     "data": {
      "text/html": [
       "<div>\n",
       "<style scoped>\n",
       "    .dataframe tbody tr th:only-of-type {\n",
       "        vertical-align: middle;\n",
       "    }\n",
       "\n",
       "    .dataframe tbody tr th {\n",
       "        vertical-align: top;\n",
       "    }\n",
       "\n",
       "    .dataframe thead th {\n",
       "        text-align: right;\n",
       "    }\n",
       "</style>\n",
       "<table border=\"1\" class=\"dataframe\">\n",
       "  <thead>\n",
       "    <tr style=\"text-align: right;\">\n",
       "      <th></th>\n",
       "      <th>기준일ID</th>\n",
       "      <th>시간대구분</th>\n",
       "      <th>행정동코드</th>\n",
       "      <th>총생활인구수</th>\n",
       "      <th>남자0세부터9세생활인구수</th>\n",
       "      <th>남자10세부터14세생활인구수</th>\n",
       "      <th>남자15세부터19세생활인구수</th>\n",
       "      <th>남자20세부터24세생활인구수</th>\n",
       "      <th>남자25세부터29세생활인구수</th>\n",
       "      <th>남자30세부터34세생활인구수</th>\n",
       "      <th>...</th>\n",
       "      <th>여자25세부터29세생활인구수</th>\n",
       "      <th>여자30세부터34세생활인구수</th>\n",
       "      <th>여자35세부터39세생활인구수</th>\n",
       "      <th>여자40세부터44세생활인구수</th>\n",
       "      <th>여자45세부터49세생활인구수</th>\n",
       "      <th>여자50세부터54세생활인구수</th>\n",
       "      <th>여자55세부터59세생활인구수</th>\n",
       "      <th>여자60세부터64세생활인구수</th>\n",
       "      <th>여자65세부터69세생활인구수</th>\n",
       "      <th>여자70세이상생활인구수</th>\n",
       "    </tr>\n",
       "  </thead>\n",
       "  <tbody>\n",
       "    <tr>\n",
       "      <th>0</th>\n",
       "      <td>20250330</td>\n",
       "      <td>0</td>\n",
       "      <td>11110515</td>\n",
       "      <td>14156.6789</td>\n",
       "      <td>536.6403</td>\n",
       "      <td>341.9484</td>\n",
       "      <td>498.8853</td>\n",
       "      <td>388.1250</td>\n",
       "      <td>374.0151</td>\n",
       "      <td>370.6547</td>\n",
       "      <td>...</td>\n",
       "      <td>401.4458</td>\n",
       "      <td>479.6166</td>\n",
       "      <td>631.4331</td>\n",
       "      <td>675.0748</td>\n",
       "      <td>710.2330</td>\n",
       "      <td>706.5403</td>\n",
       "      <td>588.7126</td>\n",
       "      <td>516.2312</td>\n",
       "      <td>338.4578</td>\n",
       "      <td>1048.6108</td>\n",
       "    </tr>\n",
       "    <tr>\n",
       "      <th>1</th>\n",
       "      <td>20250330</td>\n",
       "      <td>0</td>\n",
       "      <td>11110530</td>\n",
       "      <td>10592.7257</td>\n",
       "      <td>250.8372</td>\n",
       "      <td>111.4832</td>\n",
       "      <td>202.3245</td>\n",
       "      <td>256.2363</td>\n",
       "      <td>333.4230</td>\n",
       "      <td>337.5091</td>\n",
       "      <td>...</td>\n",
       "      <td>365.3549</td>\n",
       "      <td>427.3439</td>\n",
       "      <td>521.8974</td>\n",
       "      <td>492.9203</td>\n",
       "      <td>591.3436</td>\n",
       "      <td>476.4580</td>\n",
       "      <td>438.1118</td>\n",
       "      <td>372.2820</td>\n",
       "      <td>230.7856</td>\n",
       "      <td>784.3681</td>\n",
       "    </tr>\n",
       "    <tr>\n",
       "      <th>2</th>\n",
       "      <td>20250330</td>\n",
       "      <td>0</td>\n",
       "      <td>11110540</td>\n",
       "      <td>3628.7154</td>\n",
       "      <td>88.0570</td>\n",
       "      <td>67.4724</td>\n",
       "      <td>99.5789</td>\n",
       "      <td>223.4629</td>\n",
       "      <td>129.6587</td>\n",
       "      <td>130.1481</td>\n",
       "      <td>...</td>\n",
       "      <td>129.4536</td>\n",
       "      <td>82.6647</td>\n",
       "      <td>152.9176</td>\n",
       "      <td>173.3287</td>\n",
       "      <td>163.8470</td>\n",
       "      <td>131.3347</td>\n",
       "      <td>132.3279</td>\n",
       "      <td>109.3360</td>\n",
       "      <td>81.7192</td>\n",
       "      <td>247.9446</td>\n",
       "    </tr>\n",
       "    <tr>\n",
       "      <th>3</th>\n",
       "      <td>20250330</td>\n",
       "      <td>0</td>\n",
       "      <td>11110550</td>\n",
       "      <td>12423.4585</td>\n",
       "      <td>370.3936</td>\n",
       "      <td>287.1979</td>\n",
       "      <td>371.7975</td>\n",
       "      <td>356.1497</td>\n",
       "      <td>376.9577</td>\n",
       "      <td>295.3544</td>\n",
       "      <td>...</td>\n",
       "      <td>346.3459</td>\n",
       "      <td>418.8817</td>\n",
       "      <td>422.4936</td>\n",
       "      <td>535.9694</td>\n",
       "      <td>635.1824</td>\n",
       "      <td>534.6978</td>\n",
       "      <td>563.3083</td>\n",
       "      <td>477.4593</td>\n",
       "      <td>350.5133</td>\n",
       "      <td>1014.5180</td>\n",
       "    </tr>\n",
       "    <tr>\n",
       "      <th>4</th>\n",
       "      <td>20250330</td>\n",
       "      <td>0</td>\n",
       "      <td>11110560</td>\n",
       "      <td>18704.5573</td>\n",
       "      <td>621.1105</td>\n",
       "      <td>449.2690</td>\n",
       "      <td>499.4232</td>\n",
       "      <td>630.6218</td>\n",
       "      <td>388.6967</td>\n",
       "      <td>331.9429</td>\n",
       "      <td>...</td>\n",
       "      <td>416.1504</td>\n",
       "      <td>426.5722</td>\n",
       "      <td>684.0967</td>\n",
       "      <td>788.1879</td>\n",
       "      <td>864.8064</td>\n",
       "      <td>855.0512</td>\n",
       "      <td>993.7706</td>\n",
       "      <td>911.1724</td>\n",
       "      <td>556.5492</td>\n",
       "      <td>1719.7720</td>\n",
       "    </tr>\n",
       "  </tbody>\n",
       "</table>\n",
       "<p>5 rows × 32 columns</p>\n",
       "</div>"
      ],
      "text/plain": [
       "      기준일ID  시간대구분     행정동코드      총생활인구수  남자0세부터9세생활인구수  남자10세부터14세생활인구수  \\\n",
       "0  20250330      0  11110515  14156.6789       536.6403         341.9484   \n",
       "1  20250330      0  11110530  10592.7257       250.8372         111.4832   \n",
       "2  20250330      0  11110540   3628.7154        88.0570          67.4724   \n",
       "3  20250330      0  11110550  12423.4585       370.3936         287.1979   \n",
       "4  20250330      0  11110560  18704.5573       621.1105         449.2690   \n",
       "\n",
       "   남자15세부터19세생활인구수  남자20세부터24세생활인구수  남자25세부터29세생활인구수  남자30세부터34세생활인구수  ...  \\\n",
       "0         498.8853         388.1250         374.0151         370.6547  ...   \n",
       "1         202.3245         256.2363         333.4230         337.5091  ...   \n",
       "2          99.5789         223.4629         129.6587         130.1481  ...   \n",
       "3         371.7975         356.1497         376.9577         295.3544  ...   \n",
       "4         499.4232         630.6218         388.6967         331.9429  ...   \n",
       "\n",
       "   여자25세부터29세생활인구수  여자30세부터34세생활인구수  여자35세부터39세생활인구수  여자40세부터44세생활인구수  \\\n",
       "0         401.4458         479.6166         631.4331         675.0748   \n",
       "1         365.3549         427.3439         521.8974         492.9203   \n",
       "2         129.4536          82.6647         152.9176         173.3287   \n",
       "3         346.3459         418.8817         422.4936         535.9694   \n",
       "4         416.1504         426.5722         684.0967         788.1879   \n",
       "\n",
       "   여자45세부터49세생활인구수  여자50세부터54세생활인구수  여자55세부터59세생활인구수  여자60세부터64세생활인구수  \\\n",
       "0         710.2330         706.5403         588.7126         516.2312   \n",
       "1         591.3436         476.4580         438.1118         372.2820   \n",
       "2         163.8470         131.3347         132.3279         109.3360   \n",
       "3         635.1824         534.6978         563.3083         477.4593   \n",
       "4         864.8064         855.0512         993.7706         911.1724   \n",
       "\n",
       "   여자65세부터69세생활인구수  여자70세이상생활인구수  \n",
       "0         338.4578     1048.6108  \n",
       "1         230.7856      784.3681  \n",
       "2          81.7192      247.9446  \n",
       "3         350.5133     1014.5180  \n",
       "4         556.5492     1719.7720  \n",
       "\n",
       "[5 rows x 32 columns]"
      ]
     },
     "execution_count": 6,
     "metadata": {},
     "output_type": "execute_result"
    }
   ],
   "source": [
    "people_data.head()"
   ]
  },
  {
   "cell_type": "code",
   "execution_count": 7,
   "id": "f15eccc6-f476-4c31-84fd-00a6adda68bb",
   "metadata": {},
   "outputs": [
    {
     "data": {
      "text/plain": [
       "559680"
      ]
     },
     "execution_count": 7,
     "metadata": {},
     "output_type": "execute_result"
    }
   ],
   "source": [
    "len(people_data)"
   ]
  },
  {
   "cell_type": "code",
   "execution_count": 8,
   "id": "03782d9d-0e1d-4823-8c17-c50785646a59",
   "metadata": {},
   "outputs": [
    {
     "data": {
      "text/plain": [
       "행정동코드\n",
       "11110515    1320\n",
       "11560605    1320\n",
       "11560560    1320\n",
       "11560550    1320\n",
       "11560540    1320\n",
       "            ... \n",
       "11305610    1320\n",
       "11305606    1320\n",
       "11305600    1320\n",
       "11305590    1320\n",
       "11740700    1320\n",
       "Name: count, Length: 424, dtype: int64"
      ]
     },
     "execution_count": 8,
     "metadata": {},
     "output_type": "execute_result"
    }
   ],
   "source": [
    "people_data['행정동코드'].value_counts()"
   ]
  },
  {
   "cell_type": "code",
   "execution_count": 9,
   "id": "bb543d4b-5232-4e66-b00a-225d47f69aed",
   "metadata": {},
   "outputs": [
    {
     "data": {
      "text/plain": [
       "Index(['통계청행정동코드', '행자부행정동코드', '시도명', '시군구명', '행정동명'], dtype='object')"
      ]
     },
     "execution_count": 9,
     "metadata": {},
     "output_type": "execute_result"
    }
   ],
   "source": [
    "code_data.columns"
   ]
  },
  {
   "cell_type": "code",
   "execution_count": 10,
   "id": "d9ce0591-2bb7-498b-bf16-45b0f382b62e",
   "metadata": {},
   "outputs": [
    {
     "data": {
      "text/html": [
       "<div>\n",
       "<style scoped>\n",
       "    .dataframe tbody tr th:only-of-type {\n",
       "        vertical-align: middle;\n",
       "    }\n",
       "\n",
       "    .dataframe tbody tr th {\n",
       "        vertical-align: top;\n",
       "    }\n",
       "\n",
       "    .dataframe thead th {\n",
       "        text-align: right;\n",
       "    }\n",
       "</style>\n",
       "<table border=\"1\" class=\"dataframe\">\n",
       "  <thead>\n",
       "    <tr style=\"text-align: right;\">\n",
       "      <th></th>\n",
       "      <th>통계청행정동코드</th>\n",
       "      <th>행자부행정동코드</th>\n",
       "      <th>시도명</th>\n",
       "      <th>시군구명</th>\n",
       "      <th>행정동명</th>\n",
       "    </tr>\n",
       "  </thead>\n",
       "  <tbody>\n",
       "    <tr>\n",
       "      <th>0</th>\n",
       "      <td>H_SDNG_CD</td>\n",
       "      <td>H_DNG_CD</td>\n",
       "      <td>DO_NM</td>\n",
       "      <td>CT_NM</td>\n",
       "      <td>H_DNG_NM</td>\n",
       "    </tr>\n",
       "    <tr>\n",
       "      <th>1</th>\n",
       "      <td>1101053</td>\n",
       "      <td>11110530</td>\n",
       "      <td>서울</td>\n",
       "      <td>종로구</td>\n",
       "      <td>사직동</td>\n",
       "    </tr>\n",
       "    <tr>\n",
       "      <th>2</th>\n",
       "      <td>1101054</td>\n",
       "      <td>11110540</td>\n",
       "      <td>서울</td>\n",
       "      <td>종로구</td>\n",
       "      <td>삼청동</td>\n",
       "    </tr>\n",
       "    <tr>\n",
       "      <th>3</th>\n",
       "      <td>1101055</td>\n",
       "      <td>11110550</td>\n",
       "      <td>서울</td>\n",
       "      <td>종로구</td>\n",
       "      <td>부암동</td>\n",
       "    </tr>\n",
       "    <tr>\n",
       "      <th>4</th>\n",
       "      <td>1101056</td>\n",
       "      <td>11110560</td>\n",
       "      <td>서울</td>\n",
       "      <td>종로구</td>\n",
       "      <td>평창동</td>\n",
       "    </tr>\n",
       "    <tr>\n",
       "      <th>...</th>\n",
       "      <td>...</td>\n",
       "      <td>...</td>\n",
       "      <td>...</td>\n",
       "      <td>...</td>\n",
       "      <td>...</td>\n",
       "    </tr>\n",
       "    <tr>\n",
       "      <th>420</th>\n",
       "      <td>1125070</td>\n",
       "      <td>11740690</td>\n",
       "      <td>서울</td>\n",
       "      <td>강동구</td>\n",
       "      <td>둔촌1동</td>\n",
       "    </tr>\n",
       "    <tr>\n",
       "      <th>421</th>\n",
       "      <td>1125071</td>\n",
       "      <td>11740700</td>\n",
       "      <td>서울</td>\n",
       "      <td>강동구</td>\n",
       "      <td>둔촌2동</td>\n",
       "    </tr>\n",
       "    <tr>\n",
       "      <th>422</th>\n",
       "      <td>1125072</td>\n",
       "      <td>11740570</td>\n",
       "      <td>서울</td>\n",
       "      <td>강동구</td>\n",
       "      <td>암사1동</td>\n",
       "    </tr>\n",
       "    <tr>\n",
       "      <th>423</th>\n",
       "      <td>1125073</td>\n",
       "      <td>11740610</td>\n",
       "      <td>서울</td>\n",
       "      <td>강동구</td>\n",
       "      <td>천호2동</td>\n",
       "    </tr>\n",
       "    <tr>\n",
       "      <th>424</th>\n",
       "      <td>1125074</td>\n",
       "      <td>11740685</td>\n",
       "      <td>서울</td>\n",
       "      <td>강동구</td>\n",
       "      <td>길동</td>\n",
       "    </tr>\n",
       "  </tbody>\n",
       "</table>\n",
       "<p>425 rows × 5 columns</p>\n",
       "</div>"
      ],
      "text/plain": [
       "      통계청행정동코드  행자부행정동코드    시도명   시군구명      행정동명\n",
       "0    H_SDNG_CD  H_DNG_CD  DO_NM  CT_NM  H_DNG_NM\n",
       "1      1101053  11110530     서울    종로구       사직동\n",
       "2      1101054  11110540     서울    종로구       삼청동\n",
       "3      1101055  11110550     서울    종로구       부암동\n",
       "4      1101056  11110560     서울    종로구       평창동\n",
       "..         ...       ...    ...    ...       ...\n",
       "420    1125070  11740690     서울    강동구      둔촌1동\n",
       "421    1125071  11740700     서울    강동구      둔촌2동\n",
       "422    1125072  11740570     서울    강동구      암사1동\n",
       "423    1125073  11740610     서울    강동구      천호2동\n",
       "424    1125074  11740685     서울    강동구        길동\n",
       "\n",
       "[425 rows x 5 columns]"
      ]
     },
     "execution_count": 10,
     "metadata": {},
     "output_type": "execute_result"
    }
   ],
   "source": [
    "code_data"
   ]
  },
  {
   "cell_type": "code",
   "execution_count": 11,
   "id": "5039b10e-23c3-4402-9614-fce183ffdc7b",
   "metadata": {},
   "outputs": [],
   "source": [
    "code_list = code_data[['행자부행정동코드', '행정동명', '시군구명']].to_numpy().tolist()"
   ]
  },
  {
   "cell_type": "code",
   "execution_count": 12,
   "id": "e8d5c96d-6b9d-4ea3-95c0-ea64ba41d439",
   "metadata": {},
   "outputs": [
    {
     "data": {
      "text/plain": [
       "행정동코드\n",
       "11110515    1320\n",
       "11560605    1320\n",
       "11560560    1320\n",
       "11560550    1320\n",
       "11560540    1320\n",
       "            ... \n",
       "11305610    1320\n",
       "11305606    1320\n",
       "11305600    1320\n",
       "11305590    1320\n",
       "11740700    1320\n",
       "Name: count, Length: 424, dtype: int64"
      ]
     },
     "execution_count": 12,
     "metadata": {},
     "output_type": "execute_result"
    }
   ],
   "source": [
    "people_data['행정동코드'].value_counts()"
   ]
  },
  {
   "cell_type": "code",
   "execution_count": 13,
   "id": "ff7016df-1389-4578-bfc4-386975fca55b",
   "metadata": {},
   "outputs": [
    {
     "data": {
      "text/plain": [
       "['11110710', '숭인2동', '종로구']"
      ]
     },
     "execution_count": 13,
     "metadata": {},
     "output_type": "execute_result"
    }
   ],
   "source": [
    "code_list[15]"
   ]
  },
  {
   "cell_type": "code",
   "execution_count": 14,
   "id": "8f98a870-5e88-4c34-84bc-76468a4fab81",
   "metadata": {},
   "outputs": [
    {
     "name": "stderr",
     "output_type": "stream",
     "text": [
      "100%|████████████████████████████████| 559680/559680 [00:55<00:00, 10120.53it/s]\n"
     ]
    }
   ],
   "source": [
    "# 1. 먼저 문자열 타입으로 변경\n",
    "people_data['행정동코드'] = people_data['행정동코드'].astype(str)\n",
    "\n",
    "# 2. 값 대체\n",
    "for i in tqdm(range(len(people_data))):\n",
    "    target_code = people_data.iloc[i]['행정동코드'] \n",
    "    for n in range(len(code_list)):\n",
    "        if target_code in code_list[n] :\n",
    "            people_data.loc[i, '행정동'] = code_list[n][1]\n",
    "            people_data.loc[i, '행정구'] = code_list[n][2]\n"
   ]
  },
  {
   "cell_type": "code",
   "execution_count": 15,
   "id": "1a61a250-d745-40b6-95e8-bdd6b960dc04",
   "metadata": {},
   "outputs": [
    {
     "name": "stdout",
     "output_type": "stream",
     "text": [
      "행정동\n",
      "신사동      2640\n",
      "청운효자동    1320\n",
      "당산2동     1320\n",
      "당산1동     1320\n",
      "여의동      1320\n",
      "         ... \n",
      "수유1동     1320\n",
      "번3동      1320\n",
      "번2동      1320\n",
      "번1동      1320\n",
      "둔촌2동     1320\n",
      "Name: count, Length: 423, dtype: int64\n",
      "-------------------------------\n",
      "행정구\n",
      "송파구     35640\n",
      "강남구     29040\n",
      "관악구     27720\n",
      "성북구     26400\n",
      "강서구     26400\n",
      "노원구     25080\n",
      "강동구     23760\n",
      "서초구     23760\n",
      "영등포구    23760\n",
      "양천구     23760\n",
      "종로구     22440\n",
      "성동구     22440\n",
      "은평구     21120\n",
      "마포구     21120\n",
      "중랑구     21120\n",
      "용산구     21120\n",
      "중구      19800\n",
      "구로구     19800\n",
      "동작구     19800\n",
      "광진구     19800\n",
      "도봉구     18480\n",
      "동대문구    18480\n",
      "서대문구    18480\n",
      "강북구     17160\n",
      "금천구     13200\n",
      "Name: count, dtype: int64\n"
     ]
    }
   ],
   "source": [
    "print(people_data['행정동'].value_counts())\n",
    "print(\"-------------------------------\")\n",
    "print(people_data['행정구'].value_counts())"
   ]
  },
  {
   "cell_type": "code",
   "execution_count": 16,
   "id": "d3aa331f-5c12-4a31-8c4c-eb70baad206d",
   "metadata": {},
   "outputs": [],
   "source": [
    "# 1단계: 날짜 + 행정동 기준으로 하루 총생활인구수 구하기\n",
    "하루_동별_인구 = people_data.groupby([\"기준일ID\", \"행정구\", \"행정동\"])[\"총생활인구수\"].sum().reset_index()\n",
    "\n",
    "# 2단계: 행정구 + 행정동별 하루 평균 구하기\n",
    "동별_하루평균_인구 = 하루_동별_인구.groupby([\"행정구\", \"행정동\"])[[\"총생활인구수\"]].mean().reset_index()\n"
   ]
  },
  {
   "cell_type": "code",
   "execution_count": 17,
   "id": "4f921f65-cc21-459b-8e89-b3241a311a54",
   "metadata": {},
   "outputs": [
    {
     "name": "stdout",
     "output_type": "stream",
     "text": [
      "     행정구   행정동        총생활인구수\n",
      "0    강남구  개포1동  5.832786e+05\n",
      "1    강남구  개포2동  8.009641e+05\n",
      "2    강남구  개포4동  3.764363e+05\n",
      "3    강남구  논현1동  1.005250e+06\n",
      "4    강남구  논현2동  1.145020e+06\n",
      "..   ...   ...           ...\n",
      "419  중랑구  상봉2동  6.021714e+05\n",
      "420  중랑구  신내1동  8.078498e+05\n",
      "421  중랑구  신내2동  3.563282e+05\n",
      "422  중랑구  중화1동  3.859839e+05\n",
      "423  중랑구  중화2동  5.784949e+05\n",
      "\n",
      "[424 rows x 3 columns]\n"
     ]
    }
   ],
   "source": [
    "print(동별_하루평균_인구) #동별 하루평균 유동인구."
   ]
  },
  {
   "cell_type": "code",
   "execution_count": 18,
   "id": "001d0f2b-748a-4e40-8143-42f2766a45fd",
   "metadata": {},
   "outputs": [],
   "source": [
    "동별_하루평균_인구.to_csv(\"../서울시_자동차_도로_수집/data/서울시_동별_하루평균_유동인구.csv\", encoding = \"UTF-8\", index=False)"
   ]
  },
  {
   "cell_type": "code",
   "execution_count": null,
   "id": "be5c515d-6490-486a-8188-cbf1be5da11c",
   "metadata": {},
   "outputs": [],
   "source": []
  }
 ],
 "metadata": {
  "kernelspec": {
   "display_name": "Python 3 (ipykernel)",
   "language": "python",
   "name": "python3"
  },
  "language_info": {
   "codemirror_mode": {
    "name": "ipython",
    "version": 3
   },
   "file_extension": ".py",
   "mimetype": "text/x-python",
   "name": "python",
   "nbconvert_exporter": "python",
   "pygments_lexer": "ipython3",
   "version": "3.13.2"
  }
 },
 "nbformat": 4,
 "nbformat_minor": 5
}
