{
 "cells": [
  {
   "cell_type": "code",
   "execution_count": 3,
   "id": "81a870a4-0047-46bb-97c9-52cc8b164525",
   "metadata": {},
   "outputs": [],
   "source": [
    "# !pip install geopy"
   ]
  },
  {
   "cell_type": "code",
   "execution_count": 1,
   "id": "1474a3cb-dc61-4f9d-aa4f-ebc53e4221ba",
   "metadata": {},
   "outputs": [],
   "source": [
    "import os\n",
    "import pandas as pd \n",
    "from geopy.distance import geodesic\n",
    "from tqdm import tqdm\n",
    "from scipy.spatial import KDTree\n",
    "import folium\n",
    "from folium.plugins import MarkerCluster\n",
    "from folium import PolyLine\n",
    "\n",
    "# 설정\n",
    "heatline_folder = \"./make_file/gu_division/\"  # 열선 데이터 폴더 경로\n",
    "road_folder = \"../서울시_자동차_도로_수집/make_file/gu_division/\"  # 도로 데이터 폴더 경로\n",
    "file_encoding = \"utf-8\"\n",
    "\n",
    "# 서울시 행정구 목록\n",
    "districts = [\n",
    "    \"강남구\", \"강동구\", \"강북구\", \"강서구\", \"관악구\", \"광진구\", \"구로구\", \"금천구\",\n",
    "    \"노원구\", \"도봉구\", \"동대문구\", \"동작구\", \"마포구\", \"서대문구\", \"서초구\",\n",
    "    \"성동구\", \"성북구\", \"송파구\", \"양천구\", \"영등포구\", \"용산구\", \"은평구\",\n",
    "    \"종로구\", \"중구\", \"중랑구\"\n",
    "]\n",
    "\n",
    "MAX_SIZE = 20"
   ]
  },
  {
   "cell_type": "code",
   "execution_count": 2,
   "id": "da031864-191f-4a50-9377-08ad260e079a",
   "metadata": {},
   "outputs": [],
   "source": [
    "def get_nearby_roads(heatline_df, road_df, k=MAX_SIZE):\n",
    "    # 열선의 중점 좌표를 추출 (위도, 경도)\n",
    "    heatline_coords = heatline_df[[\"중점_위도\", \"중점_경도\"]].values\n",
    "    \n",
    "    # 도로의 중간점 좌표를 계산 (시작점과 종료점의 중간)\n",
    "    road_coords = road_df[[\"시작점_위도\", \"시작점_경도\", \"종료점_위도\", \"종료점_경도\"]].values\n",
    "    road_midpoints = (road_coords[:, :2] + road_coords[:, 2:]) / 2  # 도로의 중간점\n",
    "    \n",
    "    # KDTree를 사용하여 도로 중간점들의 최근접 거리를 계산\n",
    "    tree = KDTree(road_midpoints)\n",
    "    \n",
    "    # 열선에 대해 최근접 k개의 도로를 찾기\n",
    "    nearby_roads = []\n",
    "\n",
    "    for _, heatline_row in heatline_df.iterrows():\n",
    "        # 열선의 중점 좌표 (위도, 경도)\n",
    "        heatline_point = [heatline_row[\"중점_위도\"], heatline_row[\"중점_경도\"]]\n",
    "        \n",
    "        # 최근접 k개의 도로 찾기 (k=5)\n",
    "        distances, indices = tree.query([heatline_point], k=k)\n",
    "        \n",
    "        # 각 도로에 대해 결과 저장\n",
    "        for i in range(k):\n",
    "            road_index = indices[0][i]\n",
    "            road = road_df.iloc[road_index]\n",
    "            nearby_roads.append({\n",
    "                'heatline_id': heatline_row['열선의_id'],\n",
    "                'road_id': road['id'],\n",
    "                'road_start_lat': road[\"시작점_위도\"],\n",
    "                'road_start_lon': road[\"시작점_경도\"],\n",
    "                'road_end_lat': road[\"종료점_위도\"],\n",
    "                'road_end_lon': road[\"종료점_경도\"],\n",
    "                'distance': distances[0][i]\n",
    "            })\n",
    "    \n",
    "    return nearby_roads\n"
   ]
  },
  {
   "cell_type": "code",
   "execution_count": 3,
   "id": "4f6adcb3-67b4-4dc3-9368-79f728fbbe8e",
   "metadata": {},
   "outputs": [],
   "source": [
    "# 구 이름으로 파일을 필터링하는 함수\n",
    "def filter_files_by_district(files, district):\n",
    "    return [file for file in files if district in os.path.basename(file)]"
   ]
  },
  {
   "cell_type": "code",
   "execution_count": 4,
   "id": "1b2296b3-29a2-4ef8-bbc5-cc11e0dfc7b2",
   "metadata": {},
   "outputs": [],
   "source": [
    "def process_district(district, heat_files, road_files):\n",
    "    # 해당 구에 맞는 열선 파일과 도로 파일만 필터링\n",
    "    heatline_files = filter_files_by_district(heat_files, district)\n",
    "    road_files = filter_files_by_district(road_files, district)\n",
    "    \n",
    "    # 데이터프레임 리스트 생성\n",
    "    heatline_df_list = [pd.read_csv(f, encoding=file_encoding) for f in heatline_files]\n",
    "    road_df_list = [pd.read_csv(f, encoding=file_encoding) for f in road_files]\n",
    "\n",
    "    if not heatline_df_list or not road_df_list:\n",
    "        print(f\"{district} 지역 데이터가 부족합니다.\")\n",
    "        return\n",
    "    \n",
    "    # 데이터 합치기\n",
    "    heatline_df = pd.concat(heatline_df_list, ignore_index=True)\n",
    "    road_df = pd.concat(road_df_list, ignore_index=True)\n",
    "    \n",
    "    # 최근접 도로 찾기\n",
    "    filtered_roads = get_nearby_roads(heatline_df, road_df)\n",
    "\n",
    "    # 지도 저장 경로\n",
    "    save_path = f\"./make_file/통합_지도/{district}\" \n",
    "    \n",
    "    # 지도 생성\n",
    "    create_map(heatline_df, filtered_roads, save_path)\n"
   ]
  },
  {
   "cell_type": "code",
   "execution_count": 5,
   "id": "32c5abe6-d486-471e-8179-12f0ab7aa4bb",
   "metadata": {},
   "outputs": [],
   "source": [
    "# 구에 대해 반복 작업을 수행하는 함수\n",
    "def main():\n",
    "    for district in districts:\n",
    "        process_district(district, heat_files, road_files)\n"
   ]
  },
  {
   "cell_type": "code",
   "execution_count": 6,
   "id": "25b0dd26-3829-4492-8889-dad0e4a31c19",
   "metadata": {},
   "outputs": [],
   "source": [
    "def create_map(heatline_df, filtered_roads, temp_save_path):\n",
    "    # 기본 지도 생성\n",
    "    m = folium.Map(location=[37.5665, 126.9780], zoom_start=12) \n",
    "    \n",
    "    # 열선 마커 추가 및 빨간 선으로 시작점과 끝점 연결\n",
    "    for _, row in heatline_df.iterrows():\n",
    "        start = [row[\"시점_위도\"], row[\"시점_경도\"]]\n",
    "        end = [row[\"종점_위도\"], row[\"종점_경도\"]]\n",
    "        \n",
    "        # 열선 시작과 끝을 빨간 선으로 연결\n",
    "        folium.PolyLine([start, end], color='red', weight=3, opacity=1).add_to(m)\n",
    "        \n",
    "        # 열선의 중간점 계산\n",
    "        midpoint = [(start[0] + end[0]) / 2, (start[1] + end[1]) / 2]\n",
    "        \n",
    "        # 열선 중간점에 마커 추가 (중앙에만 마커 추가)\n",
    "        folium.Marker(midpoint, popup=f\"열선 {row['열선의_id']}\", icon=folium.Icon(color='red')).add_to(m)\n",
    "    \n",
    "    # 도로 선 그리기 (필터링된 도로만 그리기)\n",
    "    for road in filtered_roads:\n",
    "        road_start = [road['road_start_lat'], road['road_start_lon']]\n",
    "        road_end = [road['road_end_lat'], road['road_end_lon']]\n",
    "        \n",
    "        # 도로 중간점 계산\n",
    "        road_midpoint = [(road_start[0] + road_end[0]) / 2, (road_start[1] + road_end[1]) / 2]\n",
    "        \n",
    "        # 도로 선 그리기\n",
    "        folium.PolyLine([road_start, road_end], color='blue', weight=2.5, opacity=1).add_to(m)\n",
    "        \n",
    "        # 도로 중간점에 마커 추가\n",
    "        folium.Marker(road_midpoint, popup=f\"{road['road_id']}\", icon=folium.Icon(color='blue')).add_to(m)\n",
    "\n",
    "    len_size = len(heatline_df)\n",
    "    # 지도 저장 경로\n",
    "    save_path = temp_save_path + f\"_{len_size}_통합지도.html\"\n",
    "    \n",
    "    # 지도 저장\n",
    "    m.save(save_path)\n",
    "    print(save_path)"
   ]
  },
  {
   "cell_type": "code",
   "execution_count": 7,
   "id": "be18f2eb-2747-42d0-b469-ee5bf0fa59b7",
   "metadata": {},
   "outputs": [],
   "source": [
    "# 조건에 맞는 파일 목록을 미리 로드\n",
    "heat_files = []\n",
    "for file_name in os.listdir(heatline_folder):\n",
    "    if file_name.endswith(\".csv\"):\n",
    "        file_path = os.path.join(heatline_folder, file_name)  # 안전한 경로 조합\n",
    "        try:\n",
    "            heat_files.append(file_path)\n",
    "        except Exception as e:\n",
    "            print(f\"파일 {file_name} 처리 중 오류 발생: {e}\")\n",
    "\n",
    "road_files = []\n",
    "for file_name in os.listdir(road_folder):\n",
    "    if file_name.endswith(\".csv\"):\n",
    "        file_path = os.path.join(road_folder, file_name)  # 안전한 경로 조합\n",
    "        try:\n",
    "            road_files.append(file_path)\n",
    "        except Exception as e:\n",
    "            print(f\"파일 {file_name} 처리 중 오류 발생: {e}\")\n"
   ]
  },
  {
   "cell_type": "code",
   "execution_count": 8,
   "id": "9706b120-9d59-470f-a64a-252bc7a9b0a3",
   "metadata": {},
   "outputs": [
    {
     "name": "stdout",
     "output_type": "stream",
     "text": [
      "./make_file/통합_지도/강남구_59_통합지도.html\n",
      "./make_file/통합_지도/강동구_5_통합지도.html\n",
      "./make_file/통합_지도/강북구_14_통합지도.html\n",
      "./make_file/통합_지도/강서구_13_통합지도.html\n",
      "./make_file/통합_지도/관악구_26_통합지도.html\n",
      "./make_file/통합_지도/광진구_33_통합지도.html\n",
      "./make_file/통합_지도/구로구_11_통합지도.html\n",
      "./make_file/통합_지도/금천구_15_통합지도.html\n",
      "./make_file/통합_지도/노원구_8_통합지도.html\n",
      "./make_file/통합_지도/도봉구_36_통합지도.html\n",
      "./make_file/통합_지도/동대문구_13_통합지도.html\n",
      "./make_file/통합_지도/동작구_45_통합지도.html\n",
      "./make_file/통합_지도/마포구_21_통합지도.html\n",
      "./make_file/통합_지도/서대문구_26_통합지도.html\n",
      "./make_file/통합_지도/서초구_19_통합지도.html\n",
      "./make_file/통합_지도/성동구_48_통합지도.html\n",
      "./make_file/통합_지도/성북구_53_통합지도.html\n",
      "./make_file/통합_지도/송파구_2_통합지도.html\n",
      "./make_file/통합_지도/양천구_17_통합지도.html\n",
      "./make_file/통합_지도/영등포구_8_통합지도.html\n",
      "./make_file/통합_지도/용산구_20_통합지도.html\n",
      "./make_file/통합_지도/은평구_6_통합지도.html\n",
      "./make_file/통합_지도/종로구_14_통합지도.html\n",
      "./make_file/통합_지도/중구_31_통합지도.html\n",
      "./make_file/통합_지도/중랑구_26_통합지도.html\n"
     ]
    }
   ],
   "source": [
    "# 구별로 작업 실행\n",
    "main()"
   ]
  },
  {
   "cell_type": "code",
   "execution_count": null,
   "id": "c65b57bd-5492-48a2-871b-e4c9d8e5491b",
   "metadata": {},
   "outputs": [],
   "source": []
  },
  {
   "cell_type": "code",
   "execution_count": null,
   "id": "50eed6f5-e486-4be3-b6e0-bd0fd494becf",
   "metadata": {},
   "outputs": [],
   "source": []
  },
  {
   "cell_type": "code",
   "execution_count": null,
   "id": "7d457cee-e53a-4acb-9dbd-5d0ec87c3cb1",
   "metadata": {},
   "outputs": [],
   "source": []
  },
  {
   "cell_type": "code",
   "execution_count": null,
   "id": "136888cc-a5d7-46d7-afdb-615cc07c6be5",
   "metadata": {},
   "outputs": [],
   "source": []
  },
  {
   "cell_type": "code",
   "execution_count": null,
   "id": "d92efc71-50cf-4996-8f7d-a24c217746b4",
   "metadata": {},
   "outputs": [],
   "source": []
  }
 ],
 "metadata": {
  "kernelspec": {
   "display_name": "Python 3 (ipykernel)",
   "language": "python",
   "name": "python3"
  },
  "language_info": {
   "codemirror_mode": {
    "name": "ipython",
    "version": 3
   },
   "file_extension": ".py",
   "mimetype": "text/x-python",
   "name": "python",
   "nbconvert_exporter": "python",
   "pygments_lexer": "ipython3",
   "version": "3.13.2"
  }
 },
 "nbformat": 4,
 "nbformat_minor": 5
}
