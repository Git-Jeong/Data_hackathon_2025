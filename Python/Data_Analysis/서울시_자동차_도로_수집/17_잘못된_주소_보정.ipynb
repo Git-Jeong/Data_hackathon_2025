{
 "cells": [
  {
   "cell_type": "code",
   "execution_count": 51,
   "id": "5e72d314-b193-438c-9185-7bc17149c01a",
   "metadata": {},
   "outputs": [],
   "source": [
    "import pandas as pd\n",
    "from tqdm import tqdm\n",
    "import geopandas as gpd\n",
    "import pyproj\n",
    "import requests\n",
    "from shapely.ops import transform\n",
    "from shapely.geometry import Point, Polygon, MultiPolygon"
   ]
  },
  {
   "cell_type": "code",
   "execution_count": 28,
   "id": "05eb4443-3738-41d8-8ab7-c8a6b1de5881",
   "metadata": {},
   "outputs": [],
   "source": [
    "data_url = \"./make_file/(최종)_서울열선_광진도로.csv\""
   ]
  },
  {
   "cell_type": "code",
   "execution_count": 29,
   "id": "1ca1e09c-1170-4385-93da-a331dd5d3f82",
   "metadata": {},
   "outputs": [],
   "source": [
    "dong_url = \"../데이터_보정/data/BND_ADM_DONG_PG/BND_ADM_DONG_PG.shp\"\n",
    "dong_encoding = \"CP949\""
   ]
  },
  {
   "cell_type": "code",
   "execution_count": 30,
   "id": "3cb476cc-42fb-4dd2-838e-7b38aa5ca0ce",
   "metadata": {},
   "outputs": [],
   "source": [
    "data = pd.read_csv(data_url)"
   ]
  },
  {
   "cell_type": "code",
   "execution_count": 31,
   "id": "526ae011-9b0a-4c9e-b1e3-510029f88670",
   "metadata": {},
   "outputs": [],
   "source": [
    "# 행정동 경계 데이터 로드\n",
    "gdf = gpd.read_file(dong_url, encoding=dong_encoding)"
   ]
  },
  {
   "cell_type": "code",
   "execution_count": 32,
   "id": "1369e953-c97b-4029-a41f-5ea3876c0e29",
   "metadata": {},
   "outputs": [
    {
     "data": {
      "text/plain": [
       "Index(['도로명', '열선', '도로 종류', '시작점_위도', '시작점_경도', '종료점_위도', '종료점_경도', '중앙점_위도',\n",
       "       '중앙점_경도', '도로_길이', '도로폭', '도로규모', '행정구역', '고도의_차이', '경사각', '최근접_시설들_거리',\n",
       "       '최근접_시설의_평균거리', '2019_평균_온도', '2020_평균_온도', '2021_평균_온도', '2022_평균_온도',\n",
       "       '2023_평균_온도', '2024_평균_온도', '종합_평균_기온', '행정동', '생활인구', '최근접_시설들_최소거리',\n",
       "       '최근접_시설들_최대거리'],\n",
       "      dtype='object')"
      ]
     },
     "execution_count": 32,
     "metadata": {},
     "output_type": "execute_result"
    }
   ],
   "source": [
    "data.columns"
   ]
  },
  {
   "cell_type": "code",
   "execution_count": 33,
   "id": "2958e147-6df9-48b0-9867-b865d7c7fdd1",
   "metadata": {},
   "outputs": [],
   "source": [
    "# 좌표 변환 함수 정의\n",
    "project = pyproj.Transformer.from_crs(\"EPSG:4326\", \"EPSG:5186\", always_xy=True).transform"
   ]
  },
  {
   "cell_type": "code",
   "execution_count": 38,
   "id": "b14d3b92-dd6b-4d85-9927-a3d22839a549",
   "metadata": {},
   "outputs": [],
   "source": [
    "def get_admin_dong_name(lon, lat):\n",
    "    # 위경도 → EPSG:5186 좌표로 변환\n",
    "    point = transform(project, Point(lon, lat))\n",
    "    # print(\"변환된 좌표:\", point)\n",
    "\n",
    "    for _, row in gdf.iterrows():\n",
    "        geom = row['geometry']\n",
    "        if isinstance(geom, Polygon):\n",
    "            if geom.contains(point):\n",
    "                return row['ADM_NM']\n",
    "        elif isinstance(geom, MultiPolygon):\n",
    "            for poly in geom.geoms:\n",
    "                if poly.contains(point):\n",
    "                    return row['ADM_NM']\n",
    "    return '해당 위치의 행정동을 찾을 수 없습니다.'\n"
   ]
  },
  {
   "cell_type": "code",
   "execution_count": 42,
   "id": "e5cb56e6-58ab-432e-b229-7c62b195d5dd",
   "metadata": {},
   "outputs": [
    {
     "name": "stdout",
     "output_type": "stream",
     "text": [
      "사이트\n",
      "공공데이터                     1\n",
      "kakao_api_key_REST        1\n",
      "kakao_api_key_REST_sub    1\n",
      "카카오 JS                    1\n",
      "국토부v-world                1\n",
      "GOOGLE_MAP                1\n",
      "행정안전부                     1\n",
      "Name: count, dtype: int64\n"
     ]
    }
   ],
   "source": [
    "api_key_url = '../API_KEY/API_KEYS.xlsx'\n",
    "open_api_key_file = pd.read_excel(api_key_url)\n",
    " \n",
    "print(open_api_key_file['사이트'].value_counts())\n",
    "\n",
    "KAKAO_API = open_api_key_file[open_api_key_file['사이트'] == 'kakao_api_key_REST_sub'].values[0][1]  "
   ]
  },
  {
   "cell_type": "code",
   "execution_count": 43,
   "id": "f3ba207f-70eb-442d-bd1c-dbe73079f865",
   "metadata": {},
   "outputs": [],
   "source": [
    "def get_gu_from_dong(input_dong_name) :\n",
    "    dong_name = \"서울시 \" + input_dong_name\n",
    "    url = \"https://dapi.kakao.com/v2/local/search/keyword.json\"\n",
    "    headers = {\"Authorization\": f\"KakaoAK {KAKAO_API}\"}\n",
    "    params = {\"query\": dong_name}\n",
    "    \n",
    "    response = requests.get(url, headers=headers, params=params)\n",
    "    if response.status_code != 200:\n",
    "        raise Exception(f\"API 요청 실패: {response.status_code}, {response.text}\")\n",
    "    \n",
    "    result = response.json()\n",
    "    if not result[\"documents\"]:\n",
    "        raise ValueError(\"검색 결과 없음\")\n",
    "    \n",
    "    first_result = result[\"documents\"][0]\n",
    "    x, y = first_result[\"x\"], first_result[\"y\"]\n",
    "    \n",
    "    # 좌표 -> 행정구역 변환\n",
    "    region_url = \"https://dapi.kakao.com/v2/local/geo/coord2regioncode.json\"\n",
    "    params = {\"x\": x, \"y\": y}\n",
    "    response = requests.get(region_url, headers=headers, params=params)\n",
    "    if response.status_code != 200:\n",
    "        raise Exception(f\"API 요청 실패: {response.status_code}, {response.text}\")\n",
    "    \n",
    "    region_result = response.json()\n",
    "    for region in region_result[\"documents\"]:\n",
    "        if region[\"region_type\"] == \"B\":  # 법정동(B) 대신 행정동(H) 확인 가능\n",
    "            return region[\"region_2depth_name\"]  # 구 정보 반환\n",
    "    \n",
    "    raise ValueError(\"구 정보를 찾을 수 없음\")\n"
   ]
  },
  {
   "cell_type": "code",
   "execution_count": 55,
   "id": "cf76e005-5e2b-4aa5-a1f9-505119cf0048",
   "metadata": {},
   "outputs": [
    {
     "name": "stderr",
     "output_type": "stream",
     "text": [
      " 69%|██████████████████████████▊            | 4948/7212 [14:50<08:52,  4.25it/s]"
     ]
    },
    {
     "name": "stdout",
     "output_type": "stream",
     "text": [
      "37.5379313 127.0572334\n"
     ]
    },
    {
     "name": "stderr",
     "output_type": "stream",
     "text": [
      " 69%|██████████████████████████▊            | 4949/7212 [14:50<09:02,  4.17it/s]"
     ]
    },
    {
     "name": "stdout",
     "output_type": "stream",
     "text": [
      "37.5379313 127.0572334\n"
     ]
    },
    {
     "name": "stderr",
     "output_type": "stream",
     "text": [
      " 69%|██████████████████████████▊            | 4950/7212 [14:50<09:10,  4.11it/s]"
     ]
    },
    {
     "name": "stdout",
     "output_type": "stream",
     "text": [
      "37.5379561 127.0569073\n"
     ]
    },
    {
     "name": "stderr",
     "output_type": "stream",
     "text": [
      " 69%|██████████████████████████▊            | 4951/7212 [14:50<09:14,  4.07it/s]"
     ]
    },
    {
     "name": "stdout",
     "output_type": "stream",
     "text": [
      "37.5379561 127.0569073\n"
     ]
    },
    {
     "name": "stderr",
     "output_type": "stream",
     "text": [
      " 69%|██████████████████████████▊            | 4952/7212 [14:51<09:20,  4.03it/s]"
     ]
    },
    {
     "name": "stdout",
     "output_type": "stream",
     "text": [
      "37.53900075 127.0567735\n"
     ]
    },
    {
     "name": "stderr",
     "output_type": "stream",
     "text": [
      " 69%|██████████████████████████▊            | 4953/7212 [14:51<09:19,  4.04it/s]"
     ]
    },
    {
     "name": "stdout",
     "output_type": "stream",
     "text": [
      "37.5385768 127.0572949\n"
     ]
    },
    {
     "name": "stderr",
     "output_type": "stream",
     "text": [
      " 69%|██████████████████████████▊            | 4954/7212 [14:51<09:17,  4.05it/s]"
     ]
    },
    {
     "name": "stdout",
     "output_type": "stream",
     "text": [
      "37.5385768 127.0572949\n"
     ]
    },
    {
     "name": "stderr",
     "output_type": "stream",
     "text": [
      " 69%|██████████████████████████▊            | 4955/7212 [14:51<09:14,  4.07it/s]"
     ]
    },
    {
     "name": "stdout",
     "output_type": "stream",
     "text": [
      "37.53889335 127.0566348\n"
     ]
    },
    {
     "name": "stderr",
     "output_type": "stream",
     "text": [
      " 69%|██████████████████████████▊            | 4956/7212 [14:52<09:24,  4.00it/s]"
     ]
    },
    {
     "name": "stdout",
     "output_type": "stream",
     "text": [
      "37.53900075 127.0567735\n"
     ]
    },
    {
     "name": "stderr",
     "output_type": "stream",
     "text": [
      " 69%|██████████████████████████▊            | 4957/7212 [14:52<09:26,  3.98it/s]"
     ]
    },
    {
     "name": "stdout",
     "output_type": "stream",
     "text": [
      "37.53889335 127.0566348\n"
     ]
    },
    {
     "name": "stderr",
     "output_type": "stream",
     "text": [
      " 69%|██████████████████████████▊            | 4958/7212 [14:52<09:34,  3.92it/s]"
     ]
    },
    {
     "name": "stdout",
     "output_type": "stream",
     "text": [
      "37.53861135 127.0563473\n"
     ]
    },
    {
     "name": "stderr",
     "output_type": "stream",
     "text": [
      " 69%|██████████████████████████▊            | 4959/7212 [14:52<09:26,  3.97it/s]"
     ]
    },
    {
     "name": "stdout",
     "output_type": "stream",
     "text": [
      "37.53861135 127.0563473\n"
     ]
    },
    {
     "name": "stderr",
     "output_type": "stream",
     "text": [
      " 69%|██████████████████████████▉            | 4978/7212 [14:57<08:18,  4.48it/s]"
     ]
    },
    {
     "name": "stdout",
     "output_type": "stream",
     "text": [
      "37.57158725 127.0812107\n"
     ]
    },
    {
     "name": "stderr",
     "output_type": "stream",
     "text": [
      " 69%|██████████████████████████▉            | 4981/7212 [14:57<08:18,  4.47it/s]"
     ]
    },
    {
     "name": "stdout",
     "output_type": "stream",
     "text": [
      "37.57158725 127.0812107\n"
     ]
    },
    {
     "name": "stderr",
     "output_type": "stream",
     "text": [
      " 69%|██████████████████████████▉            | 4982/7212 [14:58<08:20,  4.46it/s]"
     ]
    },
    {
     "name": "stdout",
     "output_type": "stream",
     "text": [
      "37.57149605 127.0821323\n"
     ]
    },
    {
     "name": "stderr",
     "output_type": "stream",
     "text": [
      " 69%|███████████████████████████            | 5004/7212 [15:03<08:22,  4.40it/s]"
     ]
    },
    {
     "name": "stdout",
     "output_type": "stream",
     "text": [
      "37.57320805 127.0596542\n"
     ]
    },
    {
     "name": "stderr",
     "output_type": "stream",
     "text": [
      " 69%|███████████████████████████            | 5005/7212 [15:03<08:35,  4.29it/s]"
     ]
    },
    {
     "name": "stdout",
     "output_type": "stream",
     "text": [
      "37.57302125 127.0579791\n"
     ]
    },
    {
     "name": "stderr",
     "output_type": "stream",
     "text": [
      " 69%|███████████████████████████            | 5006/7212 [15:03<08:41,  4.23it/s]"
     ]
    },
    {
     "name": "stdout",
     "output_type": "stream",
     "text": [
      "37.57324695 127.0579937\n"
     ]
    },
    {
     "name": "stderr",
     "output_type": "stream",
     "text": [
      " 69%|███████████████████████████            | 5007/7212 [15:03<08:36,  4.27it/s]"
     ]
    },
    {
     "name": "stdout",
     "output_type": "stream",
     "text": [
      "37.57302125 127.0579791\n"
     ]
    },
    {
     "name": "stderr",
     "output_type": "stream",
     "text": [
      " 69%|███████████████████████████            | 5008/7212 [15:04<08:36,  4.27it/s]"
     ]
    },
    {
     "name": "stdout",
     "output_type": "stream",
     "text": [
      "37.57324695 127.0579937\n"
     ]
    },
    {
     "name": "stderr",
     "output_type": "stream",
     "text": [
      " 69%|███████████████████████████            | 5009/7212 [15:04<08:34,  4.28it/s]"
     ]
    },
    {
     "name": "stdout",
     "output_type": "stream",
     "text": [
      "37.57355235 127.0580054\n"
     ]
    },
    {
     "name": "stderr",
     "output_type": "stream",
     "text": [
      " 69%|███████████████████████████            | 5010/7212 [15:04<08:31,  4.31it/s]"
     ]
    },
    {
     "name": "stdout",
     "output_type": "stream",
     "text": [
      "37.57320805 127.0596542\n"
     ]
    },
    {
     "name": "stderr",
     "output_type": "stream",
     "text": [
      " 69%|███████████████████████████            | 5011/7212 [15:04<08:22,  4.38it/s]"
     ]
    },
    {
     "name": "stdout",
     "output_type": "stream",
     "text": [
      "37.57355235 127.0580054\n"
     ]
    },
    {
     "name": "stderr",
     "output_type": "stream",
     "text": [
      " 69%|███████████████████████████            | 5012/7212 [15:04<08:25,  4.36it/s]"
     ]
    },
    {
     "name": "stdout",
     "output_type": "stream",
     "text": [
      "37.5481719 127.0457375\n"
     ]
    },
    {
     "name": "stderr",
     "output_type": "stream",
     "text": [
      " 70%|███████████████████████████            | 5013/7212 [15:05<08:24,  4.36it/s]"
     ]
    },
    {
     "name": "stdout",
     "output_type": "stream",
     "text": [
      "37.5511232 127.0460011\n"
     ]
    },
    {
     "name": "stderr",
     "output_type": "stream",
     "text": [
      " 70%|███████████████████████████            | 5014/7212 [15:05<08:21,  4.38it/s]"
     ]
    },
    {
     "name": "stdout",
     "output_type": "stream",
     "text": [
      "37.5511232 127.0460011\n"
     ]
    },
    {
     "name": "stderr",
     "output_type": "stream",
     "text": [
      " 70%|███████████████████████████            | 5015/7212 [15:05<08:27,  4.33it/s]"
     ]
    },
    {
     "name": "stdout",
     "output_type": "stream",
     "text": [
      "37.54634045 127.0514934\n"
     ]
    },
    {
     "name": "stderr",
     "output_type": "stream",
     "text": [
      " 70%|███████████████████████████            | 5016/7212 [15:05<08:31,  4.29it/s]"
     ]
    },
    {
     "name": "stdout",
     "output_type": "stream",
     "text": [
      "37.54634045 127.0514934\n"
     ]
    },
    {
     "name": "stderr",
     "output_type": "stream",
     "text": [
      " 71%|███████████████████████████▋           | 5123/7212 [15:30<08:00,  4.35it/s]"
     ]
    },
    {
     "name": "stdout",
     "output_type": "stream",
     "text": [
      "37.57194235 127.0727771\n"
     ]
    },
    {
     "name": "stderr",
     "output_type": "stream",
     "text": [
      " 71%|███████████████████████████▋           | 5127/7212 [15:31<08:05,  4.30it/s]"
     ]
    },
    {
     "name": "stdout",
     "output_type": "stream",
     "text": [
      "37.57933055 127.0914154\n"
     ]
    },
    {
     "name": "stderr",
     "output_type": "stream",
     "text": [
      " 71%|███████████████████████████▋           | 5128/7212 [15:31<08:00,  4.34it/s]"
     ]
    },
    {
     "name": "stdout",
     "output_type": "stream",
     "text": [
      "37.57933055 127.0914154\n"
     ]
    },
    {
     "name": "stderr",
     "output_type": "stream",
     "text": [
      " 72%|███████████████████████████▉           | 5174/7212 [15:41<07:56,  4.28it/s]"
     ]
    },
    {
     "name": "stdout",
     "output_type": "stream",
     "text": [
      "37.5712409 127.0868273\n"
     ]
    },
    {
     "name": "stderr",
     "output_type": "stream",
     "text": [
      " 90%|███████████████████████████████████    | 6495/7212 [20:49<02:42,  4.41it/s]"
     ]
    },
    {
     "name": "stdout",
     "output_type": "stream",
     "text": [
      "37.5729163 127.0673338\n"
     ]
    },
    {
     "name": "stderr",
     "output_type": "stream",
     "text": [
      " 90%|███████████████████████████████████▏   | 6496/7212 [20:49<02:43,  4.38it/s]"
     ]
    },
    {
     "name": "stdout",
     "output_type": "stream",
     "text": [
      "37.57246885 127.0753996\n"
     ]
    },
    {
     "name": "stderr",
     "output_type": "stream",
     "text": [
      " 90%|███████████████████████████████████▏   | 6497/7212 [20:50<02:44,  4.35it/s]"
     ]
    },
    {
     "name": "stdout",
     "output_type": "stream",
     "text": [
      "37.5726105 127.0728495\n"
     ]
    },
    {
     "name": "stderr",
     "output_type": "stream",
     "text": [
      " 90%|███████████████████████████████████▏   | 6498/7212 [20:50<02:44,  4.34it/s]"
     ]
    },
    {
     "name": "stdout",
     "output_type": "stream",
     "text": [
      "37.5727716 127.0706422\n"
     ]
    },
    {
     "name": "stderr",
     "output_type": "stream",
     "text": [
      " 90%|███████████████████████████████████▏   | 6499/7212 [20:50<02:41,  4.40it/s]"
     ]
    },
    {
     "name": "stdout",
     "output_type": "stream",
     "text": [
      "37.5733303 127.0674788\n"
     ]
    },
    {
     "name": "stderr",
     "output_type": "stream",
     "text": [
      " 90%|███████████████████████████████████▏   | 6500/7212 [20:50<02:41,  4.41it/s]"
     ]
    },
    {
     "name": "stdout",
     "output_type": "stream",
     "text": [
      "37.5731863 127.0672502\n"
     ]
    },
    {
     "name": "stderr",
     "output_type": "stream",
     "text": [
      " 90%|███████████████████████████████████▏   | 6501/7212 [20:50<02:40,  4.42it/s]"
     ]
    },
    {
     "name": "stdout",
     "output_type": "stream",
     "text": [
      "37.5729163 127.0673338\n"
     ]
    },
    {
     "name": "stderr",
     "output_type": "stream",
     "text": [
      " 90%|███████████████████████████████████▏   | 6502/7212 [20:51<02:40,  4.44it/s]"
     ]
    },
    {
     "name": "stdout",
     "output_type": "stream",
     "text": [
      "37.5734213 127.0672203\n"
     ]
    },
    {
     "name": "stderr",
     "output_type": "stream",
     "text": [
      " 90%|███████████████████████████████████▏   | 6503/7212 [20:51<02:38,  4.48it/s]"
     ]
    },
    {
     "name": "stdout",
     "output_type": "stream",
     "text": [
      "37.5731863 127.0672502\n"
     ]
    },
    {
     "name": "stderr",
     "output_type": "stream",
     "text": [
      " 90%|███████████████████████████████████▏   | 6504/7212 [20:51<02:38,  4.48it/s]"
     ]
    },
    {
     "name": "stdout",
     "output_type": "stream",
     "text": [
      "37.5733303 127.0674788\n"
     ]
    },
    {
     "name": "stderr",
     "output_type": "stream",
     "text": [
      " 90%|███████████████████████████████████▏   | 6505/7212 [20:51<02:37,  4.48it/s]"
     ]
    },
    {
     "name": "stdout",
     "output_type": "stream",
     "text": [
      "37.5734213 127.0672203\n"
     ]
    },
    {
     "name": "stderr",
     "output_type": "stream",
     "text": [
      " 90%|███████████████████████████████████▏   | 6506/7212 [20:52<02:38,  4.45it/s]"
     ]
    },
    {
     "name": "stdout",
     "output_type": "stream",
     "text": [
      "37.57344975 127.0563617\n"
     ]
    },
    {
     "name": "stderr",
     "output_type": "stream",
     "text": [
      " 90%|███████████████████████████████████▏   | 6507/7212 [20:52<02:38,  4.44it/s]"
     ]
    },
    {
     "name": "stdout",
     "output_type": "stream",
     "text": [
      "37.57358905 127.0551514\n"
     ]
    },
    {
     "name": "stderr",
     "output_type": "stream",
     "text": [
      " 90%|███████████████████████████████████▏   | 6508/7212 [20:52<02:38,  4.43it/s]"
     ]
    },
    {
     "name": "stdout",
     "output_type": "stream",
     "text": [
      "37.57344975 127.0563617\n"
     ]
    },
    {
     "name": "stderr",
     "output_type": "stream",
     "text": [
      " 90%|███████████████████████████████████▏   | 6509/7212 [20:52<02:39,  4.41it/s]"
     ]
    },
    {
     "name": "stdout",
     "output_type": "stream",
     "text": [
      "37.57199105 127.0640616\n"
     ]
    },
    {
     "name": "stderr",
     "output_type": "stream",
     "text": [
      " 90%|███████████████████████████████████▏   | 6510/7212 [20:53<02:38,  4.42it/s]"
     ]
    },
    {
     "name": "stdout",
     "output_type": "stream",
     "text": [
      "37.57167335 127.0758062\n"
     ]
    },
    {
     "name": "stderr",
     "output_type": "stream",
     "text": [
      " 90%|███████████████████████████████████▏   | 6511/7212 [20:53<02:40,  4.38it/s]"
     ]
    },
    {
     "name": "stdout",
     "output_type": "stream",
     "text": [
      "37.57209905 127.0705785\n"
     ]
    },
    {
     "name": "stderr",
     "output_type": "stream",
     "text": [
      " 90%|███████████████████████████████████▏   | 6512/7212 [20:53<02:41,  4.33it/s]"
     ]
    },
    {
     "name": "stdout",
     "output_type": "stream",
     "text": [
      "37.57167335 127.0758062\n"
     ]
    },
    {
     "name": "stderr",
     "output_type": "stream",
     "text": [
      " 90%|███████████████████████████████████▏   | 6513/7212 [20:53<02:40,  4.36it/s]"
     ]
    },
    {
     "name": "stdout",
     "output_type": "stream",
     "text": [
      "37.57199105 127.0640616\n"
     ]
    },
    {
     "name": "stderr",
     "output_type": "stream",
     "text": [
      " 91%|███████████████████████████████████▍   | 6564/7212 [21:05<02:27,  4.40it/s]"
     ]
    },
    {
     "name": "stdout",
     "output_type": "stream",
     "text": [
      "37.5716731 127.0803423\n"
     ]
    },
    {
     "name": "stderr",
     "output_type": "stream",
     "text": [
      " 92%|███████████████████████████████████▋   | 6601/7212 [21:13<02:15,  4.52it/s]"
     ]
    },
    {
     "name": "stdout",
     "output_type": "stream",
     "text": [
      "37.57119745 127.0843172\n"
     ]
    },
    {
     "name": "stderr",
     "output_type": "stream",
     "text": [
      "100%|███████████████████████████████████████| 7212/7212 [23:32<00:00,  5.11it/s]\n"
     ]
    }
   ],
   "source": [
    "delete_index = []\n",
    "\n",
    "for i in tqdm(range(len(data))) :\n",
    "    if data.loc[i]['열선'] == 0 :\n",
    "        lat = data.loc[i]['중앙점_위도']\n",
    "        lon = data.loc[i]['중앙점_경도'] \n",
    "        result = get_admin_dong_name(lon, lat)\n",
    "        find_gu = get_gu_from_dong(result) \n",
    "        if find_gu != \"광진구\":\n",
    "            # print(lat, lon)\n",
    "            delete_index.append(i)\n",
    "\n",
    "data.drop(index=delete_index, inplace=True)\n",
    "data.reset_index(drop=True, inplace=True)\n"
   ]
  },
  {
   "cell_type": "code",
   "execution_count": 56,
   "id": "5467fbfc-9ebd-4376-b032-da617689fbc9",
   "metadata": {},
   "outputs": [
    {
     "data": {
      "text/plain": [
       "[4947,\n",
       " 4948,\n",
       " 4949,\n",
       " 4950,\n",
       " 4951,\n",
       " 4952,\n",
       " 4953,\n",
       " 4954,\n",
       " 4955,\n",
       " 4956,\n",
       " 4957,\n",
       " 4958,\n",
       " 4977,\n",
       " 4980,\n",
       " 4981,\n",
       " 5003,\n",
       " 5004,\n",
       " 5005,\n",
       " 5006,\n",
       " 5007,\n",
       " 5008,\n",
       " 5009,\n",
       " 5010,\n",
       " 5011,\n",
       " 5012,\n",
       " 5013,\n",
       " 5014,\n",
       " 5015,\n",
       " 5122,\n",
       " 5126,\n",
       " 5127,\n",
       " 5173,\n",
       " 6494,\n",
       " 6495,\n",
       " 6496,\n",
       " 6497,\n",
       " 6498,\n",
       " 6499,\n",
       " 6500,\n",
       " 6501,\n",
       " 6502,\n",
       " 6503,\n",
       " 6504,\n",
       " 6505,\n",
       " 6506,\n",
       " 6507,\n",
       " 6508,\n",
       " 6509,\n",
       " 6510,\n",
       " 6511,\n",
       " 6512,\n",
       " 6563,\n",
       " 6600]"
      ]
     },
     "execution_count": 56,
     "metadata": {},
     "output_type": "execute_result"
    }
   ],
   "source": [
    "delete_index"
   ]
  },
  {
   "cell_type": "code",
   "execution_count": 57,
   "id": "974c6bb3-d9dc-47b8-be37-c9703d652af4",
   "metadata": {},
   "outputs": [
    {
     "data": {
      "text/plain": [
       "7159"
      ]
     },
     "execution_count": 57,
     "metadata": {},
     "output_type": "execute_result"
    }
   ],
   "source": [
    "len(data)"
   ]
  },
  {
   "cell_type": "code",
   "execution_count": 58,
   "id": "d25b2afc-e905-4739-9b15-c3b2b6fe34f7",
   "metadata": {},
   "outputs": [
    {
     "name": "stdout",
     "output_type": "stream",
     "text": [
      "./make_file/(최종)_서울열선_광진도로.csv 덮어쓰기 완료.\n"
     ]
    }
   ],
   "source": [
    "try :\n",
    "    data.to_csv(data_url, encoding = \"UTF-8\", index=False)\n",
    "    print(f\"{data_url} 덮어쓰기 완료.\")\n",
    "except OSError as e:\n",
    "    print(e)"
   ]
  },
  {
   "cell_type": "code",
   "execution_count": null,
   "id": "92563055-338d-4f1a-bd81-34009ad78d53",
   "metadata": {},
   "outputs": [],
   "source": []
  }
 ],
 "metadata": {
  "kernelspec": {
   "display_name": "Python 3 (ipykernel)",
   "language": "python",
   "name": "python3"
  },
  "language_info": {
   "codemirror_mode": {
    "name": "ipython",
    "version": 3
   },
   "file_extension": ".py",
   "mimetype": "text/x-python",
   "name": "python",
   "nbconvert_exporter": "python",
   "pygments_lexer": "ipython3",
   "version": "3.13.2"
  }
 },
 "nbformat": 4,
 "nbformat_minor": 5
}
