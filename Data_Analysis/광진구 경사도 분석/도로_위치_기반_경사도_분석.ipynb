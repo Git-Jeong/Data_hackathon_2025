{
 "cells": [
  {
   "cell_type": "code",
   "execution_count": 192,
   "id": "3b78db02-f285-4a16-b2e3-69a31d35b05e",
   "metadata": {},
   "outputs": [],
   "source": [
    "import pandas as pd"
   ]
  },
  {
   "cell_type": "code",
   "execution_count": 194,
   "id": "4a719334-6fdc-47da-8bc5-fa2f0a92bfd2",
   "metadata": {},
   "outputs": [],
   "source": [
    "data_url = './make_file/광진구_도로정보_전체.csv'"
   ]
  },
  {
   "cell_type": "code",
   "execution_count": 195,
   "id": "089bf798-3afe-4fc3-a9ce-fec16d85f199",
   "metadata": {},
   "outputs": [
    {
     "data": {
      "text/html": [
       "<div>\n",
       "<style scoped>\n",
       "    .dataframe tbody tr th:only-of-type {\n",
       "        vertical-align: middle;\n",
       "    }\n",
       "\n",
       "    .dataframe tbody tr th {\n",
       "        vertical-align: top;\n",
       "    }\n",
       "\n",
       "    .dataframe thead th {\n",
       "        text-align: right;\n",
       "    }\n",
       "</style>\n",
       "<table border=\"1\" class=\"dataframe\">\n",
       "  <thead>\n",
       "    <tr style=\"text-align: right;\">\n",
       "      <th></th>\n",
       "      <th>도로명</th>\n",
       "      <th>도로 종류</th>\n",
       "      <th>시작점_위도</th>\n",
       "      <th>시작점_경도</th>\n",
       "      <th>종료점_위도</th>\n",
       "      <th>종료점_경도</th>\n",
       "      <th>터널 여부</th>\n",
       "      <th>교량 여부</th>\n",
       "      <th>서비스 도로 여부</th>\n",
       "      <th>도로 ID</th>\n",
       "      <th>속도 제한</th>\n",
       "      <th>차선 수</th>\n",
       "      <th>일방통행 여부</th>\n",
       "      <th>교차로 여부</th>\n",
       "    </tr>\n",
       "  </thead>\n",
       "  <tbody>\n",
       "    <tr>\n",
       "      <th>0</th>\n",
       "      <td>['광장앞지하차도', '광장로']</td>\n",
       "      <td>3차로</td>\n",
       "      <td>37.545509</td>\n",
       "      <td>127.097772</td>\n",
       "      <td>37.546747</td>\n",
       "      <td>127.102031</td>\n",
       "      <td>yes</td>\n",
       "      <td>NaN</td>\n",
       "      <td>NaN</td>\n",
       "      <td>[175320385, 175320419, 175320429]</td>\n",
       "      <td>NaN</td>\n",
       "      <td>NaN</td>\n",
       "      <td>NaN</td>\n",
       "      <td>NaN</td>\n",
       "    </tr>\n",
       "    <tr>\n",
       "      <th>1</th>\n",
       "      <td>워커힐로</td>\n",
       "      <td>주거지 도로</td>\n",
       "      <td>37.545509</td>\n",
       "      <td>127.097772</td>\n",
       "      <td>37.546447</td>\n",
       "      <td>127.098044</td>\n",
       "      <td>NaN</td>\n",
       "      <td>NaN</td>\n",
       "      <td>NaN</td>\n",
       "      <td>516647748</td>\n",
       "      <td>NaN</td>\n",
       "      <td>NaN</td>\n",
       "      <td>NaN</td>\n",
       "      <td>NaN</td>\n",
       "    </tr>\n",
       "    <tr>\n",
       "      <th>2</th>\n",
       "      <td>워커힐로</td>\n",
       "      <td>주거지 도로</td>\n",
       "      <td>37.545509</td>\n",
       "      <td>127.097772</td>\n",
       "      <td>37.543981</td>\n",
       "      <td>127.097208</td>\n",
       "      <td>NaN</td>\n",
       "      <td>NaN</td>\n",
       "      <td>NaN</td>\n",
       "      <td>516647752</td>\n",
       "      <td>NaN</td>\n",
       "      <td>NaN</td>\n",
       "      <td>NaN</td>\n",
       "      <td>NaN</td>\n",
       "    </tr>\n",
       "    <tr>\n",
       "      <th>3</th>\n",
       "      <td>자양로</td>\n",
       "      <td>주도로</td>\n",
       "      <td>37.536546</td>\n",
       "      <td>127.083544</td>\n",
       "      <td>37.536399</td>\n",
       "      <td>127.083587</td>\n",
       "      <td>NaN</td>\n",
       "      <td>NaN</td>\n",
       "      <td>NaN</td>\n",
       "      <td>1193259435</td>\n",
       "      <td>NaN</td>\n",
       "      <td>3</td>\n",
       "      <td>True</td>\n",
       "      <td>NaN</td>\n",
       "    </tr>\n",
       "    <tr>\n",
       "      <th>4</th>\n",
       "      <td>아차산로</td>\n",
       "      <td>2차로</td>\n",
       "      <td>37.536546</td>\n",
       "      <td>127.083544</td>\n",
       "      <td>37.536555</td>\n",
       "      <td>127.083667</td>\n",
       "      <td>NaN</td>\n",
       "      <td>NaN</td>\n",
       "      <td>NaN</td>\n",
       "      <td>1199529109</td>\n",
       "      <td>50.0</td>\n",
       "      <td>3</td>\n",
       "      <td>True</td>\n",
       "      <td>NaN</td>\n",
       "    </tr>\n",
       "  </tbody>\n",
       "</table>\n",
       "</div>"
      ],
      "text/plain": [
       "                  도로명   도로 종류     시작점_위도      시작점_경도     종료점_위도      종료점_경도  \\\n",
       "0  ['광장앞지하차도', '광장로']     3차로  37.545509  127.097772  37.546747  127.102031   \n",
       "1                워커힐로  주거지 도로  37.545509  127.097772  37.546447  127.098044   \n",
       "2                워커힐로  주거지 도로  37.545509  127.097772  37.543981  127.097208   \n",
       "3                 자양로     주도로  37.536546  127.083544  37.536399  127.083587   \n",
       "4                아차산로     2차로  37.536546  127.083544  37.536555  127.083667   \n",
       "\n",
       "  터널 여부 교량 여부 서비스 도로 여부                              도로 ID  속도 제한 차선 수  \\\n",
       "0   yes   NaN       NaN  [175320385, 175320419, 175320429]    NaN  NaN   \n",
       "1   NaN   NaN       NaN                          516647748    NaN  NaN   \n",
       "2   NaN   NaN       NaN                          516647752    NaN  NaN   \n",
       "3   NaN   NaN       NaN                         1193259435    NaN    3   \n",
       "4   NaN   NaN       NaN                         1199529109   50.0    3   \n",
       "\n",
       "  일방통행 여부  교차로 여부  \n",
       "0     NaN     NaN  \n",
       "1     NaN     NaN  \n",
       "2     NaN     NaN  \n",
       "3    True     NaN  \n",
       "4    True     NaN  "
      ]
     },
     "execution_count": 195,
     "metadata": {},
     "output_type": "execute_result"
    }
   ],
   "source": [
    "data = pd.read_csv(data_url)\n",
    "data.head()"
   ]
  },
  {
   "cell_type": "code",
   "execution_count": 196,
   "id": "71a9b0f7-12ee-4dfa-a5db-58601400f988",
   "metadata": {},
   "outputs": [],
   "source": [
    "# start_latitude = []\n",
    "# start_longitude = []\n",
    "# start_altitude =[]\n",
    "\n",
    "# end_latitude = []\n",
    "# end_longitude = []\n",
    "# end_altitude = []"
   ]
  },
  {
   "cell_type": "code",
   "execution_count": 245,
   "id": "e37d8237-3832-4c6c-a54b-86d252ee41dd",
   "metadata": {},
   "outputs": [],
   "source": [
    "start_latitude = data['시작점_위도'].to_list()\n",
    "start_longitude = data['시작점_경도'].to_list()\n",
    "\n",
    "end_latitude = data['종료점_위도'].to_list()\n",
    "end_longitude = data['종료점_경도'].to_list()\n",
    "\n",
    "start_altitude = []\n",
    "end_altitude = []"
   ]
  },
  {
   "cell_type": "code",
   "execution_count": 233,
   "id": "750ade2f-2239-49b9-b60e-b16da5c5c7d7",
   "metadata": {},
   "outputs": [
    {
     "name": "stdout",
     "output_type": "stream",
     "text": [
      "14461\n",
      "14461\n",
      "14461\n",
      "14461\n"
     ]
    }
   ],
   "source": [
    "print(len(start_latitude))\n",
    "print(len(start_longitude))\n",
    "print(len(end_latitude))\n",
    "print(len(end_longitude))"
   ]
  },
  {
   "cell_type": "markdown",
   "id": "4ac8bad0-bec8-4ad3-a151-a098a8bf5e0b",
   "metadata": {},
   "source": [
    "## 구글 API 활용"
   ]
  },
  {
   "cell_type": "code",
   "execution_count": 186,
   "id": "7cfd3e93-69bc-4c41-a4f9-94782f89f6fb",
   "metadata": {},
   "outputs": [
    {
     "data": {
      "text/plain": [
       "사이트\n",
       "공공데이터                 1\n",
       "kakao_api_key_REST    1\n",
       "카카오 JS                1\n",
       "국토부v-world            1\n",
       "GOOGLE_MAP            1\n",
       "Name: count, dtype: int64"
      ]
     },
     "execution_count": 186,
     "metadata": {},
     "output_type": "execute_result"
    }
   ],
   "source": [
    "api_key_url = '../API_KEY/API_KEYS.xlsx'\n",
    "open_api_key_file = pd.read_excel(api_key_url)\n",
    " \n",
    "open_api_key_file['사이트'].value_counts()\n"
   ]
  },
  {
   "cell_type": "code",
   "execution_count": 189,
   "id": "4b7f3930-fe19-4d30-bc21-8632360270df",
   "metadata": {},
   "outputs": [],
   "source": [
    "GOOGLE_API_KEY = open_api_key_file[open_api_key_file['사이트'] == 'GOOGLE_MAP'].values[0][1]  "
   ]
  },
  {
   "cell_type": "code",
   "execution_count": null,
   "id": "d86ef77f-0156-4bd2-8a57-dc017e4ea3fa",
   "metadata": {},
   "outputs": [],
   "source": []
  },
  {
   "cell_type": "code",
   "execution_count": 240,
   "id": "d7a4e949-99d3-4d14-864f-8fb1e5a13541",
   "metadata": {},
   "outputs": [],
   "source": [
    "import requests\n",
    "import time\n",
    "import pandas as pd \n",
    "\n",
    "# Google Elevation API 호출 함수\n",
    "def google_api(latitudes, longitudes, mode):\n",
    "    global start_altitude, end_altitude\n",
    "    \n",
    "    url = f\"https://maps.googleapis.com/maps/api/elevation/json?key={GOOGLE_API_KEY}\"\n",
    "\n",
    "    locations = list(zip(latitudes, longitudes))  # (위도, 경도) 쌍 리스트\n",
    "    \n",
    "    for i in range(0, len(locations), 512):  # 최대 512개씩 요청\n",
    "        batch_locations = locations[i:i+512]\n",
    "        locations_param = '|'.join([f\"{lat},{lon}\" for lat, lon in batch_locations])\n",
    "        full_url = f\"{url}&locations={locations_param}\"\n",
    "        \n",
    "        response = requests.get(full_url)\n",
    "            \n",
    "        if response.status_code == 200:\n",
    "            data = response.json()\n",
    "            if data['status'] == 'OK':\n",
    "                elevations = [result['elevation'] for result in data['results']]   \n",
    "            \n",
    "                if mode == 'start':\n",
    "                    start_altitude.extend(elevations)\n",
    "                elif mode == 'end':\n",
    "                    end_altitude.extend(elevations)\n",
    "            else:\n",
    "                print(\"Error in response:\", data['status'])\n",
    "        else:\n",
    "            print(\"API 호출 실패:\", response.status_code)\n",
    "\n",
    "        time.sleep(0.1)  # API 호출 간 지연 시간"
   ]
  },
  {
   "cell_type": "code",
   "execution_count": 247,
   "id": "6fbcfb11-7728-46c3-8e7e-1bb7da3c0629",
   "metadata": {},
   "outputs": [
    {
     "name": "stdout",
     "output_type": "stream",
     "text": [
      "전) 기점 고도 길이 : 0\n",
      "전) 종점 고도 길이 : 0\n"
     ]
    }
   ],
   "source": [
    "print(f'전) 기점 고도 길이 : {len(start_altitude)}') \n",
    "\n",
    "print(f'전) 종점 고도 길이 : {len(end_altitude)}') "
   ]
  },
  {
   "cell_type": "code",
   "execution_count": 248,
   "id": "94188f91-4ab7-4570-b956-bf7e4be275be",
   "metadata": {},
   "outputs": [
    {
     "name": "stdout",
     "output_type": "stream",
     "text": [
      "14461\n"
     ]
    }
   ],
   "source": [
    "# API 호출 (start)\n",
    "print(f'기점의 고도값 불러오기')\n",
    "print(f'시작')\n",
    "google_api(start_latitude, start_longitude, 'start') \n",
    "print(f'종료')"
   ]
  },
  {
   "cell_type": "code",
   "execution_count": 249,
   "id": "57fa3f54-a3ae-436e-a2c9-718dea2c00e5",
   "metadata": {},
   "outputs": [
    {
     "name": "stdout",
     "output_type": "stream",
     "text": [
      "14461\n"
     ]
    }
   ],
   "source": [
    "# API 호출 (end)\n",
    "print(f'종점의 고도값 불러오기')\n",
    "print(f'시작')\n",
    "google_api(end_latitude, end_longitude, 'end')\n",
    "print(f'종료')"
   ]
  },
  {
   "cell_type": "code",
   "execution_count": 253,
   "id": "a897090e-556b-4891-96db-5279b915eeaf",
   "metadata": {},
   "outputs": [
    {
     "name": "stdout",
     "output_type": "stream",
     "text": [
      "후) 기점 고도 길이 : 14461\n",
      "후) 종점 고도 길이 : 14461\n",
      "결과의 길이가 같습니다.\n",
      "성공적으로 처리되었습니다.\n"
     ]
    }
   ],
   "source": [
    "print(f'후) 기점 고도 길이 : {len(start_altitude)}') \n",
    "print(f'후) 종점 고도 길이 : {len(end_altitude)}') \n",
    "\n",
    "if (len(start_altitude) == len(end_altitude)) and (len(start_altitude) > 0) :\n",
    "    print(f'결과의 길이가 같습니다.')\n",
    "    print(f'성공적으로 처리되었습니다.')\n",
    "else :\n",
    "    print(f'데이터 처리에 실패했습니다...')"
   ]
  },
  {
   "cell_type": "code",
   "execution_count": 255,
   "id": "f46776fb-e69e-49fd-89b8-456ecf1b02cf",
   "metadata": {},
   "outputs": [
    {
     "name": "stdout",
     "output_type": "stream",
     "text": [
      "14461\n"
     ]
    }
   ],
   "source": [
    "altitude_difference = []\n",
    "\n",
    "for i in range(len(start_altitude)) :\n",
    "    result = abs(start_altitude[i] - end_altitude[i]) \n",
    "    altitude_difference.append(result)\n",
    "\n",
    "print(len(altitude_difference))"
   ]
  },
  {
   "cell_type": "code",
   "execution_count": null,
   "id": "db82e3bc-5b1e-44c7-ac6c-95506ccd0bb5",
   "metadata": {},
   "outputs": [],
   "source": []
  },
  {
   "cell_type": "code",
   "execution_count": 258,
   "id": "49b9040c-4e71-4c73-9676-398d934c1e44",
   "metadata": {},
   "outputs": [
    {
     "name": "stdout",
     "output_type": "stream",
     "text": [
      "./make_file/도로_고도차이_포함_데이터.csv 파일이 저장되었습니다.\n"
     ]
    }
   ],
   "source": [
    "# 결과 데이터 추가 및 저장\n",
    "data['시작점_고도'] = start_altitude\n",
    "data['종료점_고도'] = end_altitude\n",
    "data['고도의_차이'] = altitude_difference\n",
    "\n",
    "output_file = './make_file/도로_고도차이_포함_데이터.csv'\n",
    "\n",
    "try :\n",
    "    data.to_csv(output_file, index=False)\n",
    "    print(f'{output_file} 파일이 저장되었습니다.')\n",
    "except :\n",
    "    print(f'{output_file} 파일 저장에 실패했습니다.')"
   ]
  },
  {
   "cell_type": "code",
   "execution_count": null,
   "id": "b621cc08-eee4-49c8-9bed-34bde53ca3ff",
   "metadata": {},
   "outputs": [],
   "source": []
  },
  {
   "cell_type": "code",
   "execution_count": null,
   "id": "528f135a-98ac-471e-be54-891319ddb06c",
   "metadata": {},
   "outputs": [],
   "source": []
  },
  {
   "cell_type": "code",
   "execution_count": null,
   "id": "0d7077ba-ff19-4f80-b3eb-f11604c96d68",
   "metadata": {},
   "outputs": [],
   "source": []
  },
  {
   "cell_type": "code",
   "execution_count": null,
   "id": "93d69222-f675-4b4c-8904-56b5a4905a6c",
   "metadata": {},
   "outputs": [],
   "source": []
  },
  {
   "cell_type": "code",
   "execution_count": null,
   "id": "61af23af-fd6a-42d3-ad3b-0820c5cd820e",
   "metadata": {},
   "outputs": [],
   "source": []
  },
  {
   "cell_type": "code",
   "execution_count": null,
   "id": "58e9ec4f-df10-4c50-a50b-6aff55b3ac52",
   "metadata": {},
   "outputs": [],
   "source": []
  },
  {
   "cell_type": "code",
   "execution_count": null,
   "id": "1aba3afb-32db-406c-9ad4-eb5aae9a9040",
   "metadata": {},
   "outputs": [],
   "source": []
  },
  {
   "cell_type": "code",
   "execution_count": null,
   "id": "9c61b1da-fec7-4916-a0b8-89192cce40e7",
   "metadata": {},
   "outputs": [],
   "source": []
  },
  {
   "cell_type": "code",
   "execution_count": null,
   "id": "63a59bd6-4521-4eaa-a4d7-d322d1adf3ed",
   "metadata": {},
   "outputs": [],
   "source": []
  },
  {
   "cell_type": "code",
   "execution_count": null,
   "id": "c46e9d87-2351-44b1-a0c1-296226c1bbae",
   "metadata": {},
   "outputs": [],
   "source": []
  },
  {
   "cell_type": "code",
   "execution_count": null,
   "id": "25b75586-c2cc-42e9-8bca-e67cc8e78c24",
   "metadata": {},
   "outputs": [],
   "source": []
  }
 ],
 "metadata": {
  "kernelspec": {
   "display_name": "Python 3 (ipykernel)",
   "language": "python",
   "name": "python3"
  },
  "language_info": {
   "codemirror_mode": {
    "name": "ipython",
    "version": 3
   },
   "file_extension": ".py",
   "mimetype": "text/x-python",
   "name": "python",
   "nbconvert_exporter": "python",
   "pygments_lexer": "ipython3",
   "version": "3.13.2"
  }
 },
 "nbformat": 4,
 "nbformat_minor": 5
}
