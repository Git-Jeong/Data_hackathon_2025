{
 "cells": [
  {
   "cell_type": "code",
   "execution_count": 1,
   "id": "2579649d-737a-4c52-a95d-a1bbe7db4aeb",
   "metadata": {},
   "outputs": [],
   "source": [
    "import pandas as pd\n",
    "import numpy as np"
   ]
  },
  {
   "cell_type": "code",
   "execution_count": 2,
   "id": "694a9abf-c93d-4737-8f7b-f892f9712de1",
   "metadata": {},
   "outputs": [],
   "source": [
    "file_url = './data//(최종)_서울열선_광진도로.csv'\n",
    "file_encoding = \"UTF-8\""
   ]
  },
  {
   "cell_type": "code",
   "execution_count": 3,
   "id": "07e81e29-b3c1-4dc6-b2cb-53cd092d1d0c",
   "metadata": {},
   "outputs": [],
   "source": [
    "data = pd.read_csv(file_url, encoding=file_encoding)"
   ]
  },
  {
   "cell_type": "code",
   "execution_count": 4,
   "id": "f6f6009f-91b7-4c3e-8624-b4d984deea05",
   "metadata": {},
   "outputs": [],
   "source": [
    "null_control = 1"
   ]
  },
  {
   "cell_type": "code",
   "execution_count": 8,
   "id": "8d5eb331-18ca-48af-a7b5-3f9868482f1a",
   "metadata": {},
   "outputs": [],
   "source": [
    "road_title = {\n",
    "    '3차로' : 1,\n",
    "    '주거지 도로' : 2,\n",
    "    '생활도로' : 3\n",
    "}\n",
    "        \n",
    "data['도로 종류'] = data['도로 종류'].map(road_title)"
   ]
  },
  {
   "cell_type": "code",
   "execution_count": 9,
   "id": "ac910650-aa97-4694-b6c1-88285d3e7d25",
   "metadata": {},
   "outputs": [],
   "source": [
    "if null_control == 1 :\n",
    "    # 최빈값을 대입\n",
    "    for col in ['경사각', '최근접_시설의_평균거리', '도로규모', '도로 종류', '열선', '도로폭', '2019_평균_온도', '2020_평균_온도', '2021_평균_온도',\n",
    "       '2022_평균_온도', '2023_평균_온도', '2024_평균_온도', '종합_평균_기온']:\n",
    "        data[col] = data[col].fillna(data[col].mode()[0])\n",
    "if null_control == 2 :\n",
    "    # 널값 삭제\n",
    "    data = data.dropna(subset=['경사각', '최근접_시설의_평균거리', '도로규모', '도로 종류', '열선', '도로폭'])"
   ]
  },
  {
   "cell_type": "code",
   "execution_count": 13,
   "id": "e8a8fa4c-d35a-4bfc-9ae8-5dff0d764065",
   "metadata": {},
   "outputs": [],
   "source": [
    "re_road_title = {\n",
    "    1 : '3차로',\n",
    "    2 : '주거지 도로',\n",
    "    3 : '생활도로'\n",
    "}\n",
    "        \n",
    "data['도로 종류'] = data['도로 종류'].map(re_road_title)"
   ]
  },
  {
   "cell_type": "code",
   "execution_count": 14,
   "id": "1425e112-7e0a-4e22-879f-7bf7e58111c2",
   "metadata": {},
   "outputs": [
    {
     "data": {
      "text/plain": [
       "Index(['도로명', '열선', '도로 종류', '시작점_위도', '시작점_경도', '종료점_위도', '종료점_경도', '중앙점_위도',\n",
       "       '중앙점_경도', '도로_길이', '행정동', '도로폭', '도로규모', '행정구역', '고도의_차이', '경사각',\n",
       "       '최근접_시설들_거리', '최근접_시설의_평균거리', '2019_평균_온도', '2020_평균_온도', '2021_평균_온도',\n",
       "       '2022_평균_온도', '2023_평균_온도', '2024_평균_온도', '종합_평균_기온', '최근접_시설들_최소거리',\n",
       "       '최근접_시설들_최대거리'],\n",
       "      dtype='object')"
      ]
     },
     "execution_count": 14,
     "metadata": {},
     "output_type": "execute_result"
    }
   ],
   "source": [
    "data.columns"
   ]
  },
  {
   "cell_type": "code",
   "execution_count": 15,
   "id": "a6eb12dd-8905-4ca2-b5cd-2ca0b202f034",
   "metadata": {},
   "outputs": [
    {
     "data": {
      "text/plain": [
       "도로명             0\n",
       "열선              0\n",
       "도로 종류           0\n",
       "시작점_위도          0\n",
       "시작점_경도          0\n",
       "종료점_위도          0\n",
       "종료점_경도          0\n",
       "중앙점_위도          0\n",
       "중앙점_경도          0\n",
       "도로_길이           0\n",
       "행정동             0\n",
       "도로폭             0\n",
       "도로규모            0\n",
       "행정구역            0\n",
       "고도의_차이          0\n",
       "경사각             0\n",
       "최근접_시설들_거리      0\n",
       "최근접_시설의_평균거리    0\n",
       "2019_평균_온도      0\n",
       "2020_평균_온도      0\n",
       "2021_평균_온도      0\n",
       "2022_평균_온도      0\n",
       "2023_평균_온도      0\n",
       "2024_평균_온도      0\n",
       "종합_평균_기온        0\n",
       "최근접_시설들_최소거리    0\n",
       "최근접_시설들_최대거리    0\n",
       "dtype: int64"
      ]
     },
     "execution_count": 15,
     "metadata": {},
     "output_type": "execute_result"
    }
   ],
   "source": [
    "data.isnull().sum()"
   ]
  },
  {
   "cell_type": "code",
   "execution_count": 19,
   "id": "5389ad2b-580e-4ccb-9c93-872227522b7e",
   "metadata": {},
   "outputs": [
    {
     "data": {
      "text/plain": [
       "도로 종류\n",
       "주거지 도로    6690\n",
       "3차로        281\n",
       "생활도로       241\n",
       "Name: count, dtype: int64"
      ]
     },
     "execution_count": 19,
     "metadata": {},
     "output_type": "execute_result"
    }
   ],
   "source": [
    "data['도로 종류'].value_counts()"
   ]
  },
  {
   "cell_type": "code",
   "execution_count": 20,
   "id": "8eccacf8-705c-4d81-bf32-9a86505634b5",
   "metadata": {},
   "outputs": [
    {
     "name": "stdout",
     "output_type": "stream",
     "text": [
      "./data//(최종)_서울열선_광진도로.csv 파일 덮어쓰기 완료.\n"
     ]
    }
   ],
   "source": [
    "try :\n",
    "    data.to_csv(file_url, encoding=file_encoding, index=False)\n",
    "    print(f\"{file_url} 파일 덮어쓰기 완료.\")\n",
    "except OSError as e :\n",
    "    print(e)"
   ]
  },
  {
   "cell_type": "code",
   "execution_count": null,
   "id": "d1992ef6-f8a7-44f1-8798-766a7279dd17",
   "metadata": {},
   "outputs": [],
   "source": []
  }
 ],
 "metadata": {
  "kernelspec": {
   "display_name": "Python 3 (ipykernel)",
   "language": "python",
   "name": "python3"
  },
  "language_info": {
   "codemirror_mode": {
    "name": "ipython",
    "version": 3
   },
   "file_extension": ".py",
   "mimetype": "text/x-python",
   "name": "python",
   "nbconvert_exporter": "python",
   "pygments_lexer": "ipython3",
   "version": "3.13.2"
  }
 },
 "nbformat": 4,
 "nbformat_minor": 5
}
