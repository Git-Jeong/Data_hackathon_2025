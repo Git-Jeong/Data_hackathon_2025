{
 "cells": [
  {
   "cell_type": "code",
   "execution_count": 32,
   "id": "a44e6434-9ef9-458e-866c-6d472bbb800c",
   "metadata": {},
   "outputs": [],
   "source": [
    "import pandas as pd"
   ]
  },
  {
   "cell_type": "code",
   "execution_count": 33,
   "id": "3957a327-c233-49b7-a26c-c42d3ea2b3db",
   "metadata": {},
   "outputs": [],
   "source": [
    "heat_url = \"./make_file/증폭_열선_데이터.csv\"\n",
    "road_url = '../광진구 취약시설 사이의 거리 측정/make_file/(최종)광진구_도로_취약시설_거리.csv'"
   ]
  },
  {
   "cell_type": "code",
   "execution_count": 34,
   "id": "328e85ee-b30f-4d38-93f0-3df1de19ecd0",
   "metadata": {},
   "outputs": [],
   "source": [
    "heat_data = pd.read_csv(heat_url, encoding=\"UTF-8\")\n",
    "road_data = pd.read_csv(road_url, encoding=\"UTF-8\")"
   ]
  },
  {
   "cell_type": "code",
   "execution_count": 35,
   "id": "a96238ab-07f4-404b-8f61-ead8f30742b1",
   "metadata": {},
   "outputs": [
    {
     "name": "stdout",
     "output_type": "stream",
     "text": [
      "열선 데이터의 컬럼 : Index(['중점_위도', '중점_경도', '경사각', '최근접_시설의_평균거리', '열선여부', '원본여부'], dtype='object')\n",
      "도로 데이터의 컬럼 : Index(['중점_위도', '중점_경도', '경사각', '최근접_시설의_평균거리', '열선여부', '원본여부'], dtype='object')\n"
     ]
    }
   ],
   "source": [
    "print(f\"열선 데이터의 컬럼 : {heat_data.columns}\")\n",
    "print(f\"도로 데이터의 컬럼 : {road_data.columns}\")"
   ]
  },
  {
   "cell_type": "code",
   "execution_count": 36,
   "id": "4fc92c91-9656-4fcb-8761-0c83d9c97ba4",
   "metadata": {},
   "outputs": [],
   "source": [
    "combined_data = pd.concat([heat_data, road_data], ignore_index=True)"
   ]
  },
  {
   "cell_type": "code",
   "execution_count": 39,
   "id": "cfa35ce9-942f-440f-9b21-80ef08d7a534",
   "metadata": {},
   "outputs": [
    {
     "data": {
      "text/plain": [
       "Index(['중점_위도', '중점_경도', '경사각', '최근접_시설의_평균거리', '열선여부', '원본여부'], dtype='object')"
      ]
     },
     "execution_count": 39,
     "metadata": {},
     "output_type": "execute_result"
    }
   ],
   "source": [
    "combined_data.columns"
   ]
  },
  {
   "cell_type": "code",
   "execution_count": 38,
   "id": "88e5f144-82f2-4e5a-a92a-4aeb7dae4b77",
   "metadata": {},
   "outputs": [
    {
     "data": {
      "text/html": [
       "<div>\n",
       "<style scoped>\n",
       "    .dataframe tbody tr th:only-of-type {\n",
       "        vertical-align: middle;\n",
       "    }\n",
       "\n",
       "    .dataframe tbody tr th {\n",
       "        vertical-align: top;\n",
       "    }\n",
       "\n",
       "    .dataframe thead th {\n",
       "        text-align: right;\n",
       "    }\n",
       "</style>\n",
       "<table border=\"1\" class=\"dataframe\">\n",
       "  <thead>\n",
       "    <tr style=\"text-align: right;\">\n",
       "      <th></th>\n",
       "      <th>중점_위도</th>\n",
       "      <th>중점_경도</th>\n",
       "      <th>경사각</th>\n",
       "      <th>최근접_시설의_평균거리</th>\n",
       "      <th>열선여부</th>\n",
       "      <th>원본여부</th>\n",
       "    </tr>\n",
       "  </thead>\n",
       "  <tbody>\n",
       "    <tr>\n",
       "      <th>0</th>\n",
       "      <td>37.590543</td>\n",
       "      <td>126.993313</td>\n",
       "      <td>11.724227</td>\n",
       "      <td>219.445340</td>\n",
       "      <td>1.0</td>\n",
       "      <td>1</td>\n",
       "    </tr>\n",
       "    <tr>\n",
       "      <th>1</th>\n",
       "      <td>37.613411</td>\n",
       "      <td>126.977763</td>\n",
       "      <td>5.044559</td>\n",
       "      <td>642.349704</td>\n",
       "      <td>1.0</td>\n",
       "      <td>1</td>\n",
       "    </tr>\n",
       "    <tr>\n",
       "      <th>2</th>\n",
       "      <td>37.611366</td>\n",
       "      <td>126.975317</td>\n",
       "      <td>7.859327</td>\n",
       "      <td>420.360320</td>\n",
       "      <td>1.0</td>\n",
       "      <td>1</td>\n",
       "    </tr>\n",
       "    <tr>\n",
       "      <th>3</th>\n",
       "      <td>37.605400</td>\n",
       "      <td>126.957447</td>\n",
       "      <td>10.043141</td>\n",
       "      <td>207.818466</td>\n",
       "      <td>1.0</td>\n",
       "      <td>1</td>\n",
       "    </tr>\n",
       "    <tr>\n",
       "      <th>4</th>\n",
       "      <td>37.583314</td>\n",
       "      <td>126.987147</td>\n",
       "      <td>1.226563</td>\n",
       "      <td>250.589899</td>\n",
       "      <td>1.0</td>\n",
       "      <td>1</td>\n",
       "    </tr>\n",
       "  </tbody>\n",
       "</table>\n",
       "</div>"
      ],
      "text/plain": [
       "       중점_위도       중점_경도        경사각  최근접_시설의_평균거리  열선여부  원본여부\n",
       "0  37.590543  126.993313  11.724227    219.445340   1.0     1\n",
       "1  37.613411  126.977763   5.044559    642.349704   1.0     1\n",
       "2  37.611366  126.975317   7.859327    420.360320   1.0     1\n",
       "3  37.605400  126.957447  10.043141    207.818466   1.0     1\n",
       "4  37.583314  126.987147   1.226563    250.589899   1.0     1"
      ]
     },
     "execution_count": 38,
     "metadata": {},
     "output_type": "execute_result"
    }
   ],
   "source": [
    "combined_data.head()"
   ]
  },
  {
   "cell_type": "code",
   "execution_count": 40,
   "id": "92cd9768-5f34-4977-9a38-9e7410ce3da9",
   "metadata": {},
   "outputs": [
    {
     "data": {
      "text/plain": [
       "중점_위도           0\n",
       "중점_경도           0\n",
       "경사각             0\n",
       "최근접_시설의_평균거리    0\n",
       "열선여부            0\n",
       "원본여부            0\n",
       "dtype: int64"
      ]
     },
     "execution_count": 40,
     "metadata": {},
     "output_type": "execute_result"
    }
   ],
   "source": [
    "combined_data.isnull().sum()"
   ]
  },
  {
   "cell_type": "code",
   "execution_count": 41,
   "id": "3c6fde4b-97b0-4d49-950b-3a5b025cb9f3",
   "metadata": {},
   "outputs": [
    {
     "name": "stdout",
     "output_type": "stream",
     "text": [
      "./make_file/증폭_종합_데이터.csv 파일 저장 완료.\n"
     ]
    }
   ],
   "source": [
    "try :\n",
    "    save_file_name = './make_file/증폭_통합_데이터.csv'\n",
    "    combined_data.to_csv(save_file_name, encoding=\"UTF-8\", index=False)\n",
    "    print(f\"{save_file_name} 파일 저장 완료.\")\n",
    "except OSError as e :\n",
    "    print(e)"
   ]
  },
  {
   "cell_type": "code",
   "execution_count": null,
   "id": "1ec2764a-103c-444f-bd2e-b462210cb995",
   "metadata": {},
   "outputs": [],
   "source": []
  }
 ],
 "metadata": {
  "kernelspec": {
   "display_name": "Python 3 (ipykernel)",
   "language": "python",
   "name": "python3"
  },
  "language_info": {
   "codemirror_mode": {
    "name": "ipython",
    "version": 3
   },
   "file_extension": ".py",
   "mimetype": "text/x-python",
   "name": "python",
   "nbconvert_exporter": "python",
   "pygments_lexer": "ipython3",
   "version": "3.13.2"
  }
 },
 "nbformat": 4,
 "nbformat_minor": 5
}
