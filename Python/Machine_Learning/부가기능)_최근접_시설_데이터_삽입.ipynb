{
 "cells": [
  {
   "cell_type": "code",
   "execution_count": 12,
   "id": "8aa61a56-d21e-482b-9e82-19cb70d2b8a4",
   "metadata": {},
   "outputs": [],
   "source": [
    "import pandas as pd\n",
    "import numpy as np"
   ]
  },
  {
   "cell_type": "code",
   "execution_count": 13,
   "id": "02e68562-6ef3-43af-b934-c54d3889468b",
   "metadata": {},
   "outputs": [],
   "source": [
    "file_url = \"./data/(최종)_서울열선_광진도로.csv\"\n",
    "file_encoding = \"UTF-8\""
   ]
  },
  {
   "cell_type": "code",
   "execution_count": 14,
   "id": "e137992f-5969-4806-bb60-28e05099efb2",
   "metadata": {},
   "outputs": [],
   "source": [
    "data = pd.read_csv(url, encoding=file_encoding, low_memory=False)"
   ]
  },
  {
   "cell_type": "code",
   "execution_count": 15,
   "id": "618ec71e-a73c-40d7-bb60-6bc47a51e1c0",
   "metadata": {},
   "outputs": [
    {
     "data": {
      "text/plain": [
       "Index(['도로명', '열선', '도로 종류', '시작점_위도', '시작점_경도', '종료점_위도', '종료점_경도', '중앙점_위도',\n",
       "       '중앙점_경도', '도로_길이', '행정동', '도로폭', '도로규모', '행정구역', '고도의_차이', '경사각',\n",
       "       '최근접_시설들_거리', '최근접_시설의_평균거리', '2019_평균_온도', '2020_평균_온도', '2021_평균_온도',\n",
       "       '2022_평균_온도', '2023_평균_온도', '2024_평균_온도', '종합_평균_기온'],\n",
       "      dtype='object')"
      ]
     },
     "execution_count": 15,
     "metadata": {},
     "output_type": "execute_result"
    }
   ],
   "source": [
    "data.columns"
   ]
  },
  {
   "cell_type": "code",
   "execution_count": 16,
   "id": "5f3037b9-07c9-4e50-95d4-7cac9a31bdbf",
   "metadata": {},
   "outputs": [],
   "source": [
    "data['최근접_시설들_최소거리'] = data['최근접_시설들_거리'].apply(lambda x: np.min(list(map(float, x.split(',')))))\n",
    "data['최근접_시설들_최대거리'] = data['최근접_시설들_거리'].apply(lambda x: np.max(list(map(float, x.split(',')))))"
   ]
  },
  {
   "cell_type": "code",
   "execution_count": 19,
   "id": "f8dd0cda-b109-4545-9eab-2e90c2c210e9",
   "metadata": {},
   "outputs": [
    {
     "name": "stdout",
     "output_type": "stream",
     "text": [
      "96.8087600909912\n",
      "416.17133558340885\n"
     ]
    }
   ],
   "source": [
    "print(data['최근접_시설들_최소거리'].mean())\n",
    "print(data['최근접_시설들_최소거리'].max()) "
   ]
  },
  {
   "cell_type": "code",
   "execution_count": 20,
   "id": "2eeb354f-9359-4882-b2d4-92c7848f7509",
   "metadata": {},
   "outputs": [
    {
     "name": "stdout",
     "output_type": "stream",
     "text": [
      "235.49792595797805\n",
      "978.2708852835234\n"
     ]
    }
   ],
   "source": [
    "print(data['최근접_시설들_최대거리'].mean())\n",
    "print(data['최근접_시설들_최대거리'].max()) "
   ]
  },
  {
   "cell_type": "code",
   "execution_count": 21,
   "id": "e7f7a392-89f4-492a-880a-ef8bdc5eb4f7",
   "metadata": {},
   "outputs": [
    {
     "name": "stdout",
     "output_type": "stream",
     "text": [
      "./data/(최종)_서울열선_광진도로.csv 덮어쓰기 성공.\n"
     ]
    }
   ],
   "source": [
    "try :\n",
    "    data.to_csv(file_url, encoding=file_encoding, index=False)\n",
    "    print(f\"{file_url} 덮어쓰기 성공.\")\n",
    "except OSError as e :\n",
    "    print(e)"
   ]
  },
  {
   "cell_type": "code",
   "execution_count": null,
   "id": "0fe4c73c-9e07-4601-b9f7-68c6bbb62dae",
   "metadata": {},
   "outputs": [],
   "source": []
  },
  {
   "cell_type": "code",
   "execution_count": null,
   "id": "ae4cfc8b-5630-40f6-b361-c791673b98de",
   "metadata": {},
   "outputs": [],
   "source": []
  }
 ],
 "metadata": {
  "kernelspec": {
   "display_name": "Python 3 (ipykernel)",
   "language": "python",
   "name": "python3"
  },
  "language_info": {
   "codemirror_mode": {
    "name": "ipython",
    "version": 3
   },
   "file_extension": ".py",
   "mimetype": "text/x-python",
   "name": "python",
   "nbconvert_exporter": "python",
   "pygments_lexer": "ipython3",
   "version": "3.13.2"
  }
 },
 "nbformat": 4,
 "nbformat_minor": 5
}
