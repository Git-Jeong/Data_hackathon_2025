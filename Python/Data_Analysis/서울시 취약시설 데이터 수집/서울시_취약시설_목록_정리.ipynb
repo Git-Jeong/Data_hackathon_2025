{
 "cells": [
  {
   "cell_type": "markdown",
   "id": "4e72ac22-0b72-4af4-98c1-0cc23df1b421",
   "metadata": {},
   "source": [
    "### 필요한 라이브러리 import"
   ]
  },
  {
   "cell_type": "code",
   "execution_count": 1,
   "id": "b430a7a5-981b-45d2-9317-87a6af9f08fd",
   "metadata": {},
   "outputs": [],
   "source": [
    "import pandas as pd\n",
    "import os\n",
    "import requests\n",
    "import sys\n",
    "import re\n",
    "from tqdm import tqdm"
   ]
  },
  {
   "cell_type": "markdown",
   "id": "91127a65-ed75-4123-9db3-29faf46adf1c",
   "metadata": {},
   "source": [
    "### KAKAO API KEY 값 관리"
   ]
  },
  {
   "cell_type": "code",
   "execution_count": 2,
   "id": "af5b43c0",
   "metadata": {},
   "outputs": [],
   "source": [
    "api_key_url = '../API_KEY/API_KEYS.xlsx'\n",
    "open_api_key_file = pd.read_excel(api_key_url)\n",
    " \n",
    "open_api_key_file['사이트'].value_counts()\n",
    "\n",
    "get_api_key = open_api_key_file[open_api_key_file['사이트'] == 'kakao_api_key_REST'].values[0][1]  "
   ]
  },
  {
   "cell_type": "code",
   "execution_count": 3,
   "id": "e72f0c44-beb4-43e6-bae9-a4337e8edaa1",
   "metadata": {},
   "outputs": [],
   "source": [
    "# KAKAO API KEY 값 \n",
    "KAKAO_API_KEY = get_api_key  "
   ]
  },
  {
   "cell_type": "markdown",
   "id": "2803d267-4a06-4e8c-92ff-c1825a99d14e",
   "metadata": {},
   "source": [
    "### 파일을 불러올 폴더의 위치, 저장할 폴더의 위치 설정"
   ]
  },
  {
   "cell_type": "code",
   "execution_count": 4,
   "id": "3aba891e-45e7-49a5-9022-dc191f6cf840",
   "metadata": {},
   "outputs": [],
   "source": [
    "folder_name_1 = './data'\n",
    "folder_name_2 = './make_file'\n",
    "\n",
    "save_file_folder = f'{folder_name_2}/'\n",
    "sava_file_encoding = 'utf-8'"
   ]
  },
  {
   "cell_type": "markdown",
   "id": "9a16fd8f-cef4-4a3c-98c6-80566365f222",
   "metadata": {},
   "source": [
    "### 파일을 저장할 위치 확인"
   ]
  },
  {
   "cell_type": "code",
   "execution_count": 5,
   "id": "9c7fa6a2-dbce-4a09-987a-c2b593903501",
   "metadata": {},
   "outputs": [],
   "source": [
    "folder_1_check = os.path.isdir(folder_name_1)\n",
    "\n",
    "if not folder_1_check:\n",
    "    os.makedirs(folder_name_1)  # folder_name_1이 없으면 생성\n",
    "    print(f\"'{folder_name_1}' 폴더가 생성되었습니다.\")\n",
    "\n",
    "folder_2_check = os.path.isdir(save_file_folder)\n",
    "if not folder_2_check:\n",
    "    os.makedirs(save_file_folder)  # folder_name_2가 없으면 생성\n",
    "    print(f\"'{save_file_folder}' 폴더가 생성되었습니다.\")\n"
   ]
  },
  {
   "cell_type": "markdown",
   "id": "7bd984f5-3677-4cd7-b58a-63d2b749b865",
   "metadata": {},
   "source": [
    "### 불러올 파일들의 폴더 위치 지정"
   ]
  },
  {
   "cell_type": "code",
   "execution_count": 6,
   "id": "221ad409-9c58-4c70-9091-b4683ff663cb",
   "metadata": {},
   "outputs": [
    {
     "name": "stdout",
     "output_type": "stream",
     "text": [
      "필요한 파일이 모두 있습니다.\n"
     ]
    }
   ],
   "source": [
    "temp_school_url = f'{folder_name_1}/서울시 학교 기본정보.csv'\n",
    "temp_children_file_url =  f'{folder_name_1}/서울시 지역아동센터 시설현황정보.csv'\n",
    "temp_childcare_file_url = f'{folder_name_1}/서울시 어린이집 정보(표준 데이터).csv'\n",
    "temp_welfare_file_url = f'{folder_name_1}/서울시 사회복지시설 목록.csv'\n",
    "\n",
    "school_file_check = os.path.isfile(temp_school_url)\n",
    "children_file_check = os.path.isfile(temp_children_file_url) \n",
    "childcare_file_check = os.path.isfile(temp_childcare_file_url)\n",
    "welfare_care_file_check = os.path.isfile(temp_welfare_file_url)\n",
    "\n",
    "def sys_exit(err_file) :\n",
    "    print(f'{err_file} 파일이 없습니다....')\n",
    "    print(f'파일이 없으므로 시스템을 종료합니다.')\n",
    "    sys.exit()\n",
    "\n",
    "if school_file_check is False :\n",
    "    sys_exit(temp_school_url)\n",
    "    \n",
    "if children_file_check is False :\n",
    "    sys_exit(temp_children_file_url)\n",
    "\n",
    "if childcare_file_check is False :\n",
    "    sys_exit(temp_childcare_file_url)\n",
    "\n",
    "if welfare_care_file_check is False :\n",
    "    sys_exit(temp_seniorcare_file_url)\n",
    "    \n",
    "if (school_file_check and school_file_check and childcare_file_check and welfare_care_file_check) :\n",
    "    print(f'필요한 파일이 모두 있습니다.')\n",
    "    \n",
    "school_url = temp_school_url\n",
    "children_file_url = temp_children_file_url\n",
    "childcare_file_url = temp_childcare_file_url\n",
    "welfare_file_url = temp_welfare_file_url"
   ]
  },
  {
   "cell_type": "markdown",
   "id": "b15c8fb5-c84c-4585-b0e8-83758efac31e",
   "metadata": {},
   "source": [
    "### 통합 파일로 저장하기 위한 배열"
   ]
  },
  {
   "cell_type": "code",
   "execution_count": 115,
   "id": "3c02217c-0c26-4cc9-8b79-53d351e372dc",
   "metadata": {},
   "outputs": [],
   "source": [
    "# 통합 파일로 저장할 배열\n",
    "all_list_classification = []\n",
    "all_list_name = []\n",
    "all_list_location_x_y = []\n",
    "all_list_location_x = []\n",
    "all_list_location_y = [] "
   ]
  },
  {
   "cell_type": "markdown",
   "id": "49a50800-a79f-4072-b3ba-efe884eaa1e5",
   "metadata": {},
   "source": [
    "### kakao api를 활용하여 도로명 -> 위도, 경도 값으로 변환"
   ]
  },
  {
   "cell_type": "code",
   "execution_count": 8,
   "id": "3e2138f4-b1d4-457d-b55a-1618fa8e066e",
   "metadata": {},
   "outputs": [],
   "source": [
    "def get_lat_lon_from_address(address): \n",
    "    \"\"\"\n",
    "    카카오맵 API를 사용하여 주소를 위도, 경도로 변환하는 함수\n",
    "    \n",
    "    :param address: 변환할 주소 (예: \"서울 광진구 능동 25\")\n",
    "    :param api_key: 카카오 REST API 키\n",
    "    :return: (위도, 경도) 튜플 반환, 변환 실패 시 None 반환\n",
    "    \"\"\"\n",
    "    url = \"https://dapi.kakao.com/v2/local/search/address.json\"\n",
    "    headers = {\"Authorization\": f\"KakaoAK {KAKAO_API_KEY}\"}\n",
    "    params = {\"query\": address}\n",
    "    \n",
    "    response = requests.get(url, headers=headers, params=params)\n",
    "    \n",
    "    if response.status_code == 200:\n",
    "        result = response.json()\n",
    "        if result[\"documents\"]:\n",
    "            x = result[\"documents\"][0][\"x\"]  # 경도 (Longitude)\n",
    "            y = result[\"documents\"][0][\"y\"]  # 위도 (Latitude)\n",
    "            return y, x \n",
    "    return None, None\n"
   ]
  },
  {
   "cell_type": "markdown",
   "id": "ec1c24e3-1c2e-479e-a15d-b512c2e2cf5b",
   "metadata": {},
   "source": [
    "### 학교 목록 공공데이터를 불러와서 처리 시작"
   ]
  },
  {
   "cell_type": "code",
   "execution_count": 9,
   "id": "fa21f291-f128-48d1-9eec-08edc21aea24",
   "metadata": {},
   "outputs": [],
   "source": [
    "school_data = pd.read_csv(school_url, encoding = 'euc-kr')"
   ]
  },
  {
   "cell_type": "code",
   "execution_count": 10,
   "id": "a4ae289f-2c34-400f-927c-52f2c919a5c6",
   "metadata": {
    "scrolled": true
   },
   "outputs": [],
   "source": [
    "# school_data.head(5)"
   ]
  },
  {
   "cell_type": "code",
   "execution_count": 11,
   "id": "f08e0793-b552-4f7f-98c6-a428fb669bdc",
   "metadata": {
    "scrolled": true
   },
   "outputs": [],
   "source": [
    "# school_data.info()"
   ]
  },
  {
   "cell_type": "code",
   "execution_count": 12,
   "id": "c490b5c7-f165-4656-b458-72712fd98eff",
   "metadata": {
    "scrolled": true
   },
   "outputs": [],
   "source": [
    "# school_data.isnull().sum()"
   ]
  },
  {
   "cell_type": "code",
   "execution_count": 13,
   "id": "49fdcbd5-25bd-4b30-88d0-e2e35d10c389",
   "metadata": {},
   "outputs": [
    {
     "data": {
      "text/plain": [
       "Index(['학교종류명', '설립구분', '표준학교코드', '학교명', '영문학교명', '관할조직명', '도로명우편번호', '도로명주소',\n",
       "       '도로명상세주소', '전화번호', '홈페이지주소', '팩스번호', '남녀공학구분명', '고등학교구분명',\n",
       "       '산업체특별학급존재여부', '고등학교일반실업구분명', '특수목적고등학교계열명', '입시전후기구분명', '주야구분명',\n",
       "       '설립일자', '개교기념일', '시도교육청코드', '시도교육청명', '소재지명', '주야과정', '계열명', '학과명',\n",
       "       '적재일시'],\n",
       "      dtype='object')"
      ]
     },
     "execution_count": 13,
     "metadata": {},
     "output_type": "execute_result"
    }
   ],
   "source": [
    "school_data.columns"
   ]
  },
  {
   "cell_type": "code",
   "execution_count": 14,
   "id": "cf65323a-b67d-45d5-9c03-4f4851bed348",
   "metadata": {},
   "outputs": [
    {
     "data": {
      "text/plain": [
       "0          서울특별시 광진구 천호대로 664\n",
       "1           서울특별시 성동구 마장로 161\n",
       "2          서울특별시 성동구 왕십리로 189\n",
       "3            서울특별시 성동구 마조로 42\n",
       "4         서울특별시 광진구 뚝섬로41길 33\n",
       "                ...          \n",
       "3888      서울특별시 강남구 개포로22길 65\n",
       "3889    서울특별시 마포구 월드컵북로38길 21\n",
       "3890       서울특별시 종로구 필운대로 103\n",
       "3891        서울특별시 종로구 필운대로 97\n",
       "3892        서울특별시 노원구 공릉로 264\n",
       "Name: 도로명주소, Length: 3893, dtype: object"
      ]
     },
     "execution_count": 14,
     "metadata": {},
     "output_type": "execute_result"
    }
   ],
   "source": [
    "school_data['도로명주소']"
   ]
  },
  {
   "cell_type": "code",
   "execution_count": 15,
   "id": "f21acea6-5b17-43a1-ae76-2f2a9ee2885b",
   "metadata": {},
   "outputs": [
    {
     "name": "stdout",
     "output_type": "stream",
     "text": [
      "0\n"
     ]
    }
   ],
   "source": [
    "print(school_data['도로명주소'].isnull().sum())"
   ]
  },
  {
   "cell_type": "code",
   "execution_count": 16,
   "id": "ad9a77d5-297b-4499-9e8c-d62685c42e0f",
   "metadata": {},
   "outputs": [],
   "source": [
    "school_data = school_data.drop_duplicates(subset='학교명')\n",
    "# school_data"
   ]
  },
  {
   "cell_type": "code",
   "execution_count": 17,
   "id": "59386785-5dab-48c8-9568-68cb24f78936",
   "metadata": {},
   "outputs": [
    {
     "data": {
      "text/plain": [
       "array(['각종학교(중)', '초등학교', '중학교', '각종학교(고)', '평생학교(초)-3년6학기', '각종학교(초)',\n",
       "       '방송통신중학교', '고등학교', '특수학교', '외국인학교', '평생학교(고)-2년6학기',\n",
       "       '평생학교(고)-3년6학기', '평생학교(중)-2년6학기', '고등기술학교', '방송통신고등학교', '공동실습소'],\n",
       "      dtype=object)"
      ]
     },
     "execution_count": 17,
     "metadata": {},
     "output_type": "execute_result"
    }
   ],
   "source": [
    "school_data['학교종류명'].unique()"
   ]
  },
  {
   "cell_type": "code",
   "execution_count": 18,
   "id": "6fb636ca-c1b0-465d-bfa5-b4851b013149",
   "metadata": {
    "scrolled": true
   },
   "outputs": [],
   "source": [
    "# print(f'학교 종류 : {school_data['학교종류명'].unique()}')\n",
    "# print(f'학 학교별 수 : {school_data['학교종류명'].value_counts()}')"
   ]
  },
  {
   "cell_type": "code",
   "execution_count": 19,
   "id": "f5a76b72-8b29-4f61-96b4-87705b145558",
   "metadata": {
    "jupyter": {
     "source_hidden": true
    }
   },
   "outputs": [],
   "source": [
    "# 초 중 고 여부. ['학교종류명']\n",
    "#     '초등학교' : 1,\n",
    "#     '각종학교(중)' : 2,\n",
    "#     '중학교' : 2,\n",
    "#     '고등학교' : 3,\n",
    "#     '외국인학교' : 4,\n",
    "#     '특수학교' : 5 \n",
    "# school_classification = []\n",
    "\n",
    "# # 학교 이름\n",
    "# school_name = [] "
   ]
  },
  {
   "cell_type": "code",
   "execution_count": null,
   "id": "1dd404dc-15a2-4f3a-8af3-b07a252bad8d",
   "metadata": {},
   "outputs": [],
   "source": []
  },
  {
   "cell_type": "code",
   "execution_count": 20,
   "id": "cb6c7751-d4ae-420d-b546-955c2d90c31b",
   "metadata": {},
   "outputs": [],
   "source": [
    "school_address = school_data['도로명주소']\n",
    "school_name = school_data['학교명']\n",
    "school_classification = school_data['학교종류명']"
   ]
  },
  {
   "cell_type": "code",
   "execution_count": null,
   "id": "c10ea59d-77de-4a3f-93ca-584216f9bafe",
   "metadata": {},
   "outputs": [],
   "source": []
  },
  {
   "cell_type": "markdown",
   "id": "de30bd01-2deb-4ca0-a5d3-dd846097f9a5",
   "metadata": {},
   "source": [
    "### 학교 정보 저장을 위한 배열"
   ]
  },
  {
   "cell_type": "code",
   "execution_count": 95,
   "id": "973f7e04-31da-4dc5-8a22-197585b24ad2",
   "metadata": {},
   "outputs": [],
   "source": [
    "get_school_name = []\n",
    "get_school_classification = []\n",
    "get_school_location_x_y = []\n",
    "get_school_location_x = []\n",
    "get_school_location_y = []"
   ]
  },
  {
   "cell_type": "markdown",
   "id": "5ea7df7e-6767-4ff7-a002-f6d458d57166",
   "metadata": {},
   "source": [
    "### 학교 수 만큼 반복문을 돌려서 위도,경도값 변환"
   ]
  },
  {
   "cell_type": "code",
   "execution_count": 96,
   "id": "672b791e-c189-4b59-95ba-386b6d0fa0a9",
   "metadata": {},
   "outputs": [
    {
     "name": "stderr",
     "output_type": "stream",
     "text": [
      "100%|███████████████████████████████████████| 1414/1414 [02:07<00:00, 11.12it/s]\n"
     ]
    }
   ],
   "source": [
    "temp_school_name = school_data['학교명'].to_list()\n",
    "\n",
    "for i in tqdm(range(len(school_address))):\n",
    "# for i in tqdm(range(10)):\n",
    "    search_school_address = school_address.iloc[i]   \n",
    "    search_school_classification = school_classification.iloc[i] \n",
    "    \n",
    "    latitude, longitude = get_lat_lon_from_address(search_school_address)\n",
    "    \n",
    "    search_school_location_x_y = f'{latitude}, {longitude}'  \n",
    "\n",
    "    # print(search_school_location_x_y)\n",
    "    get_school_name.append(temp_school_name[i])\n",
    "    get_school_classification.append(search_school_classification)\n",
    "    get_school_location_x_y.append(search_school_location_x_y)\n",
    "    get_school_location_x.append(latitude)\n",
    "    get_school_location_y.append(longitude)\n",
    "    \n"
   ]
  },
  {
   "cell_type": "markdown",
   "id": "4652f13a-4bbc-424e-8731-a103fd0d407a",
   "metadata": {},
   "source": [
    "### 학교 위치정보 저장을 위한 데이터프레임화"
   ]
  },
  {
   "cell_type": "code",
   "execution_count": 97,
   "id": "b501363d-6477-47c2-a03f-c42bbe6c9f08",
   "metadata": {},
   "outputs": [],
   "source": [
    "school_df = pd.DataFrame({\n",
    "    '학교구분' : get_school_classification, \n",
    "    '학교명' : get_school_name, \n",
    "    '학교_위치' : get_school_location_x_y,\n",
    "    '위도' : get_school_location_x,\n",
    "    '경도' : get_school_location_y\n",
    "})"
   ]
  },
  {
   "cell_type": "code",
   "execution_count": 98,
   "id": "7dd55d81-78e5-4ac1-8b33-7086cd9e2ed9",
   "metadata": {},
   "outputs": [
    {
     "data": {
      "text/html": [
       "<div>\n",
       "<style scoped>\n",
       "    .dataframe tbody tr th:only-of-type {\n",
       "        vertical-align: middle;\n",
       "    }\n",
       "\n",
       "    .dataframe tbody tr th {\n",
       "        vertical-align: top;\n",
       "    }\n",
       "\n",
       "    .dataframe thead th {\n",
       "        text-align: right;\n",
       "    }\n",
       "</style>\n",
       "<table border=\"1\" class=\"dataframe\">\n",
       "  <thead>\n",
       "    <tr style=\"text-align: right;\">\n",
       "      <th></th>\n",
       "      <th>학교구분</th>\n",
       "      <th>학교명</th>\n",
       "      <th>학교_위치</th>\n",
       "      <th>위도</th>\n",
       "      <th>경도</th>\n",
       "    </tr>\n",
       "  </thead>\n",
       "  <tbody>\n",
       "    <tr>\n",
       "      <th>0</th>\n",
       "      <td>각종학교(중)</td>\n",
       "      <td>선화예술중학교</td>\n",
       "      <td>37.5509798002896, 127.087095159462</td>\n",
       "      <td>37.5509798002896</td>\n",
       "      <td>127.087095159462</td>\n",
       "    </tr>\n",
       "    <tr>\n",
       "      <th>1</th>\n",
       "      <td>초등학교</td>\n",
       "      <td>서울숭신초등학교</td>\n",
       "      <td>37.5676883077439, 127.028005141452</td>\n",
       "      <td>37.5676883077439</td>\n",
       "      <td>127.028005141452</td>\n",
       "    </tr>\n",
       "    <tr>\n",
       "      <th>2</th>\n",
       "      <td>중학교</td>\n",
       "      <td>행당중학교</td>\n",
       "      <td>37.5545540364985, 127.041963387397</td>\n",
       "      <td>37.5545540364985</td>\n",
       "      <td>127.041963387397</td>\n",
       "    </tr>\n",
       "    <tr>\n",
       "      <th>3</th>\n",
       "      <td>중학교</td>\n",
       "      <td>한양대학교사범대학부속중학교</td>\n",
       "      <td>37.5619188387132, 127.042324044658</td>\n",
       "      <td>37.5619188387132</td>\n",
       "      <td>127.042324044658</td>\n",
       "    </tr>\n",
       "    <tr>\n",
       "      <th>4</th>\n",
       "      <td>중학교</td>\n",
       "      <td>자양중학교</td>\n",
       "      <td>37.5357298982053, 127.074368913785</td>\n",
       "      <td>37.5357298982053</td>\n",
       "      <td>127.074368913785</td>\n",
       "    </tr>\n",
       "  </tbody>\n",
       "</table>\n",
       "</div>"
      ],
      "text/plain": [
       "      학교구분             학교명                               학교_위치  \\\n",
       "0  각종학교(중)         선화예술중학교  37.5509798002896, 127.087095159462   \n",
       "1     초등학교        서울숭신초등학교  37.5676883077439, 127.028005141452   \n",
       "2      중학교           행당중학교  37.5545540364985, 127.041963387397   \n",
       "3      중학교  한양대학교사범대학부속중학교  37.5619188387132, 127.042324044658   \n",
       "4      중학교           자양중학교  37.5357298982053, 127.074368913785   \n",
       "\n",
       "                 위도                경도  \n",
       "0  37.5509798002896  127.087095159462  \n",
       "1  37.5676883077439  127.028005141452  \n",
       "2  37.5545540364985  127.041963387397  \n",
       "3  37.5619188387132  127.042324044658  \n",
       "4  37.5357298982053  127.074368913785  "
      ]
     },
     "execution_count": 98,
     "metadata": {},
     "output_type": "execute_result"
    }
   ],
   "source": [
    "school_df.head()"
   ]
  },
  {
   "cell_type": "markdown",
   "id": "1b2f12f7-9287-42c7-9eb3-885c6b9a2f44",
   "metadata": {},
   "source": [
    "### 아동센터 파일 처리"
   ]
  },
  {
   "cell_type": "code",
   "execution_count": 25,
   "id": "eb0c5c8c-a98a-4e4c-b5b7-4d1fb1124cbc",
   "metadata": {},
   "outputs": [],
   "source": [
    "children_data = pd.read_csv(children_file_url, encoding = 'euc-kr')"
   ]
  },
  {
   "cell_type": "code",
   "execution_count": 26,
   "id": "40bd2468-73df-4453-96b1-dd5755a0e0a1",
   "metadata": {
    "scrolled": true
   },
   "outputs": [
    {
     "data": {
      "text/html": [
       "<div>\n",
       "<style scoped>\n",
       "    .dataframe tbody tr th:only-of-type {\n",
       "        vertical-align: middle;\n",
       "    }\n",
       "\n",
       "    .dataframe tbody tr th {\n",
       "        vertical-align: top;\n",
       "    }\n",
       "\n",
       "    .dataframe thead th {\n",
       "        text-align: right;\n",
       "    }\n",
       "</style>\n",
       "<table border=\"1\" class=\"dataframe\">\n",
       "  <thead>\n",
       "    <tr style=\"text-align: right;\">\n",
       "      <th></th>\n",
       "      <th>시설ID</th>\n",
       "      <th>시설명</th>\n",
       "      <th>서비스분류코드</th>\n",
       "      <th>서비스분류</th>\n",
       "      <th>자치구코드</th>\n",
       "      <th>자치구명</th>\n",
       "      <th>연령구분코드</th>\n",
       "      <th>연령구분</th>\n",
       "      <th>X좌표값</th>\n",
       "      <th>Y좌표값</th>\n",
       "      <th>...</th>\n",
       "      <th>사용료</th>\n",
       "      <th>학기시작시간</th>\n",
       "      <th>학기종료시간</th>\n",
       "      <th>방학시작시간</th>\n",
       "      <th>방학종료시간</th>\n",
       "      <th>토요일운영여부</th>\n",
       "      <th>토요일운영시작시간</th>\n",
       "      <th>토요일운영종료시간</th>\n",
       "      <th>등록일시</th>\n",
       "      <th>수정일시</th>\n",
       "    </tr>\n",
       "  </thead>\n",
       "  <tbody>\n",
       "    <tr>\n",
       "      <th>0</th>\n",
       "      <td>GR240701</td>\n",
       "      <td>고척재미난지역아동센터</td>\n",
       "      <td>1003</td>\n",
       "      <td>지역아동센터</td>\n",
       "      <td>11530</td>\n",
       "      <td>구로구</td>\n",
       "      <td>1003</td>\n",
       "      <td>초등학생</td>\n",
       "      <td>NaN</td>\n",
       "      <td>NaN</td>\n",
       "      <td>...</td>\n",
       "      <td>NaN</td>\n",
       "      <td>NaN</td>\n",
       "      <td>NaN</td>\n",
       "      <td>NaN</td>\n",
       "      <td>NaN</td>\n",
       "      <td>N</td>\n",
       "      <td>NaN</td>\n",
       "      <td>NaN</td>\n",
       "      <td>2024-07-24 16:55:00.0</td>\n",
       "      <td>NaN</td>\n",
       "    </tr>\n",
       "    <tr>\n",
       "      <th>1</th>\n",
       "      <td>YF240402</td>\n",
       "      <td>한울지역아동센터</td>\n",
       "      <td>1003</td>\n",
       "      <td>지역아동센터</td>\n",
       "      <td>11560</td>\n",
       "      <td>영등포구</td>\n",
       "      <td>1003</td>\n",
       "      <td>초등학생</td>\n",
       "      <td>NaN</td>\n",
       "      <td>NaN</td>\n",
       "      <td>...</td>\n",
       "      <td>NaN</td>\n",
       "      <td>NaN</td>\n",
       "      <td>NaN</td>\n",
       "      <td>NaN</td>\n",
       "      <td>NaN</td>\n",
       "      <td>N</td>\n",
       "      <td>NaN</td>\n",
       "      <td>NaN</td>\n",
       "      <td>2024-04-23 16:55:00.0</td>\n",
       "      <td>NaN</td>\n",
       "    </tr>\n",
       "  </tbody>\n",
       "</table>\n",
       "<p>2 rows × 24 columns</p>\n",
       "</div>"
      ],
      "text/plain": [
       "       시설ID          시설명  서비스분류코드   서비스분류  자치구코드  자치구명  연령구분코드  연령구분  X좌표값  \\\n",
       "0  GR240701  고척재미난지역아동센터     1003  지역아동센터  11530   구로구    1003  초등학생   NaN   \n",
       "1  YF240402     한울지역아동센터     1003  지역아동센터  11560  영등포구    1003  초등학생   NaN   \n",
       "\n",
       "   Y좌표값  ...  사용료 학기시작시간 학기종료시간 방학시작시간  방학종료시간  토요일운영여부  토요일운영시작시간  토요일운영종료시간  \\\n",
       "0   NaN  ...  NaN    NaN    NaN    NaN     NaN        N        NaN        NaN   \n",
       "1   NaN  ...  NaN    NaN    NaN    NaN     NaN        N        NaN        NaN   \n",
       "\n",
       "                    등록일시 수정일시  \n",
       "0  2024-07-24 16:55:00.0  NaN  \n",
       "1  2024-04-23 16:55:00.0  NaN  \n",
       "\n",
       "[2 rows x 24 columns]"
      ]
     },
     "execution_count": 26,
     "metadata": {},
     "output_type": "execute_result"
    }
   ],
   "source": [
    "children_data.head(2)"
   ]
  },
  {
   "cell_type": "code",
   "execution_count": 27,
   "id": "9e4c06ce-dcc1-4c82-b249-70d72eb4bd88",
   "metadata": {},
   "outputs": [
    {
     "data": {
      "text/plain": [
       "Index(['시설ID', '시설명', '서비스분류코드', '서비스분류', '자치구코드', '자치구명', '연령구분코드', '연령구분',\n",
       "       'X좌표값', 'Y좌표값', '우편번호', '기본주소', '상세주소', '연락처', '사용료', '학기시작시간',\n",
       "       '학기종료시간', '방학시작시간', '방학종료시간', '토요일운영여부', '토요일운영시작시간', '토요일운영종료시간',\n",
       "       '등록일시', '수정일시'],\n",
       "      dtype='object')"
      ]
     },
     "execution_count": 27,
     "metadata": {},
     "output_type": "execute_result"
    }
   ],
   "source": [
    "children_data.columns"
   ]
  },
  {
   "cell_type": "code",
   "execution_count": 28,
   "id": "781705e3-d0ba-45bf-82e0-9d3e61ba7b3d",
   "metadata": {},
   "outputs": [
    {
     "name": "stdout",
     "output_type": "stream",
     "text": [
      "8\n",
      "8\n"
     ]
    }
   ],
   "source": [
    "print(children_data['X좌표값'].isnull().sum())\n",
    "print(children_data['Y좌표값'].isnull().sum())"
   ]
  },
  {
   "cell_type": "code",
   "execution_count": 29,
   "id": "ef954acb-c3bf-43fd-93ee-d3267e4f4289",
   "metadata": {},
   "outputs": [],
   "source": [
    "children_data = children_data.dropna(subset=['Y좌표값'])\n",
    "children_data = children_data.dropna(subset=['X좌표값']) "
   ]
  },
  {
   "cell_type": "code",
   "execution_count": 30,
   "id": "a59f63d8-7e13-456b-821b-901732bd598a",
   "metadata": {},
   "outputs": [
    {
     "name": "stdout",
     "output_type": "stream",
     "text": [
      "0\n",
      "0\n",
      "0\n",
      "0\n",
      "0\n"
     ]
    }
   ],
   "source": [
    "print(children_data['X좌표값'].isnull().sum())\n",
    "print(children_data['Y좌표값'].isnull().sum())\n",
    "print(children_data['시설명'].isnull().sum())\n",
    "print(children_data['Y좌표값'].isnull().sum())\n",
    "print(children_data['Y좌표값'].isnull().sum())"
   ]
  },
  {
   "cell_type": "code",
   "execution_count": 31,
   "id": "32583783-cdfc-4ca8-a4f2-44b0b61db2a0",
   "metadata": {},
   "outputs": [
    {
     "data": {
      "text/plain": [
       "Index(['시설ID', '시설명', '서비스분류코드', '서비스분류', '자치구코드', '자치구명', '연령구분코드', '연령구분',\n",
       "       'X좌표값', 'Y좌표값', '우편번호', '기본주소', '상세주소', '연락처', '사용료', '학기시작시간',\n",
       "       '학기종료시간', '방학시작시간', '방학종료시간', '토요일운영여부', '토요일운영시작시간', '토요일운영종료시간',\n",
       "       '등록일시', '수정일시'],\n",
       "      dtype='object')"
      ]
     },
     "execution_count": 31,
     "metadata": {},
     "output_type": "execute_result"
    }
   ],
   "source": [
    "children_data.columns"
   ]
  },
  {
   "cell_type": "code",
   "execution_count": 32,
   "id": "a07038ad-9c18-46a6-a4b6-752bb99e2474",
   "metadata": {},
   "outputs": [
    {
     "data": {
      "text/plain": [
       "np.int64(0)"
      ]
     },
     "execution_count": 32,
     "metadata": {},
     "output_type": "execute_result"
    }
   ],
   "source": [
    "children_data['서비스분류'].isna().sum()"
   ]
  },
  {
   "cell_type": "code",
   "execution_count": 33,
   "id": "9f57ec13-f89c-4a4d-b8ff-68e26c8f099a",
   "metadata": {},
   "outputs": [],
   "source": [
    "temp_get_children_center_x = children_data['Y좌표값'].to_list()\n",
    "temp_get_children_center_y = children_data['X좌표값'].to_list()"
   ]
  },
  {
   "cell_type": "code",
   "execution_count": 34,
   "id": "27e452d1-9a39-4431-bc6b-8c025f847a3a",
   "metadata": {},
   "outputs": [
    {
     "name": "stdout",
     "output_type": "stream",
     "text": [
      "401\n",
      "401\n"
     ]
    }
   ],
   "source": [
    "print(len(temp_get_children_center_x))\n",
    "print(len(temp_get_children_center_y))"
   ]
  },
  {
   "cell_type": "code",
   "execution_count": 35,
   "id": "2c9e1833-7e5c-4037-948b-789feef21569",
   "metadata": {},
   "outputs": [],
   "source": [
    "total_children_center_x_y = []"
   ]
  },
  {
   "cell_type": "code",
   "execution_count": 36,
   "id": "be4d5c45-23aa-45c4-ae87-a4daf0cc333a",
   "metadata": {},
   "outputs": [
    {
     "name": "stderr",
     "output_type": "stream",
     "text": [
      "100%|████████████████████████████████████| 401/401 [00:00<00:00, 1155955.95it/s]\n"
     ]
    }
   ],
   "source": [
    "for i in tqdm(range(len(temp_get_children_center_x))) :\n",
    "    temp = str(temp_get_children_center_x[i]) + ', ' + str(temp_get_children_center_y[i])\n",
    "    total_children_center_x_y.append(temp)"
   ]
  },
  {
   "cell_type": "code",
   "execution_count": 37,
   "id": "abce6d90-b800-4f59-ad8d-1bcaf89d14f4",
   "metadata": {},
   "outputs": [],
   "source": [
    "get_children_center_name = children_data['시설명'].to_list()\n",
    "get_children_center_x_y_location = total_children_center_x_y\n",
    "get_children_center_x = children_data['Y좌표값'].to_list()\n",
    "get_children_center_y = children_data['X좌표값'].to_list()\n",
    "get_children_center_classification = children_data['서비스분류'].to_list()"
   ]
  },
  {
   "cell_type": "markdown",
   "id": "9d647994-fbd5-47a8-9a4b-dd4e26d0f17e",
   "metadata": {},
   "source": [
    "### 아동센터 위치정보 저장을 위한 데이터프레임화"
   ]
  },
  {
   "cell_type": "code",
   "execution_count": 38,
   "id": "1d913518-3941-44da-ac7e-35d2071e80bc",
   "metadata": {},
   "outputs": [],
   "source": [
    "#개별 데이터 저장\n",
    "children_df = pd.DataFrame({\n",
    "    '구분' : get_children_center_classification, \n",
    "    '시설명' : get_children_center_name, \n",
    "    '시설_위치' : get_children_center_x_y_location,\n",
    "    '위도' : get_children_center_x, \n",
    "    '경도' : get_children_center_y\n",
    "})\n"
   ]
  },
  {
   "cell_type": "code",
   "execution_count": 39,
   "id": "187df353-f31c-491e-9ad4-04d73b30f32e",
   "metadata": {},
   "outputs": [
    {
     "data": {
      "text/html": [
       "<div>\n",
       "<style scoped>\n",
       "    .dataframe tbody tr th:only-of-type {\n",
       "        vertical-align: middle;\n",
       "    }\n",
       "\n",
       "    .dataframe tbody tr th {\n",
       "        vertical-align: top;\n",
       "    }\n",
       "\n",
       "    .dataframe thead th {\n",
       "        text-align: right;\n",
       "    }\n",
       "</style>\n",
       "<table border=\"1\" class=\"dataframe\">\n",
       "  <thead>\n",
       "    <tr style=\"text-align: right;\">\n",
       "      <th></th>\n",
       "      <th>구분</th>\n",
       "      <th>시설명</th>\n",
       "      <th>시설_위치</th>\n",
       "      <th>위도</th>\n",
       "      <th>경도</th>\n",
       "    </tr>\n",
       "  </thead>\n",
       "  <tbody>\n",
       "    <tr>\n",
       "      <th>0</th>\n",
       "      <td>지역아동센터</td>\n",
       "      <td>테스트지역아동센터</td>\n",
       "      <td>37.566476952235696, 126.97767463729524</td>\n",
       "      <td>37.566477</td>\n",
       "      <td>126.977675</td>\n",
       "    </tr>\n",
       "    <tr>\n",
       "      <th>1</th>\n",
       "      <td>지역아동센터</td>\n",
       "      <td>유스비전스쿨 청소년전용지역아동센터</td>\n",
       "      <td>37.51132, 126.92313</td>\n",
       "      <td>37.511320</td>\n",
       "      <td>126.923130</td>\n",
       "    </tr>\n",
       "    <tr>\n",
       "      <th>2</th>\n",
       "      <td>지역아동센터</td>\n",
       "      <td>꿈나무들의둥지지역아동센터</td>\n",
       "      <td>37.54423, 126.86637</td>\n",
       "      <td>37.544230</td>\n",
       "      <td>126.866370</td>\n",
       "    </tr>\n",
       "    <tr>\n",
       "      <th>3</th>\n",
       "      <td>지역아동센터</td>\n",
       "      <td>송천동지역아동센터</td>\n",
       "      <td>37.61515, 127.02509</td>\n",
       "      <td>37.615150</td>\n",
       "      <td>127.025090</td>\n",
       "    </tr>\n",
       "    <tr>\n",
       "      <th>4</th>\n",
       "      <td>지역아동센터</td>\n",
       "      <td>들꽃청소년지역아동센터</td>\n",
       "      <td>37.54553, 127.12642</td>\n",
       "      <td>37.545530</td>\n",
       "      <td>127.126420</td>\n",
       "    </tr>\n",
       "    <tr>\n",
       "      <th>...</th>\n",
       "      <td>...</td>\n",
       "      <td>...</td>\n",
       "      <td>...</td>\n",
       "      <td>...</td>\n",
       "      <td>...</td>\n",
       "    </tr>\n",
       "    <tr>\n",
       "      <th>396</th>\n",
       "      <td>지역아동센터</td>\n",
       "      <td>한사랑지역아동센터</td>\n",
       "      <td>37.4499, 126.90032</td>\n",
       "      <td>37.449900</td>\n",
       "      <td>126.900320</td>\n",
       "    </tr>\n",
       "    <tr>\n",
       "      <th>397</th>\n",
       "      <td>지역아동센터</td>\n",
       "      <td>금강지역아동센터</td>\n",
       "      <td>37.50078, 126.85562</td>\n",
       "      <td>37.500780</td>\n",
       "      <td>126.855620</td>\n",
       "    </tr>\n",
       "    <tr>\n",
       "      <th>398</th>\n",
       "      <td>지역아동센터</td>\n",
       "      <td>하모니지역아동센터</td>\n",
       "      <td>37.48872, 126.85432</td>\n",
       "      <td>37.488720</td>\n",
       "      <td>126.854320</td>\n",
       "    </tr>\n",
       "    <tr>\n",
       "      <th>399</th>\n",
       "      <td>지역아동센터</td>\n",
       "      <td>강남지역아동센터</td>\n",
       "      <td>37.4783, 127.04975</td>\n",
       "      <td>37.478300</td>\n",
       "      <td>127.049750</td>\n",
       "    </tr>\n",
       "    <tr>\n",
       "      <th>400</th>\n",
       "      <td>지역아동센터</td>\n",
       "      <td>LH 행복꿈터 열린마음 지역아동센터</td>\n",
       "      <td>37.470747073538384, 127.09135875752855</td>\n",
       "      <td>37.470747</td>\n",
       "      <td>127.091359</td>\n",
       "    </tr>\n",
       "  </tbody>\n",
       "</table>\n",
       "<p>401 rows × 5 columns</p>\n",
       "</div>"
      ],
      "text/plain": [
       "         구분                  시설명                                   시설_위치  \\\n",
       "0    지역아동센터            테스트지역아동센터  37.566476952235696, 126.97767463729524   \n",
       "1    지역아동센터   유스비전스쿨 청소년전용지역아동센터                     37.51132, 126.92313   \n",
       "2    지역아동센터        꿈나무들의둥지지역아동센터                     37.54423, 126.86637   \n",
       "3    지역아동센터            송천동지역아동센터                     37.61515, 127.02509   \n",
       "4    지역아동센터          들꽃청소년지역아동센터                     37.54553, 127.12642   \n",
       "..      ...                  ...                                     ...   \n",
       "396  지역아동센터            한사랑지역아동센터                      37.4499, 126.90032   \n",
       "397  지역아동센터             금강지역아동센터                     37.50078, 126.85562   \n",
       "398  지역아동센터            하모니지역아동센터                     37.48872, 126.85432   \n",
       "399  지역아동센터             강남지역아동센터                      37.4783, 127.04975   \n",
       "400  지역아동센터  LH 행복꿈터 열린마음 지역아동센터  37.470747073538384, 127.09135875752855   \n",
       "\n",
       "            위도          경도  \n",
       "0    37.566477  126.977675  \n",
       "1    37.511320  126.923130  \n",
       "2    37.544230  126.866370  \n",
       "3    37.615150  127.025090  \n",
       "4    37.545530  127.126420  \n",
       "..         ...         ...  \n",
       "396  37.449900  126.900320  \n",
       "397  37.500780  126.855620  \n",
       "398  37.488720  126.854320  \n",
       "399  37.478300  127.049750  \n",
       "400  37.470747  127.091359  \n",
       "\n",
       "[401 rows x 5 columns]"
      ]
     },
     "execution_count": 39,
     "metadata": {},
     "output_type": "execute_result"
    }
   ],
   "source": [
    "children_df"
   ]
  },
  {
   "cell_type": "markdown",
   "id": "4afd77c7-999c-4b3c-ace6-85cc65ca8fd8",
   "metadata": {},
   "source": [
    "### 어린이집 파일 처리"
   ]
  },
  {
   "cell_type": "code",
   "execution_count": 40,
   "id": "2ef18f87-b931-460b-9e51-ace7fe696cb2",
   "metadata": {},
   "outputs": [
    {
     "name": "stdout",
     "output_type": "stream",
     "text": [
      "CP949\n"
     ]
    }
   ],
   "source": [
    "import chardet\n",
    "\n",
    "with open(childcare_file_url, \"rb\") as f:\n",
    "    result = chardet.detect(f.read())\n",
    "    print(result['encoding'])\n"
   ]
  },
  {
   "cell_type": "code",
   "execution_count": 41,
   "id": "6108fd2f-f530-45d1-889f-e62a6433d555",
   "metadata": {},
   "outputs": [],
   "source": [
    "# children_care_data = pd.read_csv(childcare_file_url, encoding = 'euc-kr')\n",
    "temp_children_care_data = pd.read_csv(childcare_file_url, encoding='CP949')"
   ]
  },
  {
   "cell_type": "code",
   "execution_count": 42,
   "id": "78d37392-23e3-4263-971a-498ed45406cb",
   "metadata": {},
   "outputs": [
    {
     "data": {
      "text/html": [
       "<div>\n",
       "<style scoped>\n",
       "    .dataframe tbody tr th:only-of-type {\n",
       "        vertical-align: middle;\n",
       "    }\n",
       "\n",
       "    .dataframe tbody tr th {\n",
       "        vertical-align: top;\n",
       "    }\n",
       "\n",
       "    .dataframe thead th {\n",
       "        text-align: right;\n",
       "    }\n",
       "</style>\n",
       "<table border=\"1\" class=\"dataframe\">\n",
       "  <thead>\n",
       "    <tr style=\"text-align: right;\">\n",
       "      <th></th>\n",
       "      <th>시군구명</th>\n",
       "      <th>어린이집코드</th>\n",
       "      <th>어린이집명</th>\n",
       "      <th>어린이집유형</th>\n",
       "      <th>운영현황</th>\n",
       "      <th>우편번호</th>\n",
       "      <th>상세주소</th>\n",
       "      <th>전화번호</th>\n",
       "      <th>팩스번호</th>\n",
       "      <th>홈페이지주소</th>\n",
       "      <th>...</th>\n",
       "      <th>교직원현황-보육교사</th>\n",
       "      <th>교직원현황-특수교사</th>\n",
       "      <th>교직원현황-치료교사</th>\n",
       "      <th>교직원현황-영양사</th>\n",
       "      <th>교직원현황-간호사</th>\n",
       "      <th>교직원현황-간호조무사</th>\n",
       "      <th>교직원현황-조리원</th>\n",
       "      <th>교직원현황-사무직원</th>\n",
       "      <th>교직원현황-총계</th>\n",
       "      <th>데이터수집일</th>\n",
       "    </tr>\n",
       "  </thead>\n",
       "  <tbody>\n",
       "    <tr>\n",
       "      <th>0</th>\n",
       "      <td>동대문구</td>\n",
       "      <td>11230000522</td>\n",
       "      <td>아르테포레어린이집</td>\n",
       "      <td>국공립</td>\n",
       "      <td>정상</td>\n",
       "      <td>2611.0</td>\n",
       "      <td>서울특별시 동대문구 한천로11길 6</td>\n",
       "      <td>02-1111-1111</td>\n",
       "      <td>NaN</td>\n",
       "      <td>NaN</td>\n",
       "      <td>...</td>\n",
       "      <td>NaN</td>\n",
       "      <td>NaN</td>\n",
       "      <td>NaN</td>\n",
       "      <td>NaN</td>\n",
       "      <td>NaN</td>\n",
       "      <td>NaN</td>\n",
       "      <td>NaN</td>\n",
       "      <td>NaN</td>\n",
       "      <td>NaN</td>\n",
       "      <td>2025-03-25 22:14:48.0</td>\n",
       "    </tr>\n",
       "    <tr>\n",
       "      <th>1</th>\n",
       "      <td>관악구</td>\n",
       "      <td>11620000575</td>\n",
       "      <td>구립벤처타운어린이집</td>\n",
       "      <td>국공립</td>\n",
       "      <td>정상</td>\n",
       "      <td>NaN</td>\n",
       "      <td>NaN</td>\n",
       "      <td>010-4246-0560</td>\n",
       "      <td>NaN</td>\n",
       "      <td>NaN</td>\n",
       "      <td>...</td>\n",
       "      <td>NaN</td>\n",
       "      <td>NaN</td>\n",
       "      <td>NaN</td>\n",
       "      <td>NaN</td>\n",
       "      <td>NaN</td>\n",
       "      <td>NaN</td>\n",
       "      <td>NaN</td>\n",
       "      <td>NaN</td>\n",
       "      <td>NaN</td>\n",
       "      <td>2025-03-25 22:17:18.0</td>\n",
       "    </tr>\n",
       "  </tbody>\n",
       "</table>\n",
       "<p>2 rows × 62 columns</p>\n",
       "</div>"
      ],
      "text/plain": [
       "   시군구명       어린이집코드       어린이집명 어린이집유형 운영현황    우편번호                 상세주소  \\\n",
       "0  동대문구  11230000522   아르테포레어린이집    국공립   정상  2611.0  서울특별시 동대문구 한천로11길 6   \n",
       "1   관악구  11620000575  구립벤처타운어린이집    국공립   정상     NaN                  NaN   \n",
       "\n",
       "            전화번호 팩스번호 홈페이지주소  ...  교직원현황-보육교사  교직원현황-특수교사  교직원현황-치료교사  \\\n",
       "0   02-1111-1111  NaN    NaN  ...         NaN         NaN         NaN   \n",
       "1  010-4246-0560  NaN    NaN  ...         NaN         NaN         NaN   \n",
       "\n",
       "   교직원현황-영양사  교직원현황-간호사  교직원현황-간호조무사  교직원현황-조리원  교직원현황-사무직원  교직원현황-총계  \\\n",
       "0        NaN        NaN          NaN        NaN         NaN       NaN   \n",
       "1        NaN        NaN          NaN        NaN         NaN       NaN   \n",
       "\n",
       "                  데이터수집일  \n",
       "0  2025-03-25 22:14:48.0  \n",
       "1  2025-03-25 22:17:18.0  \n",
       "\n",
       "[2 rows x 62 columns]"
      ]
     },
     "execution_count": 42,
     "metadata": {},
     "output_type": "execute_result"
    }
   ],
   "source": [
    "temp_children_care_data.head(2)"
   ]
  },
  {
   "cell_type": "code",
   "execution_count": 43,
   "id": "a4a74312-883d-4516-a525-42fc49d67ced",
   "metadata": {},
   "outputs": [
    {
     "data": {
      "text/plain": [
       "array(['정상', '폐지', '휴지', nan, '재개'], dtype=object)"
      ]
     },
     "execution_count": 43,
     "metadata": {},
     "output_type": "execute_result"
    }
   ],
   "source": [
    "temp_children_care_data['운영현황'].unique()"
   ]
  },
  {
   "cell_type": "code",
   "execution_count": 44,
   "id": "4c7921c1-eb3d-4adc-a2db-7491e64580c0",
   "metadata": {},
   "outputs": [],
   "source": [
    "children_care_data = temp_children_care_data[temp_children_care_data['운영현황'].isin(['재개', '정상'])]\n",
    "children_care_data = children_care_data.reset_index(drop=True)\n",
    "children_care_data.index = children_care_data.index + 1"
   ]
  },
  {
   "cell_type": "code",
   "execution_count": 45,
   "id": "24d40ea8-1a70-4762-affa-0bfef715d6c6",
   "metadata": {},
   "outputs": [
    {
     "data": {
      "text/plain": [
       "array(['정상', '재개'], dtype=object)"
      ]
     },
     "execution_count": 45,
     "metadata": {},
     "output_type": "execute_result"
    }
   ],
   "source": [
    "children_care_data['운영현황'].unique()"
   ]
  },
  {
   "cell_type": "code",
   "execution_count": 46,
   "id": "d116824d-a3f6-4dbb-a01c-8b103b764885",
   "metadata": {},
   "outputs": [
    {
     "name": "stdout",
     "output_type": "stream",
     "text": [
      "경도 널값 : 112\n",
      "위도 널값 : 112\n"
     ]
    }
   ],
   "source": [
    "print(f\"경도 널값 : {children_care_data['시설 경도(좌표값)'].isnull().sum()}\")\n",
    "print(f\"위도 널값 : {children_care_data['시설 위도(좌표값)'].isnull().sum()}\")"
   ]
  },
  {
   "cell_type": "code",
   "execution_count": 47,
   "id": "8678214f-4b58-4920-ba61-e1b4f5800859",
   "metadata": {},
   "outputs": [
    {
     "name": "stdout",
     "output_type": "stream",
     "text": [
      "길이 : 4235\n"
     ]
    }
   ],
   "source": [
    "print(f\"길이 : {len(children_care_data)}\")"
   ]
  },
  {
   "cell_type": "code",
   "execution_count": 48,
   "id": "7acda9c2-97ed-41ad-8446-a1b500c2dc1d",
   "metadata": {},
   "outputs": [],
   "source": [
    "children_care_data = children_care_data.dropna(subset=['시설 위도(좌표값)'])\n",
    "children_care_data = children_care_data.dropna(subset=['시설 경도(좌표값)'])\n",
    "children_care_data = children_care_data.dropna(subset=['어린이집명'])"
   ]
  },
  {
   "cell_type": "code",
   "execution_count": 49,
   "id": "369c940d-e76e-4a8e-abb8-5becaef3b32f",
   "metadata": {},
   "outputs": [
    {
     "name": "stdout",
     "output_type": "stream",
     "text": [
      "길이 : 4123\n"
     ]
    }
   ],
   "source": [
    "print(f\"길이 : {len(children_care_data)}\")"
   ]
  },
  {
   "cell_type": "code",
   "execution_count": 50,
   "id": "ef6dbba8-7253-44e6-82b9-e6710684a499",
   "metadata": {},
   "outputs": [
    {
     "name": "stdout",
     "output_type": "stream",
     "text": [
      "경도 널값 : 0\n",
      "위도 널값 : 0\n"
     ]
    }
   ],
   "source": [
    "print(f\"경도 널값 : {children_care_data['시설 경도(좌표값)'].isnull().sum()}\")\n",
    "print(f\"위도 널값 : {children_care_data['시설 위도(좌표값)'].isnull().sum()}\")"
   ]
  },
  {
   "cell_type": "code",
   "execution_count": 51,
   "id": "e404a9c0-ca36-4fe0-b4da-9d970675a1b7",
   "metadata": {},
   "outputs": [
    {
     "data": {
      "text/plain": [
       "1       국공립\n",
       "2       국공립\n",
       "3        직장\n",
       "4       국공립\n",
       "5       국공립\n",
       "       ... \n",
       "4222    국공립\n",
       "4223    국공립\n",
       "4224    국공립\n",
       "4225     민간\n",
       "4226    국공립\n",
       "Name: 어린이집유형, Length: 4123, dtype: object"
      ]
     },
     "execution_count": 51,
     "metadata": {},
     "output_type": "execute_result"
    }
   ],
   "source": [
    "children_care_data['어린이집유형']"
   ]
  },
  {
   "cell_type": "code",
   "execution_count": 52,
   "id": "cc66eded-c12f-4320-ac2c-2dc79ed3f86e",
   "metadata": {},
   "outputs": [
    {
     "data": {
      "text/plain": [
       "Index(['시군구명', '어린이집코드', '어린이집명', '어린이집유형', '운영현황', '우편번호', '상세주소', '전화번호',\n",
       "       '팩스번호', '홈페이지주소', '보육실수', '보육실 면적', '놀이터수', 'CCTV총설치수', '보육교직원수', '정원',\n",
       "       '현원', '시설 위도(좌표값)', '시설 경도(좌표값)', '통학차량운영여부', '인가일자', '휴지시작일자',\n",
       "       '휴지종료일자', '폐지일자', '데이터기준일자', '제공서비스', '반수-만0세', '반수-만1세', '반수-만2세',\n",
       "       '반수-만3세', '반수-만4세', '반수-만5세', '반수-영아혼합(만0~2세)', '반수-유아혼합(만3~5세)',\n",
       "       '반수-특수장애', '반수-총계', '아동수-만0세', '아동수-만1세', '아동수-만2세', '아동수-만3세',\n",
       "       '아동수-만4세', '아동수-만5세', '아동수-영아혼합(만0~2세)', '아동수-유아혼합(만3~5세)', '아동수-특수장애',\n",
       "       '아동수-총계', '근속년수-1년미만', '근속년수-1년이상~2년미만', '근속년수-2년이상~4년미만',\n",
       "       '근속년수-4년이상~6년미만', '근속년수-6년이상', '교직원현황-원장', '교직원현황-보육교사', '교직원현황-특수교사',\n",
       "       '교직원현황-치료교사', '교직원현황-영양사', '교직원현황-간호사', '교직원현황-간호조무사', '교직원현황-조리원',\n",
       "       '교직원현황-사무직원', '교직원현황-총계', '데이터수집일'],\n",
       "      dtype='object')"
      ]
     },
     "execution_count": 52,
     "metadata": {},
     "output_type": "execute_result"
    }
   ],
   "source": [
    "children_care_data.columns"
   ]
  },
  {
   "cell_type": "code",
   "execution_count": 53,
   "id": "e6729cb5-dd39-43e0-b6cf-b13104f8c280",
   "metadata": {},
   "outputs": [],
   "source": [
    "temp_get_children_center_x_y = []\n",
    "temp_get_children_center_x = children_care_data['시설 위도(좌표값)'].to_list()\n",
    "temp_get_children_center_y = children_care_data['시설 경도(좌표값)'].to_list()"
   ]
  },
  {
   "cell_type": "code",
   "execution_count": 54,
   "id": "4acb08a5-e0c0-4867-9463-52bd93ccf082",
   "metadata": {},
   "outputs": [
    {
     "name": "stderr",
     "output_type": "stream",
     "text": [
      "100%|██████████████████████████████████| 4123/4123 [00:00<00:00, 1219886.81it/s]\n"
     ]
    }
   ],
   "source": [
    "for i in tqdm(range(len(temp_get_children_center_x))) : \n",
    "    temp_str = str(temp_get_children_center_x[i]) + ', ' + str(temp_get_children_center_y[i])\n",
    "    temp_get_children_center_x_y.append(temp)"
   ]
  },
  {
   "cell_type": "code",
   "execution_count": null,
   "id": "7b0c8125-3be1-401b-b308-83cc69a54b63",
   "metadata": {},
   "outputs": [],
   "source": []
  },
  {
   "cell_type": "code",
   "execution_count": 55,
   "id": "1c2104d0-14c4-45df-bf26-0405221bc3da",
   "metadata": {},
   "outputs": [
    {
     "name": "stderr",
     "output_type": "stream",
     "text": [
      "100%|██████████████████████████████████| 4123/4123 [00:00<00:00, 5096703.62it/s]\n"
     ]
    }
   ],
   "source": [
    "get_children_care_name = children_care_data['어린이집명'].to_list()\n",
    "get_children_care_location_x_y = temp_get_children_center_x_y\n",
    "get_children_care_location_x =  temp_get_children_center_x\n",
    "get_children_care_location_y = temp_get_children_center_y\n",
    "\n",
    "get_children_care_classification = []\n",
    "\n",
    "for i in tqdm(range(len(get_children_care_name))) :\n",
    "    get_children_care_classification.append('어린이집')"
   ]
  },
  {
   "cell_type": "markdown",
   "id": "7412ce39-6408-405d-88fa-d64d9379f705",
   "metadata": {},
   "source": [
    "### 어린이집을 파일로 저장하기 위한 프레임워크화"
   ]
  },
  {
   "cell_type": "code",
   "execution_count": 56,
   "id": "b2b03027-90ef-41d8-a21a-e1f62f752caa",
   "metadata": {},
   "outputs": [],
   "source": [
    "children_care_df = pd.DataFrame({\n",
    "    '구분' : get_children_care_classification, \n",
    "    '시설명' : get_children_care_name, \n",
    "    '위치' : get_children_care_location_x_y,\n",
    "    '위도' : get_children_care_location_x,\n",
    "    '경도' : get_children_care_location_y\n",
    "})"
   ]
  },
  {
   "cell_type": "code",
   "execution_count": 57,
   "id": "d240b1b2-378b-4bfb-bd6f-345b8d0ff937",
   "metadata": {},
   "outputs": [
    {
     "data": {
      "text/html": [
       "<div>\n",
       "<style scoped>\n",
       "    .dataframe tbody tr th:only-of-type {\n",
       "        vertical-align: middle;\n",
       "    }\n",
       "\n",
       "    .dataframe tbody tr th {\n",
       "        vertical-align: top;\n",
       "    }\n",
       "\n",
       "    .dataframe thead th {\n",
       "        text-align: right;\n",
       "    }\n",
       "</style>\n",
       "<table border=\"1\" class=\"dataframe\">\n",
       "  <thead>\n",
       "    <tr style=\"text-align: right;\">\n",
       "      <th></th>\n",
       "      <th>구분</th>\n",
       "      <th>시설명</th>\n",
       "      <th>위치</th>\n",
       "      <th>위도</th>\n",
       "      <th>경도</th>\n",
       "    </tr>\n",
       "  </thead>\n",
       "  <tbody>\n",
       "    <tr>\n",
       "      <th>0</th>\n",
       "      <td>어린이집</td>\n",
       "      <td>아르테포레어린이집</td>\n",
       "      <td>37.470747073538384, 127.09135875752855</td>\n",
       "      <td>37.566470</td>\n",
       "      <td>126.977963</td>\n",
       "    </tr>\n",
       "    <tr>\n",
       "      <th>1</th>\n",
       "      <td>어린이집</td>\n",
       "      <td>구립벤처타운어린이집</td>\n",
       "      <td>37.470747073538384, 127.09135875752855</td>\n",
       "      <td>37.566470</td>\n",
       "      <td>126.977963</td>\n",
       "    </tr>\n",
       "    <tr>\n",
       "      <th>2</th>\n",
       "      <td>어린이집</td>\n",
       "      <td>LG광화문어린이집</td>\n",
       "      <td>37.470747073538384, 127.09135875752855</td>\n",
       "      <td>37.569275</td>\n",
       "      <td>126.971579</td>\n",
       "    </tr>\n",
       "    <tr>\n",
       "      <th>3</th>\n",
       "      <td>어린이집</td>\n",
       "      <td>라그란데꿈별어린이집</td>\n",
       "      <td>37.470747073538384, 127.09135875752855</td>\n",
       "      <td>37.598805</td>\n",
       "      <td>127.059547</td>\n",
       "    </tr>\n",
       "    <tr>\n",
       "      <th>4</th>\n",
       "      <td>어린이집</td>\n",
       "      <td>구립 누리봄어린이집</td>\n",
       "      <td>37.470747073538384, 127.09135875752855</td>\n",
       "      <td>37.566470</td>\n",
       "      <td>126.977963</td>\n",
       "    </tr>\n",
       "    <tr>\n",
       "      <th>...</th>\n",
       "      <td>...</td>\n",
       "      <td>...</td>\n",
       "      <td>...</td>\n",
       "      <td>...</td>\n",
       "      <td>...</td>\n",
       "    </tr>\n",
       "    <tr>\n",
       "      <th>4118</th>\n",
       "      <td>어린이집</td>\n",
       "      <td>마포어린이집</td>\n",
       "      <td>37.470747073538384, 127.09135875752855</td>\n",
       "      <td>37.557013</td>\n",
       "      <td>126.925671</td>\n",
       "    </tr>\n",
       "    <tr>\n",
       "      <th>4119</th>\n",
       "      <td>어린이집</td>\n",
       "      <td>명인어린이집</td>\n",
       "      <td>37.470747073538384, 127.09135875752855</td>\n",
       "      <td>37.584086</td>\n",
       "      <td>127.084445</td>\n",
       "    </tr>\n",
       "    <tr>\n",
       "      <th>4120</th>\n",
       "      <td>어린이집</td>\n",
       "      <td>역삼가애어린이집</td>\n",
       "      <td>37.470747073538384, 127.09135875752855</td>\n",
       "      <td>37.494831</td>\n",
       "      <td>127.044734</td>\n",
       "    </tr>\n",
       "    <tr>\n",
       "      <th>4121</th>\n",
       "      <td>어린이집</td>\n",
       "      <td>해든어린이집</td>\n",
       "      <td>37.470747073538384, 127.09135875752855</td>\n",
       "      <td>37.534337</td>\n",
       "      <td>127.064220</td>\n",
       "    </tr>\n",
       "    <tr>\n",
       "      <th>4122</th>\n",
       "      <td>어린이집</td>\n",
       "      <td>항동어린이집</td>\n",
       "      <td>37.470747073538384, 127.09135875752855</td>\n",
       "      <td>37.485379</td>\n",
       "      <td>126.823438</td>\n",
       "    </tr>\n",
       "  </tbody>\n",
       "</table>\n",
       "<p>4123 rows × 5 columns</p>\n",
       "</div>"
      ],
      "text/plain": [
       "        구분         시설명                                      위치         위도  \\\n",
       "0     어린이집   아르테포레어린이집  37.470747073538384, 127.09135875752855  37.566470   \n",
       "1     어린이집  구립벤처타운어린이집  37.470747073538384, 127.09135875752855  37.566470   \n",
       "2     어린이집   LG광화문어린이집  37.470747073538384, 127.09135875752855  37.569275   \n",
       "3     어린이집  라그란데꿈별어린이집  37.470747073538384, 127.09135875752855  37.598805   \n",
       "4     어린이집  구립 누리봄어린이집  37.470747073538384, 127.09135875752855  37.566470   \n",
       "...    ...         ...                                     ...        ...   \n",
       "4118  어린이집      마포어린이집  37.470747073538384, 127.09135875752855  37.557013   \n",
       "4119  어린이집      명인어린이집  37.470747073538384, 127.09135875752855  37.584086   \n",
       "4120  어린이집    역삼가애어린이집  37.470747073538384, 127.09135875752855  37.494831   \n",
       "4121  어린이집      해든어린이집  37.470747073538384, 127.09135875752855  37.534337   \n",
       "4122  어린이집      항동어린이집  37.470747073538384, 127.09135875752855  37.485379   \n",
       "\n",
       "              경도  \n",
       "0     126.977963  \n",
       "1     126.977963  \n",
       "2     126.971579  \n",
       "3     127.059547  \n",
       "4     126.977963  \n",
       "...          ...  \n",
       "4118  126.925671  \n",
       "4119  127.084445  \n",
       "4120  127.044734  \n",
       "4121  127.064220  \n",
       "4122  126.823438  \n",
       "\n",
       "[4123 rows x 5 columns]"
      ]
     },
     "execution_count": 57,
     "metadata": {},
     "output_type": "execute_result"
    }
   ],
   "source": [
    "children_care_df"
   ]
  },
  {
   "cell_type": "code",
   "execution_count": null,
   "id": "eacf1609-7257-42c2-a5ef-fcc81ad2ac6e",
   "metadata": {},
   "outputs": [],
   "source": []
  },
  {
   "cell_type": "markdown",
   "id": "54805a44-e3ae-4e1d-b9bf-893a55468def",
   "metadata": {},
   "source": [
    "### 복지센터 파일을 처리"
   ]
  },
  {
   "cell_type": "code",
   "execution_count": 58,
   "id": "1744d69b-0182-490f-9692-befc80e45987",
   "metadata": {},
   "outputs": [
    {
     "name": "stdout",
     "output_type": "stream",
     "text": [
      "EUC-KR\n"
     ]
    }
   ],
   "source": [
    "import chardet\n",
    "\n",
    "with open(welfare_file_url, \"rb\") as f:\n",
    "    result = chardet.detect(f.read())\n",
    "    print(result['encoding']) "
   ]
  },
  {
   "cell_type": "code",
   "execution_count": 59,
   "id": "6db33972-d69b-4599-ab07-69098378e79e",
   "metadata": {},
   "outputs": [],
   "source": [
    "welfare_care_file = pd.read_csv(welfare_file_url, encoding='EUC-KR')"
   ]
  },
  {
   "cell_type": "code",
   "execution_count": 60,
   "id": "ba6e918f-d293-40f3-ab04-7eb6558affbd",
   "metadata": {},
   "outputs": [
    {
     "data": {
      "text/html": [
       "<div>\n",
       "<style scoped>\n",
       "    .dataframe tbody tr th:only-of-type {\n",
       "        vertical-align: middle;\n",
       "    }\n",
       "\n",
       "    .dataframe tbody tr th {\n",
       "        vertical-align: top;\n",
       "    }\n",
       "\n",
       "    .dataframe thead th {\n",
       "        text-align: right;\n",
       "    }\n",
       "</style>\n",
       "<table border=\"1\" class=\"dataframe\">\n",
       "  <thead>\n",
       "    <tr style=\"text-align: right;\">\n",
       "      <th></th>\n",
       "      <th>시설명</th>\n",
       "      <th>시설코드</th>\n",
       "      <th>시설종류명(시설유형)</th>\n",
       "      <th>시설종류상세명(시설종류)</th>\n",
       "      <th>자치구(시)구분</th>\n",
       "      <th>시설장명</th>\n",
       "      <th>시군구코드</th>\n",
       "      <th>시군구명</th>\n",
       "      <th>시설주소</th>\n",
       "      <th>정원(수용인원)</th>\n",
       "      <th>현인원</th>\n",
       "      <th>전화번호</th>\n",
       "      <th>우편번호</th>\n",
       "    </tr>\n",
       "  </thead>\n",
       "  <tbody>\n",
       "    <tr>\n",
       "      <th>0</th>\n",
       "      <td>서울꽃동네신내노인요양원</td>\n",
       "      <td>A0001</td>\n",
       "      <td>(노인복지시설) 노인요양시설</td>\n",
       "      <td>노인의료복지시설</td>\n",
       "      <td>자치구</td>\n",
       "      <td>최은숙</td>\n",
       "      <td>1126000000</td>\n",
       "      <td>중랑구</td>\n",
       "      <td>서울특별시 중랑구 신내로 194 (신내동)</td>\n",
       "      <td>NaN</td>\n",
       "      <td>NaN</td>\n",
       "      <td>NaN</td>\n",
       "      <td>NaN</td>\n",
       "    </tr>\n",
       "    <tr>\n",
       "      <th>1</th>\n",
       "      <td>청운노인요양원</td>\n",
       "      <td>A0003</td>\n",
       "      <td>(노인복지시설) 노인요양시설</td>\n",
       "      <td>노인의료복지시설</td>\n",
       "      <td>자치구</td>\n",
       "      <td>이종명</td>\n",
       "      <td>1111000000</td>\n",
       "      <td>종로구</td>\n",
       "      <td>서울특별시 종로구 비봉길 76 (구기동)</td>\n",
       "      <td>NaN</td>\n",
       "      <td>NaN</td>\n",
       "      <td>NaN</td>\n",
       "      <td>NaN</td>\n",
       "    </tr>\n",
       "  </tbody>\n",
       "</table>\n",
       "</div>"
      ],
      "text/plain": [
       "            시설명   시설코드      시설종류명(시설유형) 시설종류상세명(시설종류) 자치구(시)구분 시설장명  \\\n",
       "0  서울꽃동네신내노인요양원  A0001  (노인복지시설) 노인요양시설      노인의료복지시설      자치구  최은숙   \n",
       "1       청운노인요양원  A0003  (노인복지시설) 노인요양시설      노인의료복지시설      자치구  이종명   \n",
       "\n",
       "        시군구코드 시군구명                     시설주소  정원(수용인원)  현인원  전화번호  우편번호  \n",
       "0  1126000000  중랑구  서울특별시 중랑구 신내로 194 (신내동)       NaN  NaN   NaN   NaN  \n",
       "1  1111000000  종로구   서울특별시 종로구 비봉길 76 (구기동)       NaN  NaN   NaN   NaN  "
      ]
     },
     "execution_count": 60,
     "metadata": {},
     "output_type": "execute_result"
    }
   ],
   "source": [
    "welfare_care_file.head(2)"
   ]
  },
  {
   "cell_type": "code",
   "execution_count": 61,
   "id": "0823a78f-3997-49e0-a347-08828539e2e1",
   "metadata": {},
   "outputs": [
    {
     "data": {
      "text/plain": [
       "Index(['시설명', '시설코드', '시설종류명(시설유형)', '시설종류상세명(시설종류)', '자치구(시)구분', '시설장명',\n",
       "       '시군구코드', '시군구명', '시설주소', '정원(수용인원)', '현인원', '전화번호', '우편번호'],\n",
       "      dtype='object')"
      ]
     },
     "execution_count": 61,
     "metadata": {},
     "output_type": "execute_result"
    }
   ],
   "source": [
    "welfare_care_file.columns"
   ]
  },
  {
   "cell_type": "code",
   "execution_count": 62,
   "id": "23f26919-63e4-4a04-a5d9-c822d2e34140",
   "metadata": {},
   "outputs": [
    {
     "data": {
      "text/plain": [
       "6967"
      ]
     },
     "execution_count": 62,
     "metadata": {},
     "output_type": "execute_result"
    }
   ],
   "source": [
    "len(welfare_care_file)"
   ]
  },
  {
   "cell_type": "code",
   "execution_count": 63,
   "id": "eaaa2d22-eaf4-4923-ac58-e2ae05f99989",
   "metadata": {},
   "outputs": [],
   "source": [
    "welfare_care_file = welfare_care_file.drop_duplicates(subset='시설명') "
   ]
  },
  {
   "cell_type": "code",
   "execution_count": 64,
   "id": "42946c0c-b5dd-4939-b27e-e9da8156ba3c",
   "metadata": {},
   "outputs": [
    {
     "data": {
      "text/plain": [
       "6227"
      ]
     },
     "execution_count": 64,
     "metadata": {},
     "output_type": "execute_result"
    }
   ],
   "source": [
    "len(welfare_care_file)"
   ]
  },
  {
   "cell_type": "code",
   "execution_count": 65,
   "id": "c6b9f380-21f8-4cf2-9ec1-1caed8735ced",
   "metadata": {},
   "outputs": [],
   "source": [
    "welfare_care_file = welfare_care_file.dropna(subset=['시설주소'])\n",
    "welfare_care_file = welfare_care_file[~welfare_care_file['시설주소'].str.startswith('경기도')]\n",
    "welfare_care_file = welfare_care_file[~welfare_care_file['시설주소'].str.startswith('강원도')]"
   ]
  },
  {
   "cell_type": "code",
   "execution_count": 66,
   "id": "8dea924b-2f33-40e6-9184-4d2caad2aa04",
   "metadata": {},
   "outputs": [
    {
     "data": {
      "text/plain": [
       "6160"
      ]
     },
     "execution_count": 66,
     "metadata": {},
     "output_type": "execute_result"
    }
   ],
   "source": [
    "len(welfare_care_file)"
   ]
  },
  {
   "cell_type": "code",
   "execution_count": 67,
   "id": "ee5626da-9c45-40ac-92fb-9f904e06d02c",
   "metadata": {},
   "outputs": [],
   "source": [
    "get_welfare_center_name = []\n",
    "get_welfare_center_x_y_location = []\n",
    "get_welfare_center_x = []\n",
    "get_welfare_center_y = []\n",
    "get_welfare_center_classification = []"
   ]
  },
  {
   "cell_type": "code",
   "execution_count": 68,
   "id": "1542ae17-4f71-4ad1-8e1a-d0e9cdfe77e0",
   "metadata": {},
   "outputs": [],
   "source": [
    "welfare_center_address = welfare_care_file['시설주소'].to_list()"
   ]
  },
  {
   "cell_type": "code",
   "execution_count": 69,
   "id": "e71f3682-d670-4f24-9987-d7c963a35dfd",
   "metadata": {},
   "outputs": [],
   "source": [
    "# 첫 번째 처리를 통해 괄호와 쉼표 뒤의 내용 삭제하고 공백도 제거\n",
    "cleaned_addresses_first = [re.sub(r'\\s?\\(.*\\)|\\s?,.*', '', address).strip() for address in welfare_center_address]\n",
    "\n",
    "# 두 번째 처리를 통해 괄호와 쉼표 뒤의 내용이 있는 경우 다시 삭제하고 공백도 제거\n",
    "cleaned_addresses_second = [re.sub(r'\\s?\\(.*\\)|\\s?,.*', '', address).strip() for address in cleaned_addresses_first]\n"
   ]
  },
  {
   "cell_type": "code",
   "execution_count": 70,
   "id": "8bcbeb71-c943-40c9-a41b-396593451c4e",
   "metadata": {},
   "outputs": [
    {
     "name": "stderr",
     "output_type": "stream",
     "text": [
      "100%|███████████████████████████████████████| 6160/6160 [09:13<00:00, 11.14it/s]\n"
     ]
    }
   ],
   "source": [
    "temp_welfare_care_name = welfare_care_file['시설명'].to_list()\n",
    "\n",
    "for i in tqdm(range(len(cleaned_addresses_second))):\n",
    "# for i in tqdm(range(10)):\n",
    "    search_welfare_center_address = cleaned_addresses_second[i]\n",
    "    search_welfare_center_classification = '복지센터'\n",
    "    \n",
    "    temp_latitude, temp_longitude = get_lat_lon_from_address(search_welfare_center_address) \n",
    "    \n",
    "    # NoneType이 아닐 경우에만 언팩 후 처리\n",
    "    if temp_latitude is not None and temp_longitude is not None:\n",
    "        search_welfare_center_location_x_y = f'{temp_latitude}, {temp_longitude}'\n",
    "    \n",
    "        get_welfare_center_name.append(temp_welfare_care_name[i])\n",
    "        get_welfare_center_classification.append(search_welfare_center_classification)\n",
    "        get_welfare_center_x_y_location.append(search_welfare_center_location_x_y)\n",
    "        get_welfare_center_x.append(temp_latitude)\n",
    "        get_welfare_center_y.append(temp_longitude) \n"
   ]
  },
  {
   "cell_type": "code",
   "execution_count": 71,
   "id": "9910da4a-d016-4331-a569-20c0cbd6ae59",
   "metadata": {},
   "outputs": [
    {
     "name": "stdout",
     "output_type": "stream",
     "text": [
      "찾은 시설의 수 : 5970\n"
     ]
    }
   ],
   "source": [
    "print(f\"찾은 시설의 수 : {len(get_welfare_center_name)}\")"
   ]
  },
  {
   "attachments": {
    "0523f7a0-be69-493b-bc97-8a638dd48695.png": {
     "image/png": "[encoded data removed]"
    }
   },
   "cell_type": "markdown",
   "id": "7ddae91e-8f84-4957-b54d-0f7a7e0053b5",
   "metadata": {},
   "source": [
    "- 필터링 없을 시 :\n",
    "  ![스크린샷 2025-03-26 오후 12.24.06.png](attachment:0523f7a0-be69-493b-bc97-8a638dd48695.png)"
   ]
  },
  {
   "cell_type": "markdown",
   "id": "4ff9dd6a-fed4-42a9-8356-22f6ff970ea9",
   "metadata": {},
   "source": [
    "### 복지센터 파일로 저장하기 위한 프레임워크화"
   ]
  },
  {
   "cell_type": "code",
   "execution_count": 72,
   "id": "0c00e274-bca8-4b0d-9b69-e57c94e68cc7",
   "metadata": {},
   "outputs": [],
   "source": [
    "welfare_center_df = pd.DataFrame({\n",
    "    '구분' : get_welfare_center_classification, \n",
    "    '시설명' : get_welfare_center_name, \n",
    "    '위치' : get_welfare_center_x_y_location,\n",
    "    '위도' : get_welfare_center_x,\n",
    "    '경도' : get_welfare_center_y\n",
    "})"
   ]
  },
  {
   "cell_type": "code",
   "execution_count": 73,
   "id": "44f89222-9c0a-4fc5-a1bc-285875e0d95d",
   "metadata": {},
   "outputs": [
    {
     "data": {
      "text/html": [
       "<div>\n",
       "<style scoped>\n",
       "    .dataframe tbody tr th:only-of-type {\n",
       "        vertical-align: middle;\n",
       "    }\n",
       "\n",
       "    .dataframe tbody tr th {\n",
       "        vertical-align: top;\n",
       "    }\n",
       "\n",
       "    .dataframe thead th {\n",
       "        text-align: right;\n",
       "    }\n",
       "</style>\n",
       "<table border=\"1\" class=\"dataframe\">\n",
       "  <thead>\n",
       "    <tr style=\"text-align: right;\">\n",
       "      <th></th>\n",
       "      <th>구분</th>\n",
       "      <th>시설명</th>\n",
       "      <th>위치</th>\n",
       "      <th>위도</th>\n",
       "      <th>경도</th>\n",
       "    </tr>\n",
       "  </thead>\n",
       "  <tbody>\n",
       "    <tr>\n",
       "      <th>0</th>\n",
       "      <td>복지센터</td>\n",
       "      <td>서울꽃동네신내노인요양원</td>\n",
       "      <td>37.616207421698, 127.094974939359</td>\n",
       "      <td>37.616207421698</td>\n",
       "      <td>127.094974939359</td>\n",
       "    </tr>\n",
       "    <tr>\n",
       "      <th>1</th>\n",
       "      <td>복지센터</td>\n",
       "      <td>청운노인요양원</td>\n",
       "      <td>37.6151805464846, 126.954959734242</td>\n",
       "      <td>37.6151805464846</td>\n",
       "      <td>126.954959734242</td>\n",
       "    </tr>\n",
       "    <tr>\n",
       "      <th>2</th>\n",
       "      <td>복지센터</td>\n",
       "      <td>천사노인요양원</td>\n",
       "      <td>37.54669189732, 126.833485621837</td>\n",
       "      <td>37.54669189732</td>\n",
       "      <td>126.833485621837</td>\n",
       "    </tr>\n",
       "    <tr>\n",
       "      <th>3</th>\n",
       "      <td>복지센터</td>\n",
       "      <td>혜명양로원</td>\n",
       "      <td>37.4509802594745, 126.912686049667</td>\n",
       "      <td>37.4509802594745</td>\n",
       "      <td>126.912686049667</td>\n",
       "    </tr>\n",
       "    <tr>\n",
       "      <th>4</th>\n",
       "      <td>복지센터</td>\n",
       "      <td>시립고덕양로원</td>\n",
       "      <td>37.555897393822, 127.146961654533</td>\n",
       "      <td>37.555897393822</td>\n",
       "      <td>127.146961654533</td>\n",
       "    </tr>\n",
       "  </tbody>\n",
       "</table>\n",
       "</div>"
      ],
      "text/plain": [
       "     구분           시설명                                  위치                위도  \\\n",
       "0  복지센터  서울꽃동네신내노인요양원   37.616207421698, 127.094974939359   37.616207421698   \n",
       "1  복지센터       청운노인요양원  37.6151805464846, 126.954959734242  37.6151805464846   \n",
       "2  복지센터       천사노인요양원    37.54669189732, 126.833485621837    37.54669189732   \n",
       "3  복지센터         혜명양로원  37.4509802594745, 126.912686049667  37.4509802594745   \n",
       "4  복지센터       시립고덕양로원   37.555897393822, 127.146961654533   37.555897393822   \n",
       "\n",
       "                 경도  \n",
       "0  127.094974939359  \n",
       "1  126.954959734242  \n",
       "2  126.833485621837  \n",
       "3  126.912686049667  \n",
       "4  127.146961654533  "
      ]
     },
     "execution_count": 73,
     "metadata": {},
     "output_type": "execute_result"
    }
   ],
   "source": [
    "welfare_center_df.head()"
   ]
  },
  {
   "cell_type": "markdown",
   "id": "2fd658ee-8e79-4502-8b1a-402b88969eef",
   "metadata": {},
   "source": [
    "### 학교 위치를 csv 파일로 저장"
   ]
  },
  {
   "cell_type": "code",
   "execution_count": 99,
   "id": "56180309-9f0f-4aeb-86ff-aa80589fde0f",
   "metadata": {},
   "outputs": [],
   "source": [
    "school_df.to_csv(f'{save_file_folder}/서울시_학교_위치.csv', encoding = sava_file_encoding)"
   ]
  },
  {
   "cell_type": "markdown",
   "id": "7ee9ef81-acbd-4130-b9a0-b2dc4cb646e3",
   "metadata": {},
   "source": [
    "### 아동센터 위치를 csv 파일로 저장"
   ]
  },
  {
   "cell_type": "code",
   "execution_count": 100,
   "id": "5b3eafd5-c8a1-4419-aa26-9a64227756d7",
   "metadata": {},
   "outputs": [],
   "source": [
    "children_df.to_csv(f'{save_file_folder}/서울시_아동센터_위치.csv', encoding = sava_file_encoding)"
   ]
  },
  {
   "cell_type": "markdown",
   "id": "1fe525f0-8b2c-4258-8bbf-a4c06dcefaf3",
   "metadata": {},
   "source": [
    "### 어린이집 위치를 csv 파일로 저장"
   ]
  },
  {
   "cell_type": "code",
   "execution_count": 101,
   "id": "386b4209-d71f-48d7-b269-2a84810d5f6f",
   "metadata": {},
   "outputs": [],
   "source": [
    "children_care_df.to_csv(f'{save_file_folder}/서울시_어린이집_위치.csv', encoding = sava_file_encoding)"
   ]
  },
  {
   "cell_type": "markdown",
   "id": "4b5e8a1c-156b-41e6-bd91-5327405c7f3c",
   "metadata": {},
   "source": [
    "### 복지센터 위치를 csv 파일로 저장"
   ]
  },
  {
   "cell_type": "code",
   "execution_count": 102,
   "id": "61990a47-6a18-41f9-9a64-58173a414c95",
   "metadata": {},
   "outputs": [],
   "source": [
    "welfare_center_df.to_csv(f'{save_file_folder}/서울시_복지센터_위치.csv', encoding = sava_file_encoding)"
   ]
  },
  {
   "cell_type": "markdown",
   "id": "82c96f8f-42fa-4932-9bbf-6923acbda8f5",
   "metadata": {},
   "source": [
    "### 통합 파일로 저장하기 위한 데이터값 저장"
   ]
  },
  {
   "cell_type": "code",
   "execution_count": 116,
   "id": "c0846612-a0bb-41be-9b8d-373d5bf4cfbd",
   "metadata": {},
   "outputs": [
    {
     "name": "stdout",
     "output_type": "stream",
     "text": [
      "통합구분 길이 : 0\n",
      "통합좌표 길이 : 0\n",
      "위도좌표 길이 : 0\n",
      "경도좌표 길이 : 0\n",
      "통합이름 길이 : 0\n"
     ]
    }
   ],
   "source": [
    "print(f\"통합구분 길이 : {len(all_list_classification)}\")\n",
    "print(f\"통합좌표 길이 : {len(all_list_location_x_y)}\")\n",
    "print(f\"위도좌표 길이 : {len(all_list_location_x)}\")\n",
    "print(f\"경도좌표 길이 : {len(all_list_location_y)}\")\n",
    "print(f\"통합이름 길이 : {len(all_list_name)}\")"
   ]
  },
  {
   "cell_type": "code",
   "execution_count": 117,
   "id": "69b42dae-d807-4f5b-8009-5f48c8278fe2",
   "metadata": {},
   "outputs": [],
   "source": [
    "# 통합 파일에 학교 정보를 저장\n",
    "for i in range(len(get_school_name)) :\n",
    "    all_list_classification.append('학교')\n",
    "    all_list_location_x_y.append(get_school_location_x_y[i])\n",
    "    all_list_name.append(get_school_name[i])\n",
    "    all_list_location_x.append(get_school_location_x[i])\n",
    "    all_list_location_y.append(get_school_location_y[i])"
   ]
  },
  {
   "cell_type": "code",
   "execution_count": 118,
   "id": "434c886f-1057-4949-a16a-653607778819",
   "metadata": {},
   "outputs": [
    {
     "name": "stdout",
     "output_type": "stream",
     "text": [
      "통합구분 길이 : 1414\n",
      "통합좌표 길이 : 1414\n",
      "위도좌표 길이 : 1414\n",
      "경도좌표 길이 : 1414\n",
      "통합이름 길이 : 1414\n"
     ]
    }
   ],
   "source": [
    "print(f\"통합구분 길이 : {len(all_list_classification)}\")\n",
    "print(f\"통합좌표 길이 : {len(all_list_location_x_y)}\")\n",
    "print(f\"위도좌표 길이 : {len(all_list_location_x)}\")\n",
    "print(f\"경도좌표 길이 : {len(all_list_location_y)}\")\n",
    "print(f\"통합이름 길이 : {len(all_list_name)}\")"
   ]
  },
  {
   "cell_type": "code",
   "execution_count": 119,
   "id": "f5f1194f-3a56-42bf-aac1-08ef329b7cc4",
   "metadata": {},
   "outputs": [],
   "source": [
    "# 통합 파일에 아동센터 정보를 저장\n",
    "for i in range(len(get_children_center_name)) :\n",
    "    all_list_classification.append('아동센터')\n",
    "    all_list_name.append(get_children_center_name[i])\n",
    "    all_list_location_x_y.append(get_children_center_x_y_location[i])\n",
    "    all_list_location_x.append(get_children_center_x[i]) \n",
    "    all_list_location_y.append(get_children_center_y[i]) \n",
    "    "
   ]
  },
  {
   "cell_type": "code",
   "execution_count": 120,
   "id": "ef285093-e2a9-4ace-8ee9-8f85ef4f2be6",
   "metadata": {},
   "outputs": [
    {
     "name": "stdout",
     "output_type": "stream",
     "text": [
      "통합구분 길이 : 1815\n",
      "통합좌표 길이 : 1815\n",
      "위도좌표 길이 : 1815\n",
      "경도좌표 길이 : 1815\n",
      "통합이름 길이 : 1815\n"
     ]
    }
   ],
   "source": [
    "print(f\"통합구분 길이 : {len(all_list_classification)}\")\n",
    "print(f\"통합좌표 길이 : {len(all_list_location_x_y)}\")\n",
    "print(f\"위도좌표 길이 : {len(all_list_location_x)}\")\n",
    "print(f\"경도좌표 길이 : {len(all_list_location_y)}\")\n",
    "print(f\"통합이름 길이 : {len(all_list_name)}\")"
   ]
  },
  {
   "cell_type": "code",
   "execution_count": 121,
   "id": "a0344cd4-cf9f-4674-81cd-8fdaecf0f493",
   "metadata": {},
   "outputs": [],
   "source": [
    "# 통합 파일에 어린이집 정보를 저장\n",
    "for i in range(len(get_children_care_name)) :\n",
    "    all_list_classification.append('어린이집')\n",
    "    all_list_name.append(get_children_care_name[i])\n",
    "    all_list_location_x_y.append(get_children_care_location_x_y[i])\n",
    "    all_list_location_x.append(get_children_care_location_x[i]) \n",
    "    all_list_location_y.append(get_children_care_location_y[i]) \n",
    "    "
   ]
  },
  {
   "cell_type": "code",
   "execution_count": 122,
   "id": "4cccd267-2022-4d7a-b2be-aae0bc8b5117",
   "metadata": {},
   "outputs": [
    {
     "name": "stdout",
     "output_type": "stream",
     "text": [
      "통합구분 길이 : 5938\n",
      "통합좌표 길이 : 5938\n",
      "위도좌표 길이 : 5938\n",
      "경도좌표 길이 : 5938\n",
      "통합이름 길이 : 5938\n"
     ]
    }
   ],
   "source": [
    "print(f\"통합구분 길이 : {len(all_list_classification)}\")\n",
    "print(f\"통합좌표 길이 : {len(all_list_location_x_y)}\")\n",
    "print(f\"위도좌표 길이 : {len(all_list_location_x)}\")\n",
    "print(f\"경도좌표 길이 : {len(all_list_location_y)}\")\n",
    "print(f\"통합이름 길이 : {len(all_list_name)}\")"
   ]
  },
  {
   "cell_type": "code",
   "execution_count": 123,
   "id": "2249be60-a1d0-4844-8b67-31bb4c8252b3",
   "metadata": {},
   "outputs": [],
   "source": [
    "# 통합 파일에 복지센터 정보를 저장\n",
    "for i in range(len(get_welfare_center_name)) :\n",
    "    all_list_classification.append('복지센터')\n",
    "    all_list_name.append(get_welfare_center_name[i])\n",
    "    all_list_location_x_y.append(get_welfare_center_x_y_location[i])\n",
    "    all_list_location_x.append(get_welfare_center_x[i]) \n",
    "    all_list_location_y.append(get_welfare_center_y[i]) "
   ]
  },
  {
   "cell_type": "code",
   "execution_count": 124,
   "id": "a29cf2a8-2728-4437-ba49-0a575805ac43",
   "metadata": {},
   "outputs": [
    {
     "name": "stdout",
     "output_type": "stream",
     "text": [
      "통합구분 길이 : 11908\n",
      "통합좌표 길이 : 11908\n",
      "위도좌표 길이 : 11908\n",
      "경도좌표 길이 : 11908\n",
      "통합이름 길이 : 11908\n"
     ]
    }
   ],
   "source": [
    "print(f\"통합구분 길이 : {len(all_list_classification)}\")\n",
    "print(f\"통합좌표 길이 : {len(all_list_location_x_y)}\")\n",
    "print(f\"위도좌표 길이 : {len(all_list_location_x)}\")\n",
    "print(f\"경도좌표 길이 : {len(all_list_location_y)}\")\n",
    "print(f\"통합이름 길이 : {len(all_list_name)}\")"
   ]
  },
  {
   "cell_type": "markdown",
   "id": "85de57b1-53ff-4a21-9d0e-5618ee1f8810",
   "metadata": {},
   "source": [
    "### 통합 데이터 파일을 csv 파일로 저장"
   ]
  },
  {
   "cell_type": "code",
   "execution_count": 125,
   "id": "ce1b36d0-b809-44f7-850f-1aa6a8663c7b",
   "metadata": {},
   "outputs": [
    {
     "name": "stdout",
     "output_type": "stream",
     "text": [
      "저장 성공\n"
     ]
    }
   ],
   "source": [
    "# 통합 데이터 저장\n",
    "\n",
    "all_list_df = pd.DataFrame({\n",
    "    '시설_구분' : all_list_classification,\n",
    "    '시설_이름' : all_list_name,\n",
    "    '시설_위치' : all_list_location_x_y,\n",
    "    '위도' : all_list_location_x,\n",
    "    '경도' : all_list_location_y\n",
    "})\n",
    "\n",
    "try :\n",
    "    all_list_df.to_csv(f'{folder_name_2}/(최종)_서울시_모든_시설의_위치.csv', encoding = sava_file_encoding)\n",
    "    print(f'저장 성공')\n",
    "except OSError as e :\n",
    "    print(e)"
   ]
  },
  {
   "cell_type": "code",
   "execution_count": 126,
   "id": "92fa43a2-d5c4-48b4-af90-0ef1d71c286e",
   "metadata": {},
   "outputs": [
    {
     "name": "stdout",
     "output_type": "stream",
     "text": [
      "시스템 종료\n"
     ]
    }
   ],
   "source": [
    "print(f'시스템 종료')"
   ]
  },
  {
   "cell_type": "code",
   "execution_count": 127,
   "id": "1a00e5eb-eda6-4691-9654-764a1b582a77",
   "metadata": {},
   "outputs": [
    {
     "data": {
      "text/html": [
       "<div>\n",
       "<style scoped>\n",
       "    .dataframe tbody tr th:only-of-type {\n",
       "        vertical-align: middle;\n",
       "    }\n",
       "\n",
       "    .dataframe tbody tr th {\n",
       "        vertical-align: top;\n",
       "    }\n",
       "\n",
       "    .dataframe thead th {\n",
       "        text-align: right;\n",
       "    }\n",
       "</style>\n",
       "<table border=\"1\" class=\"dataframe\">\n",
       "  <thead>\n",
       "    <tr style=\"text-align: right;\">\n",
       "      <th></th>\n",
       "      <th>시설_구분</th>\n",
       "      <th>시설_이름</th>\n",
       "      <th>시설_위치</th>\n",
       "      <th>위도</th>\n",
       "      <th>경도</th>\n",
       "    </tr>\n",
       "  </thead>\n",
       "  <tbody>\n",
       "    <tr>\n",
       "      <th>0</th>\n",
       "      <td>학교</td>\n",
       "      <td>선화예술중학교</td>\n",
       "      <td>37.5509798002896, 127.087095159462</td>\n",
       "      <td>37.5509798002896</td>\n",
       "      <td>127.087095159462</td>\n",
       "    </tr>\n",
       "    <tr>\n",
       "      <th>1</th>\n",
       "      <td>학교</td>\n",
       "      <td>서울숭신초등학교</td>\n",
       "      <td>37.5676883077439, 127.028005141452</td>\n",
       "      <td>37.5676883077439</td>\n",
       "      <td>127.028005141452</td>\n",
       "    </tr>\n",
       "    <tr>\n",
       "      <th>2</th>\n",
       "      <td>학교</td>\n",
       "      <td>행당중학교</td>\n",
       "      <td>37.5545540364985, 127.041963387397</td>\n",
       "      <td>37.5545540364985</td>\n",
       "      <td>127.041963387397</td>\n",
       "    </tr>\n",
       "    <tr>\n",
       "      <th>3</th>\n",
       "      <td>학교</td>\n",
       "      <td>한양대학교사범대학부속중학교</td>\n",
       "      <td>37.5619188387132, 127.042324044658</td>\n",
       "      <td>37.5619188387132</td>\n",
       "      <td>127.042324044658</td>\n",
       "    </tr>\n",
       "    <tr>\n",
       "      <th>4</th>\n",
       "      <td>학교</td>\n",
       "      <td>자양중학교</td>\n",
       "      <td>37.5357298982053, 127.074368913785</td>\n",
       "      <td>37.5357298982053</td>\n",
       "      <td>127.074368913785</td>\n",
       "    </tr>\n",
       "    <tr>\n",
       "      <th>...</th>\n",
       "      <td>...</td>\n",
       "      <td>...</td>\n",
       "      <td>...</td>\n",
       "      <td>...</td>\n",
       "      <td>...</td>\n",
       "    </tr>\n",
       "    <tr>\n",
       "      <th>11903</th>\n",
       "      <td>복지센터</td>\n",
       "      <td>(주)휴복지법인 주간보호센터</td>\n",
       "      <td>37.6455829877, 127.006902843718</td>\n",
       "      <td>37.6455829877</td>\n",
       "      <td>127.006902843718</td>\n",
       "    </tr>\n",
       "    <tr>\n",
       "      <th>11904</th>\n",
       "      <td>복지센터</td>\n",
       "      <td>이삭요양원</td>\n",
       "      <td>37.4530428916984, 126.901712234507</td>\n",
       "      <td>37.4530428916984</td>\n",
       "      <td>126.901712234507</td>\n",
       "    </tr>\n",
       "    <tr>\n",
       "      <th>11905</th>\n",
       "      <td>복지센터</td>\n",
       "      <td>양천구육아종합지원센터</td>\n",
       "      <td>37.5159760603841, 126.86385454407</td>\n",
       "      <td>37.5159760603841</td>\n",
       "      <td>126.86385454407</td>\n",
       "    </tr>\n",
       "    <tr>\n",
       "      <th>11906</th>\n",
       "      <td>복지센터</td>\n",
       "      <td>노원구가족센터</td>\n",
       "      <td>37.622472985362, 127.072639104136</td>\n",
       "      <td>37.622472985362</td>\n",
       "      <td>127.072639104136</td>\n",
       "    </tr>\n",
       "    <tr>\n",
       "      <th>11907</th>\n",
       "      <td>복지센터</td>\n",
       "      <td>평화재가복지센터</td>\n",
       "      <td>37.5726826664398, 127.058939547112</td>\n",
       "      <td>37.5726826664398</td>\n",
       "      <td>127.058939547112</td>\n",
       "    </tr>\n",
       "  </tbody>\n",
       "</table>\n",
       "<p>11908 rows × 5 columns</p>\n",
       "</div>"
      ],
      "text/plain": [
       "      시설_구분            시설_이름                               시설_위치  \\\n",
       "0        학교          선화예술중학교  37.5509798002896, 127.087095159462   \n",
       "1        학교         서울숭신초등학교  37.5676883077439, 127.028005141452   \n",
       "2        학교            행당중학교  37.5545540364985, 127.041963387397   \n",
       "3        학교   한양대학교사범대학부속중학교  37.5619188387132, 127.042324044658   \n",
       "4        학교            자양중학교  37.5357298982053, 127.074368913785   \n",
       "...     ...              ...                                 ...   \n",
       "11903  복지센터  (주)휴복지법인 주간보호센터     37.6455829877, 127.006902843718   \n",
       "11904  복지센터            이삭요양원  37.4530428916984, 126.901712234507   \n",
       "11905  복지센터      양천구육아종합지원센터   37.5159760603841, 126.86385454407   \n",
       "11906  복지센터          노원구가족센터   37.622472985362, 127.072639104136   \n",
       "11907  복지센터         평화재가복지센터  37.5726826664398, 127.058939547112   \n",
       "\n",
       "                     위도                경도  \n",
       "0      37.5509798002896  127.087095159462  \n",
       "1      37.5676883077439  127.028005141452  \n",
       "2      37.5545540364985  127.041963387397  \n",
       "3      37.5619188387132  127.042324044658  \n",
       "4      37.5357298982053  127.074368913785  \n",
       "...                 ...               ...  \n",
       "11903     37.6455829877  127.006902843718  \n",
       "11904  37.4530428916984  126.901712234507  \n",
       "11905  37.5159760603841   126.86385454407  \n",
       "11906   37.622472985362  127.072639104136  \n",
       "11907  37.5726826664398  127.058939547112  \n",
       "\n",
       "[11908 rows x 5 columns]"
      ]
     },
     "execution_count": 127,
     "metadata": {},
     "output_type": "execute_result"
    }
   ],
   "source": [
    "all_list_df"
   ]
  },
  {
   "cell_type": "code",
   "execution_count": null,
   "id": "06c15934-e5dd-4442-b370-8cdc16f5b720",
   "metadata": {},
   "outputs": [],
   "source": []
  },
  {
   "cell_type": "code",
   "execution_count": null,
   "id": "89d45f28-c6fc-4271-a3be-b5fb7d6027a4",
   "metadata": {},
   "outputs": [],
   "source": []
  },
  {
   "cell_type": "code",
   "execution_count": null,
   "id": "89e3c52d-4b12-4e73-b215-b230045ea2cf",
   "metadata": {},
   "outputs": [],
   "source": []
  },
  {
   "cell_type": "code",
   "execution_count": null,
   "id": "eea78d76-26fe-4a98-b686-2d42b630a427",
   "metadata": {},
   "outputs": [],
   "source": []
  },
  {
   "cell_type": "code",
   "execution_count": null,
   "id": "66f01ad5-3e93-4f0e-b941-ad36266481bf",
   "metadata": {},
   "outputs": [],
   "source": []
  },
  {
   "cell_type": "code",
   "execution_count": null,
   "id": "e8b5a17a-31c2-454a-8f77-eb1bef7cfe21",
   "metadata": {},
   "outputs": [],
   "source": []
  }
 ],
 "metadata": {
  "kernelspec": {
   "display_name": "Python 3 (ipykernel)",
   "language": "python",
   "name": "python3"
  },
  "language_info": {
   "codemirror_mode": {
    "name": "ipython",
    "version": 3
   },
   "file_extension": ".py",
   "mimetype": "text/x-python",
   "name": "python",
   "nbconvert_exporter": "python",
   "pygments_lexer": "ipython3",
   "version": "3.13.2"
  }
 },
 "nbformat": 4,
 "nbformat_minor": 5
}
