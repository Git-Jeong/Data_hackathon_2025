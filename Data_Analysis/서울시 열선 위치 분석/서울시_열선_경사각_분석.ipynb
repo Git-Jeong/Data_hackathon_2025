{
 "cells": [
  {
   "cell_type": "code",
   "execution_count": 1,
   "id": "bf728c33-ee27-46e3-baaa-008a19519cf4",
   "metadata": {},
   "outputs": [],
   "source": [
    "import pandas as pd"
   ]
  },
  {
   "cell_type": "code",
   "execution_count": 8,
   "id": "387dd5b8-c907-4599-bcae-3ae319862bc0",
   "metadata": {},
   "outputs": [],
   "source": [
    "url = \"./make_file/(위경도)_서울시_도로_정리(기점_종점).csv\""
   ]
  },
  {
   "cell_type": "code",
   "execution_count": 9,
   "id": "2cb2f7b4-e2b7-4c5c-b65a-a27603bc9512",
   "metadata": {},
   "outputs": [],
   "source": [
    "data = pd.read_csv(url)"
   ]
  },
  {
   "cell_type": "code",
   "execution_count": 10,
   "id": "5dfa89e2-4b97-4b8e-8509-08507682dc88",
   "metadata": {},
   "outputs": [
    {
     "data": {
      "text/plain": [
       "Index(['Unnamed: 0', '시점_위도', '시점_경도', '종점_위도', '종점_경도', '길이'], dtype='object')"
      ]
     },
     "execution_count": 10,
     "metadata": {},
     "output_type": "execute_result"
    }
   ],
   "source": [
    "data.columns"
   ]
  },
  {
   "cell_type": "code",
   "execution_count": 11,
   "id": "c9e20a47-3a65-4c99-9b84-a9d531db3105",
   "metadata": {},
   "outputs": [],
   "source": [
    "try :\n",
    "    data = data.drop(columns='Unnamed: 0')\n",
    "except KeyError as e :\n",
    "    print(e)"
   ]
  },
  {
   "cell_type": "code",
   "execution_count": 12,
   "id": "21f8e040-5f58-4a23-8550-e14f0dd83223",
   "metadata": {},
   "outputs": [
    {
     "data": {
      "text/plain": [
       "Index(['시점_위도', '시점_경도', '종점_위도', '종점_경도', '길이'], dtype='object')"
      ]
     },
     "execution_count": 12,
     "metadata": {},
     "output_type": "execute_result"
    }
   ],
   "source": [
    "data.columns"
   ]
  },
  {
   "cell_type": "code",
   "execution_count": 13,
   "id": "26d94698-061c-4b43-bc44-e1b7d4e9f786",
   "metadata": {},
   "outputs": [],
   "source": [
    "start_latitude = data['시점_위도'].to_list()\n",
    "start_longitude = data['시점_경도'].to_list()\n",
    "\n",
    "end_latitude = data['종점_위도'].to_list()\n",
    "end_longitude = data['종점_경도'].to_list()\n",
    "\n",
    "start_altitude = []\n",
    "end_altitude = []"
   ]
  },
  {
   "cell_type": "code",
   "execution_count": 14,
   "id": "cb6f76fe-fa60-4f50-961c-1af737fa6026",
   "metadata": {},
   "outputs": [
    {
     "name": "stdout",
     "output_type": "stream",
     "text": [
      "144\n",
      "144\n",
      "144\n",
      "144\n"
     ]
    }
   ],
   "source": [
    "print(len(start_latitude))\n",
    "print(len(start_longitude))\n",
    "print(len(end_latitude))\n",
    "print(len(end_longitude))"
   ]
  },
  {
   "cell_type": "markdown",
   "id": "c0f6657a-dbbb-4798-91a6-d09fc6862ac3",
   "metadata": {},
   "source": [
    "## GOOGLE API"
   ]
  },
  {
   "cell_type": "code",
   "execution_count": 15,
   "id": "3c36e435-3d8b-4b64-bb7f-f06e16595147",
   "metadata": {},
   "outputs": [
    {
     "data": {
      "text/plain": [
       "사이트\n",
       "공공데이터                 1\n",
       "kakao_api_key_REST    1\n",
       "카카오 JS                1\n",
       "국토부v-world            1\n",
       "GOOGLE_MAP            1\n",
       "Name: count, dtype: int64"
      ]
     },
     "execution_count": 15,
     "metadata": {},
     "output_type": "execute_result"
    }
   ],
   "source": [
    "api_key_url = '../API_KEY/API_KEYS.xlsx'\n",
    "open_api_key_file = pd.read_excel(api_key_url)\n",
    " \n",
    "open_api_key_file['사이트'].value_counts()\n"
   ]
  },
  {
   "cell_type": "code",
   "execution_count": 16,
   "id": "c1aa9150-8abb-485f-8636-22007ff46efc",
   "metadata": {},
   "outputs": [],
   "source": [
    "GOOGLE_API_KEY = open_api_key_file[open_api_key_file['사이트'] == 'GOOGLE_MAP'].values[0][1]  "
   ]
  },
  {
   "cell_type": "code",
   "execution_count": 17,
   "id": "45f28a45-325f-465c-975f-edf4b5aee42b",
   "metadata": {},
   "outputs": [],
   "source": [
    "import requests\n",
    "import time\n",
    "import pandas as pd \n",
    "\n",
    "# Google Elevation API 호출 함수\n",
    "def google_api(latitudes, longitudes, mode):\n",
    "    global start_altitude, end_altitude\n",
    "    \n",
    "    url = f\"https://maps.googleapis.com/maps/api/elevation/json?key={GOOGLE_API_KEY}\"\n",
    "\n",
    "    locations = list(zip(latitudes, longitudes))  # (위도, 경도) 쌍 리스트\n",
    "    \n",
    "    for i in range(0, len(locations), 512):  # 최대 512개씩 요청\n",
    "        batch_locations = locations[i:i+512]\n",
    "        locations_param = '|'.join([f\"{lat},{lon}\" for lat, lon in batch_locations])\n",
    "        full_url = f\"{url}&locations={locations_param}\"\n",
    "        \n",
    "        response = requests.get(full_url)\n",
    "            \n",
    "        if response.status_code == 200:\n",
    "            data = response.json()\n",
    "            if data['status'] == 'OK':\n",
    "                elevations = [result['elevation'] for result in data['results']]   \n",
    "            \n",
    "                if mode == 'start':\n",
    "                    start_altitude.extend(elevations)\n",
    "                elif mode == 'end':\n",
    "                    end_altitude.extend(elevations)\n",
    "            else:\n",
    "                print(\"Error in response:\", data['status'])\n",
    "        else:\n",
    "            print(\"API 호출 실패:\", response.status_code)\n",
    "\n",
    "        time.sleep(0.1)  # API 호출 간 지연 시간"
   ]
  },
  {
   "cell_type": "code",
   "execution_count": 18,
   "id": "8a258b40-861a-425d-bc3d-13da0e575509",
   "metadata": {},
   "outputs": [
    {
     "name": "stdout",
     "output_type": "stream",
     "text": [
      "전) 기점 고도 길이 : 0\n",
      "전) 종점 고도 길이 : 0\n"
     ]
    }
   ],
   "source": [
    "print(f'전) 기점 고도 길이 : {len(start_altitude)}') \n",
    "\n",
    "print(f'전) 종점 고도 길이 : {len(end_altitude)}') "
   ]
  },
  {
   "cell_type": "code",
   "execution_count": 20,
   "id": "37902b8e-b3b6-4aab-8fab-f55550bcd5a9",
   "metadata": {},
   "outputs": [
    {
     "name": "stdout",
     "output_type": "stream",
     "text": [
      "기점의 고도값 불러오기\n",
      "시작\n",
      "종료\n"
     ]
    }
   ],
   "source": [
    "# API 호출 (start)\n",
    "print(f'기점의 고도값 불러오기')\n",
    "print(f'시작')\n",
    "google_api(start_latitude, start_longitude, 'start') \n",
    "print(f'종료')"
   ]
  },
  {
   "cell_type": "code",
   "execution_count": 19,
   "id": "7f17dbc4-330d-4555-a8ed-f135fc2a9980",
   "metadata": {},
   "outputs": [
    {
     "name": "stdout",
     "output_type": "stream",
     "text": [
      "종점의 고도값 불러오기\n",
      "시작\n",
      "종료\n"
     ]
    }
   ],
   "source": [
    "# API 호출 (end)\n",
    "print(f'종점의 고도값 불러오기')\n",
    "print(f'시작')\n",
    "google_api(end_latitude, end_longitude, 'end')\n",
    "print(f'종료')"
   ]
  },
  {
   "cell_type": "code",
   "execution_count": 21,
   "id": "3238e551-4b56-4f1f-a0c0-64e39332519e",
   "metadata": {},
   "outputs": [
    {
     "name": "stdout",
     "output_type": "stream",
     "text": [
      "후) 기점 고도 길이 : 144\n",
      "후) 종점 고도 길이 : 144\n",
      "결과의 길이가 같습니다.\n",
      "성공적으로 처리되었습니다.\n"
     ]
    }
   ],
   "source": [
    "print(f'후) 기점 고도 길이 : {len(start_altitude)}') \n",
    "print(f'후) 종점 고도 길이 : {len(end_altitude)}') \n",
    "\n",
    "if (len(start_altitude) == len(end_altitude)) and (len(start_altitude) > 0) :\n",
    "    print(f'결과의 길이가 같습니다.')\n",
    "    print(f'성공적으로 처리되었습니다.')\n",
    "else :\n",
    "    print(f'데이터 처리에 실패했습니다...')"
   ]
  },
  {
   "cell_type": "code",
   "execution_count": 22,
   "id": "5effab66-c18b-47e4-92ca-02e373205287",
   "metadata": {},
   "outputs": [
    {
     "name": "stdout",
     "output_type": "stream",
     "text": [
      "144\n"
     ]
    }
   ],
   "source": [
    "altitude_difference = []\n",
    "\n",
    "for i in range(len(start_altitude)) :\n",
    "    result = abs(start_altitude[i] - end_altitude[i]) \n",
    "    altitude_difference.append(result)\n",
    "\n",
    "print(len(altitude_difference))"
   ]
  },
  {
   "cell_type": "code",
   "execution_count": 23,
   "id": "744eaf49-e513-49d8-8fd0-d8fb1428446e",
   "metadata": {},
   "outputs": [],
   "source": [
    "# 결과 데이터 추가 및 저장\n",
    "data['시작점_고도'] = start_altitude\n",
    "data['종료점_고도'] = end_altitude\n",
    "data['고도의_차이'] = altitude_difference"
   ]
  },
  {
   "cell_type": "code",
   "execution_count": 28,
   "id": "5d2a201f-c780-40be-b57c-de61062a1d6d",
   "metadata": {},
   "outputs": [
    {
     "data": {
      "text/plain": [
       "Index(['시점_위도', '시점_경도', '종점_위도', '종점_경도', '길이', '시작점_고도', '종료점_고도', '고도의_차이'], dtype='object')"
      ]
     },
     "execution_count": 28,
     "metadata": {},
     "output_type": "execute_result"
    }
   ],
   "source": [
    "data.columns"
   ]
  },
  {
   "cell_type": "code",
   "execution_count": 29,
   "id": "d9749d9c-d1ae-452d-b475-da4f2b744b2c",
   "metadata": {},
   "outputs": [],
   "source": [
    "start_lat = data['시점_위도'].to_list()\n",
    "start_lon = data['시점_경도'].to_list()\n",
    "end_lat = data['종점_위도'].to_list()\n",
    "end_lon = data['종점_경도'].to_list()\n",
    "different_alt = data['고도의_차이'].to_list()"
   ]
  },
  {
   "cell_type": "code",
   "execution_count": 30,
   "id": "c7c5d515-9cf7-400f-9e8e-8f7e9f4b9bbe",
   "metadata": {},
   "outputs": [
    {
     "name": "stdout",
     "output_type": "stream",
     "text": [
      "start_lat 길이 : 144\n",
      "start_lon 길이 : 144\n",
      "end_lat 길이 : 144\n",
      "end_lon 길이 : 144\n",
      "different_alt 길이 : 144\n"
     ]
    }
   ],
   "source": [
    "print(f'start_lat 길이 : {len(start_lat)}')\n",
    "print(f'start_lon 길이 : {len(start_lon)}')\n",
    "print(f'end_lat 길이 : {len(end_lat)}')\n",
    "print(f'end_lon 길이 : {len(end_lon)}')\n",
    "print(f'different_alt 길이 : {len(different_alt)}')"
   ]
  },
  {
   "cell_type": "code",
   "execution_count": 31,
   "id": "53f5bd5c-092b-4614-95e8-37fb95e54a02",
   "metadata": {},
   "outputs": [],
   "source": [
    "import math\n",
    "\n",
    "# 지구 반지름 (미터)\n",
    "R = 6371000   "
   ]
  },
  {
   "cell_type": "code",
   "execution_count": 32,
   "id": "13eec67e-4ce0-4e9a-83d2-d5ef2e5e22aa",
   "metadata": {},
   "outputs": [],
   "source": [
    "# 결과 저장 리스트\n",
    "road_slope = []"
   ]
  },
  {
   "cell_type": "code",
   "execution_count": 33,
   "id": "bee89d32-487d-4465-bcd4-af80ea9ec232",
   "metadata": {},
   "outputs": [
    {
     "name": "stdout",
     "output_type": "stream",
     "text": [
      "Point 1: d = 153.0020 m, h = 31.7527 m, θ = 11.7242°\n",
      "Point 2: d = 434.7030 m, h = 38.3723 m, θ = 5.0446°\n",
      "Point 3: d = 289.7552 m, h = 39.9972 m, θ = 7.8593°\n",
      "Point 4: d = 198.7964 m, h = 35.2075 m, θ = 10.0431°\n",
      "Point 5: d = 307.6295 m, h = 6.5866 m, θ = 1.2266°\n"
     ]
    }
   ],
   "source": [
    "for i in range(len(start_lat)):\n",
    "    # 위경도를 라디안으로 변환\n",
    "    lat1, lon1, lat2, lon2 = map(math.radians, [start_lat[i], start_lon[i], end_lat[i], end_lon[i]])\n",
    "\n",
    "    # 위도, 경도의 차이\n",
    "    dlat = lat2 - lat1\n",
    "    dlon = lon2 - lon1\n",
    "\n",
    "    # Haversine 공식으로 수평 거리(d) 계산\n",
    "    a = math.sin(dlat/2)**2 + math.cos(lat1) * math.cos(lat2) * math.sin(dlon/2)**2\n",
    "    c = 2 * math.atan2(math.sqrt(a), math.sqrt(1-a))\n",
    "    d = R * c  # 두 지점 간 수평 거리 (m)\n",
    "\n",
    "    # 고도 차이 (h)\n",
    "    h = different_alt[i]  \n",
    "\n",
    "    # 경사각(θ) 계산 (라디안 → 도 변환)\n",
    "    theta = math.degrees(math.atan2(h, d))\n",
    "\n",
    "    # 결과 저장\n",
    "    road_slope.append(theta)\n",
    "\n",
    "    if(i < 5) :\n",
    "        # 디버깅 출력\n",
    "        print(f\"Point {i + 1}: d = {d:.4f} m, h = {h:.4f} m, θ = {theta:.4f}°\")\n"
   ]
  },
  {
   "cell_type": "code",
   "execution_count": 34,
   "id": "a1831030-a107-4778-9713-db0d983fb1a2",
   "metadata": {},
   "outputs": [
    {
     "name": "stdout",
     "output_type": "stream",
     "text": [
      "변환한 road_slope의 길이 : 144\n"
     ]
    }
   ],
   "source": [
    "print(f'변환한 road_slope의 길이 : {len(road_slope)}')"
   ]
  },
  {
   "cell_type": "code",
   "execution_count": 35,
   "id": "a9c9c6cc-888a-4989-9236-5f328a6e4624",
   "metadata": {},
   "outputs": [],
   "source": [
    "new_add_df = pd.DataFrame({\n",
    "    '경사각' : road_slope\n",
    "})"
   ]
  },
  {
   "cell_type": "code",
   "execution_count": 36,
   "id": "a79c8005-7b88-4eb0-830f-b080a5d2a1e9",
   "metadata": {},
   "outputs": [],
   "source": [
    "data['경사각'] = new_add_df"
   ]
  },
  {
   "cell_type": "code",
   "execution_count": 37,
   "id": "35d3c829-4a33-40c1-a8d3-6b40c19c2edc",
   "metadata": {},
   "outputs": [
    {
     "data": {
      "text/plain": [
       "Index(['시점_위도', '시점_경도', '종점_위도', '종점_경도', '길이', '시작점_고도', '종료점_고도', '고도의_차이',\n",
       "       '경사각'],\n",
       "      dtype='object')"
      ]
     },
     "execution_count": 37,
     "metadata": {},
     "output_type": "execute_result"
    }
   ],
   "source": [
    "data.columns"
   ]
  },
  {
   "cell_type": "code",
   "execution_count": 38,
   "id": "8f7ba36d-acbf-410d-94b0-c123a3f5debf",
   "metadata": {},
   "outputs": [
    {
     "data": {
      "text/plain": [
       "0      11.724227\n",
       "1       5.044559\n",
       "2       7.859327\n",
       "3      10.043141\n",
       "4       1.226563\n",
       "         ...    \n",
       "139     1.485426\n",
       "140     1.410358\n",
       "141     0.365226\n",
       "142     2.663688\n",
       "143     3.676672\n",
       "Name: 경사각, Length: 144, dtype: float64"
      ]
     },
     "execution_count": 38,
     "metadata": {},
     "output_type": "execute_result"
    }
   ],
   "source": [
    "data['경사각']"
   ]
  },
  {
   "cell_type": "code",
   "execution_count": 41,
   "id": "e8f02363-7db8-4b21-b30e-72057f2c4a34",
   "metadata": {},
   "outputs": [
    {
     "name": "stdout",
     "output_type": "stream",
     "text": [
      "./make_file/열선_위경도값(중앙값_고도_경사각_포함).csv 저장 완료\n"
     ]
    }
   ],
   "source": [
    "try :\n",
    "    save_data_url = './make_file/열선_위경도값(중앙값_고도_경사각_포함).csv'\n",
    "    data.to_csv(save_data_url, encoding='euc-kr')\n",
    "    print(f\"{save_data_url} 저장 완료\")\n",
    "except :\n",
    "    print(\"err\") "
   ]
  },
  {
   "cell_type": "code",
   "execution_count": null,
   "id": "ae0c826a-80a3-456f-b18a-1c6a4f22e349",
   "metadata": {},
   "outputs": [],
   "source": []
  }
 ],
 "metadata": {
  "kernelspec": {
   "display_name": "Python 3 (ipykernel)",
   "language": "python",
   "name": "python3"
  },
  "language_info": {
   "codemirror_mode": {
    "name": "ipython",
    "version": 3
   },
   "file_extension": ".py",
   "mimetype": "text/x-python",
   "name": "python",
   "nbconvert_exporter": "python",
   "pygments_lexer": "ipython3",
   "version": "3.13.2"
  }
 },
 "nbformat": 4,
 "nbformat_minor": 5
}
