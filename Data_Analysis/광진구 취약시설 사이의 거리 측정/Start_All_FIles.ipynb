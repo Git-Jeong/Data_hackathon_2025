{
 "cells": [
  {
   "cell_type": "code",
   "execution_count": null,
   "id": "a4a9f454-b5eb-4f79-a212-2504a2d662bb",
   "metadata": {},
   "outputs": [],
   "source": [
    "try :\n",
    "    !jupyter nbconvert --to notebook --execute --output KDTree_기반_도로_취약시설_거리측정.ipynb KDTree_기반_도로_취약시설_거리측정.ipynb\n",
    "    !jupyter nbconvert --to notebook --execute --output KDTree_기반_열선_취약시설_거리측정.ipynb KDTree_기반_열선_취약시설_거리측정.ipynb\n",
    "    !jupyter nbconvert --to notebook --execute --output 두_데이터_파일을_통합.ipynb 두_데이터_파일을_통합.ipynb\n",
    "    print(f'끝')\n",
    "except :sw\n",
    "    print('err')"
   ]
  }
 ],
 "metadata": {
  "kernelspec": {
   "display_name": "Python 3 (ipykernel)",
   "language": "python",
   "name": "python3"
  },
  "language_info": {
   "codemirror_mode": {
    "name": "ipython",
    "version": 3
   },
   "file_extension": ".py",
   "mimetype": "text/x-python",
   "name": "python",
   "nbconvert_exporter": "python",
   "pygments_lexer": "ipython3",
   "version": "3.13.2"
  }
 },
 "nbformat": 4,
 "nbformat_minor": 5
}
